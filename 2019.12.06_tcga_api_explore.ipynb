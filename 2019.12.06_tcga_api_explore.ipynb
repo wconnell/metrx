{
 "cells": [
  {
   "cell_type": "code",
   "execution_count": 83,
   "metadata": {},
   "outputs": [],
   "source": [
    "import requests\n",
    "import json\n",
    "import re\n",
    "\n",
    "files_endpt = \"https://api.gdc.cancer.gov/files\"\n",
    "\n",
    "filters = {\n",
    "    \"op\": \"and\",\n",
    "    \"content\":[\n",
    "        {\n",
    "        \"op\": \"in\",\n",
    "        \"content\":{\n",
    "            \"field\": \"cases.project.primary_site\",\n",
    "            \"value\": [\"Pancreas\"]\n",
    "            }\n",
    "        },\n",
    "        {\n",
    "        \"op\": \"in\",\n",
    "        \"content\":{\n",
    "            \"field\": \"files.analysis.workflow_type\",\n",
    "            \"value\": [\"HTSeq - FPKM\"]\n",
    "            }\n",
    "        }\n",
    "    ]\n",
    "}\n",
    "\n",
    "# Here a GET is used, so the filter parameters should be passed as a JSON string.\n",
    "\n",
    "params = {\n",
    "    \"filters\": json.dumps(filters),\n",
    "    \"fields\": \"file_id\",\n",
    "    \"format\": \"JSON\",\n",
    "    \"size\": \"1000\"\n",
    "    }\n",
    "\n",
    "response = requests.get(files_endpt, params = params)\n",
    "\n",
    "file_uuid_list = []\n",
    "\n",
    "# This step populates the download list with the file_ids from the previous query\n",
    "for file_entry in json.loads(response.content.decode(\"utf-8\"))[\"data\"][\"hits\"]:\n",
    "    file_uuid_list.append(file_entry[\"file_id\"])\n",
    "\n",
    "data_endpt = \"https://api.gdc.cancer.gov/data\"\n",
    "\n",
    "params = {\"ids\": file_uuid_list}\n",
    "\n",
    "response = requests.post(data_endpt, data = json.dumps(params), headers = {\"Content-Type\": \"application/json\"})\n",
    "\n",
    "response_head_cd = response.headers[\"Content-Disposition\"]\n"
   ]
  },
  {
   "cell_type": "code",
   "execution_count": 84,
   "metadata": {},
   "outputs": [
    {
     "data": {
      "text/plain": [
       "182"
      ]
     },
     "execution_count": 84,
     "metadata": {},
     "output_type": "execute_result"
    }
   ],
   "source": [
    "len(file_uuid_list)"
   ]
  },
  {
   "cell_type": "code",
   "execution_count": 85,
   "metadata": {},
   "outputs": [],
   "source": [
    "file_name = '../data/TCGA/api/TCGA_PAAD_' + re.findall(\"filename=(.+)\", response_head_cd)[0]"
   ]
  },
  {
   "cell_type": "code",
   "execution_count": 86,
   "metadata": {},
   "outputs": [],
   "source": [
    "with open(file_name, \"wb\") as output_file:\n",
    "    output_file.write(response.content)"
   ]
  },
  {
   "cell_type": "code",
   "execution_count": 87,
   "metadata": {},
   "outputs": [
    {
     "name": "stdout",
     "output_type": "stream",
     "text": [
      "gzip: ../data/TCGA/api/TCGA_PAAD_gdc_download_20191207_012349.911695.tar.gz: No such file or directory\n"
     ]
    }
   ],
   "source": [
    "!gunzip ../data/TCGA/api/TCGA_PAAD_gdc_download_20191207_012349.911695.tar.gz"
   ]
  }
 ],
 "metadata": {
  "kernelspec": {
   "display_name": "Python 3",
   "language": "python",
   "name": "python3"
  },
  "language_info": {
   "codemirror_mode": {
    "name": "ipython",
    "version": 3
   },
   "file_extension": ".py",
   "mimetype": "text/x-python",
   "name": "python",
   "nbconvert_exporter": "python",
   "pygments_lexer": "ipython3",
   "version": "3.7.3"
  }
 },
 "nbformat": 4,
 "nbformat_minor": 2
}
