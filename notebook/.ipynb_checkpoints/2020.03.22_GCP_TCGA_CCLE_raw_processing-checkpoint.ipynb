{
 "cells": [
  {
   "cell_type": "code",
   "execution_count": 1,
   "metadata": {},
   "outputs": [],
   "source": [
    "%load_ext autoreload\n",
    "%autoreload 2"
   ]
  },
  {
   "cell_type": "code",
   "execution_count": 2,
   "metadata": {},
   "outputs": [],
   "source": [
    "import sys\n",
    "sys.path.append(\"..\")\n",
    "                \n",
    "import numpy as np\n",
    "import pandas as pd\n",
    "pd.set_option('display.max_columns', 100)\n",
    "\n",
    "# viz\n",
    "import matplotlib.pyplot as plt\n",
    "import seaborn as sns\n",
    "sns.set(rc={'figure.figsize':(12.7,10.27)})\n",
    "\n",
    "# notebook settings\n",
    "from IPython.core.interactiveshell import InteractiveShell\n",
    "InteractiveShell.ast_node_interactivity = \"all\"\n",
    "from IPython.display import set_matplotlib_formats\n",
    "set_matplotlib_formats('retina')\n",
    "\n",
    "import os\n",
    "os.environ[\"CUDA_VISIBLE_DEVICES\"]=\"3\""
   ]
  },
  {
   "cell_type": "code",
   "execution_count": 3,
   "metadata": {},
   "outputs": [],
   "source": [
    "def getTCGA(disease):\n",
    "    path = \"/srv/nas/mk2/projects/pan-cancer/TCGA_CCLE_GCP/TCGA/TCGA_{}_counts.tsv.gz\"\n",
    "    files = [path.format(d) for d in disease]\n",
    "    return files\n",
    "\n",
    "\n",
    "def readGCP(files, biotype='protein_coding', mean=True):\n",
    "    \"\"\"\n",
    "    Paths to count matrices.\n",
    "    \"\"\"\n",
    "    data_dict = {}\n",
    "    for f in files:\n",
    "        key = os.path.basename(f).split(\"_\")[1]\n",
    "        data = pd.read_csv(f, sep='\\t', index_col=0)\n",
    "        # transcript metadata\n",
    "        meta = pd.DataFrame([row[:-1] for row in data.index.str.split(\"|\")],\n",
    "                            columns=['ENST', 'ENSG', 'OTTHUMG', 'OTTHUMT', 'GENE-NUM', 'GENE', 'BP', 'BIOTYPE'])\n",
    "        meta = pd.MultiIndex.from_frame(meta)\n",
    "        data.index = meta\n",
    "        # subset transcripts\n",
    "        data = data.xs(key=biotype, level='BIOTYPE')\n",
    "        data = data.droplevel(['ENST', 'ENSG', 'OTTHUMG', 'OTTHUMT', 'GENE-NUM', 'BP'])\n",
    "        # average gene expression of splice variants\n",
    "        data = data.T\n",
    "        if mean:\n",
    "            data = data.groupby(by=data.columns, axis=1).mean()\n",
    "        data_dict[key] = data\n",
    "    return data_dict\n",
    "\n",
    "\n",
    "def uq_norm(df, q=0.75):\n",
    "    \"\"\"\n",
    "    Upper quartile normalization of GEX for samples.\n",
    "    \"\"\"\n",
    "    quantiles = df.quantile(q=q, axis=1)\n",
    "    norm = df.divide(quantiles, axis=0)\n",
    "    return norm"
   ]
  },
  {
   "cell_type": "code",
   "execution_count": 4,
   "metadata": {},
   "outputs": [],
   "source": [
    "base = \"/srv/nas/mk2/projects/pan-cancer/TCGA_CCLE_GCP\"\n",
    "disease = ['BRCA', 'LUAD', 'KIRC', 'THCA', 'PRAD', 'SKCM']\n",
    "\n",
    "tcga_files = getTCGA(disease)\n",
    "tcga_meta = pd.read_csv(os.path.join(base, \"TCGA/TCGA_GDC_ID_MAP.tsv\"), sep=\"\\t\")\n",
    "tcga_raw = readGCP(tcga_files, mean=True)"
   ]
  },
  {
   "cell_type": "code",
   "execution_count": 5,
   "metadata": {},
   "outputs": [],
   "source": [
    "# combine samples\n",
    "tcga_raw = pd.concat(tcga_raw.values())"
   ]
  },
  {
   "cell_type": "markdown",
   "metadata": {},
   "source": [
    "## Normalization"
   ]
  },
  {
   "cell_type": "code",
   "execution_count": 6,
   "metadata": {},
   "outputs": [],
   "source": [
    "# Upper quartile normalization\n",
    "tcga_raw = uq_norm(tcga_raw)"
   ]
  },
  {
   "cell_type": "code",
   "execution_count": 7,
   "metadata": {},
   "outputs": [],
   "source": [
    "# log norm\n",
    "tcga = tcga_raw.transform(np.log1p)"
   ]
  },
  {
   "cell_type": "code",
   "execution_count": 8,
   "metadata": {},
   "outputs": [],
   "source": [
    "# downsample\n",
    "#tcga = tcga_raw.sample(n=40000, axis=1)"
   ]
  },
  {
   "cell_type": "markdown",
   "metadata": {},
   "source": [
    "# Model"
   ]
  },
  {
   "cell_type": "markdown",
   "metadata": {},
   "source": [
    "### Experimental Setup"
   ]
  },
  {
   "cell_type": "code",
   "execution_count": 9,
   "metadata": {},
   "outputs": [],
   "source": [
    "from collections import OrderedDict \n",
    "hierarchy = OrderedDict({'Disease':['BRCA', 'LUAD', 'KIRC', 'THCA', 'PRAD', 'SKCM'],\n",
    "                         'Sample Type':['Primary Tumor', 'Solid Tissue Normal', 'Metastatic']})"
   ]
  },
  {
   "cell_type": "code",
   "execution_count": 53,
   "metadata": {},
   "outputs": [],
   "source": [
    "from dutils import Experiment\n",
    "# Define experiment\n",
    "exp = Experiment(meta_data=tcga_meta,\n",
    "                 hierarchy=hierarchy,\n",
    "                 index='CGHubAnalysisID',\n",
    "                 cases='Case ID',\n",
    "                 min_samples=20)\n",
    "# Holdout metastatic\n",
    "exp.holdout(holdout=['SKCM:Metastatic'])\n",
    "# Train / Test split\n",
    "exp.train_test_split(cases='Case ID')\n",
    "# Return data \n",
    "train_data, train_labels = exp.get_data(tcga, subset=\"train\", dtype=np.float32)\n",
    "test_data, test_labels = exp.get_data(tcga, subset=\"test\", dtype=np.float32)"
   ]
  },
  {
   "cell_type": "code",
   "execution_count": 54,
   "metadata": {},
   "outputs": [
    {
     "data": {
      "text/plain": [
       "BRCA:Primary Tumor          1119\n",
       "KIRC:Primary Tumor           542\n",
       "LUAD:Primary Tumor           536\n",
       "THCA:Primary Tumor           502\n",
       "PRAD:Primary Tumor           501\n",
       "SKCM:Metastatic              367\n",
       "BRCA:Solid Tissue Normal     114\n",
       "SKCM:Primary Tumor           103\n",
       "KIRC:Solid Tissue Normal      72\n",
       "LUAD:Solid Tissue Normal      59\n",
       "THCA:Solid Tissue Normal      58\n",
       "PRAD:Solid Tissue Normal      52\n",
       "Name: meta, dtype: int64"
      ]
     },
     "execution_count": 54,
     "metadata": {},
     "output_type": "execute_result"
    },
    {
     "data": {
      "text/plain": [
       "SKCM:Metastatic             367\n",
       "THCA:Solid Tissue Normal      0\n",
       "THCA:Primary Tumor            0\n",
       "SKCM:Primary Tumor            0\n",
       "PRAD:Solid Tissue Normal      0\n",
       "PRAD:Primary Tumor            0\n",
       "LUAD:Solid Tissue Normal      0\n",
       "LUAD:Primary Tumor            0\n",
       "KIRC:Solid Tissue Normal      0\n",
       "KIRC:Primary Tumor            0\n",
       "BRCA:Solid Tissue Normal      0\n",
       "BRCA:Primary Tumor            0\n",
       "Name: meta, dtype: int64"
      ]
     },
     "execution_count": 54,
     "metadata": {},
     "output_type": "execute_result"
    }
   ],
   "source": [
    "exp.meta_data['meta'].value_counts()\n",
    "exp.holdout_meta['meta'].value_counts()"
   ]
  },
  {
   "cell_type": "code",
   "execution_count": 55,
   "metadata": {},
   "outputs": [
    {
     "data": {
      "text/plain": [
       "BRCA:Primary Tumor          0.801609\n",
       "KIRC:Primary Tumor          0.830258\n",
       "LUAD:Primary Tumor          0.791045\n",
       "THCA:Primary Tumor          0.796813\n",
       "PRAD:Primary Tumor          0.780439\n",
       "SKCM:Metastatic             0.814714\n",
       "BRCA:Solid Tissue Normal    0.763158\n",
       "SKCM:Primary Tumor          0.786408\n",
       "KIRC:Solid Tissue Normal    0.888889\n",
       "LUAD:Solid Tissue Normal    0.796610\n",
       "THCA:Solid Tissue Normal    0.793103\n",
       "PRAD:Solid Tissue Normal    0.769231\n",
       "Name: meta, dtype: float64"
      ]
     },
     "execution_count": 55,
     "metadata": {},
     "output_type": "execute_result"
    },
    {
     "data": {
      "text/plain": [
       "BRCA:Primary Tumor          0.198391\n",
       "KIRC:Primary Tumor          0.169742\n",
       "LUAD:Primary Tumor          0.208955\n",
       "THCA:Primary Tumor          0.203187\n",
       "PRAD:Primary Tumor          0.219561\n",
       "SKCM:Metastatic             0.185286\n",
       "BRCA:Solid Tissue Normal    0.236842\n",
       "SKCM:Primary Tumor          0.213592\n",
       "KIRC:Solid Tissue Normal    0.111111\n",
       "LUAD:Solid Tissue Normal    0.203390\n",
       "THCA:Solid Tissue Normal    0.206897\n",
       "PRAD:Solid Tissue Normal    0.230769\n",
       "Name: meta, dtype: float64"
      ]
     },
     "execution_count": 55,
     "metadata": {},
     "output_type": "execute_result"
    }
   ],
   "source": [
    "# Inspect class split distributions\n",
    "target = 'meta'\n",
    "case_counts = exp.meta_data[target].value_counts()\n",
    "exp.train_meta[target].value_counts()[case_counts.index.to_numpy()] / case_counts\n",
    "exp.test_meta[target].value_counts()[case_counts.index.to_numpy()] / case_counts"
   ]
  },
  {
   "cell_type": "code",
   "execution_count": 56,
   "metadata": {},
   "outputs": [
    {
     "name": "stdout",
     "output_type": "stream",
     "text": [
      "Cuda is available: True\n"
     ]
    }
   ],
   "source": [
    "import torch\n",
    "from torch.optim import lr_scheduler\n",
    "import torch.optim as optim\n",
    "from torch.autograd import Variable\n",
    "#torch.manual_seed(123)\n",
    "\n",
    "from trainer import fit\n",
    "import visualization as vis\n",
    "from tcga_datasets import SiameseDataset\n",
    "import numpy as np\n",
    "cuda = torch.cuda.is_available()\n",
    "print(\"Cuda is available: {}\".format(cuda))"
   ]
  },
  {
   "cell_type": "markdown",
   "metadata": {},
   "source": [
    "# Siamese Network"
   ]
  },
  {
   "cell_type": "code",
   "execution_count": 57,
   "metadata": {},
   "outputs": [],
   "source": [
    "siamese_train_dataset = SiameseDataset(data=train_data,\n",
    "                                       labels=train_labels,\n",
    "                                       train=True)\n",
    "siamese_test_dataset = SiameseDataset(data=test_data,\n",
    "                                      labels=test_labels,\n",
    "                                      train=False)"
   ]
  },
  {
   "cell_type": "code",
   "execution_count": 76,
   "metadata": {},
   "outputs": [
    {
     "data": {
      "text/plain": [
       "SiameseNet(\n",
       "  (embedding_net): EmbeddingNet(\n",
       "    (fc): Sequential(\n",
       "      (linear1): Linear(in_features=19594, out_features=2000, bias=True)\n",
       "      (relu1): PReLU(num_parameters=1)\n",
       "      (linear2): Linear(in_features=2000, out_features=500, bias=True)\n",
       "      (relu2): PReLU(num_parameters=1)\n",
       "      (linear3): Linear(in_features=500, out_features=250, bias=True)\n",
       "      (relu3): PReLU(num_parameters=1)\n",
       "      (linear4): Linear(in_features=250, out_features=100, bias=True)\n",
       "      (relu4): PReLU(num_parameters=1)\n",
       "      (linear5): Linear(in_features=100, out_features=50, bias=True)\n",
       "      (relu5): PReLU(num_parameters=1)\n",
       "      (linear6): Linear(in_features=50, out_features=10, bias=True)\n",
       "      (relu6): PReLU(num_parameters=1)\n",
       "      (linear7): Linear(in_features=10, out_features=2, bias=True)\n",
       "    )\n",
       "  )\n",
       ")"
      ]
     },
     "execution_count": 76,
     "metadata": {},
     "output_type": "execute_result"
    }
   ],
   "source": [
    "batch_size = 8\n",
    "kwargs = {'num_workers': 10, 'pin_memory': True} if cuda else {'num_workers': 10}\n",
    "siamese_train_loader = torch.utils.data.DataLoader(siamese_train_dataset, batch_size=batch_size, shuffle=True, **kwargs)\n",
    "siamese_test_loader = torch.utils.data.DataLoader(siamese_test_dataset, batch_size=batch_size, shuffle=False, **kwargs)\n",
    "\n",
    "# Set up the network and training parameters\n",
    "from tcga_networks import EmbeddingNet, SiameseNet\n",
    "from losses import ContrastiveLoss, TripletLoss\n",
    "from metrics import AccumulatedAccuracyMetric\n",
    "\n",
    "# Step 2\n",
    "n_samples, n_features = siamese_train_dataset.train_data.shape\n",
    "embedding_net = EmbeddingNet(n_features, 2)\n",
    "# Step 3\n",
    "model = SiameseNet(embedding_net)\n",
    "if cuda:\n",
    "    model.cuda()\n",
    "    \n",
    "# Step 4\n",
    "margin = 1.\n",
    "loss_fn = ContrastiveLoss(margin)\n",
    "lr = 1e-3\n",
    "optimizer = optim.Adam(model.parameters(), lr=lr)\n",
    "scheduler = lr_scheduler.StepLR(optimizer, 8, gamma=0.1, last_epoch=-1)\n",
    "n_epochs = 10\n",
    "# print training metrics every log_interval * batch_size\n",
    "log_interval = round(len(siamese_train_dataset)/4/batch_size)"
   ]
  },
  {
   "cell_type": "code",
   "execution_count": null,
   "metadata": {},
   "outputs": [
    {
     "name": "stdout",
     "output_type": "stream",
     "text": [
      "Train: [0/3226 (0%)]\tLoss: 0.435316\n"
     ]
    }
   ],
   "source": [
    "train_loss, val_loss = fit(siamese_train_loader, siamese_test_loader, model, loss_fn, optimizer, scheduler, \n",
    "    n_epochs, cuda, log_interval)"
   ]
  },
  {
   "cell_type": "code",
   "execution_count": null,
   "metadata": {},
   "outputs": [],
   "source": [
    "plt.plot(range(0, n_epochs), train_loss, 'rx-', label='train')\n",
    "plt.plot(range(0, n_epochs), val_loss, 'bx-', label='validation')\n",
    "plt.legend()"
   ]
  },
  {
   "cell_type": "code",
   "execution_count": null,
   "metadata": {},
   "outputs": [],
   "source": [
    "train_embeddings_cl, train_labels_cl = vis.extract_embeddings(siamese_train_dataset.train_data, siamese_train_dataset.labels, model)\n",
    "vis.sns_plot_embeddings(train_embeddings_cl, train_labels_cl, exp.labels_dict, \n",
    "                        hue='meta', style='Sample Type', alpha=0.5)\n",
    "plt.title('PanCancer Train: Siamese')\n",
    "plt.legend(bbox_to_anchor=(1.05, 1), loc=2, borderaxespad=0.)"
   ]
  },
  {
   "cell_type": "code",
   "execution_count": null,
   "metadata": {},
   "outputs": [],
   "source": [
    "val_embeddings_baseline, val_labels_baseline = vis.extract_embeddings(siamese_test_dataset.test_data, siamese_test_dataset.labels, model)\n",
    "vis.sns_plot_embeddings(val_embeddings_baseline, val_labels_baseline, exp.labels_dict, \n",
    "                        hue='meta', style='Sample Type', alpha=0.5)\n",
    "plt.title('PanCancer Test: Siamese')\n",
    "plt.legend(bbox_to_anchor=(1.05, 1), loc=2, borderaxespad=0.)"
   ]
  },
  {
   "cell_type": "code",
   "execution_count": null,
   "metadata": {},
   "outputs": [],
   "source": [
    "holdout_data, holdout_labels = exp.get_data(tcga, subset=\"holdout\", dtype=np.float32)\n",
    "siamese_holdout_dataset = SiameseDataset(data=holdout_data,\n",
    "                                         labels=holdout_labels,\n",
    "                                         train=True)"
   ]
  },
  {
   "cell_type": "code",
   "execution_count": null,
   "metadata": {},
   "outputs": [],
   "source": [
    "holdout_embeddings_baseline, holdout_labels_baseline = vis.extract_embeddings(siamese_holdout_dataset.train_data, siamese_holdout_dataset.labels, model)\n",
    "# combine with validation for plotting\n",
    "comb_embeddings_baseline = np.concatenate((val_embeddings_baseline, holdout_embeddings_baseline))\n",
    "comb_labels_baseline = np.concatenate((val_labels_baseline, holdout_labels_baseline))\n",
    "vis.sns_plot_embeddings(comb_embeddings_baseline, comb_labels_baseline, exp.labels_dict, \n",
    "                        hue='meta', style='Sample Type', alpha=0.5)\n",
    "plt.title('PanCancer Holdout: SKCM:Metastatic')\n",
    "plt.legend(bbox_to_anchor=(1.05, 1), loc=2, borderaxespad=0.)"
   ]
  },
  {
   "cell_type": "code",
   "execution_count": null,
   "metadata": {},
   "outputs": [],
   "source": []
  }
 ],
 "metadata": {
  "kernelspec": {
   "display_name": "torch",
   "language": "python",
   "name": "torch"
  },
  "language_info": {
   "codemirror_mode": {
    "name": "ipython",
    "version": 3
   },
   "file_extension": ".py",
   "mimetype": "text/x-python",
   "name": "python",
   "nbconvert_exporter": "python",
   "pygments_lexer": "ipython3",
   "version": "3.7.3"
  }
 },
 "nbformat": 4,
 "nbformat_minor": 2
}
