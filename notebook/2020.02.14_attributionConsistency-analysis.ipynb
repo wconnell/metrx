{
 "cells": [
  {
   "cell_type": "code",
   "execution_count": 1,
   "metadata": {},
   "outputs": [],
   "source": [
    "%load_ext autoreload\n",
    "%autoreload 2"
   ]
  },
  {
   "cell_type": "code",
   "execution_count": 5,
   "metadata": {},
   "outputs": [],
   "source": [
    "import os\n",
    "import numpy as np\n",
    "import pandas as pd\n",
    "#np.random.seed(123)\n",
    "\n",
    "# viz\n",
    "import matplotlib.pyplot as plt\n",
    "\n",
    "# notebook settings\n",
    "from IPython.core.interactiveshell import InteractiveShell\n",
    "InteractiveShell.ast_node_interactivity = \"all\""
   ]
  },
  {
   "cell_type": "code",
   "execution_count": 220,
   "metadata": {},
   "outputs": [
    {
     "data": {
      "text/plain": [
       "['../../data/tmp/02.14.2020-13:20:53_attr_ind.pkl.gz',\n",
       " '../../data/tmp/02.14.2020-14:03:53_attr_ind.pkl.gz',\n",
       " '../../data/tmp/02.14.2020-15:41:50_attr_ind.pkl.gz',\n",
       " '../../data/tmp/02.14.2020-13:26:45_attr_ind.pkl.gz',\n",
       " '../../data/tmp/02.14.2020-14:00:35_attr_ind.pkl.gz',\n",
       " '../../data/tmp/02.14.2020-13:23:09_attr_ind.pkl.gz',\n",
       " '../../data/tmp/02.14.2020-14:10:13_attr_ind.pkl.gz',\n",
       " '../../data/tmp/02.14.2020-13:18:13_attr_ind.pkl.gz',\n",
       " '../../data/tmp/02.14.2020-15:44:38_attr_ind.pkl.gz']"
      ]
     },
     "execution_count": 220,
     "metadata": {},
     "output_type": "execute_result"
    }
   ],
   "source": [
    "import glob\n",
    "\n",
    "base_path = \"../../data/tmp\"\n",
    "suff = \"_attr_ind.pkl.gz\"\n",
    "\n",
    "flist = [f for f in glob.glob(os.path.join(base_path, \"*\" + suff))]\n",
    "flist"
   ]
  },
  {
   "cell_type": "code",
   "execution_count": 142,
   "metadata": {},
   "outputs": [],
   "source": [
    "# attrs = []\n",
    "# for f in flist:\n",
    "#     df = pd.read_pickle(f).T\n",
    "#     attrs.append(df)"
   ]
  },
  {
   "cell_type": "code",
   "execution_count": 221,
   "metadata": {},
   "outputs": [],
   "source": [
    "attrs_abs = []\n",
    "for f in flist:\n",
    "    df = pd.read_pickle(f).T.abs()\n",
    "    attrs_abs.append(df)"
   ]
  },
  {
   "cell_type": "code",
   "execution_count": 283,
   "metadata": {},
   "outputs": [],
   "source": [
    "cases = attrs[0].columns\n",
    "genes = attrs[0].index\n",
    "intersect_dict = dict.fromkeys(cases, (genes, 0))\n",
    "\n",
    "n = 1000\n",
    "\n",
    "for case in cases:\n",
    "    for df in attrs_abs:\n",
    "        if case in df.columns:\n",
    "            foo = df\n",
    "            genes, loop = intersect_dict[case]\n",
    "            new = df[case].nlargest(n).index.values\n",
    "            gene_update = np.intersect1d(genes, new)\n",
    "            loop += 1\n",
    "            intersect_dict[case] = (gene_update, loop)"
   ]
  },
  {
   "cell_type": "code",
   "execution_count": 287,
   "metadata": {},
   "outputs": [
    {
     "name": "stdout",
     "output_type": "stream",
     "text": [
      "C3L-00009 4 12\n",
      "C3L-00140 2 111\n",
      "C3L-00893 3 66\n",
      "C3L-01889 3 57\n",
      "C3L-02345 3 48\n",
      "C3L-02365 3 45\n",
      "C3L-02549 4 19\n",
      "C3N-00167 3 34\n",
      "C3N-00169 2 153\n",
      "C3N-00199 2 175\n",
      "C3N-00579 3 33\n",
      "C3N-00738 2 225\n",
      "C3N-00959 5 23\n",
      "C3N-01016 2 270\n",
      "C3N-01023 2 147\n",
      "C3N-01414 3 71\n",
      "C3N-01415 2 155\n",
      "C3N-02087 2 93\n",
      "C3N-02155 2 151\n",
      "C3N-02158 4 39\n",
      "TCGA-22-4593 3 73\n",
      "TCGA-22-4609 3 50\n",
      "TCGA-22-5491 4 23\n",
      "TCGA-33-6737 2 112\n",
      "TCGA-43-6771 4 21\n",
      "TCGA-43-7657 3 43\n",
      "TCGA-44-2665 2 211\n",
      "TCGA-44-6148 3 85\n",
      "TCGA-49-4512 3 83\n",
      "TCGA-49-6761 5 4\n",
      "TCGA-50-5930 3 38\n",
      "TCGA-50-5931 3 85\n",
      "TCGA-55-6980 4 27\n",
      "TCGA-55-6982 2 225\n",
      "TCGA-55-6985 4 12\n",
      "TCGA-56-7579 2 131\n",
      "TCGA-56-7580 3 41\n",
      "TCGA-56-7730 3 114\n",
      "TCGA-56-8309 3 122\n",
      "TCGA-58-8386 4 11\n",
      "TCGA-77-7142 4 16\n",
      "TCGA-77-8007 3 57\n"
     ]
    }
   ],
   "source": [
    "for case in intersect_dict.keys():\n",
    "    genes, loop = intersect_dict[case]\n",
    "    if loop >= 2:\n",
    "        print(case, loop, len(genes))"
   ]
  },
  {
   "cell_type": "code",
   "execution_count": 285,
   "metadata": {},
   "outputs": [],
   "source": [
    "def n_iter(values, n_values, n_sets, x_iter=100):\n",
    "    results = []\n",
    "    for i in range(x_iter):\n",
    "        choices = (set(np.random.choice(values, n_values, replace=False)) for i in range(n_sets))\n",
    "        inter = set.intersection(*choices)\n",
    "        results.append(len(inter))\n",
    "    return np.array(results)"
   ]
  },
  {
   "cell_type": "code",
   "execution_count": 286,
   "metadata": {},
   "outputs": [
    {
     "data": {
      "text/plain": [
       "54.07"
      ]
     },
     "execution_count": 286,
     "metadata": {},
     "output_type": "execute_result"
    },
    {
     "data": {
      "text/plain": [
       "6.33917187020513"
      ]
     },
     "execution_count": 286,
     "metadata": {},
     "output_type": "execute_result"
    },
    {
     "data": {
      "text/plain": [
       "2.85"
      ]
     },
     "execution_count": 286,
     "metadata": {},
     "output_type": "execute_result"
    },
    {
     "data": {
      "text/plain": [
       "1.7284386017443605"
      ]
     },
     "execution_count": 286,
     "metadata": {},
     "output_type": "execute_result"
    },
    {
     "data": {
      "text/plain": [
       "0.35"
      ]
     },
     "execution_count": 286,
     "metadata": {},
     "output_type": "execute_result"
    },
    {
     "data": {
      "text/plain": [
       "0.6224949798994367"
      ]
     },
     "execution_count": 286,
     "metadata": {},
     "output_type": "execute_result"
    }
   ],
   "source": [
    "n_values=n\n",
    "genes = attrs[0].index\n",
    "results = n_iter(genes, n_values, n_sets=2)\n",
    "results.mean(); results.std()\n",
    "results = n_iter(genes, n_values, n_sets=3)\n",
    "results.mean(); results.std()\n",
    "results = n_iter(genes, n_values, n_sets=4)\n",
    "results.mean(); results.std()"
   ]
  },
  {
   "cell_type": "code",
   "execution_count": 288,
   "metadata": {},
   "outputs": [
    {
     "data": {
      "text/plain": [
       "(array(['ETV4', 'MGAT3', 'PC', 'PLPP2'], dtype=object), 5)"
      ]
     },
     "execution_count": 288,
     "metadata": {},
     "output_type": "execute_result"
    }
   ],
   "source": [
    "intersect_dict['TCGA-49-6761']"
   ]
  }
 ],
 "metadata": {
  "kernelspec": {
   "display_name": "diffxpy",
   "language": "python",
   "name": "diffxpy"
  },
  "language_info": {
   "codemirror_mode": {
    "name": "ipython",
    "version": 3
   },
   "file_extension": ".py",
   "mimetype": "text/x-python",
   "name": "python",
   "nbconvert_exporter": "python",
   "pygments_lexer": "ipython3",
   "version": "3.7.6"
  }
 },
 "nbformat": 4,
 "nbformat_minor": 2
}
