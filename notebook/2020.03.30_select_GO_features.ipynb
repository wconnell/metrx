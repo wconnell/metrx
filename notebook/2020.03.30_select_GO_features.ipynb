{
 "cells": [
  {
   "cell_type": "code",
   "execution_count": 35,
   "metadata": {},
   "outputs": [],
   "source": [
    "import os\n",
    "import sys\n",
    "sys.path.append(\"..\")\n",
    "\n",
    "import numpy as np\n",
    "import pandas as pd\n",
    "\n",
    "# viz\n",
    "import matplotlib.pyplot as plt\n",
    "import seaborn as sns\n",
    "sns.set(rc={'figure.figsize':(18.7,6.27)})\n",
    "\n",
    "# notebook settings\n",
    "from IPython.core.interactiveshell import InteractiveShell\n",
    "InteractiveShell.ast_node_interactivity = \"all\"\n",
    "from IPython.display import set_matplotlib_formats\n",
    "set_matplotlib_formats('retina')"
   ]
  },
  {
   "cell_type": "code",
   "execution_count": 36,
   "metadata": {},
   "outputs": [],
   "source": [
    "def getTCGA(disease):\n",
    "    path = \"/srv/nas/mk2/projects/pan-cancer/TCGA_CCLE_GCP/TCGA/TCGA_{}_counts.tsv.gz\"\n",
    "    files = [path.format(d) for d in disease]\n",
    "    return files\n",
    "\n",
    "\n",
    "def readGCP(files, biotype='protein_coding', mean=True):\n",
    "    \"\"\"\n",
    "    Paths to count matrices.\n",
    "    \"\"\"\n",
    "    data_dict = {}\n",
    "    for f in files:\n",
    "        key = os.path.basename(f).split(\"_\")[1]\n",
    "        data = pd.read_csv(f, sep='\\t', index_col=0)\n",
    "        # transcript metadata\n",
    "        meta = pd.DataFrame([row[:-1] for row in data.index.str.split(\"|\")],\n",
    "                            columns=['ENST', 'ENSG', 'OTTHUMG', 'OTTHUMT', 'GENE-NUM', 'GENE', 'BP', 'BIOTYPE'])\n",
    "        meta = pd.MultiIndex.from_frame(meta)\n",
    "        data.index = meta\n",
    "        # subset transcripts\n",
    "        data = data.xs(key=biotype, level='BIOTYPE')\n",
    "        data = data.droplevel(['ENST', 'ENSG', 'OTTHUMG', 'OTTHUMT', 'GENE-NUM', 'BP'])\n",
    "        # average gene expression of splice variants\n",
    "        data = data.T\n",
    "        if mean:\n",
    "            data = data.groupby(by=data.columns, axis=1).mean()\n",
    "        data_dict[key] = data\n",
    "    return data_dict\n",
    "\n",
    "\n",
    "def uq_norm(df, q=0.75):\n",
    "    \"\"\"\n",
    "    Upper quartile normalization of GEX for samples.\n",
    "    \"\"\"\n",
    "    quantiles = df.quantile(q=q, axis=1)\n",
    "    norm = df.divide(quantiles, axis=0)\n",
    "    return norm\n",
    "\n",
    "\n",
    "def process_TCGA(disease=['BRCA', 'LUAD', 'KIRC', 'THCA', 'PRAD', 'SKCM']):\n",
    "    base=\"/srv/nas/mk2/projects/pan-cancer/TCGA_CCLE_GCP\"\n",
    "    # get files\n",
    "    tcga_files = getTCGA(disease)\n",
    "    # read meta/data\n",
    "    tcga_meta = pd.read_csv(os.path.join(base, \"TCGA/TCGA_GDC_ID_MAP.tsv\"), sep=\"\\t\")\n",
    "    tcga_raw = readGCP(tcga_files, mean=True)\n",
    "    # combine samples\n",
    "    tcga_raw = pd.concat(tcga_raw.values())\n",
    "    # Upper quartile normalization\n",
    "    tcga_raw = uq_norm(tcga_raw)\n",
    "    # log norm\n",
    "    tcga = tcga_raw.transform(np.log1p)\n",
    "    return tcga, tcga_meta"
   ]
  },
  {
   "cell_type": "code",
   "execution_count": 37,
   "metadata": {},
   "outputs": [
    {
     "data": {
      "text/html": [
       "<div>\n",
       "<style scoped>\n",
       "    .dataframe tbody tr th:only-of-type {\n",
       "        vertical-align: middle;\n",
       "    }\n",
       "\n",
       "    .dataframe tbody tr th {\n",
       "        vertical-align: top;\n",
       "    }\n",
       "\n",
       "    .dataframe thead th {\n",
       "        text-align: right;\n",
       "    }\n",
       "</style>\n",
       "<table border=\"1\" class=\"dataframe\">\n",
       "  <thead>\n",
       "    <tr style=\"text-align: right;\">\n",
       "      <th></th>\n",
       "      <th>Entry</th>\n",
       "      <th>Entry name</th>\n",
       "      <th>Status</th>\n",
       "      <th>Protein names</th>\n",
       "      <th>Gene names</th>\n",
       "      <th>Organism</th>\n",
       "      <th>Length</th>\n",
       "      <th>Features</th>\n",
       "      <th>Cross-reference (GeneID)</th>\n",
       "      <th>Cross-reference (KEGG)</th>\n",
       "      <th>Cross-reference (ExpressionAtlas)</th>\n",
       "      <th>Tissue specificity</th>\n",
       "      <th>Gene names  (primary )</th>\n",
       "      <th>Gene ontology (biological process)</th>\n",
       "      <th>Gene ontology (cellular component)</th>\n",
       "      <th>Gene ontology (GO)</th>\n",
       "      <th>Gene ontology (molecular function)</th>\n",
       "      <th>Gene ontology IDs</th>\n",
       "      <th>Ensembl transcript</th>\n",
       "    </tr>\n",
       "  </thead>\n",
       "  <tbody>\n",
       "    <tr>\n",
       "      <th>0</th>\n",
       "      <td>O43657</td>\n",
       "      <td>TSN6_HUMAN</td>\n",
       "      <td>reviewed</td>\n",
       "      <td>Tetraspanin-6 (Tspan-6) (A15 homolog) (Putativ...</td>\n",
       "      <td>TSPAN6 TM4SF6 UNQ767/PRO1560</td>\n",
       "      <td>Homo sapiens (Human)</td>\n",
       "      <td>245</td>\n",
       "      <td>Chain (1); Glycosylation (1); Natural variant ...</td>\n",
       "      <td>7105;</td>\n",
       "      <td>hsa:7105;</td>\n",
       "      <td>O43657;</td>\n",
       "      <td>NaN</td>\n",
       "      <td>TSPAN6</td>\n",
       "      <td>negative regulation of NIK/NF-kappaB signaling...</td>\n",
       "      <td>extracellular exosome [GO:0070062]; integral c...</td>\n",
       "      <td>extracellular exosome [GO:0070062]; integral c...</td>\n",
       "      <td>NaN</td>\n",
       "      <td>GO:0005887; GO:0039532; GO:0043123; GO:0070062...</td>\n",
       "      <td>ENST00000373020;</td>\n",
       "    </tr>\n",
       "    <tr>\n",
       "      <th>1</th>\n",
       "      <td>Q9H2S6</td>\n",
       "      <td>TNMD_HUMAN</td>\n",
       "      <td>reviewed</td>\n",
       "      <td>Tenomodulin (TeM) (hTeM) (Chondromodulin-1-lik...</td>\n",
       "      <td>TNMD CHM1L UNQ771/PRO1565</td>\n",
       "      <td>Homo sapiens (Human)</td>\n",
       "      <td>317</td>\n",
       "      <td>Alternative sequence (3); Chain (1); Disulfide...</td>\n",
       "      <td>64102;</td>\n",
       "      <td>hsa:64102;</td>\n",
       "      <td>NaN</td>\n",
       "      <td>TISSUE SPECIFICITY: Highly expressed in hypova...</td>\n",
       "      <td>TNMD</td>\n",
       "      <td>cellular response to BMP stimulus [GO:0071773]...</td>\n",
       "      <td>cytoplasm [GO:0005737]; integral component of ...</td>\n",
       "      <td>cytoplasm [GO:0005737]; integral component of ...</td>\n",
       "      <td>NaN</td>\n",
       "      <td>GO:0001886; GO:0001937; GO:0005635; GO:0005737...</td>\n",
       "      <td>ENST00000373031 [Q9H2S6-1];</td>\n",
       "    </tr>\n",
       "    <tr>\n",
       "      <th>2</th>\n",
       "      <td>O60762</td>\n",
       "      <td>DPM1_HUMAN</td>\n",
       "      <td>reviewed</td>\n",
       "      <td>Dolichol-phosphate mannosyltransferase subunit...</td>\n",
       "      <td>DPM1</td>\n",
       "      <td>Homo sapiens (Human)</td>\n",
       "      <td>260</td>\n",
       "      <td>Chain (1); Initiator methionine (1); Modified ...</td>\n",
       "      <td>8813;</td>\n",
       "      <td>hsa:8813;</td>\n",
       "      <td>O60762;</td>\n",
       "      <td>NaN</td>\n",
       "      <td>DPM1</td>\n",
       "      <td>dolichol metabolic process [GO:0019348]; GPI a...</td>\n",
       "      <td>dolichol-phosphate-mannose synthase complex [G...</td>\n",
       "      <td>dolichol-phosphate-mannose synthase complex [G...</td>\n",
       "      <td>dolichyl-phosphate beta-D-mannosyltransferase ...</td>\n",
       "      <td>GO:0004169; GO:0004582; GO:0005634; GO:0005783...</td>\n",
       "      <td>ENST00000371588;</td>\n",
       "    </tr>\n",
       "    <tr>\n",
       "      <th>3</th>\n",
       "      <td>Q8IZE3</td>\n",
       "      <td>PACE1_HUMAN</td>\n",
       "      <td>reviewed</td>\n",
       "      <td>Protein-associating with the carboxyl-terminal...</td>\n",
       "      <td>SCYL3 PACE1</td>\n",
       "      <td>Homo sapiens (Human)</td>\n",
       "      <td>742</td>\n",
       "      <td>Alternative sequence (1); Chain (1); Domain (1...</td>\n",
       "      <td>57147;</td>\n",
       "      <td>hsa:57147;</td>\n",
       "      <td>Q8IZE3;</td>\n",
       "      <td>TISSUE SPECIFICITY: Ubiquitously expressed. {E...</td>\n",
       "      <td>SCYL3</td>\n",
       "      <td>cell migration [GO:0016477]; cellular protein ...</td>\n",
       "      <td>cytoplasm [GO:0005737]; Golgi apparatus [GO:00...</td>\n",
       "      <td>cytoplasm [GO:0005737]; Golgi apparatus [GO:00...</td>\n",
       "      <td>ATP binding [GO:0005524]; identical protein bi...</td>\n",
       "      <td>GO:0000139; GO:0005524; GO:0005737; GO:0005794...</td>\n",
       "      <td>ENST00000367770 [Q8IZE3-1];ENST00000367771 [Q8...</td>\n",
       "    </tr>\n",
       "    <tr>\n",
       "      <th>4</th>\n",
       "      <td>Q9NSG2</td>\n",
       "      <td>CA112_HUMAN</td>\n",
       "      <td>reviewed</td>\n",
       "      <td>Uncharacterized protein C1orf112</td>\n",
       "      <td>C1orf112</td>\n",
       "      <td>Homo sapiens (Human)</td>\n",
       "      <td>853</td>\n",
       "      <td>Alternative sequence (2); Chain (1); Modified ...</td>\n",
       "      <td>55732;</td>\n",
       "      <td>hsa:55732;</td>\n",
       "      <td>Q9NSG2;</td>\n",
       "      <td>NaN</td>\n",
       "      <td>C1orf112</td>\n",
       "      <td>NaN</td>\n",
       "      <td>NaN</td>\n",
       "      <td>NaN</td>\n",
       "      <td>NaN</td>\n",
       "      <td>NaN</td>\n",
       "      <td>ENST00000286031 [Q9NSG2-1];ENST00000359326 [Q9...</td>\n",
       "    </tr>\n",
       "  </tbody>\n",
       "</table>\n",
       "</div>"
      ],
      "text/plain": [
       "    Entry   Entry name    Status  \\\n",
       "0  O43657   TSN6_HUMAN  reviewed   \n",
       "1  Q9H2S6   TNMD_HUMAN  reviewed   \n",
       "2  O60762   DPM1_HUMAN  reviewed   \n",
       "3  Q8IZE3  PACE1_HUMAN  reviewed   \n",
       "4  Q9NSG2  CA112_HUMAN  reviewed   \n",
       "\n",
       "                                       Protein names  \\\n",
       "0  Tetraspanin-6 (Tspan-6) (A15 homolog) (Putativ...   \n",
       "1  Tenomodulin (TeM) (hTeM) (Chondromodulin-1-lik...   \n",
       "2  Dolichol-phosphate mannosyltransferase subunit...   \n",
       "3  Protein-associating with the carboxyl-terminal...   \n",
       "4                   Uncharacterized protein C1orf112   \n",
       "\n",
       "                     Gene names              Organism  Length  \\\n",
       "0  TSPAN6 TM4SF6 UNQ767/PRO1560  Homo sapiens (Human)     245   \n",
       "1     TNMD CHM1L UNQ771/PRO1565  Homo sapiens (Human)     317   \n",
       "2                          DPM1  Homo sapiens (Human)     260   \n",
       "3                   SCYL3 PACE1  Homo sapiens (Human)     742   \n",
       "4                      C1orf112  Homo sapiens (Human)     853   \n",
       "\n",
       "                                            Features Cross-reference (GeneID)  \\\n",
       "0  Chain (1); Glycosylation (1); Natural variant ...                    7105;   \n",
       "1  Alternative sequence (3); Chain (1); Disulfide...                   64102;   \n",
       "2  Chain (1); Initiator methionine (1); Modified ...                    8813;   \n",
       "3  Alternative sequence (1); Chain (1); Domain (1...                   57147;   \n",
       "4  Alternative sequence (2); Chain (1); Modified ...                   55732;   \n",
       "\n",
       "  Cross-reference (KEGG) Cross-reference (ExpressionAtlas)  \\\n",
       "0              hsa:7105;                           O43657;   \n",
       "1             hsa:64102;                               NaN   \n",
       "2              hsa:8813;                           O60762;   \n",
       "3             hsa:57147;                           Q8IZE3;   \n",
       "4             hsa:55732;                           Q9NSG2;   \n",
       "\n",
       "                                  Tissue specificity Gene names  (primary )  \\\n",
       "0                                                NaN                 TSPAN6   \n",
       "1  TISSUE SPECIFICITY: Highly expressed in hypova...                   TNMD   \n",
       "2                                                NaN                   DPM1   \n",
       "3  TISSUE SPECIFICITY: Ubiquitously expressed. {E...                  SCYL3   \n",
       "4                                                NaN               C1orf112   \n",
       "\n",
       "                  Gene ontology (biological process)  \\\n",
       "0  negative regulation of NIK/NF-kappaB signaling...   \n",
       "1  cellular response to BMP stimulus [GO:0071773]...   \n",
       "2  dolichol metabolic process [GO:0019348]; GPI a...   \n",
       "3  cell migration [GO:0016477]; cellular protein ...   \n",
       "4                                                NaN   \n",
       "\n",
       "                  Gene ontology (cellular component)  \\\n",
       "0  extracellular exosome [GO:0070062]; integral c...   \n",
       "1  cytoplasm [GO:0005737]; integral component of ...   \n",
       "2  dolichol-phosphate-mannose synthase complex [G...   \n",
       "3  cytoplasm [GO:0005737]; Golgi apparatus [GO:00...   \n",
       "4                                                NaN   \n",
       "\n",
       "                                  Gene ontology (GO)  \\\n",
       "0  extracellular exosome [GO:0070062]; integral c...   \n",
       "1  cytoplasm [GO:0005737]; integral component of ...   \n",
       "2  dolichol-phosphate-mannose synthase complex [G...   \n",
       "3  cytoplasm [GO:0005737]; Golgi apparatus [GO:00...   \n",
       "4                                                NaN   \n",
       "\n",
       "                  Gene ontology (molecular function)  \\\n",
       "0                                                NaN   \n",
       "1                                                NaN   \n",
       "2  dolichyl-phosphate beta-D-mannosyltransferase ...   \n",
       "3  ATP binding [GO:0005524]; identical protein bi...   \n",
       "4                                                NaN   \n",
       "\n",
       "                                   Gene ontology IDs  \\\n",
       "0  GO:0005887; GO:0039532; GO:0043123; GO:0070062...   \n",
       "1  GO:0001886; GO:0001937; GO:0005635; GO:0005737...   \n",
       "2  GO:0004169; GO:0004582; GO:0005634; GO:0005783...   \n",
       "3  GO:0000139; GO:0005524; GO:0005737; GO:0005794...   \n",
       "4                                                NaN   \n",
       "\n",
       "                                  Ensembl transcript  \n",
       "0                                   ENST00000373020;  \n",
       "1                        ENST00000373031 [Q9H2S6-1];  \n",
       "2                                   ENST00000371588;  \n",
       "3  ENST00000367770 [Q8IZE3-1];ENST00000367771 [Q8...  \n",
       "4  ENST00000286031 [Q9NSG2-1];ENST00000359326 [Q9...  "
      ]
     },
     "execution_count": 37,
     "metadata": {},
     "output_type": "execute_result"
    }
   ],
   "source": [
    "uniprot = pd.read_csv(\"/srv/home/wconnell/keiser/data/uniprot_mapping_ids/TCGA_rnaseq_uniprot_features.tab.gz\", sep=\"\\t\")\n",
    "uniprot.head()"
   ]
  },
  {
   "cell_type": "code",
   "execution_count": 5,
   "metadata": {},
   "outputs": [
    {
     "data": {
      "text/plain": [
       "13311"
      ]
     },
     "execution_count": 5,
     "metadata": {},
     "output_type": "execute_result"
    }
   ],
   "source": [
    "uniprot[\"Gene ontology (biological process)\"].nunique()"
   ]
  },
  {
   "cell_type": "code",
   "execution_count": 7,
   "metadata": {},
   "outputs": [
    {
     "data": {
      "text/plain": [
       "regulation of transcription, DNA-templated [GO:0006355]                                                                                                                                                                                                                                                                                                                                                                                                                       269\n",
       "G protein-coupled receptor signaling pathway [GO:0007186]                                                                                                                                                                                                                                                                                                                                                                                                                     119\n",
       "keratinization [GO:0031424]                                                                                                                                                                                                                                                                                                                                                                                                                                                    94\n",
       "G protein-coupled receptor signaling pathway [GO:0007186]; sensory perception of smell [GO:0007608]                                                                                                                                                                                                                                                                                                                                                                            84\n",
       "adaptive immune response [GO:0002250]                                                                                                                                                                                                                                                                                                                                                                                                                                          82\n",
       "adaptive immune response [GO:0002250]; immune response [GO:0006955]; immunoglobulin production [GO:0002377]                                                                                                                                                                                                                                                                                                                                                                    52\n",
       "complement activation [GO:0006956]; complement activation, classical pathway [GO:0006958]; Fc-epsilon receptor signaling pathway [GO:0038095]; Fc-gamma receptor signaling pathway involved in phagocytosis [GO:0038096]; immune response [GO:0006955]; immunoglobulin production [GO:0002377]; leukocyte migration [GO:0050900]; receptor-mediated endocytosis [GO:0006898]; regulation of complement activation [GO:0030449]; regulation of immune response [GO:0050776]     35\n",
       "proteolysis [GO:0006508]                                                                                                                                                                                                                                                                                                                                                                                                                                                       33\n",
       "B cell receptor signaling pathway [GO:0050853]; complement activation, classical pathway [GO:0006958]; defense response to bacterium [GO:0042742]; innate immune response [GO:0045087]; phagocytosis, engulfment [GO:0006911]; phagocytosis, recognition [GO:0006910]; positive regulation of B cell activation [GO:0050871]                                                                                                                                                   28\n",
       "cell adhesion [GO:0007155]; homophilic cell adhesion via plasma membrane adhesion molecules [GO:0007156]                                                                                                                                                                                                                                                                                                                                                                       26\n",
       "Name: Gene ontology (biological process), dtype: int64"
      ]
     },
     "execution_count": 7,
     "metadata": {},
     "output_type": "execute_result"
    }
   ],
   "source": [
    "uniprot[\"Gene ontology (biological process)\"].value_counts().nlargest(10)"
   ]
  },
  {
   "cell_type": "code",
   "execution_count": 9,
   "metadata": {},
   "outputs": [
    {
     "data": {
      "text/plain": [
       "9322"
      ]
     },
     "execution_count": 9,
     "metadata": {},
     "output_type": "execute_result"
    },
    {
     "data": {
      "text/plain": [
       "DNA binding [GO:0003677]; metal ion binding [GO:0046872]                                                                    305\n",
       "G protein-coupled receptor activity [GO:0004930]; olfactory receptor activity [GO:0004984]                                  276\n",
       "RNA binding [GO:0003723]                                                                                                    228\n",
       "calcium ion binding [GO:0005509]                                                                                            152\n",
       "metal ion binding [GO:0046872]                                                                                              116\n",
       "identical protein binding [GO:0042802]                                                                                       82\n",
       "G protein-coupled receptor activity [GO:0004930]; odorant binding [GO:0005549]; olfactory receptor activity [GO:0004984]     80\n",
       "G protein-coupled receptor activity [GO:0004930]                                                                             66\n",
       "zinc ion binding [GO:0008270]                                                                                                65\n",
       "DNA binding [GO:0003677]; DNA-binding transcription factor activity [GO:0003700]; metal ion binding [GO:0046872]             64\n",
       "Name: Gene ontology (molecular function), dtype: int64"
      ]
     },
     "execution_count": 9,
     "metadata": {},
     "output_type": "execute_result"
    }
   ],
   "source": [
    "uniprot[\"Gene ontology (molecular function)\"].nunique()\n",
    "uniprot[\"Gene ontology (molecular function)\"].value_counts().nlargest(10)"
   ]
  },
  {
   "cell_type": "code",
   "execution_count": 12,
   "metadata": {},
   "outputs": [
    {
     "data": {
      "text/plain": [
       "10475"
      ]
     },
     "execution_count": 12,
     "metadata": {},
     "output_type": "execute_result"
    },
    {
     "data": {
      "text/plain": [
       "nucleus [GO:0005634]                                                                721\n",
       "integral component of membrane [GO:0016021]; plasma membrane [GO:0005886]           560\n",
       "integral component of membrane [GO:0016021]                                         489\n",
       "cytosol [GO:0005829]                                                                268\n",
       "extracellular region [GO:0005576]                                                   253\n",
       "cytoplasm [GO:0005737]                                                              237\n",
       "cytoplasm [GO:0005737]; nucleus [GO:0005634]                                        167\n",
       "nuclear chromatin [GO:0000790]; nucleus [GO:0005634]                                154\n",
       "extracellular region [GO:0005576]; extracellular space [GO:0005615]                 106\n",
       "extracellular space [GO:0005615]                                                    104\n",
       "integral component of plasma membrane [GO:0005887]; plasma membrane [GO:0005886]     95\n",
       "nucleoplasm [GO:0005654]                                                             93\n",
       "nucleoplasm [GO:0005654]; nucleus [GO:0005634]                                       85\n",
       "integral component of plasma membrane [GO:0005887]                                   80\n",
       "nuclear chromatin [GO:0000790]                                                       75\n",
       "cytoplasm [GO:0005737]; cytosol [GO:0005829]                                         74\n",
       "T cell receptor complex [GO:0042101]                                                 74\n",
       "mitochondrial matrix [GO:0005759]; mitochondrion [GO:0005739]                        71\n",
       "cytosol [GO:0005829]; nucleoplasm [GO:0005654]                                       61\n",
       "mitochondrion [GO:0005739]                                                           61\n",
       "Name: Gene ontology (cellular component), dtype: int64"
      ]
     },
     "execution_count": 12,
     "metadata": {},
     "output_type": "execute_result"
    }
   ],
   "source": [
    "uniprot[\"Gene ontology (cellular component)\"].nunique()\n",
    "uniprot[\"Gene ontology (cellular component)\"].value_counts().nlargest(20)"
   ]
  },
  {
   "cell_type": "code",
   "execution_count": 30,
   "metadata": {},
   "outputs": [],
   "source": [
    "keratin = uniprot[uniprot[\"Gene ontology (biological process)\"] == \"keratinization [GO:0031424]\"]"
   ]
  },
  {
   "cell_type": "code",
   "execution_count": 46,
   "metadata": {},
   "outputs": [],
   "source": [
    "gpcr = uniprot[uniprot[\"Gene ontology (biological process)\"] == \"G protein-coupled receptor signaling pathway [GO:0007186]\"]"
   ]
  },
  {
   "cell_type": "markdown",
   "metadata": {},
   "source": [
    "### TCGA data"
   ]
  },
  {
   "cell_type": "code",
   "execution_count": 17,
   "metadata": {},
   "outputs": [],
   "source": [
    "tcga, tcga_meta = process_TCGA(disease=['PRAD'])"
   ]
  },
  {
   "cell_type": "code",
   "execution_count": 47,
   "metadata": {},
   "outputs": [
    {
     "data": {
      "text/plain": [
       "0.9831932773109243"
      ]
     },
     "execution_count": 47,
     "metadata": {},
     "output_type": "execute_result"
    }
   ],
   "source": [
    "tcga.columns.isin(gpcr['Gene names  (primary )']).sum() / gpcr.shape[0]"
   ]
  },
  {
   "cell_type": "code",
   "execution_count": 48,
   "metadata": {},
   "outputs": [
    {
     "data": {
      "text/plain": [
       "(558, 117)"
      ]
     },
     "execution_count": 48,
     "metadata": {},
     "output_type": "execute_result"
    }
   ],
   "source": [
    "tcga.loc[:,tcga.columns.isin(gpcr['Gene names  (primary )'])].shape"
   ]
  },
  {
   "cell_type": "code",
   "execution_count": 49,
   "metadata": {},
   "outputs": [
    {
     "data": {
      "text/plain": [
       "(119, 19)"
      ]
     },
     "execution_count": 49,
     "metadata": {},
     "output_type": "execute_result"
    }
   ],
   "source": [
    "gpcr.shape"
   ]
  },
  {
   "cell_type": "code",
   "execution_count": null,
   "metadata": {},
   "outputs": [],
   "source": []
  }
 ],
 "metadata": {
  "kernelspec": {
   "display_name": "torch",
   "language": "python",
   "name": "torch"
  },
  "language_info": {
   "codemirror_mode": {
    "name": "ipython",
    "version": 3
   },
   "file_extension": ".py",
   "mimetype": "text/x-python",
   "name": "python",
   "nbconvert_exporter": "python",
   "pygments_lexer": "ipython3",
   "version": "3.7.3"
  }
 },
 "nbformat": 4,
 "nbformat_minor": 2
}
