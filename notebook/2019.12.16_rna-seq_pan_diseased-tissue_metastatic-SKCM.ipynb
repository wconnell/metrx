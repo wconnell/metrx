{
 "cells": [
  {
   "cell_type": "code",
   "execution_count": 1,
   "metadata": {},
   "outputs": [],
   "source": [
    "import numpy as np\n",
    "import pandas as pd\n",
    "\n",
    "# viz\n",
    "import matplotlib.pyplot as plt\n",
    "\n",
    "# notebook settings\n",
    "from IPython.core.interactiveshell import InteractiveShell\n",
    "InteractiveShell.ast_node_interactivity = \"all\"\n",
    "\n",
    "pd.set_option('display.max_columns', 1000)"
   ]
  },
  {
   "cell_type": "markdown",
   "metadata": {},
   "source": [
    "## Sample Prep"
   ]
  },
  {
   "cell_type": "code",
   "execution_count": 2,
   "metadata": {},
   "outputs": [
    {
     "data": {
      "text/plain": [
       "BRCA    1206\n",
       "LUAD     588\n",
       "UCEC     567\n",
       "KIRC     554\n",
       "LUSC     543\n",
       "LGG      524\n",
       "PRAD     517\n",
       "COAD     506\n",
       "THCA     505\n",
       "SKCM     469\n",
       "BLCA     431\n",
       "LIHC     421\n",
       "STAD     402\n",
       "OV       379\n",
       "KIRP     308\n",
       "CESC     306\n",
       "PAAD     171\n",
       "ESCA     171\n",
       "GBM      166\n",
       "TGCT     150\n",
       "PCPG     133\n",
       "LAML     123\n",
       "KICH      81\n",
       "ACC       75\n",
       "CHOL      41\n",
       "SARC      10\n",
       "DLBC       9\n",
       "READ       7\n",
       "MESO       1\n",
       "Name: project, dtype: int64"
      ]
     },
     "execution_count": 2,
     "metadata": {},
     "output_type": "execute_result"
    }
   ],
   "source": [
    "samples = pd.read_csv('../data/TCGA/rna-seq_pan/meta/gdc_sample_sheet.2019-12-12.tsv', sep=\"\\t\")\n",
    "# get file type\n",
    "samples['data'] = [val[1] for i,val in samples['File Name'].str.split(\".\").items()]\n",
    "samples['project'] = [val[1] for i,val in samples['Project ID'].str.split(\"-\").items()]\n",
    "samples['project'].value_counts()"
   ]
  },
  {
   "cell_type": "code",
   "execution_count": 3,
   "metadata": {},
   "outputs": [
    {
     "data": {
      "text/plain": [
       "Primary Tumor                                      8166\n",
       "Solid Tissue Normal                                 636\n",
       "Metastatic                                          385\n",
       "Primary Blood Derived Cancer - Peripheral Blood     123\n",
       "Recurrent Tumor                                      43\n",
       "Additional - New Primary                             10\n",
       "Additional Metastatic                                 1\n",
       "Name: Sample Type, dtype: int64"
      ]
     },
     "execution_count": 3,
     "metadata": {},
     "output_type": "execute_result"
    }
   ],
   "source": [
    "samples['Sample Type'].value_counts()"
   ]
  },
  {
   "cell_type": "markdown",
   "metadata": {},
   "source": [
    "## New Model based on Tissues with available metastatic samples"
   ]
  },
  {
   "cell_type": "code",
   "execution_count": 4,
   "metadata": {},
   "outputs": [
    {
     "data": {
      "text/plain": [
       "SKCM    364\n",
       "BRCA      7\n",
       "THCA      7\n",
       "CESC      2\n",
       "COAD      1\n",
       "PCPG      1\n",
       "PAAD      1\n",
       "PRAD      1\n",
       "ESCA      1\n",
       "Name: project, dtype: int64"
      ]
     },
     "execution_count": 4,
     "metadata": {},
     "output_type": "execute_result"
    },
    {
     "data": {
      "text/plain": [
       "BRCA    1087\n",
       "UCEC     544\n",
       "LUAD     528\n",
       "LGG      506\n",
       "LUSC     496\n",
       "KIRC     483\n",
       "PRAD     466\n",
       "COAD     465\n",
       "THCA     445\n",
       "Name: project, dtype: int64"
      ]
     },
     "execution_count": 4,
     "metadata": {},
     "output_type": "execute_result"
    }
   ],
   "source": [
    "samples[samples['Sample Type']=='Metastatic']['project'].value_counts()\n",
    "samples[samples['Sample Type']=='Primary Tumor']['project'].value_counts().head(9)"
   ]
  },
  {
   "cell_type": "code",
   "execution_count": 5,
   "metadata": {},
   "outputs": [
    {
     "data": {
      "text/plain": [
       "(8166, 10)"
      ]
     },
     "execution_count": 5,
     "metadata": {},
     "output_type": "execute_result"
    },
    {
     "data": {
      "text/plain": [
       "BRCA    1087\n",
       "UCEC     544\n",
       "LUAD     528\n",
       "LGG      506\n",
       "LUSC     496\n",
       "KIRC     483\n",
       "PRAD     466\n",
       "COAD     465\n",
       "THCA     445\n",
       "SKCM     103\n",
       "Name: project, dtype: int64"
      ]
     },
     "execution_count": 5,
     "metadata": {},
     "output_type": "execute_result"
    },
    {
     "data": {
      "text/plain": [
       "(5123, 10)"
      ]
     },
     "execution_count": 5,
     "metadata": {},
     "output_type": "execute_result"
    }
   ],
   "source": [
    "proj = np.append(samples['project'].value_counts().head(9).index.values, ['SKCM'])\n",
    "\n",
    "cases = samples[samples['Sample Type']=='Primary Tumor'].sample(frac=1).copy()\n",
    "cases.shape\n",
    "cases = cases[cases['project'].isin(proj)]\n",
    "cases['project'].value_counts()\n",
    "cases.shape"
   ]
  },
  {
   "cell_type": "markdown",
   "metadata": {},
   "source": [
    "## Dataset Prep"
   ]
  },
  {
   "cell_type": "code",
   "execution_count": 6,
   "metadata": {},
   "outputs": [],
   "source": [
    "from sklearn.model_selection import train_test_split\n",
    "\n",
    "target = 'project'\n",
    "cases[target] = cases[target].astype('category')\n",
    "train, test = train_test_split(cases)"
   ]
  },
  {
   "cell_type": "code",
   "execution_count": 7,
   "metadata": {},
   "outputs": [
    {
     "name": "stdout",
     "output_type": "stream",
     "text": [
      "8 GPUs available\n"
     ]
    }
   ],
   "source": [
    "import torch\n",
    "import torch.nn as nn\n",
    "from torch.optim import lr_scheduler\n",
    "import torch.optim as optim\n",
    "from torch.autograd import Variable\n",
    "\n",
    "from trainer import fit\n",
    "import visualization as vis\n",
    "import numpy as np\n",
    "\n",
    "if torch.cuda.is_available():\n",
    "    cuda = torch.cuda.is_available()\n",
    "    print(\"{} GPUs available\".format(torch.cuda.device_count()))\n",
    "\n",
    "classes = train[target].cat.categories.values\n"
   ]
  },
  {
   "cell_type": "code",
   "execution_count": 8,
   "metadata": {},
   "outputs": [
    {
     "name": "stdout",
     "output_type": "stream",
     "text": [
      "Loaded\n"
     ]
    }
   ],
   "source": [
    "from tcga_datasets import TCGA, SiameseTCGA\n",
    "root_dir = \"../data/TCGA/rna-seq_pan/\"\n",
    "batch_size = 1\n",
    "\n",
    "train_dataset = TCGA(root_dir, samples=train, train=True, target=target)\n",
    "test_dataset = TCGA(root_dir, samples=test, train=False, target=target)\n",
    "print('Loaded')\n",
    "kwargs = {'num_workers': 1, 'pin_memory': True} if cuda else {}\n",
    "train_loader = torch.utils.data.DataLoader(train_dataset, batch_size=batch_size, shuffle=False, **kwargs)\n",
    "test_loader = torch.utils.data.DataLoader(test_dataset, batch_size=batch_size, shuffle=False, **kwargs)"
   ]
  },
  {
   "cell_type": "markdown",
   "metadata": {},
   "source": [
    "## Siamese Network"
   ]
  },
  {
   "cell_type": "code",
   "execution_count": 23,
   "metadata": {},
   "outputs": [
    {
     "data": {
      "text/plain": [
       "DataParallel(\n",
       "  (module): SiameseNet(\n",
       "    (embedding_net): EmbeddingNet(\n",
       "      (fc): Sequential(\n",
       "        (0): Linear(in_features=60483, out_features=2000, bias=True)\n",
       "        (1): PReLU(num_parameters=1)\n",
       "        (2): Linear(in_features=2000, out_features=500, bias=True)\n",
       "        (3): PReLU(num_parameters=1)\n",
       "        (4): Linear(in_features=500, out_features=250, bias=True)\n",
       "        (5): PReLU(num_parameters=1)\n",
       "        (6): Linear(in_features=250, out_features=100, bias=True)\n",
       "        (7): PReLU(num_parameters=1)\n",
       "        (8): Linear(in_features=100, out_features=50, bias=True)\n",
       "        (9): PReLU(num_parameters=1)\n",
       "        (10): Linear(in_features=50, out_features=10, bias=True)\n",
       "        (11): PReLU(num_parameters=1)\n",
       "        (12): Linear(in_features=10, out_features=2, bias=True)\n",
       "      )\n",
       "    )\n",
       "  )\n",
       ")"
      ]
     },
     "execution_count": 23,
     "metadata": {},
     "output_type": "execute_result"
    }
   ],
   "source": [
    "# Step 1 set up dataloader\n",
    "siamese_train_dataset = SiameseTCGA(train_dataset) # Returns pairs of images and target same/different\n",
    "siamese_test_dataset = SiameseTCGA(test_dataset)\n",
    "batch_size = 64\n",
    "kwargs = {'num_workers': 20, 'pin_memory': True} if cuda else {}\n",
    "siamese_train_loader = torch.utils.data.DataLoader(siamese_train_dataset, batch_size=batch_size, shuffle=True, **kwargs)\n",
    "siamese_test_loader = torch.utils.data.DataLoader(siamese_test_dataset, batch_size=batch_size, shuffle=False, **kwargs)\n",
    "\n",
    "# Set up the network and training parameters\n",
    "from tcga_networks import EmbeddingNet, SiameseNet\n",
    "from losses import ContrastiveLoss\n",
    "from metrics import AccumulatedAccuracyMetric\n",
    "\n",
    "# Step 2\n",
    "embedding_net = EmbeddingNet()\n",
    "# Step 3\n",
    "model = SiameseNet(embedding_net)\n",
    "if cuda:\n",
    "    model = nn.DataParallel(model)\n",
    "    model.cuda()\n",
    "    \n",
    "# Step 4\n",
    "margin = 1.\n",
    "loss_fn = ContrastiveLoss(margin)\n",
    "lr = 1e-3\n",
    "optimizer = optim.Adam(model.parameters(), lr=lr)\n",
    "scheduler = lr_scheduler.StepLR(optimizer, 8, gamma=0.1, last_epoch=-1)\n",
    "n_epochs = 8\n",
    "# print training metrics every log_interval * batch_size\n",
    "log_interval = 4"
   ]
  },
  {
   "cell_type": "code",
   "execution_count": null,
   "metadata": {},
   "outputs": [
    {
     "name": "stdout",
     "output_type": "stream",
     "text": [
      "Train: [0/3842 (0%)]\tLoss: 0.154764\n",
      "Train: [256/3842 (7%)]\tLoss: 5.473493\n",
      "Train: [512/3842 (13%)]\tLoss: 0.770664\n",
      "Train: [768/3842 (20%)]\tLoss: 3.586725\n",
      "Train: [1024/3842 (26%)]\tLoss: 0.429813\n",
      "Train: [1280/3842 (33%)]\tLoss: 1.186276\n",
      "Train: [1536/3842 (39%)]\tLoss: 1.381489\n",
      "Train: [1792/3842 (46%)]\tLoss: 0.410460\n",
      "Train: [2048/3842 (52%)]\tLoss: 1.311575\n",
      "Train: [2304/3842 (59%)]\tLoss: 0.689415\n",
      "Train: [2560/3842 (66%)]\tLoss: 1.807112\n",
      "Train: [2816/3842 (72%)]\tLoss: 0.843931\n",
      "Train: [3072/3842 (79%)]\tLoss: 0.441966\n",
      "Train: [3328/3842 (85%)]\tLoss: 0.202272\n",
      "Train: [3584/3842 (92%)]\tLoss: 0.217853\n",
      "Train: [120/3842 (98%)]\tLoss: 0.938776\n",
      "Epoch: 1/8. Train set: Average loss: 1.2938\n",
      "Epoch: 1/8. Validation set: Average loss: 4.2793\n",
      "Train: [0/3842 (0%)]\tLoss: 11.663042\n",
      "Train: [256/3842 (7%)]\tLoss: 0.767174\n",
      "Train: [512/3842 (13%)]\tLoss: 0.702323\n",
      "Train: [768/3842 (20%)]\tLoss: 13.336773\n",
      "Train: [1024/3842 (26%)]\tLoss: 2.797228\n",
      "Train: [1280/3842 (33%)]\tLoss: 1.121683\n",
      "Train: [1536/3842 (39%)]\tLoss: 0.719549\n",
      "Train: [1792/3842 (46%)]\tLoss: 1.497713\n",
      "Train: [2048/3842 (52%)]\tLoss: 0.432077\n",
      "Train: [2304/3842 (59%)]\tLoss: 1.577474\n",
      "Train: [2560/3842 (66%)]\tLoss: 7.316233\n",
      "Train: [2816/3842 (72%)]\tLoss: 2.262206\n",
      "Train: [3072/3842 (79%)]\tLoss: 3.030925\n",
      "Train: [3328/3842 (85%)]\tLoss: 1.188261\n",
      "Train: [3584/3842 (92%)]\tLoss: 0.781908\n",
      "Train: [120/3842 (98%)]\tLoss: 0.446683\n",
      "Epoch: 2/8. Train set: Average loss: 2.6816\n",
      "Epoch: 2/8. Validation set: Average loss: 0.1545\n",
      "Train: [0/3842 (0%)]\tLoss: 0.176105\n",
      "Train: [256/3842 (7%)]\tLoss: 0.178326\n",
      "Train: [512/3842 (13%)]\tLoss: 0.279621\n",
      "Train: [768/3842 (20%)]\tLoss: 0.136791\n",
      "Train: [1024/3842 (26%)]\tLoss: 0.148906\n",
      "Train: [1280/3842 (33%)]\tLoss: 0.146629\n",
      "Train: [1536/3842 (39%)]\tLoss: 0.152748\n",
      "Train: [1792/3842 (46%)]\tLoss: 0.169032\n",
      "Train: [2048/3842 (52%)]\tLoss: 0.121632\n",
      "Train: [2304/3842 (59%)]\tLoss: 0.127311\n",
      "Train: [2560/3842 (66%)]\tLoss: 0.174492\n",
      "Train: [2816/3842 (72%)]\tLoss: 0.110927\n",
      "Train: [3072/3842 (79%)]\tLoss: 0.110610\n",
      "Train: [3328/3842 (85%)]\tLoss: 0.236859\n",
      "Train: [3584/3842 (92%)]\tLoss: 0.173859\n",
      "Train: [120/3842 (98%)]\tLoss: 0.083620\n",
      "Epoch: 3/8. Train set: Average loss: 0.1571\n",
      "Epoch: 3/8. Validation set: Average loss: 0.1001\n",
      "Train: [0/3842 (0%)]\tLoss: 0.144654\n",
      "Train: [256/3842 (7%)]\tLoss: 0.069552\n",
      "Train: [512/3842 (13%)]\tLoss: 0.075354\n",
      "Train: [768/3842 (20%)]\tLoss: 0.069079\n",
      "Train: [1024/3842 (26%)]\tLoss: 0.062714\n",
      "Train: [1280/3842 (33%)]\tLoss: 0.085847\n",
      "Train: [1536/3842 (39%)]\tLoss: 0.068812\n",
      "Train: [1792/3842 (46%)]\tLoss: 0.065267\n",
      "Train: [2048/3842 (52%)]\tLoss: 0.068256\n",
      "Train: [2304/3842 (59%)]\tLoss: 0.059904\n",
      "Train: [2560/3842 (66%)]\tLoss: 0.064222\n",
      "Train: [2816/3842 (72%)]\tLoss: 0.056450\n",
      "Train: [3072/3842 (79%)]\tLoss: 0.057656\n",
      "Train: [3328/3842 (85%)]\tLoss: 0.065219\n",
      "Train: [3584/3842 (92%)]\tLoss: 0.047660\n",
      "Train: [120/3842 (98%)]\tLoss: 0.036634\n",
      "Epoch: 4/8. Train set: Average loss: 0.0648\n",
      "Epoch: 4/8. Validation set: Average loss: 0.0621\n",
      "Train: [0/3842 (0%)]\tLoss: 0.064000\n",
      "Train: [256/3842 (7%)]\tLoss: 0.055790\n",
      "Train: [512/3842 (13%)]\tLoss: 0.129598\n",
      "Train: [768/3842 (20%)]\tLoss: 0.131458\n",
      "Train: [1024/3842 (26%)]\tLoss: 0.183881\n",
      "Train: [1280/3842 (33%)]\tLoss: 0.072684\n",
      "Train: [1536/3842 (39%)]\tLoss: 0.045016\n",
      "Train: [1792/3842 (46%)]\tLoss: 0.078769\n",
      "Train: [2048/3842 (52%)]\tLoss: 0.071546\n",
      "Train: [2304/3842 (59%)]\tLoss: 0.072028\n",
      "Train: [2560/3842 (66%)]\tLoss: 0.050866\n",
      "Train: [2816/3842 (72%)]\tLoss: 0.058598\n",
      "Train: [3072/3842 (79%)]\tLoss: 0.044501\n",
      "Train: [3328/3842 (85%)]\tLoss: 0.045276\n",
      "Train: [3584/3842 (92%)]\tLoss: 0.045073\n"
     ]
    }
   ],
   "source": [
    "train_loss, val_loss = fit(siamese_train_loader, siamese_test_loader, model, loss_fn, optimizer, scheduler, \n",
    "    n_epochs, cuda, log_interval)"
   ]
  },
  {
   "cell_type": "code",
   "execution_count": null,
   "metadata": {},
   "outputs": [],
   "source": [
    "plt.plot(range(0, n_epochs), train_loss, 'rx-')\n",
    "plt.plot(range(0, n_epochs), val_loss, 'bx-')"
   ]
  },
  {
   "cell_type": "code",
   "execution_count": null,
   "metadata": {},
   "outputs": [],
   "source": [
    "classes = train[target].cat.categories.values\n",
    "train_embeddings_cl, train_labels_cl = vis.extract_embeddings(train_loader, model)\n",
    "vis.plot_embeddings(train_embeddings_cl, train_labels_cl, classes)"
   ]
  },
  {
   "cell_type": "code",
   "execution_count": null,
   "metadata": {},
   "outputs": [],
   "source": [
    "val_embeddings_baseline, val_labels_baseline = vis.extract_embeddings(test_loader, model)\n",
    "vis.plot_embeddings(val_embeddings_baseline, val_labels_baseline, classes)"
   ]
  },
  {
   "cell_type": "markdown",
   "metadata": {},
   "source": [
    "### Project Metastatic SKCM onto learned space"
   ]
  },
  {
   "cell_type": "code",
   "execution_count": null,
   "metadata": {},
   "outputs": [],
   "source": [
    "skcm_cat = np.where(cases['project'].cat.categories.values=='SKCM')[0][0]"
   ]
  },
  {
   "cell_type": "code",
   "execution_count": null,
   "metadata": {},
   "outputs": [],
   "source": [
    "ms = samples[(samples['Sample Type']=='Metastatic') & (samples['project']=='SKCM')].sample(frac=1).copy()\n",
    "ms[target] = [i + '-MET' for i in ms[target]]\n",
    "ms[target] = ms[target].astype('category')\n",
    "\n",
    "met_classes = ms[target].cat.categories.values"
   ]
  },
  {
   "cell_type": "code",
   "execution_count": null,
   "metadata": {},
   "outputs": [],
   "source": [
    "root_dir = \"../data/TCGA/rna-seq_pan/\"\n",
    "batch_size = 1\n",
    "\n",
    "ms_dataset = TCGA(root_dir, samples=ms, train=False, target=target)\n",
    "print('Loaded')\n",
    "kwargs = {'num_workers': 1, 'pin_memory': True} if cuda else {}\n",
    "ms_loader = torch.utils.data.DataLoader(ms_dataset, batch_size=batch_size, shuffle=False, **kwargs)"
   ]
  },
  {
   "cell_type": "code",
   "execution_count": null,
   "metadata": {},
   "outputs": [],
   "source": [
    "\n",
    "ms_embeddings_baseline, ms_labels_baseline = vis.extract_embeddings(ms_loader, model)"
   ]
  },
  {
   "cell_type": "code",
   "execution_count": null,
   "metadata": {},
   "outputs": [],
   "source": [
    "comb_classes = np.append(classes, met_classes)\n",
    "\n",
    "comb_embeddings = np.append(train_embeddings_cl, ms_embeddings_baseline, axis=0)\n",
    "comb_embeddings.shape\n",
    "\n",
    "ms_labels = np.repeat(np.unique(train_labels_cl).max() + 1, len(ms_labels_baseline))\n",
    "comb_labels = np.append(train_labels_cl, ms_labels, axis=0)\n",
    "comb_labels.shape"
   ]
  },
  {
   "cell_type": "code",
   "execution_count": null,
   "metadata": {},
   "outputs": [],
   "source": [
    "vis.plot_embeddings(comb_embeddings, comb_labels, comb_classes)"
   ]
  },
  {
   "cell_type": "code",
   "execution_count": null,
   "metadata": {},
   "outputs": [],
   "source": []
  }
 ],
 "metadata": {
  "kernelspec": {
   "display_name": "torch",
   "language": "python",
   "name": "torch"
  },
  "language_info": {
   "codemirror_mode": {
    "name": "ipython",
    "version": 3
   },
   "file_extension": ".py",
   "mimetype": "text/x-python",
   "name": "python",
   "nbconvert_exporter": "python",
   "pygments_lexer": "ipython3",
   "version": "3.7.3"
  }
 },
 "nbformat": 4,
 "nbformat_minor": 2
}
