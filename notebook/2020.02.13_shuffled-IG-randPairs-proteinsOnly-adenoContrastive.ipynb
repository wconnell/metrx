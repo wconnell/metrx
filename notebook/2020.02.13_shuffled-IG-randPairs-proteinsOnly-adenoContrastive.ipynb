{
 "cells": [
  {
   "cell_type": "code",
   "execution_count": 1,
   "metadata": {},
   "outputs": [],
   "source": [
    "%load_ext autoreload\n",
    "%autoreload 2"
   ]
  },
  {
   "cell_type": "code",
   "execution_count": 2,
   "metadata": {},
   "outputs": [],
   "source": [
    "import numpy as np\n",
    "import pandas as pd\n",
    "#np.random.seed(123)\n",
    "\n",
    "# viz\n",
    "import matplotlib.pyplot as plt\n",
    "\n",
    "# notebook settings\n",
    "from IPython.core.interactiveshell import InteractiveShell\n",
    "InteractiveShell.ast_node_interactivity = \"all\"\n",
    "\n",
    "pd.set_option('display.max_columns', 1000)"
   ]
  },
  {
   "cell_type": "markdown",
   "metadata": {},
   "source": [
    "## Sample Prep"
   ]
  },
  {
   "cell_type": "code",
   "execution_count": 3,
   "metadata": {},
   "outputs": [
    {
     "data": {
      "text/plain": [
       "TCGA-LUSC    301\n",
       "TCGA-LUAD    287\n",
       "CPTAC-3      209\n",
       "Name: Project ID, dtype: int64"
      ]
     },
     "execution_count": 3,
     "metadata": {},
     "output_type": "execute_result"
    }
   ],
   "source": [
    "samples = pd.read_csv('../data/TCGA/rna-seq_adeno/meta/gdc_sample_sheet.2020-01-27.tsv', sep=\"\\t\")\n",
    "# get file type\n",
    "samples['data'] = [val[1] for i,val in samples['File Name'].str.split(\".\").items()]\n",
    "samples['Project ID'].value_counts()"
   ]
  },
  {
   "cell_type": "markdown",
   "metadata": {},
   "source": [
    "Samples with RNAseq adjacent normal tissue"
   ]
  },
  {
   "cell_type": "code",
   "execution_count": 4,
   "metadata": {},
   "outputs": [
    {
     "data": {
      "text/plain": [
       "Primary Tumor                               558\n",
       "Solid Tissue Normal                         206\n",
       "Primary Tumor, Primary Tumor                 29\n",
       "Solid Tissue Normal, Solid Tissue Normal      4\n",
       "Name: Sample Type, dtype: int64"
      ]
     },
     "execution_count": 4,
     "metadata": {},
     "output_type": "execute_result"
    }
   ],
   "source": [
    "samples['Sample Type'].value_counts()"
   ]
  },
  {
   "cell_type": "code",
   "execution_count": 5,
   "metadata": {},
   "outputs": [],
   "source": [
    "samples.loc[samples['Sample Type']=='Primary Tumor, Primary Tumor', 'Sample Type'] = 'Primary Tumor'\n",
    "samples.loc[samples['Sample Type']=='Solid Tissue Normal, Solid Tissue Normal', 'Sample Type'] = 'Solid Tissue Normal'"
   ]
  },
  {
   "cell_type": "code",
   "execution_count": 6,
   "metadata": {},
   "outputs": [
    {
     "data": {
      "text/plain": [
       "Primary Tumor          587\n",
       "Solid Tissue Normal    210\n",
       "Name: Sample Type, dtype: int64"
      ]
     },
     "execution_count": 6,
     "metadata": {},
     "output_type": "execute_result"
    }
   ],
   "source": [
    "samples['Sample Type'].value_counts()"
   ]
  },
  {
   "cell_type": "code",
   "execution_count": 7,
   "metadata": {},
   "outputs": [],
   "source": [
    "# all cases with adjacent normal tissue\n",
    "cases = samples[samples['Sample Type']=='Solid Tissue Normal']['Case ID']"
   ]
  },
  {
   "cell_type": "code",
   "execution_count": 8,
   "metadata": {},
   "outputs": [
    {
     "data": {
      "text/plain": [
       "176"
      ]
     },
     "execution_count": 8,
     "metadata": {},
     "output_type": "execute_result"
    },
    {
     "data": {
      "text/plain": [
       "210"
      ]
     },
     "execution_count": 8,
     "metadata": {},
     "output_type": "execute_result"
    }
   ],
   "source": [
    "# disparity in cases\n",
    "samples[(samples['Case ID'].isin(cases)) & (samples['Sample Type']=='Primary Tumor') \n",
    "        & (samples['data']=='FPKM')]['Case ID'].nunique()\n",
    "samples[(samples['Case ID'].isin(cases)) & (samples['Sample Type']=='Solid Tissue Normal') \n",
    "        & (samples['data']=='FPKM')]['Case ID'].nunique()"
   ]
  },
  {
   "cell_type": "code",
   "execution_count": 9,
   "metadata": {},
   "outputs": [
    {
     "data": {
      "text/plain": [
       "(187,)"
      ]
     },
     "execution_count": 9,
     "metadata": {},
     "output_type": "execute_result"
    }
   ],
   "source": [
    "# divide, join, subset\n",
    "case_tumor = samples[(samples['Case ID'].isin(cases)) & (samples['Sample Type']=='Primary Tumor') & \n",
    "                     (samples['data']=='FPKM')]\n",
    "case_norm = samples[(samples['Case ID'].isin(cases)) & (samples['Sample Type']=='Solid Tissue Normal') & \n",
    "                    (samples['data']=='FPKM')]\n",
    "cases = pd.merge(case_tumor['Case ID'], case_norm['Case ID'])['Case ID']\n",
    "cases.shape"
   ]
  },
  {
   "cell_type": "code",
   "execution_count": 10,
   "metadata": {},
   "outputs": [],
   "source": [
    "case_tumor = case_tumor[case_tumor['Case ID'].isin(cases)]\n",
    "case_norm = case_norm[case_norm['Case ID'].isin(cases)]\n",
    "# random shuffle so test dataset loader has random order\n",
    "cases = pd.concat([case_tumor, case_norm]).sample(frac=1)"
   ]
  },
  {
   "cell_type": "code",
   "execution_count": 11,
   "metadata": {},
   "outputs": [
    {
     "data": {
      "text/plain": [
       "(187, 9)"
      ]
     },
     "execution_count": 11,
     "metadata": {},
     "output_type": "execute_result"
    },
    {
     "data": {
      "text/plain": [
       "(176, 9)"
      ]
     },
     "execution_count": 11,
     "metadata": {},
     "output_type": "execute_result"
    },
    {
     "data": {
      "text/plain": [
       "(363, 9)"
      ]
     },
     "execution_count": 11,
     "metadata": {},
     "output_type": "execute_result"
    }
   ],
   "source": [
    "case_tumor.shape\n",
    "case_norm.shape\n",
    "cases.shape"
   ]
  },
  {
   "cell_type": "markdown",
   "metadata": {},
   "source": [
    "## Shuffle Labels"
   ]
  },
  {
   "cell_type": "code",
   "execution_count": 20,
   "metadata": {},
   "outputs": [],
   "source": [
    "cases['Sample Type'] = np.random.choice(cases['Sample Type'].values, len(cases))"
   ]
  },
  {
   "cell_type": "markdown",
   "metadata": {},
   "source": [
    "## Map Ensembl genes to Proteins"
   ]
  },
  {
   "cell_type": "code",
   "execution_count": 21,
   "metadata": {},
   "outputs": [
    {
     "data": {
      "text/plain": [
       "(18842, 22)"
      ]
     },
     "execution_count": 21,
     "metadata": {},
     "output_type": "execute_result"
    }
   ],
   "source": [
    "id_map = pd.read_csv(\"/srv/home/wconnell/keiser/data/uniprot_mapping_ids/map_ensembl_uniprot.csv\")\n",
    "reviewed_proteins = pd.read_csv(\"/srv/home/wconnell/keiser/data/uniprot_mapping_ids/TCGA_rnaseq_uniprot_features.tab.gz\", sep=\"\\t\")\n",
    "proteins = pd.merge(id_map, reviewed_proteins, left_on='UNIPROT_ID', right_on='Entry name')\n",
    "proteins['hgnc'] = [gene.split(\";\")[0] for gene in proteins['Gene names  (primary )']]\n",
    "proteins.shape"
   ]
  },
  {
   "cell_type": "markdown",
   "metadata": {},
   "source": [
    "## Dataset Prep"
   ]
  },
  {
   "cell_type": "markdown",
   "metadata": {},
   "source": [
    "Need to ensure test set has health/diseased samples matched for each case"
   ]
  },
  {
   "cell_type": "code",
   "execution_count": 22,
   "metadata": {},
   "outputs": [],
   "source": [
    "def train_test_split_case(samples, cases, test_size=0.25):\n",
    "    \"\"\"\n",
    "    Splits dataframe into random train and test sets for Siamese network evaluation.\n",
    "    \n",
    "    The test set will only contain cases with a single pair of matched samples.\n",
    "    The train set will contain all others, even cases that have > 2 samples, irrespective if they are exactly matched.\n",
    "    \n",
    "    \"\"\"\n",
    "    # total test size, round to even number for subsetting test\n",
    "    n_test = int(len(samples) * test_size)\n",
    "    if n_test % 2 != 0: n_test = n_test - 1\n",
    "    # subset samples with a single matched pair\n",
    "    ids = samples.groupby([cases]).size()\n",
    "    assert (ids > 1).all(), \"Some samples do not have at least a single matched pair.\"\n",
    "    ids = ids[ids == 2].index.values\n",
    "    test_ids = np.random.choice(ids, size=int(n_test/2), replace=False)\n",
    "    return samples[~samples[cases].isin(test_ids)].reset_index(drop=True), samples[samples[cases].isin(test_ids)].reset_index(drop=True)"
   ]
  },
  {
   "cell_type": "code",
   "execution_count": 23,
   "metadata": {},
   "outputs": [
    {
     "data": {
      "text/plain": [
       "Primary Tumor          146\n",
       "Solid Tissue Normal    127\n",
       "Name: Sample Type, dtype: int64"
      ]
     },
     "execution_count": 23,
     "metadata": {},
     "output_type": "execute_result"
    },
    {
     "data": {
      "text/plain": [
       "Primary Tumor          50\n",
       "Solid Tissue Normal    40\n",
       "Name: Sample Type, dtype: int64"
      ]
     },
     "execution_count": 23,
     "metadata": {},
     "output_type": "execute_result"
    }
   ],
   "source": [
    "from sklearn.model_selection import train_test_split\n",
    "from sklearn.preprocessing import StandardScaler\n",
    "\n",
    "target = 'Sample Type'\n",
    "cases[target] = cases[target].astype('category').cat.reorder_categories(['Solid Tissue Normal', 'Primary Tumor'])\n",
    "\n",
    "train, test = train_test_split_case(samples=cases, cases='Case ID', test_size=0.25)\n",
    "train[target].value_counts()\n",
    "test[target].value_counts()"
   ]
  },
  {
   "cell_type": "code",
   "execution_count": 24,
   "metadata": {},
   "outputs": [
    {
     "data": {
      "text/html": [
       "<div>\n",
       "<style scoped>\n",
       "    .dataframe tbody tr th:only-of-type {\n",
       "        vertical-align: middle;\n",
       "    }\n",
       "\n",
       "    .dataframe tbody tr th {\n",
       "        vertical-align: top;\n",
       "    }\n",
       "\n",
       "    .dataframe thead th {\n",
       "        text-align: right;\n",
       "    }\n",
       "</style>\n",
       "<table border=\"1\" class=\"dataframe\">\n",
       "  <thead>\n",
       "    <tr style=\"text-align: right;\">\n",
       "      <th></th>\n",
       "      <th>File ID</th>\n",
       "      <th>File Name</th>\n",
       "      <th>Data Category</th>\n",
       "      <th>Data Type</th>\n",
       "      <th>Project ID</th>\n",
       "      <th>Case ID</th>\n",
       "      <th>Sample ID</th>\n",
       "      <th>Sample Type</th>\n",
       "      <th>data</th>\n",
       "    </tr>\n",
       "  </thead>\n",
       "  <tbody>\n",
       "    <tr>\n",
       "      <th>746</th>\n",
       "      <td>60863d9a-cb65-4f5a-b8be-cca2746716d7</td>\n",
       "      <td>55d79fa7-5feb-4c1a-9572-aaac7ba5eb7e.FPKM.txt.gz</td>\n",
       "      <td>Transcriptome Profiling</td>\n",
       "      <td>Gene Expression Quantification</td>\n",
       "      <td>TCGA-LUAD</td>\n",
       "      <td>TCGA-55-6971</td>\n",
       "      <td>TCGA-55-6971-01A</td>\n",
       "      <td>Solid Tissue Normal</td>\n",
       "      <td>FPKM</td>\n",
       "    </tr>\n",
       "    <tr>\n",
       "      <th>344</th>\n",
       "      <td>406bb81d-ae6d-458b-90e6-6ea1b364e62d</td>\n",
       "      <td>fe906231-50f9-412a-a0e2-9c84eb2505cc.FPKM.txt.gz</td>\n",
       "      <td>Transcriptome Profiling</td>\n",
       "      <td>Gene Expression Quantification</td>\n",
       "      <td>CPTAC-3</td>\n",
       "      <td>C3L-02350</td>\n",
       "      <td>C3L-02350-06</td>\n",
       "      <td>Primary Tumor</td>\n",
       "      <td>FPKM</td>\n",
       "    </tr>\n",
       "    <tr>\n",
       "      <th>681</th>\n",
       "      <td>31354e62-cfd2-4119-9626-8385a727c542</td>\n",
       "      <td>b2a41a93-9530-49b8-964d-d58df94fef9f.FPKM.txt.gz</td>\n",
       "      <td>Transcriptome Profiling</td>\n",
       "      <td>Gene Expression Quantification</td>\n",
       "      <td>TCGA-LUSC</td>\n",
       "      <td>TCGA-77-7142</td>\n",
       "      <td>TCGA-77-7142-01A</td>\n",
       "      <td>Primary Tumor</td>\n",
       "      <td>FPKM</td>\n",
       "    </tr>\n",
       "    <tr>\n",
       "      <th>732</th>\n",
       "      <td>4ba43f28-d444-4114-a87a-425743058b7c</td>\n",
       "      <td>f204f6b8-03fb-4464-922d-de9fffeff9d5.FPKM.txt.gz</td>\n",
       "      <td>Transcriptome Profiling</td>\n",
       "      <td>Gene Expression Quantification</td>\n",
       "      <td>TCGA-LUAD</td>\n",
       "      <td>TCGA-49-6745</td>\n",
       "      <td>TCGA-49-6745-11A</td>\n",
       "      <td>Solid Tissue Normal</td>\n",
       "      <td>FPKM</td>\n",
       "    </tr>\n",
       "    <tr>\n",
       "      <th>521</th>\n",
       "      <td>9f8a1844-dbca-4aab-b849-c7616b2c9cdd</td>\n",
       "      <td>da7e58d4-34e4-4809-95d1-becd983d1da4.FPKM.txt.gz</td>\n",
       "      <td>Transcriptome Profiling</td>\n",
       "      <td>Gene Expression Quantification</td>\n",
       "      <td>TCGA-LUSC</td>\n",
       "      <td>TCGA-77-7142</td>\n",
       "      <td>TCGA-77-7142-11A</td>\n",
       "      <td>Solid Tissue Normal</td>\n",
       "      <td>FPKM</td>\n",
       "    </tr>\n",
       "    <tr>\n",
       "      <th>...</th>\n",
       "      <td>...</td>\n",
       "      <td>...</td>\n",
       "      <td>...</td>\n",
       "      <td>...</td>\n",
       "      <td>...</td>\n",
       "      <td>...</td>\n",
       "      <td>...</td>\n",
       "      <td>...</td>\n",
       "      <td>...</td>\n",
       "    </tr>\n",
       "    <tr>\n",
       "      <th>716</th>\n",
       "      <td>ff13bba0-f0c7-42c4-b141-dc5aafdf99ff</td>\n",
       "      <td>00068002-f4f0-4610-bfe6-67169c760d21.FPKM.txt.gz</td>\n",
       "      <td>Transcriptome Profiling</td>\n",
       "      <td>Gene Expression Quantification</td>\n",
       "      <td>TCGA-LUSC</td>\n",
       "      <td>TCGA-56-7823</td>\n",
       "      <td>TCGA-56-7823-01B</td>\n",
       "      <td>Primary Tumor</td>\n",
       "      <td>FPKM</td>\n",
       "    </tr>\n",
       "    <tr>\n",
       "      <th>82</th>\n",
       "      <td>081db6db-7768-4fc6-bbe8-0e9a783345ce</td>\n",
       "      <td>1ea50a97-2adb-4252-aec8-2fe94d49b0a0.FPKM.txt.gz</td>\n",
       "      <td>Transcriptome Profiling</td>\n",
       "      <td>Gene Expression Quantification</td>\n",
       "      <td>TCGA-LUSC</td>\n",
       "      <td>TCGA-56-8623</td>\n",
       "      <td>TCGA-56-8623-11A</td>\n",
       "      <td>Primary Tumor</td>\n",
       "      <td>FPKM</td>\n",
       "    </tr>\n",
       "    <tr>\n",
       "      <th>476</th>\n",
       "      <td>af26d9d6-4264-4bff-8aad-b53b166075a9</td>\n",
       "      <td>de55d942-cb2a-4574-b293-b0b6d8c15698.FPKM.txt.gz</td>\n",
       "      <td>Transcriptome Profiling</td>\n",
       "      <td>Gene Expression Quantification</td>\n",
       "      <td>CPTAC-3</td>\n",
       "      <td>C3N-00738</td>\n",
       "      <td>C3N-00738-03</td>\n",
       "      <td>Solid Tissue Normal</td>\n",
       "      <td>FPKM</td>\n",
       "    </tr>\n",
       "    <tr>\n",
       "      <th>245</th>\n",
       "      <td>e0606e79-c35f-4a88-96df-fbb5286addc7</td>\n",
       "      <td>c962af41-67e1-4e18-9d59-cee591ef98f9.FPKM.txt.gz</td>\n",
       "      <td>Transcriptome Profiling</td>\n",
       "      <td>Gene Expression Quantification</td>\n",
       "      <td>TCGA-LUAD</td>\n",
       "      <td>TCGA-50-6595</td>\n",
       "      <td>TCGA-50-6595-11A</td>\n",
       "      <td>Solid Tissue Normal</td>\n",
       "      <td>FPKM</td>\n",
       "    </tr>\n",
       "    <tr>\n",
       "      <th>153</th>\n",
       "      <td>64e03a2c-6bfa-4e46-b3ae-8d1ce20f3750</td>\n",
       "      <td>88495091-481f-4cce-bf05-1638afcbda27.FPKM.txt.gz</td>\n",
       "      <td>Transcriptome Profiling</td>\n",
       "      <td>Gene Expression Quantification</td>\n",
       "      <td>CPTAC-3</td>\n",
       "      <td>C3N-02155</td>\n",
       "      <td>C3N-02155-06</td>\n",
       "      <td>Primary Tumor</td>\n",
       "      <td>FPKM</td>\n",
       "    </tr>\n",
       "  </tbody>\n",
       "</table>\n",
       "<p>363 rows × 9 columns</p>\n",
       "</div>"
      ],
      "text/plain": [
       "                                  File ID  \\\n",
       "746  60863d9a-cb65-4f5a-b8be-cca2746716d7   \n",
       "344  406bb81d-ae6d-458b-90e6-6ea1b364e62d   \n",
       "681  31354e62-cfd2-4119-9626-8385a727c542   \n",
       "732  4ba43f28-d444-4114-a87a-425743058b7c   \n",
       "521  9f8a1844-dbca-4aab-b849-c7616b2c9cdd   \n",
       "..                                    ...   \n",
       "716  ff13bba0-f0c7-42c4-b141-dc5aafdf99ff   \n",
       "82   081db6db-7768-4fc6-bbe8-0e9a783345ce   \n",
       "476  af26d9d6-4264-4bff-8aad-b53b166075a9   \n",
       "245  e0606e79-c35f-4a88-96df-fbb5286addc7   \n",
       "153  64e03a2c-6bfa-4e46-b3ae-8d1ce20f3750   \n",
       "\n",
       "                                            File Name  \\\n",
       "746  55d79fa7-5feb-4c1a-9572-aaac7ba5eb7e.FPKM.txt.gz   \n",
       "344  fe906231-50f9-412a-a0e2-9c84eb2505cc.FPKM.txt.gz   \n",
       "681  b2a41a93-9530-49b8-964d-d58df94fef9f.FPKM.txt.gz   \n",
       "732  f204f6b8-03fb-4464-922d-de9fffeff9d5.FPKM.txt.gz   \n",
       "521  da7e58d4-34e4-4809-95d1-becd983d1da4.FPKM.txt.gz   \n",
       "..                                                ...   \n",
       "716  00068002-f4f0-4610-bfe6-67169c760d21.FPKM.txt.gz   \n",
       "82   1ea50a97-2adb-4252-aec8-2fe94d49b0a0.FPKM.txt.gz   \n",
       "476  de55d942-cb2a-4574-b293-b0b6d8c15698.FPKM.txt.gz   \n",
       "245  c962af41-67e1-4e18-9d59-cee591ef98f9.FPKM.txt.gz   \n",
       "153  88495091-481f-4cce-bf05-1638afcbda27.FPKM.txt.gz   \n",
       "\n",
       "               Data Category                       Data Type Project ID  \\\n",
       "746  Transcriptome Profiling  Gene Expression Quantification  TCGA-LUAD   \n",
       "344  Transcriptome Profiling  Gene Expression Quantification    CPTAC-3   \n",
       "681  Transcriptome Profiling  Gene Expression Quantification  TCGA-LUSC   \n",
       "732  Transcriptome Profiling  Gene Expression Quantification  TCGA-LUAD   \n",
       "521  Transcriptome Profiling  Gene Expression Quantification  TCGA-LUSC   \n",
       "..                       ...                             ...        ...   \n",
       "716  Transcriptome Profiling  Gene Expression Quantification  TCGA-LUSC   \n",
       "82   Transcriptome Profiling  Gene Expression Quantification  TCGA-LUSC   \n",
       "476  Transcriptome Profiling  Gene Expression Quantification    CPTAC-3   \n",
       "245  Transcriptome Profiling  Gene Expression Quantification  TCGA-LUAD   \n",
       "153  Transcriptome Profiling  Gene Expression Quantification    CPTAC-3   \n",
       "\n",
       "          Case ID         Sample ID          Sample Type  data  \n",
       "746  TCGA-55-6971  TCGA-55-6971-01A  Solid Tissue Normal  FPKM  \n",
       "344     C3L-02350      C3L-02350-06        Primary Tumor  FPKM  \n",
       "681  TCGA-77-7142  TCGA-77-7142-01A        Primary Tumor  FPKM  \n",
       "732  TCGA-49-6745  TCGA-49-6745-11A  Solid Tissue Normal  FPKM  \n",
       "521  TCGA-77-7142  TCGA-77-7142-11A  Solid Tissue Normal  FPKM  \n",
       "..            ...               ...                  ...   ...  \n",
       "716  TCGA-56-7823  TCGA-56-7823-01B        Primary Tumor  FPKM  \n",
       "82   TCGA-56-8623  TCGA-56-8623-11A        Primary Tumor  FPKM  \n",
       "476     C3N-00738      C3N-00738-03  Solid Tissue Normal  FPKM  \n",
       "245  TCGA-50-6595  TCGA-50-6595-11A  Solid Tissue Normal  FPKM  \n",
       "153     C3N-02155      C3N-02155-06        Primary Tumor  FPKM  \n",
       "\n",
       "[363 rows x 9 columns]"
      ]
     },
     "execution_count": 24,
     "metadata": {},
     "output_type": "execute_result"
    }
   ],
   "source": [
    "cases"
   ]
  },
  {
   "cell_type": "code",
   "execution_count": 25,
   "metadata": {},
   "outputs": [
    {
     "name": "stdout",
     "output_type": "stream",
     "text": [
      "Cuda is available: True\n"
     ]
    },
    {
     "data": {
      "text/plain": [
       "{'Solid Tissue Normal': 0, 'Primary Tumor': 1}"
      ]
     },
     "execution_count": 25,
     "metadata": {},
     "output_type": "execute_result"
    }
   ],
   "source": [
    "import torch\n",
    "from torch.optim import lr_scheduler\n",
    "import torch.optim as optim\n",
    "from torch.autograd import Variable\n",
    "#torch.manual_seed(123)\n",
    "\n",
    "from trainer import fit\n",
    "import visualization as vis\n",
    "import numpy as np\n",
    "cuda = torch.cuda.is_available()\n",
    "print(\"Cuda is available: {}\".format(cuda))\n",
    "\n",
    "classes = {key:val for val,key in enumerate(train[target].cat.categories.values)}\n",
    "classes"
   ]
  },
  {
   "cell_type": "code",
   "execution_count": 26,
   "metadata": {},
   "outputs": [],
   "source": [
    "from tcga_datasets import TCGA, SiameseTCGA\n",
    "root_dir = \"../data/TCGA/rna-seq_adeno/\"\n",
    "batch_size = 1\n",
    "\n",
    "train_dataset = TCGA(root_dir, samples=train, train=True, target=target, log=True)\n",
    "test_dataset = TCGA(root_dir, samples=test, train=False, target=target, log=True)\n",
    "\n",
    "scaler = StandardScaler()\n",
    "train_dataset.data = pd.DataFrame(scaler.fit_transform(train_dataset.data),\n",
    "                                  index=train_dataset.data.index,\n",
    "                                  columns=train_dataset.data.columns)\n",
    "test_dataset.data = pd.DataFrame(scaler.transform(test_dataset.data),\n",
    "                                 index=test_dataset.data.index,\n",
    "                                 columns=test_dataset.data.columns)\n",
    "\n",
    "kwargs = {'num_workers': 10, 'pin_memory': True} if cuda else {'num_workers': 10}\n",
    "train_loader = torch.utils.data.DataLoader(train_dataset, batch_size=batch_size, shuffle=True, **kwargs)\n",
    "test_loader = torch.utils.data.DataLoader(test_dataset, batch_size=batch_size, shuffle=False, **kwargs)"
   ]
  },
  {
   "cell_type": "markdown",
   "metadata": {},
   "source": [
    "#### Subset gene data to annotated proteins"
   ]
  },
  {
   "cell_type": "code",
   "execution_count": 27,
   "metadata": {},
   "outputs": [],
   "source": [
    "assert np.array_equal(train_dataset.data.columns, test_dataset.data.columns)\n",
    "parsed_cols = [ens[0] for ens in train_dataset.data.columns.str.split(\".\")]\n",
    "\n",
    "train_dataset.data.columns, test_dataset.data.columns = parsed_cols, parsed_cols\n",
    "protein_overlap_idx = np.isin(train_dataset.data.columns, proteins['ENSEMBL_ID'].values)\n",
    "\n",
    "train_dataset.data = train_dataset.data.loc[:,protein_overlap_idx]\n",
    "test_dataset.data = test_dataset.data.loc[:,protein_overlap_idx]"
   ]
  },
  {
   "cell_type": "markdown",
   "metadata": {},
   "source": [
    "## Siamese Network"
   ]
  },
  {
   "cell_type": "code",
   "execution_count": 28,
   "metadata": {},
   "outputs": [
    {
     "data": {
      "text/plain": [
       "SiameseNet(\n",
       "  (embedding_net): EmbeddingNet(\n",
       "    (fc): Sequential(\n",
       "      (linear1): Linear(in_features=18812, out_features=2000, bias=True)\n",
       "      (relu1): PReLU(num_parameters=1)\n",
       "      (linear2): Linear(in_features=2000, out_features=500, bias=True)\n",
       "      (relu2): PReLU(num_parameters=1)\n",
       "      (linear3): Linear(in_features=500, out_features=250, bias=True)\n",
       "      (relu3): PReLU(num_parameters=1)\n",
       "      (linear4): Linear(in_features=250, out_features=100, bias=True)\n",
       "      (relu4): PReLU(num_parameters=1)\n",
       "      (linear5): Linear(in_features=100, out_features=50, bias=True)\n",
       "      (relu5): PReLU(num_parameters=1)\n",
       "      (linear6): Linear(in_features=50, out_features=10, bias=True)\n",
       "      (relu6): PReLU(num_parameters=1)\n",
       "      (linear7): Linear(in_features=10, out_features=2, bias=True)\n",
       "    )\n",
       "  )\n",
       ")"
      ]
     },
     "execution_count": 28,
     "metadata": {},
     "output_type": "execute_result"
    }
   ],
   "source": [
    "# Step 1 set up dataloader\n",
    "root_dir = \"../data/TCGA\"\n",
    "siamese_train_dataset = SiameseTCGA(train_dataset) # Returns pairs of images and target same/different\n",
    "siamese_test_dataset = SiameseTCGA(test_dataset)\n",
    "batch_size = 8\n",
    "kwargs = {'num_workers': 10, 'pin_memory': True} if cuda else {}\n",
    "siamese_train_loader = torch.utils.data.DataLoader(siamese_train_dataset, batch_size=batch_size, shuffle=True, **kwargs)\n",
    "siamese_test_loader = torch.utils.data.DataLoader(siamese_test_dataset, batch_size=batch_size, shuffle=False, **kwargs)\n",
    "\n",
    "# Set up the network and training parameters\n",
    "from tcga_networks import EmbeddingNet, SiameseNet\n",
    "from losses import ContrastiveLoss\n",
    "from metrics import AccumulatedAccuracyMetric\n",
    "\n",
    "# Step 2\n",
    "n_samples, n_features = siamese_train_dataset.data.shape\n",
    "embedding_net = EmbeddingNet(n_features)\n",
    "# Step 3\n",
    "model = SiameseNet(embedding_net)\n",
    "if cuda:\n",
    "    model.cuda()\n",
    "    \n",
    "# Step 4\n",
    "margin = 1.\n",
    "loss_fn = ContrastiveLoss(margin)\n",
    "lr = 1e-3\n",
    "optimizer = optim.Adam(model.parameters(), lr=lr)\n",
    "scheduler = lr_scheduler.StepLR(optimizer, 8, gamma=0.1, last_epoch=-1)\n",
    "n_epochs = 10\n",
    "# print training metrics every log_interval * batch_size\n",
    "log_interval = 30"
   ]
  },
  {
   "cell_type": "code",
   "execution_count": 29,
   "metadata": {},
   "outputs": [
    {
     "name": "stdout",
     "output_type": "stream",
     "text": [
      "Train: [0/273 (0%)]\tLoss: 0.248905\n",
      "Train: [240/273 (86%)]\tLoss: 0.726266\n",
      "Epoch: 1/10. Train set: Average loss: 0.6559\n",
      "Epoch: 1/10. Validation set: Average loss: 0.2075\n",
      "Train: [0/273 (0%)]\tLoss: 0.309353\n",
      "Train: [240/273 (86%)]\tLoss: 0.218261\n",
      "Epoch: 2/10. Train set: Average loss: 0.2215\n",
      "Epoch: 2/10. Validation set: Average loss: 0.1452\n",
      "Train: [0/273 (0%)]\tLoss: 0.155137\n",
      "Train: [240/273 (86%)]\tLoss: 0.161891\n",
      "Epoch: 3/10. Train set: Average loss: 0.1515\n",
      "Epoch: 3/10. Validation set: Average loss: 0.2771\n",
      "Train: [0/273 (0%)]\tLoss: 0.279777\n",
      "Train: [240/273 (86%)]\tLoss: 0.189200\n",
      "Epoch: 4/10. Train set: Average loss: 0.1920\n",
      "Epoch: 4/10. Validation set: Average loss: 0.1799\n",
      "Train: [0/273 (0%)]\tLoss: 0.168844\n",
      "Train: [240/273 (86%)]\tLoss: 0.151696\n",
      "Epoch: 5/10. Train set: Average loss: 0.1510\n",
      "Epoch: 5/10. Validation set: Average loss: 0.1796\n",
      "Train: [0/273 (0%)]\tLoss: 0.164334\n",
      "Train: [240/273 (86%)]\tLoss: 0.168747\n",
      "Epoch: 6/10. Train set: Average loss: 0.1804\n",
      "Epoch: 6/10. Validation set: Average loss: 0.2175\n",
      "Train: [0/273 (0%)]\tLoss: 0.379826\n",
      "Train: [240/273 (86%)]\tLoss: 0.145957\n",
      "Epoch: 7/10. Train set: Average loss: 0.1488\n",
      "Epoch: 7/10. Validation set: Average loss: 0.1659\n",
      "Train: [0/273 (0%)]\tLoss: 0.150920\n",
      "Train: [240/273 (86%)]\tLoss: 0.161385\n",
      "Epoch: 8/10. Train set: Average loss: 0.1638\n",
      "Epoch: 8/10. Validation set: Average loss: 0.1700\n",
      "Train: [0/273 (0%)]\tLoss: 0.154810\n",
      "Train: [240/273 (86%)]\tLoss: 0.154074\n",
      "Epoch: 9/10. Train set: Average loss: 0.1498\n",
      "Epoch: 9/10. Validation set: Average loss: 0.1630\n",
      "Train: [0/273 (0%)]\tLoss: 0.114634\n",
      "Train: [240/273 (86%)]\tLoss: 0.123388\n",
      "Epoch: 10/10. Train set: Average loss: 0.1332\n",
      "Epoch: 10/10. Validation set: Average loss: 0.1672\n"
     ]
    }
   ],
   "source": [
    "train_loss, val_loss = fit(siamese_train_loader, siamese_test_loader, model, loss_fn, optimizer, scheduler, \n",
    "    n_epochs, cuda, log_interval)"
   ]
  },
  {
   "cell_type": "code",
   "execution_count": 30,
   "metadata": {},
   "outputs": [
    {
     "data": {
      "text/plain": [
       "[<matplotlib.lines.Line2D at 0x7fe15f71e080>]"
      ]
     },
     "execution_count": 30,
     "metadata": {},
     "output_type": "execute_result"
    },
    {
     "data": {
      "text/plain": [
       "[<matplotlib.lines.Line2D at 0x7fe15cfb5a90>]"
      ]
     },
     "execution_count": 30,
     "metadata": {},
     "output_type": "execute_result"
    },
    {
     "data": {
      "image/png": "[encoded data removed]",
      "text/plain": [
       "<Figure size 432x288 with 1 Axes>"
      ]
     },
     "metadata": {
      "needs_background": "light"
     },
     "output_type": "display_data"
    }
   ],
   "source": [
    "plt.plot(range(0, n_epochs), train_loss, 'rx-')\n",
    "plt.plot(range(0, n_epochs), val_loss, 'bx-')"
   ]
  },
  {
   "cell_type": "code",
   "execution_count": 31,
   "metadata": {},
   "outputs": [
    {
     "data": {
      "image/png": "[encoded data removed]",
      "text/plain": [
       "<Figure size 720x720 with 1 Axes>"
      ]
     },
     "metadata": {
      "needs_background": "light"
     },
     "output_type": "display_data"
    }
   ],
   "source": [
    "train_embeddings_cl, train_labels_cl = vis.extract_embeddings(train_loader, model)\n",
    "vis.plot_embeddings(train_embeddings_cl, train_labels_cl, siamese_train_dataset.labels_dict)"
   ]
  },
  {
   "cell_type": "markdown",
   "metadata": {},
   "source": [
    "Frusturatingly the test_loader(shuffl=False) only works to load here because it has been specified for 1 sample at a time. The data order is the same as siamese_test_loader(shuffle=False)."
   ]
  },
  {
   "cell_type": "code",
   "execution_count": 32,
   "metadata": {},
   "outputs": [
    {
     "data": {
      "image/png": "[encoded data removed]",
      "text/plain": [
       "<Figure size 720x720 with 1 Axes>"
      ]
     },
     "metadata": {
      "needs_background": "light"
     },
     "output_type": "display_data"
    }
   ],
   "source": [
    "val_embeddings_baseline, val_labels_baseline = vis.extract_embeddings(test_loader, model)\n",
    "vis.plot_embeddings(val_embeddings_baseline, val_labels_baseline, siamese_test_dataset.labels_dict)"
   ]
  },
  {
   "cell_type": "markdown",
   "metadata": {},
   "source": [
    "#### Write out test set for DE analysis"
   ]
  },
  {
   "cell_type": "code",
   "execution_count": 33,
   "metadata": {},
   "outputs": [],
   "source": [
    "siamese_test_dataset.samples['label'] = siamese_test_dataset.labels\n",
    "siamese_test_dataset.samples.to_pickle(\"../data/tmp/test_dataset_meta.pkl.gz\")\n",
    "siamese_test_dataset.data.to_pickle(\"../data/tmp/test_dataset.pkl.gz\")"
   ]
  },
  {
   "cell_type": "markdown",
   "metadata": {},
   "source": [
    "## Integrated Gradients\n",
    "Test completeness axiom through comparison of different baselines\n",
    "\n",
    "\"Integrated gradients satisfy an\n",
    "axiom called completeness that the attributions add up to\n",
    "the difference between the output of F at the input x and\n",
    "the baseline x'.\""
   ]
  },
  {
   "cell_type": "code",
   "execution_count": 34,
   "metadata": {},
   "outputs": [],
   "source": [
    "import copy\n",
    "from captum.attr import LayerActivation\n",
    "from captum.attr import IntegratedGradients"
   ]
  },
  {
   "cell_type": "markdown",
   "metadata": {},
   "source": [
    "ignore matching samples by case ID in this experiment\n",
    "\n",
    "because randomly shuffling the labels will not preserve\n",
    "\n",
    "matched health/diseased samples for each case\n",
    "\n",
    "not possible to test that with only 2 groups"
   ]
  },
  {
   "cell_type": "code",
   "execution_count": 41,
   "metadata": {},
   "outputs": [],
   "source": [
    "def matched_pairs(SiameseTCGA, exp, ctrl):\n",
    "    \"\"\"\n",
    "    Returns raw data from pairs of samples by case in test set.\n",
    "    \"\"\"\n",
    "    gb = SiameseTCGA.samples.groupby('Sample Type')\n",
    "    gb_splits = [gb.get_group(sample_type).sort_values(by='Case ID') for sample_type in gb.groups]\n",
    "    assert np.array_equal(gb_splits[0]['Case ID'].values, gb_splits[1]['Case ID'].values), \"Order of matched sample pairs not in sync.\"\n",
    "    \n",
    "    cases = gb_splits[0]['Case ID'].values\n",
    "    \n",
    "    ctrl_data = Variable(SiameseTCGA.test_data[gb.groups[ctrl]], requires_grad=True)\n",
    "    exp_data = Variable(SiameseTCGA.test_data[gb.groups[exp]], requires_grad=True)\n",
    "    \n",
    "    return ctrl_data, exp_data, cases"
   ]
  },
  {
   "cell_type": "code",
   "execution_count": 51,
   "metadata": {},
   "outputs": [],
   "source": [
    "def attribution_pairs(SiameseTCGA, exp, ctrl):\n",
    "    # subset different samples\n",
    "    negative_pairs = np.array(SiameseTCGA.test_pairs)\n",
    "    negative_pairs = negative_pairs[negative_pairs[:,2] == 0]\n",
    "    # map labels to integers\n",
    "    ctrl = siamese_test_dataset.labels_dict[ctrl]\n",
    "    exp = siamese_test_dataset.labels_dict[exp]\n",
    "    # ordered indices of samples\n",
    "    ctrl_data = [idx for pair in negative_pairs[:, :2] for idx in pair if np.isin(idx, SiameseTCGA.label_to_indices[ctrl])]\n",
    "    exp_data = [idx for pair in negative_pairs[:, :2] for idx in pair if np.isin(idx, SiameseTCGA.label_to_indices[exp])]\n",
    "    # data\n",
    "    ctrl_data = Variable(SiameseTCGA.test_data[ctrl_data], requires_grad=True)\n",
    "    exp_data = Variable(SiameseTCGA.test_data[exp_data], requires_grad=True)\n",
    "    return ctrl_data, exp_data"
   ]
  },
  {
   "cell_type": "markdown",
   "metadata": {},
   "source": [
    "# IG with Control vector"
   ]
  },
  {
   "cell_type": "code",
   "execution_count": 53,
   "metadata": {},
   "outputs": [],
   "source": [
    "ctrl_data, exp_data = attribution_pairs(siamese_test_dataset, exp='Primary Tumor', ctrl='Solid Tissue Normal')"
   ]
  },
  {
   "cell_type": "code",
   "execution_count": 54,
   "metadata": {},
   "outputs": [
    {
     "data": {
      "text/plain": [
       "PairwiseDistance()"
      ]
     },
     "execution_count": 54,
     "metadata": {},
     "output_type": "execute_result"
    }
   ],
   "source": [
    "from torch.nn import PairwiseDistance\n",
    "pdist = PairwiseDistance(p=2)\n",
    "pdist"
   ]
  },
  {
   "cell_type": "code",
   "execution_count": 55,
   "metadata": {},
   "outputs": [],
   "source": [
    "ig = IntegratedGradients(model.get_dist)"
   ]
  },
  {
   "cell_type": "code",
   "execution_count": 56,
   "metadata": {},
   "outputs": [],
   "source": [
    "torch.cuda.empty_cache()"
   ]
  },
  {
   "cell_type": "markdown",
   "metadata": {},
   "source": [
    "## Healthy as baseline"
   ]
  },
  {
   "cell_type": "code",
   "execution_count": 57,
   "metadata": {},
   "outputs": [
    {
     "data": {
      "text/plain": [
       "tensor([ 4.9744e-04, -4.7120e-03, -2.3007e-03, -1.7159e-03,  1.2110e-02,\n",
       "         9.0298e-04,  1.2867e-03, -5.3388e-03, -6.7519e-03,  9.9944e-03,\n",
       "         3.6240e-04,  1.3106e-03, -4.7580e-03,  2.5266e-03,  1.1995e-04,\n",
       "         2.5705e-04, -5.4261e-03,  3.3602e-03, -1.8729e-03,  4.0764e-04,\n",
       "         6.5565e-05, -3.3930e-04,  4.1395e-05,  7.7325e-04,  8.6623e-04,\n",
       "        -2.2620e-03,  2.3911e-02, -1.2619e-03, -5.9955e-03, -5.0966e-03,\n",
       "        -5.6803e-04, -2.1401e-04, -2.8587e-03,  1.2904e-05,  5.5313e-05,\n",
       "         5.2971e-04,  2.7160e-04, -3.4951e-03,  4.3221e-03, -2.9948e-04,\n",
       "        -6.9487e-04, -1.4275e-04,  2.3124e-03,  3.1382e-04,  1.4367e-03],\n",
       "       device='cuda:0')"
      ]
     },
     "execution_count": 57,
     "metadata": {},
     "output_type": "execute_result"
    }
   ],
   "source": [
    "attr, delta = ig.attribute(exp_data.cuda(), ctrl_data.cuda(), target=None, n_steps=50, return_convergence_delta=True,\n",
    "                          additional_forward_args=(ctrl_data.cuda(), pdist))\n",
    "attr = attr.cpu().detach().numpy()\n",
    "delta"
   ]
  },
  {
   "cell_type": "code",
   "execution_count": 58,
   "metadata": {},
   "outputs": [
    {
     "data": {
      "text/plain": [
       "(45, 18812)"
      ]
     },
     "execution_count": 58,
     "metadata": {},
     "output_type": "execute_result"
    }
   ],
   "source": [
    "attr.shape"
   ]
  },
  {
   "cell_type": "markdown",
   "metadata": {},
   "source": [
    "## Average Protein Feature Attributions"
   ]
  },
  {
   "cell_type": "code",
   "execution_count": 59,
   "metadata": {},
   "outputs": [
    {
     "data": {
      "text/plain": [
       "(18842,)"
      ]
     },
     "execution_count": 59,
     "metadata": {},
     "output_type": "execute_result"
    },
    {
     "data": {
      "text/plain": [
       "18812"
      ]
     },
     "execution_count": 59,
     "metadata": {},
     "output_type": "execute_result"
    }
   ],
   "source": [
    "proteins['ENSEMBL_ID'].values.shape\n",
    "attr.shape[1]"
   ]
  },
  {
   "cell_type": "code",
   "execution_count": 60,
   "metadata": {},
   "outputs": [
    {
     "data": {
      "text/plain": [
       "(18812, 1)"
      ]
     },
     "execution_count": 60,
     "metadata": {},
     "output_type": "execute_result"
    },
    {
     "data": {
      "text/plain": [
       "(18812, 23)"
      ]
     },
     "execution_count": 60,
     "metadata": {},
     "output_type": "execute_result"
    }
   ],
   "source": [
    "feat_imp = pd.DataFrame(data=attr.mean(axis=0), index=siamese_test_dataset.data.columns, columns=['Attribution'])\n",
    "feat_imp.shape\n",
    "feat_imp = pd.merge(feat_imp, proteins.drop_duplicates(subset='ENSEMBL_ID'), left_index=True, right_on='ENSEMBL_ID', how='left').sort_values(by='Attribution', ascending=False).reset_index(drop=True)\n",
    "feat_imp.shape"
   ]
  },
  {
   "cell_type": "code",
   "execution_count": 61,
   "metadata": {},
   "outputs": [],
   "source": [
    "feat_imp.to_pickle(\"../data/tmp/attr_avg.pkl.gz\")"
   ]
  },
  {
   "cell_type": "markdown",
   "metadata": {},
   "source": [
    "### Now go to /srv/home/wconnell/github/diffxpy/notebook/2020.02.05_test_DE_analysis and run"
   ]
  },
  {
   "cell_type": "code",
   "execution_count": 62,
   "metadata": {},
   "outputs": [
    {
     "data": {
      "text/html": [
       "<div>\n",
       "<style scoped>\n",
       "    .dataframe tbody tr th:only-of-type {\n",
       "        vertical-align: middle;\n",
       "    }\n",
       "\n",
       "    .dataframe tbody tr th {\n",
       "        vertical-align: top;\n",
       "    }\n",
       "\n",
       "    .dataframe thead th {\n",
       "        text-align: right;\n",
       "    }\n",
       "</style>\n",
       "<table border=\"1\" class=\"dataframe\">\n",
       "  <thead>\n",
       "    <tr style=\"text-align: right;\">\n",
       "      <th></th>\n",
       "      <th>Attribution</th>\n",
       "      <th>hgnc</th>\n",
       "      <th>Protein names</th>\n",
       "      <th>Gene ontology (biological process)</th>\n",
       "      <th>Gene ontology (molecular function)</th>\n",
       "    </tr>\n",
       "  </thead>\n",
       "  <tbody>\n",
       "    <tr>\n",
       "      <th>0</th>\n",
       "      <td>0.001044</td>\n",
       "      <td>LHX3</td>\n",
       "      <td>LIM/homeobox protein Lhx3 (LIM homeobox protei...</td>\n",
       "      <td>animal organ morphogenesis [GO:0009887]; inner...</td>\n",
       "      <td>DNA-binding transcription activator activity, ...</td>\n",
       "    </tr>\n",
       "    <tr>\n",
       "      <th>1</th>\n",
       "      <td>0.000979</td>\n",
       "      <td>LCE1A</td>\n",
       "      <td>Late cornified envelope protein 1A (Late envel...</td>\n",
       "      <td>cornification [GO:0070268]</td>\n",
       "      <td>NaN</td>\n",
       "    </tr>\n",
       "    <tr>\n",
       "      <th>2</th>\n",
       "      <td>0.000508</td>\n",
       "      <td>LCE2C</td>\n",
       "      <td>Late cornified envelope protein 2C (Late envel...</td>\n",
       "      <td>keratinization [GO:0031424]</td>\n",
       "      <td>NaN</td>\n",
       "    </tr>\n",
       "    <tr>\n",
       "      <th>3</th>\n",
       "      <td>0.000390</td>\n",
       "      <td>CSN3</td>\n",
       "      <td>Kappa-casein</td>\n",
       "      <td>lactation [GO:0007595]; protein stabilization ...</td>\n",
       "      <td>NaN</td>\n",
       "    </tr>\n",
       "    <tr>\n",
       "      <th>4</th>\n",
       "      <td>0.000342</td>\n",
       "      <td>CCL1</td>\n",
       "      <td>C-C motif chemokine 1 (Small-inducible cytokin...</td>\n",
       "      <td>antimicrobial humoral immune response mediated...</td>\n",
       "      <td>CCR chemokine receptor binding [GO:0048020]; c...</td>\n",
       "    </tr>\n",
       "    <tr>\n",
       "      <th>...</th>\n",
       "      <td>...</td>\n",
       "      <td>...</td>\n",
       "      <td>...</td>\n",
       "      <td>...</td>\n",
       "      <td>...</td>\n",
       "    </tr>\n",
       "    <tr>\n",
       "      <th>18807</th>\n",
       "      <td>-0.000216</td>\n",
       "      <td>TMEM207</td>\n",
       "      <td>Transmembrane protein 207</td>\n",
       "      <td>NaN</td>\n",
       "      <td>enzyme binding [GO:0019899]</td>\n",
       "    </tr>\n",
       "    <tr>\n",
       "      <th>18808</th>\n",
       "      <td>-0.000339</td>\n",
       "      <td>TRIML1</td>\n",
       "      <td>Probable E3 ubiquitin-protein ligase TRIML1 (E...</td>\n",
       "      <td>multicellular organism development [GO:0007275...</td>\n",
       "      <td>metal ion binding [GO:0046872]; transferase ac...</td>\n",
       "    </tr>\n",
       "    <tr>\n",
       "      <th>18809</th>\n",
       "      <td>-0.000387</td>\n",
       "      <td>CRNN</td>\n",
       "      <td>Cornulin (53 kDa putative calcium-binding prot...</td>\n",
       "      <td>cell-cell adhesion [GO:0098609]; cellular resp...</td>\n",
       "      <td>calcium ion binding [GO:0005509]; transition m...</td>\n",
       "    </tr>\n",
       "    <tr>\n",
       "      <th>18810</th>\n",
       "      <td>-0.000589</td>\n",
       "      <td>OR4M1</td>\n",
       "      <td>Olfactory receptor 4M1 (Olfactory receptor OR1...</td>\n",
       "      <td>G protein-coupled receptor signaling pathway [...</td>\n",
       "      <td>G protein-coupled receptor activity [GO:000493...</td>\n",
       "    </tr>\n",
       "    <tr>\n",
       "      <th>18811</th>\n",
       "      <td>-0.001150</td>\n",
       "      <td>ANHX</td>\n",
       "      <td>Anomalous homeobox protein</td>\n",
       "      <td>anatomical structure development [GO:0048856];...</td>\n",
       "      <td>DNA-binding transcription factor activity, RNA...</td>\n",
       "    </tr>\n",
       "  </tbody>\n",
       "</table>\n",
       "<p>18812 rows × 5 columns</p>\n",
       "</div>"
      ],
      "text/plain": [
       "       Attribution     hgnc  \\\n",
       "0         0.001044     LHX3   \n",
       "1         0.000979    LCE1A   \n",
       "2         0.000508    LCE2C   \n",
       "3         0.000390     CSN3   \n",
       "4         0.000342     CCL1   \n",
       "...            ...      ...   \n",
       "18807    -0.000216  TMEM207   \n",
       "18808    -0.000339   TRIML1   \n",
       "18809    -0.000387     CRNN   \n",
       "18810    -0.000589    OR4M1   \n",
       "18811    -0.001150     ANHX   \n",
       "\n",
       "                                           Protein names  \\\n",
       "0      LIM/homeobox protein Lhx3 (LIM homeobox protei...   \n",
       "1      Late cornified envelope protein 1A (Late envel...   \n",
       "2      Late cornified envelope protein 2C (Late envel...   \n",
       "3                                           Kappa-casein   \n",
       "4      C-C motif chemokine 1 (Small-inducible cytokin...   \n",
       "...                                                  ...   \n",
       "18807                          Transmembrane protein 207   \n",
       "18808  Probable E3 ubiquitin-protein ligase TRIML1 (E...   \n",
       "18809  Cornulin (53 kDa putative calcium-binding prot...   \n",
       "18810  Olfactory receptor 4M1 (Olfactory receptor OR1...   \n",
       "18811                         Anomalous homeobox protein   \n",
       "\n",
       "                      Gene ontology (biological process)  \\\n",
       "0      animal organ morphogenesis [GO:0009887]; inner...   \n",
       "1                             cornification [GO:0070268]   \n",
       "2                            keratinization [GO:0031424]   \n",
       "3      lactation [GO:0007595]; protein stabilization ...   \n",
       "4      antimicrobial humoral immune response mediated...   \n",
       "...                                                  ...   \n",
       "18807                                                NaN   \n",
       "18808  multicellular organism development [GO:0007275...   \n",
       "18809  cell-cell adhesion [GO:0098609]; cellular resp...   \n",
       "18810  G protein-coupled receptor signaling pathway [...   \n",
       "18811  anatomical structure development [GO:0048856];...   \n",
       "\n",
       "                      Gene ontology (molecular function)  \n",
       "0      DNA-binding transcription activator activity, ...  \n",
       "1                                                    NaN  \n",
       "2                                                    NaN  \n",
       "3                                                    NaN  \n",
       "4      CCR chemokine receptor binding [GO:0048020]; c...  \n",
       "...                                                  ...  \n",
       "18807                        enzyme binding [GO:0019899]  \n",
       "18808  metal ion binding [GO:0046872]; transferase ac...  \n",
       "18809  calcium ion binding [GO:0005509]; transition m...  \n",
       "18810  G protein-coupled receptor activity [GO:000493...  \n",
       "18811  DNA-binding transcription factor activity, RNA...  \n",
       "\n",
       "[18812 rows x 5 columns]"
      ]
     },
     "execution_count": 62,
     "metadata": {},
     "output_type": "execute_result"
    }
   ],
   "source": [
    "feat_imp[['Attribution', 'hgnc', 'Protein names', 'Gene ontology (biological process)', 'Gene ontology (molecular function)']]"
   ]
  },
  {
   "cell_type": "code",
   "execution_count": null,
   "metadata": {},
   "outputs": [],
   "source": []
  }
 ],
 "metadata": {
  "kernelspec": {
   "display_name": "torch",
   "language": "python",
   "name": "torch"
  },
  "language_info": {
   "codemirror_mode": {
    "name": "ipython",
    "version": 3
   },
   "file_extension": ".py",
   "mimetype": "text/x-python",
   "name": "python",
   "nbconvert_exporter": "python",
   "pygments_lexer": "ipython3",
   "version": "3.7.3"
  }
 },
 "nbformat": 4,
 "nbformat_minor": 2
}
