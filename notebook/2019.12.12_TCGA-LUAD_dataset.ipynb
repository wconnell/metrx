{
 "cells": [
  {
   "cell_type": "code",
   "execution_count": 1,
   "metadata": {},
   "outputs": [],
   "source": [
    "import numpy as np\n",
    "import pandas as pd\n",
    "\n",
    "# viz\n",
    "import matplotlib.pyplot as plt\n",
    "\n",
    "# notebook settings\n",
    "from IPython.core.interactiveshell import InteractiveShell\n",
    "InteractiveShell.ast_node_interactivity = \"all\"\n",
    "\n",
    "pd.set_option('display.max_columns', 1000)"
   ]
  },
  {
   "cell_type": "markdown",
   "metadata": {},
   "source": [
    "## Sample Prep"
   ]
  },
  {
   "cell_type": "code",
   "execution_count": 2,
   "metadata": {},
   "outputs": [
    {
     "data": {
      "text/html": [
       "<div>\n",
       "<style scoped>\n",
       "    .dataframe tbody tr th:only-of-type {\n",
       "        vertical-align: middle;\n",
       "    }\n",
       "\n",
       "    .dataframe tbody tr th {\n",
       "        vertical-align: top;\n",
       "    }\n",
       "\n",
       "    .dataframe thead th {\n",
       "        text-align: right;\n",
       "    }\n",
       "</style>\n",
       "<table border=\"1\" class=\"dataframe\">\n",
       "  <thead>\n",
       "    <tr style=\"text-align: right;\">\n",
       "      <th></th>\n",
       "      <th>File ID</th>\n",
       "      <th>File Name</th>\n",
       "      <th>Data Category</th>\n",
       "      <th>Data Type</th>\n",
       "      <th>Project ID</th>\n",
       "      <th>Case ID</th>\n",
       "      <th>Sample ID</th>\n",
       "      <th>Sample Type</th>\n",
       "      <th>data</th>\n",
       "    </tr>\n",
       "  </thead>\n",
       "  <tbody>\n",
       "    <tr>\n",
       "      <th>0</th>\n",
       "      <td>c5b283b8-a6ab-4652-b824-18fe1cebe0e3</td>\n",
       "      <td>0bf53fc6-b8fb-4e6d-9297-4129c708f3da.FPKM.txt.gz</td>\n",
       "      <td>Transcriptome Profiling</td>\n",
       "      <td>Gene Expression Quantification</td>\n",
       "      <td>TCGA-LUAD</td>\n",
       "      <td>TCGA-50-5935</td>\n",
       "      <td>TCGA-50-5935-01A</td>\n",
       "      <td>Primary Tumor</td>\n",
       "      <td>FPKM</td>\n",
       "    </tr>\n",
       "    <tr>\n",
       "      <th>1</th>\n",
       "      <td>27079945-f3da-42b4-8c17-c82d66b7d321</td>\n",
       "      <td>f4a1e772-2a5e-4c0a-803a-1bdb2b376a47.FPKM-UQ.t...</td>\n",
       "      <td>Transcriptome Profiling</td>\n",
       "      <td>Gene Expression Quantification</td>\n",
       "      <td>TCGA-LUAD</td>\n",
       "      <td>TCGA-55-6971</td>\n",
       "      <td>TCGA-55-6971-11A</td>\n",
       "      <td>Solid Tissue Normal</td>\n",
       "      <td>FPKM-UQ</td>\n",
       "    </tr>\n",
       "    <tr>\n",
       "      <th>2</th>\n",
       "      <td>da368838-dad0-434d-a2a8-084b362e358e</td>\n",
       "      <td>12d2b9fa-1921-4033-bdb9-7e114c0d7812.FPKM.txt.gz</td>\n",
       "      <td>Transcriptome Profiling</td>\n",
       "      <td>Gene Expression Quantification</td>\n",
       "      <td>TCGA-LUAD</td>\n",
       "      <td>TCGA-99-8025</td>\n",
       "      <td>TCGA-99-8025-01A</td>\n",
       "      <td>Primary Tumor</td>\n",
       "      <td>FPKM</td>\n",
       "    </tr>\n",
       "    <tr>\n",
       "      <th>3</th>\n",
       "      <td>be46ee72-8958-483f-bd54-38d21ebf7ff6</td>\n",
       "      <td>4d36e127-5fad-4b97-afff-28f4bdbf5f5d.FPKM.txt.gz</td>\n",
       "      <td>Transcriptome Profiling</td>\n",
       "      <td>Gene Expression Quantification</td>\n",
       "      <td>TCGA-LUAD</td>\n",
       "      <td>TCGA-55-8301</td>\n",
       "      <td>TCGA-55-8301-01A</td>\n",
       "      <td>Primary Tumor</td>\n",
       "      <td>FPKM</td>\n",
       "    </tr>\n",
       "    <tr>\n",
       "      <th>4</th>\n",
       "      <td>c5f764bd-a9d4-4188-a4dc-a5e6ca1183f8</td>\n",
       "      <td>c57c5f57-5426-4662-832d-6f342ebeff04.FPKM-UQ.t...</td>\n",
       "      <td>Transcriptome Profiling</td>\n",
       "      <td>Gene Expression Quantification</td>\n",
       "      <td>TCGA-LUAD</td>\n",
       "      <td>TCGA-73-4677</td>\n",
       "      <td>TCGA-73-4677-01A</td>\n",
       "      <td>Primary Tumor</td>\n",
       "      <td>FPKM-UQ</td>\n",
       "    </tr>\n",
       "  </tbody>\n",
       "</table>\n",
       "</div>"
      ],
      "text/plain": [
       "                                File ID  \\\n",
       "0  c5b283b8-a6ab-4652-b824-18fe1cebe0e3   \n",
       "1  27079945-f3da-42b4-8c17-c82d66b7d321   \n",
       "2  da368838-dad0-434d-a2a8-084b362e358e   \n",
       "3  be46ee72-8958-483f-bd54-38d21ebf7ff6   \n",
       "4  c5f764bd-a9d4-4188-a4dc-a5e6ca1183f8   \n",
       "\n",
       "                                           File Name            Data Category  \\\n",
       "0   0bf53fc6-b8fb-4e6d-9297-4129c708f3da.FPKM.txt.gz  Transcriptome Profiling   \n",
       "1  f4a1e772-2a5e-4c0a-803a-1bdb2b376a47.FPKM-UQ.t...  Transcriptome Profiling   \n",
       "2   12d2b9fa-1921-4033-bdb9-7e114c0d7812.FPKM.txt.gz  Transcriptome Profiling   \n",
       "3   4d36e127-5fad-4b97-afff-28f4bdbf5f5d.FPKM.txt.gz  Transcriptome Profiling   \n",
       "4  c57c5f57-5426-4662-832d-6f342ebeff04.FPKM-UQ.t...  Transcriptome Profiling   \n",
       "\n",
       "                        Data Type Project ID       Case ID         Sample ID  \\\n",
       "0  Gene Expression Quantification  TCGA-LUAD  TCGA-50-5935  TCGA-50-5935-01A   \n",
       "1  Gene Expression Quantification  TCGA-LUAD  TCGA-55-6971  TCGA-55-6971-11A   \n",
       "2  Gene Expression Quantification  TCGA-LUAD  TCGA-99-8025  TCGA-99-8025-01A   \n",
       "3  Gene Expression Quantification  TCGA-LUAD  TCGA-55-8301  TCGA-55-8301-01A   \n",
       "4  Gene Expression Quantification  TCGA-LUAD  TCGA-73-4677  TCGA-73-4677-01A   \n",
       "\n",
       "           Sample Type     data  \n",
       "0        Primary Tumor     FPKM  \n",
       "1  Solid Tissue Normal  FPKM-UQ  \n",
       "2        Primary Tumor     FPKM  \n",
       "3        Primary Tumor     FPKM  \n",
       "4        Primary Tumor  FPKM-UQ  "
      ]
     },
     "execution_count": 2,
     "metadata": {},
     "output_type": "execute_result"
    }
   ],
   "source": [
    "samples = pd.read_csv('../data/TCGA/pilot_LUAD/gdc_sample_sheet.2019-12-09.tsv', sep=\"\\t\")\n",
    "# get file type\n",
    "samples['data'] = [val[1] for i,val in samples['File Name'].str.split(\".\").items()]\n",
    "samples.head()"
   ]
  },
  {
   "cell_type": "markdown",
   "metadata": {},
   "source": [
    "Samples with RNAseq adjacent normal tissue"
   ]
  },
  {
   "cell_type": "code",
   "execution_count": 3,
   "metadata": {},
   "outputs": [
    {
     "data": {
      "text/plain": [
       "htseq      59\n",
       "FPKM       59\n",
       "FPKM-UQ    59\n",
       "Name: data, dtype: int64"
      ]
     },
     "execution_count": 3,
     "metadata": {},
     "output_type": "execute_result"
    }
   ],
   "source": [
    "samples[samples['Sample Type']=='Solid Tissue Normal']['data'].value_counts()"
   ]
  },
  {
   "cell_type": "code",
   "execution_count": 4,
   "metadata": {},
   "outputs": [],
   "source": [
    "# all cases with adjacent normal tissue\n",
    "cases = samples[samples['Sample Type']=='Solid Tissue Normal']['Case ID']"
   ]
  },
  {
   "cell_type": "code",
   "execution_count": 5,
   "metadata": {},
   "outputs": [
    {
     "data": {
      "text/plain": [
       "57"
      ]
     },
     "execution_count": 5,
     "metadata": {},
     "output_type": "execute_result"
    },
    {
     "data": {
      "text/plain": [
       "59"
      ]
     },
     "execution_count": 5,
     "metadata": {},
     "output_type": "execute_result"
    }
   ],
   "source": [
    "# disparity in cases\n",
    "samples[(samples['Case ID'].isin(cases)) & (samples['Sample Type']=='Primary Tumor') & (samples['data']=='FPKM')]['Case ID'].nunique()\n",
    "samples[(samples['Case ID'].isin(cases)) & (samples['Sample Type']=='Solid Tissue Normal') & (samples['data']=='FPKM')]['Case ID'].nunique()"
   ]
  },
  {
   "cell_type": "code",
   "execution_count": 6,
   "metadata": {},
   "outputs": [
    {
     "data": {
      "text/plain": [
       "(57,)"
      ]
     },
     "execution_count": 6,
     "metadata": {},
     "output_type": "execute_result"
    }
   ],
   "source": [
    "# divide, join, subset\n",
    "case_tumor = samples[(samples['Case ID'].isin(cases)) & (samples['Sample Type']=='Primary Tumor') & (samples['data']=='FPKM')]\n",
    "case_norm = samples[(samples['Case ID'].isin(cases)) & (samples['Sample Type']=='Solid Tissue Normal') & (samples['data']=='FPKM')]\n",
    "cases = case_norm[case_norm['Case ID'].isin(case_tumor['Case ID'])]['Case ID']\n",
    "cases.shape"
   ]
  },
  {
   "cell_type": "code",
   "execution_count": 7,
   "metadata": {},
   "outputs": [],
   "source": [
    "case_tumor = case_tumor[case_tumor['Case ID'].isin(cases)]\n",
    "case_norm = case_norm[case_norm['Case ID'].isin(cases)]\n",
    "cases = pd.concat([case_tumor, case_norm])\n",
    "cases['Sample Type'] = cases['Sample Type'].astype('category')"
   ]
  },
  {
   "cell_type": "code",
   "execution_count": 8,
   "metadata": {},
   "outputs": [
    {
     "data": {
      "text/plain": [
       "(67, 9)"
      ]
     },
     "execution_count": 8,
     "metadata": {},
     "output_type": "execute_result"
    },
    {
     "data": {
      "text/plain": [
       "(57, 9)"
      ]
     },
     "execution_count": 8,
     "metadata": {},
     "output_type": "execute_result"
    },
    {
     "data": {
      "text/plain": [
       "(124, 9)"
      ]
     },
     "execution_count": 8,
     "metadata": {},
     "output_type": "execute_result"
    }
   ],
   "source": [
    "case_tumor.shape\n",
    "case_norm.shape\n",
    "cases.shape"
   ]
  },
  {
   "cell_type": "markdown",
   "metadata": {},
   "source": [
    "## Dataset Prep"
   ]
  },
  {
   "cell_type": "code",
   "execution_count": 13,
   "metadata": {},
   "outputs": [
    {
     "data": {
      "text/plain": [
       "Primary Tumor          47\n",
       "Solid Tissue Normal    46\n",
       "Name: Sample Type, dtype: int64"
      ]
     },
     "execution_count": 13,
     "metadata": {},
     "output_type": "execute_result"
    },
    {
     "data": {
      "text/plain": [
       "Primary Tumor          20\n",
       "Solid Tissue Normal    11\n",
       "Name: Sample Type, dtype: int64"
      ]
     },
     "execution_count": 13,
     "metadata": {},
     "output_type": "execute_result"
    }
   ],
   "source": [
    "from sklearn.model_selection import train_test_split\n",
    "\n",
    "target = 'Sample Type'\n",
    "train, test = train_test_split(cases)\n",
    "train[target].value_counts()\n",
    "test[target].value_counts()"
   ]
  },
  {
   "cell_type": "code",
   "execution_count": 14,
   "metadata": {},
   "outputs": [
    {
     "name": "stdout",
     "output_type": "stream",
     "text": [
      "Cuda is available: True\n"
     ]
    }
   ],
   "source": [
    "import torch\n",
    "from torch.optim import lr_scheduler\n",
    "import torch.optim as optim\n",
    "from torch.autograd import Variable\n",
    "\n",
    "from trainer import fit\n",
    "import visualization as vis\n",
    "import numpy as np\n",
    "cuda = torch.cuda.is_available()\n",
    "print(\"Cuda is available: {}\".format(cuda))\n",
    "\n",
    "colors = ['#1f77b4', '#ff7f0e', '#2ca02c', '#d62728',\n",
    "              '#9467bd', '#8c564b', '#e377c2', '#7f7f7f',\n",
    "              '#bcbd22', '#17becf']\n",
    "classes = train[target].cat.categories.values\n"
   ]
  },
  {
   "cell_type": "code",
   "execution_count": 15,
   "metadata": {},
   "outputs": [],
   "source": [
    "from tcga_datasets import TCGA, SiameseTCGA\n",
    "root_dir = \"../data/TCGA/pilot_LUAD/\"\n",
    "batch_size = 1\n",
    "\n",
    "train_dataset = TCGA(root_dir, samples=train, train=True, target=target)\n",
    "test_dataset = TCGA(root_dir, samples=test, train=False, target=target)\n",
    "\n",
    "kwargs = {'num_workers': 1, 'pin_memory': True} if cuda else {}\n",
    "train_loader = torch.utils.data.DataLoader(train_dataset, batch_size=batch_size, shuffle=True, **kwargs)\n",
    "test_loader = torch.utils.data.DataLoader(test_dataset, batch_size=batch_size, shuffle=False, **kwargs)"
   ]
  },
  {
   "cell_type": "markdown",
   "metadata": {},
   "source": [
    "## Siamese Network"
   ]
  },
  {
   "cell_type": "code",
   "execution_count": 16,
   "metadata": {},
   "outputs": [
    {
     "data": {
      "text/plain": [
       "SiameseNet(\n",
       "  (embedding_net): EmbeddingNet(\n",
       "    (fc): Sequential(\n",
       "      (0): Linear(in_features=60483, out_features=2000, bias=True)\n",
       "      (1): PReLU(num_parameters=1)\n",
       "      (2): Linear(in_features=2000, out_features=500, bias=True)\n",
       "      (3): PReLU(num_parameters=1)\n",
       "      (4): Linear(in_features=500, out_features=2, bias=True)\n",
       "    )\n",
       "  )\n",
       ")"
      ]
     },
     "execution_count": 16,
     "metadata": {},
     "output_type": "execute_result"
    }
   ],
   "source": [
    "# Step 1 set up dataloader\n",
    "siamese_train_dataset = SiameseTCGA(train_dataset) # Returns pairs of images and target same/different\n",
    "siamese_test_dataset = SiameseTCGA(test_dataset)\n",
    "batch_size = 10\n",
    "kwargs = {'num_workers': 1, 'pin_memory': True} if cuda else {}\n",
    "siamese_train_loader = torch.utils.data.DataLoader(siamese_train_dataset, batch_size=batch_size, shuffle=True, **kwargs)\n",
    "siamese_test_loader = torch.utils.data.DataLoader(siamese_test_dataset, batch_size=batch_size, shuffle=False, **kwargs)\n",
    "\n",
    "# Set up the network and training parameters\n",
    "from tcga_networks import EmbeddingNet, SiameseNet\n",
    "from losses import ContrastiveLoss\n",
    "from metrics import AccumulatedAccuracyMetric\n",
    "\n",
    "# Step 2\n",
    "embedding_net = EmbeddingNet()\n",
    "# Step 3\n",
    "model = SiameseNet(embedding_net)\n",
    "if cuda:\n",
    "    model.cuda()\n",
    "    \n",
    "# Step 4\n",
    "margin = 1.\n",
    "loss_fn = ContrastiveLoss(margin)\n",
    "lr = 1e-3\n",
    "optimizer = optim.Adam(model.parameters(), lr=lr)\n",
    "scheduler = lr_scheduler.StepLR(optimizer, 8, gamma=0.1, last_epoch=-1)\n",
    "n_epochs = 20\n",
    "# print training metrics every log_interval * batch_size\n",
    "log_interval = 3"
   ]
  },
  {
   "cell_type": "code",
   "execution_count": 18,
   "metadata": {},
   "outputs": [
    {
     "name": "stdout",
     "output_type": "stream",
     "text": [
      "Train: [0/93 (0%)]\tLoss: 19.258451\tAccuracy: 70.0\n",
      "Train: [30/93 (30%)]\tLoss: 44.418739\tAccuracy: 57.5\n",
      "Train: [60/93 (60%)]\tLoss: 24.373591\tAccuracy: 55.714285714285715\n",
      "Train: [27/93 (90%)]\tLoss: 43.444187\tAccuracy: 52.68817204301075\n",
      "Epoch: 1/20. Train set: Average loss: 35.5968\tAccuracy: 52.68817204301075\n",
      "Epoch: 1/20. Validation set: Average loss: 24.7127\tAccuracy: 51.61290322580645\n",
      "Train: [0/93 (0%)]\tLoss: 13.358123\tAccuracy: 70.0\n",
      "Train: [30/93 (30%)]\tLoss: 24.381800\tAccuracy: 57.5\n",
      "Train: [60/93 (60%)]\tLoss: 40.261373\tAccuracy: 55.714285714285715\n",
      "Train: [27/93 (90%)]\tLoss: 27.738400\tAccuracy: 52.68817204301075\n",
      "Epoch: 2/20. Train set: Average loss: 29.0503\tAccuracy: 52.68817204301075\n",
      "Epoch: 2/20. Validation set: Average loss: 23.5773\tAccuracy: 51.61290322580645\n",
      "Train: [0/93 (0%)]\tLoss: 19.088079\tAccuracy: 80.0\n",
      "Train: [30/93 (30%)]\tLoss: 38.074618\tAccuracy: 60.0\n",
      "Train: [60/93 (60%)]\tLoss: 25.494815\tAccuracy: 57.142857142857146\n",
      "Train: [27/93 (90%)]\tLoss: 74.170732\tAccuracy: 54.83870967741935\n",
      "Epoch: 3/20. Train set: Average loss: 43.2309\tAccuracy: 54.83870967741935\n",
      "Epoch: 3/20. Validation set: Average loss: 22.6042\tAccuracy: 51.61290322580645\n",
      "Train: [0/93 (0%)]\tLoss: 11.773826\tAccuracy: 70.0\n",
      "Train: [30/93 (30%)]\tLoss: 19.289302\tAccuracy: 57.5\n",
      "Train: [60/93 (60%)]\tLoss: 28.963102\tAccuracy: 55.714285714285715\n",
      "Train: [27/93 (90%)]\tLoss: 24.465836\tAccuracy: 52.68817204301075\n",
      "Epoch: 4/20. Train set: Average loss: 22.9929\tAccuracy: 52.68817204301075\n",
      "Epoch: 4/20. Validation set: Average loss: 21.8634\tAccuracy: 51.61290322580645\n",
      "Train: [0/93 (0%)]\tLoss: 30.073637\tAccuracy: 70.0\n",
      "Train: [30/93 (30%)]\tLoss: 30.682427\tAccuracy: 57.5\n",
      "Train: [60/93 (60%)]\tLoss: 21.305299\tAccuracy: 55.714285714285715\n",
      "Train: [27/93 (90%)]\tLoss: 45.456962\tAccuracy: 52.68817204301075\n",
      "Epoch: 5/20. Train set: Average loss: 32.2408\tAccuracy: 52.68817204301075\n",
      "Epoch: 5/20. Validation set: Average loss: 21.7911\tAccuracy: 51.61290322580645\n",
      "Train: [0/93 (0%)]\tLoss: 11.649002\tAccuracy: 70.0\n",
      "Train: [30/93 (30%)]\tLoss: 33.022425\tAccuracy: 57.5\n",
      "Train: [60/93 (60%)]\tLoss: 28.455917\tAccuracy: 54.285714285714285\n",
      "Train: [27/93 (90%)]\tLoss: 23.306713\tAccuracy: 51.61290322580645\n",
      "Epoch: 6/20. Train set: Average loss: 26.6004\tAccuracy: 51.61290322580645\n",
      "Epoch: 6/20. Validation set: Average loss: 21.7105\tAccuracy: 51.61290322580645\n",
      "Train: [0/93 (0%)]\tLoss: 19.526022\tAccuracy: 70.0\n",
      "Train: [30/93 (30%)]\tLoss: 15.152626\tAccuracy: 55.0\n",
      "Train: [60/93 (60%)]\tLoss: 50.103951\tAccuracy: 54.285714285714285\n",
      "Train: [27/93 (90%)]\tLoss: 37.217647\tAccuracy: 51.61290322580645\n",
      "Epoch: 7/20. Train set: Average loss: 32.6949\tAccuracy: 51.61290322580645\n",
      "Epoch: 7/20. Validation set: Average loss: 21.6678\tAccuracy: 51.61290322580645\n",
      "Train: [0/93 (0%)]\tLoss: 30.892237\tAccuracy: 70.0\n",
      "Train: [30/93 (30%)]\tLoss: 39.173388\tAccuracy: 57.5\n",
      "Train: [60/93 (60%)]\tLoss: 28.341040\tAccuracy: 55.714285714285715\n",
      "Train: [27/93 (90%)]\tLoss: 21.356047\tAccuracy: 52.68817204301075\n",
      "Epoch: 8/20. Train set: Average loss: 29.7504\tAccuracy: 52.68817204301075\n",
      "Epoch: 8/20. Validation set: Average loss: 21.6534\tAccuracy: 51.61290322580645\n",
      "Train: [0/93 (0%)]\tLoss: 23.748096\tAccuracy: 70.0\n",
      "Train: [30/93 (30%)]\tLoss: 25.646841\tAccuracy: 57.5\n",
      "Train: [60/93 (60%)]\tLoss: 32.760033\tAccuracy: 55.714285714285715\n",
      "Train: [27/93 (90%)]\tLoss: 48.555614\tAccuracy: 52.68817204301075\n",
      "Epoch: 9/20. Train set: Average loss: 34.4636\tAccuracy: 52.68817204301075\n",
      "Epoch: 9/20. Validation set: Average loss: 21.6033\tAccuracy: 51.61290322580645\n",
      "Train: [0/93 (0%)]\tLoss: 35.992393\tAccuracy: 80.0\n",
      "Train: [30/93 (30%)]\tLoss: 40.003644\tAccuracy: 60.0\n",
      "Train: [60/93 (60%)]\tLoss: 28.910162\tAccuracy: 57.142857142857146\n",
      "Train: [27/93 (90%)]\tLoss: 15.190362\tAccuracy: 53.763440860215056\n",
      "Epoch: 10/20. Train set: Average loss: 28.8305\tAccuracy: 53.763440860215056\n",
      "Epoch: 10/20. Validation set: Average loss: 21.4956\tAccuracy: 51.61290322580645\n",
      "Train: [0/93 (0%)]\tLoss: 23.882620\tAccuracy: 70.0\n",
      "Train: [30/93 (30%)]\tLoss: 30.665035\tAccuracy: 57.5\n",
      "Train: [60/93 (60%)]\tLoss: 57.975453\tAccuracy: 55.714285714285715\n",
      "Train: [27/93 (90%)]\tLoss: 16.040992\tAccuracy: 52.68817204301075\n",
      "Epoch: 11/20. Train set: Average loss: 33.7927\tAccuracy: 52.68817204301075\n",
      "Epoch: 11/20. Validation set: Average loss: 21.4128\tAccuracy: 51.61290322580645\n",
      "Train: [0/93 (0%)]\tLoss: 21.614750\tAccuracy: 70.0\n",
      "Train: [30/93 (30%)]\tLoss: 24.428148\tAccuracy: 57.5\n",
      "Train: [60/93 (60%)]\tLoss: 26.234594\tAccuracy: 55.714285714285715\n",
      "Train: [27/93 (90%)]\tLoss: 5.874806\tAccuracy: 52.68817204301075\n",
      "Epoch: 12/20. Train set: Average loss: 19.1227\tAccuracy: 52.68817204301075\n",
      "Epoch: 12/20. Validation set: Average loss: 21.3420\tAccuracy: 51.61290322580645\n",
      "Train: [0/93 (0%)]\tLoss: 20.571730\tAccuracy: 70.0\n",
      "Train: [30/93 (30%)]\tLoss: 35.601193\tAccuracy: 57.5\n",
      "Train: [60/93 (60%)]\tLoss: 46.604469\tAccuracy: 55.714285714285715\n",
      "Train: [27/93 (90%)]\tLoss: 14.191720\tAccuracy: 52.68817204301075\n",
      "Epoch: 13/20. Train set: Average loss: 30.9764\tAccuracy: 52.68817204301075\n",
      "Epoch: 13/20. Validation set: Average loss: 21.3313\tAccuracy: 51.61290322580645\n",
      "Train: [0/93 (0%)]\tLoss: 55.336422\tAccuracy: 70.0\n",
      "Train: [30/93 (30%)]\tLoss: 29.610225\tAccuracy: 57.5\n",
      "Train: [60/93 (60%)]\tLoss: 18.278274\tAccuracy: 55.714285714285715\n",
      "Train: [27/93 (90%)]\tLoss: 38.591120\tAccuracy: 52.68817204301075\n",
      "Epoch: 14/20. Train set: Average loss: 31.4775\tAccuracy: 52.68817204301075\n",
      "Epoch: 14/20. Validation set: Average loss: 21.3190\tAccuracy: 51.61290322580645\n",
      "Train: [0/93 (0%)]\tLoss: 32.801723\tAccuracy: 70.0\n",
      "Train: [30/93 (30%)]\tLoss: 17.402083\tAccuracy: 57.5\n",
      "Train: [60/93 (60%)]\tLoss: 48.362610\tAccuracy: 55.714285714285715\n",
      "Train: [27/93 (90%)]\tLoss: 16.453529\tAccuracy: 52.68817204301075\n",
      "Epoch: 15/20. Train set: Average loss: 27.9456\tAccuracy: 52.68817204301075\n",
      "Epoch: 15/20. Validation set: Average loss: 21.3104\tAccuracy: 51.61290322580645\n",
      "Train: [0/93 (0%)]\tLoss: 21.035414\tAccuracy: 70.0\n",
      "Train: [30/93 (30%)]\tLoss: 16.880759\tAccuracy: 57.5\n",
      "Train: [60/93 (60%)]\tLoss: 24.679093\tAccuracy: 55.714285714285715\n",
      "Train: [27/93 (90%)]\tLoss: 13.487098\tAccuracy: 52.68817204301075\n",
      "Epoch: 16/20. Train set: Average loss: 18.6176\tAccuracy: 52.68817204301075\n",
      "Epoch: 16/20. Validation set: Average loss: 21.3024\tAccuracy: 51.61290322580645\n",
      "Train: [0/93 (0%)]\tLoss: 16.833017\tAccuracy: 70.0\n",
      "Train: [30/93 (30%)]\tLoss: 24.892503\tAccuracy: 57.5\n",
      "Train: [60/93 (60%)]\tLoss: 59.943031\tAccuracy: 55.714285714285715\n",
      "Train: [27/93 (90%)]\tLoss: 47.284438\tAccuracy: 52.68817204301075\n",
      "Epoch: 17/20. Train set: Average loss: 41.3193\tAccuracy: 52.68817204301075\n",
      "Epoch: 17/20. Validation set: Average loss: 21.2994\tAccuracy: 51.61290322580645\n",
      "Train: [0/93 (0%)]\tLoss: 38.663265\tAccuracy: 70.0\n",
      "Train: [30/93 (30%)]\tLoss: 28.114063\tAccuracy: 60.0\n",
      "Train: [60/93 (60%)]\tLoss: 32.144623\tAccuracy: 58.57142857142857\n",
      "Train: [27/93 (90%)]\tLoss: 15.380320\tAccuracy: 54.83870967741935\n",
      "Epoch: 18/20. Train set: Average loss: 26.5580\tAccuracy: 54.83870967741935\n",
      "Epoch: 18/20. Validation set: Average loss: 21.2950\tAccuracy: 51.61290322580645\n",
      "Train: [0/93 (0%)]\tLoss: 39.967144\tAccuracy: 70.0\n",
      "Train: [30/93 (30%)]\tLoss: 28.559398\tAccuracy: 57.5\n",
      "Train: [60/93 (60%)]\tLoss: 26.302058\tAccuracy: 55.714285714285715\n",
      "Train: [27/93 (90%)]\tLoss: 31.604930\tAccuracy: 52.68817204301075\n",
      "Epoch: 19/20. Train set: Average loss: 29.9366\tAccuracy: 52.68817204301075\n",
      "Epoch: 19/20. Validation set: Average loss: 21.2860\tAccuracy: 51.61290322580645\n",
      "Train: [0/93 (0%)]\tLoss: 62.963428\tAccuracy: 70.0\n",
      "Train: [30/93 (30%)]\tLoss: 24.740725\tAccuracy: 57.5\n",
      "Train: [60/93 (60%)]\tLoss: 53.269436\tAccuracy: 57.142857142857146\n",
      "Train: [27/93 (90%)]\tLoss: 19.589941\tAccuracy: 53.763440860215056\n",
      "Epoch: 20/20. Train set: Average loss: 35.5764\tAccuracy: 53.763440860215056\n",
      "Epoch: 20/20. Validation set: Average loss: 21.2773\tAccuracy: 51.61290322580645\n"
     ]
    }
   ],
   "source": [
    "train_loss, val_loss = fit(siamese_train_loader, siamese_test_loader, model, loss_fn, optimizer, scheduler, \n",
    "    n_epochs, cuda, log_interval, metrics=[AccumulatedAccuracyMetric()])"
   ]
  },
  {
   "cell_type": "code",
   "execution_count": 14,
   "metadata": {},
   "outputs": [
    {
     "data": {
      "text/plain": [
       "[<matplotlib.lines.Line2D at 0x7fb6bb06d198>]"
      ]
     },
     "execution_count": 14,
     "metadata": {},
     "output_type": "execute_result"
    },
    {
     "data": {
      "text/plain": [
       "[<matplotlib.lines.Line2D at 0x7fb72dbfd940>]"
      ]
     },
     "execution_count": 14,
     "metadata": {},
     "output_type": "execute_result"
    },
    {
     "data": {
      "image/png": "[encoded data removed]",
      "text/plain": [
       "<Figure size 432x288 with 1 Axes>"
      ]
     },
     "metadata": {
      "needs_background": "light"
     },
     "output_type": "display_data"
    }
   ],
   "source": [
    "plt.plot(range(0, n_epochs), train_loss, 'rx-')\n",
    "plt.plot(range(0, n_epochs), val_loss, 'bx-')"
   ]
  },
  {
   "cell_type": "code",
   "execution_count": 15,
   "metadata": {},
   "outputs": [
    {
     "data": {
      "image/png": "[encoded data removed]",
      "text/plain": [
       "<Figure size 720x720 with 1 Axes>"
      ]
     },
     "metadata": {
      "needs_background": "light"
     },
     "output_type": "display_data"
    }
   ],
   "source": [
    "train_embeddings_cl, train_labels_cl = vis.extract_embeddings(train_loader, model)\n",
    "vis.plot_embeddings(train_embeddings_cl, train_labels_cl, classes)"
   ]
  },
  {
   "cell_type": "code",
   "execution_count": 16,
   "metadata": {},
   "outputs": [
    {
     "data": {
      "image/png": "[encoded data removed]",
      "text/plain": [
       "<Figure size 720x720 with 1 Axes>"
      ]
     },
     "metadata": {
      "needs_background": "light"
     },
     "output_type": "display_data"
    }
   ],
   "source": [
    "val_embeddings_baseline, val_labels_baseline = vis.extract_embeddings(test_loader, model)\n",
    "vis.plot_embeddings(val_embeddings_baseline, val_labels_baseline, classes)"
   ]
  },
  {
   "cell_type": "markdown",
   "metadata": {},
   "source": [
    "# Adverserial Testing\n",
    "Shuffle labels and compare loss to true model."
   ]
  },
  {
   "cell_type": "code",
   "execution_count": 18,
   "metadata": {},
   "outputs": [],
   "source": [
    "adver = cases.copy()\n",
    "np.random.shuffle(adver['Sample Type'].values)\n",
    "assert np.equal(adver['Sample Type'].values, cases['Sample Type'].values).sum() != len(cases)"
   ]
  },
  {
   "cell_type": "code",
   "execution_count": 20,
   "metadata": {},
   "outputs": [
    {
     "data": {
      "text/plain": [
       "Primary Tumor          53\n",
       "Solid Tissue Normal    40\n",
       "Name: Sample Type, dtype: int64"
      ]
     },
     "execution_count": 20,
     "metadata": {},
     "output_type": "execute_result"
    },
    {
     "data": {
      "text/plain": [
       "Solid Tissue Normal    17\n",
       "Primary Tumor          14\n",
       "Name: Sample Type, dtype: int64"
      ]
     },
     "execution_count": 20,
     "metadata": {},
     "output_type": "execute_result"
    }
   ],
   "source": [
    "train, test = train_test_split(adver)\n",
    "train['Sample Type'].value_counts()\n",
    "test['Sample Type'].value_counts()"
   ]
  },
  {
   "cell_type": "code",
   "execution_count": 21,
   "metadata": {},
   "outputs": [],
   "source": [
    "colors = ['#1f77b4', '#ff7f0e', '#2ca02c', '#d62728',\n",
    "              '#9467bd', '#8c564b', '#e377c2', '#7f7f7f',\n",
    "              '#bcbd22', '#17becf']\n",
    "classes = train['Sample Type'].cat.categories.values"
   ]
  },
  {
   "cell_type": "code",
   "execution_count": 22,
   "metadata": {},
   "outputs": [],
   "source": [
    "from tcga_datasets import TCGA, SiameseTCGA\n",
    "root_dir = \"../data/TCGA/pilot_LUAD/\"\n",
    "batch_size = 1\n",
    "\n",
    "train_dataset = TCGA(root_dir, samples=train, train=True)\n",
    "test_dataset = TCGA(root_dir, samples=test, train=False)\n",
    "\n",
    "kwargs = {'num_workers': 1, 'pin_memory': True} if cuda else {}\n",
    "train_loader = torch.utils.data.DataLoader(train_dataset, batch_size=batch_size, shuffle=True, **kwargs)\n",
    "test_loader = torch.utils.data.DataLoader(test_dataset, batch_size=batch_size, shuffle=False, **kwargs)"
   ]
  },
  {
   "cell_type": "code",
   "execution_count": 23,
   "metadata": {},
   "outputs": [
    {
     "data": {
      "text/plain": [
       "SiameseNet(\n",
       "  (embedding_net): EmbeddingNet(\n",
       "    (fc): Sequential(\n",
       "      (0): Linear(in_features=60483, out_features=2000, bias=True)\n",
       "      (1): PReLU(num_parameters=1)\n",
       "      (2): Linear(in_features=2000, out_features=500, bias=True)\n",
       "      (3): PReLU(num_parameters=1)\n",
       "      (4): Linear(in_features=500, out_features=250, bias=True)\n",
       "      (5): PReLU(num_parameters=1)\n",
       "      (6): Linear(in_features=250, out_features=100, bias=True)\n",
       "      (7): PReLU(num_parameters=1)\n",
       "      (8): Linear(in_features=100, out_features=50, bias=True)\n",
       "      (9): PReLU(num_parameters=1)\n",
       "      (10): Linear(in_features=50, out_features=10, bias=True)\n",
       "      (11): PReLU(num_parameters=1)\n",
       "      (12): Linear(in_features=10, out_features=2, bias=True)\n",
       "    )\n",
       "  )\n",
       ")"
      ]
     },
     "execution_count": 23,
     "metadata": {},
     "output_type": "execute_result"
    }
   ],
   "source": [
    "# Step 1 set up dataloader\n",
    "siamese_train_dataset = SiameseTCGA(train_dataset) # Returns pairs of images and target same/different\n",
    "siamese_test_dataset = SiameseTCGA(test_dataset)\n",
    "batch_size = 10\n",
    "kwargs = {'num_workers': 1, 'pin_memory': True} if cuda else {}\n",
    "siamese_train_loader = torch.utils.data.DataLoader(siamese_train_dataset, batch_size=batch_size, shuffle=True, **kwargs)\n",
    "siamese_test_loader = torch.utils.data.DataLoader(siamese_test_dataset, batch_size=batch_size, shuffle=False, **kwargs)\n",
    "\n",
    "# Set up the network and training parameters\n",
    "from tcga_networks import EmbeddingNet, SiameseNet\n",
    "from losses import ContrastiveLoss\n",
    "from metrics import AccumulatedAccuracyMetric\n",
    "\n",
    "# Step 2\n",
    "embedding_net = EmbeddingNet()\n",
    "# Step 3\n",
    "model = SiameseNet(embedding_net)\n",
    "if cuda:\n",
    "    model.cuda()\n",
    "    \n",
    "# Step 4\n",
    "margin = 1.\n",
    "loss_fn = ContrastiveLoss(margin)\n",
    "lr = 1e-3\n",
    "optimizer = optim.Adam(model.parameters(), lr=lr)\n",
    "scheduler = lr_scheduler.StepLR(optimizer, 8, gamma=0.1, last_epoch=-1)\n",
    "n_epochs = 20\n",
    "# print training metrics every log_interval * batch_size\n",
    "log_interval = 3"
   ]
  },
  {
   "cell_type": "code",
   "execution_count": 24,
   "metadata": {},
   "outputs": [
    {
     "name": "stdout",
     "output_type": "stream",
     "text": [
      "Train: [0/93 (0%)]\tLoss: 0.091314\tAccuracy: 40.0\n",
      "Train: [30/93 (30%)]\tLoss: 4.356499\tAccuracy: 55.0\n",
      "Train: [60/93 (60%)]\tLoss: 1.074280\tAccuracy: 48.57142857142857\n",
      "Train: [27/93 (90%)]\tLoss: 7.058412\tAccuracy: 53.763440860215056\n",
      "Epoch: 1/20. Train set: Average loss: 3.7559\tAccuracy: 53.763440860215056\n",
      "Epoch: 1/20. Validation set: Average loss: 2.8996\tAccuracy: 48.38709677419355\n",
      "Train: [0/93 (0%)]\tLoss: 9.679315\tAccuracy: 30.0\n",
      "Train: [30/93 (30%)]\tLoss: 2.036904\tAccuracy: 42.5\n",
      "Train: [60/93 (60%)]\tLoss: 6.025926\tAccuracy: 42.857142857142854\n",
      "Train: [27/93 (90%)]\tLoss: 1.044980\tAccuracy: 46.236559139784944\n",
      "Epoch: 2/20. Train set: Average loss: 3.7003\tAccuracy: 46.236559139784944\n",
      "Epoch: 2/20. Validation set: Average loss: 7.9664\tAccuracy: 48.38709677419355\n",
      "Train: [0/93 (0%)]\tLoss: 11.644698\tAccuracy: 40.0\n",
      "Train: [30/93 (30%)]\tLoss: 2.996032\tAccuracy: 47.5\n",
      "Train: [60/93 (60%)]\tLoss: 1.198075\tAccuracy: 51.42857142857143\n",
      "Train: [27/93 (90%)]\tLoss: 3.749873\tAccuracy: 54.83870967741935\n",
      "Epoch: 3/20. Train set: Average loss: 3.5477\tAccuracy: 54.83870967741935\n",
      "Epoch: 3/20. Validation set: Average loss: 2.2515\tAccuracy: 48.38709677419355\n",
      "Train: [0/93 (0%)]\tLoss: 1.848544\tAccuracy: 30.0\n",
      "Train: [30/93 (30%)]\tLoss: 6.247902\tAccuracy: 37.5\n",
      "Train: [60/93 (60%)]\tLoss: 2.011795\tAccuracy: 45.714285714285715\n",
      "Train: [27/93 (90%)]\tLoss: 0.451720\tAccuracy: 51.61290322580645\n",
      "Epoch: 4/20. Train set: Average loss: 2.7983\tAccuracy: 51.61290322580645\n",
      "Epoch: 4/20. Validation set: Average loss: 2.4233\tAccuracy: 48.38709677419355\n",
      "Train: [0/93 (0%)]\tLoss: 6.049721\tAccuracy: 30.0\n",
      "Train: [30/93 (30%)]\tLoss: 6.255053\tAccuracy: 37.5\n",
      "Train: [60/93 (60%)]\tLoss: 1.031111\tAccuracy: 47.142857142857146\n",
      "Train: [27/93 (90%)]\tLoss: 0.485395\tAccuracy: 44.086021505376344\n",
      "Epoch: 5/20. Train set: Average loss: 2.9364\tAccuracy: 44.086021505376344\n",
      "Epoch: 5/20. Validation set: Average loss: 11.0701\tAccuracy: 51.61290322580645\n",
      "Train: [0/93 (0%)]\tLoss: 22.251814\tAccuracy: 70.0\n",
      "Train: [30/93 (30%)]\tLoss: 1.629845\tAccuracy: 55.0\n",
      "Train: [60/93 (60%)]\tLoss: 0.520919\tAccuracy: 47.142857142857146\n",
      "Train: [27/93 (90%)]\tLoss: 0.132036\tAccuracy: 53.763440860215056\n",
      "Epoch: 6/20. Train set: Average loss: 2.9100\tAccuracy: 53.763440860215056\n",
      "Epoch: 6/20. Validation set: Average loss: 0.5911\tAccuracy: 48.38709677419355\n",
      "Train: [0/93 (0%)]\tLoss: 2.272755\tAccuracy: 30.0\n",
      "Train: [30/93 (30%)]\tLoss: 0.897722\tAccuracy: 37.5\n",
      "Train: [60/93 (60%)]\tLoss: 0.216726\tAccuracy: 44.285714285714285\n",
      "Train: [27/93 (90%)]\tLoss: 2.085020\tAccuracy: 50.53763440860215\n",
      "Epoch: 7/20. Train set: Average loss: 1.1871\tAccuracy: 50.53763440860215\n",
      "Epoch: 7/20. Validation set: Average loss: 0.2899\tAccuracy: 48.38709677419355\n",
      "Train: [0/93 (0%)]\tLoss: 0.591871\tAccuracy: 30.0\n",
      "Train: [30/93 (30%)]\tLoss: 0.293978\tAccuracy: 45.0\n",
      "Train: [60/93 (60%)]\tLoss: 0.594209\tAccuracy: 45.714285714285715\n",
      "Train: [27/93 (90%)]\tLoss: 0.465148\tAccuracy: 49.46236559139785\n",
      "Epoch: 8/20. Train set: Average loss: 0.4652\tAccuracy: 49.46236559139785\n",
      "Epoch: 8/20. Validation set: Average loss: 0.1486\tAccuracy: 48.38709677419355\n",
      "Train: [0/93 (0%)]\tLoss: 0.303686\tAccuracy: 30.0\n",
      "Train: [30/93 (30%)]\tLoss: 0.344556\tAccuracy: 35.0\n",
      "Train: [60/93 (60%)]\tLoss: 0.156363\tAccuracy: 41.42857142857143\n",
      "Train: [27/93 (90%)]\tLoss: 0.227508\tAccuracy: 50.53763440860215\n",
      "Epoch: 9/20. Train set: Average loss: 0.2489\tAccuracy: 50.53763440860215\n",
      "Epoch: 9/20. Validation set: Average loss: 0.1225\tAccuracy: 48.38709677419355\n",
      "Train: [0/93 (0%)]\tLoss: 0.101845\tAccuracy: 30.0\n",
      "Train: [30/93 (30%)]\tLoss: 0.160473\tAccuracy: 35.0\n",
      "Train: [60/93 (60%)]\tLoss: 0.181830\tAccuracy: 42.857142857142854\n",
      "Train: [27/93 (90%)]\tLoss: 0.201645\tAccuracy: 48.38709677419355\n",
      "Epoch: 10/20. Train set: Average loss: 0.1734\tAccuracy: 48.38709677419355\n",
      "Epoch: 10/20. Validation set: Average loss: 0.1122\tAccuracy: 45.16129032258065\n",
      "Train: [0/93 (0%)]\tLoss: 0.124186\tAccuracy: 30.0\n",
      "Train: [30/93 (30%)]\tLoss: 0.124621\tAccuracy: 45.0\n",
      "Train: [60/93 (60%)]\tLoss: 0.167144\tAccuracy: 47.142857142857146\n",
      "Train: [27/93 (90%)]\tLoss: 0.174373\tAccuracy: 44.086021505376344\n",
      "Epoch: 11/20. Train set: Average loss: 0.1523\tAccuracy: 44.086021505376344\n",
      "Epoch: 11/20. Validation set: Average loss: 0.1087\tAccuracy: 51.61290322580645\n",
      "Train: [0/93 (0%)]\tLoss: 0.123960\tAccuracy: 60.0\n",
      "Train: [30/93 (30%)]\tLoss: 0.143434\tAccuracy: 55.0\n",
      "Train: [60/93 (60%)]\tLoss: 0.149476\tAccuracy: 48.57142857142857\n",
      "Train: [27/93 (90%)]\tLoss: 0.157518\tAccuracy: 49.46236559139785\n",
      "Epoch: 12/20. Train set: Average loss: 0.1475\tAccuracy: 49.46236559139785\n",
      "Epoch: 12/20. Validation set: Average loss: 0.1066\tAccuracy: 58.064516129032256\n",
      "Train: [0/93 (0%)]\tLoss: 0.198532\tAccuracy: 40.0\n",
      "Train: [30/93 (30%)]\tLoss: 0.091306\tAccuracy: 52.5\n",
      "Train: [60/93 (60%)]\tLoss: 0.177658\tAccuracy: 51.42857142857143\n",
      "Train: [27/93 (90%)]\tLoss: 0.210885\tAccuracy: 51.61290322580645\n",
      "Epoch: 13/20. Train set: Average loss: 0.1638\tAccuracy: 51.61290322580645\n",
      "Epoch: 13/20. Validation set: Average loss: 0.1050\tAccuracy: 45.16129032258065\n",
      "Train: [0/93 (0%)]\tLoss: 0.146374\tAccuracy: 40.0\n",
      "Train: [30/93 (30%)]\tLoss: 0.161363\tAccuracy: 42.5\n",
      "Train: [60/93 (60%)]\tLoss: 0.181338\tAccuracy: 47.142857142857146\n",
      "Train: [27/93 (90%)]\tLoss: 0.187383\tAccuracy: 50.53763440860215\n",
      "Epoch: 14/20. Train set: Average loss: 0.1737\tAccuracy: 50.53763440860215\n",
      "Epoch: 14/20. Validation set: Average loss: 0.1035\tAccuracy: 48.38709677419355\n",
      "Train: [0/93 (0%)]\tLoss: 0.138536\tAccuracy: 30.0\n",
      "Train: [30/93 (30%)]\tLoss: 0.134217\tAccuracy: 50.0\n",
      "Train: [60/93 (60%)]\tLoss: 0.194038\tAccuracy: 51.42857142857143\n",
      "Train: [27/93 (90%)]\tLoss: 0.176811\tAccuracy: 54.83870967741935\n",
      "Epoch: 15/20. Train set: Average loss: 0.1654\tAccuracy: 54.83870967741935\n",
      "Epoch: 15/20. Validation set: Average loss: 0.1020\tAccuracy: 48.38709677419355\n",
      "Train: [0/93 (0%)]\tLoss: 0.144934\tAccuracy: 30.0\n",
      "Train: [30/93 (30%)]\tLoss: 0.132487\tAccuracy: 40.0\n",
      "Train: [60/93 (60%)]\tLoss: 0.192984\tAccuracy: 47.142857142857146\n",
      "Train: [27/93 (90%)]\tLoss: 0.184007\tAccuracy: 52.68817204301075\n",
      "Epoch: 16/20. Train set: Average loss: 0.1673\tAccuracy: 52.68817204301075\n",
      "Epoch: 16/20. Validation set: Average loss: 0.1018\tAccuracy: 48.38709677419355\n",
      "Train: [0/93 (0%)]\tLoss: 0.149686\tAccuracy: 30.0\n",
      "Train: [30/93 (30%)]\tLoss: 0.149270\tAccuracy: 50.0\n",
      "Train: [60/93 (60%)]\tLoss: 0.186667\tAccuracy: 50.0\n",
      "Train: [27/93 (90%)]\tLoss: 0.200918\tAccuracy: 56.98924731182796\n",
      "Epoch: 17/20. Train set: Average loss: 0.1760\tAccuracy: 56.98924731182796\n",
      "Epoch: 17/20. Validation set: Average loss: 0.1019\tAccuracy: 48.38709677419355\n",
      "Train: [0/93 (0%)]\tLoss: 0.123241\tAccuracy: 30.0\n",
      "Train: [30/93 (30%)]\tLoss: 0.151136\tAccuracy: 37.5\n",
      "Train: [60/93 (60%)]\tLoss: 0.146097\tAccuracy: 45.714285714285715\n",
      "Train: [27/93 (90%)]\tLoss: 0.171907\tAccuracy: 49.46236559139785\n",
      "Epoch: 18/20. Train set: Average loss: 0.1531\tAccuracy: 49.46236559139785\n",
      "Epoch: 18/20. Validation set: Average loss: 0.1020\tAccuracy: 48.38709677419355\n",
      "Train: [0/93 (0%)]\tLoss: 0.092412\tAccuracy: 40.0\n",
      "Train: [30/93 (30%)]\tLoss: 0.142277\tAccuracy: 42.5\n",
      "Train: [60/93 (60%)]\tLoss: 0.147076\tAccuracy: 47.142857142857146\n",
      "Train: [27/93 (90%)]\tLoss: 0.186970\tAccuracy: 52.68817204301075\n",
      "Epoch: 19/20. Train set: Average loss: 0.1521\tAccuracy: 52.68817204301075\n",
      "Epoch: 19/20. Validation set: Average loss: 0.1020\tAccuracy: 48.38709677419355\n",
      "Train: [0/93 (0%)]\tLoss: 0.141650\tAccuracy: 30.0\n",
      "Train: [30/93 (30%)]\tLoss: 0.138652\tAccuracy: 30.0\n",
      "Train: [60/93 (60%)]\tLoss: 0.106171\tAccuracy: 37.142857142857146\n",
      "Train: [27/93 (90%)]\tLoss: 0.164911\tAccuracy: 44.086021505376344\n",
      "Epoch: 20/20. Train set: Average loss: 0.1371\tAccuracy: 44.086021505376344\n",
      "Epoch: 20/20. Validation set: Average loss: 0.1021\tAccuracy: 48.38709677419355\n"
     ]
    }
   ],
   "source": [
    "train_loss, val_loss = fit(siamese_train_loader, siamese_test_loader, model, loss_fn, optimizer, scheduler, \n",
    "    n_epochs, cuda, log_interval, metrics=[AccumulatedAccuracyMetric()])"
   ]
  },
  {
   "cell_type": "code",
   "execution_count": 25,
   "metadata": {},
   "outputs": [
    {
     "data": {
      "text/plain": [
       "[<matplotlib.lines.Line2D at 0x7fb6b3e455f8>]"
      ]
     },
     "execution_count": 25,
     "metadata": {},
     "output_type": "execute_result"
    },
    {
     "data": {
      "text/plain": [
       "[<matplotlib.lines.Line2D at 0x7fb6b10302b0>]"
      ]
     },
     "execution_count": 25,
     "metadata": {},
     "output_type": "execute_result"
    },
    {
     "data": {
      "image/png": "[encoded data removed]",
      "text/plain": [
       "<Figure size 432x288 with 1 Axes>"
      ]
     },
     "metadata": {
      "needs_background": "light"
     },
     "output_type": "display_data"
    }
   ],
   "source": [
    "plt.plot(range(0, n_epochs), train_loss, 'rx-')\n",
    "plt.plot(range(0, n_epochs), val_loss, 'bx-')"
   ]
  },
  {
   "cell_type": "code",
   "execution_count": 26,
   "metadata": {},
   "outputs": [
    {
     "data": {
      "image/png": "[encoded data removed]",
      "text/plain": [
       "<Figure size 720x720 with 1 Axes>"
      ]
     },
     "metadata": {
      "needs_background": "light"
     },
     "output_type": "display_data"
    }
   ],
   "source": [
    "train_embeddings_cl, train_labels_cl = vis.extract_embeddings(train_loader, model)\n",
    "vis.plot_embeddings(train_embeddings_cl, train_labels_cl, classes)"
   ]
  },
  {
   "cell_type": "code",
   "execution_count": 27,
   "metadata": {},
   "outputs": [
    {
     "data": {
      "image/png": "[encoded data removed]",
      "text/plain": [
       "<Figure size 720x720 with 1 Axes>"
      ]
     },
     "metadata": {
      "needs_background": "light"
     },
     "output_type": "display_data"
    }
   ],
   "source": [
    "val_embeddings_baseline, val_labels_baseline = vis.extract_embeddings(test_loader, model)\n",
    "vis.plot_embeddings(val_embeddings_baseline, val_labels_baseline, classes)"
   ]
  }
 ],
 "metadata": {
  "kernelspec": {
   "display_name": "torch",
   "language": "python",
   "name": "torch"
  },
  "language_info": {
   "codemirror_mode": {
    "name": "ipython",
    "version": 3
   },
   "file_extension": ".py",
   "mimetype": "text/x-python",
   "name": "python",
   "nbconvert_exporter": "python",
   "pygments_lexer": "ipython3",
   "version": "3.7.3"
  }
 },
 "nbformat": 4,
 "nbformat_minor": 2
}
