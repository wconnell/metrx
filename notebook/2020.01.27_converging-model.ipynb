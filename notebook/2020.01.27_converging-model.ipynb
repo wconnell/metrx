{
 "cells": [
  {
   "cell_type": "code",
   "execution_count": 1,
   "metadata": {},
   "outputs": [],
   "source": [
    "import numpy as np\n",
    "import pandas as pd\n",
    "np.random.seed(123)\n",
    "\n",
    "# viz\n",
    "import matplotlib.pyplot as plt\n",
    "\n",
    "# notebook settings\n",
    "from IPython.core.interactiveshell import InteractiveShell\n",
    "InteractiveShell.ast_node_interactivity = \"all\"\n",
    "\n",
    "pd.set_option('display.max_columns', 1000)"
   ]
  },
  {
   "cell_type": "markdown",
   "metadata": {},
   "source": [
    "## Sample Prep"
   ]
  },
  {
   "cell_type": "code",
   "execution_count": 17,
   "metadata": {},
   "outputs": [
    {
     "data": {
      "text/html": [
       "<div>\n",
       "<style scoped>\n",
       "    .dataframe tbody tr th:only-of-type {\n",
       "        vertical-align: middle;\n",
       "    }\n",
       "\n",
       "    .dataframe tbody tr th {\n",
       "        vertical-align: top;\n",
       "    }\n",
       "\n",
       "    .dataframe thead th {\n",
       "        text-align: right;\n",
       "    }\n",
       "</style>\n",
       "<table border=\"1\" class=\"dataframe\">\n",
       "  <thead>\n",
       "    <tr style=\"text-align: right;\">\n",
       "      <th></th>\n",
       "      <th>File ID</th>\n",
       "      <th>File Name</th>\n",
       "      <th>Data Category</th>\n",
       "      <th>Data Type</th>\n",
       "      <th>Project ID</th>\n",
       "      <th>Case ID</th>\n",
       "      <th>Sample ID</th>\n",
       "      <th>Sample Type</th>\n",
       "      <th>data</th>\n",
       "    </tr>\n",
       "  </thead>\n",
       "  <tbody>\n",
       "    <tr>\n",
       "      <th>0</th>\n",
       "      <td>754774dd-77e1-4cf5-b9b5-3afad9f41410</td>\n",
       "      <td>999edb9e-8a45-4115-84d5-fca75dcfa639.FPKM.txt.gz</td>\n",
       "      <td>Transcriptome Profiling</td>\n",
       "      <td>Gene Expression Quantification</td>\n",
       "      <td>TCGA-BRCA</td>\n",
       "      <td>TCGA-E2-A1IG</td>\n",
       "      <td>TCGA-E2-A1IG-01A</td>\n",
       "      <td>Primary Tumor</td>\n",
       "      <td>FPKM</td>\n",
       "    </tr>\n",
       "    <tr>\n",
       "      <th>1</th>\n",
       "      <td>8bf102b9-baf7-4749-bcd0-eca25f600722</td>\n",
       "      <td>23393a6a-bfbc-4dec-9ab5-e78a487a095f.FPKM.txt.gz</td>\n",
       "      <td>Transcriptome Profiling</td>\n",
       "      <td>Gene Expression Quantification</td>\n",
       "      <td>TCGA-BRCA</td>\n",
       "      <td>TCGA-EW-A1J5</td>\n",
       "      <td>TCGA-EW-A1J5-01A</td>\n",
       "      <td>Primary Tumor</td>\n",
       "      <td>FPKM</td>\n",
       "    </tr>\n",
       "    <tr>\n",
       "      <th>2</th>\n",
       "      <td>5bf7609e-68cb-4ddb-8f05-ee1d4f92cf9b</td>\n",
       "      <td>4a9bb3fd-4e75-4585-82f7-7254889b9838.FPKM.txt.gz</td>\n",
       "      <td>Transcriptome Profiling</td>\n",
       "      <td>Gene Expression Quantification</td>\n",
       "      <td>TCGA-BRCA</td>\n",
       "      <td>TCGA-AR-A1AU</td>\n",
       "      <td>TCGA-AR-A1AU-01A</td>\n",
       "      <td>Primary Tumor</td>\n",
       "      <td>FPKM</td>\n",
       "    </tr>\n",
       "    <tr>\n",
       "      <th>3</th>\n",
       "      <td>10a40ceb-080c-4758-97f9-1a262e2639ed</td>\n",
       "      <td>9858d286-1b96-4414-bd09-d73dc6f1c79e.FPKM.txt.gz</td>\n",
       "      <td>Transcriptome Profiling</td>\n",
       "      <td>Gene Expression Quantification</td>\n",
       "      <td>TCGA-LGG</td>\n",
       "      <td>TCGA-DB-A64R</td>\n",
       "      <td>TCGA-DB-A64R-01A</td>\n",
       "      <td>Primary Tumor</td>\n",
       "      <td>FPKM</td>\n",
       "    </tr>\n",
       "    <tr>\n",
       "      <th>4</th>\n",
       "      <td>2600ef39-0bdf-4e10-9fdf-e3dbed7b5383</td>\n",
       "      <td>f7182de7-067e-467b-af88-790ad3e63eec.FPKM.txt.gz</td>\n",
       "      <td>Transcriptome Profiling</td>\n",
       "      <td>Gene Expression Quantification</td>\n",
       "      <td>TCGA-LGG</td>\n",
       "      <td>TCGA-P5-A77X</td>\n",
       "      <td>TCGA-P5-A77X-01A</td>\n",
       "      <td>Primary Tumor</td>\n",
       "      <td>FPKM</td>\n",
       "    </tr>\n",
       "  </tbody>\n",
       "</table>\n",
       "</div>"
      ],
      "text/plain": [
       "                                File ID  \\\n",
       "0  754774dd-77e1-4cf5-b9b5-3afad9f41410   \n",
       "1  8bf102b9-baf7-4749-bcd0-eca25f600722   \n",
       "2  5bf7609e-68cb-4ddb-8f05-ee1d4f92cf9b   \n",
       "3  10a40ceb-080c-4758-97f9-1a262e2639ed   \n",
       "4  2600ef39-0bdf-4e10-9fdf-e3dbed7b5383   \n",
       "\n",
       "                                          File Name            Data Category  \\\n",
       "0  999edb9e-8a45-4115-84d5-fca75dcfa639.FPKM.txt.gz  Transcriptome Profiling   \n",
       "1  23393a6a-bfbc-4dec-9ab5-e78a487a095f.FPKM.txt.gz  Transcriptome Profiling   \n",
       "2  4a9bb3fd-4e75-4585-82f7-7254889b9838.FPKM.txt.gz  Transcriptome Profiling   \n",
       "3  9858d286-1b96-4414-bd09-d73dc6f1c79e.FPKM.txt.gz  Transcriptome Profiling   \n",
       "4  f7182de7-067e-467b-af88-790ad3e63eec.FPKM.txt.gz  Transcriptome Profiling   \n",
       "\n",
       "                        Data Type Project ID       Case ID         Sample ID  \\\n",
       "0  Gene Expression Quantification  TCGA-BRCA  TCGA-E2-A1IG  TCGA-E2-A1IG-01A   \n",
       "1  Gene Expression Quantification  TCGA-BRCA  TCGA-EW-A1J5  TCGA-EW-A1J5-01A   \n",
       "2  Gene Expression Quantification  TCGA-BRCA  TCGA-AR-A1AU  TCGA-AR-A1AU-01A   \n",
       "3  Gene Expression Quantification   TCGA-LGG  TCGA-DB-A64R  TCGA-DB-A64R-01A   \n",
       "4  Gene Expression Quantification   TCGA-LGG  TCGA-P5-A77X  TCGA-P5-A77X-01A   \n",
       "\n",
       "     Sample Type  data  \n",
       "0  Primary Tumor  FPKM  \n",
       "1  Primary Tumor  FPKM  \n",
       "2  Primary Tumor  FPKM  \n",
       "3  Primary Tumor  FPKM  \n",
       "4  Primary Tumor  FPKM  "
      ]
     },
     "execution_count": 17,
     "metadata": {},
     "output_type": "execute_result"
    }
   ],
   "source": [
    "samples = pd.read_csv('../data/TCGA/rna-seq_pan/meta/gdc_sample_sheet.2019-12-12.tsv', sep=\"\\t\")\n",
    "# get file type\n",
    "samples['data'] = [val[1] for i,val in samples['File Name'].str.split(\".\").items()]\n",
    "samples.head()"
   ]
  },
  {
   "cell_type": "markdown",
   "metadata": {},
   "source": [
    "Samples with RNAseq adjacent normal tissue"
   ]
  },
  {
   "cell_type": "code",
   "execution_count": 18,
   "metadata": {},
   "outputs": [
    {
     "data": {
      "text/plain": [
       "FPKM    636\n",
       "Name: data, dtype: int64"
      ]
     },
     "execution_count": 18,
     "metadata": {},
     "output_type": "execute_result"
    }
   ],
   "source": [
    "samples[samples['Sample Type']=='Solid Tissue Normal']['data'].value_counts()"
   ]
  },
  {
   "cell_type": "code",
   "execution_count": 19,
   "metadata": {},
   "outputs": [
    {
     "data": {
      "text/plain": [
       "BRCA    1206\n",
       "LUAD     588\n",
       "UCEC     567\n",
       "KIRC     554\n",
       "LUSC     543\n",
       "LGG      524\n",
       "PRAD     517\n",
       "COAD     506\n",
       "THCA     505\n",
       "SKCM     469\n",
       "BLCA     431\n",
       "LIHC     421\n",
       "STAD     402\n",
       "OV       379\n",
       "KIRP     308\n",
       "CESC     306\n",
       "PAAD     171\n",
       "ESCA     171\n",
       "GBM      166\n",
       "TGCT     150\n",
       "PCPG     133\n",
       "LAML     123\n",
       "KICH      81\n",
       "ACC       75\n",
       "CHOL      41\n",
       "SARC      10\n",
       "DLBC       9\n",
       "READ       7\n",
       "MESO       1\n",
       "Name: project, dtype: int64"
      ]
     },
     "execution_count": 19,
     "metadata": {},
     "output_type": "execute_result"
    }
   ],
   "source": [
    "samples['project'] = [val[1] for i,val in samples['Project ID'].str.split(\"-\").items()]\n",
    "samples['project'].value_counts()"
   ]
  },
  {
   "cell_type": "code",
   "execution_count": 20,
   "metadata": {},
   "outputs": [],
   "source": [
    "# all cases with adjacent normal tissue\n",
    "cases = samples[samples['Sample Type']=='Solid Tissue Normal']['Case ID']"
   ]
  },
  {
   "cell_type": "code",
   "execution_count": 21,
   "metadata": {},
   "outputs": [
    {
     "data": {
      "text/plain": [
       "111"
      ]
     },
     "execution_count": 21,
     "metadata": {},
     "output_type": "execute_result"
    },
    {
     "data": {
      "text/plain": [
       "112"
      ]
     },
     "execution_count": 21,
     "metadata": {},
     "output_type": "execute_result"
    }
   ],
   "source": [
    "# disparity in cases\n",
    "samples[(samples['Case ID'].isin(cases)) & (samples['Sample Type']=='Primary Tumor') \n",
    "        & (samples['data']=='FPKM') & (samples['project']=='BRCA')]['Case ID'].nunique()\n",
    "samples[(samples['Case ID'].isin(cases)) & (samples['Sample Type']=='Solid Tissue Normal') \n",
    "        & (samples['data']=='FPKM') & (samples['project']=='BRCA')]['Case ID'].nunique()"
   ]
  },
  {
   "cell_type": "code",
   "execution_count": 22,
   "metadata": {},
   "outputs": [
    {
     "data": {
      "text/plain": [
       "(116,)"
      ]
     },
     "execution_count": 22,
     "metadata": {},
     "output_type": "execute_result"
    }
   ],
   "source": [
    "# divide, join, subset\n",
    "case_tumor = samples[(samples['Case ID'].isin(cases)) & (samples['Sample Type']=='Primary Tumor') & \n",
    "                     (samples['data']=='FPKM') & (samples['project']=='BRCA')]\n",
    "case_norm = samples[(samples['Case ID'].isin(cases)) & (samples['Sample Type']=='Solid Tissue Normal') & \n",
    "                    (samples['data']=='FPKM') & (samples['project']=='BRCA')]\n",
    "#cases = case_norm[case_norm['Case ID'].isin(case_tumor['Case ID'])]['Case ID']\n",
    "cases = pd.merge(case_tumor['Case ID'], case_norm['Case ID'])['Case ID']\n",
    "cases.shape"
   ]
  },
  {
   "cell_type": "code",
   "execution_count": 23,
   "metadata": {},
   "outputs": [],
   "source": [
    "case_tumor = case_tumor[case_tumor['Case ID'].isin(cases)]\n",
    "case_norm = case_norm[case_norm['Case ID'].isin(cases)]\n",
    "cases = pd.concat([case_tumor, case_norm])"
   ]
  },
  {
   "cell_type": "code",
   "execution_count": 24,
   "metadata": {},
   "outputs": [
    {
     "data": {
      "text/plain": [
       "(116, 10)"
      ]
     },
     "execution_count": 24,
     "metadata": {},
     "output_type": "execute_result"
    },
    {
     "data": {
      "text/plain": [
       "(111, 10)"
      ]
     },
     "execution_count": 24,
     "metadata": {},
     "output_type": "execute_result"
    },
    {
     "data": {
      "text/plain": [
       "(227, 10)"
      ]
     },
     "execution_count": 24,
     "metadata": {},
     "output_type": "execute_result"
    }
   ],
   "source": [
    "case_tumor.shape\n",
    "case_norm.shape\n",
    "cases.shape"
   ]
  },
  {
   "cell_type": "markdown",
   "metadata": {},
   "source": [
    "## Dataset Prep"
   ]
  },
  {
   "cell_type": "code",
   "execution_count": 10,
   "metadata": {},
   "outputs": [
    {
     "data": {
      "text/plain": [
       "Primary Tumor          90\n",
       "Solid Tissue Normal    80\n",
       "Name: Sample Type, dtype: int64"
      ]
     },
     "execution_count": 10,
     "metadata": {},
     "output_type": "execute_result"
    },
    {
     "data": {
      "text/plain": [
       "Solid Tissue Normal    31\n",
       "Primary Tumor          26\n",
       "Name: Sample Type, dtype: int64"
      ]
     },
     "execution_count": 10,
     "metadata": {},
     "output_type": "execute_result"
    }
   ],
   "source": [
    "from sklearn.model_selection import train_test_split\n",
    "from sklearn.preprocessing import StandardScaler\n",
    "\n",
    "target = 'Sample Type'\n",
    "cases[target] = cases[target].astype('category')\n",
    "\n",
    "train, test = train_test_split(cases)\n",
    "train[target].value_counts()\n",
    "test[target].value_counts()"
   ]
  },
  {
   "cell_type": "code",
   "execution_count": 11,
   "metadata": {},
   "outputs": [
    {
     "data": {
      "text/plain": [
       "<torch._C.Generator at 0x7fb7d1f8a830>"
      ]
     },
     "execution_count": 11,
     "metadata": {},
     "output_type": "execute_result"
    },
    {
     "name": "stdout",
     "output_type": "stream",
     "text": [
      "Cuda is available: True\n"
     ]
    },
    {
     "data": {
      "text/plain": [
       "{'Primary Tumor': 0, 'Solid Tissue Normal': 1}"
      ]
     },
     "execution_count": 11,
     "metadata": {},
     "output_type": "execute_result"
    }
   ],
   "source": [
    "import torch\n",
    "from torch.optim import lr_scheduler\n",
    "import torch.optim as optim\n",
    "from torch.autograd import Variable\n",
    "torch.manual_seed(123)\n",
    "\n",
    "from trainer import fit\n",
    "import visualization as vis\n",
    "import numpy as np\n",
    "cuda = torch.cuda.is_available()\n",
    "print(\"Cuda is available: {}\".format(cuda))\n",
    "\n",
    "classes = {key:val for val,key in enumerate(train[target].cat.categories.values)}\n",
    "classes"
   ]
  },
  {
   "cell_type": "code",
   "execution_count": 12,
   "metadata": {},
   "outputs": [],
   "source": [
    "from tcga_datasets import TCGA, SiameseTCGA\n",
    "root_dir = \"../data/TCGA/rna-seq_pan/\"\n",
    "batch_size = 1\n",
    "\n",
    "train_dataset = TCGA(root_dir, samples=train, train=True, target=target, norm=False)\n",
    "test_dataset = TCGA(root_dir, samples=test, train=False, target=target, norm=False)\n",
    "\n",
    "scaler = StandardScaler()\n",
    "train_dataset.data = pd.DataFrame(scaler.fit_transform(train_dataset.data),\n",
    "                                  index=train_dataset.data.index,\n",
    "                                  columns=train_dataset.data.columns)\n",
    "test_dataset.data = pd.DataFrame(scaler.transform(test_dataset.data),\n",
    "                                 index=test_dataset.data.index,\n",
    "                                 columns=test_dataset.data.columns)\n",
    "\n",
    "kwargs = {'num_workers': 10, 'pin_memory': True} if cuda else {'num_workers': 10}\n",
    "train_loader = torch.utils.data.DataLoader(train_dataset, batch_size=batch_size, shuffle=True, **kwargs)\n",
    "test_loader = torch.utils.data.DataLoader(test_dataset, batch_size=batch_size, shuffle=False, **kwargs)"
   ]
  },
  {
   "cell_type": "markdown",
   "metadata": {},
   "source": [
    "## Siamese Network"
   ]
  },
  {
   "cell_type": "code",
   "execution_count": 39,
   "metadata": {},
   "outputs": [
    {
     "data": {
      "text/plain": [
       "SiameseNet(\n",
       "  (embedding_net): EmbeddingNet(\n",
       "    (fc): Sequential(\n",
       "      (linear1): Linear(in_features=60483, out_features=2000, bias=True)\n",
       "      (relu1): PReLU(num_parameters=1)\n",
       "      (linear2): Linear(in_features=2000, out_features=500, bias=True)\n",
       "      (relu2): PReLU(num_parameters=1)\n",
       "      (linear3): Linear(in_features=500, out_features=250, bias=True)\n",
       "      (relu3): PReLU(num_parameters=1)\n",
       "      (linear4): Linear(in_features=250, out_features=100, bias=True)\n",
       "      (relu4): PReLU(num_parameters=1)\n",
       "      (linear5): Linear(in_features=100, out_features=50, bias=True)\n",
       "      (relu5): PReLU(num_parameters=1)\n",
       "      (linear6): Linear(in_features=50, out_features=10, bias=True)\n",
       "      (relu6): PReLU(num_parameters=1)\n",
       "      (linear7): Linear(in_features=10, out_features=2, bias=True)\n",
       "    )\n",
       "  )\n",
       ")"
      ]
     },
     "execution_count": 39,
     "metadata": {},
     "output_type": "execute_result"
    }
   ],
   "source": [
    "# Step 1 set up dataloader\n",
    "root_dir = \"../data/TCGA\"\n",
    "siamese_train_dataset = SiameseTCGA(train_dataset) # Returns pairs of images and target same/different\n",
    "siamese_test_dataset = SiameseTCGA(test_dataset)\n",
    "batch_size = 8\n",
    "kwargs = {'num_workers': 10, 'pin_memory': True} if cuda else {}\n",
    "siamese_train_loader = torch.utils.data.DataLoader(siamese_train_dataset, batch_size=batch_size, shuffle=True, **kwargs)\n",
    "siamese_test_loader = torch.utils.data.DataLoader(siamese_test_dataset, batch_size=batch_size, shuffle=False, **kwargs)\n",
    "\n",
    "# Set up the network and training parameters\n",
    "from tcga_networks import EmbeddingNet, SiameseNet\n",
    "from losses import ContrastiveLoss\n",
    "from metrics import AccumulatedAccuracyMetric\n",
    "\n",
    "# Step 2\n",
    "embedding_net = EmbeddingNet()\n",
    "# Step 3\n",
    "model = SiameseNet(embedding_net)\n",
    "if cuda:\n",
    "    model.cuda()\n",
    "    \n",
    "# Step 4\n",
    "margin = 1.\n",
    "loss_fn = ContrastiveLoss(margin)\n",
    "lr = 1e-3\n",
    "optimizer = optim.Adam(model.parameters(), lr=lr)\n",
    "scheduler = lr_scheduler.StepLR(optimizer, 8, gamma=0.1, last_epoch=-1)\n",
    "n_epochs = 20\n",
    "# print training metrics every log_interval * batch_size\n",
    "log_interval = 30"
   ]
  },
  {
   "cell_type": "code",
   "execution_count": 40,
   "metadata": {},
   "outputs": [
    {
     "name": "stdout",
     "output_type": "stream",
     "text": [
      "Train: [0/170 (0%)]\tLoss: 0.309576\n",
      "Epoch: 1/20. Train set: Average loss: 0.1339\n",
      "Epoch: 1/20. Validation set: Average loss: 0.2022\n",
      "Train: [0/170 (0%)]\tLoss: 0.159153\n",
      "Epoch: 2/20. Train set: Average loss: 5.2634\n",
      "Epoch: 2/20. Validation set: Average loss: 3.8425\n",
      "Train: [0/170 (0%)]\tLoss: 0.058472\n",
      "Epoch: 3/20. Train set: Average loss: 31.0836\n",
      "Epoch: 3/20. Validation set: Average loss: 23.4771\n",
      "Train: [0/170 (0%)]\tLoss: 0.396787\n",
      "Epoch: 4/20. Train set: Average loss: 1.9294\n",
      "Epoch: 4/20. Validation set: Average loss: 26.6597\n",
      "Train: [0/170 (0%)]\tLoss: 10.496665\n",
      "Epoch: 5/20. Train set: Average loss: 22.8411\n",
      "Epoch: 5/20. Validation set: Average loss: 23.3397\n",
      "Train: [0/170 (0%)]\tLoss: 19.739141\n",
      "Epoch: 6/20. Train set: Average loss: 12.6776\n",
      "Epoch: 6/20. Validation set: Average loss: 345.2364\n",
      "Train: [0/170 (0%)]\tLoss: 24.118319\n",
      "Epoch: 7/20. Train set: Average loss: 40.0335\n",
      "Epoch: 7/20. Validation set: Average loss: 11.5254\n",
      "Train: [0/170 (0%)]\tLoss: 9.543568\n",
      "Epoch: 8/20. Train set: Average loss: 2.8875\n",
      "Epoch: 8/20. Validation set: Average loss: 8.7192\n",
      "Train: [0/170 (0%)]\tLoss: 0.766871\n",
      "Epoch: 9/20. Train set: Average loss: 62.0399\n",
      "Epoch: 9/20. Validation set: Average loss: 0.7893\n",
      "Train: [0/170 (0%)]\tLoss: 1.273635\n",
      "Epoch: 10/20. Train set: Average loss: 1.1228\n",
      "Epoch: 10/20. Validation set: Average loss: 0.6079\n",
      "Train: [0/170 (0%)]\tLoss: 0.283763\n",
      "Epoch: 11/20. Train set: Average loss: 0.4395\n",
      "Epoch: 11/20. Validation set: Average loss: 0.3944\n",
      "Train: [0/170 (0%)]\tLoss: 0.187605\n",
      "Epoch: 12/20. Train set: Average loss: 0.6543\n",
      "Epoch: 12/20. Validation set: Average loss: 0.5164\n",
      "Train: [0/170 (0%)]\tLoss: 0.138762\n",
      "Epoch: 13/20. Train set: Average loss: 0.8369\n",
      "Epoch: 13/20. Validation set: Average loss: 0.5308\n",
      "Train: [0/170 (0%)]\tLoss: 0.133027\n",
      "Epoch: 14/20. Train set: Average loss: 0.3452\n",
      "Epoch: 14/20. Validation set: Average loss: 0.2634\n",
      "Train: [0/170 (0%)]\tLoss: 0.103679\n",
      "Epoch: 15/20. Train set: Average loss: 0.1206\n",
      "Epoch: 15/20. Validation set: Average loss: 0.2693\n",
      "Train: [0/170 (0%)]\tLoss: 0.138147\n",
      "Epoch: 16/20. Train set: Average loss: 0.0989\n",
      "Epoch: 16/20. Validation set: Average loss: 0.2619\n",
      "Train: [0/170 (0%)]\tLoss: 0.511322\n",
      "Epoch: 17/20. Train set: Average loss: 0.4646\n",
      "Epoch: 17/20. Validation set: Average loss: 0.2411\n",
      "Train: [0/170 (0%)]\tLoss: 0.209851\n",
      "Epoch: 18/20. Train set: Average loss: 0.1104\n",
      "Epoch: 18/20. Validation set: Average loss: 0.2379\n",
      "Train: [0/170 (0%)]\tLoss: 0.078035\n",
      "Epoch: 19/20. Train set: Average loss: 0.0936\n",
      "Epoch: 19/20. Validation set: Average loss: 0.2364\n",
      "Train: [0/170 (0%)]\tLoss: 0.120380\n",
      "Epoch: 20/20. Train set: Average loss: 0.1439\n",
      "Epoch: 20/20. Validation set: Average loss: 0.2337\n"
     ]
    }
   ],
   "source": [
    "train_loss, val_loss = fit(siamese_train_loader, siamese_test_loader, model, loss_fn, optimizer, scheduler, \n",
    "    n_epochs, cuda, log_interval)"
   ]
  },
  {
   "cell_type": "code",
   "execution_count": 41,
   "metadata": {},
   "outputs": [
    {
     "data": {
      "text/plain": [
       "[<matplotlib.lines.Line2D at 0x7fb794096278>]"
      ]
     },
     "execution_count": 41,
     "metadata": {},
     "output_type": "execute_result"
    },
    {
     "data": {
      "text/plain": [
       "[<matplotlib.lines.Line2D at 0x7fb79e579da0>]"
      ]
     },
     "execution_count": 41,
     "metadata": {},
     "output_type": "execute_result"
    },
    {
     "data": {
      "image/png": "[encoded data removed]",
      "text/plain": [
       "<Figure size 432x288 with 1 Axes>"
      ]
     },
     "metadata": {
      "needs_background": "light"
     },
     "output_type": "display_data"
    }
   ],
   "source": [
    "plt.plot(range(0, n_epochs), train_loss, 'rx-')\n",
    "plt.plot(range(0, n_epochs), val_loss, 'bx-')"
   ]
  },
  {
   "cell_type": "code",
   "execution_count": 42,
   "metadata": {},
   "outputs": [
    {
     "data": {
      "image/png": "[encoded data removed]",
      "text/plain": [
       "<Figure size 720x720 with 1 Axes>"
      ]
     },
     "metadata": {
      "needs_background": "light"
     },
     "output_type": "display_data"
    }
   ],
   "source": [
    "train_embeddings_cl, train_labels_cl = vis.extract_embeddings(train_loader, model)\n",
    "vis.plot_embeddings(train_embeddings_cl, train_labels_cl, siamese_train_dataset.labels_dict)"
   ]
  },
  {
   "cell_type": "code",
   "execution_count": 43,
   "metadata": {},
   "outputs": [
    {
     "data": {
      "image/png": "[encoded data removed]",
      "text/plain": [
       "<Figure size 720x720 with 1 Axes>"
      ]
     },
     "metadata": {
      "needs_background": "light"
     },
     "output_type": "display_data"
    }
   ],
   "source": [
    "val_embeddings_baseline, val_labels_baseline = vis.extract_embeddings(test_loader, model)\n",
    "vis.plot_embeddings(val_embeddings_baseline, val_labels_baseline, siamese_test_dataset.labels_dict)"
   ]
  },
  {
   "cell_type": "markdown",
   "metadata": {},
   "source": [
    "## Integrated Gradients\n",
    "Test completeness axiom through comparison of different baselines\n",
    "\n",
    "\"Integrated gradients satisfy an\n",
    "axiom called completeness that the attributions add up to\n",
    "the difference between the output of F at the input x and\n",
    "the baseline x'.\""
   ]
  },
  {
   "cell_type": "code",
   "execution_count": 44,
   "metadata": {},
   "outputs": [],
   "source": [
    "import copy\n",
    "from captum.attr import LayerActivation\n",
    "from captum.attr import IntegratedGradients"
   ]
  },
  {
   "cell_type": "code",
   "execution_count": 45,
   "metadata": {},
   "outputs": [],
   "source": [
    "tmp_model = copy.deepcopy(model)"
   ]
  },
  {
   "cell_type": "code",
   "execution_count": 46,
   "metadata": {},
   "outputs": [
    {
     "data": {
      "text/plain": [
       "SiameseNet(\n",
       "  (embedding_net): EmbeddingNet(\n",
       "    (fc): Sequential(\n",
       "      (linear1): Linear(in_features=60483, out_features=2000, bias=True)\n",
       "      (relu1): PReLU(num_parameters=1)\n",
       "      (linear2): Linear(in_features=2000, out_features=500, bias=True)\n",
       "      (relu2): PReLU(num_parameters=1)\n",
       "      (linear3): Linear(in_features=500, out_features=250, bias=True)\n",
       "      (relu3): PReLU(num_parameters=1)\n",
       "      (linear4): Linear(in_features=250, out_features=100, bias=True)\n",
       "      (relu4): PReLU(num_parameters=1)\n",
       "      (linear5): Linear(in_features=100, out_features=50, bias=True)\n",
       "      (relu5): PReLU(num_parameters=1)\n",
       "      (linear6): Linear(in_features=50, out_features=10, bias=True)\n",
       "      (relu6): PReLU(num_parameters=1)\n",
       "      (linear7): Linear(in_features=10, out_features=2, bias=True)\n",
       "    )\n",
       "  )\n",
       ")"
      ]
     },
     "execution_count": 46,
     "metadata": {},
     "output_type": "execute_result"
    }
   ],
   "source": [
    "tmp_model"
   ]
  },
  {
   "cell_type": "code",
   "execution_count": 47,
   "metadata": {},
   "outputs": [],
   "source": [
    "def attribution_pairs(SiameseTCGA, exp, ctrl):\n",
    "    # subset different samples\n",
    "    negative_pairs = np.array(SiameseTCGA.test_pairs)\n",
    "    negative_pairs = negative_pairs[negative_pairs[:,2] == 0]\n",
    "    # map labels to integers\n",
    "    ctrl = siamese_test_dataset.labels_dict[ctrl]\n",
    "    exp = siamese_test_dataset.labels_dict[exp]\n",
    "    # ordered indices of samples\n",
    "    ctrl_data = [idx for pair in negative_pairs[:, :2] for idx in pair if np.isin(idx, SiameseTCGA.label_to_indices[ctrl])]\n",
    "    exp_data = [idx for pair in negative_pairs[:, :2] for idx in pair if np.isin(idx, SiameseTCGA.label_to_indices[exp])]\n",
    "    # data\n",
    "    ctrl_data = Variable(SiameseTCGA.test_data[ctrl_data], requires_grad=True)\n",
    "    exp_data = Variable(SiameseTCGA.test_data[exp_data], requires_grad=True)\n",
    "    return ctrl_data, exp_data"
   ]
  },
  {
   "cell_type": "markdown",
   "metadata": {},
   "source": [
    "### IG with Control vector"
   ]
  },
  {
   "cell_type": "code",
   "execution_count": 48,
   "metadata": {},
   "outputs": [],
   "source": [
    "ctrl_data, exp_data = attribution_pairs(siamese_test_dataset, exp='Primary Tumor', ctrl='Solid Tissue Normal')"
   ]
  },
  {
   "cell_type": "code",
   "execution_count": 49,
   "metadata": {},
   "outputs": [],
   "source": [
    "ig = IntegratedGradients(tmp_model.get_embedding)"
   ]
  },
  {
   "cell_type": "code",
   "execution_count": 63,
   "metadata": {},
   "outputs": [],
   "source": [
    "attr, delta = ig.attribute(exp_data.cuda(), ctrl_data.cuda(), target=0, n_steps=50, return_convergence_delta=True)\n",
    "attr = attr.cpu().detach().numpy()"
   ]
  },
  {
   "cell_type": "code",
   "execution_count": 64,
   "metadata": {},
   "outputs": [
    {
     "data": {
      "text/plain": [
       "(28, 60483)"
      ]
     },
     "execution_count": 64,
     "metadata": {},
     "output_type": "execute_result"
    },
    {
     "data": {
      "text/plain": [
       "array([[<matplotlib.axes._subplots.AxesSubplot object at 0x7fb78d2e2cf8>]],\n",
       "      dtype=object)"
      ]
     },
     "execution_count": 64,
     "metadata": {},
     "output_type": "execute_result"
    },
    {
     "data": {
      "text/html": [
       "<div>\n",
       "<style scoped>\n",
       "    .dataframe tbody tr th:only-of-type {\n",
       "        vertical-align: middle;\n",
       "    }\n",
       "\n",
       "    .dataframe tbody tr th {\n",
       "        vertical-align: top;\n",
       "    }\n",
       "\n",
       "    .dataframe thead th {\n",
       "        text-align: right;\n",
       "    }\n",
       "</style>\n",
       "<table border=\"1\" class=\"dataframe\">\n",
       "  <thead>\n",
       "    <tr style=\"text-align: right;\">\n",
       "      <th></th>\n",
       "      <th>Attribution</th>\n",
       "    </tr>\n",
       "  </thead>\n",
       "  <tbody>\n",
       "    <tr>\n",
       "      <th>count</th>\n",
       "      <td>60483.000000</td>\n",
       "    </tr>\n",
       "    <tr>\n",
       "      <th>mean</th>\n",
       "      <td>0.000011</td>\n",
       "    </tr>\n",
       "    <tr>\n",
       "      <th>std</th>\n",
       "      <td>0.000819</td>\n",
       "    </tr>\n",
       "    <tr>\n",
       "      <th>min</th>\n",
       "      <td>-0.028703</td>\n",
       "    </tr>\n",
       "    <tr>\n",
       "      <th>25%</th>\n",
       "      <td>-0.000017</td>\n",
       "    </tr>\n",
       "    <tr>\n",
       "      <th>50%</th>\n",
       "      <td>0.000000</td>\n",
       "    </tr>\n",
       "    <tr>\n",
       "      <th>75%</th>\n",
       "      <td>0.000025</td>\n",
       "    </tr>\n",
       "    <tr>\n",
       "      <th>max</th>\n",
       "      <td>0.172529</td>\n",
       "    </tr>\n",
       "  </tbody>\n",
       "</table>\n",
       "</div>"
      ],
      "text/plain": [
       "        Attribution\n",
       "count  60483.000000\n",
       "mean       0.000011\n",
       "std        0.000819\n",
       "min       -0.028703\n",
       "25%       -0.000017\n",
       "50%        0.000000\n",
       "75%        0.000025\n",
       "max        0.172529"
      ]
     },
     "execution_count": 64,
     "metadata": {},
     "output_type": "execute_result"
    },
    {
     "data": {
      "text/html": [
       "<div>\n",
       "<style scoped>\n",
       "    .dataframe tbody tr th:only-of-type {\n",
       "        vertical-align: middle;\n",
       "    }\n",
       "\n",
       "    .dataframe tbody tr th {\n",
       "        vertical-align: top;\n",
       "    }\n",
       "\n",
       "    .dataframe thead th {\n",
       "        text-align: right;\n",
       "    }\n",
       "</style>\n",
       "<table border=\"1\" class=\"dataframe\">\n",
       "  <thead>\n",
       "    <tr style=\"text-align: right;\">\n",
       "      <th></th>\n",
       "      <th>Attribution</th>\n",
       "    </tr>\n",
       "    <tr>\n",
       "      <th>0</th>\n",
       "      <th></th>\n",
       "    </tr>\n",
       "  </thead>\n",
       "  <tbody>\n",
       "    <tr>\n",
       "      <th>ENSG00000249557.2</th>\n",
       "      <td>0.172529</td>\n",
       "    </tr>\n",
       "    <tr>\n",
       "      <th>ENSG00000230014.1</th>\n",
       "      <td>0.074307</td>\n",
       "    </tr>\n",
       "    <tr>\n",
       "      <th>ENSG00000215182.8</th>\n",
       "      <td>0.045812</td>\n",
       "    </tr>\n",
       "    <tr>\n",
       "      <th>ENSG00000258991.1</th>\n",
       "      <td>0.014912</td>\n",
       "    </tr>\n",
       "    <tr>\n",
       "      <th>ENSG00000271307.1</th>\n",
       "      <td>0.012970</td>\n",
       "    </tr>\n",
       "    <tr>\n",
       "      <th>ENSG00000273906.1</th>\n",
       "      <td>0.011536</td>\n",
       "    </tr>\n",
       "    <tr>\n",
       "      <th>ENSG00000258567.1</th>\n",
       "      <td>0.007213</td>\n",
       "    </tr>\n",
       "    <tr>\n",
       "      <th>ENSG00000124812.13</th>\n",
       "      <td>0.006957</td>\n",
       "    </tr>\n",
       "    <tr>\n",
       "      <th>ENSG00000221747.1</th>\n",
       "      <td>0.006162</td>\n",
       "    </tr>\n",
       "    <tr>\n",
       "      <th>ENSG00000274773.1</th>\n",
       "      <td>0.004712</td>\n",
       "    </tr>\n",
       "  </tbody>\n",
       "</table>\n",
       "</div>"
      ],
      "text/plain": [
       "                    Attribution\n",
       "0                              \n",
       "ENSG00000249557.2      0.172529\n",
       "ENSG00000230014.1      0.074307\n",
       "ENSG00000215182.8      0.045812\n",
       "ENSG00000258991.1      0.014912\n",
       "ENSG00000271307.1      0.012970\n",
       "ENSG00000273906.1      0.011536\n",
       "ENSG00000258567.1      0.007213\n",
       "ENSG00000124812.13     0.006957\n",
       "ENSG00000221747.1      0.006162\n",
       "ENSG00000274773.1      0.004712"
      ]
     },
     "execution_count": 64,
     "metadata": {},
     "output_type": "execute_result"
    },
    {
     "data": {
      "image/png": "[encoded data removed]",
      "text/plain": [
       "<Figure size 432x288 with 1 Axes>"
      ]
     },
     "metadata": {
      "needs_background": "light"
     },
     "output_type": "display_data"
    }
   ],
   "source": [
    "attr.shape\n",
    "feat_imp = pd.DataFrame(data=attr.mean(axis=0), index=train_dataset.data.columns, columns=['Attribution'])\n",
    "feat_imp.hist(bins=100)\n",
    "feat_imp.describe()\n",
    "feat_imp.nlargest(10, columns='Attribution')"
   ]
  },
  {
   "cell_type": "markdown",
   "metadata": {},
   "source": [
    "### Test completeness axiom\n",
    "- Euclidean Distance between samples\n",
    "- feature attribution sum\n",
    "- difference between"
   ]
  },
  {
   "cell_type": "code",
   "execution_count": 52,
   "metadata": {},
   "outputs": [
    {
     "data": {
      "text/plain": [
       "1542.0985"
      ]
     },
     "execution_count": 52,
     "metadata": {},
     "output_type": "execute_result"
    },
    {
     "data": {
      "text/plain": [
       "624.604"
      ]
     },
     "execution_count": 52,
     "metadata": {},
     "output_type": "execute_result"
    },
    {
     "data": {
      "text/plain": [
       "9738514.0"
      ]
     },
     "execution_count": 52,
     "metadata": {},
     "output_type": "execute_result"
    }
   ],
   "source": [
    "pdist = torch.nn.PairwiseDistance(p=2)\n",
    "outdist = pdist(exp_data, ctrl_data)\n",
    "\n",
    "diff = np.round(outdist.detach().numpy() - attr.sum(axis=1), 3)\n",
    "diff.mean(); np.median(diff); diff.var()"
   ]
  },
  {
   "cell_type": "markdown",
   "metadata": {},
   "source": [
    "#### Inspect individual sample attributions"
   ]
  },
  {
   "cell_type": "code",
   "execution_count": 54,
   "metadata": {},
   "outputs": [
    {
     "data": {
      "text/plain": [
       "0\n",
       "ENSG00000229028.2    0.055757\n",
       "ENSG00000187242.4    0.041264\n",
       "ENSG00000228221.4    0.012785\n",
       "ENSG00000277969.1    0.012117\n",
       "ENSG00000169962.4    0.007715\n",
       "ENSG00000274244.1    0.007210\n",
       "ENSG00000198754.5    0.007103\n",
       "ENSG00000264808.1    0.006721\n",
       "ENSG00000228561.2    0.006233\n",
       "ENSG00000263874.1    0.006038\n",
       "dtype: float32"
      ]
     },
     "execution_count": 54,
     "metadata": {},
     "output_type": "execute_result"
    },
    {
     "data": {
      "text/plain": [
       "0\n",
       "ENSG00000215182.8     0.497859\n",
       "ENSG00000235343.1     0.014349\n",
       "ENSG00000163993.6     0.011165\n",
       "ENSG00000173898.10    0.006615\n",
       "ENSG00000101977.18    0.006103\n",
       "ENSG00000265043.1     0.005533\n",
       "ENSG00000173715.14    0.005059\n",
       "ENSG00000236345.1     0.004793\n",
       "ENSG00000173992.7     0.003258\n",
       "ENSG00000182791.4     0.003228\n",
       "dtype: float32"
      ]
     },
     "execution_count": 54,
     "metadata": {},
     "output_type": "execute_result"
    },
    {
     "data": {
      "text/plain": [
       "0\n",
       "ENSG00000237256.1     0.061887\n",
       "ENSG00000236385.1     0.017955\n",
       "ENSG00000167165.17    0.009618\n",
       "ENSG00000274246.1     0.008147\n",
       "ENSG00000225538.1     0.005702\n",
       "ENSG00000216072.2     0.005669\n",
       "ENSG00000248114.1     0.005575\n",
       "ENSG00000227802.1     0.004984\n",
       "ENSG00000228561.2     0.004599\n",
       "ENSG00000276688.1     0.004134\n",
       "dtype: float32"
      ]
     },
     "execution_count": 54,
     "metadata": {},
     "output_type": "execute_result"
    },
    {
     "data": {
      "text/plain": [
       "0\n",
       "ENSG00000273609.1     0.011800\n",
       "ENSG00000270444.1     0.008676\n",
       "ENSG00000249689.1     0.004973\n",
       "ENSG00000265330.1     0.004029\n",
       "ENSG00000226112.1     0.003720\n",
       "ENSG00000227537.1     0.003519\n",
       "ENSG00000232294.4     0.003455\n",
       "ENSG00000254376.2     0.002981\n",
       "ENSG00000148942.13    0.002951\n",
       "ENSG00000275287.3     0.002783\n",
       "dtype: float32"
      ]
     },
     "execution_count": 54,
     "metadata": {},
     "output_type": "execute_result"
    },
    {
     "data": {
      "text/plain": [
       "0\n",
       "ENSG00000179046.7     0.023966\n",
       "ENSG00000280142.1     0.016585\n",
       "ENSG00000272763.1     0.012186\n",
       "ENSG00000122585.6     0.012116\n",
       "ENSG00000125046.13    0.011479\n",
       "ENSG00000210741.1     0.009480\n",
       "ENSG00000224865.6     0.008601\n",
       "ENSG00000254083.4     0.008471\n",
       "ENSG00000229310.1     0.007985\n",
       "ENSG00000226412.1     0.007001\n",
       "dtype: float32"
      ]
     },
     "execution_count": 54,
     "metadata": {},
     "output_type": "execute_result"
    },
    {
     "data": {
      "text/plain": [
       "0\n",
       "ENSG00000215182.8     0.786968\n",
       "ENSG00000273906.1     0.076164\n",
       "ENSG00000173898.10    0.028045\n",
       "ENSG00000143512.11    0.027958\n",
       "ENSG00000232715.1     0.017584\n",
       "ENSG00000253160.1     0.017215\n",
       "ENSG00000223018.1     0.017017\n",
       "ENSG00000173715.14    0.016662\n",
       "ENSG00000188997.6     0.013040\n",
       "ENSG00000182791.4     0.012114\n",
       "dtype: float32"
      ]
     },
     "execution_count": 54,
     "metadata": {},
     "output_type": "execute_result"
    },
    {
     "data": {
      "text/plain": [
       "0\n",
       "ENSG00000230014.1    2.082121\n",
       "ENSG00000271307.1    0.363154\n",
       "ENSG00000241280.1    0.040067\n",
       "ENSG00000280140.1    0.040031\n",
       "ENSG00000274269.1    0.030065\n",
       "ENSG00000228695.8    0.028297\n",
       "ENSG00000182459.4    0.014842\n",
       "ENSG00000215811.5    0.014505\n",
       "ENSG00000215612.6    0.014247\n",
       "ENSG00000237617.1    0.012008\n",
       "dtype: float32"
      ]
     },
     "execution_count": 54,
     "metadata": {},
     "output_type": "execute_result"
    },
    {
     "data": {
      "text/plain": [
       "0\n",
       "ENSG00000249557.2     2.440533\n",
       "ENSG00000233258.1     0.060956\n",
       "ENSG00000229982.1     0.046288\n",
       "ENSG00000254842.5     0.037765\n",
       "ENSG00000225537.1     0.031710\n",
       "ENSG00000242262.1     0.028337\n",
       "ENSG00000186493.10    0.018019\n",
       "ENSG00000279773.1     0.015969\n",
       "ENSG00000222418.1     0.015838\n",
       "ENSG00000260742.1     0.014066\n",
       "dtype: float32"
      ]
     },
     "execution_count": 54,
     "metadata": {},
     "output_type": "execute_result"
    },
    {
     "data": {
      "text/plain": [
       "0\n",
       "ENSG00000230339.2     0.005144\n",
       "ENSG00000277212.1     0.002396\n",
       "ENSG00000205449.10    0.002261\n",
       "ENSG00000259890.1     0.001950\n",
       "ENSG00000264545.1     0.001914\n",
       "ENSG00000146910.10    0.001700\n",
       "ENSG00000279697.1     0.001697\n",
       "ENSG00000241317.1     0.001508\n",
       "ENSG00000257737.1     0.001457\n",
       "ENSG00000275508.1     0.001454\n",
       "dtype: float32"
      ]
     },
     "execution_count": 54,
     "metadata": {},
     "output_type": "execute_result"
    },
    {
     "data": {
      "text/plain": [
       "0\n",
       "ENSG00000268089.2    0.048089\n",
       "ENSG00000215644.8    0.032105\n",
       "ENSG00000241244.1    0.020868\n",
       "ENSG00000231694.1    0.018755\n",
       "ENSG00000249082.2    0.018087\n",
       "ENSG00000236387.1    0.016549\n",
       "ENSG00000253818.1    0.013342\n",
       "ENSG00000277683.1    0.013202\n",
       "ENSG00000275958.1    0.012093\n",
       "ENSG00000280412.1    0.011640\n",
       "dtype: float32"
      ]
     },
     "execution_count": 54,
     "metadata": {},
     "output_type": "execute_result"
    },
    {
     "data": {
      "text/plain": [
       "0\n",
       "ENSG00000263566.1     0.012555\n",
       "ENSG00000270242.1     0.008138\n",
       "ENSG00000230051.1     0.007019\n",
       "ENSG00000279666.1     0.006710\n",
       "ENSG00000182634.7     0.005866\n",
       "ENSG00000131686.13    0.004718\n",
       "ENSG00000260289.1     0.004706\n",
       "ENSG00000278568.1     0.004441\n",
       "ENSG00000207101.1     0.004318\n",
       "ENSG00000249764.1     0.004286\n",
       "dtype: float32"
      ]
     },
     "execution_count": 54,
     "metadata": {},
     "output_type": "execute_result"
    },
    {
     "data": {
      "text/plain": [
       "0\n",
       "ENSG00000006611.14    0.103996\n",
       "ENSG00000210741.1     0.092754\n",
       "ENSG00000272763.1     0.032420\n",
       "ENSG00000231419.5     0.030909\n",
       "ENSG00000223414.2     0.019305\n",
       "ENSG00000215124.2     0.017823\n",
       "ENSG00000006016.9     0.011291\n",
       "ENSG00000141639.10    0.010316\n",
       "ENSG00000253262.1     0.010221\n",
       "ENSG00000237266.1     0.010218\n",
       "dtype: float32"
      ]
     },
     "execution_count": 54,
     "metadata": {},
     "output_type": "execute_result"
    },
    {
     "data": {
      "text/plain": [
       "0\n",
       "ENSG00000258991.1    0.414562\n",
       "ENSG00000258567.1    0.201304\n",
       "ENSG00000221747.1    0.172546\n",
       "ENSG00000274773.1    0.131939\n",
       "ENSG00000277716.1    0.088296\n",
       "ENSG00000276079.1    0.084267\n",
       "ENSG00000144771.7    0.058227\n",
       "ENSG00000273534.1    0.047707\n",
       "ENSG00000259029.1    0.027243\n",
       "ENSG00000250976.1    0.021670\n",
       "dtype: float32"
      ]
     },
     "execution_count": 54,
     "metadata": {},
     "output_type": "execute_result"
    },
    {
     "data": {
      "text/plain": [
       "0\n",
       "ENSG00000184672.10    0.008777\n",
       "ENSG00000248646.1     0.007554\n",
       "ENSG00000186710.10    0.007302\n",
       "ENSG00000226321.5     0.006113\n",
       "ENSG00000221741.1     0.005160\n",
       "ENSG00000246016.2     0.004910\n",
       "ENSG00000176601.10    0.004513\n",
       "ENSG00000243910.6     0.004383\n",
       "ENSG00000164287.11    0.004363\n",
       "ENSG00000187492.7     0.004083\n",
       "dtype: float32"
      ]
     },
     "execution_count": 54,
     "metadata": {},
     "output_type": "execute_result"
    },
    {
     "data": {
      "text/plain": [
       "0\n",
       "ENSG00000273906.1     0.079653\n",
       "ENSG00000232294.4     0.018214\n",
       "ENSG00000229755.1     0.014848\n",
       "ENSG00000226975.1     0.010410\n",
       "ENSG00000204983.11    0.010020\n",
       "ENSG00000175121.10    0.009168\n",
       "ENSG00000183971.5     0.009145\n",
       "ENSG00000254320.1     0.008332\n",
       "ENSG00000148942.13    0.007678\n",
       "ENSG00000181588.16    0.006958\n",
       "dtype: float32"
      ]
     },
     "execution_count": 54,
     "metadata": {},
     "output_type": "execute_result"
    },
    {
     "data": {
      "text/plain": [
       "0\n",
       "ENSG00000201938.1    0.005626\n",
       "ENSG00000270962.1    0.005310\n",
       "ENSG00000257404.1    0.004728\n",
       "ENSG00000241059.2    0.004572\n",
       "ENSG00000201604.1    0.004335\n",
       "ENSG00000271343.1    0.004297\n",
       "ENSG00000274459.1    0.004226\n",
       "ENSG00000206867.1    0.003949\n",
       "ENSG00000278568.1    0.003939\n",
       "ENSG00000265662.1    0.003447\n",
       "dtype: float32"
      ]
     },
     "execution_count": 54,
     "metadata": {},
     "output_type": "execute_result"
    },
    {
     "data": {
      "text/plain": [
       "0\n",
       "ENSG00000124812.13    0.190407\n",
       "ENSG00000256148.1     0.009826\n",
       "ENSG00000267094.1     0.009687\n",
       "ENSG00000280707.1     0.008254\n",
       "ENSG00000236107.6     0.007459\n",
       "ENSG00000233296.1     0.006936\n",
       "ENSG00000210741.1     0.006676\n",
       "ENSG00000276951.1     0.005548\n",
       "ENSG00000238062.4     0.005089\n",
       "ENSG00000272763.1     0.004974\n",
       "dtype: float32"
      ]
     },
     "execution_count": 54,
     "metadata": {},
     "output_type": "execute_result"
    },
    {
     "data": {
      "text/plain": [
       "0\n",
       "ENSG00000089116.3     0.016876\n",
       "ENSG00000156510.12    0.014353\n",
       "ENSG00000117148.7     0.011691\n",
       "ENSG00000128714.5     0.010297\n",
       "ENSG00000275451.1     0.009936\n",
       "ENSG00000258381.1     0.009441\n",
       "ENSG00000232817.1     0.008681\n",
       "ENSG00000172116.20    0.008141\n",
       "ENSG00000257470.1     0.007666\n",
       "ENSG00000280411.1     0.007172\n",
       "dtype: float32"
      ]
     },
     "execution_count": 54,
     "metadata": {},
     "output_type": "execute_result"
    },
    {
     "data": {
      "text/plain": [
       "0\n",
       "ENSG00000255079.1     0.017347\n",
       "ENSG00000211917.1     0.011017\n",
       "ENSG00000253862.1     0.010646\n",
       "ENSG00000203645.2     0.010359\n",
       "ENSG00000255051.1     0.009658\n",
       "ENSG00000215398.10    0.008754\n",
       "ENSG00000248538.5     0.008401\n",
       "ENSG00000224028.1     0.008229\n",
       "ENSG00000211920.1     0.007319\n",
       "ENSG00000109208.4     0.006595\n",
       "dtype: float32"
      ]
     },
     "execution_count": 54,
     "metadata": {},
     "output_type": "execute_result"
    },
    {
     "data": {
      "text/plain": [
       "0\n",
       "ENSG00000179046.7     0.013654\n",
       "ENSG00000126550.7     0.008193\n",
       "ENSG00000280142.1     0.007658\n",
       "ENSG00000272763.1     0.006648\n",
       "ENSG00000166589.11    0.005890\n",
       "ENSG00000131737.5     0.005543\n",
       "ENSG00000125046.13    0.005330\n",
       "ENSG00000029559.6     0.005293\n",
       "ENSG00000137673.7     0.004387\n",
       "ENSG00000224865.6     0.004210\n",
       "dtype: float32"
      ]
     },
     "execution_count": 54,
     "metadata": {},
     "output_type": "execute_result"
    },
    {
     "data": {
      "text/plain": [
       "0\n",
       "ENSG00000242262.1    0.004693\n",
       "ENSG00000278568.1    0.002893\n",
       "ENSG00000270242.1    0.002729\n",
       "ENSG00000263566.1    0.002637\n",
       "ENSG00000221602.1    0.002622\n",
       "ENSG00000182634.7    0.002612\n",
       "ENSG00000265567.1    0.002147\n",
       "ENSG00000268412.2    0.002024\n",
       "ENSG00000265364.1    0.002001\n",
       "ENSG00000275075.1    0.001991\n",
       "dtype: float32"
      ]
     },
     "execution_count": 54,
     "metadata": {},
     "output_type": "execute_result"
    },
    {
     "data": {
      "text/plain": [
       "0\n",
       "ENSG00000230628.1    0.007741\n",
       "ENSG00000221072.1    0.006242\n",
       "ENSG00000278642.1    0.005447\n",
       "ENSG00000180424.6    0.005162\n",
       "ENSG00000228044.2    0.004646\n",
       "ENSG00000223976.1    0.004583\n",
       "ENSG00000105205.6    0.003952\n",
       "ENSG00000261014.1    0.003592\n",
       "ENSG00000267683.1    0.003273\n",
       "ENSG00000281018.1    0.003230\n",
       "dtype: float32"
      ]
     },
     "execution_count": 54,
     "metadata": {},
     "output_type": "execute_result"
    },
    {
     "data": {
      "text/plain": [
       "0\n",
       "ENSG00000255079.1     0.024416\n",
       "ENSG00000203645.2     0.017106\n",
       "ENSG00000255051.1     0.016555\n",
       "ENSG00000253862.1     0.016121\n",
       "ENSG00000211917.1     0.015363\n",
       "ENSG00000215398.10    0.014777\n",
       "ENSG00000224028.1     0.014494\n",
       "ENSG00000248538.5     0.012676\n",
       "ENSG00000211920.1     0.011504\n",
       "ENSG00000211819.3     0.010677\n",
       "dtype: float32"
      ]
     },
     "execution_count": 54,
     "metadata": {},
     "output_type": "execute_result"
    },
    {
     "data": {
      "text/plain": [
       "0\n",
       "ENSG00000249557.2     2.389041\n",
       "ENSG00000273906.1     0.167752\n",
       "ENSG00000233258.1     0.056496\n",
       "ENSG00000229982.1     0.043094\n",
       "ENSG00000254842.5     0.033558\n",
       "ENSG00000225537.1     0.028073\n",
       "ENSG00000186493.10    0.016698\n",
       "ENSG00000279773.1     0.016119\n",
       "ENSG00000250418.1     0.014656\n",
       "ENSG00000222418.1     0.014053\n",
       "dtype: float32"
      ]
     },
     "execution_count": 54,
     "metadata": {},
     "output_type": "execute_result"
    },
    {
     "data": {
      "text/plain": [
       "0\n",
       "ENSG00000230628.1    0.008127\n",
       "ENSG00000180424.6    0.006386\n",
       "ENSG00000278642.1    0.005186\n",
       "ENSG00000228044.2    0.004984\n",
       "ENSG00000229183.7    0.003759\n",
       "ENSG00000252545.1    0.003695\n",
       "ENSG00000241475.1    0.003231\n",
       "ENSG00000200026.1    0.003210\n",
       "ENSG00000239028.1    0.003123\n",
       "ENSG00000264092.2    0.002893\n",
       "dtype: float32"
      ]
     },
     "execution_count": 54,
     "metadata": {},
     "output_type": "execute_result"
    },
    {
     "data": {
      "text/plain": [
       "0\n",
       "ENSG00000232294.4     0.005314\n",
       "ENSG00000175121.10    0.004666\n",
       "ENSG00000226975.1     0.004140\n",
       "ENSG00000254320.1     0.003091\n",
       "ENSG00000229755.1     0.002937\n",
       "ENSG00000225741.1     0.002793\n",
       "ENSG00000204983.11    0.002641\n",
       "ENSG00000183971.5     0.002616\n",
       "ENSG00000215943.1     0.002516\n",
       "ENSG00000105464.3     0.002459\n",
       "dtype: float32"
      ]
     },
     "execution_count": 54,
     "metadata": {},
     "output_type": "execute_result"
    },
    {
     "data": {
      "text/plain": [
       "0\n",
       "ENSG00000184672.10    0.007480\n",
       "ENSG00000186710.10    0.006431\n",
       "ENSG00000248646.1     0.005963\n",
       "ENSG00000226321.5     0.004758\n",
       "ENSG00000246016.2     0.004344\n",
       "ENSG00000221741.1     0.004322\n",
       "ENSG00000176601.10    0.003969\n",
       "ENSG00000243910.6     0.003616\n",
       "ENSG00000140481.12    0.003384\n",
       "ENSG00000187492.7     0.003336\n",
       "dtype: float32"
      ]
     },
     "execution_count": 54,
     "metadata": {},
     "output_type": "execute_result"
    },
    {
     "data": {
      "text/plain": [
       "0\n",
       "ENSG00000221287.1     0.021841\n",
       "ENSG00000253345.1     0.019807\n",
       "ENSG00000253860.1     0.019555\n",
       "ENSG00000232216.1     0.018365\n",
       "ENSG00000049247.12    0.015884\n",
       "ENSG00000253497.1     0.014597\n",
       "ENSG00000166926.7     0.012992\n",
       "ENSG00000276566.1     0.012984\n",
       "ENSG00000260879.1     0.012901\n",
       "ENSG00000241566.1     0.012663\n",
       "dtype: float32"
      ]
     },
     "execution_count": 54,
     "metadata": {},
     "output_type": "execute_result"
    }
   ],
   "source": [
    "for i in range(len(attr)):\n",
    "    attr_samp = pd.Series(attr[i], index=train_dataset.data.columns)\n",
    "    attr_samp.nlargest(10)"
   ]
  },
  {
   "cell_type": "code",
   "execution_count": 65,
   "metadata": {},
   "outputs": [
    {
     "data": {
      "text/plain": [
       "0\n",
       "ENSG00000258115.1   -0.020153\n",
       "ENSG00000226374.1   -0.013078\n",
       "ENSG00000233494.1   -0.010390\n",
       "ENSG00000227425.1   -0.009856\n",
       "ENSG00000231894.1   -0.009350\n",
       "ENSG00000275138.1   -0.006200\n",
       "ENSG00000225036.1   -0.006060\n",
       "ENSG00000202398.1   -0.005658\n",
       "ENSG00000234723.1   -0.005407\n",
       "ENSG00000261595.1   -0.005391\n",
       "dtype: float32"
      ]
     },
     "execution_count": 65,
     "metadata": {},
     "output_type": "execute_result"
    },
    {
     "data": {
      "text/plain": [
       "0\n",
       "ENSG00000096006.10   -0.051280\n",
       "ENSG00000226707.1    -0.005662\n",
       "ENSG00000244619.2    -0.004841\n",
       "ENSG00000143512.11   -0.004517\n",
       "ENSG00000221287.1    -0.004366\n",
       "ENSG00000264295.1    -0.002291\n",
       "ENSG00000161055.3    -0.002115\n",
       "ENSG00000182256.11   -0.002097\n",
       "ENSG00000174080.9    -0.002042\n",
       "ENSG00000232756.1    -0.001683\n",
       "dtype: float32"
      ]
     },
     "execution_count": 65,
     "metadata": {},
     "output_type": "execute_result"
    },
    {
     "data": {
      "text/plain": [
       "0\n",
       "ENSG00000232188.1    -0.092254\n",
       "ENSG00000241635.6    -0.024769\n",
       "ENSG00000224814.1    -0.022001\n",
       "ENSG00000172296.11   -0.010962\n",
       "ENSG00000243135.4    -0.009937\n",
       "ENSG00000249425.1    -0.009781\n",
       "ENSG00000224711.1    -0.008233\n",
       "ENSG00000240584.3    -0.007786\n",
       "ENSG00000198452.6    -0.006907\n",
       "ENSG00000224625.2    -0.006817\n",
       "dtype: float32"
      ]
     },
     "execution_count": 65,
     "metadata": {},
     "output_type": "execute_result"
    },
    {
     "data": {
      "text/plain": [
       "0\n",
       "ENSG00000253968.1   -0.033750\n",
       "ENSG00000277876.1   -0.005581\n",
       "ENSG00000234670.1   -0.003152\n",
       "ENSG00000158480.9   -0.002954\n",
       "ENSG00000123584.7   -0.002924\n",
       "ENSG00000275958.1   -0.002655\n",
       "ENSG00000274028.1   -0.002271\n",
       "ENSG00000277950.1   -0.002268\n",
       "ENSG00000156575.2   -0.002252\n",
       "ENSG00000249513.2   -0.002225\n",
       "dtype: float32"
      ]
     },
     "execution_count": 65,
     "metadata": {},
     "output_type": "execute_result"
    },
    {
     "data": {
      "text/plain": [
       "0\n",
       "ENSG00000105550.7    -0.056318\n",
       "ENSG00000111700.11   -0.029090\n",
       "ENSG00000131737.5    -0.028118\n",
       "ENSG00000237153.1    -0.014026\n",
       "ENSG00000255271.1    -0.013234\n",
       "ENSG00000222236.1    -0.011507\n",
       "ENSG00000254925.1    -0.010706\n",
       "ENSG00000240611.1    -0.009435\n",
       "ENSG00000126550.7    -0.009384\n",
       "ENSG00000253275.1    -0.009023\n",
       "dtype: float32"
      ]
     },
     "execution_count": 65,
     "metadata": {},
     "output_type": "execute_result"
    },
    {
     "data": {
      "text/plain": [
       "0\n",
       "ENSG00000233070.1    -0.266600\n",
       "ENSG00000229308.1    -0.148068\n",
       "ENSG00000092377.12   -0.133492\n",
       "ENSG00000229236.1    -0.047350\n",
       "ENSG00000235343.1    -0.044474\n",
       "ENSG00000231535.4    -0.032928\n",
       "ENSG00000226863.1    -0.029697\n",
       "ENSG00000176728.6    -0.029500\n",
       "ENSG00000237659.1    -0.028955\n",
       "ENSG00000227447.1    -0.025504\n",
       "dtype: float32"
      ]
     },
     "execution_count": 65,
     "metadata": {},
     "output_type": "execute_result"
    },
    {
     "data": {
      "text/plain": [
       "0\n",
       "ENSG00000162621.6    -0.032625\n",
       "ENSG00000251297.1    -0.026464\n",
       "ENSG00000125895.5    -0.017651\n",
       "ENSG00000205745.2    -0.013172\n",
       "ENSG00000261078.1    -0.012770\n",
       "ENSG00000142609.16   -0.012247\n",
       "ENSG00000201095.1    -0.012151\n",
       "ENSG00000151458.10   -0.011269\n",
       "ENSG00000164125.14   -0.010430\n",
       "ENSG00000279139.1    -0.009406\n",
       "dtype: float32"
      ]
     },
     "execution_count": 65,
     "metadata": {},
     "output_type": "execute_result"
    },
    {
     "data": {
      "text/plain": [
       "0\n",
       "ENSG00000230720.1    -0.029059\n",
       "ENSG00000256321.4    -0.026554\n",
       "ENSG00000115934.11   -0.026180\n",
       "ENSG00000263734.1    -0.023048\n",
       "ENSG00000238819.1    -0.021945\n",
       "ENSG00000219784.2    -0.017871\n",
       "ENSG00000186925.6    -0.017144\n",
       "ENSG00000213747.2    -0.015925\n",
       "ENSG00000181325.7    -0.015565\n",
       "ENSG00000223360.1    -0.015178\n",
       "dtype: float32"
      ]
     },
     "execution_count": 65,
     "metadata": {},
     "output_type": "execute_result"
    },
    {
     "data": {
      "text/plain": [
       "0\n",
       "ENSG00000230418.2   -0.003982\n",
       "ENSG00000253501.1   -0.002726\n",
       "ENSG00000232749.2   -0.002087\n",
       "ENSG00000235976.2   -0.001952\n",
       "ENSG00000223629.1   -0.001886\n",
       "ENSG00000278757.1   -0.001576\n",
       "ENSG00000201095.1   -0.001335\n",
       "ENSG00000241392.3   -0.001320\n",
       "ENSG00000270912.1   -0.001293\n",
       "ENSG00000267251.2   -0.001274\n",
       "dtype: float32"
      ]
     },
     "execution_count": 65,
     "metadata": {},
     "output_type": "execute_result"
    },
    {
     "data": {
      "text/plain": [
       "0\n",
       "ENSG00000280614.1   -0.200490\n",
       "ENSG00000258417.3   -0.172212\n",
       "ENSG00000272558.1   -0.047141\n",
       "ENSG00000202144.1   -0.027055\n",
       "ENSG00000241457.1   -0.022308\n",
       "ENSG00000271220.1   -0.015240\n",
       "ENSG00000223691.1   -0.012740\n",
       "ENSG00000186925.6   -0.012453\n",
       "ENSG00000186970.4   -0.012291\n",
       "ENSG00000234270.1   -0.010622\n",
       "dtype: float32"
      ]
     },
     "execution_count": 65,
     "metadata": {},
     "output_type": "execute_result"
    },
    {
     "data": {
      "text/plain": [
       "0\n",
       "ENSG00000203972.8    -0.009966\n",
       "ENSG00000258567.1    -0.005098\n",
       "ENSG00000231583.1    -0.004437\n",
       "ENSG00000236190.1    -0.004403\n",
       "ENSG00000182070.4    -0.004093\n",
       "ENSG00000258383.1    -0.003919\n",
       "ENSG00000171487.13   -0.003812\n",
       "ENSG00000079156.15   -0.003803\n",
       "ENSG00000237850.6    -0.003775\n",
       "ENSG00000207758.1    -0.003648\n",
       "dtype: float32"
      ]
     },
     "execution_count": 65,
     "metadata": {},
     "output_type": "execute_result"
    },
    {
     "data": {
      "text/plain": [
       "0\n",
       "ENSG00000163283.6    -0.059504\n",
       "ENSG00000110680.11   -0.050913\n",
       "ENSG00000242207.1    -0.040723\n",
       "ENSG00000158764.6    -0.035041\n",
       "ENSG00000222236.1    -0.021002\n",
       "ENSG00000150201.13   -0.019247\n",
       "ENSG00000188162.9    -0.016482\n",
       "ENSG00000254925.1    -0.015446\n",
       "ENSG00000253275.1    -0.013005\n",
       "ENSG00000142549.9    -0.012827\n",
       "dtype: float32"
      ]
     },
     "execution_count": 65,
     "metadata": {},
     "output_type": "execute_result"
    },
    {
     "data": {
      "text/plain": [
       "0\n",
       "ENSG00000259154.1   -0.088255\n",
       "ENSG00000221134.1   -0.053648\n",
       "ENSG00000223291.1   -0.032669\n",
       "ENSG00000243715.1   -0.032111\n",
       "ENSG00000276695.1   -0.028238\n",
       "ENSG00000243799.1   -0.020042\n",
       "ENSG00000238051.1   -0.017854\n",
       "ENSG00000202498.1   -0.017320\n",
       "ENSG00000198982.3   -0.016304\n",
       "ENSG00000231411.1   -0.016038\n",
       "dtype: float32"
      ]
     },
     "execution_count": 65,
     "metadata": {},
     "output_type": "execute_result"
    },
    {
     "data": {
      "text/plain": [
       "0\n",
       "ENSG00000224920.1   -0.011113\n",
       "ENSG00000241634.1   -0.010374\n",
       "ENSG00000265015.1   -0.008740\n",
       "ENSG00000236012.2   -0.002961\n",
       "ENSG00000277515.1   -0.002750\n",
       "ENSG00000203685.8   -0.002603\n",
       "ENSG00000238764.1   -0.002569\n",
       "ENSG00000200572.1   -0.002302\n",
       "ENSG00000162685.6   -0.002178\n",
       "ENSG00000275411.1   -0.002175\n",
       "dtype: float32"
      ]
     },
     "execution_count": 65,
     "metadata": {},
     "output_type": "execute_result"
    },
    {
     "data": {
      "text/plain": [
       "0\n",
       "ENSG00000233070.1    -0.171068\n",
       "ENSG00000253968.1    -0.109962\n",
       "ENSG00000229308.1    -0.108614\n",
       "ENSG00000092377.12   -0.085090\n",
       "ENSG00000229236.1    -0.036187\n",
       "ENSG00000231535.4    -0.026883\n",
       "ENSG00000226863.1    -0.026653\n",
       "ENSG00000227447.1    -0.020328\n",
       "ENSG00000237659.1    -0.019410\n",
       "ENSG00000176728.6    -0.019255\n",
       "dtype: float32"
      ]
     },
     "execution_count": 65,
     "metadata": {},
     "output_type": "execute_result"
    },
    {
     "data": {
      "text/plain": [
       "0\n",
       "ENSG00000263566.1   -0.011253\n",
       "ENSG00000268711.1   -0.008998\n",
       "ENSG00000201923.1   -0.005751\n",
       "ENSG00000264030.2   -0.005312\n",
       "ENSG00000207101.1   -0.005304\n",
       "ENSG00000229142.1   -0.003694\n",
       "ENSG00000243669.2   -0.003564\n",
       "ENSG00000260289.1   -0.003535\n",
       "ENSG00000270242.1   -0.003142\n",
       "ENSG00000258970.1   -0.002992\n",
       "dtype: float32"
      ]
     },
     "execution_count": 65,
     "metadata": {},
     "output_type": "execute_result"
    },
    {
     "data": {
      "text/plain": [
       "0\n",
       "ENSG00000256709.2   -0.014481\n",
       "ENSG00000233970.1   -0.010687\n",
       "ENSG00000223648.3   -0.009072\n",
       "ENSG00000253555.1   -0.005365\n",
       "ENSG00000253901.1   -0.005109\n",
       "ENSG00000267012.1   -0.005061\n",
       "ENSG00000267489.2   -0.004894\n",
       "ENSG00000267664.1   -0.004335\n",
       "ENSG00000229769.2   -0.004297\n",
       "ENSG00000217707.2   -0.004172\n",
       "dtype: float32"
      ]
     },
     "execution_count": 65,
     "metadata": {},
     "output_type": "execute_result"
    },
    {
     "data": {
      "text/plain": [
       "0\n",
       "ENSG00000254407.1   -0.033035\n",
       "ENSG00000225036.1   -0.019394\n",
       "ENSG00000237197.1   -0.011764\n",
       "ENSG00000276366.1   -0.011574\n",
       "ENSG00000257691.2   -0.010197\n",
       "ENSG00000257935.2   -0.009377\n",
       "ENSG00000227244.2   -0.008596\n",
       "ENSG00000239320.1   -0.008568\n",
       "ENSG00000211911.1   -0.008223\n",
       "ENSG00000205835.7   -0.006802\n",
       "dtype: float32"
      ]
     },
     "execution_count": 65,
     "metadata": {},
     "output_type": "execute_result"
    },
    {
     "data": {
      "text/plain": [
       "0\n",
       "ENSG00000259094.1    -0.103273\n",
       "ENSG00000254220.1    -0.011670\n",
       "ENSG00000225036.1    -0.008860\n",
       "ENSG00000231586.2    -0.008588\n",
       "ENSG00000197273.3    -0.008558\n",
       "ENSG00000264108.1    -0.008401\n",
       "ENSG00000230973.1    -0.008185\n",
       "ENSG00000260476.1    -0.007725\n",
       "ENSG00000275138.1    -0.007546\n",
       "ENSG00000177504.10   -0.007539\n",
       "dtype: float32"
      ]
     },
     "execution_count": 65,
     "metadata": {},
     "output_type": "execute_result"
    },
    {
     "data": {
      "text/plain": [
       "0\n",
       "ENSG00000105550.7    -0.020872\n",
       "ENSG00000223716.2    -0.008421\n",
       "ENSG00000255271.1    -0.007215\n",
       "ENSG00000237153.1    -0.006637\n",
       "ENSG00000111700.11   -0.006185\n",
       "ENSG00000274694.1    -0.003645\n",
       "ENSG00000188581.8    -0.003498\n",
       "ENSG00000263590.2    -0.003149\n",
       "ENSG00000233085.4    -0.003117\n",
       "ENSG00000272456.1    -0.002722\n",
       "dtype: float32"
      ]
     },
     "execution_count": 65,
     "metadata": {},
     "output_type": "execute_result"
    },
    {
     "data": {
      "text/plain": [
       "0\n",
       "ENSG00000230720.1   -0.005916\n",
       "ENSG00000181325.7   -0.002325\n",
       "ENSG00000263734.1   -0.002252\n",
       "ENSG00000201923.1   -0.002179\n",
       "ENSG00000258071.1   -0.002072\n",
       "ENSG00000213747.2   -0.002022\n",
       "ENSG00000233031.1   -0.001954\n",
       "ENSG00000186925.6   -0.001917\n",
       "ENSG00000265470.1   -0.001779\n",
       "ENSG00000232735.2   -0.001748\n",
       "dtype: float32"
      ]
     },
     "execution_count": 65,
     "metadata": {},
     "output_type": "execute_result"
    },
    {
     "data": {
      "text/plain": [
       "0\n",
       "ENSG00000255808.1   -0.006321\n",
       "ENSG00000261595.1   -0.003954\n",
       "ENSG00000162747.8   -0.003912\n",
       "ENSG00000225487.2   -0.003196\n",
       "ENSG00000163736.3   -0.002973\n",
       "ENSG00000248601.1   -0.002787\n",
       "ENSG00000137509.9   -0.002443\n",
       "ENSG00000233208.4   -0.002324\n",
       "ENSG00000230395.1   -0.002282\n",
       "ENSG00000244734.2   -0.002263\n",
       "dtype: float32"
      ]
     },
     "execution_count": 65,
     "metadata": {},
     "output_type": "execute_result"
    },
    {
     "data": {
      "text/plain": [
       "0\n",
       "ENSG00000259094.1    -0.171955\n",
       "ENSG00000254220.1    -0.014480\n",
       "ENSG00000231586.2    -0.012123\n",
       "ENSG00000177504.10   -0.010345\n",
       "ENSG00000260476.1    -0.009727\n",
       "ENSG00000255451.1    -0.009244\n",
       "ENSG00000105550.7    -0.009006\n",
       "ENSG00000206532.2    -0.008273\n",
       "ENSG00000261730.1    -0.007937\n",
       "ENSG00000207130.1    -0.007663\n",
       "dtype: float32"
      ]
     },
     "execution_count": 65,
     "metadata": {},
     "output_type": "execute_result"
    },
    {
     "data": {
      "text/plain": [
       "0\n",
       "ENSG00000233070.1    -0.366013\n",
       "ENSG00000229308.1    -0.219602\n",
       "ENSG00000092377.12   -0.158247\n",
       "ENSG00000229236.1    -0.067629\n",
       "ENSG00000231535.4    -0.052304\n",
       "ENSG00000226863.1    -0.049059\n",
       "ENSG00000176728.6    -0.042152\n",
       "ENSG00000227447.1    -0.040918\n",
       "ENSG00000237659.1    -0.040180\n",
       "ENSG00000236656.1    -0.025795\n",
       "dtype: float32"
      ]
     },
     "execution_count": 65,
     "metadata": {},
     "output_type": "execute_result"
    },
    {
     "data": {
      "text/plain": [
       "0\n",
       "ENSG00000255808.1   -0.008290\n",
       "ENSG00000263590.2   -0.005007\n",
       "ENSG00000261595.1   -0.003753\n",
       "ENSG00000225487.2   -0.003371\n",
       "ENSG00000229063.2   -0.003300\n",
       "ENSG00000248601.1   -0.002922\n",
       "ENSG00000233208.4   -0.002368\n",
       "ENSG00000230395.1   -0.002258\n",
       "ENSG00000137509.9   -0.002142\n",
       "ENSG00000232090.2   -0.002137\n",
       "dtype: float32"
      ]
     },
     "execution_count": 65,
     "metadata": {},
     "output_type": "execute_result"
    },
    {
     "data": {
      "text/plain": [
       "0\n",
       "ENSG00000253968.1   -0.042701\n",
       "ENSG00000256338.2   -0.009732\n",
       "ENSG00000199219.1   -0.007270\n",
       "ENSG00000253359.1   -0.003922\n",
       "ENSG00000275958.1   -0.003597\n",
       "ENSG00000158480.9   -0.003054\n",
       "ENSG00000241392.3   -0.003042\n",
       "ENSG00000107447.6   -0.002844\n",
       "ENSG00000273956.1   -0.002778\n",
       "ENSG00000200443.1   -0.002758\n",
       "dtype: float32"
      ]
     },
     "execution_count": 65,
     "metadata": {},
     "output_type": "execute_result"
    },
    {
     "data": {
      "text/plain": [
       "0\n",
       "ENSG00000224920.1   -0.011929\n",
       "ENSG00000241634.1   -0.008382\n",
       "ENSG00000265015.1   -0.007199\n",
       "ENSG00000272664.1   -0.005561\n",
       "ENSG00000275067.1   -0.002492\n",
       "ENSG00000203685.8   -0.002416\n",
       "ENSG00000236012.2   -0.002389\n",
       "ENSG00000238764.1   -0.002380\n",
       "ENSG00000239189.1   -0.001986\n",
       "ENSG00000237400.1   -0.001841\n",
       "dtype: float32"
      ]
     },
     "execution_count": 65,
     "metadata": {},
     "output_type": "execute_result"
    },
    {
     "data": {
      "text/plain": [
       "0\n",
       "ENSG00000279847.2   -0.108686\n",
       "ENSG00000249818.1   -0.029505\n",
       "ENSG00000253386.1   -0.025451\n",
       "ENSG00000224634.1   -0.019634\n",
       "ENSG00000224638.1   -0.014485\n",
       "ENSG00000276431.1   -0.013547\n",
       "ENSG00000235951.1   -0.012901\n",
       "ENSG00000237197.1   -0.012301\n",
       "ENSG00000175841.8   -0.010741\n",
       "ENSG00000276953.1   -0.010610\n",
       "dtype: float32"
      ]
     },
     "execution_count": 65,
     "metadata": {},
     "output_type": "execute_result"
    }
   ],
   "source": [
    "for i in range(len(attr)):\n",
    "    attr_samp = pd.Series(attr[i], index=train_dataset.data.columns)\n",
    "    attr_samp.nsmallest(10)"
   ]
  },
  {
   "cell_type": "markdown",
   "metadata": {},
   "source": [
    "#### Check embedding of zero-feature vector"
   ]
  },
  {
   "cell_type": "code",
   "execution_count": 55,
   "metadata": {},
   "outputs": [
    {
     "data": {
      "text/plain": [
       "tensor([-0.0332, -0.3440], device='cuda:0', grad_fn=<AddBackward0>)"
      ]
     },
     "execution_count": 55,
     "metadata": {},
     "output_type": "execute_result"
    }
   ],
   "source": [
    "base_zero = torch.zeros(siamese_test_dataset.test_data.shape[1]).cuda()\n",
    "base_emb = model.get_embedding(base_zero)\n",
    "base_emb"
   ]
  },
  {
   "cell_type": "markdown",
   "metadata": {},
   "source": [
    "#### Check loss of baseline vectors\n",
    "- control data\n",
    "- zero vector\n",
    "- random values"
   ]
  },
  {
   "cell_type": "code",
   "execution_count": 56,
   "metadata": {},
   "outputs": [
    {
     "data": {
      "text/plain": [
       "tensor(1.6350e-05, device='cuda:0', grad_fn=<MeanBackward0>)"
      ]
     },
     "execution_count": 56,
     "metadata": {},
     "output_type": "execute_result"
    }
   ],
   "source": [
    "target = torch.tensor(0, dtype=float)\n",
    "model.get_loss(ctrl_data.cuda(), exp_data.cuda(), target, ContrastiveLoss(margin))"
   ]
  },
  {
   "cell_type": "code",
   "execution_count": 57,
   "metadata": {},
   "outputs": [
    {
     "data": {
      "text/plain": [
       "tensor(0.1132, device='cuda:0', grad_fn=<MeanBackward0>)"
      ]
     },
     "execution_count": 57,
     "metadata": {},
     "output_type": "execute_result"
    }
   ],
   "source": [
    "base_zero = torch.zeros(exp_data.shape).cuda()\n",
    "model.get_loss(base_zero, exp_data.cuda(), target, ContrastiveLoss(margin))"
   ]
  },
  {
   "cell_type": "code",
   "execution_count": 58,
   "metadata": {},
   "outputs": [
    {
     "data": {
      "text/plain": [
       "tensor(0.1832, device='cuda:0', grad_fn=<MeanBackward0>)"
      ]
     },
     "execution_count": 58,
     "metadata": {},
     "output_type": "execute_result"
    }
   ],
   "source": [
    "rand_base = torch.rand_like(exp_data).cuda()\n",
    "model.get_loss(rand_base, exp_data.cuda(), target, ContrastiveLoss(margin))"
   ]
  },
  {
   "cell_type": "markdown",
   "metadata": {},
   "source": [
    "### IG with zero-feature vector"
   ]
  },
  {
   "cell_type": "code",
   "execution_count": 59,
   "metadata": {},
   "outputs": [],
   "source": [
    "attr, delta = ig.attribute(exp_data.cuda(), target=0, n_steps=50, return_convergence_delta=True)\n",
    "attr = attr.cpu().detach().numpy()"
   ]
  },
  {
   "cell_type": "code",
   "execution_count": 60,
   "metadata": {},
   "outputs": [
    {
     "data": {
      "text/plain": [
       "(28, 60483)"
      ]
     },
     "execution_count": 60,
     "metadata": {},
     "output_type": "execute_result"
    },
    {
     "data": {
      "text/plain": [
       "array([[<matplotlib.axes._subplots.AxesSubplot object at 0x7fb7a63fe080>]],\n",
       "      dtype=object)"
      ]
     },
     "execution_count": 60,
     "metadata": {},
     "output_type": "execute_result"
    },
    {
     "data": {
      "text/html": [
       "<div>\n",
       "<style scoped>\n",
       "    .dataframe tbody tr th:only-of-type {\n",
       "        vertical-align: middle;\n",
       "    }\n",
       "\n",
       "    .dataframe tbody tr th {\n",
       "        vertical-align: top;\n",
       "    }\n",
       "\n",
       "    .dataframe thead th {\n",
       "        text-align: right;\n",
       "    }\n",
       "</style>\n",
       "<table border=\"1\" class=\"dataframe\">\n",
       "  <thead>\n",
       "    <tr style=\"text-align: right;\">\n",
       "      <th></th>\n",
       "      <th>Attribution</th>\n",
       "    </tr>\n",
       "  </thead>\n",
       "  <tbody>\n",
       "    <tr>\n",
       "      <th>count</th>\n",
       "      <td>60483.000000</td>\n",
       "    </tr>\n",
       "    <tr>\n",
       "      <th>mean</th>\n",
       "      <td>0.000006</td>\n",
       "    </tr>\n",
       "    <tr>\n",
       "      <th>std</th>\n",
       "      <td>0.000529</td>\n",
       "    </tr>\n",
       "    <tr>\n",
       "      <th>min</th>\n",
       "      <td>-0.004367</td>\n",
       "    </tr>\n",
       "    <tr>\n",
       "      <th>25%</th>\n",
       "      <td>-0.000017</td>\n",
       "    </tr>\n",
       "    <tr>\n",
       "      <th>50%</th>\n",
       "      <td>0.000000</td>\n",
       "    </tr>\n",
       "    <tr>\n",
       "      <th>75%</th>\n",
       "      <td>0.000017</td>\n",
       "    </tr>\n",
       "    <tr>\n",
       "      <th>max</th>\n",
       "      <td>0.119935</td>\n",
       "    </tr>\n",
       "  </tbody>\n",
       "</table>\n",
       "</div>"
      ],
      "text/plain": [
       "        Attribution\n",
       "count  60483.000000\n",
       "mean       0.000006\n",
       "std        0.000529\n",
       "min       -0.004367\n",
       "25%       -0.000017\n",
       "50%        0.000000\n",
       "75%        0.000017\n",
       "max        0.119935"
      ]
     },
     "execution_count": 60,
     "metadata": {},
     "output_type": "execute_result"
    },
    {
     "data": {
      "text/html": [
       "<div>\n",
       "<style scoped>\n",
       "    .dataframe tbody tr th:only-of-type {\n",
       "        vertical-align: middle;\n",
       "    }\n",
       "\n",
       "    .dataframe tbody tr th {\n",
       "        vertical-align: top;\n",
       "    }\n",
       "\n",
       "    .dataframe thead th {\n",
       "        text-align: right;\n",
       "    }\n",
       "</style>\n",
       "<table border=\"1\" class=\"dataframe\">\n",
       "  <thead>\n",
       "    <tr style=\"text-align: right;\">\n",
       "      <th></th>\n",
       "      <th>Attribution</th>\n",
       "    </tr>\n",
       "    <tr>\n",
       "      <th>0</th>\n",
       "      <th></th>\n",
       "    </tr>\n",
       "  </thead>\n",
       "  <tbody>\n",
       "    <tr>\n",
       "      <th>ENSG00000249557.2</th>\n",
       "      <td>0.119935</td>\n",
       "    </tr>\n",
       "    <tr>\n",
       "      <th>ENSG00000215182.8</th>\n",
       "      <td>0.029943</td>\n",
       "    </tr>\n",
       "    <tr>\n",
       "      <th>ENSG00000230014.1</th>\n",
       "      <td>0.019580</td>\n",
       "    </tr>\n",
       "    <tr>\n",
       "      <th>ENSG00000258991.1</th>\n",
       "      <td>0.016227</td>\n",
       "    </tr>\n",
       "    <tr>\n",
       "      <th>ENSG00000271307.1</th>\n",
       "      <td>0.015116</td>\n",
       "    </tr>\n",
       "    <tr>\n",
       "      <th>ENSG00000258567.1</th>\n",
       "      <td>0.007916</td>\n",
       "    </tr>\n",
       "    <tr>\n",
       "      <th>ENSG00000232188.1</th>\n",
       "      <td>0.006605</td>\n",
       "    </tr>\n",
       "    <tr>\n",
       "      <th>ENSG00000221747.1</th>\n",
       "      <td>0.006222</td>\n",
       "    </tr>\n",
       "    <tr>\n",
       "      <th>ENSG00000124812.13</th>\n",
       "      <td>0.005493</td>\n",
       "    </tr>\n",
       "    <tr>\n",
       "      <th>ENSG00000274773.1</th>\n",
       "      <td>0.005046</td>\n",
       "    </tr>\n",
       "  </tbody>\n",
       "</table>\n",
       "</div>"
      ],
      "text/plain": [
       "                    Attribution\n",
       "0                              \n",
       "ENSG00000249557.2      0.119935\n",
       "ENSG00000215182.8      0.029943\n",
       "ENSG00000230014.1      0.019580\n",
       "ENSG00000258991.1      0.016227\n",
       "ENSG00000271307.1      0.015116\n",
       "ENSG00000258567.1      0.007916\n",
       "ENSG00000232188.1      0.006605\n",
       "ENSG00000221747.1      0.006222\n",
       "ENSG00000124812.13     0.005493\n",
       "ENSG00000274773.1      0.005046"
      ]
     },
     "execution_count": 60,
     "metadata": {},
     "output_type": "execute_result"
    },
    {
     "data": {
      "image/png": "[encoded data removed]",
      "text/plain": [
       "<Figure size 432x288 with 1 Axes>"
      ]
     },
     "metadata": {
      "needs_background": "light"
     },
     "output_type": "display_data"
    }
   ],
   "source": [
    "attr.shape\n",
    "feat_imp = pd.DataFrame(data=attr.mean(axis=0), index=train_dataset.data.columns, columns=['Attribution'])\n",
    "feat_imp.hist(bins=100)\n",
    "feat_imp.describe()\n",
    "feat_imp.nlargest(10, columns='Attribution')"
   ]
  },
  {
   "cell_type": "code",
   "execution_count": 61,
   "metadata": {},
   "outputs": [
    {
     "data": {
      "text/plain": [
       "1542.4308"
      ]
     },
     "execution_count": 61,
     "metadata": {},
     "output_type": "execute_result"
    },
    {
     "data": {
      "text/plain": [
       "624.59705"
      ]
     },
     "execution_count": 61,
     "metadata": {},
     "output_type": "execute_result"
    },
    {
     "data": {
      "text/plain": [
       "9738661.0"
      ]
     },
     "execution_count": 61,
     "metadata": {},
     "output_type": "execute_result"
    }
   ],
   "source": [
    "pdist = torch.nn.PairwiseDistance(p=2)\n",
    "outdist = pdist(exp_data, ctrl_data)\n",
    "\n",
    "diff = np.round(outdist.detach().numpy() - attr.sum(axis=1), 3)\n",
    "diff.mean(); np.median(diff); diff.var()"
   ]
  },
  {
   "cell_type": "code",
   "execution_count": 62,
   "metadata": {},
   "outputs": [
    {
     "data": {
      "text/plain": [
       "0\n",
       "ENSG00000229028.2    0.029883\n",
       "ENSG00000187242.4    0.013449\n",
       "ENSG00000236957.6    0.008771\n",
       "ENSG00000277969.1    0.008113\n",
       "ENSG00000228221.4    0.006264\n",
       "ENSG00000226374.1    0.006105\n",
       "ENSG00000169962.4    0.005730\n",
       "ENSG00000263433.1    0.004890\n",
       "ENSG00000280707.1    0.004355\n",
       "ENSG00000249082.2    0.003805\n",
       "dtype: float32"
      ]
     },
     "execution_count": 62,
     "metadata": {},
     "output_type": "execute_result"
    },
    {
     "data": {
      "text/plain": [
       "0\n",
       "ENSG00000215182.8     0.419643\n",
       "ENSG00000096006.10    0.033312\n",
       "ENSG00000143512.11    0.006348\n",
       "ENSG00000226707.1     0.004333\n",
       "ENSG00000260459.2     0.003920\n",
       "ENSG00000188997.6     0.003187\n",
       "ENSG00000244619.2     0.002994\n",
       "ENSG00000260963.1     0.002989\n",
       "ENSG00000263566.1     0.002446\n",
       "ENSG00000223018.1     0.002219\n",
       "dtype: float32"
      ]
     },
     "execution_count": 62,
     "metadata": {},
     "output_type": "execute_result"
    },
    {
     "data": {
      "text/plain": [
       "0\n",
       "ENSG00000232188.1     0.185230\n",
       "ENSG00000237256.1     0.114815\n",
       "ENSG00000167165.17    0.063186\n",
       "ENSG00000274246.1     0.039976\n",
       "ENSG00000243135.4     0.039093\n",
       "ENSG00000224718.1     0.018678\n",
       "ENSG00000253819.1     0.012657\n",
       "ENSG00000188690.11    0.012289\n",
       "ENSG00000248114.1     0.011921\n",
       "ENSG00000107949.15    0.011558\n",
       "dtype: float32"
      ]
     },
     "execution_count": 62,
     "metadata": {},
     "output_type": "execute_result"
    },
    {
     "data": {
      "text/plain": [
       "0\n",
       "ENSG00000229755.1     0.008028\n",
       "ENSG00000226975.1     0.004327\n",
       "ENSG00000215943.1     0.003822\n",
       "ENSG00000226547.2     0.003685\n",
       "ENSG00000230268.3     0.003092\n",
       "ENSG00000204983.11    0.003059\n",
       "ENSG00000232294.4     0.002933\n",
       "ENSG00000223629.1     0.002741\n",
       "ENSG00000244067.2     0.002458\n",
       "ENSG00000168703.5     0.002318\n",
       "dtype: float32"
      ]
     },
     "execution_count": 62,
     "metadata": {},
     "output_type": "execute_result"
    },
    {
     "data": {
      "text/plain": [
       "0\n",
       "ENSG00000105550.7     0.058185\n",
       "ENSG00000131737.5     0.056672\n",
       "ENSG00000111700.11    0.030897\n",
       "ENSG00000126550.7     0.025826\n",
       "ENSG00000255271.1     0.013981\n",
       "ENSG00000121634.5     0.009187\n",
       "ENSG00000233085.4     0.007998\n",
       "ENSG00000279458.1     0.007626\n",
       "ENSG00000233532.4     0.006968\n",
       "ENSG00000140522.10    0.005431\n",
       "dtype: float32"
      ]
     },
     "execution_count": 62,
     "metadata": {},
     "output_type": "execute_result"
    },
    {
     "data": {
      "text/plain": [
       "0\n",
       "ENSG00000215182.8     0.419643\n",
       "ENSG00000096006.10    0.033312\n",
       "ENSG00000143512.11    0.006348\n",
       "ENSG00000226707.1     0.004333\n",
       "ENSG00000260459.2     0.003920\n",
       "ENSG00000188997.6     0.003187\n",
       "ENSG00000244619.2     0.002994\n",
       "ENSG00000260963.1     0.002989\n",
       "ENSG00000263566.1     0.002446\n",
       "ENSG00000223018.1     0.002219\n",
       "dtype: float32"
      ]
     },
     "execution_count": 62,
     "metadata": {},
     "output_type": "execute_result"
    },
    {
     "data": {
      "text/plain": [
       "0\n",
       "ENSG00000230014.1    0.548408\n",
       "ENSG00000271307.1    0.423718\n",
       "ENSG00000274269.1    0.073200\n",
       "ENSG00000241280.1    0.046496\n",
       "ENSG00000280140.1    0.042154\n",
       "ENSG00000228695.8    0.029080\n",
       "ENSG00000215811.5    0.017028\n",
       "ENSG00000237617.1    0.016209\n",
       "ENSG00000215612.6    0.015500\n",
       "ENSG00000182459.4    0.014678\n",
       "dtype: float32"
      ]
     },
     "execution_count": 62,
     "metadata": {},
     "output_type": "execute_result"
    },
    {
     "data": {
      "text/plain": [
       "0\n",
       "ENSG00000249557.2     1.678962\n",
       "ENSG00000233258.1     0.051050\n",
       "ENSG00000229982.1     0.047050\n",
       "ENSG00000254842.5     0.043771\n",
       "ENSG00000225537.1     0.025994\n",
       "ENSG00000186493.10    0.014763\n",
       "ENSG00000222418.1     0.014112\n",
       "ENSG00000149972.9     0.013901\n",
       "ENSG00000279773.1     0.012599\n",
       "ENSG00000168229.3     0.011339\n",
       "dtype: float32"
      ]
     },
     "execution_count": 62,
     "metadata": {},
     "output_type": "execute_result"
    },
    {
     "data": {
      "text/plain": [
       "0\n",
       "ENSG00000230339.2    0.008288\n",
       "ENSG00000275508.1    0.004623\n",
       "ENSG00000199158.1    0.004040\n",
       "ENSG00000236303.2    0.002995\n",
       "ENSG00000264545.1    0.002834\n",
       "ENSG00000186970.4    0.002493\n",
       "ENSG00000277212.1    0.002433\n",
       "ENSG00000271894.1    0.002295\n",
       "ENSG00000273561.1    0.001792\n",
       "ENSG00000249016.1    0.001778\n",
       "dtype: float32"
      ]
     },
     "execution_count": 62,
     "metadata": {},
     "output_type": "execute_result"
    },
    {
     "data": {
      "text/plain": [
       "0\n",
       "ENSG00000268089.2     0.032125\n",
       "ENSG00000215644.8     0.017636\n",
       "ENSG00000249082.2     0.011888\n",
       "ENSG00000231694.1     0.010982\n",
       "ENSG00000241244.1     0.010227\n",
       "ENSG00000277683.1     0.009664\n",
       "ENSG00000276348.1     0.009349\n",
       "ENSG00000253818.1     0.008456\n",
       "ENSG00000181588.16    0.007201\n",
       "ENSG00000280412.1     0.007117\n",
       "dtype: float32"
      ]
     },
     "execution_count": 62,
     "metadata": {},
     "output_type": "execute_result"
    },
    {
     "data": {
      "text/plain": [
       "0\n",
       "ENSG00000263566.1    0.002381\n",
       "ENSG00000270242.1    0.001646\n",
       "ENSG00000201923.1    0.001399\n",
       "ENSG00000250688.1    0.001312\n",
       "ENSG00000182634.7    0.001311\n",
       "ENSG00000278568.1    0.001243\n",
       "ENSG00000237242.1    0.001162\n",
       "ENSG00000200839.1    0.000987\n",
       "ENSG00000207101.1    0.000887\n",
       "ENSG00000229142.1    0.000790\n",
       "dtype: float32"
      ]
     },
     "execution_count": 62,
     "metadata": {},
     "output_type": "execute_result"
    },
    {
     "data": {
      "text/plain": [
       "0\n",
       "ENSG00000210741.1     0.064113\n",
       "ENSG00000123838.9     0.030747\n",
       "ENSG00000234427.1     0.017399\n",
       "ENSG00000185269.10    0.016442\n",
       "ENSG00000258844.1     0.011952\n",
       "ENSG00000252697.1     0.011823\n",
       "ENSG00000125084.10    0.011097\n",
       "ENSG00000253262.1     0.010738\n",
       "ENSG00000259889.1     0.010566\n",
       "ENSG00000237266.1     0.010417\n",
       "dtype: float32"
      ]
     },
     "execution_count": 62,
     "metadata": {},
     "output_type": "execute_result"
    },
    {
     "data": {
      "text/plain": [
       "0\n",
       "ENSG00000258991.1    0.453016\n",
       "ENSG00000258567.1    0.218308\n",
       "ENSG00000221747.1    0.174298\n",
       "ENSG00000274773.1    0.141500\n",
       "ENSG00000277716.1    0.104610\n",
       "ENSG00000276079.1    0.093463\n",
       "ENSG00000273534.1    0.056514\n",
       "ENSG00000144771.7    0.047131\n",
       "ENSG00000215545.1    0.042715\n",
       "ENSG00000259554.1    0.034021\n",
       "dtype: float32"
      ]
     },
     "execution_count": 62,
     "metadata": {},
     "output_type": "execute_result"
    },
    {
     "data": {
      "text/plain": [
       "0\n",
       "ENSG00000251454.1     0.018451\n",
       "ENSG00000226321.5     0.006725\n",
       "ENSG00000248646.1     0.004509\n",
       "ENSG00000241317.1     0.004383\n",
       "ENSG00000246016.2     0.003901\n",
       "ENSG00000241102.1     0.003766\n",
       "ENSG00000164287.11    0.003721\n",
       "ENSG00000139445.16    0.003719\n",
       "ENSG00000280119.1     0.003224\n",
       "ENSG00000163060.7     0.003125\n",
       "dtype: float32"
      ]
     },
     "execution_count": 62,
     "metadata": {},
     "output_type": "execute_result"
    },
    {
     "data": {
      "text/plain": [
       "0\n",
       "ENSG00000229755.1     0.008028\n",
       "ENSG00000226975.1     0.004327\n",
       "ENSG00000215943.1     0.003822\n",
       "ENSG00000226547.2     0.003685\n",
       "ENSG00000230268.3     0.003092\n",
       "ENSG00000204983.11    0.003059\n",
       "ENSG00000232294.4     0.002933\n",
       "ENSG00000223629.1     0.002741\n",
       "ENSG00000244067.2     0.002458\n",
       "ENSG00000168703.5     0.002318\n",
       "dtype: float32"
      ]
     },
     "execution_count": 62,
     "metadata": {},
     "output_type": "execute_result"
    },
    {
     "data": {
      "text/plain": [
       "0\n",
       "ENSG00000263566.1    0.002381\n",
       "ENSG00000270242.1    0.001646\n",
       "ENSG00000201923.1    0.001399\n",
       "ENSG00000250688.1    0.001312\n",
       "ENSG00000182634.7    0.001311\n",
       "ENSG00000278568.1    0.001243\n",
       "ENSG00000237242.1    0.001162\n",
       "ENSG00000200839.1    0.000987\n",
       "ENSG00000207101.1    0.000887\n",
       "ENSG00000229142.1    0.000790\n",
       "dtype: float32"
      ]
     },
     "execution_count": 62,
     "metadata": {},
     "output_type": "execute_result"
    },
    {
     "data": {
      "text/plain": [
       "0\n",
       "ENSG00000124812.13    0.152121\n",
       "ENSG00000268751.1     0.033962\n",
       "ENSG00000223648.3     0.027451\n",
       "ENSG00000280707.1     0.011522\n",
       "ENSG00000267094.1     0.011480\n",
       "ENSG00000226707.1     0.011070\n",
       "ENSG00000256148.1     0.007685\n",
       "ENSG00000276951.1     0.006755\n",
       "ENSG00000210741.1     0.005779\n",
       "ENSG00000278982.1     0.004737\n",
       "dtype: float32"
      ]
     },
     "execution_count": 62,
     "metadata": {},
     "output_type": "execute_result"
    },
    {
     "data": {
      "text/plain": [
       "0\n",
       "ENSG00000089116.3     0.021884\n",
       "ENSG00000156510.12    0.020825\n",
       "ENSG00000258381.1     0.016083\n",
       "ENSG00000128714.5     0.012417\n",
       "ENSG00000117148.7     0.010680\n",
       "ENSG00000172116.20    0.009978\n",
       "ENSG00000248656.1     0.009570\n",
       "ENSG00000238266.1     0.007889\n",
       "ENSG00000211662.2     0.007523\n",
       "ENSG00000242486.1     0.007336\n",
       "dtype: float32"
      ]
     },
     "execution_count": 62,
     "metadata": {},
     "output_type": "execute_result"
    },
    {
     "data": {
      "text/plain": [
       "0\n",
       "ENSG00000259094.1    0.042082\n",
       "ENSG00000224789.1    0.004113\n",
       "ENSG00000211649.3    0.003976\n",
       "ENSG00000241149.2    0.003473\n",
       "ENSG00000280298.1    0.003456\n",
       "ENSG00000255079.1    0.003455\n",
       "ENSG00000211933.2    0.003398\n",
       "ENSG00000211668.2    0.002980\n",
       "ENSG00000267978.4    0.002658\n",
       "ENSG00000240864.3    0.002281\n",
       "dtype: float32"
      ]
     },
     "execution_count": 62,
     "metadata": {},
     "output_type": "execute_result"
    },
    {
     "data": {
      "text/plain": [
       "0\n",
       "ENSG00000105550.7     0.058185\n",
       "ENSG00000131737.5     0.056672\n",
       "ENSG00000111700.11    0.030897\n",
       "ENSG00000126550.7     0.025826\n",
       "ENSG00000255271.1     0.013981\n",
       "ENSG00000121634.5     0.009187\n",
       "ENSG00000233085.4     0.007998\n",
       "ENSG00000279458.1     0.007626\n",
       "ENSG00000233532.4     0.006968\n",
       "ENSG00000140522.10    0.005431\n",
       "dtype: float32"
      ]
     },
     "execution_count": 62,
     "metadata": {},
     "output_type": "execute_result"
    },
    {
     "data": {
      "text/plain": [
       "0\n",
       "ENSG00000263566.1    0.002381\n",
       "ENSG00000270242.1    0.001646\n",
       "ENSG00000201923.1    0.001399\n",
       "ENSG00000250688.1    0.001312\n",
       "ENSG00000182634.7    0.001311\n",
       "ENSG00000278568.1    0.001243\n",
       "ENSG00000237242.1    0.001162\n",
       "ENSG00000200839.1    0.000987\n",
       "ENSG00000207101.1    0.000887\n",
       "ENSG00000229142.1    0.000790\n",
       "dtype: float32"
      ]
     },
     "execution_count": 62,
     "metadata": {},
     "output_type": "execute_result"
    },
    {
     "data": {
      "text/plain": [
       "0\n",
       "ENSG00000230628.1    0.011931\n",
       "ENSG00000180424.6    0.008690\n",
       "ENSG00000264092.2    0.006261\n",
       "ENSG00000228044.2    0.005727\n",
       "ENSG00000239028.1    0.005397\n",
       "ENSG00000270962.1    0.004467\n",
       "ENSG00000200390.1    0.004273\n",
       "ENSG00000263639.4    0.004193\n",
       "ENSG00000240270.1    0.004010\n",
       "ENSG00000258576.1    0.003861\n",
       "dtype: float32"
      ]
     },
     "execution_count": 62,
     "metadata": {},
     "output_type": "execute_result"
    },
    {
     "data": {
      "text/plain": [
       "0\n",
       "ENSG00000259094.1    0.042082\n",
       "ENSG00000224789.1    0.004113\n",
       "ENSG00000211649.3    0.003976\n",
       "ENSG00000241149.2    0.003473\n",
       "ENSG00000280298.1    0.003456\n",
       "ENSG00000255079.1    0.003455\n",
       "ENSG00000211933.2    0.003398\n",
       "ENSG00000211668.2    0.002980\n",
       "ENSG00000267978.4    0.002658\n",
       "ENSG00000240864.3    0.002281\n",
       "dtype: float32"
      ]
     },
     "execution_count": 62,
     "metadata": {},
     "output_type": "execute_result"
    },
    {
     "data": {
      "text/plain": [
       "0\n",
       "ENSG00000249557.2     1.678962\n",
       "ENSG00000233258.1     0.051050\n",
       "ENSG00000229982.1     0.047050\n",
       "ENSG00000254842.5     0.043771\n",
       "ENSG00000225537.1     0.025994\n",
       "ENSG00000186493.10    0.014763\n",
       "ENSG00000222418.1     0.014112\n",
       "ENSG00000149972.9     0.013901\n",
       "ENSG00000279773.1     0.012599\n",
       "ENSG00000168229.3     0.011339\n",
       "dtype: float32"
      ]
     },
     "execution_count": 62,
     "metadata": {},
     "output_type": "execute_result"
    },
    {
     "data": {
      "text/plain": [
       "0\n",
       "ENSG00000230628.1    0.011931\n",
       "ENSG00000180424.6    0.008690\n",
       "ENSG00000264092.2    0.006261\n",
       "ENSG00000228044.2    0.005727\n",
       "ENSG00000239028.1    0.005397\n",
       "ENSG00000270962.1    0.004467\n",
       "ENSG00000200390.1    0.004273\n",
       "ENSG00000263639.4    0.004193\n",
       "ENSG00000240270.1    0.004010\n",
       "ENSG00000258576.1    0.003861\n",
       "dtype: float32"
      ]
     },
     "execution_count": 62,
     "metadata": {},
     "output_type": "execute_result"
    },
    {
     "data": {
      "text/plain": [
       "0\n",
       "ENSG00000229755.1     0.008028\n",
       "ENSG00000226975.1     0.004327\n",
       "ENSG00000215943.1     0.003822\n",
       "ENSG00000226547.2     0.003685\n",
       "ENSG00000230268.3     0.003092\n",
       "ENSG00000204983.11    0.003059\n",
       "ENSG00000232294.4     0.002933\n",
       "ENSG00000223629.1     0.002741\n",
       "ENSG00000244067.2     0.002458\n",
       "ENSG00000168703.5     0.002318\n",
       "dtype: float32"
      ]
     },
     "execution_count": 62,
     "metadata": {},
     "output_type": "execute_result"
    },
    {
     "data": {
      "text/plain": [
       "0\n",
       "ENSG00000251454.1     0.018451\n",
       "ENSG00000226321.5     0.006725\n",
       "ENSG00000248646.1     0.004509\n",
       "ENSG00000241317.1     0.004383\n",
       "ENSG00000246016.2     0.003901\n",
       "ENSG00000241102.1     0.003766\n",
       "ENSG00000164287.11    0.003721\n",
       "ENSG00000139445.16    0.003719\n",
       "ENSG00000280119.1     0.003224\n",
       "ENSG00000163060.7     0.003125\n",
       "dtype: float32"
      ]
     },
     "execution_count": 62,
     "metadata": {},
     "output_type": "execute_result"
    },
    {
     "data": {
      "text/plain": [
       "0\n",
       "ENSG00000253345.1    0.009083\n",
       "ENSG00000232216.1    0.007917\n",
       "ENSG00000258224.1    0.007500\n",
       "ENSG00000253497.1    0.006923\n",
       "ENSG00000253860.1    0.004712\n",
       "ENSG00000276566.1    0.004562\n",
       "ENSG00000260406.1    0.004080\n",
       "ENSG00000211951.2    0.003779\n",
       "ENSG00000241566.1    0.003334\n",
       "ENSG00000211668.2    0.003302\n",
       "dtype: float32"
      ]
     },
     "execution_count": 62,
     "metadata": {},
     "output_type": "execute_result"
    }
   ],
   "source": [
    "for i in range(len(attr)):\n",
    "    attr_samp = pd.Series(attr[i], index=train_dataset.data.columns)\n",
    "    attr_samp.nlargest(10)"
   ]
  },
  {
   "cell_type": "code",
   "execution_count": null,
   "metadata": {},
   "outputs": [],
   "source": []
  }
 ],
 "metadata": {
  "kernelspec": {
   "display_name": "torch",
   "language": "python",
   "name": "torch"
  },
  "language_info": {
   "codemirror_mode": {
    "name": "ipython",
    "version": 3
   },
   "file_extension": ".py",
   "mimetype": "text/x-python",
   "name": "python",
   "nbconvert_exporter": "python",
   "pygments_lexer": "ipython3",
   "version": "3.7.3"
  }
 },
 "nbformat": 4,
 "nbformat_minor": 2
}
