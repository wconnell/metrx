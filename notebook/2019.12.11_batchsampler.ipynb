{
 "cells": [
  {
   "cell_type": "code",
   "execution_count": 1,
   "metadata": {},
   "outputs": [],
   "source": [
    "import numpy as np\n",
    "import pandas as pd\n",
    "\n",
    "# viz\n",
    "import matplotlib.pyplot as plt\n",
    "\n",
    "# notebook settings\n",
    "from IPython.core.interactiveshell import InteractiveShell\n",
    "InteractiveShell.ast_node_interactivity = \"all\"\n",
    "\n",
    "pd.set_option('display.max_columns', 1000)"
   ]
  },
  {
   "cell_type": "markdown",
   "metadata": {},
   "source": [
    "# Input"
   ]
  },
  {
   "cell_type": "code",
   "execution_count": 2,
   "metadata": {},
   "outputs": [
    {
     "data": {
      "text/plain": [
       "(57,)"
      ]
     },
     "execution_count": 2,
     "metadata": {},
     "output_type": "execute_result"
    }
   ],
   "source": [
    "samples = pd.read_csv('../data/TCGA/gdc_sample_sheet.2019-12-09.tsv', sep=\"\\t\")\n",
    "\n",
    "# get file type\n",
    "samples['data'] = [val[1] for i,val in samples['File Name'].str.split(\".\").items()]\n",
    "\n",
    "# all cases with adjacent normal tissue\n",
    "cases = samples[samples['Sample Type']=='Solid Tissue Normal']['Case ID']\n",
    "\n",
    "# divide, join, subset\n",
    "case_tumor = samples[(samples['Case ID'].isin(cases)) & (samples['Sample Type']=='Primary Tumor') & (samples['data']=='FPKM')]\n",
    "case_norm = samples[(samples['Case ID'].isin(cases)) & (samples['Sample Type']=='Solid Tissue Normal') & (samples['data']=='FPKM')]\n",
    "cases = case_norm[case_norm['Case ID'].isin(case_tumor['Case ID'])]['Case ID']\n",
    "cases.shape\n",
    "\n",
    "# combine\n",
    "case_tumor = case_tumor[case_tumor['Case ID'].isin(cases)]\n",
    "case_norm = case_norm[case_norm['Case ID'].isin(cases)]\n",
    "cases = pd.concat([case_tumor, case_norm])\n",
    "# convert target condition to categorical\n",
    "cases['Sample Type'] = cases['Sample Type'].astype('category')"
   ]
  },
  {
   "cell_type": "markdown",
   "metadata": {},
   "source": [
    "# Model"
   ]
  },
  {
   "cell_type": "code",
   "execution_count": 45,
   "metadata": {},
   "outputs": [
    {
     "name": "stdout",
     "output_type": "stream",
     "text": [
      "Cuda is available: True\n"
     ]
    },
    {
     "data": {
      "text/plain": [
       "Primary Tumor          50\n",
       "Solid Tissue Normal    43\n",
       "Name: Sample Type, dtype: int64"
      ]
     },
     "execution_count": 45,
     "metadata": {},
     "output_type": "execute_result"
    },
    {
     "data": {
      "text/plain": [
       "Primary Tumor          17\n",
       "Solid Tissue Normal    14\n",
       "Name: Sample Type, dtype: int64"
      ]
     },
     "execution_count": 45,
     "metadata": {},
     "output_type": "execute_result"
    }
   ],
   "source": [
    "import torch\n",
    "from torch.optim import lr_scheduler\n",
    "import torch.optim as optim\n",
    "from torch.autograd import Variable\n",
    "\n",
    "from trainer import fit\n",
    "import visualization as vis\n",
    "import numpy as np\n",
    "from sklearn.model_selection import train_test_split\n",
    "cuda = torch.cuda.is_available()\n",
    "print(\"Cuda is available: {}\".format(cuda))\n",
    "\n",
    "\n",
    "train, test = train_test_split(cases)\n",
    "classes = train['Sample Type'].cat.categories.values\n",
    "\n",
    "train['Sample Type'].value_counts()\n",
    "test['Sample Type'].value_counts()"
   ]
  },
  {
   "cell_type": "code",
   "execution_count": 46,
   "metadata": {},
   "outputs": [],
   "source": [
    "from tcga_datasets import TCGA, SiameseTCGA\n",
    "root_dir = \"../data/TCGA\"\n",
    "batch_size = 1\n",
    "\n",
    "train_dataset = TCGA(root_dir, samples=train, train=True)\n",
    "test_dataset = TCGA(root_dir, samples=test, train=False)\n",
    "\n",
    "kwargs = {'num_workers': 1, 'pin_memory': True} if cuda else {}\n",
    "train_loader = torch.utils.data.DataLoader(train_dataset, batch_size=batch_size, shuffle=True, **kwargs)\n",
    "test_loader = torch.utils.data.DataLoader(test_dataset, batch_size=batch_size, shuffle=False, **kwargs)"
   ]
  },
  {
   "cell_type": "code",
   "execution_count": 47,
   "metadata": {},
   "outputs": [],
   "source": [
    "# Step 1 set up dataloader\n",
    "root_dir = \"../data/TCGA\"\n",
    "siamese_train_dataset = SiameseTCGA(train_dataset) # Returns pairs of images and target same/different\n",
    "siamese_test_dataset = SiameseTCGA(test_dataset)\n",
    "batch_size = 10\n",
    "kwargs = {'num_workers': 1, 'pin_memory': True} if cuda else {}\n",
    "siamese_train_loader = torch.utils.data.DataLoader(siamese_train_dataset, batch_size=batch_size, shuffle=True, **kwargs)\n",
    "siamese_test_loader = torch.utils.data.DataLoader(siamese_test_dataset, batch_size=batch_size, shuffle=False, **kwargs)"
   ]
  },
  {
   "cell_type": "markdown",
   "metadata": {},
   "source": [
    "#### Balanced batch sampler testing"
   ]
  },
  {
   "cell_type": "code",
   "execution_count": 49,
   "metadata": {},
   "outputs": [
    {
     "data": {
      "text/plain": [
       "(93, 9)"
      ]
     },
     "execution_count": 49,
     "metadata": {},
     "output_type": "execute_result"
    },
    {
     "data": {
      "text/plain": [
       "(31, 9)"
      ]
     },
     "execution_count": 49,
     "metadata": {},
     "output_type": "execute_result"
    }
   ],
   "source": [
    "train.shape\n",
    "test.shape"
   ]
  },
  {
   "cell_type": "code",
   "execution_count": 9,
   "metadata": {},
   "outputs": [],
   "source": [
    "from datasets import BalancedBatchSampler\n",
    "\n",
    "train_batch_sampler = BalancedBatchSampler(train_dataset.labels, n_classes=2, n_samples=61)\n",
    "test_batch_sampler = BalancedBatchSampler(test_dataset.labels, n_classes=2, n_samples=25)"
   ]
  },
  {
   "cell_type": "code",
   "execution_count": 12,
   "metadata": {},
   "outputs": [
    {
     "data": {
      "text/plain": [
       "124"
      ]
     },
     "execution_count": 12,
     "metadata": {},
     "output_type": "execute_result"
    },
    {
     "data": {
      "text/plain": [
       "122"
      ]
     },
     "execution_count": 12,
     "metadata": {},
     "output_type": "execute_result"
    }
   ],
   "source": [
    "train_batch_sampler.n_dataset\n",
    "train_batch_sampler.count"
   ]
  },
  {
   "cell_type": "code",
   "execution_count": 10,
   "metadata": {},
   "outputs": [
    {
     "data": {
      "text/plain": [
       "[12,\n",
       " 44,\n",
       " 15,\n",
       " 1,\n",
       " 28,\n",
       " 3,\n",
       " 8,\n",
       " 29,\n",
       " 20,\n",
       " 22,\n",
       " 24,\n",
       " 26,\n",
       " 37,\n",
       " 5,\n",
       " 36,\n",
       " 19,\n",
       " 63,\n",
       " 57,\n",
       " 41,\n",
       " 10,\n",
       " 14,\n",
       " 17,\n",
       " 42,\n",
       " 45,\n",
       " 7,\n",
       " 52,\n",
       " 31,\n",
       " 46,\n",
       " 43,\n",
       " 59,\n",
       " 55,\n",
       " 9,\n",
       " 39,\n",
       " 48,\n",
       " 50,\n",
       " 53,\n",
       " 21,\n",
       " 33,\n",
       " 6,\n",
       " 65,\n",
       " 61,\n",
       " 23,\n",
       " 56,\n",
       " 62,\n",
       " 27,\n",
       " 25,\n",
       " 13,\n",
       " 66,\n",
       " 34,\n",
       " 38,\n",
       " 30,\n",
       " 51,\n",
       " 47,\n",
       " 18,\n",
       " 4,\n",
       " 49,\n",
       " 32,\n",
       " 54,\n",
       " 64,\n",
       " 58,\n",
       " 16,\n",
       " 85,\n",
       " 81,\n",
       " 77,\n",
       " 78,\n",
       " 109,\n",
       " 99,\n",
       " 75,\n",
       " 123,\n",
       " 110,\n",
       " 91,\n",
       " 98,\n",
       " 67,\n",
       " 112,\n",
       " 73,\n",
       " 96,\n",
       " 82,\n",
       " 105,\n",
       " 104,\n",
       " 68,\n",
       " 114,\n",
       " 86,\n",
       " 119,\n",
       " 111,\n",
       " 101,\n",
       " 115,\n",
       " 97,\n",
       " 74,\n",
       " 87,\n",
       " 83,\n",
       " 84,\n",
       " 69,\n",
       " 102,\n",
       " 120,\n",
       " 107,\n",
       " 90,\n",
       " 79,\n",
       " 122,\n",
       " 76,\n",
       " 100,\n",
       " 95,\n",
       " 113,\n",
       " 117,\n",
       " 93,\n",
       " 88,\n",
       " 108,\n",
       " 106,\n",
       " 71,\n",
       " 103,\n",
       " 72,\n",
       " 118,\n",
       " 80,\n",
       " 92,\n",
       " 89,\n",
       " 121,\n",
       " 70,\n",
       " 94,\n",
       " 116]"
      ]
     },
     "execution_count": 10,
     "metadata": {},
     "output_type": "execute_result"
    }
   ],
   "source": [
    "for targ in train_batch_sampler:\n",
    "    targ"
   ]
  },
  {
   "cell_type": "code",
   "execution_count": null,
   "metadata": {},
   "outputs": [],
   "source": []
  }
 ],
 "metadata": {
  "kernelspec": {
   "display_name": "torch",
   "language": "python",
   "name": "torch"
  },
  "language_info": {
   "codemirror_mode": {
    "name": "ipython",
    "version": 3
   },
   "file_extension": ".py",
   "mimetype": "text/x-python",
   "name": "python",
   "nbconvert_exporter": "python",
   "pygments_lexer": "ipython3",
   "version": "3.7.3"
  }
 },
 "nbformat": 4,
 "nbformat_minor": 2
}
