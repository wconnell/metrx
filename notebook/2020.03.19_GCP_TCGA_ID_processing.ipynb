{
 "cells": [
  {
   "cell_type": "code",
   "execution_count": 1,
   "metadata": {},
   "outputs": [],
   "source": [
    "%load_ext autoreload\n",
    "%autoreload 2"
   ]
  },
  {
   "cell_type": "code",
   "execution_count": 2,
   "metadata": {},
   "outputs": [],
   "source": [
    "import sys\n",
    "sys.path.append(\"..\")\n",
    "                \n",
    "import numpy as np\n",
    "import pandas as pd\n",
    "pd.set_option('display.max_columns', 100)\n",
    "\n",
    "# viz\n",
    "import matplotlib.pyplot as plt\n",
    "import seaborn as sns\n",
    "sns.set(rc={'figure.figsize':(12.7,10.27)})\n",
    "\n",
    "# notebook settings\n",
    "from IPython.core.interactiveshell import InteractiveShell\n",
    "InteractiveShell.ast_node_interactivity = \"all\"\n",
    "from IPython.display import set_matplotlib_formats\n",
    "set_matplotlib_formats('retina')\n",
    "\n",
    "import os\n",
    "os.environ[\"CUDA_VISIBLE_DEVICES\"]=\"4\""
   ]
  },
  {
   "cell_type": "code",
   "execution_count": 5,
   "metadata": {},
   "outputs": [],
   "source": [
    "import glob"
   ]
  },
  {
   "cell_type": "code",
   "execution_count": 7,
   "metadata": {},
   "outputs": [],
   "source": [
    "base = \"/srv/nas/mk2/projects/pan-cancer/TCGA_CCLE_GCP\"\n",
    "tcga_files = glob.glob(os.path.join(base, 'TCGA/TCGA_*_counts.tsv.gz'))"
   ]
  },
  {
   "cell_type": "code",
   "execution_count": 65,
   "metadata": {},
   "outputs": [],
   "source": [
    "def readGCP(base_dir, f_pattern):\n",
    "    data_dict = {}\n",
    "    files = glob.glob(os.path.join(base_dir, f_pattern))\n",
    "    for f in files[:3]:\n",
    "        key = os.path.basename(f).split(\"_\")[1]\n",
    "        data = pd.read_csv(f, sep='\\t', index_col=0)\n",
    "        meta = pd.DataFrame([row[:-1] for row in data.index.str.split(\"|\")],\n",
    "                            columns=['ENST', 'ENSG', 'OTTHUMG', 'OTTHUMT', 'GENE-NUM', 'GENE', 'NUM', 'TYPE'])\n",
    "        data.index = meta['GENE']\n",
    "        data_dict[key] = data.T\n",
    "    return data_dict"
   ]
  },
  {
   "cell_type": "code",
   "execution_count": 66,
   "metadata": {},
   "outputs": [],
   "source": [
    "bar = readGCP(base, 'TCGA/TCGA_*_counts.tsv.gz')"
   ]
  },
  {
   "cell_type": "code",
   "execution_count": 68,
   "metadata": {},
   "outputs": [
    {
     "data": {
      "text/plain": [
       "dict_keys(['UCEC', 'THYM', 'SARC'])"
      ]
     },
     "execution_count": 68,
     "metadata": {},
     "output_type": "execute_result"
    }
   ],
   "source": [
    "bar.keys()"
   ]
  },
  {
   "cell_type": "code",
   "execution_count": 72,
   "metadata": {},
   "outputs": [
    {
     "data": {
      "text/plain": [
       "<matplotlib.axes._subplots.AxesSubplot at 0x7f5adbbf3f98>"
      ]
     },
     "execution_count": 72,
     "metadata": {},
     "output_type": "execute_result"
    },
    {
     "data": {
      "image/png": "[encoded data removed]",
      "text/plain": [
       "<Figure size 432x288 with 1 Axes>"
      ]
     },
     "metadata": {
      "needs_background": "light"
     },
     "output_type": "display_data"
    }
   ],
   "source": [
    "bar['UCEC'].iloc[:,0].hist()"
   ]
  },
  {
   "cell_type": "code",
   "execution_count": 79,
   "metadata": {},
   "outputs": [],
   "source": [
    "tcga_meta = pd.read_csv(os.path.join(base, \"TCGA/TCGA_ID_MAP.csv\"), sep=\",\")"
   ]
  },
  {
   "cell_type": "code",
   "execution_count": 80,
   "metadata": {},
   "outputs": [
    {
     "data": {
      "text/html": [
       "<div>\n",
       "<style scoped>\n",
       "    .dataframe tbody tr th:only-of-type {\n",
       "        vertical-align: middle;\n",
       "    }\n",
       "\n",
       "    .dataframe tbody tr th {\n",
       "        vertical-align: top;\n",
       "    }\n",
       "\n",
       "    .dataframe thead th {\n",
       "        text-align: right;\n",
       "    }\n",
       "</style>\n",
       "<table border=\"1\" class=\"dataframe\">\n",
       "  <thead>\n",
       "    <tr style=\"text-align: right;\">\n",
       "      <th></th>\n",
       "      <th>CGHubAnalysisID</th>\n",
       "      <th>AliquotBarcode</th>\n",
       "      <th>Aliquot_id</th>\n",
       "      <th>Disease</th>\n",
       "    </tr>\n",
       "  </thead>\n",
       "  <tbody>\n",
       "    <tr>\n",
       "      <th>0</th>\n",
       "      <td>3a8e6a74-137f-468f-8987-fa0acdde2836</td>\n",
       "      <td>TCGA-CS-6188-01A-11R-1896-07</td>\n",
       "      <td>66770b06-2cd6-4773-b8e8-5b38faa4f5a4</td>\n",
       "      <td>LGG</td>\n",
       "    </tr>\n",
       "    <tr>\n",
       "      <th>1</th>\n",
       "      <td>c63d44f1-c9ad-4391-b1aa-0feb3713441b</td>\n",
       "      <td>TCGA-EO-A22Y-01A-11R-A180-07</td>\n",
       "      <td>24ee58d3-60c9-4808-b35a-2767594b83f8</td>\n",
       "      <td>UCEC</td>\n",
       "    </tr>\n",
       "    <tr>\n",
       "      <th>2</th>\n",
       "      <td>21912089-1e42-4bcc-9ad9-fe9a9b88fb09</td>\n",
       "      <td>TCGA-94-A5I4-01A-11R-A26W-07</td>\n",
       "      <td>ee589fc8-daf6-4da9-9708-f18a86b96b22</td>\n",
       "      <td>LUSC</td>\n",
       "    </tr>\n",
       "    <tr>\n",
       "      <th>3</th>\n",
       "      <td>6b86e544-0372-434a-9f28-6fa4075dd228</td>\n",
       "      <td>TCGA-N5-A4RV-01A-21R-A28V-07</td>\n",
       "      <td>08dbecd4-ba05-4d62-b76c-62fddccdb167</td>\n",
       "      <td>UCS</td>\n",
       "    </tr>\n",
       "    <tr>\n",
       "      <th>4</th>\n",
       "      <td>c8eda0ee-e5e3-4847-8c9d-c816811d6e41</td>\n",
       "      <td>TCGA-L9-A444-01A-21R-A24H-07</td>\n",
       "      <td>a3b81644-c1b8-4d12-b6f8-6160533758cc</td>\n",
       "      <td>LUAD</td>\n",
       "    </tr>\n",
       "  </tbody>\n",
       "</table>\n",
       "</div>"
      ],
      "text/plain": [
       "                        CGHubAnalysisID                AliquotBarcode  \\\n",
       "0  3a8e6a74-137f-468f-8987-fa0acdde2836  TCGA-CS-6188-01A-11R-1896-07   \n",
       "1  c63d44f1-c9ad-4391-b1aa-0feb3713441b  TCGA-EO-A22Y-01A-11R-A180-07   \n",
       "2  21912089-1e42-4bcc-9ad9-fe9a9b88fb09  TCGA-94-A5I4-01A-11R-A26W-07   \n",
       "3  6b86e544-0372-434a-9f28-6fa4075dd228  TCGA-N5-A4RV-01A-21R-A28V-07   \n",
       "4  c8eda0ee-e5e3-4847-8c9d-c816811d6e41  TCGA-L9-A444-01A-21R-A24H-07   \n",
       "\n",
       "                             Aliquot_id Disease  \n",
       "0  66770b06-2cd6-4773-b8e8-5b38faa4f5a4     LGG  \n",
       "1  24ee58d3-60c9-4808-b35a-2767594b83f8    UCEC  \n",
       "2  ee589fc8-daf6-4da9-9708-f18a86b96b22    LUSC  \n",
       "3  08dbecd4-ba05-4d62-b76c-62fddccdb167     UCS  \n",
       "4  a3b81644-c1b8-4d12-b6f8-6160533758cc    LUAD  "
      ]
     },
     "execution_count": 80,
     "metadata": {},
     "output_type": "execute_result"
    }
   ],
   "source": [
    "tcga_meta.head()"
   ]
  },
  {
   "cell_type": "code",
   "execution_count": 85,
   "metadata": {},
   "outputs": [],
   "source": [
    "tcga_meta['Case ID'] = [id[0] + \"-\" + id[1] + \"-\" + id[2] for id in tcga_meta['AliquotBarcode'].str.split('-')]"
   ]
  },
  {
   "cell_type": "code",
   "execution_count": 87,
   "metadata": {},
   "outputs": [],
   "source": [
    "tcga_meta['Sample ID'] = [id[0] + \"-\" + id[1] + \"-\" + id[2] + \"-\" + id[3] for id in tcga_meta['AliquotBarcode'].str.split('-')]"
   ]
  },
  {
   "cell_type": "code",
   "execution_count": 88,
   "metadata": {},
   "outputs": [
    {
     "data": {
      "text/plain": [
       "0.8281895717928427"
      ]
     },
     "execution_count": 88,
     "metadata": {},
     "output_type": "execute_result"
    }
   ],
   "source": [
    "tcga_meta['Sample ID'].isin(samples['Sample ID']).sum() / len(tcga_meta['Sample ID'])"
   ]
  },
  {
   "cell_type": "markdown",
   "metadata": {},
   "source": [
    "Write out samples to upload to GDC to get sample sheet"
   ]
  },
  {
   "cell_type": "code",
   "execution_count": 99,
   "metadata": {},
   "outputs": [],
   "source": [
    "tcga_meta['Sample ID'].to_csv(os.path.join(base, \"TCGA/TCGA_ID_samples.csv\"), index=False, header=False)"
   ]
  },
  {
   "cell_type": "markdown",
   "metadata": {},
   "source": [
    "GDC sample sheet concatenation"
   ]
  },
  {
   "cell_type": "code",
   "execution_count": 105,
   "metadata": {},
   "outputs": [],
   "source": [
    "gdc_list = [pd.read_csv(os.path.join(base, \"TCGA/gdc_sample_sheet.2020-03-19_{}.tsv\".format(i)), sep=\"\\t\") for i in range(1,3)]\n",
    "gdc_samples = pd.concat(gdc_list, ignore_index=True)"
   ]
  },
  {
   "cell_type": "code",
   "execution_count": 108,
   "metadata": {},
   "outputs": [
    {
     "data": {
      "text/plain": [
       "11057"
      ]
     },
     "execution_count": 108,
     "metadata": {},
     "output_type": "execute_result"
    }
   ],
   "source": [
    "gdc_samples['Sample ID'].nunique()"
   ]
  },
  {
   "cell_type": "code",
   "execution_count": 109,
   "metadata": {},
   "outputs": [],
   "source": [
    "# write out concat file\n",
    "gdc_samples.to_csv(os.path.join(base, \"TCGA/gdc_sample_sheet.tsv\"), sep=\"\\t\", index=False)"
   ]
  },
  {
   "cell_type": "code",
   "execution_count": 110,
   "metadata": {},
   "outputs": [
    {
     "data": {
      "text/html": [
       "<div>\n",
       "<style scoped>\n",
       "    .dataframe tbody tr th:only-of-type {\n",
       "        vertical-align: middle;\n",
       "    }\n",
       "\n",
       "    .dataframe tbody tr th {\n",
       "        vertical-align: top;\n",
       "    }\n",
       "\n",
       "    .dataframe thead th {\n",
       "        text-align: right;\n",
       "    }\n",
       "</style>\n",
       "<table border=\"1\" class=\"dataframe\">\n",
       "  <thead>\n",
       "    <tr style=\"text-align: right;\">\n",
       "      <th></th>\n",
       "      <th>File ID</th>\n",
       "      <th>File Name</th>\n",
       "      <th>Data Category</th>\n",
       "      <th>Data Type</th>\n",
       "      <th>Project ID</th>\n",
       "      <th>Case ID</th>\n",
       "      <th>Sample ID</th>\n",
       "      <th>Sample Type</th>\n",
       "    </tr>\n",
       "  </thead>\n",
       "  <tbody>\n",
       "    <tr>\n",
       "      <th>0</th>\n",
       "      <td>f96c0a94-5c7c-4196-ac32-817b4b659857</td>\n",
       "      <td>6c0d24b4-b01c-4262-bf0d-60a4c4c11087.htseq.cou...</td>\n",
       "      <td>Transcriptome Profiling</td>\n",
       "      <td>Gene Expression Quantification</td>\n",
       "      <td>TCGA-BLCA</td>\n",
       "      <td>TCGA-FD-A3SJ</td>\n",
       "      <td>TCGA-FD-A3SJ-01A</td>\n",
       "      <td>Primary Tumor</td>\n",
       "    </tr>\n",
       "    <tr>\n",
       "      <th>1</th>\n",
       "      <td>e4c62f17-d1e8-4543-9b7e-daa2b68306e0</td>\n",
       "      <td>bc5be208-5934-40dd-81df-567599ea2a51.htseq.cou...</td>\n",
       "      <td>Transcriptome Profiling</td>\n",
       "      <td>Gene Expression Quantification</td>\n",
       "      <td>TCGA-LUSC</td>\n",
       "      <td>TCGA-33-6737</td>\n",
       "      <td>TCGA-33-6737-01A</td>\n",
       "      <td>Primary Tumor</td>\n",
       "    </tr>\n",
       "    <tr>\n",
       "      <th>2</th>\n",
       "      <td>6287b98b-2643-482d-831a-d4afcc8fe757</td>\n",
       "      <td>c13bf3e3-3287-485b-a5d2-5371af7897fb.htseq.cou...</td>\n",
       "      <td>Transcriptome Profiling</td>\n",
       "      <td>Gene Expression Quantification</td>\n",
       "      <td>TCGA-THCA</td>\n",
       "      <td>TCGA-EL-A3ZK</td>\n",
       "      <td>TCGA-EL-A3ZK-11A</td>\n",
       "      <td>Solid Tissue Normal</td>\n",
       "    </tr>\n",
       "    <tr>\n",
       "      <th>3</th>\n",
       "      <td>908202b7-bc21-4595-b1d3-8e53f64f3fde</td>\n",
       "      <td>2f5ab967-ce81-429c-946a-b63e08c0e501.htseq.cou...</td>\n",
       "      <td>Transcriptome Profiling</td>\n",
       "      <td>Gene Expression Quantification</td>\n",
       "      <td>TCGA-THCA</td>\n",
       "      <td>TCGA-E8-A432</td>\n",
       "      <td>TCGA-E8-A432-01A</td>\n",
       "      <td>Primary Tumor</td>\n",
       "    </tr>\n",
       "    <tr>\n",
       "      <th>4</th>\n",
       "      <td>99179019-2b64-416b-811e-ed56935e7808</td>\n",
       "      <td>4763c7e5-97e5-40ca-9455-761ac274e0b4.htseq.cou...</td>\n",
       "      <td>Transcriptome Profiling</td>\n",
       "      <td>Gene Expression Quantification</td>\n",
       "      <td>TCGA-THCA</td>\n",
       "      <td>TCGA-EM-A2P1</td>\n",
       "      <td>TCGA-EM-A2P1-01A</td>\n",
       "      <td>Primary Tumor</td>\n",
       "    </tr>\n",
       "  </tbody>\n",
       "</table>\n",
       "</div>"
      ],
      "text/plain": [
       "                                File ID  \\\n",
       "0  f96c0a94-5c7c-4196-ac32-817b4b659857   \n",
       "1  e4c62f17-d1e8-4543-9b7e-daa2b68306e0   \n",
       "2  6287b98b-2643-482d-831a-d4afcc8fe757   \n",
       "3  908202b7-bc21-4595-b1d3-8e53f64f3fde   \n",
       "4  99179019-2b64-416b-811e-ed56935e7808   \n",
       "\n",
       "                                           File Name            Data Category  \\\n",
       "0  6c0d24b4-b01c-4262-bf0d-60a4c4c11087.htseq.cou...  Transcriptome Profiling   \n",
       "1  bc5be208-5934-40dd-81df-567599ea2a51.htseq.cou...  Transcriptome Profiling   \n",
       "2  c13bf3e3-3287-485b-a5d2-5371af7897fb.htseq.cou...  Transcriptome Profiling   \n",
       "3  2f5ab967-ce81-429c-946a-b63e08c0e501.htseq.cou...  Transcriptome Profiling   \n",
       "4  4763c7e5-97e5-40ca-9455-761ac274e0b4.htseq.cou...  Transcriptome Profiling   \n",
       "\n",
       "                        Data Type Project ID       Case ID         Sample ID  \\\n",
       "0  Gene Expression Quantification  TCGA-BLCA  TCGA-FD-A3SJ  TCGA-FD-A3SJ-01A   \n",
       "1  Gene Expression Quantification  TCGA-LUSC  TCGA-33-6737  TCGA-33-6737-01A   \n",
       "2  Gene Expression Quantification  TCGA-THCA  TCGA-EL-A3ZK  TCGA-EL-A3ZK-11A   \n",
       "3  Gene Expression Quantification  TCGA-THCA  TCGA-E8-A432  TCGA-E8-A432-01A   \n",
       "4  Gene Expression Quantification  TCGA-THCA  TCGA-EM-A2P1  TCGA-EM-A2P1-01A   \n",
       "\n",
       "           Sample Type  \n",
       "0        Primary Tumor  \n",
       "1        Primary Tumor  \n",
       "2  Solid Tissue Normal  \n",
       "3        Primary Tumor  \n",
       "4        Primary Tumor  "
      ]
     },
     "execution_count": 110,
     "metadata": {},
     "output_type": "execute_result"
    }
   ],
   "source": [
    "gdc_samples.head()"
   ]
  },
  {
   "cell_type": "code",
   "execution_count": 129,
   "metadata": {},
   "outputs": [],
   "source": [
    "# merge and drop duplicates\n",
    "anno = tcga_meta.merge(gdc_samples[['Sample ID', 'Sample Type']], left_on='Sample ID', right_on='Sample ID').drop_duplicates('CGHubAnalysisID')"
   ]
  },
  {
   "cell_type": "code",
   "execution_count": 130,
   "metadata": {},
   "outputs": [
    {
     "data": {
      "text/plain": [
       "(11150, 7)"
      ]
     },
     "execution_count": 130,
     "metadata": {},
     "output_type": "execute_result"
    }
   ],
   "source": [
    "anno.shape"
   ]
  },
  {
   "cell_type": "code",
   "execution_count": 134,
   "metadata": {},
   "outputs": [
    {
     "data": {
      "text/plain": [
       "Disease  Sample Type                                    \n",
       "BRCA     Primary Tumor                                      1119\n",
       "UCEC     Primary Tumor                                       555\n",
       "KIRC     Primary Tumor                                       542\n",
       "LUAD     Primary Tumor                                       536\n",
       "LGG      Primary Tumor                                       511\n",
       "LUSC     Primary Tumor                                       504\n",
       "THCA     Primary Tumor                                       502\n",
       "COAD     Primary Tumor                                       501\n",
       "PRAD     Primary Tumor                                       501\n",
       "HNSC     Primary Tumor                                       500\n",
       "BLCA     Primary Tumor                                       414\n",
       "STAD     Primary Tumor                                       375\n",
       "OV       Primary Tumor                                       374\n",
       "LIHC     Primary Tumor                                       371\n",
       "SKCM     Metastatic                                          367\n",
       "CESC     Primary Tumor                                       304\n",
       "KIRP     Primary Tumor                                       288\n",
       "SARC     Primary Tumor                                       259\n",
       "PCPG     Primary Tumor                                       178\n",
       "PAAD     Primary Tumor                                       177\n",
       "READ     Primary Tumor                                       166\n",
       "ESCA     Primary Tumor                                       161\n",
       "GBM      Primary Tumor                                       156\n",
       "LAML     Primary Blood Derived Cancer - Peripheral Blood     151\n",
       "TGCT     Primary Tumor                                       150\n",
       "THYM     Primary Tumor                                       119\n",
       "BRCA     Solid Tissue Normal                                 114\n",
       "SKCM     Primary Tumor                                       103\n",
       "MESO     Primary Tumor                                        86\n",
       "UVM      Primary Tumor                                        80\n",
       "ACC      Primary Tumor                                        79\n",
       "KIRC     Solid Tissue Normal                                  72\n",
       "KICH     Primary Tumor                                        65\n",
       "LUAD     Solid Tissue Normal                                  59\n",
       "THCA     Solid Tissue Normal                                  58\n",
       "UCS      Primary Tumor                                        56\n",
       "PRAD     Solid Tissue Normal                                  52\n",
       "LIHC     Solid Tissue Normal                                  50\n",
       "LUSC     Solid Tissue Normal                                  49\n",
       "DLBC     Primary Tumor                                        48\n",
       "HNSC     Solid Tissue Normal                                  44\n",
       "COAD     Solid Tissue Normal                                  41\n",
       "CHOL     Primary Tumor                                        36\n",
       "UCEC     Solid Tissue Normal                                  35\n",
       "KIRP     Solid Tissue Normal                                  32\n",
       "STAD     Solid Tissue Normal                                  32\n",
       "KICH     Solid Tissue Normal                                  24\n",
       "BLCA     Solid Tissue Normal                                  19\n",
       "LGG      Recurrent Tumor                                      18\n",
       "GBM      Recurrent Tumor                                      13\n",
       "dtype: int64"
      ]
     },
     "execution_count": 134,
     "metadata": {},
     "output_type": "execute_result"
    }
   ],
   "source": [
    "anno.groupby(['Disease', 'Sample Type']).size().nlargest(50)"
   ]
  },
  {
   "cell_type": "code",
   "execution_count": 141,
   "metadata": {},
   "outputs": [
    {
     "data": {
      "text/plain": [
       "0.9803921568627451"
      ]
     },
     "execution_count": 141,
     "metadata": {},
     "output_type": "execute_result"
    }
   ],
   "source": [
    "# percentage with annotation for sample type\n",
    "tcga_meta['Sample ID'].isin(gdc_samples['Sample ID']).sum() / len(tcga_meta['Sample ID'])"
   ]
  },
  {
   "cell_type": "code",
   "execution_count": 136,
   "metadata": {},
   "outputs": [
    {
     "data": {
      "text/plain": [
       "(11150, 7)"
      ]
     },
     "execution_count": 136,
     "metadata": {},
     "output_type": "execute_result"
    },
    {
     "data": {
      "text/plain": [
       "(11373, 6)"
      ]
     },
     "execution_count": 136,
     "metadata": {},
     "output_type": "execute_result"
    },
    {
     "data": {
      "text/plain": [
       "(11389, 8)"
      ]
     },
     "execution_count": 136,
     "metadata": {},
     "output_type": "execute_result"
    }
   ],
   "source": [
    "anno.shape\n",
    "tcga_meta.shape\n",
    "gdc_samples.shape"
   ]
  },
  {
   "cell_type": "code",
   "execution_count": 138,
   "metadata": {},
   "outputs": [],
   "source": [
    "anno.to_csv(os.path.join(base, \"TCGA/TCGA_GDC_ID_MAP.tsv\"), sep=\"\\t\", index=False)"
   ]
  },
  {
   "cell_type": "markdown",
   "metadata": {},
   "source": [
    "Next subset raw data to only those with sample type annotations..."
   ]
  },
  {
   "cell_type": "code",
   "execution_count": null,
   "metadata": {},
   "outputs": [],
   "source": [
    "ccle = pd.read_csv(os.path.join(base, \"CCLE/\"))"
   ]
  }
 ],
 "metadata": {
  "kernelspec": {
   "display_name": "Python 3",
   "language": "python",
   "name": "python3"
  },
  "language_info": {
   "codemirror_mode": {
    "name": "ipython",
    "version": 3
   },
   "file_extension": ".py",
   "mimetype": "text/x-python",
   "name": "python",
   "nbconvert_exporter": "python",
   "pygments_lexer": "ipython3",
   "version": "3.7.3"
  }
 },
 "nbformat": 4,
 "nbformat_minor": 2
}
