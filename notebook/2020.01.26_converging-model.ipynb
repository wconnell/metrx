{
 "cells": [
  {
   "cell_type": "code",
   "execution_count": 1,
   "metadata": {},
   "outputs": [],
   "source": [
    "import numpy as np\n",
    "import pandas as pd\n",
    "np.random.seed(123)\n",
    "\n",
    "# viz\n",
    "import matplotlib.pyplot as plt\n",
    "\n",
    "# notebook settings\n",
    "from IPython.core.interactiveshell import InteractiveShell\n",
    "InteractiveShell.ast_node_interactivity = \"all\"\n",
    "\n",
    "pd.set_option('display.max_columns', 1000)"
   ]
  },
  {
   "cell_type": "markdown",
   "metadata": {},
   "source": [
    "## Sample Prep"
   ]
  },
  {
   "cell_type": "code",
   "execution_count": 2,
   "metadata": {},
   "outputs": [
    {
     "data": {
      "text/html": [
       "<div>\n",
       "<style scoped>\n",
       "    .dataframe tbody tr th:only-of-type {\n",
       "        vertical-align: middle;\n",
       "    }\n",
       "\n",
       "    .dataframe tbody tr th {\n",
       "        vertical-align: top;\n",
       "    }\n",
       "\n",
       "    .dataframe thead th {\n",
       "        text-align: right;\n",
       "    }\n",
       "</style>\n",
       "<table border=\"1\" class=\"dataframe\">\n",
       "  <thead>\n",
       "    <tr style=\"text-align: right;\">\n",
       "      <th></th>\n",
       "      <th>File ID</th>\n",
       "      <th>File Name</th>\n",
       "      <th>Data Category</th>\n",
       "      <th>Data Type</th>\n",
       "      <th>Project ID</th>\n",
       "      <th>Case ID</th>\n",
       "      <th>Sample ID</th>\n",
       "      <th>Sample Type</th>\n",
       "      <th>data</th>\n",
       "    </tr>\n",
       "  </thead>\n",
       "  <tbody>\n",
       "    <tr>\n",
       "      <th>0</th>\n",
       "      <td>754774dd-77e1-4cf5-b9b5-3afad9f41410</td>\n",
       "      <td>999edb9e-8a45-4115-84d5-fca75dcfa639.FPKM.txt.gz</td>\n",
       "      <td>Transcriptome Profiling</td>\n",
       "      <td>Gene Expression Quantification</td>\n",
       "      <td>TCGA-BRCA</td>\n",
       "      <td>TCGA-E2-A1IG</td>\n",
       "      <td>TCGA-E2-A1IG-01A</td>\n",
       "      <td>Primary Tumor</td>\n",
       "      <td>FPKM</td>\n",
       "    </tr>\n",
       "    <tr>\n",
       "      <th>1</th>\n",
       "      <td>8bf102b9-baf7-4749-bcd0-eca25f600722</td>\n",
       "      <td>23393a6a-bfbc-4dec-9ab5-e78a487a095f.FPKM.txt.gz</td>\n",
       "      <td>Transcriptome Profiling</td>\n",
       "      <td>Gene Expression Quantification</td>\n",
       "      <td>TCGA-BRCA</td>\n",
       "      <td>TCGA-EW-A1J5</td>\n",
       "      <td>TCGA-EW-A1J5-01A</td>\n",
       "      <td>Primary Tumor</td>\n",
       "      <td>FPKM</td>\n",
       "    </tr>\n",
       "    <tr>\n",
       "      <th>2</th>\n",
       "      <td>5bf7609e-68cb-4ddb-8f05-ee1d4f92cf9b</td>\n",
       "      <td>4a9bb3fd-4e75-4585-82f7-7254889b9838.FPKM.txt.gz</td>\n",
       "      <td>Transcriptome Profiling</td>\n",
       "      <td>Gene Expression Quantification</td>\n",
       "      <td>TCGA-BRCA</td>\n",
       "      <td>TCGA-AR-A1AU</td>\n",
       "      <td>TCGA-AR-A1AU-01A</td>\n",
       "      <td>Primary Tumor</td>\n",
       "      <td>FPKM</td>\n",
       "    </tr>\n",
       "    <tr>\n",
       "      <th>3</th>\n",
       "      <td>10a40ceb-080c-4758-97f9-1a262e2639ed</td>\n",
       "      <td>9858d286-1b96-4414-bd09-d73dc6f1c79e.FPKM.txt.gz</td>\n",
       "      <td>Transcriptome Profiling</td>\n",
       "      <td>Gene Expression Quantification</td>\n",
       "      <td>TCGA-LGG</td>\n",
       "      <td>TCGA-DB-A64R</td>\n",
       "      <td>TCGA-DB-A64R-01A</td>\n",
       "      <td>Primary Tumor</td>\n",
       "      <td>FPKM</td>\n",
       "    </tr>\n",
       "    <tr>\n",
       "      <th>4</th>\n",
       "      <td>2600ef39-0bdf-4e10-9fdf-e3dbed7b5383</td>\n",
       "      <td>f7182de7-067e-467b-af88-790ad3e63eec.FPKM.txt.gz</td>\n",
       "      <td>Transcriptome Profiling</td>\n",
       "      <td>Gene Expression Quantification</td>\n",
       "      <td>TCGA-LGG</td>\n",
       "      <td>TCGA-P5-A77X</td>\n",
       "      <td>TCGA-P5-A77X-01A</td>\n",
       "      <td>Primary Tumor</td>\n",
       "      <td>FPKM</td>\n",
       "    </tr>\n",
       "  </tbody>\n",
       "</table>\n",
       "</div>"
      ],
      "text/plain": [
       "                                File ID  \\\n",
       "0  754774dd-77e1-4cf5-b9b5-3afad9f41410   \n",
       "1  8bf102b9-baf7-4749-bcd0-eca25f600722   \n",
       "2  5bf7609e-68cb-4ddb-8f05-ee1d4f92cf9b   \n",
       "3  10a40ceb-080c-4758-97f9-1a262e2639ed   \n",
       "4  2600ef39-0bdf-4e10-9fdf-e3dbed7b5383   \n",
       "\n",
       "                                          File Name            Data Category  \\\n",
       "0  999edb9e-8a45-4115-84d5-fca75dcfa639.FPKM.txt.gz  Transcriptome Profiling   \n",
       "1  23393a6a-bfbc-4dec-9ab5-e78a487a095f.FPKM.txt.gz  Transcriptome Profiling   \n",
       "2  4a9bb3fd-4e75-4585-82f7-7254889b9838.FPKM.txt.gz  Transcriptome Profiling   \n",
       "3  9858d286-1b96-4414-bd09-d73dc6f1c79e.FPKM.txt.gz  Transcriptome Profiling   \n",
       "4  f7182de7-067e-467b-af88-790ad3e63eec.FPKM.txt.gz  Transcriptome Profiling   \n",
       "\n",
       "                        Data Type Project ID       Case ID         Sample ID  \\\n",
       "0  Gene Expression Quantification  TCGA-BRCA  TCGA-E2-A1IG  TCGA-E2-A1IG-01A   \n",
       "1  Gene Expression Quantification  TCGA-BRCA  TCGA-EW-A1J5  TCGA-EW-A1J5-01A   \n",
       "2  Gene Expression Quantification  TCGA-BRCA  TCGA-AR-A1AU  TCGA-AR-A1AU-01A   \n",
       "3  Gene Expression Quantification   TCGA-LGG  TCGA-DB-A64R  TCGA-DB-A64R-01A   \n",
       "4  Gene Expression Quantification   TCGA-LGG  TCGA-P5-A77X  TCGA-P5-A77X-01A   \n",
       "\n",
       "     Sample Type  data  \n",
       "0  Primary Tumor  FPKM  \n",
       "1  Primary Tumor  FPKM  \n",
       "2  Primary Tumor  FPKM  \n",
       "3  Primary Tumor  FPKM  \n",
       "4  Primary Tumor  FPKM  "
      ]
     },
     "execution_count": 2,
     "metadata": {},
     "output_type": "execute_result"
    }
   ],
   "source": [
    "samples = pd.read_csv('../data/TCGA/rna-seq_pan/meta/gdc_sample_sheet.2019-12-12.tsv', sep=\"\\t\")\n",
    "# get file type\n",
    "samples['data'] = [val[1] for i,val in samples['File Name'].str.split(\".\").items()]\n",
    "samples.head()"
   ]
  },
  {
   "cell_type": "markdown",
   "metadata": {},
   "source": [
    "Samples with RNAseq adjacent normal tissue"
   ]
  },
  {
   "cell_type": "code",
   "execution_count": 3,
   "metadata": {},
   "outputs": [
    {
     "data": {
      "text/plain": [
       "FPKM    636\n",
       "Name: data, dtype: int64"
      ]
     },
     "execution_count": 3,
     "metadata": {},
     "output_type": "execute_result"
    }
   ],
   "source": [
    "samples[samples['Sample Type']=='Solid Tissue Normal']['data'].value_counts()"
   ]
  },
  {
   "cell_type": "code",
   "execution_count": 4,
   "metadata": {},
   "outputs": [
    {
     "data": {
      "text/plain": [
       "BRCA    1206\n",
       "LUAD     588\n",
       "UCEC     567\n",
       "KIRC     554\n",
       "LUSC     543\n",
       "LGG      524\n",
       "PRAD     517\n",
       "COAD     506\n",
       "THCA     505\n",
       "SKCM     469\n",
       "BLCA     431\n",
       "LIHC     421\n",
       "STAD     402\n",
       "OV       379\n",
       "KIRP     308\n",
       "CESC     306\n",
       "PAAD     171\n",
       "ESCA     171\n",
       "GBM      166\n",
       "TGCT     150\n",
       "PCPG     133\n",
       "LAML     123\n",
       "KICH      81\n",
       "ACC       75\n",
       "CHOL      41\n",
       "SARC      10\n",
       "DLBC       9\n",
       "READ       7\n",
       "MESO       1\n",
       "Name: project, dtype: int64"
      ]
     },
     "execution_count": 4,
     "metadata": {},
     "output_type": "execute_result"
    }
   ],
   "source": [
    "samples['project'] = [val[1] for i,val in samples['Project ID'].str.split(\"-\").items()]\n",
    "samples['project'].value_counts()"
   ]
  },
  {
   "cell_type": "code",
   "execution_count": 5,
   "metadata": {},
   "outputs": [],
   "source": [
    "# all cases with adjacent normal tissue\n",
    "cases = samples[samples['Sample Type']=='Solid Tissue Normal']['Case ID']"
   ]
  },
  {
   "cell_type": "code",
   "execution_count": 6,
   "metadata": {},
   "outputs": [
    {
     "data": {
      "text/plain": [
       "111"
      ]
     },
     "execution_count": 6,
     "metadata": {},
     "output_type": "execute_result"
    },
    {
     "data": {
      "text/plain": [
       "112"
      ]
     },
     "execution_count": 6,
     "metadata": {},
     "output_type": "execute_result"
    }
   ],
   "source": [
    "# disparity in cases\n",
    "samples[(samples['Case ID'].isin(cases)) & (samples['Sample Type']=='Primary Tumor') \n",
    "        & (samples['data']=='FPKM') & (samples['project']=='BRCA')]['Case ID'].nunique()\n",
    "samples[(samples['Case ID'].isin(cases)) & (samples['Sample Type']=='Solid Tissue Normal') \n",
    "        & (samples['data']=='FPKM') & (samples['project']=='BRCA')]['Case ID'].nunique()"
   ]
  },
  {
   "cell_type": "code",
   "execution_count": 7,
   "metadata": {},
   "outputs": [
    {
     "data": {
      "text/plain": [
       "(111,)"
      ]
     },
     "execution_count": 7,
     "metadata": {},
     "output_type": "execute_result"
    }
   ],
   "source": [
    "# divide, join, subset\n",
    "case_tumor = samples[(samples['Case ID'].isin(cases)) & (samples['Sample Type']=='Primary Tumor') & \n",
    "                     (samples['data']=='FPKM') & (samples['project']=='BRCA')]\n",
    "case_norm = samples[(samples['Case ID'].isin(cases)) & (samples['Sample Type']=='Solid Tissue Normal') & \n",
    "                    (samples['data']=='FPKM') & (samples['project']=='BRCA')]\n",
    "cases = case_norm[case_norm['Case ID'].isin(case_tumor['Case ID'])]['Case ID']\n",
    "cases.shape"
   ]
  },
  {
   "cell_type": "code",
   "execution_count": 8,
   "metadata": {},
   "outputs": [],
   "source": [
    "case_tumor = case_tumor[case_tumor['Case ID'].isin(cases)]\n",
    "case_norm = case_norm[case_norm['Case ID'].isin(cases)]\n",
    "cases = pd.concat([case_tumor, case_norm])"
   ]
  },
  {
   "cell_type": "code",
   "execution_count": 9,
   "metadata": {},
   "outputs": [
    {
     "data": {
      "text/plain": [
       "(116, 10)"
      ]
     },
     "execution_count": 9,
     "metadata": {},
     "output_type": "execute_result"
    },
    {
     "data": {
      "text/plain": [
       "(111, 10)"
      ]
     },
     "execution_count": 9,
     "metadata": {},
     "output_type": "execute_result"
    },
    {
     "data": {
      "text/plain": [
       "(227, 10)"
      ]
     },
     "execution_count": 9,
     "metadata": {},
     "output_type": "execute_result"
    }
   ],
   "source": [
    "case_tumor.shape\n",
    "case_norm.shape\n",
    "cases.shape"
   ]
  },
  {
   "cell_type": "markdown",
   "metadata": {},
   "source": [
    "## Dataset Prep"
   ]
  },
  {
   "cell_type": "code",
   "execution_count": 10,
   "metadata": {},
   "outputs": [
    {
     "data": {
      "text/plain": [
       "Primary Tumor          90\n",
       "Solid Tissue Normal    80\n",
       "Name: Sample Type, dtype: int64"
      ]
     },
     "execution_count": 10,
     "metadata": {},
     "output_type": "execute_result"
    },
    {
     "data": {
      "text/plain": [
       "Solid Tissue Normal    31\n",
       "Primary Tumor          26\n",
       "Name: Sample Type, dtype: int64"
      ]
     },
     "execution_count": 10,
     "metadata": {},
     "output_type": "execute_result"
    }
   ],
   "source": [
    "from sklearn.model_selection import train_test_split\n",
    "\n",
    "target = 'Sample Type'\n",
    "cases[target] = cases[target].astype('category')\n",
    "\n",
    "train, test = train_test_split(cases)\n",
    "train[target].value_counts()\n",
    "test[target].value_counts()"
   ]
  },
  {
   "cell_type": "code",
   "execution_count": 11,
   "metadata": {},
   "outputs": [
    {
     "data": {
      "text/plain": [
       "Index(['Primary Tumor', 'Solid Tissue Normal'], dtype='object')"
      ]
     },
     "execution_count": 11,
     "metadata": {},
     "output_type": "execute_result"
    }
   ],
   "source": [
    "train[target].cat.categories"
   ]
  },
  {
   "cell_type": "code",
   "execution_count": 12,
   "metadata": {},
   "outputs": [
    {
     "data": {
      "text/plain": [
       "<torch._C.Generator at 0x7f1c7193f7f0>"
      ]
     },
     "execution_count": 12,
     "metadata": {},
     "output_type": "execute_result"
    },
    {
     "name": "stdout",
     "output_type": "stream",
     "text": [
      "Cuda is available: True\n"
     ]
    },
    {
     "data": {
      "text/plain": [
       "{'Primary Tumor': 0, 'Solid Tissue Normal': 1}"
      ]
     },
     "execution_count": 12,
     "metadata": {},
     "output_type": "execute_result"
    }
   ],
   "source": [
    "import torch\n",
    "from torch.optim import lr_scheduler\n",
    "import torch.optim as optim\n",
    "from torch.autograd import Variable\n",
    "torch.manual_seed(123)\n",
    "\n",
    "from trainer import fit\n",
    "import visualization as vis\n",
    "import numpy as np\n",
    "cuda = torch.cuda.is_available()\n",
    "print(\"Cuda is available: {}\".format(cuda))\n",
    "\n",
    "classes = {key:val for val,key in enumerate(train[target].cat.categories.values)}\n",
    "classes"
   ]
  },
  {
   "cell_type": "code",
   "execution_count": 13,
   "metadata": {},
   "outputs": [],
   "source": [
    "from tcga_datasets import TCGA, SiameseTCGA\n",
    "root_dir = \"../data/TCGA/rna-seq_pan/\"\n",
    "batch_size = 1\n",
    "\n",
    "train_dataset = TCGA(root_dir, samples=train, train=True, target=target)\n",
    "test_dataset = TCGA(root_dir, samples=test, train=False, target=target)\n",
    "\n",
    "kwargs = {'num_workers': 10, 'pin_memory': True} if cuda else {'num_workers': 10}\n",
    "train_loader = torch.utils.data.DataLoader(train_dataset, batch_size=batch_size, shuffle=True, **kwargs)\n",
    "test_loader = torch.utils.data.DataLoader(test_dataset, batch_size=batch_size, shuffle=False, **kwargs)"
   ]
  },
  {
   "cell_type": "markdown",
   "metadata": {},
   "source": [
    "## Siamese Network"
   ]
  },
  {
   "cell_type": "code",
   "execution_count": 14,
   "metadata": {},
   "outputs": [
    {
     "data": {
      "text/plain": [
       "SiameseNet(\n",
       "  (embedding_net): EmbeddingNet(\n",
       "    (fc): Sequential(\n",
       "      (linear1): Linear(in_features=60483, out_features=2000, bias=True)\n",
       "      (relu1): PReLU(num_parameters=1)\n",
       "      (linear2): Linear(in_features=2000, out_features=500, bias=True)\n",
       "      (relu2): PReLU(num_parameters=1)\n",
       "      (linear3): Linear(in_features=500, out_features=250, bias=True)\n",
       "      (relu3): PReLU(num_parameters=1)\n",
       "      (linear4): Linear(in_features=250, out_features=100, bias=True)\n",
       "      (relu4): PReLU(num_parameters=1)\n",
       "      (linear5): Linear(in_features=100, out_features=50, bias=True)\n",
       "      (relu5): PReLU(num_parameters=1)\n",
       "      (linear6): Linear(in_features=50, out_features=10, bias=True)\n",
       "      (relu6): PReLU(num_parameters=1)\n",
       "      (linear7): Linear(in_features=10, out_features=2, bias=True)\n",
       "    )\n",
       "  )\n",
       ")"
      ]
     },
     "execution_count": 14,
     "metadata": {},
     "output_type": "execute_result"
    }
   ],
   "source": [
    "# Step 1 set up dataloader\n",
    "root_dir = \"../data/TCGA\"\n",
    "siamese_train_dataset = SiameseTCGA(train_dataset) # Returns pairs of images and target same/different\n",
    "siamese_test_dataset = SiameseTCGA(test_dataset)\n",
    "batch_size = 8\n",
    "kwargs = {'num_workers': 10, 'pin_memory': True} if cuda else {}\n",
    "siamese_train_loader = torch.utils.data.DataLoader(siamese_train_dataset, batch_size=batch_size, shuffle=True, **kwargs)\n",
    "siamese_test_loader = torch.utils.data.DataLoader(siamese_test_dataset, batch_size=batch_size, shuffle=False, **kwargs)\n",
    "\n",
    "# Set up the network and training parameters\n",
    "from tcga_networks import EmbeddingNet, SiameseNet\n",
    "from losses import ContrastiveLoss\n",
    "from metrics import AccumulatedAccuracyMetric\n",
    "\n",
    "# Step 2\n",
    "embedding_net = EmbeddingNet()\n",
    "# Step 3\n",
    "model = SiameseNet(embedding_net)\n",
    "if cuda:\n",
    "    model.cuda()\n",
    "    \n",
    "# Step 4\n",
    "margin = 1.\n",
    "loss_fn = ContrastiveLoss(margin)\n",
    "lr = 1e-3\n",
    "optimizer = optim.Adam(model.parameters(), lr=lr)\n",
    "scheduler = lr_scheduler.StepLR(optimizer, 8, gamma=0.1, last_epoch=-1)\n",
    "n_epochs = 10\n",
    "# print training metrics every log_interval * batch_size\n",
    "log_interval = 30"
   ]
  },
  {
   "cell_type": "code",
   "execution_count": 15,
   "metadata": {},
   "outputs": [
    {
     "name": "stdout",
     "output_type": "stream",
     "text": [
      "Train: [0/170 (0%)]\tLoss: 0.268963\n",
      "Epoch: 1/10. Train set: Average loss: 109.3384\n",
      "Epoch: 1/10. Validation set: Average loss: 19.4182\n",
      "Train: [0/170 (0%)]\tLoss: 309.796631\n",
      "Epoch: 2/10. Train set: Average loss: 128.6826\n",
      "Epoch: 2/10. Validation set: Average loss: 146.4794\n",
      "Train: [0/170 (0%)]\tLoss: 120.472649\n",
      "Epoch: 3/10. Train set: Average loss: 220.2393\n",
      "Epoch: 3/10. Validation set: Average loss: 7.1959\n",
      "Train: [0/170 (0%)]\tLoss: 1.989862\n",
      "Epoch: 4/10. Train set: Average loss: 13.7897\n",
      "Epoch: 4/10. Validation set: Average loss: 0.8082\n",
      "Train: [0/170 (0%)]\tLoss: 3.589590\n",
      "Epoch: 5/10. Train set: Average loss: 3.9411\n",
      "Epoch: 5/10. Validation set: Average loss: 5.1269\n",
      "Train: [0/170 (0%)]\tLoss: 0.450236\n",
      "Epoch: 6/10. Train set: Average loss: 8.6736\n",
      "Epoch: 6/10. Validation set: Average loss: 0.8676\n",
      "Train: [0/170 (0%)]\tLoss: 0.245182\n",
      "Epoch: 7/10. Train set: Average loss: 1.4281\n",
      "Epoch: 7/10. Validation set: Average loss: 0.2053\n",
      "Train: [0/170 (0%)]\tLoss: 0.009832\n",
      "Epoch: 8/10. Train set: Average loss: 0.6234\n",
      "Epoch: 8/10. Validation set: Average loss: 0.1697\n",
      "Train: [0/170 (0%)]\tLoss: 0.110812\n",
      "Epoch: 9/10. Train set: Average loss: 0.1303\n",
      "Epoch: 9/10. Validation set: Average loss: 0.1713\n",
      "Train: [0/170 (0%)]\tLoss: 0.057411\n",
      "Epoch: 10/10. Train set: Average loss: 0.1504\n",
      "Epoch: 10/10. Validation set: Average loss: 0.1757\n"
     ]
    }
   ],
   "source": [
    "train_loss, val_loss = fit(siamese_train_loader, siamese_test_loader, model, loss_fn, optimizer, scheduler, \n",
    "    n_epochs, cuda, log_interval)"
   ]
  },
  {
   "cell_type": "code",
   "execution_count": 16,
   "metadata": {},
   "outputs": [
    {
     "data": {
      "text/plain": [
       "[<matplotlib.lines.Line2D at 0x7f1c71233fd0>]"
      ]
     },
     "execution_count": 16,
     "metadata": {},
     "output_type": "execute_result"
    },
    {
     "data": {
      "text/plain": [
       "[<matplotlib.lines.Line2D at 0x7f1c49cb7b38>]"
      ]
     },
     "execution_count": 16,
     "metadata": {},
     "output_type": "execute_result"
    },
    {
     "data": {
      "image/png": "[encoded data removed]",
      "text/plain": [
       "<Figure size 432x288 with 1 Axes>"
      ]
     },
     "metadata": {
      "needs_background": "light"
     },
     "output_type": "display_data"
    }
   ],
   "source": [
    "plt.plot(range(0, n_epochs), train_loss, 'rx-')\n",
    "plt.plot(range(0, n_epochs), val_loss, 'bx-')"
   ]
  },
  {
   "cell_type": "code",
   "execution_count": 17,
   "metadata": {},
   "outputs": [
    {
     "data": {
      "image/png": "[encoded data removed]",
      "text/plain": [
       "<Figure size 720x720 with 1 Axes>"
      ]
     },
     "metadata": {
      "needs_background": "light"
     },
     "output_type": "display_data"
    }
   ],
   "source": [
    "train_embeddings_cl, train_labels_cl = vis.extract_embeddings(train_loader, model)\n",
    "vis.plot_embeddings(train_embeddings_cl, train_labels_cl, siamese_train_dataset.labels_dict)"
   ]
  },
  {
   "cell_type": "code",
   "execution_count": 18,
   "metadata": {},
   "outputs": [
    {
     "data": {
      "image/png": "[encoded data removed]",
      "text/plain": [
       "<Figure size 720x720 with 1 Axes>"
      ]
     },
     "metadata": {
      "needs_background": "light"
     },
     "output_type": "display_data"
    }
   ],
   "source": [
    "val_embeddings_baseline, val_labels_baseline = vis.extract_embeddings(test_loader, model)\n",
    "vis.plot_embeddings(val_embeddings_baseline, val_labels_baseline, siamese_test_dataset.labels_dict)"
   ]
  },
  {
   "cell_type": "markdown",
   "metadata": {},
   "source": [
    "## Integrated Gradients\n",
    "Test completeness axiom through comparison of different baselines"
   ]
  },
  {
   "cell_type": "code",
   "execution_count": 19,
   "metadata": {},
   "outputs": [],
   "source": [
    "import copy\n",
    "from captum.attr import LayerActivation\n",
    "from captum.attr import IntegratedGradients"
   ]
  },
  {
   "cell_type": "code",
   "execution_count": 20,
   "metadata": {},
   "outputs": [],
   "source": [
    "tmp_model = copy.deepcopy(model)"
   ]
  },
  {
   "cell_type": "code",
   "execution_count": 21,
   "metadata": {},
   "outputs": [
    {
     "data": {
      "text/plain": [
       "SiameseNet(\n",
       "  (embedding_net): EmbeddingNet(\n",
       "    (fc): Sequential(\n",
       "      (linear1): Linear(in_features=60483, out_features=2000, bias=True)\n",
       "      (relu1): PReLU(num_parameters=1)\n",
       "      (linear2): Linear(in_features=2000, out_features=500, bias=True)\n",
       "      (relu2): PReLU(num_parameters=1)\n",
       "      (linear3): Linear(in_features=500, out_features=250, bias=True)\n",
       "      (relu3): PReLU(num_parameters=1)\n",
       "      (linear4): Linear(in_features=250, out_features=100, bias=True)\n",
       "      (relu4): PReLU(num_parameters=1)\n",
       "      (linear5): Linear(in_features=100, out_features=50, bias=True)\n",
       "      (relu5): PReLU(num_parameters=1)\n",
       "      (linear6): Linear(in_features=50, out_features=10, bias=True)\n",
       "      (relu6): PReLU(num_parameters=1)\n",
       "      (linear7): Linear(in_features=10, out_features=2, bias=True)\n",
       "    )\n",
       "  )\n",
       ")"
      ]
     },
     "execution_count": 21,
     "metadata": {},
     "output_type": "execute_result"
    }
   ],
   "source": [
    "tmp_model"
   ]
  },
  {
   "cell_type": "code",
   "execution_count": 22,
   "metadata": {},
   "outputs": [],
   "source": [
    "def attribution_pairs(SiameseTCGA, exp, ctrl):\n",
    "    # subset different samples\n",
    "    negative_pairs = np.array(SiameseTCGA.test_pairs)\n",
    "    negative_pairs = negative_pairs[negative_pairs[:,2] == 0]\n",
    "    # map labels to integers\n",
    "    ctrl = siamese_test_dataset.labels_dict[ctrl]\n",
    "    exp = siamese_test_dataset.labels_dict[exp]\n",
    "    # ordered indices of samples\n",
    "    ctrl_data = [idx for pair in negative_pairs[:, :2] for idx in pair if np.isin(idx, SiameseTCGA.label_to_indices[ctrl])]\n",
    "    exp_data = [idx for pair in negative_pairs[:, :2] for idx in pair if np.isin(idx, SiameseTCGA.label_to_indices[exp])]\n",
    "    # data\n",
    "    ctrl_data = Variable(SiameseTCGA.test_data[ctrl_data], requires_grad=True)\n",
    "    exp_data = Variable(SiameseTCGA.test_data[exp_data], requires_grad=True)\n",
    "    return ctrl_data, exp_data"
   ]
  },
  {
   "cell_type": "code",
   "execution_count": 23,
   "metadata": {},
   "outputs": [],
   "source": [
    "ctrl_data, exp_data = attribution_pairs(siamese_test_dataset, exp='Primary Tumor', ctrl='Solid Tissue Normal')"
   ]
  },
  {
   "cell_type": "code",
   "execution_count": 24,
   "metadata": {},
   "outputs": [],
   "source": [
    "ig = IntegratedGradients(tmp_model.get_embedding)"
   ]
  },
  {
   "cell_type": "code",
   "execution_count": 37,
   "metadata": {},
   "outputs": [],
   "source": [
    "attr, delta = ig.attribute(exp_data.cuda(), ctrl_data.cuda(), target=0, n_steps=50, return_convergence_delta=True)\n",
    "attr = attr.cpu().detach().numpy()"
   ]
  },
  {
   "cell_type": "code",
   "execution_count": 38,
   "metadata": {},
   "outputs": [
    {
     "data": {
      "text/plain": [
       "(28, 60483)"
      ]
     },
     "execution_count": 38,
     "metadata": {},
     "output_type": "execute_result"
    },
    {
     "data": {
      "text/plain": [
       "array([[<matplotlib.axes._subplots.AxesSubplot object at 0x7f1c320a54e0>]],\n",
       "      dtype=object)"
      ]
     },
     "execution_count": 38,
     "metadata": {},
     "output_type": "execute_result"
    },
    {
     "data": {
      "text/html": [
       "<div>\n",
       "<style scoped>\n",
       "    .dataframe tbody tr th:only-of-type {\n",
       "        vertical-align: middle;\n",
       "    }\n",
       "\n",
       "    .dataframe tbody tr th {\n",
       "        vertical-align: top;\n",
       "    }\n",
       "\n",
       "    .dataframe thead th {\n",
       "        text-align: right;\n",
       "    }\n",
       "</style>\n",
       "<table border=\"1\" class=\"dataframe\">\n",
       "  <thead>\n",
       "    <tr style=\"text-align: right;\">\n",
       "      <th></th>\n",
       "      <th>Attribution</th>\n",
       "    </tr>\n",
       "  </thead>\n",
       "  <tbody>\n",
       "    <tr>\n",
       "      <th>count</th>\n",
       "      <td>6.048300e+04</td>\n",
       "    </tr>\n",
       "    <tr>\n",
       "      <th>mean</th>\n",
       "      <td>1.309892e-05</td>\n",
       "    </tr>\n",
       "    <tr>\n",
       "      <th>std</th>\n",
       "      <td>9.422150e-04</td>\n",
       "    </tr>\n",
       "    <tr>\n",
       "      <th>min</th>\n",
       "      <td>-1.274200e-01</td>\n",
       "    </tr>\n",
       "    <tr>\n",
       "      <th>25%</th>\n",
       "      <td>-1.380579e-07</td>\n",
       "    </tr>\n",
       "    <tr>\n",
       "      <th>50%</th>\n",
       "      <td>3.065761e-08</td>\n",
       "    </tr>\n",
       "    <tr>\n",
       "      <th>75%</th>\n",
       "      <td>2.857448e-06</td>\n",
       "    </tr>\n",
       "    <tr>\n",
       "      <th>max</th>\n",
       "      <td>3.665242e-02</td>\n",
       "    </tr>\n",
       "  </tbody>\n",
       "</table>\n",
       "</div>"
      ],
      "text/plain": [
       "        Attribution\n",
       "count  6.048300e+04\n",
       "mean   1.309892e-05\n",
       "std    9.422150e-04\n",
       "min   -1.274200e-01\n",
       "25%   -1.380579e-07\n",
       "50%    3.065761e-08\n",
       "75%    2.857448e-06\n",
       "max    3.665242e-02"
      ]
     },
     "execution_count": 38,
     "metadata": {},
     "output_type": "execute_result"
    },
    {
     "data": {
      "text/html": [
       "<div>\n",
       "<style scoped>\n",
       "    .dataframe tbody tr th:only-of-type {\n",
       "        vertical-align: middle;\n",
       "    }\n",
       "\n",
       "    .dataframe tbody tr th {\n",
       "        vertical-align: top;\n",
       "    }\n",
       "\n",
       "    .dataframe thead th {\n",
       "        text-align: right;\n",
       "    }\n",
       "</style>\n",
       "<table border=\"1\" class=\"dataframe\">\n",
       "  <thead>\n",
       "    <tr style=\"text-align: right;\">\n",
       "      <th></th>\n",
       "      <th>Attribution</th>\n",
       "    </tr>\n",
       "    <tr>\n",
       "      <th>0</th>\n",
       "      <th></th>\n",
       "    </tr>\n",
       "  </thead>\n",
       "  <tbody>\n",
       "    <tr>\n",
       "      <th>ENSG00000202198.1</th>\n",
       "      <td>0.036652</td>\n",
       "    </tr>\n",
       "    <tr>\n",
       "      <th>ENSG00000198840.2</th>\n",
       "      <td>0.025355</td>\n",
       "    </tr>\n",
       "    <tr>\n",
       "      <th>ENSG00000168542.11</th>\n",
       "      <td>0.023917</td>\n",
       "    </tr>\n",
       "    <tr>\n",
       "      <th>ENSG00000034510.5</th>\n",
       "      <td>0.022094</td>\n",
       "    </tr>\n",
       "    <tr>\n",
       "      <th>ENSG00000108821.12</th>\n",
       "      <td>0.020728</td>\n",
       "    </tr>\n",
       "    <tr>\n",
       "      <th>ENSG00000106541.10</th>\n",
       "      <td>0.019849</td>\n",
       "    </tr>\n",
       "    <tr>\n",
       "      <th>ENSG00000173432.9</th>\n",
       "      <td>0.019584</td>\n",
       "    </tr>\n",
       "    <tr>\n",
       "      <th>ENSG00000111640.13</th>\n",
       "      <td>0.018072</td>\n",
       "    </tr>\n",
       "    <tr>\n",
       "      <th>ENSG00000152661.7</th>\n",
       "      <td>0.017361</td>\n",
       "    </tr>\n",
       "    <tr>\n",
       "      <th>ENSG00000263639.4</th>\n",
       "      <td>0.017063</td>\n",
       "    </tr>\n",
       "  </tbody>\n",
       "</table>\n",
       "</div>"
      ],
      "text/plain": [
       "                    Attribution\n",
       "0                              \n",
       "ENSG00000202198.1      0.036652\n",
       "ENSG00000198840.2      0.025355\n",
       "ENSG00000168542.11     0.023917\n",
       "ENSG00000034510.5      0.022094\n",
       "ENSG00000108821.12     0.020728\n",
       "ENSG00000106541.10     0.019849\n",
       "ENSG00000173432.9      0.019584\n",
       "ENSG00000111640.13     0.018072\n",
       "ENSG00000152661.7      0.017361\n",
       "ENSG00000263639.4      0.017063"
      ]
     },
     "execution_count": 38,
     "metadata": {},
     "output_type": "execute_result"
    },
    {
     "data": {
      "image/png": "[encoded data removed]",
      "text/plain": [
       "<Figure size 432x288 with 1 Axes>"
      ]
     },
     "metadata": {
      "needs_background": "light"
     },
     "output_type": "display_data"
    }
   ],
   "source": [
    "attr.shape\n",
    "feat_imp = pd.DataFrame(data=attr.mean(axis=0), index=train_dataset.data.columns, columns=['Attribution'])\n",
    "feat_imp.hist(bins=100)\n",
    "feat_imp.describe()\n",
    "feat_imp.nlargest(10, columns='Attribution')"
   ]
  },
  {
   "cell_type": "markdown",
   "metadata": {},
   "source": [
    "Inspect individual sample attributions"
   ]
  },
  {
   "cell_type": "code",
   "execution_count": 41,
   "metadata": {},
   "outputs": [
    {
     "data": {
      "text/plain": [
       "0\n",
       "ENSG00000108298.8     0.101187\n",
       "ENSG00000198938.2     0.088708\n",
       "ENSG00000002834.16    0.075684\n",
       "ENSG00000115461.4     0.050550\n",
       "ENSG00000198899.2     0.037784\n",
       "ENSG00000125691.11    0.036230\n",
       "ENSG00000115414.17    0.035006\n",
       "ENSG00000198712.1     0.034266\n",
       "ENSG00000074800.12    0.033840\n",
       "ENSG00000141736.12    0.032823\n",
       "dtype: float32"
      ]
     },
     "execution_count": 41,
     "metadata": {},
     "output_type": "execute_result"
    },
    {
     "data": {
      "text/plain": [
       "0.5839728"
      ]
     },
     "execution_count": 41,
     "metadata": {},
     "output_type": "execute_result"
    }
   ],
   "source": [
    "attr_samp = pd.Series(attr[0], index=train_dataset.data.columns)\n",
    "attr_samp.nlargest(10)\n",
    "attr_samp.sum()"
   ]
  },
  {
   "cell_type": "code",
   "execution_count": 40,
   "metadata": {},
   "outputs": [
    {
     "data": {
      "text/plain": [
       "0\n",
       "ENSG00000108298.8     0.101187\n",
       "ENSG00000198938.2     0.088708\n",
       "ENSG00000002834.16    0.075684\n",
       "ENSG00000115461.4     0.050550\n",
       "ENSG00000198899.2     0.037784\n",
       "ENSG00000125691.11    0.036230\n",
       "ENSG00000115414.17    0.035006\n",
       "ENSG00000198712.1     0.034266\n",
       "ENSG00000074800.12    0.033840\n",
       "ENSG00000141736.12    0.032823\n",
       "dtype: float32"
      ]
     },
     "execution_count": 40,
     "metadata": {},
     "output_type": "execute_result"
    },
    {
     "data": {
      "text/plain": [
       "0\n",
       "ENSG00000108298.8     0.160843\n",
       "ENSG00000159763.3     0.159224\n",
       "ENSG00000160180.15    0.156621\n",
       "ENSG00000106541.10    0.127535\n",
       "ENSG00000198804.2     0.104087\n",
       "ENSG00000147676.12    0.095017\n",
       "ENSG00000086548.8     0.070476\n",
       "ENSG00000161055.3     0.068009\n",
       "ENSG00000198938.2     0.065050\n",
       "ENSG00000160862.11    0.059776\n",
       "dtype: float32"
      ]
     },
     "execution_count": 40,
     "metadata": {},
     "output_type": "execute_result"
    },
    {
     "data": {
      "text/plain": [
       "0\n",
       "ENSG00000070756.12    0.247847\n",
       "ENSG00000244468.1     0.066399\n",
       "ENSG00000034510.5     0.064404\n",
       "ENSG00000087086.12    0.059444\n",
       "ENSG00000112306.7     0.045343\n",
       "ENSG00000184009.8     0.037403\n",
       "ENSG00000111640.13    0.036898\n",
       "ENSG00000187840.4     0.036465\n",
       "ENSG00000272398.4     0.035732\n",
       "ENSG00000012223.11    0.034220\n",
       "dtype: float32"
      ]
     },
     "execution_count": 40,
     "metadata": {},
     "output_type": "execute_result"
    },
    {
     "data": {
      "text/plain": [
       "0\n",
       "ENSG00000034510.5     0.064013\n",
       "ENSG00000106541.10    0.049836\n",
       "ENSG00000184009.8     0.044363\n",
       "ENSG00000106211.8     0.034223\n",
       "ENSG00000255974.5     0.033046\n",
       "ENSG00000109971.12    0.031498\n",
       "ENSG00000170421.10    0.030662\n",
       "ENSG00000080824.17    0.027977\n",
       "ENSG00000160182.2     0.027582\n",
       "ENSG00000124214.18    0.025427\n",
       "dtype: float32"
      ]
     },
     "execution_count": 40,
     "metadata": {},
     "output_type": "execute_result"
    },
    {
     "data": {
      "text/plain": [
       "0\n",
       "ENSG00000111341.8     0.124980\n",
       "ENSG00000173432.9     0.099816\n",
       "ENSG00000184009.8     0.052788\n",
       "ENSG00000111640.13    0.043471\n",
       "ENSG00000198840.2     0.041877\n",
       "ENSG00000112306.7     0.037458\n",
       "ENSG00000227097.5     0.025590\n",
       "ENSG00000166710.16    0.025241\n",
       "ENSG00000108821.12    0.024754\n",
       "ENSG00000034510.5     0.024491\n",
       "dtype: float32"
      ]
     },
     "execution_count": 40,
     "metadata": {},
     "output_type": "execute_result"
    },
    {
     "data": {
      "text/plain": [
       "0\n",
       "ENSG00000108298.8     0.172155\n",
       "ENSG00000160180.15    0.155915\n",
       "ENSG00000159763.3     0.154375\n",
       "ENSG00000106541.10    0.129038\n",
       "ENSG00000147676.12    0.098145\n",
       "ENSG00000160862.11    0.077388\n",
       "ENSG00000086548.8     0.072316\n",
       "ENSG00000161055.3     0.065792\n",
       "ENSG00000111640.13    0.053625\n",
       "ENSG00000141736.12    0.053522\n",
       "dtype: float32"
      ]
     },
     "execution_count": 40,
     "metadata": {},
     "output_type": "execute_result"
    },
    {
     "data": {
      "text/plain": [
       "0\n",
       "ENSG00000141424.11    0.102708\n",
       "ENSG00000198712.1     0.085053\n",
       "ENSG00000184007.16    0.063635\n",
       "ENSG00000096384.18    0.044232\n",
       "ENSG00000198804.2     0.035709\n",
       "ENSG00000106541.10    0.033092\n",
       "ENSG00000164125.14    0.028140\n",
       "ENSG00000197746.12    0.024560\n",
       "ENSG00000004478.7     0.023661\n",
       "ENSG00000143742.11    0.020726\n",
       "dtype: float32"
      ]
     },
     "execution_count": 40,
     "metadata": {},
     "output_type": "execute_result"
    },
    {
     "data": {
      "text/plain": [
       "0\n",
       "ENSG00000152661.7     0.179420\n",
       "ENSG00000141424.11    0.067467\n",
       "ENSG00000117984.11    0.064845\n",
       "ENSG00000115461.4     0.063806\n",
       "ENSG00000102316.15    0.042955\n",
       "ENSG00000012223.11    0.041070\n",
       "ENSG00000160182.2     0.038900\n",
       "ENSG00000164919.9     0.038255\n",
       "ENSG00000255974.5     0.031428\n",
       "ENSG00000173432.9     0.031055\n",
       "dtype: float32"
      ]
     },
     "execution_count": 40,
     "metadata": {},
     "output_type": "execute_result"
    },
    {
     "data": {
      "text/plain": [
       "0\n",
       "ENSG00000141424.11    0.034643\n",
       "ENSG00000168542.11    0.031995\n",
       "ENSG00000108821.12    0.028038\n",
       "ENSG00000070756.12    0.018281\n",
       "ENSG00000164692.16    0.017289\n",
       "ENSG00000133110.13    0.017260\n",
       "ENSG00000107485.14    0.016390\n",
       "ENSG00000115414.17    0.016184\n",
       "ENSG00000012660.12    0.015971\n",
       "ENSG00000227097.5     0.015968\n",
       "dtype: float32"
      ]
     },
     "execution_count": 40,
     "metadata": {},
     "output_type": "execute_result"
    },
    {
     "data": {
      "text/plain": [
       "0\n",
       "ENSG00000087086.12    0.082005\n",
       "ENSG00000204287.12    0.067838\n",
       "ENSG00000197746.12    0.035801\n",
       "ENSG00000019582.13    0.035792\n",
       "ENSG00000166710.16    0.032410\n",
       "ENSG00000147676.12    0.031516\n",
       "ENSG00000109062.8     0.030513\n",
       "ENSG00000163220.10    0.028267\n",
       "ENSG00000075624.12    0.027772\n",
       "ENSG00000198840.2     0.027329\n",
       "dtype: float32"
      ]
     },
     "execution_count": 40,
     "metadata": {},
     "output_type": "execute_result"
    },
    {
     "data": {
      "text/plain": [
       "0\n",
       "ENSG00000168542.11    0.067382\n",
       "ENSG00000113140.9     0.048947\n",
       "ENSG00000108821.12    0.046122\n",
       "ENSG00000164692.16    0.039382\n",
       "ENSG00000133110.13    0.032289\n",
       "ENSG00000115414.17    0.028284\n",
       "ENSG00000198804.2     0.024972\n",
       "ENSG00000131171.11    0.024380\n",
       "ENSG00000244468.1     0.021715\n",
       "ENSG00000139329.4     0.020562\n",
       "dtype: float32"
      ]
     },
     "execution_count": 40,
     "metadata": {},
     "output_type": "execute_result"
    },
    {
     "data": {
      "text/plain": [
       "0\n",
       "ENSG00000111640.13    0.113039\n",
       "ENSG00000173432.9     0.088986\n",
       "ENSG00000112306.7     0.085739\n",
       "ENSG00000075624.12    0.048552\n",
       "ENSG00000034510.5     0.041467\n",
       "ENSG00000179218.12    0.038220\n",
       "ENSG00000005022.5     0.038033\n",
       "ENSG00000110955.7     0.037989\n",
       "ENSG00000184009.8     0.036059\n",
       "ENSG00000111341.8     0.035517\n",
       "dtype: float32"
      ]
     },
     "execution_count": 40,
     "metadata": {},
     "output_type": "execute_result"
    },
    {
     "data": {
      "text/plain": [
       "0\n",
       "ENSG00000202198.1    1.027057\n",
       "ENSG00000211459.2    0.446162\n",
       "ENSG00000274012.1    0.196142\n",
       "ENSG00000251562.6    0.168207\n",
       "ENSG00000164128.5    0.107781\n",
       "ENSG00000252621.1    0.063136\n",
       "ENSG00000225972.1    0.038372\n",
       "ENSG00000173432.9    0.037337\n",
       "ENSG00000256612.6    0.036636\n",
       "ENSG00000245532.5    0.024770\n",
       "dtype: float32"
      ]
     },
     "execution_count": 40,
     "metadata": {},
     "output_type": "execute_result"
    },
    {
     "data": {
      "text/plain": [
       "0\n",
       "ENSG00000168542.11    0.041597\n",
       "ENSG00000106541.10    0.035364\n",
       "ENSG00000173432.9     0.034243\n",
       "ENSG00000108821.12    0.031255\n",
       "ENSG00000198695.2     0.029847\n",
       "ENSG00000133110.13    0.027266\n",
       "ENSG00000184009.8     0.026720\n",
       "ENSG00000198840.2     0.025553\n",
       "ENSG00000111640.13    0.023182\n",
       "ENSG00000102316.15    0.019768\n",
       "dtype: float32"
      ]
     },
     "execution_count": 40,
     "metadata": {},
     "output_type": "execute_result"
    },
    {
     "data": {
      "text/plain": [
       "0\n",
       "ENSG00000184009.8     0.072352\n",
       "ENSG00000034510.5     0.059936\n",
       "ENSG00000106541.10    0.053082\n",
       "ENSG00000111341.8     0.038561\n",
       "ENSG00000170421.10    0.036723\n",
       "ENSG00000109971.12    0.036598\n",
       "ENSG00000096384.18    0.035623\n",
       "ENSG00000080824.17    0.035023\n",
       "ENSG00000198840.2     0.034587\n",
       "ENSG00000255974.5     0.032421\n",
       "dtype: float32"
      ]
     },
     "execution_count": 40,
     "metadata": {},
     "output_type": "execute_result"
    },
    {
     "data": {
      "text/plain": [
       "0\n",
       "ENSG00000168542.11    0.068727\n",
       "ENSG00000113140.9     0.052696\n",
       "ENSG00000108821.12    0.047693\n",
       "ENSG00000164692.16    0.041120\n",
       "ENSG00000124935.3     0.035123\n",
       "ENSG00000133110.13    0.031071\n",
       "ENSG00000244468.1     0.030938\n",
       "ENSG00000115414.17    0.029286\n",
       "ENSG00000124107.5     0.026267\n",
       "ENSG00000102316.15    0.024539\n",
       "dtype: float32"
      ]
     },
     "execution_count": 40,
     "metadata": {},
     "output_type": "execute_result"
    },
    {
     "data": {
      "text/plain": [
       "0\n",
       "ENSG00000268751.1     0.185448\n",
       "ENSG00000096384.18    0.101100\n",
       "ENSG00000223648.3     0.068594\n",
       "ENSG00000070756.12    0.062387\n",
       "ENSG00000198840.2     0.058486\n",
       "ENSG00000204287.12    0.051432\n",
       "ENSG00000211659.2     0.046052\n",
       "ENSG00000166710.16    0.043152\n",
       "ENSG00000075624.12    0.040012\n",
       "ENSG00000211662.2     0.039852\n",
       "dtype: float32"
      ]
     },
     "execution_count": 40,
     "metadata": {},
     "output_type": "execute_result"
    },
    {
     "data": {
      "text/plain": [
       "0\n",
       "ENSG00000211662.2     0.169574\n",
       "ENSG00000198840.2     0.167438\n",
       "ENSG00000163220.10    0.107102\n",
       "ENSG00000034510.5     0.066382\n",
       "ENSG00000117984.11    0.038060\n",
       "ENSG00000105193.7     0.029985\n",
       "ENSG00000110484.6     0.029933\n",
       "ENSG00000118785.12    0.028956\n",
       "ENSG00000198695.2     0.028537\n",
       "ENSG00000065978.16    0.027488\n",
       "dtype: float32"
      ]
     },
     "execution_count": 40,
     "metadata": {},
     "output_type": "execute_result"
    },
    {
     "data": {
      "text/plain": [
       "0\n",
       "ENSG00000087086.12    0.086903\n",
       "ENSG00000166710.16    0.075819\n",
       "ENSG00000204287.12    0.050163\n",
       "ENSG00000205542.9     0.045141\n",
       "ENSG00000034510.5     0.041324\n",
       "ENSG00000272398.4     0.034704\n",
       "ENSG00000075624.12    0.034546\n",
       "ENSG00000118785.12    0.028906\n",
       "ENSG00000197746.12    0.028394\n",
       "ENSG00000278196.1     0.019641\n",
       "dtype: float32"
      ]
     },
     "execution_count": 40,
     "metadata": {},
     "output_type": "execute_result"
    },
    {
     "data": {
      "text/plain": [
       "0\n",
       "ENSG00000111341.8     0.112631\n",
       "ENSG00000184009.8     0.048863\n",
       "ENSG00000111640.13    0.042175\n",
       "ENSG00000112306.7     0.038945\n",
       "ENSG00000108821.12    0.026134\n",
       "ENSG00000198840.2     0.024622\n",
       "ENSG00000096384.18    0.022771\n",
       "ENSG00000227097.5     0.022113\n",
       "ENSG00000034510.5     0.021688\n",
       "ENSG00000075624.12    0.021290\n",
       "dtype: float32"
      ]
     },
     "execution_count": 40,
     "metadata": {},
     "output_type": "execute_result"
    },
    {
     "data": {
      "text/plain": [
       "0\n",
       "ENSG00000168542.11    0.066211\n",
       "ENSG00000113140.9     0.045849\n",
       "ENSG00000108821.12    0.045844\n",
       "ENSG00000164692.16    0.037750\n",
       "ENSG00000198938.2     0.036771\n",
       "ENSG00000133110.13    0.032224\n",
       "ENSG00000244468.1     0.030937\n",
       "ENSG00000128422.14    0.030587\n",
       "ENSG00000115414.17    0.028316\n",
       "ENSG00000198804.2     0.027800\n",
       "dtype: float32"
      ]
     },
     "execution_count": 40,
     "metadata": {},
     "output_type": "execute_result"
    },
    {
     "data": {
      "text/plain": [
       "0\n",
       "ENSG00000263639.4     0.229414\n",
       "ENSG00000168542.11    0.067770\n",
       "ENSG00000108821.12    0.046507\n",
       "ENSG00000099194.5     0.041586\n",
       "ENSG00000109062.8     0.034308\n",
       "ENSG00000164692.16    0.031948\n",
       "ENSG00000184009.8     0.031534\n",
       "ENSG00000141424.11    0.031319\n",
       "ENSG00000110092.3     0.030262\n",
       "ENSG00000117984.11    0.029855\n",
       "dtype: float32"
      ]
     },
     "execution_count": 40,
     "metadata": {},
     "output_type": "execute_result"
    },
    {
     "data": {
      "text/plain": [
       "0\n",
       "ENSG00000087086.12    0.090560\n",
       "ENSG00000166710.16    0.075884\n",
       "ENSG00000204287.12    0.048944\n",
       "ENSG00000272398.4     0.034136\n",
       "ENSG00000205542.9     0.033230\n",
       "ENSG00000198712.1     0.032914\n",
       "ENSG00000198804.2     0.031903\n",
       "ENSG00000034510.5     0.031796\n",
       "ENSG00000118785.12    0.027628\n",
       "ENSG00000132465.9     0.024066\n",
       "dtype: float32"
      ]
     },
     "execution_count": 40,
     "metadata": {},
     "output_type": "execute_result"
    },
    {
     "data": {
      "text/plain": [
       "0\n",
       "ENSG00000152661.7     0.179384\n",
       "ENSG00000141424.11    0.075336\n",
       "ENSG00000117984.11    0.061024\n",
       "ENSG00000012223.11    0.052749\n",
       "ENSG00000115461.4     0.050074\n",
       "ENSG00000102316.15    0.048588\n",
       "ENSG00000160182.2     0.042347\n",
       "ENSG00000164919.9     0.037652\n",
       "ENSG00000198840.2     0.035485\n",
       "ENSG00000160862.11    0.030995\n",
       "dtype: float32"
      ]
     },
     "execution_count": 40,
     "metadata": {},
     "output_type": "execute_result"
    },
    {
     "data": {
      "text/plain": [
       "0\n",
       "ENSG00000263639.4     0.229508\n",
       "ENSG00000168542.11    0.068945\n",
       "ENSG00000108821.12    0.046777\n",
       "ENSG00000184009.8     0.036069\n",
       "ENSG00000099194.5     0.035888\n",
       "ENSG00000109062.8     0.035242\n",
       "ENSG00000141424.11    0.032597\n",
       "ENSG00000164692.16    0.031608\n",
       "ENSG00000169710.6     0.028797\n",
       "ENSG00000117984.11    0.027058\n",
       "dtype: float32"
      ]
     },
     "execution_count": 40,
     "metadata": {},
     "output_type": "execute_result"
    },
    {
     "data": {
      "text/plain": [
       "0\n",
       "ENSG00000106541.10    0.052843\n",
       "ENSG00000034510.5     0.047096\n",
       "ENSG00000184009.8     0.040680\n",
       "ENSG00000211592.5     0.036241\n",
       "ENSG00000170421.10    0.035478\n",
       "ENSG00000255974.5     0.032988\n",
       "ENSG00000106211.8     0.032829\n",
       "ENSG00000160182.2     0.028704\n",
       "ENSG00000111057.9     0.026736\n",
       "ENSG00000124214.18    0.025872\n",
       "dtype: float32"
      ]
     },
     "execution_count": 40,
     "metadata": {},
     "output_type": "execute_result"
    },
    {
     "data": {
      "text/plain": [
       "0\n",
       "ENSG00000198840.2     0.065134\n",
       "ENSG00000168542.11    0.045658\n",
       "ENSG00000106541.10    0.036191\n",
       "ENSG00000184009.8     0.034860\n",
       "ENSG00000108821.12    0.034642\n",
       "ENSG00000111640.13    0.029747\n",
       "ENSG00000133110.13    0.028470\n",
       "ENSG00000075624.12    0.028301\n",
       "ENSG00000034510.5     0.023484\n",
       "ENSG00000198695.2     0.022966\n",
       "dtype: float32"
      ]
     },
     "execution_count": 40,
     "metadata": {},
     "output_type": "execute_result"
    },
    {
     "data": {
      "text/plain": [
       "0\n",
       "ENSG00000204287.12    0.112834\n",
       "ENSG00000166710.16    0.074328\n",
       "ENSG00000019582.13    0.049547\n",
       "ENSG00000173432.9     0.038461\n",
       "ENSG00000211658.2     0.028697\n",
       "ENSG00000090382.5     0.020458\n",
       "ENSG00000152661.7     0.015353\n",
       "ENSG00000211659.2     0.014166\n",
       "ENSG00000198840.2     0.013863\n",
       "ENSG00000177954.10    0.012910\n",
       "dtype: float32"
      ]
     },
     "execution_count": 40,
     "metadata": {},
     "output_type": "execute_result"
    },
    {
     "ename": "IndexError",
     "evalue": "index 28 is out of bounds for axis 0 with size 28",
     "output_type": "error",
     "traceback": [
      "\u001b[0;31m---------------------------------------------------------------------------\u001b[0m",
      "\u001b[0;31mIndexError\u001b[0m                                Traceback (most recent call last)",
      "\u001b[0;32m<ipython-input-40-c5c8692067b4>\u001b[0m in \u001b[0;36m<module>\u001b[0;34m\u001b[0m\n\u001b[1;32m      1\u001b[0m \u001b[0;32mfor\u001b[0m \u001b[0mi\u001b[0m \u001b[0;32min\u001b[0m \u001b[0mrange\u001b[0m\u001b[0;34m(\u001b[0m\u001b[0;36m30\u001b[0m\u001b[0;34m)\u001b[0m\u001b[0;34m:\u001b[0m\u001b[0;34m\u001b[0m\u001b[0;34m\u001b[0m\u001b[0m\n\u001b[0;32m----> 2\u001b[0;31m     \u001b[0mattr_samp\u001b[0m \u001b[0;34m=\u001b[0m \u001b[0mpd\u001b[0m\u001b[0;34m.\u001b[0m\u001b[0mSeries\u001b[0m\u001b[0;34m(\u001b[0m\u001b[0mattr\u001b[0m\u001b[0;34m[\u001b[0m\u001b[0mi\u001b[0m\u001b[0;34m]\u001b[0m\u001b[0;34m,\u001b[0m \u001b[0mindex\u001b[0m\u001b[0;34m=\u001b[0m\u001b[0mtrain_dataset\u001b[0m\u001b[0;34m.\u001b[0m\u001b[0mdata\u001b[0m\u001b[0;34m.\u001b[0m\u001b[0mcolumns\u001b[0m\u001b[0;34m)\u001b[0m\u001b[0;34m\u001b[0m\u001b[0;34m\u001b[0m\u001b[0m\n\u001b[0m\u001b[1;32m      3\u001b[0m     \u001b[0mattr_samp\u001b[0m\u001b[0;34m.\u001b[0m\u001b[0mnlargest\u001b[0m\u001b[0;34m(\u001b[0m\u001b[0;36m10\u001b[0m\u001b[0;34m)\u001b[0m\u001b[0;34m\u001b[0m\u001b[0;34m\u001b[0m\u001b[0m\n",
      "\u001b[0;31mIndexError\u001b[0m: index 28 is out of bounds for axis 0 with size 28"
     ]
    }
   ],
   "source": [
    "for i in range(30):\n",
    "    attr_samp = pd.Series(attr[i], index=train_dataset.data.columns)\n",
    "    attr_samp.nlargest(10)"
   ]
  },
  {
   "cell_type": "markdown",
   "metadata": {},
   "source": [
    "#### Check embedding of zero-feature vector"
   ]
  },
  {
   "cell_type": "code",
   "execution_count": 45,
   "metadata": {},
   "outputs": [
    {
     "data": {
      "text/plain": [
       "tensor([0.1497, 0.1312], device='cuda:0', grad_fn=<AddBackward0>)"
      ]
     },
     "execution_count": 45,
     "metadata": {},
     "output_type": "execute_result"
    }
   ],
   "source": [
    "base_zero = torch.zeros(siamese_test_dataset.test_data.shape[1]).cuda()\n",
    "base_emb = model.get_embedding(base_zero)\n",
    "base_emb"
   ]
  },
  {
   "cell_type": "code",
   "execution_count": null,
   "metadata": {},
   "outputs": [],
   "source": [
    "model.get_l"
   ]
  }
 ],
 "metadata": {
  "kernelspec": {
   "display_name": "torch",
   "language": "python",
   "name": "torch"
  },
  "language_info": {
   "codemirror_mode": {
    "name": "ipython",
    "version": 3
   },
   "file_extension": ".py",
   "mimetype": "text/x-python",
   "name": "python",
   "nbconvert_exporter": "python",
   "pygments_lexer": "ipython3",
   "version": "3.7.3"
  }
 },
 "nbformat": 4,
 "nbformat_minor": 2
}
