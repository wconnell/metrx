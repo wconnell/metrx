{
 "cells": [
  {
   "cell_type": "code",
   "execution_count": 1,
   "metadata": {},
   "outputs": [],
   "source": [
    "import numpy as np\n",
    "import pandas as pd\n",
    "np.random.seed(123)\n",
    "\n",
    "# viz\n",
    "import matplotlib.pyplot as plt\n",
    "\n",
    "# notebook settings\n",
    "from IPython.core.interactiveshell import InteractiveShell\n",
    "InteractiveShell.ast_node_interactivity = \"all\"\n",
    "\n",
    "pd.set_option('display.max_columns', 1000)"
   ]
  },
  {
   "cell_type": "markdown",
   "metadata": {},
   "source": [
    "## Sample Prep"
   ]
  },
  {
   "cell_type": "code",
   "execution_count": 2,
   "metadata": {},
   "outputs": [
    {
     "data": {
      "text/plain": [
       "TCGA-LUSC    301\n",
       "TCGA-LUAD    287\n",
       "CPTAC-3      209\n",
       "Name: Project ID, dtype: int64"
      ]
     },
     "execution_count": 2,
     "metadata": {},
     "output_type": "execute_result"
    }
   ],
   "source": [
    "samples = pd.read_csv('../data/TCGA/rna-seq_adeno/meta/gdc_sample_sheet.2020-01-27.tsv', sep=\"\\t\")\n",
    "# get file type\n",
    "samples['data'] = [val[1] for i,val in samples['File Name'].str.split(\".\").items()]\n",
    "samples['Project ID'].value_counts()"
   ]
  },
  {
   "cell_type": "markdown",
   "metadata": {},
   "source": [
    "Samples with RNAseq adjacent normal tissue"
   ]
  },
  {
   "cell_type": "code",
   "execution_count": 3,
   "metadata": {},
   "outputs": [
    {
     "data": {
      "text/plain": [
       "Primary Tumor                               558\n",
       "Solid Tissue Normal                         206\n",
       "Primary Tumor, Primary Tumor                 29\n",
       "Solid Tissue Normal, Solid Tissue Normal      4\n",
       "Name: Sample Type, dtype: int64"
      ]
     },
     "execution_count": 3,
     "metadata": {},
     "output_type": "execute_result"
    }
   ],
   "source": [
    "samples['Sample Type'].value_counts()"
   ]
  },
  {
   "cell_type": "code",
   "execution_count": 4,
   "metadata": {},
   "outputs": [],
   "source": [
    "samples.loc[samples['Sample Type']=='Primary Tumor, Primary Tumor', 'Sample Type'] = 'Primary Tumor'\n",
    "samples.loc[samples['Sample Type']=='Solid Tissue Normal, Solid Tissue Normal', 'Sample Type'] = 'Solid Tissue Normal'"
   ]
  },
  {
   "cell_type": "code",
   "execution_count": 5,
   "metadata": {},
   "outputs": [
    {
     "data": {
      "text/plain": [
       "Primary Tumor          587\n",
       "Solid Tissue Normal    210\n",
       "Name: Sample Type, dtype: int64"
      ]
     },
     "execution_count": 5,
     "metadata": {},
     "output_type": "execute_result"
    }
   ],
   "source": [
    "samples['Sample Type'].value_counts()"
   ]
  },
  {
   "cell_type": "code",
   "execution_count": 6,
   "metadata": {},
   "outputs": [],
   "source": [
    "# all cases with adjacent normal tissue\n",
    "cases = samples[samples['Sample Type']=='Solid Tissue Normal']['Case ID']"
   ]
  },
  {
   "cell_type": "code",
   "execution_count": 7,
   "metadata": {},
   "outputs": [
    {
     "data": {
      "text/plain": [
       "176"
      ]
     },
     "execution_count": 7,
     "metadata": {},
     "output_type": "execute_result"
    },
    {
     "data": {
      "text/plain": [
       "210"
      ]
     },
     "execution_count": 7,
     "metadata": {},
     "output_type": "execute_result"
    }
   ],
   "source": [
    "# disparity in cases\n",
    "samples[(samples['Case ID'].isin(cases)) & (samples['Sample Type']=='Primary Tumor') \n",
    "        & (samples['data']=='FPKM')]['Case ID'].nunique()\n",
    "samples[(samples['Case ID'].isin(cases)) & (samples['Sample Type']=='Solid Tissue Normal') \n",
    "        & (samples['data']=='FPKM')]['Case ID'].nunique()"
   ]
  },
  {
   "cell_type": "code",
   "execution_count": 8,
   "metadata": {},
   "outputs": [
    {
     "data": {
      "text/plain": [
       "(187,)"
      ]
     },
     "execution_count": 8,
     "metadata": {},
     "output_type": "execute_result"
    }
   ],
   "source": [
    "# divide, join, subset\n",
    "case_tumor = samples[(samples['Case ID'].isin(cases)) & (samples['Sample Type']=='Primary Tumor') & \n",
    "                     (samples['data']=='FPKM')]\n",
    "case_norm = samples[(samples['Case ID'].isin(cases)) & (samples['Sample Type']=='Solid Tissue Normal') & \n",
    "                    (samples['data']=='FPKM')]\n",
    "cases = pd.merge(case_tumor['Case ID'], case_norm['Case ID'])['Case ID']\n",
    "cases.shape"
   ]
  },
  {
   "cell_type": "code",
   "execution_count": 9,
   "metadata": {},
   "outputs": [],
   "source": [
    "case_tumor = case_tumor[case_tumor['Case ID'].isin(cases)]\n",
    "case_norm = case_norm[case_norm['Case ID'].isin(cases)]\n",
    "cases = pd.concat([case_tumor, case_norm])"
   ]
  },
  {
   "cell_type": "code",
   "execution_count": 10,
   "metadata": {},
   "outputs": [
    {
     "data": {
      "text/plain": [
       "(187, 9)"
      ]
     },
     "execution_count": 10,
     "metadata": {},
     "output_type": "execute_result"
    },
    {
     "data": {
      "text/plain": [
       "(176, 9)"
      ]
     },
     "execution_count": 10,
     "metadata": {},
     "output_type": "execute_result"
    },
    {
     "data": {
      "text/plain": [
       "(363, 9)"
      ]
     },
     "execution_count": 10,
     "metadata": {},
     "output_type": "execute_result"
    }
   ],
   "source": [
    "case_tumor.shape\n",
    "case_norm.shape\n",
    "cases.shape"
   ]
  },
  {
   "cell_type": "markdown",
   "metadata": {},
   "source": [
    "## Dataset Prep"
   ]
  },
  {
   "cell_type": "code",
   "execution_count": 11,
   "metadata": {},
   "outputs": [
    {
     "data": {
      "text/plain": [
       "Primary Tumor          140\n",
       "Solid Tissue Normal    132\n",
       "Name: Sample Type, dtype: int64"
      ]
     },
     "execution_count": 11,
     "metadata": {},
     "output_type": "execute_result"
    },
    {
     "data": {
      "text/plain": [
       "Primary Tumor          47\n",
       "Solid Tissue Normal    44\n",
       "Name: Sample Type, dtype: int64"
      ]
     },
     "execution_count": 11,
     "metadata": {},
     "output_type": "execute_result"
    }
   ],
   "source": [
    "from sklearn.model_selection import train_test_split\n",
    "from sklearn.preprocessing import StandardScaler\n",
    "\n",
    "target = 'Sample Type'\n",
    "cases[target] = cases[target].astype('category')\n",
    "\n",
    "train, test = train_test_split(cases)\n",
    "train[target].value_counts()\n",
    "test[target].value_counts()"
   ]
  },
  {
   "cell_type": "code",
   "execution_count": 12,
   "metadata": {},
   "outputs": [
    {
     "data": {
      "text/plain": [
       "<torch._C.Generator at 0x7f95adf406d0>"
      ]
     },
     "execution_count": 12,
     "metadata": {},
     "output_type": "execute_result"
    },
    {
     "name": "stdout",
     "output_type": "stream",
     "text": [
      "Cuda is available: True\n"
     ]
    },
    {
     "data": {
      "text/plain": [
       "{'Primary Tumor': 0, 'Solid Tissue Normal': 1}"
      ]
     },
     "execution_count": 12,
     "metadata": {},
     "output_type": "execute_result"
    }
   ],
   "source": [
    "import torch\n",
    "from torch.optim import lr_scheduler\n",
    "import torch.optim as optim\n",
    "from torch.autograd import Variable\n",
    "torch.manual_seed(123)\n",
    "\n",
    "from trainer import fit\n",
    "import visualization as vis\n",
    "import numpy as np\n",
    "cuda = torch.cuda.is_available()\n",
    "print(\"Cuda is available: {}\".format(cuda))\n",
    "\n",
    "classes = {key:val for val,key in enumerate(train[target].cat.categories.values)}\n",
    "classes"
   ]
  },
  {
   "cell_type": "code",
   "execution_count": 13,
   "metadata": {},
   "outputs": [
    {
     "name": "stderr",
     "output_type": "stream",
     "text": [
      "/srv/home/wconnell/github/siamese-triplet/tcga_datasets.py:49: FutureWarning: Sorting because non-concatenation axis is not aligned. A future version\n",
      "of pandas will change to not sort by default.\n",
      "\n",
      "To accept the future behavior, pass 'sort=False'.\n",
      "\n",
      "To retain the current behavior and silence the warning, pass 'sort=True'.\n",
      "\n",
      "  df = pd.concat(df_list)\n"
     ]
    }
   ],
   "source": [
    "from tcga_datasets import TCGA, SiameseTCGA\n",
    "root_dir = \"../data/TCGA/rna-seq_adeno/\"\n",
    "batch_size = 1\n",
    "\n",
    "train_dataset = TCGA(root_dir, samples=train, train=True, target=target, norm=False)\n",
    "test_dataset = TCGA(root_dir, samples=test, train=False, target=target, norm=False)\n",
    "\n",
    "scaler = StandardScaler()\n",
    "train_dataset.data = pd.DataFrame(scaler.fit_transform(train_dataset.data),\n",
    "                                  index=train_dataset.data.index,\n",
    "                                  columns=train_dataset.data.columns)\n",
    "test_dataset.data = pd.DataFrame(scaler.transform(test_dataset.data),\n",
    "                                 index=test_dataset.data.index,\n",
    "                                 columns=test_dataset.data.columns)\n",
    "\n",
    "kwargs = {'num_workers': 10, 'pin_memory': True} if cuda else {'num_workers': 10}\n",
    "train_loader = torch.utils.data.DataLoader(train_dataset, batch_size=batch_size, shuffle=True, **kwargs)\n",
    "test_loader = torch.utils.data.DataLoader(test_dataset, batch_size=batch_size, shuffle=False, **kwargs)"
   ]
  },
  {
   "cell_type": "markdown",
   "metadata": {},
   "source": [
    "## Siamese Network"
   ]
  },
  {
   "cell_type": "code",
   "execution_count": 14,
   "metadata": {},
   "outputs": [
    {
     "data": {
      "text/plain": [
       "SiameseNet(\n",
       "  (embedding_net): EmbeddingNet(\n",
       "    (fc): Sequential(\n",
       "      (linear1): Linear(in_features=60483, out_features=2000, bias=True)\n",
       "      (relu1): PReLU(num_parameters=1)\n",
       "      (linear2): Linear(in_features=2000, out_features=500, bias=True)\n",
       "      (relu2): PReLU(num_parameters=1)\n",
       "      (linear3): Linear(in_features=500, out_features=250, bias=True)\n",
       "      (relu3): PReLU(num_parameters=1)\n",
       "      (linear4): Linear(in_features=250, out_features=100, bias=True)\n",
       "      (relu4): PReLU(num_parameters=1)\n",
       "      (linear5): Linear(in_features=100, out_features=50, bias=True)\n",
       "      (relu5): PReLU(num_parameters=1)\n",
       "      (linear6): Linear(in_features=50, out_features=10, bias=True)\n",
       "      (relu6): PReLU(num_parameters=1)\n",
       "      (linear7): Linear(in_features=10, out_features=2, bias=True)\n",
       "    )\n",
       "  )\n",
       ")"
      ]
     },
     "execution_count": 14,
     "metadata": {},
     "output_type": "execute_result"
    }
   ],
   "source": [
    "# Step 1 set up dataloader\n",
    "root_dir = \"../data/TCGA\"\n",
    "siamese_train_dataset = SiameseTCGA(train_dataset) # Returns pairs of images and target same/different\n",
    "siamese_test_dataset = SiameseTCGA(test_dataset)\n",
    "batch_size = 8\n",
    "kwargs = {'num_workers': 10, 'pin_memory': True} if cuda else {}\n",
    "siamese_train_loader = torch.utils.data.DataLoader(siamese_train_dataset, batch_size=batch_size, shuffle=True, **kwargs)\n",
    "siamese_test_loader = torch.utils.data.DataLoader(siamese_test_dataset, batch_size=batch_size, shuffle=False, **kwargs)\n",
    "\n",
    "# Set up the network and training parameters\n",
    "from tcga_networks import EmbeddingNet, SiameseNet\n",
    "from losses import ContrastiveLoss\n",
    "from metrics import AccumulatedAccuracyMetric\n",
    "\n",
    "# Step 2\n",
    "embedding_net = EmbeddingNet()\n",
    "# Step 3\n",
    "model = SiameseNet(embedding_net)\n",
    "if cuda:\n",
    "    model.cuda()\n",
    "    \n",
    "# Step 4\n",
    "margin = 1.\n",
    "loss_fn = ContrastiveLoss(margin)\n",
    "lr = 1e-3\n",
    "optimizer = optim.Adam(model.parameters(), lr=lr)\n",
    "scheduler = lr_scheduler.StepLR(optimizer, 8, gamma=0.1, last_epoch=-1)\n",
    "n_epochs = 20\n",
    "# print training metrics every log_interval * batch_size\n",
    "log_interval = 30"
   ]
  },
  {
   "cell_type": "code",
   "execution_count": 15,
   "metadata": {},
   "outputs": [
    {
     "name": "stdout",
     "output_type": "stream",
     "text": [
      "Train: [0/272 (0%)]\tLoss: 0.186468\n",
      "Train: [240/272 (88%)]\tLoss: 0.573355\n",
      "Epoch: 1/20. Train set: Average loss: 0.5241\n",
      "Epoch: 1/20. Validation set: Average loss: 1.0224\n",
      "Train: [0/272 (0%)]\tLoss: 0.225592\n",
      "Train: [240/272 (88%)]\tLoss: 0.144387\n",
      "Epoch: 2/20. Train set: Average loss: 0.1403\n",
      "Epoch: 2/20. Validation set: Average loss: 0.1574\n",
      "Train: [0/272 (0%)]\tLoss: 0.048625\n",
      "Train: [240/272 (88%)]\tLoss: 0.056677\n",
      "Epoch: 3/20. Train set: Average loss: 0.0552\n",
      "Epoch: 3/20. Validation set: Average loss: 0.0598\n",
      "Train: [0/272 (0%)]\tLoss: 0.051783\n",
      "Train: [240/272 (88%)]\tLoss: 0.021570\n",
      "Epoch: 4/20. Train set: Average loss: 0.0218\n",
      "Epoch: 4/20. Validation set: Average loss: 0.0240\n",
      "Train: [0/272 (0%)]\tLoss: 0.008680\n",
      "Train: [240/272 (88%)]\tLoss: 0.010830\n",
      "Epoch: 5/20. Train set: Average loss: 0.0102\n",
      "Epoch: 5/20. Validation set: Average loss: 0.0387\n",
      "Train: [0/272 (0%)]\tLoss: 0.010867\n",
      "Train: [240/272 (88%)]\tLoss: 0.022442\n",
      "Epoch: 6/20. Train set: Average loss: 0.0212\n",
      "Epoch: 6/20. Validation set: Average loss: 0.0342\n",
      "Train: [0/272 (0%)]\tLoss: 0.015760\n",
      "Train: [240/272 (88%)]\tLoss: 0.018710\n",
      "Epoch: 7/20. Train set: Average loss: 0.0173\n",
      "Epoch: 7/20. Validation set: Average loss: 0.0870\n",
      "Train: [0/272 (0%)]\tLoss: 0.008174\n",
      "Train: [240/272 (88%)]\tLoss: 0.016862\n",
      "Epoch: 8/20. Train set: Average loss: 0.0154\n",
      "Epoch: 8/20. Validation set: Average loss: 0.0987\n",
      "Train: [0/272 (0%)]\tLoss: 0.003375\n",
      "Train: [240/272 (88%)]\tLoss: 0.040779\n",
      "Epoch: 9/20. Train set: Average loss: 0.0376\n",
      "Epoch: 9/20. Validation set: Average loss: 0.2532\n",
      "Train: [0/272 (0%)]\tLoss: 0.007864\n",
      "Train: [240/272 (88%)]\tLoss: 0.083151\n",
      "Epoch: 10/20. Train set: Average loss: 0.0749\n",
      "Epoch: 10/20. Validation set: Average loss: 0.0842\n",
      "Train: [0/272 (0%)]\tLoss: 0.016922\n",
      "Train: [240/272 (88%)]\tLoss: 0.010879\n",
      "Epoch: 11/20. Train set: Average loss: 0.0662\n",
      "Epoch: 11/20. Validation set: Average loss: 0.0263\n",
      "Train: [0/272 (0%)]\tLoss: 0.058007\n",
      "Train: [240/272 (88%)]\tLoss: 0.072536\n",
      "Epoch: 12/20. Train set: Average loss: 0.0660\n",
      "Epoch: 12/20. Validation set: Average loss: 0.0507\n",
      "Train: [0/272 (0%)]\tLoss: 0.002567\n",
      "Train: [240/272 (88%)]\tLoss: 0.007117\n",
      "Epoch: 13/20. Train set: Average loss: 0.0069\n",
      "Epoch: 13/20. Validation set: Average loss: 0.0478\n",
      "Train: [0/272 (0%)]\tLoss: 0.003302\n",
      "Train: [240/272 (88%)]\tLoss: 0.005742\n",
      "Epoch: 14/20. Train set: Average loss: 0.0054\n",
      "Epoch: 14/20. Validation set: Average loss: 0.0385\n",
      "Train: [0/272 (0%)]\tLoss: 0.002223\n",
      "Train: [240/272 (88%)]\tLoss: 0.003623\n",
      "Epoch: 15/20. Train set: Average loss: 0.0034\n",
      "Epoch: 15/20. Validation set: Average loss: 0.0323\n",
      "Train: [0/272 (0%)]\tLoss: 0.001307\n",
      "Train: [240/272 (88%)]\tLoss: 0.002845\n",
      "Epoch: 16/20. Train set: Average loss: 0.0028\n",
      "Epoch: 16/20. Validation set: Average loss: 0.0293\n",
      "Train: [0/272 (0%)]\tLoss: 0.001408\n",
      "Train: [240/272 (88%)]\tLoss: 0.002128\n",
      "Epoch: 17/20. Train set: Average loss: 0.0023\n",
      "Epoch: 17/20. Validation set: Average loss: 0.0291\n",
      "Train: [0/272 (0%)]\tLoss: 0.000903\n",
      "Train: [240/272 (88%)]\tLoss: 0.002984\n",
      "Epoch: 18/20. Train set: Average loss: 0.0028\n",
      "Epoch: 18/20. Validation set: Average loss: 0.0288\n",
      "Train: [0/272 (0%)]\tLoss: 0.001422\n",
      "Train: [240/272 (88%)]\tLoss: 0.002883\n",
      "Epoch: 19/20. Train set: Average loss: 0.0027\n",
      "Epoch: 19/20. Validation set: Average loss: 0.0285\n",
      "Train: [0/272 (0%)]\tLoss: 0.002006\n",
      "Train: [240/272 (88%)]\tLoss: 0.002295\n",
      "Epoch: 20/20. Train set: Average loss: 0.0023\n",
      "Epoch: 20/20. Validation set: Average loss: 0.0281\n"
     ]
    }
   ],
   "source": [
    "train_loss, val_loss = fit(siamese_train_loader, siamese_test_loader, model, loss_fn, optimizer, scheduler, \n",
    "    n_epochs, cuda, log_interval)"
   ]
  },
  {
   "cell_type": "code",
   "execution_count": 16,
   "metadata": {},
   "outputs": [
    {
     "data": {
      "text/plain": [
       "[<matplotlib.lines.Line2D at 0x7f95a597a1d0>]"
      ]
     },
     "execution_count": 16,
     "metadata": {},
     "output_type": "execute_result"
    },
    {
     "data": {
      "text/plain": [
       "[<matplotlib.lines.Line2D at 0x7f95ad79d5f8>]"
      ]
     },
     "execution_count": 16,
     "metadata": {},
     "output_type": "execute_result"
    },
    {
     "data": {
      "image/png": "[encoded data removed]",
      "text/plain": [
       "<Figure size 432x288 with 1 Axes>"
      ]
     },
     "metadata": {
      "needs_background": "light"
     },
     "output_type": "display_data"
    }
   ],
   "source": [
    "plt.plot(range(0, n_epochs), train_loss, 'rx-')\n",
    "plt.plot(range(0, n_epochs), val_loss, 'bx-')"
   ]
  },
  {
   "cell_type": "code",
   "execution_count": 17,
   "metadata": {},
   "outputs": [
    {
     "data": {
      "image/png": "[encoded data removed]",
      "text/plain": [
       "<Figure size 720x720 with 1 Axes>"
      ]
     },
     "metadata": {
      "needs_background": "light"
     },
     "output_type": "display_data"
    }
   ],
   "source": [
    "train_embeddings_cl, train_labels_cl = vis.extract_embeddings(train_loader, model)\n",
    "vis.plot_embeddings(train_embeddings_cl, train_labels_cl, siamese_train_dataset.labels_dict)"
   ]
  },
  {
   "cell_type": "code",
   "execution_count": 18,
   "metadata": {},
   "outputs": [
    {
     "data": {
      "image/png": "[encoded data removed]",
      "text/plain": [
       "<Figure size 720x720 with 1 Axes>"
      ]
     },
     "metadata": {
      "needs_background": "light"
     },
     "output_type": "display_data"
    }
   ],
   "source": [
    "val_embeddings_baseline, val_labels_baseline = vis.extract_embeddings(test_loader, model)\n",
    "vis.plot_embeddings(val_embeddings_baseline, val_labels_baseline, siamese_test_dataset.labels_dict)"
   ]
  },
  {
   "cell_type": "markdown",
   "metadata": {},
   "source": [
    "## Integrated Gradients\n",
    "Test completeness axiom through comparison of different baselines\n",
    "\n",
    "\"Integrated gradients satisfy an\n",
    "axiom called completeness that the attributions add up to\n",
    "the difference between the output of F at the input x and\n",
    "the baseline x'.\""
   ]
  },
  {
   "cell_type": "code",
   "execution_count": 19,
   "metadata": {},
   "outputs": [],
   "source": [
    "import copy\n",
    "from captum.attr import LayerActivation\n",
    "from captum.attr import IntegratedGradients"
   ]
  },
  {
   "cell_type": "code",
   "execution_count": 20,
   "metadata": {},
   "outputs": [],
   "source": [
    "tmp_model = copy.deepcopy(model)"
   ]
  },
  {
   "cell_type": "code",
   "execution_count": 21,
   "metadata": {},
   "outputs": [],
   "source": [
    "def attribution_pairs(SiameseTCGA, exp, ctrl):\n",
    "    # subset different samples\n",
    "    negative_pairs = np.array(SiameseTCGA.test_pairs)\n",
    "    negative_pairs = negative_pairs[negative_pairs[:,2] == 0]\n",
    "    # map labels to integers\n",
    "    ctrl = siamese_test_dataset.labels_dict[ctrl]\n",
    "    exp = siamese_test_dataset.labels_dict[exp]\n",
    "    # ordered indices of samples\n",
    "    ctrl_data = [idx for pair in negative_pairs[:, :2] for idx in pair if np.isin(idx, SiameseTCGA.label_to_indices[ctrl])]\n",
    "    exp_data = [idx for pair in negative_pairs[:, :2] for idx in pair if np.isin(idx, SiameseTCGA.label_to_indices[exp])]\n",
    "    # data\n",
    "    ctrl_data = Variable(SiameseTCGA.test_data[ctrl_data], requires_grad=True)\n",
    "    exp_data = Variable(SiameseTCGA.test_data[exp_data], requires_grad=True)\n",
    "    return ctrl_data, exp_data"
   ]
  },
  {
   "cell_type": "markdown",
   "metadata": {},
   "source": [
    "### IG with Control vector"
   ]
  },
  {
   "cell_type": "code",
   "execution_count": 22,
   "metadata": {},
   "outputs": [],
   "source": [
    "ctrl_data, exp_data = attribution_pairs(siamese_test_dataset, exp='Primary Tumor', ctrl='Solid Tissue Normal')"
   ]
  },
  {
   "cell_type": "code",
   "execution_count": 23,
   "metadata": {},
   "outputs": [],
   "source": [
    "ig = IntegratedGradients(tmp_model.get_embedding)"
   ]
  },
  {
   "cell_type": "code",
   "execution_count": 24,
   "metadata": {},
   "outputs": [],
   "source": [
    "torch.cuda.empty_cache()"
   ]
  },
  {
   "cell_type": "code",
   "execution_count": 25,
   "metadata": {},
   "outputs": [],
   "source": [
    "attr, delta = ig.attribute(exp_data.cuda(), ctrl_data.cuda(), target=0, n_steps=50, return_convergence_delta=True)\n",
    "attr = attr.cpu().detach().numpy()"
   ]
  },
  {
   "cell_type": "code",
   "execution_count": 26,
   "metadata": {},
   "outputs": [
    {
     "data": {
      "text/plain": [
       "(45, 60483)"
      ]
     },
     "execution_count": 26,
     "metadata": {},
     "output_type": "execute_result"
    },
    {
     "data": {
      "text/plain": [
       "array([[<matplotlib.axes._subplots.AxesSubplot object at 0x7f957e47c1d0>]],\n",
       "      dtype=object)"
      ]
     },
     "execution_count": 26,
     "metadata": {},
     "output_type": "execute_result"
    },
    {
     "data": {
      "text/html": [
       "<div>\n",
       "<style scoped>\n",
       "    .dataframe tbody tr th:only-of-type {\n",
       "        vertical-align: middle;\n",
       "    }\n",
       "\n",
       "    .dataframe tbody tr th {\n",
       "        vertical-align: top;\n",
       "    }\n",
       "\n",
       "    .dataframe thead th {\n",
       "        text-align: right;\n",
       "    }\n",
       "</style>\n",
       "<table border=\"1\" class=\"dataframe\">\n",
       "  <thead>\n",
       "    <tr style=\"text-align: right;\">\n",
       "      <th></th>\n",
       "      <th>Attribution</th>\n",
       "    </tr>\n",
       "  </thead>\n",
       "  <tbody>\n",
       "    <tr>\n",
       "      <th>count</th>\n",
       "      <td>60483.000000</td>\n",
       "    </tr>\n",
       "    <tr>\n",
       "      <th>mean</th>\n",
       "      <td>0.000014</td>\n",
       "    </tr>\n",
       "    <tr>\n",
       "      <th>std</th>\n",
       "      <td>0.000040</td>\n",
       "    </tr>\n",
       "    <tr>\n",
       "      <th>min</th>\n",
       "      <td>-0.002897</td>\n",
       "    </tr>\n",
       "    <tr>\n",
       "      <th>25%</th>\n",
       "      <td>0.000000</td>\n",
       "    </tr>\n",
       "    <tr>\n",
       "      <th>50%</th>\n",
       "      <td>0.000004</td>\n",
       "    </tr>\n",
       "    <tr>\n",
       "      <th>75%</th>\n",
       "      <td>0.000017</td>\n",
       "    </tr>\n",
       "    <tr>\n",
       "      <th>max</th>\n",
       "      <td>0.003428</td>\n",
       "    </tr>\n",
       "  </tbody>\n",
       "</table>\n",
       "</div>"
      ],
      "text/plain": [
       "        Attribution\n",
       "count  60483.000000\n",
       "mean       0.000014\n",
       "std        0.000040\n",
       "min       -0.002897\n",
       "25%        0.000000\n",
       "50%        0.000004\n",
       "75%        0.000017\n",
       "max        0.003428"
      ]
     },
     "execution_count": 26,
     "metadata": {},
     "output_type": "execute_result"
    },
    {
     "data": {
      "text/html": [
       "<div>\n",
       "<style scoped>\n",
       "    .dataframe tbody tr th:only-of-type {\n",
       "        vertical-align: middle;\n",
       "    }\n",
       "\n",
       "    .dataframe tbody tr th {\n",
       "        vertical-align: top;\n",
       "    }\n",
       "\n",
       "    .dataframe thead th {\n",
       "        text-align: right;\n",
       "    }\n",
       "</style>\n",
       "<table border=\"1\" class=\"dataframe\">\n",
       "  <thead>\n",
       "    <tr style=\"text-align: right;\">\n",
       "      <th></th>\n",
       "      <th>Attribution</th>\n",
       "    </tr>\n",
       "  </thead>\n",
       "  <tbody>\n",
       "    <tr>\n",
       "      <th>ENSG00000214266.2</th>\n",
       "      <td>0.003428</td>\n",
       "    </tr>\n",
       "    <tr>\n",
       "      <th>ENSG00000254490.1</th>\n",
       "      <td>0.002394</td>\n",
       "    </tr>\n",
       "    <tr>\n",
       "      <th>ENSG00000261122.5</th>\n",
       "      <td>0.001553</td>\n",
       "    </tr>\n",
       "    <tr>\n",
       "      <th>ENSG00000227982.1</th>\n",
       "      <td>0.001545</td>\n",
       "    </tr>\n",
       "    <tr>\n",
       "      <th>ENSG00000275664.1</th>\n",
       "      <td>0.001203</td>\n",
       "    </tr>\n",
       "    <tr>\n",
       "      <th>ENSG00000261398.1</th>\n",
       "      <td>0.001046</td>\n",
       "    </tr>\n",
       "    <tr>\n",
       "      <th>ENSG00000260516.2</th>\n",
       "      <td>0.000992</td>\n",
       "    </tr>\n",
       "    <tr>\n",
       "      <th>ENSG00000269466.2</th>\n",
       "      <td>0.000907</td>\n",
       "    </tr>\n",
       "    <tr>\n",
       "      <th>ENSG00000211626.2</th>\n",
       "      <td>0.000766</td>\n",
       "    </tr>\n",
       "    <tr>\n",
       "      <th>ENSG00000278052.1</th>\n",
       "      <td>0.000758</td>\n",
       "    </tr>\n",
       "  </tbody>\n",
       "</table>\n",
       "</div>"
      ],
      "text/plain": [
       "                   Attribution\n",
       "ENSG00000214266.2     0.003428\n",
       "ENSG00000254490.1     0.002394\n",
       "ENSG00000261122.5     0.001553\n",
       "ENSG00000227982.1     0.001545\n",
       "ENSG00000275664.1     0.001203\n",
       "ENSG00000261398.1     0.001046\n",
       "ENSG00000260516.2     0.000992\n",
       "ENSG00000269466.2     0.000907\n",
       "ENSG00000211626.2     0.000766\n",
       "ENSG00000278052.1     0.000758"
      ]
     },
     "execution_count": 26,
     "metadata": {},
     "output_type": "execute_result"
    },
    {
     "data": {
      "image/png": "[encoded data removed]",
      "text/plain": [
       "<Figure size 432x288 with 1 Axes>"
      ]
     },
     "metadata": {
      "needs_background": "light"
     },
     "output_type": "display_data"
    }
   ],
   "source": [
    "attr.shape\n",
    "feat_imp = pd.DataFrame(data=attr.mean(axis=0), index=train_dataset.data.columns, columns=['Attribution'])\n",
    "feat_imp.hist(bins=100)\n",
    "feat_imp.describe()\n",
    "feat_imp.nlargest(10, columns='Attribution')"
   ]
  },
  {
   "cell_type": "markdown",
   "metadata": {},
   "source": [
    "### Test completeness axiom\n",
    "- Euclidean Distance between samples\n",
    "- feature attribution sum\n",
    "- difference between"
   ]
  },
  {
   "cell_type": "code",
   "execution_count": 27,
   "metadata": {},
   "outputs": [
    {
     "data": {
      "text/plain": [
       "591.21716"
      ]
     },
     "execution_count": 27,
     "metadata": {},
     "output_type": "execute_result"
    },
    {
     "data": {
      "text/plain": [
       "443.92"
      ]
     },
     "execution_count": 27,
     "metadata": {},
     "output_type": "execute_result"
    },
    {
     "data": {
      "text/plain": [
       "508565.25"
      ]
     },
     "execution_count": 27,
     "metadata": {},
     "output_type": "execute_result"
    }
   ],
   "source": [
    "pdist = torch.nn.PairwiseDistance(p=2)\n",
    "outdist = pdist(exp_data, ctrl_data)\n",
    "\n",
    "diff = np.round(outdist.detach().numpy() - attr.sum(axis=1), 3)\n",
    "diff.mean(); np.median(diff); diff.var()"
   ]
  },
  {
   "cell_type": "markdown",
   "metadata": {},
   "source": [
    "#### Inspect individual sample attributions"
   ]
  },
  {
   "cell_type": "code",
   "execution_count": 28,
   "metadata": {},
   "outputs": [
    {
     "data": {
      "text/plain": [
       "ENSG00000100721.9     0.004661\n",
       "ENSG00000170054.13    0.002761\n",
       "ENSG00000268804.1     0.002568\n",
       "ENSG00000170412.15    0.002566\n",
       "ENSG00000257275.5     0.002529\n",
       "ENSG00000260303.1     0.002485\n",
       "ENSG00000258214.1     0.002458\n",
       "ENSG00000012124.13    0.002264\n",
       "ENSG00000111732.9     0.002123\n",
       "ENSG00000162897.13    0.001910\n",
       "dtype: float32"
      ]
     },
     "execution_count": 28,
     "metadata": {},
     "output_type": "execute_result"
    },
    {
     "data": {
      "text/plain": [
       "ENSG00000184148.3    0.012861\n",
       "ENSG00000224308.1    0.009923\n",
       "ENSG00000224784.2    0.008665\n",
       "ENSG00000234089.1    0.007951\n",
       "ENSG00000260402.1    0.005879\n",
       "ENSG00000188508.9    0.005172\n",
       "ENSG00000163202.4    0.004125\n",
       "ENSG00000215853.3    0.003651\n",
       "ENSG00000276401.1    0.003466\n",
       "ENSG00000167769.4    0.003426\n",
       "dtype: float32"
      ]
     },
     "execution_count": 28,
     "metadata": {},
     "output_type": "execute_result"
    },
    {
     "data": {
      "text/plain": [
       "ENSG00000260516.2     0.011841\n",
       "ENSG00000202095.1     0.004255\n",
       "ENSG00000250453.1     0.002821\n",
       "ENSG00000187730.7     0.002074\n",
       "ENSG00000270008.1     0.001640\n",
       "ENSG00000263252.1     0.001424\n",
       "ENSG00000233542.1     0.001363\n",
       "ENSG00000259786.5     0.001358\n",
       "ENSG00000178773.13    0.001356\n",
       "ENSG00000277878.1     0.001350\n",
       "dtype: float32"
      ]
     },
     "execution_count": 28,
     "metadata": {},
     "output_type": "execute_result"
    },
    {
     "data": {
      "text/plain": [
       "ENSG00000198125.11    0.003206\n",
       "ENSG00000136457.8     0.002495\n",
       "ENSG00000206549.11    0.002480\n",
       "ENSG00000234481.1     0.002349\n",
       "ENSG00000213130.3     0.002339\n",
       "ENSG00000200213.1     0.002325\n",
       "ENSG00000213355.3     0.002102\n",
       "ENSG00000179913.9     0.001851\n",
       "ENSG00000189037.7     0.001757\n",
       "ENSG00000275270.1     0.001586\n",
       "dtype: float32"
      ]
     },
     "execution_count": 28,
     "metadata": {},
     "output_type": "execute_result"
    },
    {
     "data": {
      "text/plain": [
       "ENSG00000211626.2    0.032754\n",
       "ENSG00000268997.1    0.005099\n",
       "ENSG00000265268.1    0.004886\n",
       "ENSG00000164821.4    0.003797\n",
       "ENSG00000270008.1    0.003122\n",
       "ENSG00000239839.4    0.002953\n",
       "ENSG00000222998.1    0.002347\n",
       "ENSG00000253818.1    0.002083\n",
       "ENSG00000273047.1    0.001835\n",
       "ENSG00000243828.2    0.001793\n",
       "dtype: float32"
      ]
     },
     "execution_count": 28,
     "metadata": {},
     "output_type": "execute_result"
    },
    {
     "data": {
      "text/plain": [
       "ENSG00000277907.1    0.014471\n",
       "ENSG00000251113.2    0.012224\n",
       "ENSG00000205495.1    0.011679\n",
       "ENSG00000189052.6    0.006929\n",
       "ENSG00000226619.1    0.005697\n",
       "ENSG00000230275.2    0.004942\n",
       "ENSG00000266984.1    0.004880\n",
       "ENSG00000235810.1    0.004765\n",
       "ENSG00000226250.1    0.004710\n",
       "ENSG00000258392.1    0.003097\n",
       "dtype: float32"
      ]
     },
     "execution_count": 28,
     "metadata": {},
     "output_type": "execute_result"
    },
    {
     "data": {
      "text/plain": [
       "ENSG00000205922.4     0.011113\n",
       "ENSG00000169903.6     0.006124\n",
       "ENSG00000144852.15    0.003932\n",
       "ENSG00000094755.15    0.003788\n",
       "ENSG00000140279.11    0.003326\n",
       "ENSG00000140274.12    0.003032\n",
       "ENSG00000228847.1     0.003024\n",
       "ENSG00000278566.1     0.002738\n",
       "ENSG00000179674.3     0.002591\n",
       "ENSG00000236160.1     0.002591\n",
       "dtype: float32"
      ]
     },
     "execution_count": 28,
     "metadata": {},
     "output_type": "execute_result"
    },
    {
     "data": {
      "text/plain": [
       "ENSG00000260516.2     0.005945\n",
       "ENSG00000223485.1     0.002615\n",
       "ENSG00000230668.1     0.002166\n",
       "ENSG00000184163.3     0.001845\n",
       "ENSG00000129152.3     0.001183\n",
       "ENSG00000259822.2     0.001055\n",
       "ENSG00000271693.1     0.000983\n",
       "ENSG00000229774.1     0.000927\n",
       "ENSG00000262526.2     0.000852\n",
       "ENSG00000183034.11    0.000773\n",
       "dtype: float32"
      ]
     },
     "execution_count": 28,
     "metadata": {},
     "output_type": "execute_result"
    },
    {
     "data": {
      "text/plain": [
       "ENSG00000198176.11    0.004784\n",
       "ENSG00000150403.16    0.003570\n",
       "ENSG00000186115.11    0.002655\n",
       "ENSG00000232167.1     0.001933\n",
       "ENSG00000269376.1     0.001760\n",
       "ENSG00000226947.1     0.001565\n",
       "ENSG00000264067.1     0.001531\n",
       "ENSG00000215881.3     0.001428\n",
       "ENSG00000185974.6     0.001277\n",
       "ENSG00000235689.1     0.001184\n",
       "dtype: float32"
      ]
     },
     "execution_count": 28,
     "metadata": {},
     "output_type": "execute_result"
    },
    {
     "data": {
      "text/plain": [
       "ENSG00000101180.14    0.005041\n",
       "ENSG00000261398.1     0.004667\n",
       "ENSG00000278052.1     0.004195\n",
       "ENSG00000169059.11    0.003256\n",
       "ENSG00000276411.1     0.003234\n",
       "ENSG00000223591.4     0.003060\n",
       "ENSG00000263692.1     0.003002\n",
       "ENSG00000214880.3     0.002457\n",
       "ENSG00000278933.1     0.002189\n",
       "ENSG00000265865.1     0.002131\n",
       "dtype: float32"
      ]
     },
     "execution_count": 28,
     "metadata": {},
     "output_type": "execute_result"
    },
    {
     "data": {
      "text/plain": [
       "ENSG00000241088.2     0.016238\n",
       "ENSG00000277096.1     0.010904\n",
       "ENSG00000267487.1     0.010163\n",
       "ENSG00000172016.14    0.009109\n",
       "ENSG00000169605.5     0.007277\n",
       "ENSG00000144852.15    0.006720\n",
       "ENSG00000225801.1     0.006129\n",
       "ENSG00000169876.12    0.003645\n",
       "ENSG00000265268.1     0.003377\n",
       "ENSG00000134193.13    0.003140\n",
       "dtype: float32"
      ]
     },
     "execution_count": 28,
     "metadata": {},
     "output_type": "execute_result"
    },
    {
     "data": {
      "text/plain": [
       "ENSG00000276661.1    0.024423\n",
       "ENSG00000232299.1    0.017581\n",
       "ENSG00000094796.4    0.005798\n",
       "ENSG00000242837.1    0.004879\n",
       "ENSG00000204705.3    0.004497\n",
       "ENSG00000238957.1    0.004398\n",
       "ENSG00000228286.3    0.004276\n",
       "ENSG00000226397.6    0.003711\n",
       "ENSG00000226331.1    0.003064\n",
       "ENSG00000127530.2    0.002439\n",
       "dtype: float32"
      ]
     },
     "execution_count": 28,
     "metadata": {},
     "output_type": "execute_result"
    },
    {
     "data": {
      "text/plain": [
       "ENSG00000260516.2     0.009900\n",
       "ENSG00000202095.1     0.003039\n",
       "ENSG00000187730.7     0.001874\n",
       "ENSG00000233542.1     0.001281\n",
       "ENSG00000263252.1     0.001272\n",
       "ENSG00000187954.11    0.001146\n",
       "ENSG00000266403.1     0.001142\n",
       "ENSG00000178773.13    0.001074\n",
       "ENSG00000207695.1     0.001056\n",
       "ENSG00000264574.1     0.001055\n",
       "dtype: float32"
      ]
     },
     "execution_count": 28,
     "metadata": {},
     "output_type": "execute_result"
    },
    {
     "data": {
      "text/plain": [
       "ENSG00000241088.2     0.014087\n",
       "ENSG00000277096.1     0.007826\n",
       "ENSG00000169605.5     0.007290\n",
       "ENSG00000172016.14    0.006881\n",
       "ENSG00000267487.1     0.006018\n",
       "ENSG00000144852.15    0.005669\n",
       "ENSG00000169876.12    0.003839\n",
       "ENSG00000134193.13    0.003163\n",
       "ENSG00000232167.1     0.002638\n",
       "ENSG00000267726.1     0.002610\n",
       "dtype: float32"
      ]
     },
     "execution_count": 28,
     "metadata": {},
     "output_type": "execute_result"
    },
    {
     "data": {
      "text/plain": [
       "ENSG00000261398.1     0.012259\n",
       "ENSG00000223591.4     0.009083\n",
       "ENSG00000278052.1     0.008492\n",
       "ENSG00000214880.3     0.007309\n",
       "ENSG00000273734.1     0.006724\n",
       "ENSG00000263692.1     0.006660\n",
       "ENSG00000101180.14    0.005654\n",
       "ENSG00000278933.1     0.005114\n",
       "ENSG00000265865.1     0.004498\n",
       "ENSG00000265352.1     0.004035\n",
       "dtype: float32"
      ]
     },
     "execution_count": 28,
     "metadata": {},
     "output_type": "execute_result"
    },
    {
     "data": {
      "text/plain": [
       "ENSG00000232390.3    0.006776\n",
       "ENSG00000228460.1    0.001976\n",
       "ENSG00000279585.1    0.001713\n",
       "ENSG00000229859.7    0.001486\n",
       "ENSG00000275395.3    0.001475\n",
       "ENSG00000266647.1    0.001462\n",
       "ENSG00000251430.1    0.001383\n",
       "ENSG00000237674.1    0.001319\n",
       "ENSG00000242248.2    0.001172\n",
       "ENSG00000270709.1    0.001071\n",
       "dtype: float32"
      ]
     },
     "execution_count": 28,
     "metadata": {},
     "output_type": "execute_result"
    },
    {
     "data": {
      "text/plain": [
       "ENSG00000134207.13    0.003156\n",
       "ENSG00000232167.1     0.002904\n",
       "ENSG00000116774.10    0.001574\n",
       "ENSG00000184388.5     0.001533\n",
       "ENSG00000281366.1     0.001410\n",
       "ENSG00000143320.7     0.001258\n",
       "ENSG00000121690.8     0.001222\n",
       "ENSG00000272558.1     0.001214\n",
       "ENSG00000150594.6     0.001099\n",
       "ENSG00000006756.14    0.001073\n",
       "dtype: float32"
      ]
     },
     "execution_count": 28,
     "metadata": {},
     "output_type": "execute_result"
    },
    {
     "data": {
      "text/plain": [
       "ENSG00000268221.4     0.001748\n",
       "ENSG00000214978.7     0.001731\n",
       "ENSG00000223765.2     0.001704\n",
       "ENSG00000173227.12    0.001636\n",
       "ENSG00000101470.8     0.001444\n",
       "ENSG00000228105.1     0.001206\n",
       "ENSG00000137270.10    0.001198\n",
       "ENSG00000184368.14    0.001198\n",
       "ENSG00000188672.15    0.001052\n",
       "ENSG00000131142.12    0.001012\n",
       "dtype: float32"
      ]
     },
     "execution_count": 28,
     "metadata": {},
     "output_type": "execute_result"
    },
    {
     "data": {
      "text/plain": [
       "ENSG00000227982.1    0.068986\n",
       "ENSG00000275664.1    0.054148\n",
       "ENSG00000255086.1    0.024932\n",
       "ENSG00000255454.1    0.020839\n",
       "ENSG00000232610.1    0.019710\n",
       "ENSG00000230066.4    0.014554\n",
       "ENSG00000254456.4    0.007841\n",
       "ENSG00000182348.6    0.007440\n",
       "ENSG00000225478.2    0.006813\n",
       "ENSG00000240298.3    0.005942\n",
       "dtype: float32"
      ]
     },
     "execution_count": 28,
     "metadata": {},
     "output_type": "execute_result"
    },
    {
     "data": {
      "text/plain": [
       "ENSG00000267670.1     0.001834\n",
       "ENSG00000143320.7     0.001570\n",
       "ENSG00000187642.8     0.001469\n",
       "ENSG00000167749.10    0.001337\n",
       "ENSG00000099937.9     0.001300\n",
       "ENSG00000133710.14    0.001042\n",
       "ENSG00000251470.1     0.001028\n",
       "ENSG00000188379.6     0.000981\n",
       "ENSG00000182325.9     0.000939\n",
       "ENSG00000261745.2     0.000921\n",
       "dtype: float32"
      ]
     },
     "execution_count": 28,
     "metadata": {},
     "output_type": "execute_result"
    },
    {
     "data": {
      "text/plain": [
       "ENSG00000204362.5     0.004375\n",
       "ENSG00000258421.2     0.001758\n",
       "ENSG00000257017.7     0.001618\n",
       "ENSG00000266890.1     0.001585\n",
       "ENSG00000271111.1     0.001576\n",
       "ENSG00000244621.1     0.001515\n",
       "ENSG00000252395.2     0.001438\n",
       "ENSG00000243828.2     0.001378\n",
       "ENSG00000268221.4     0.001335\n",
       "ENSG00000166391.13    0.001296\n",
       "dtype: float32"
      ]
     },
     "execution_count": 28,
     "metadata": {},
     "output_type": "execute_result"
    },
    {
     "data": {
      "text/plain": [
       "ENSG00000214266.2     0.154259\n",
       "ENSG00000270359.1     0.001890\n",
       "ENSG00000253107.1     0.001833\n",
       "ENSG00000166391.13    0.001308\n",
       "ENSG00000137270.10    0.001126\n",
       "ENSG00000212518.1     0.001074\n",
       "ENSG00000237235.2     0.000994\n",
       "ENSG00000250258.1     0.000945\n",
       "ENSG00000185319.5     0.000884\n",
       "ENSG00000230804.2     0.000799\n",
       "dtype: float32"
      ]
     },
     "execution_count": 28,
     "metadata": {},
     "output_type": "execute_result"
    },
    {
     "data": {
      "text/plain": [
       "ENSG00000228771.1    0.002331\n",
       "ENSG00000227058.1    0.002080\n",
       "ENSG00000182489.8    0.001521\n",
       "ENSG00000224589.1    0.001231\n",
       "ENSG00000224122.1    0.001168\n",
       "ENSG00000230628.1    0.001127\n",
       "ENSG00000233083.1    0.001125\n",
       "ENSG00000179031.8    0.001038\n",
       "ENSG00000227538.1    0.000933\n",
       "ENSG00000266584.1    0.000920\n",
       "dtype: float32"
      ]
     },
     "execution_count": 28,
     "metadata": {},
     "output_type": "execute_result"
    },
    {
     "data": {
      "text/plain": [
       "ENSG00000261398.1     0.005808\n",
       "ENSG00000101180.14    0.005379\n",
       "ENSG00000278052.1     0.004608\n",
       "ENSG00000169059.11    0.003466\n",
       "ENSG00000223591.4     0.003445\n",
       "ENSG00000276411.1     0.003394\n",
       "ENSG00000214880.3     0.003157\n",
       "ENSG00000263692.1     0.002864\n",
       "ENSG00000265865.1     0.002480\n",
       "ENSG00000278933.1     0.002236\n",
       "dtype: float32"
      ]
     },
     "execution_count": 28,
     "metadata": {},
     "output_type": "execute_result"
    },
    {
     "data": {
      "text/plain": [
       "ENSG00000226785.1     0.008895\n",
       "ENSG00000253417.4     0.006894\n",
       "ENSG00000253593.2     0.002090\n",
       "ENSG00000266530.1     0.001708\n",
       "ENSG00000224437.2     0.001416\n",
       "ENSG00000278465.1     0.001284\n",
       "ENSG00000114455.12    0.001261\n",
       "ENSG00000118322.11    0.001250\n",
       "ENSG00000133710.14    0.001171\n",
       "ENSG00000148702.13    0.001095\n",
       "dtype: float32"
      ]
     },
     "execution_count": 28,
     "metadata": {},
     "output_type": "execute_result"
    },
    {
     "data": {
      "text/plain": [
       "ENSG00000273330.1    0.004278\n",
       "ENSG00000253920.1    0.002603\n",
       "ENSG00000253338.1    0.002509\n",
       "ENSG00000250585.1    0.002495\n",
       "ENSG00000223128.1    0.002309\n",
       "ENSG00000226442.2    0.001747\n",
       "ENSG00000204548.3    0.001550\n",
       "ENSG00000251430.1    0.001482\n",
       "ENSG00000230502.1    0.001468\n",
       "ENSG00000131068.3    0.001431\n",
       "dtype: float32"
      ]
     },
     "execution_count": 28,
     "metadata": {},
     "output_type": "execute_result"
    },
    {
     "data": {
      "text/plain": [
       "ENSG00000260516.2     0.014954\n",
       "ENSG00000202095.1     0.004932\n",
       "ENSG00000250453.1     0.003636\n",
       "ENSG00000187730.7     0.002619\n",
       "ENSG00000277878.1     0.002064\n",
       "ENSG00000270008.1     0.002035\n",
       "ENSG00000259786.5     0.001735\n",
       "ENSG00000263252.1     0.001729\n",
       "ENSG00000163687.12    0.001570\n",
       "ENSG00000248391.4     0.001555\n",
       "dtype: float32"
      ]
     },
     "execution_count": 28,
     "metadata": {},
     "output_type": "execute_result"
    },
    {
     "data": {
      "text/plain": [
       "ENSG00000261122.5    0.068502\n",
       "ENSG00000253692.3    0.023185\n",
       "ENSG00000214897.3    0.018415\n",
       "ENSG00000236473.1    0.016265\n",
       "ENSG00000234859.4    0.016191\n",
       "ENSG00000254490.1    0.015644\n",
       "ENSG00000252673.1    0.014939\n",
       "ENSG00000237480.1    0.014394\n",
       "ENSG00000252587.1    0.012821\n",
       "ENSG00000230066.4    0.012133\n",
       "dtype: float32"
      ]
     },
     "execution_count": 28,
     "metadata": {},
     "output_type": "execute_result"
    },
    {
     "data": {
      "text/plain": [
       "ENSG00000234089.1     0.006823\n",
       "ENSG00000233206.1     0.002577\n",
       "ENSG00000270865.1     0.002339\n",
       "ENSG00000116711.9     0.002285\n",
       "ENSG00000249896.1     0.001972\n",
       "ENSG00000224318.4     0.001816\n",
       "ENSG00000137825.9     0.001751\n",
       "ENSG00000148386.8     0.001730\n",
       "ENSG00000108602.16    0.001701\n",
       "ENSG00000187045.15    0.001695\n",
       "dtype: float32"
      ]
     },
     "execution_count": 28,
     "metadata": {},
     "output_type": "execute_result"
    },
    {
     "data": {
      "text/plain": [
       "ENSG00000261398.1     0.012093\n",
       "ENSG00000223591.4     0.008977\n",
       "ENSG00000278052.1     0.008320\n",
       "ENSG00000214880.3     0.007157\n",
       "ENSG00000263692.1     0.006558\n",
       "ENSG00000101180.14    0.005885\n",
       "ENSG00000278933.1     0.005034\n",
       "ENSG00000265865.1     0.004447\n",
       "ENSG00000265352.1     0.003893\n",
       "ENSG00000169059.11    0.003888\n",
       "dtype: float32"
      ]
     },
     "execution_count": 28,
     "metadata": {},
     "output_type": "execute_result"
    },
    {
     "data": {
      "text/plain": [
       "ENSG00000254490.1    0.092091\n",
       "ENSG00000230275.2    0.008721\n",
       "ENSG00000205495.1    0.007012\n",
       "ENSG00000235592.1    0.003448\n",
       "ENSG00000274116.1    0.003301\n",
       "ENSG00000232735.2    0.003253\n",
       "ENSG00000263692.1    0.002867\n",
       "ENSG00000185638.9    0.002639\n",
       "ENSG00000266319.1    0.002428\n",
       "ENSG00000240895.1    0.002146\n",
       "dtype: float32"
      ]
     },
     "execution_count": 28,
     "metadata": {},
     "output_type": "execute_result"
    },
    {
     "data": {
      "text/plain": [
       "ENSG00000214978.7     0.003979\n",
       "ENSG00000173227.12    0.002579\n",
       "ENSG00000101470.8     0.002419\n",
       "ENSG00000228105.1     0.002251\n",
       "ENSG00000222805.1     0.001982\n",
       "ENSG00000184368.14    0.001652\n",
       "ENSG00000137270.10    0.001626\n",
       "ENSG00000170054.13    0.001607\n",
       "ENSG00000173237.4     0.001578\n",
       "ENSG00000131142.12    0.001558\n",
       "dtype: float32"
      ]
     },
     "execution_count": 28,
     "metadata": {},
     "output_type": "execute_result"
    },
    {
     "data": {
      "text/plain": [
       "ENSG00000276118.1    0.003177\n",
       "ENSG00000263967.1    0.002968\n",
       "ENSG00000197023.6    0.002796\n",
       "ENSG00000251973.1    0.002418\n",
       "ENSG00000176925.6    0.002225\n",
       "ENSG00000231070.1    0.002071\n",
       "ENSG00000197984.3    0.002063\n",
       "ENSG00000176922.3    0.002023\n",
       "ENSG00000272559.1    0.001644\n",
       "ENSG00000270008.1    0.001549\n",
       "dtype: float32"
      ]
     },
     "execution_count": 28,
     "metadata": {},
     "output_type": "execute_result"
    },
    {
     "data": {
      "text/plain": [
       "ENSG00000269466.2     0.031278\n",
       "ENSG00000101470.8     0.007783\n",
       "ENSG00000236081.1     0.003750\n",
       "ENSG00000150594.6     0.003644\n",
       "ENSG00000168930.12    0.003041\n",
       "ENSG00000230522.4     0.002987\n",
       "ENSG00000213247.3     0.002817\n",
       "ENSG00000260997.1     0.002639\n",
       "ENSG00000134207.13    0.002324\n",
       "ENSG00000105549.9     0.002261\n",
       "dtype: float32"
      ]
     },
     "execution_count": 28,
     "metadata": {},
     "output_type": "execute_result"
    },
    {
     "data": {
      "text/plain": [
       "ENSG00000235719.3    0.005756\n",
       "ENSG00000232286.1    0.004306\n",
       "ENSG00000226376.1    0.004012\n",
       "ENSG00000231743.1    0.003943\n",
       "ENSG00000129873.6    0.003230\n",
       "ENSG00000214185.3    0.003149\n",
       "ENSG00000275773.1    0.001700\n",
       "ENSG00000260611.1    0.001611\n",
       "ENSG00000233531.1    0.001596\n",
       "ENSG00000144962.6    0.001580\n",
       "dtype: float32"
      ]
     },
     "execution_count": 28,
     "metadata": {},
     "output_type": "execute_result"
    },
    {
     "data": {
      "text/plain": [
       "ENSG00000224294.1    0.003170\n",
       "ENSG00000270280.1    0.002596\n",
       "ENSG00000260983.1    0.002536\n",
       "ENSG00000274527.3    0.002506\n",
       "ENSG00000238785.1    0.001752\n",
       "ENSG00000264410.1    0.001713\n",
       "ENSG00000230720.1    0.001696\n",
       "ENSG00000277372.1    0.001638\n",
       "ENSG00000221764.1    0.001635\n",
       "ENSG00000274133.1    0.001510\n",
       "dtype: float32"
      ]
     },
     "execution_count": 28,
     "metadata": {},
     "output_type": "execute_result"
    },
    {
     "data": {
      "text/plain": [
       "ENSG00000198125.11    0.002959\n",
       "ENSG00000206549.11    0.002538\n",
       "ENSG00000136457.8     0.002276\n",
       "ENSG00000234481.1     0.002219\n",
       "ENSG00000213130.3     0.002198\n",
       "ENSG00000173714.7     0.002025\n",
       "ENSG00000200213.1     0.001984\n",
       "ENSG00000179913.9     0.001741\n",
       "ENSG00000189037.7     0.001707\n",
       "ENSG00000213355.3     0.001577\n",
       "dtype: float32"
      ]
     },
     "execution_count": 28,
     "metadata": {},
     "output_type": "execute_result"
    },
    {
     "data": {
      "text/plain": [
       "ENSG00000102837.6    0.019450\n",
       "ENSG00000231743.1    0.004185\n",
       "ENSG00000243945.1    0.004152\n",
       "ENSG00000230158.1    0.003177\n",
       "ENSG00000237235.2    0.002729\n",
       "ENSG00000239001.1    0.002327\n",
       "ENSG00000189052.6    0.002248\n",
       "ENSG00000178084.1    0.002089\n",
       "ENSG00000206983.1    0.001748\n",
       "ENSG00000200171.1    0.001651\n",
       "dtype: float32"
      ]
     },
     "execution_count": 28,
     "metadata": {},
     "output_type": "execute_result"
    },
    {
     "data": {
      "text/plain": [
       "ENSG00000227922.1     0.001697\n",
       "ENSG00000215296.8     0.001493\n",
       "ENSG00000233138.1     0.001333\n",
       "ENSG00000149635.2     0.001315\n",
       "ENSG00000260777.1     0.001231\n",
       "ENSG00000225612.1     0.001217\n",
       "ENSG00000214324.4     0.001216\n",
       "ENSG00000229649.1     0.001132\n",
       "ENSG00000130766.4     0.001131\n",
       "ENSG00000140107.10    0.001125\n",
       "dtype: float32"
      ]
     },
     "execution_count": 28,
     "metadata": {},
     "output_type": "execute_result"
    },
    {
     "data": {
      "text/plain": [
       "ENSG00000257522.4     0.006873\n",
       "ENSG00000221527.1     0.002015\n",
       "ENSG00000207728.1     0.001740\n",
       "ENSG00000229322.1     0.001732\n",
       "ENSG00000164509.12    0.001699\n",
       "ENSG00000278919.1     0.001485\n",
       "ENSG00000270961.1     0.001341\n",
       "ENSG00000230158.1     0.001285\n",
       "ENSG00000215124.2     0.001255\n",
       "ENSG00000279547.1     0.001213\n",
       "dtype: float32"
      ]
     },
     "execution_count": 28,
     "metadata": {},
     "output_type": "execute_result"
    },
    {
     "data": {
      "text/plain": [
       "ENSG00000261398.1     0.011324\n",
       "ENSG00000223591.4     0.008862\n",
       "ENSG00000278052.1     0.008494\n",
       "ENSG00000214880.3     0.006987\n",
       "ENSG00000263692.1     0.006528\n",
       "ENSG00000101180.14    0.005887\n",
       "ENSG00000278933.1     0.005129\n",
       "ENSG00000265865.1     0.004485\n",
       "ENSG00000169059.11    0.003855\n",
       "ENSG00000276411.1     0.003357\n",
       "dtype: float32"
      ]
     },
     "execution_count": 28,
     "metadata": {},
     "output_type": "execute_result"
    },
    {
     "data": {
      "text/plain": [
       "ENSG00000262526.2     0.002033\n",
       "ENSG00000136931.8     0.001509\n",
       "ENSG00000112273.6     0.000806\n",
       "ENSG00000235281.1     0.000753\n",
       "ENSG00000189052.6     0.000720\n",
       "ENSG00000087494.14    0.000703\n",
       "ENSG00000234476.1     0.000685\n",
       "ENSG00000229544.8     0.000678\n",
       "ENSG00000226629.1     0.000658\n",
       "ENSG00000231322.4     0.000619\n",
       "dtype: float32"
      ]
     },
     "execution_count": 28,
     "metadata": {},
     "output_type": "execute_result"
    },
    {
     "data": {
      "text/plain": [
       "ENSG00000184148.3    0.011509\n",
       "ENSG00000224308.1    0.008945\n",
       "ENSG00000224784.2    0.007760\n",
       "ENSG00000234089.1    0.007166\n",
       "ENSG00000260402.1    0.005471\n",
       "ENSG00000188508.9    0.004684\n",
       "ENSG00000163202.4    0.003891\n",
       "ENSG00000215853.3    0.003380\n",
       "ENSG00000167769.4    0.003179\n",
       "ENSG00000185962.1    0.003046\n",
       "dtype: float32"
      ]
     },
     "execution_count": 28,
     "metadata": {},
     "output_type": "execute_result"
    },
    {
     "data": {
      "text/plain": [
       "ENSG00000273330.1    0.003966\n",
       "ENSG00000253920.1    0.002579\n",
       "ENSG00000253338.1    0.002383\n",
       "ENSG00000250585.1    0.002374\n",
       "ENSG00000223128.1    0.002301\n",
       "ENSG00000268221.4    0.001909\n",
       "ENSG00000226442.2    0.001720\n",
       "ENSG00000204548.3    0.001497\n",
       "ENSG00000230502.1    0.001449\n",
       "ENSG00000251430.1    0.001363\n",
       "dtype: float32"
      ]
     },
     "execution_count": 28,
     "metadata": {},
     "output_type": "execute_result"
    },
    {
     "data": {
      "text/plain": [
       "ENSG00000198125.11    0.003062\n",
       "ENSG00000206549.11    0.002373\n",
       "ENSG00000136457.8     0.002372\n",
       "ENSG00000234481.1     0.002147\n",
       "ENSG00000213130.3     0.002144\n",
       "ENSG00000200213.1     0.002110\n",
       "ENSG00000213355.3     0.001996\n",
       "ENSG00000179913.9     0.001785\n",
       "ENSG00000189037.7     0.001606\n",
       "ENSG00000275270.1     0.001461\n",
       "dtype: float32"
      ]
     },
     "execution_count": 28,
     "metadata": {},
     "output_type": "execute_result"
    }
   ],
   "source": [
    "for i in range(len(attr)):\n",
    "    attr_samp = pd.Series(attr[i], index=train_dataset.data.columns)\n",
    "    attr_samp.nlargest(10)"
   ]
  },
  {
   "cell_type": "code",
   "execution_count": 29,
   "metadata": {},
   "outputs": [
    {
     "data": {
      "text/plain": [
       "ENSG00000211891.5   -0.002655\n",
       "ENSG00000204699.4   -0.002604\n",
       "ENSG00000253692.3   -0.002091\n",
       "ENSG00000227468.4   -0.001716\n",
       "ENSG00000268074.1   -0.001615\n",
       "ENSG00000265690.6   -0.001403\n",
       "ENSG00000237407.1   -0.001062\n",
       "ENSG00000182898.3   -0.001018\n",
       "ENSG00000214326.2   -0.001002\n",
       "ENSG00000102962.4   -0.000968\n",
       "dtype: float32"
      ]
     },
     "execution_count": 29,
     "metadata": {},
     "output_type": "execute_result"
    },
    {
     "data": {
      "text/plain": [
       "ENSG00000244617.2    -0.008258\n",
       "ENSG00000235979.7    -0.002873\n",
       "ENSG00000163221.8    -0.001385\n",
       "ENSG00000206072.11   -0.001171\n",
       "ENSG00000134202.9    -0.001169\n",
       "ENSG00000267517.1    -0.001010\n",
       "ENSG00000270008.1    -0.000997\n",
       "ENSG00000261316.1    -0.000852\n",
       "ENSG00000132832.8    -0.000821\n",
       "ENSG00000281212.1    -0.000807\n",
       "dtype: float32"
      ]
     },
     "execution_count": 29,
     "metadata": {},
     "output_type": "execute_result"
    },
    {
     "data": {
      "text/plain": [
       "ENSG00000249226.1   -0.007398\n",
       "ENSG00000248687.2   -0.006999\n",
       "ENSG00000271035.1   -0.004348\n",
       "ENSG00000162685.6   -0.004239\n",
       "ENSG00000270430.1   -0.003465\n",
       "ENSG00000252601.1   -0.002867\n",
       "ENSG00000239001.1   -0.001977\n",
       "ENSG00000263730.1   -0.001770\n",
       "ENSG00000266647.1   -0.001696\n",
       "ENSG00000226400.2   -0.001553\n",
       "dtype: float32"
      ]
     },
     "execution_count": 29,
     "metadata": {},
     "output_type": "execute_result"
    },
    {
     "data": {
      "text/plain": [
       "ENSG00000279047.2   -0.001829\n",
       "ENSG00000220340.1   -0.001460\n",
       "ENSG00000261834.2   -0.001381\n",
       "ENSG00000278528.1   -0.001280\n",
       "ENSG00000277096.1   -0.001039\n",
       "ENSG00000263997.1   -0.000915\n",
       "ENSG00000211665.2   -0.000836\n",
       "ENSG00000224062.4   -0.000779\n",
       "ENSG00000213536.2   -0.000740\n",
       "ENSG00000226499.1   -0.000653\n",
       "dtype: float32"
      ]
     },
     "execution_count": 29,
     "metadata": {},
     "output_type": "execute_result"
    },
    {
     "data": {
      "text/plain": [
       "ENSG00000221756.1    -0.004272\n",
       "ENSG00000263612.1    -0.001841\n",
       "ENSG00000258074.1    -0.001690\n",
       "ENSG00000185527.10   -0.001682\n",
       "ENSG00000233939.1    -0.001154\n",
       "ENSG00000258728.1    -0.000955\n",
       "ENSG00000259262.1    -0.000682\n",
       "ENSG00000268601.1    -0.000678\n",
       "ENSG00000168004.8    -0.000637\n",
       "ENSG00000266997.2    -0.000583\n",
       "dtype: float32"
      ]
     },
     "execution_count": 29,
     "metadata": {},
     "output_type": "execute_result"
    },
    {
     "data": {
      "text/plain": [
       "ENSG00000274448.1   -0.092422\n",
       "ENSG00000226733.1   -0.002917\n",
       "ENSG00000221756.1   -0.002622\n",
       "ENSG00000270008.1   -0.002231\n",
       "ENSG00000249726.1   -0.002189\n",
       "ENSG00000204699.4   -0.002167\n",
       "ENSG00000261197.1   -0.002131\n",
       "ENSG00000181359.5   -0.001436\n",
       "ENSG00000279920.1   -0.001414\n",
       "ENSG00000221741.1   -0.001142\n",
       "dtype: float32"
      ]
     },
     "execution_count": 29,
     "metadata": {},
     "output_type": "execute_result"
    },
    {
     "data": {
      "text/plain": [
       "ENSG00000222352.1   -0.004260\n",
       "ENSG00000179292.4   -0.001671\n",
       "ENSG00000251308.1   -0.001495\n",
       "ENSG00000231243.1   -0.001446\n",
       "ENSG00000252877.1   -0.001002\n",
       "ENSG00000249780.1   -0.000959\n",
       "ENSG00000224701.1   -0.000898\n",
       "ENSG00000243531.1   -0.000828\n",
       "ENSG00000241993.1   -0.000777\n",
       "ENSG00000267168.1   -0.000744\n",
       "dtype: float32"
      ]
     },
     "execution_count": 29,
     "metadata": {},
     "output_type": "execute_result"
    },
    {
     "data": {
      "text/plain": [
       "ENSG00000223636.1   -0.001351\n",
       "ENSG00000220212.1   -0.001175\n",
       "ENSG00000233083.1   -0.000772\n",
       "ENSG00000254836.1   -0.000646\n",
       "ENSG00000273600.1   -0.000628\n",
       "ENSG00000254076.1   -0.000623\n",
       "ENSG00000206982.1   -0.000609\n",
       "ENSG00000182707.4   -0.000519\n",
       "ENSG00000252765.1   -0.000485\n",
       "ENSG00000275179.1   -0.000461\n",
       "dtype: float32"
      ]
     },
     "execution_count": 29,
     "metadata": {},
     "output_type": "execute_result"
    },
    {
     "data": {
      "text/plain": [
       "ENSG00000232390.3    -0.004833\n",
       "ENSG00000222018.1    -0.001891\n",
       "ENSG00000237235.2    -0.001204\n",
       "ENSG00000222232.1    -0.001182\n",
       "ENSG00000207630.1    -0.001103\n",
       "ENSG00000100362.11   -0.001076\n",
       "ENSG00000244617.2    -0.001053\n",
       "ENSG00000150401.13   -0.000937\n",
       "ENSG00000272695.1    -0.000822\n",
       "ENSG00000252460.1    -0.000816\n",
       "dtype: float32"
      ]
     },
     "execution_count": 29,
     "metadata": {},
     "output_type": "execute_result"
    },
    {
     "data": {
      "text/plain": [
       "ENSG00000015592.15   -0.004161\n",
       "ENSG00000201741.1    -0.003022\n",
       "ENSG00000229275.1    -0.003021\n",
       "ENSG00000243697.1    -0.003010\n",
       "ENSG00000252149.1    -0.002322\n",
       "ENSG00000112115.5    -0.001558\n",
       "ENSG00000256311.1    -0.001408\n",
       "ENSG00000263705.1    -0.001092\n",
       "ENSG00000237235.2    -0.001045\n",
       "ENSG00000271702.1    -0.001017\n",
       "dtype: float32"
      ]
     },
     "execution_count": 29,
     "metadata": {},
     "output_type": "execute_result"
    },
    {
     "data": {
      "text/plain": [
       "ENSG00000250657.1    -0.005667\n",
       "ENSG00000230156.2    -0.004888\n",
       "ENSG00000235949.1    -0.003463\n",
       "ENSG00000188379.6    -0.002276\n",
       "ENSG00000172367.14   -0.001386\n",
       "ENSG00000224190.1    -0.001274\n",
       "ENSG00000116833.12   -0.001134\n",
       "ENSG00000185737.11   -0.001024\n",
       "ENSG00000235564.1    -0.000925\n",
       "ENSG00000170915.8    -0.000817\n",
       "dtype: float32"
      ]
     },
     "execution_count": 29,
     "metadata": {},
     "output_type": "execute_result"
    },
    {
     "data": {
      "text/plain": [
       "ENSG00000259989.1    -0.011889\n",
       "ENSG00000114200.8    -0.002141\n",
       "ENSG00000240033.1    -0.001986\n",
       "ENSG00000259730.1    -0.001911\n",
       "ENSG00000255029.1    -0.001471\n",
       "ENSG00000152822.12   -0.001070\n",
       "ENSG00000250801.1    -0.001025\n",
       "ENSG00000260196.1    -0.001007\n",
       "ENSG00000237167.1    -0.000973\n",
       "ENSG00000158516.10   -0.000778\n",
       "dtype: float32"
      ]
     },
     "execution_count": 29,
     "metadata": {},
     "output_type": "execute_result"
    },
    {
     "data": {
      "text/plain": [
       "ENSG00000249226.1   -0.008055\n",
       "ENSG00000248687.2   -0.007369\n",
       "ENSG00000271035.1   -0.005138\n",
       "ENSG00000162685.6   -0.004292\n",
       "ENSG00000270430.1   -0.003943\n",
       "ENSG00000252601.1   -0.003160\n",
       "ENSG00000226400.2   -0.001539\n",
       "ENSG00000202407.1   -0.001334\n",
       "ENSG00000253105.4   -0.001332\n",
       "ENSG00000270495.1   -0.001331\n",
       "dtype: float32"
      ]
     },
     "execution_count": 29,
     "metadata": {},
     "output_type": "execute_result"
    },
    {
     "data": {
      "text/plain": [
       "ENSG00000232390.3    -0.007682\n",
       "ENSG00000230156.2    -0.005299\n",
       "ENSG00000250657.1    -0.004575\n",
       "ENSG00000235949.1    -0.003512\n",
       "ENSG00000222018.1    -0.002713\n",
       "ENSG00000188379.6    -0.001905\n",
       "ENSG00000222232.1    -0.001790\n",
       "ENSG00000237235.2    -0.001435\n",
       "ENSG00000207630.1    -0.001276\n",
       "ENSG00000172367.14   -0.001246\n",
       "dtype: float32"
      ]
     },
     "execution_count": 29,
     "metadata": {},
     "output_type": "execute_result"
    },
    {
     "data": {
      "text/plain": [
       "ENSG00000015592.15   -0.010971\n",
       "ENSG00000229275.1    -0.006732\n",
       "ENSG00000243697.1    -0.005606\n",
       "ENSG00000277191.1    -0.003735\n",
       "ENSG00000276118.1    -0.003688\n",
       "ENSG00000278566.1    -0.003246\n",
       "ENSG00000256311.1    -0.002988\n",
       "ENSG00000112115.5    -0.002927\n",
       "ENSG00000278278.1    -0.002164\n",
       "ENSG00000095981.9    -0.001826\n",
       "dtype: float32"
      ]
     },
     "execution_count": 29,
     "metadata": {},
     "output_type": "execute_result"
    },
    {
     "data": {
      "text/plain": [
       "ENSG00000221334.1   -0.002909\n",
       "ENSG00000260090.1   -0.002349\n",
       "ENSG00000222408.1   -0.002202\n",
       "ENSG00000279376.1   -0.001448\n",
       "ENSG00000251655.5   -0.001129\n",
       "ENSG00000278465.1   -0.001123\n",
       "ENSG00000248346.1   -0.001079\n",
       "ENSG00000281109.1   -0.000961\n",
       "ENSG00000253073.1   -0.000833\n",
       "ENSG00000236450.1   -0.000789\n",
       "dtype: float32"
      ]
     },
     "execution_count": 29,
     "metadata": {},
     "output_type": "execute_result"
    },
    {
     "data": {
      "text/plain": [
       "ENSG00000232390.3    -0.008211\n",
       "ENSG00000222018.1    -0.003063\n",
       "ENSG00000222232.1    -0.001885\n",
       "ENSG00000237235.2    -0.001700\n",
       "ENSG00000201440.1    -0.001549\n",
       "ENSG00000207630.1    -0.001485\n",
       "ENSG00000279920.1    -0.001278\n",
       "ENSG00000263981.1    -0.001146\n",
       "ENSG00000252460.1    -0.001129\n",
       "ENSG00000183632.13   -0.000747\n",
       "dtype: float32"
      ]
     },
     "execution_count": 29,
     "metadata": {},
     "output_type": "execute_result"
    },
    {
     "data": {
      "text/plain": [
       "ENSG00000275836.1   -0.001895\n",
       "ENSG00000224408.1   -0.001495\n",
       "ENSG00000259525.1   -0.001372\n",
       "ENSG00000230307.1   -0.001138\n",
       "ENSG00000226664.1   -0.001099\n",
       "ENSG00000236258.1   -0.001068\n",
       "ENSG00000201567.1   -0.001066\n",
       "ENSG00000254447.1   -0.000912\n",
       "ENSG00000252913.1   -0.000892\n",
       "ENSG00000278953.1   -0.000839\n",
       "dtype: float32"
      ]
     },
     "execution_count": 29,
     "metadata": {},
     "output_type": "execute_result"
    },
    {
     "data": {
      "text/plain": [
       "ENSG00000235139.2   -0.013412\n",
       "ENSG00000273876.1   -0.009357\n",
       "ENSG00000241457.1   -0.007110\n",
       "ENSG00000255243.1   -0.003985\n",
       "ENSG00000201741.1   -0.002483\n",
       "ENSG00000230198.1   -0.002123\n",
       "ENSG00000252149.1   -0.001533\n",
       "ENSG00000227116.1   -0.001438\n",
       "ENSG00000202167.1   -0.001325\n",
       "ENSG00000263705.1   -0.001180\n",
       "dtype: float32"
      ]
     },
     "execution_count": 29,
     "metadata": {},
     "output_type": "execute_result"
    },
    {
     "data": {
      "text/plain": [
       "ENSG00000184811.3   -0.003066\n",
       "ENSG00000230083.1   -0.002116\n",
       "ENSG00000265848.1   -0.001726\n",
       "ENSG00000230025.1   -0.001358\n",
       "ENSG00000197561.5   -0.001232\n",
       "ENSG00000270008.1   -0.001222\n",
       "ENSG00000260629.1   -0.001104\n",
       "ENSG00000215310.2   -0.001091\n",
       "ENSG00000258410.1   -0.000945\n",
       "ENSG00000264545.1   -0.000884\n",
       "dtype: float32"
      ]
     },
     "execution_count": 29,
     "metadata": {},
     "output_type": "execute_result"
    },
    {
     "data": {
      "text/plain": [
       "ENSG00000236620.1    -0.002092\n",
       "ENSG00000275836.1    -0.001946\n",
       "ENSG00000107165.11   -0.001291\n",
       "ENSG00000224408.1    -0.001094\n",
       "ENSG00000199968.1    -0.001051\n",
       "ENSG00000230307.1    -0.001044\n",
       "ENSG00000181036.12   -0.001037\n",
       "ENSG00000236258.1    -0.000981\n",
       "ENSG00000201567.1    -0.000935\n",
       "ENSG00000278953.1    -0.000842\n",
       "dtype: float32"
      ]
     },
     "execution_count": 29,
     "metadata": {},
     "output_type": "execute_result"
    },
    {
     "data": {
      "text/plain": [
       "ENSG00000243171.1   -0.004029\n",
       "ENSG00000228055.2   -0.003651\n",
       "ENSG00000231569.1   -0.003060\n",
       "ENSG00000254041.1   -0.002395\n",
       "ENSG00000271977.1   -0.001699\n",
       "ENSG00000239001.1   -0.001590\n",
       "ENSG00000263730.1   -0.001417\n",
       "ENSG00000236417.2   -0.001258\n",
       "ENSG00000264404.2   -0.001038\n",
       "ENSG00000277096.1   -0.000811\n",
       "dtype: float32"
      ]
     },
     "execution_count": 29,
     "metadata": {},
     "output_type": "execute_result"
    },
    {
     "data": {
      "text/plain": [
       "ENSG00000234903.1    -0.003329\n",
       "ENSG00000212856.5    -0.002800\n",
       "ENSG00000273330.1    -0.002225\n",
       "ENSG00000267227.1    -0.001699\n",
       "ENSG00000201270.1    -0.001592\n",
       "ENSG00000230375.1    -0.001371\n",
       "ENSG00000265193.1    -0.001235\n",
       "ENSG00000266647.1    -0.001145\n",
       "ENSG00000200231.1    -0.001044\n",
       "ENSG00000182048.10   -0.000950\n",
       "dtype: float32"
      ]
     },
     "execution_count": 29,
     "metadata": {},
     "output_type": "execute_result"
    },
    {
     "data": {
      "text/plain": [
       "ENSG00000015592.15   -0.004870\n",
       "ENSG00000229275.1    -0.003931\n",
       "ENSG00000243697.1    -0.003606\n",
       "ENSG00000200213.1    -0.002059\n",
       "ENSG00000112115.5    -0.002008\n",
       "ENSG00000256311.1    -0.001711\n",
       "ENSG00000270017.1    -0.001640\n",
       "ENSG00000237182.1    -0.001240\n",
       "ENSG00000228970.6    -0.001117\n",
       "ENSG00000253714.1    -0.001097\n",
       "dtype: float32"
      ]
     },
     "execution_count": 29,
     "metadata": {},
     "output_type": "execute_result"
    },
    {
     "data": {
      "text/plain": [
       "ENSG00000266908.1   -0.002972\n",
       "ENSG00000275836.1   -0.002333\n",
       "ENSG00000278566.1   -0.001407\n",
       "ENSG00000269678.1   -0.001335\n",
       "ENSG00000253377.1   -0.001332\n",
       "ENSG00000276038.1   -0.001046\n",
       "ENSG00000264545.1   -0.001040\n",
       "ENSG00000254095.1   -0.000955\n",
       "ENSG00000237014.1   -0.000912\n",
       "ENSG00000199251.1   -0.000728\n",
       "dtype: float32"
      ]
     },
     "execution_count": 29,
     "metadata": {},
     "output_type": "execute_result"
    },
    {
     "data": {
      "text/plain": [
       "ENSG00000267168.1   -0.001263\n",
       "ENSG00000258538.4   -0.001196\n",
       "ENSG00000275628.1   -0.001174\n",
       "ENSG00000259490.2   -0.000893\n",
       "ENSG00000213130.3   -0.000879\n",
       "ENSG00000258728.1   -0.000867\n",
       "ENSG00000225671.2   -0.000854\n",
       "ENSG00000249253.1   -0.000765\n",
       "ENSG00000239200.1   -0.000738\n",
       "ENSG00000244192.1   -0.000689\n",
       "dtype: float32"
      ]
     },
     "execution_count": 29,
     "metadata": {},
     "output_type": "execute_result"
    },
    {
     "data": {
      "text/plain": [
       "ENSG00000249226.1   -0.007874\n",
       "ENSG00000248687.2   -0.007289\n",
       "ENSG00000162685.6   -0.004996\n",
       "ENSG00000271035.1   -0.004534\n",
       "ENSG00000270430.1   -0.003534\n",
       "ENSG00000252601.1   -0.003079\n",
       "ENSG00000266647.1   -0.001856\n",
       "ENSG00000226400.2   -0.001723\n",
       "ENSG00000261316.1   -0.001709\n",
       "ENSG00000253105.4   -0.001678\n",
       "dtype: float32"
      ]
     },
     "execution_count": 29,
     "metadata": {},
     "output_type": "execute_result"
    },
    {
     "data": {
      "text/plain": [
       "ENSG00000230932.2    -0.011340\n",
       "ENSG00000249396.1    -0.005238\n",
       "ENSG00000249166.1    -0.002872\n",
       "ENSG00000234787.6    -0.002872\n",
       "ENSG00000268673.3    -0.001949\n",
       "ENSG00000228607.2    -0.001915\n",
       "ENSG00000171772.14   -0.001737\n",
       "ENSG00000172201.9    -0.001599\n",
       "ENSG00000278532.1    -0.001336\n",
       "ENSG00000162670.9    -0.001223\n",
       "dtype: float32"
      ]
     },
     "execution_count": 29,
     "metadata": {},
     "output_type": "execute_result"
    },
    {
     "data": {
      "text/plain": [
       "ENSG00000254336.1   -0.002316\n",
       "ENSG00000273996.1   -0.001918\n",
       "ENSG00000182707.4   -0.001426\n",
       "ENSG00000250169.1   -0.001323\n",
       "ENSG00000201713.1   -0.001250\n",
       "ENSG00000274027.1   -0.001220\n",
       "ENSG00000216938.3   -0.001162\n",
       "ENSG00000238225.1   -0.001155\n",
       "ENSG00000237701.1   -0.001076\n",
       "ENSG00000275179.1   -0.001047\n",
       "dtype: float32"
      ]
     },
     "execution_count": 29,
     "metadata": {},
     "output_type": "execute_result"
    },
    {
     "data": {
      "text/plain": [
       "ENSG00000015592.15   -0.010743\n",
       "ENSG00000229275.1    -0.006700\n",
       "ENSG00000243697.1    -0.005578\n",
       "ENSG00000222018.1    -0.003278\n",
       "ENSG00000256311.1    -0.003021\n",
       "ENSG00000112115.5    -0.002756\n",
       "ENSG00000275836.1    -0.002049\n",
       "ENSG00000095981.9    -0.001762\n",
       "ENSG00000107593.16   -0.001760\n",
       "ENSG00000253714.1    -0.001604\n",
       "dtype: float32"
      ]
     },
     "execution_count": 29,
     "metadata": {},
     "output_type": "execute_result"
    },
    {
     "data": {
      "text/plain": [
       "ENSG00000274448.1   -0.037952\n",
       "ENSG00000274027.1   -0.007813\n",
       "ENSG00000222352.1   -0.002687\n",
       "ENSG00000230260.1   -0.001065\n",
       "ENSG00000201000.1   -0.000947\n",
       "ENSG00000251308.1   -0.000916\n",
       "ENSG00000231243.1   -0.000848\n",
       "ENSG00000182315.7   -0.000845\n",
       "ENSG00000251571.1   -0.000640\n",
       "ENSG00000252877.1   -0.000618\n",
       "dtype: float32"
      ]
     },
     "execution_count": 29,
     "metadata": {},
     "output_type": "execute_result"
    },
    {
     "data": {
      "text/plain": [
       "ENSG00000226664.1   -0.005645\n",
       "ENSG00000254447.1   -0.001203\n",
       "ENSG00000233767.1   -0.000912\n",
       "ENSG00000255147.1   -0.000901\n",
       "ENSG00000231680.1   -0.000793\n",
       "ENSG00000264543.1   -0.000774\n",
       "ENSG00000248104.1   -0.000770\n",
       "ENSG00000236751.1   -0.000760\n",
       "ENSG00000277096.1   -0.000755\n",
       "ENSG00000236987.2   -0.000710\n",
       "dtype: float32"
      ]
     },
     "execution_count": 29,
     "metadata": {},
     "output_type": "execute_result"
    },
    {
     "data": {
      "text/plain": [
       "ENSG00000138669.8    -0.001990\n",
       "ENSG00000235154.1    -0.001690\n",
       "ENSG00000228744.1    -0.001239\n",
       "ENSG00000239998.4    -0.001186\n",
       "ENSG00000160349.8    -0.000994\n",
       "ENSG00000248991.1    -0.000965\n",
       "ENSG00000242709.1    -0.000927\n",
       "ENSG00000130653.14   -0.000888\n",
       "ENSG00000251059.4    -0.000776\n",
       "ENSG00000164821.4    -0.000692\n",
       "dtype: float32"
      ]
     },
     "execution_count": 29,
     "metadata": {},
     "output_type": "execute_result"
    },
    {
     "data": {
      "text/plain": [
       "ENSG00000239001.1   -0.002677\n",
       "ENSG00000263730.1   -0.002198\n",
       "ENSG00000216938.3   -0.001962\n",
       "ENSG00000224514.2   -0.001818\n",
       "ENSG00000277096.1   -0.001202\n",
       "ENSG00000005381.7   -0.001174\n",
       "ENSG00000276869.1   -0.001018\n",
       "ENSG00000232105.1   -0.000980\n",
       "ENSG00000275767.1   -0.000925\n",
       "ENSG00000171540.7   -0.000854\n",
       "dtype: float32"
      ]
     },
     "execution_count": 29,
     "metadata": {},
     "output_type": "execute_result"
    },
    {
     "data": {
      "text/plain": [
       "ENSG00000237473.1   -0.020373\n",
       "ENSG00000222018.1   -0.004401\n",
       "ENSG00000125255.6   -0.004282\n",
       "ENSG00000230636.1   -0.003166\n",
       "ENSG00000184530.8   -0.002773\n",
       "ENSG00000232039.2   -0.002271\n",
       "ENSG00000260765.2   -0.002257\n",
       "ENSG00000253780.1   -0.002165\n",
       "ENSG00000278650.1   -0.001997\n",
       "ENSG00000270425.1   -0.001604\n",
       "dtype: float32"
      ]
     },
     "execution_count": 29,
     "metadata": {},
     "output_type": "execute_result"
    },
    {
     "data": {
      "text/plain": [
       "ENSG00000201741.1    -0.002657\n",
       "ENSG00000252149.1    -0.001918\n",
       "ENSG00000153179.10   -0.001766\n",
       "ENSG00000121749.14   -0.001451\n",
       "ENSG00000263705.1    -0.001237\n",
       "ENSG00000202167.1    -0.001099\n",
       "ENSG00000230025.1    -0.000967\n",
       "ENSG00000271702.1    -0.000936\n",
       "ENSG00000238628.1    -0.000935\n",
       "ENSG00000237235.2    -0.000897\n",
       "dtype: float32"
      ]
     },
     "execution_count": 29,
     "metadata": {},
     "output_type": "execute_result"
    },
    {
     "data": {
      "text/plain": [
       "ENSG00000262526.2   -0.002733\n",
       "ENSG00000279047.2   -0.001750\n",
       "ENSG00000220340.1   -0.001530\n",
       "ENSG00000229960.1   -0.000875\n",
       "ENSG00000226499.1   -0.000684\n",
       "ENSG00000210151.2   -0.000649\n",
       "ENSG00000170367.4   -0.000627\n",
       "ENSG00000239332.4   -0.000579\n",
       "ENSG00000071991.7   -0.000561\n",
       "ENSG00000264685.1   -0.000551\n",
       "dtype: float32"
      ]
     },
     "execution_count": 29,
     "metadata": {},
     "output_type": "execute_result"
    },
    {
     "data": {
      "text/plain": [
       "ENSG00000252780.1   -0.002223\n",
       "ENSG00000252989.1   -0.001923\n",
       "ENSG00000261197.1   -0.001902\n",
       "ENSG00000274027.1   -0.001890\n",
       "ENSG00000270008.1   -0.001719\n",
       "ENSG00000204699.4   -0.001667\n",
       "ENSG00000249726.1   -0.001516\n",
       "ENSG00000181359.5   -0.001470\n",
       "ENSG00000279920.1   -0.000990\n",
       "ENSG00000221741.1   -0.000938\n",
       "dtype: float32"
      ]
     },
     "execution_count": 29,
     "metadata": {},
     "output_type": "execute_result"
    },
    {
     "data": {
      "text/plain": [
       "ENSG00000262633.1   -0.004484\n",
       "ENSG00000234812.1   -0.003482\n",
       "ENSG00000264303.1   -0.001972\n",
       "ENSG00000201270.1   -0.001904\n",
       "ENSG00000129873.6   -0.001604\n",
       "ENSG00000221527.1   -0.001511\n",
       "ENSG00000164265.7   -0.001216\n",
       "ENSG00000257395.1   -0.001106\n",
       "ENSG00000233329.1   -0.001091\n",
       "ENSG00000232341.2   -0.000744\n",
       "dtype: float32"
      ]
     },
     "execution_count": 29,
     "metadata": {},
     "output_type": "execute_result"
    },
    {
     "data": {
      "text/plain": [
       "ENSG00000238750.1   -0.005160\n",
       "ENSG00000274027.1   -0.003502\n",
       "ENSG00000225280.5   -0.001486\n",
       "ENSG00000266806.1   -0.001407\n",
       "ENSG00000259072.1   -0.000879\n",
       "ENSG00000178394.4   -0.000820\n",
       "ENSG00000112116.9   -0.000654\n",
       "ENSG00000125816.4   -0.000642\n",
       "ENSG00000257672.2   -0.000642\n",
       "ENSG00000112115.5   -0.000617\n",
       "dtype: float32"
      ]
     },
     "execution_count": 29,
     "metadata": {},
     "output_type": "execute_result"
    },
    {
     "data": {
      "text/plain": [
       "ENSG00000015592.15   -0.011031\n",
       "ENSG00000229275.1    -0.006517\n",
       "ENSG00000243697.1    -0.005875\n",
       "ENSG00000256311.1    -0.003233\n",
       "ENSG00000112115.5    -0.002871\n",
       "ENSG00000095981.9    -0.001776\n",
       "ENSG00000263612.1    -0.001733\n",
       "ENSG00000228970.6    -0.001597\n",
       "ENSG00000107593.16   -0.001595\n",
       "ENSG00000253714.1    -0.001586\n",
       "dtype: float32"
      ]
     },
     "execution_count": 29,
     "metadata": {},
     "output_type": "execute_result"
    },
    {
     "data": {
      "text/plain": [
       "ENSG00000207702.1   -0.012439\n",
       "ENSG00000273634.1   -0.002613\n",
       "ENSG00000233083.1   -0.001744\n",
       "ENSG00000176752.6   -0.000904\n",
       "ENSG00000244617.2   -0.000869\n",
       "ENSG00000279920.1   -0.000812\n",
       "ENSG00000200786.1   -0.000801\n",
       "ENSG00000259525.1   -0.000709\n",
       "ENSG00000261606.4   -0.000684\n",
       "ENSG00000254836.1   -0.000631\n",
       "dtype: float32"
      ]
     },
     "execution_count": 29,
     "metadata": {},
     "output_type": "execute_result"
    },
    {
     "data": {
      "text/plain": [
       "ENSG00000244617.2    -0.008324\n",
       "ENSG00000235979.7    -0.002611\n",
       "ENSG00000163221.8    -0.001490\n",
       "ENSG00000134202.9    -0.001201\n",
       "ENSG00000267517.1    -0.001193\n",
       "ENSG00000206072.11   -0.001176\n",
       "ENSG00000132832.8    -0.000856\n",
       "ENSG00000271978.1    -0.000768\n",
       "ENSG00000258538.4    -0.000738\n",
       "ENSG00000145708.9    -0.000700\n",
       "dtype: float32"
      ]
     },
     "execution_count": 29,
     "metadata": {},
     "output_type": "execute_result"
    },
    {
     "data": {
      "text/plain": [
       "ENSG00000211655.3    -0.003547\n",
       "ENSG00000166926.7    -0.002006\n",
       "ENSG00000261197.1    -0.001480\n",
       "ENSG00000012223.11   -0.001108\n",
       "ENSG00000275628.1    -0.001103\n",
       "ENSG00000187908.14   -0.001058\n",
       "ENSG00000259490.2    -0.000850\n",
       "ENSG00000225671.2    -0.000813\n",
       "ENSG00000276050.1    -0.000664\n",
       "ENSG00000256678.1    -0.000644\n",
       "dtype: float32"
      ]
     },
     "execution_count": 29,
     "metadata": {},
     "output_type": "execute_result"
    },
    {
     "data": {
      "text/plain": [
       "ENSG00000211655.3    -0.002846\n",
       "ENSG00000279047.2    -0.001704\n",
       "ENSG00000220340.1    -0.001402\n",
       "ENSG00000166926.7    -0.001358\n",
       "ENSG00000012223.11   -0.001120\n",
       "ENSG00000261197.1    -0.000965\n",
       "ENSG00000229960.1    -0.000820\n",
       "ENSG00000187908.14   -0.000807\n",
       "ENSG00000170367.4    -0.000705\n",
       "ENSG00000226499.1    -0.000654\n",
       "dtype: float32"
      ]
     },
     "execution_count": 29,
     "metadata": {},
     "output_type": "execute_result"
    }
   ],
   "source": [
    "for i in range(len(attr)):\n",
    "    attr_samp = pd.Series(attr[i], index=train_dataset.data.columns)\n",
    "    attr_samp.nsmallest(10)"
   ]
  },
  {
   "cell_type": "markdown",
   "metadata": {},
   "source": [
    "#### Check embedding of zero-feature vector"
   ]
  },
  {
   "cell_type": "code",
   "execution_count": 30,
   "metadata": {},
   "outputs": [
    {
     "data": {
      "text/plain": [
       "tensor([0.1618, 0.1435], device='cuda:0', grad_fn=<AddBackward0>)"
      ]
     },
     "execution_count": 30,
     "metadata": {},
     "output_type": "execute_result"
    }
   ],
   "source": [
    "base_zero = torch.zeros(siamese_test_dataset.test_data.shape[1]).cuda()\n",
    "base_emb = model.get_embedding(base_zero)\n",
    "base_emb"
   ]
  },
  {
   "cell_type": "markdown",
   "metadata": {},
   "source": [
    "#### Check loss of baseline vectors\n",
    "- control data\n",
    "- zero vector\n",
    "- random values"
   ]
  },
  {
   "cell_type": "code",
   "execution_count": 31,
   "metadata": {},
   "outputs": [
    {
     "data": {
      "text/plain": [
       "tensor(0.0004, device='cuda:0', grad_fn=<MeanBackward0>)"
      ]
     },
     "execution_count": 31,
     "metadata": {},
     "output_type": "execute_result"
    }
   ],
   "source": [
    "target = torch.tensor(0, dtype=float)\n",
    "model.get_loss(ctrl_data.cuda(), exp_data.cuda(), target, ContrastiveLoss(margin))"
   ]
  },
  {
   "cell_type": "code",
   "execution_count": 32,
   "metadata": {},
   "outputs": [
    {
     "data": {
      "text/plain": [
       "tensor(0.2854, device='cuda:0', grad_fn=<MeanBackward0>)"
      ]
     },
     "execution_count": 32,
     "metadata": {},
     "output_type": "execute_result"
    }
   ],
   "source": [
    "base_zero = torch.zeros(exp_data.shape).cuda()\n",
    "model.get_loss(base_zero, exp_data.cuda(), target, ContrastiveLoss(margin))"
   ]
  },
  {
   "cell_type": "code",
   "execution_count": 33,
   "metadata": {},
   "outputs": [
    {
     "data": {
      "text/plain": [
       "tensor(0.4025, device='cuda:0', grad_fn=<MeanBackward0>)"
      ]
     },
     "execution_count": 33,
     "metadata": {},
     "output_type": "execute_result"
    }
   ],
   "source": [
    "rand_base = torch.rand_like(exp_data).cuda()\n",
    "model.get_loss(rand_base, exp_data.cuda(), target, ContrastiveLoss(margin))"
   ]
  },
  {
   "cell_type": "markdown",
   "metadata": {},
   "source": [
    "### IG with zero-feature vector"
   ]
  },
  {
   "cell_type": "code",
   "execution_count": 34,
   "metadata": {},
   "outputs": [],
   "source": [
    "attr, delta = ig.attribute(exp_data.cuda(), target=0, n_steps=50, return_convergence_delta=True)\n",
    "attr = attr.cpu().detach().numpy()"
   ]
  },
  {
   "cell_type": "code",
   "execution_count": 35,
   "metadata": {},
   "outputs": [
    {
     "data": {
      "text/plain": [
       "(45, 60483)"
      ]
     },
     "execution_count": 35,
     "metadata": {},
     "output_type": "execute_result"
    },
    {
     "data": {
      "text/plain": [
       "array([[<matplotlib.axes._subplots.AxesSubplot object at 0x7f957f97bcf8>]],\n",
       "      dtype=object)"
      ]
     },
     "execution_count": 35,
     "metadata": {},
     "output_type": "execute_result"
    },
    {
     "data": {
      "text/html": [
       "<div>\n",
       "<style scoped>\n",
       "    .dataframe tbody tr th:only-of-type {\n",
       "        vertical-align: middle;\n",
       "    }\n",
       "\n",
       "    .dataframe tbody tr th {\n",
       "        vertical-align: top;\n",
       "    }\n",
       "\n",
       "    .dataframe thead th {\n",
       "        text-align: right;\n",
       "    }\n",
       "</style>\n",
       "<table border=\"1\" class=\"dataframe\">\n",
       "  <thead>\n",
       "    <tr style=\"text-align: right;\">\n",
       "      <th></th>\n",
       "      <th>Attribution</th>\n",
       "    </tr>\n",
       "  </thead>\n",
       "  <tbody>\n",
       "    <tr>\n",
       "      <th>count</th>\n",
       "      <td>6.048300e+04</td>\n",
       "    </tr>\n",
       "    <tr>\n",
       "      <th>mean</th>\n",
       "      <td>3.781225e-06</td>\n",
       "    </tr>\n",
       "    <tr>\n",
       "      <th>std</th>\n",
       "      <td>1.467711e-05</td>\n",
       "    </tr>\n",
       "    <tr>\n",
       "      <th>min</th>\n",
       "      <td>-6.248784e-04</td>\n",
       "    </tr>\n",
       "    <tr>\n",
       "      <th>25%</th>\n",
       "      <td>-4.208529e-08</td>\n",
       "    </tr>\n",
       "    <tr>\n",
       "      <th>50%</th>\n",
       "      <td>1.751587e-06</td>\n",
       "    </tr>\n",
       "    <tr>\n",
       "      <th>75%</th>\n",
       "      <td>4.598866e-06</td>\n",
       "    </tr>\n",
       "    <tr>\n",
       "      <th>max</th>\n",
       "      <td>1.315522e-03</td>\n",
       "    </tr>\n",
       "  </tbody>\n",
       "</table>\n",
       "</div>"
      ],
      "text/plain": [
       "        Attribution\n",
       "count  6.048300e+04\n",
       "mean   3.781225e-06\n",
       "std    1.467711e-05\n",
       "min   -6.248784e-04\n",
       "25%   -4.208529e-08\n",
       "50%    1.751587e-06\n",
       "75%    4.598866e-06\n",
       "max    1.315522e-03"
      ]
     },
     "execution_count": 35,
     "metadata": {},
     "output_type": "execute_result"
    },
    {
     "data": {
      "text/html": [
       "<div>\n",
       "<style scoped>\n",
       "    .dataframe tbody tr th:only-of-type {\n",
       "        vertical-align: middle;\n",
       "    }\n",
       "\n",
       "    .dataframe tbody tr th {\n",
       "        vertical-align: top;\n",
       "    }\n",
       "\n",
       "    .dataframe thead th {\n",
       "        text-align: right;\n",
       "    }\n",
       "</style>\n",
       "<table border=\"1\" class=\"dataframe\">\n",
       "  <thead>\n",
       "    <tr style=\"text-align: right;\">\n",
       "      <th></th>\n",
       "      <th>Attribution</th>\n",
       "    </tr>\n",
       "  </thead>\n",
       "  <tbody>\n",
       "    <tr>\n",
       "      <th>ENSG00000214266.2</th>\n",
       "      <td>0.001316</td>\n",
       "    </tr>\n",
       "    <tr>\n",
       "      <th>ENSG00000275664.1</th>\n",
       "      <td>0.001135</td>\n",
       "    </tr>\n",
       "    <tr>\n",
       "      <th>ENSG00000254490.1</th>\n",
       "      <td>0.000935</td>\n",
       "    </tr>\n",
       "    <tr>\n",
       "      <th>ENSG00000227982.1</th>\n",
       "      <td>0.000899</td>\n",
       "    </tr>\n",
       "    <tr>\n",
       "      <th>ENSG00000261122.5</th>\n",
       "      <td>0.000752</td>\n",
       "    </tr>\n",
       "    <tr>\n",
       "      <th>ENSG00000260516.2</th>\n",
       "      <td>0.000636</td>\n",
       "    </tr>\n",
       "    <tr>\n",
       "      <th>ENSG00000255454.1</th>\n",
       "      <td>0.000574</td>\n",
       "    </tr>\n",
       "    <tr>\n",
       "      <th>ENSG00000230066.4</th>\n",
       "      <td>0.000515</td>\n",
       "    </tr>\n",
       "    <tr>\n",
       "      <th>ENSG00000241088.2</th>\n",
       "      <td>0.000435</td>\n",
       "    </tr>\n",
       "    <tr>\n",
       "      <th>ENSG00000253692.3</th>\n",
       "      <td>0.000376</td>\n",
       "    </tr>\n",
       "  </tbody>\n",
       "</table>\n",
       "</div>"
      ],
      "text/plain": [
       "                   Attribution\n",
       "ENSG00000214266.2     0.001316\n",
       "ENSG00000275664.1     0.001135\n",
       "ENSG00000254490.1     0.000935\n",
       "ENSG00000227982.1     0.000899\n",
       "ENSG00000261122.5     0.000752\n",
       "ENSG00000260516.2     0.000636\n",
       "ENSG00000255454.1     0.000574\n",
       "ENSG00000230066.4     0.000515\n",
       "ENSG00000241088.2     0.000435\n",
       "ENSG00000253692.3     0.000376"
      ]
     },
     "execution_count": 35,
     "metadata": {},
     "output_type": "execute_result"
    },
    {
     "data": {
      "image/png": "[encoded data removed]",
      "text/plain": [
       "<Figure size 432x288 with 1 Axes>"
      ]
     },
     "metadata": {
      "needs_background": "light"
     },
     "output_type": "display_data"
    }
   ],
   "source": [
    "attr.shape\n",
    "feat_imp = pd.DataFrame(data=attr.mean(axis=0), index=train_dataset.data.columns, columns=['Attribution'])\n",
    "feat_imp.hist(bins=100)\n",
    "feat_imp.describe()\n",
    "feat_imp.nlargest(10, columns='Attribution')"
   ]
  },
  {
   "cell_type": "code",
   "execution_count": 36,
   "metadata": {},
   "outputs": [
    {
     "data": {
      "text/plain": [
       "591.864"
      ]
     },
     "execution_count": 36,
     "metadata": {},
     "output_type": "execute_result"
    },
    {
     "data": {
      "text/plain": [
       "444.471"
      ]
     },
     "execution_count": 36,
     "metadata": {},
     "output_type": "execute_result"
    },
    {
     "data": {
      "text/plain": [
       "508563.56"
      ]
     },
     "execution_count": 36,
     "metadata": {},
     "output_type": "execute_result"
    }
   ],
   "source": [
    "pdist = torch.nn.PairwiseDistance(p=2)\n",
    "outdist = pdist(exp_data, ctrl_data)\n",
    "\n",
    "diff = np.round(outdist.detach().numpy() - attr.sum(axis=1), 3)\n",
    "diff.mean(); np.median(diff); diff.var()"
   ]
  },
  {
   "cell_type": "code",
   "execution_count": 37,
   "metadata": {},
   "outputs": [
    {
     "data": {
      "text/plain": [
       "ENSG00000265690.6     0.001482\n",
       "ENSG00000170412.15    0.001068\n",
       "ENSG00000258214.1     0.000638\n",
       "ENSG00000204618.7     0.000501\n",
       "ENSG00000167535.6     0.000490\n",
       "ENSG00000113719.14    0.000483\n",
       "ENSG00000167004.11    0.000478\n",
       "ENSG00000251246.1     0.000442\n",
       "ENSG00000204511.2     0.000427\n",
       "ENSG00000259803.5     0.000398\n",
       "dtype: float32"
      ]
     },
     "execution_count": 37,
     "metadata": {},
     "output_type": "execute_result"
    },
    {
     "data": {
      "text/plain": [
       "ENSG00000184148.3    0.004726\n",
       "ENSG00000260402.1    0.003545\n",
       "ENSG00000224784.2    0.003475\n",
       "ENSG00000224308.1    0.003380\n",
       "ENSG00000234089.1    0.002396\n",
       "ENSG00000188508.9    0.002323\n",
       "ENSG00000163202.4    0.002145\n",
       "ENSG00000215853.3    0.001874\n",
       "ENSG00000167769.4    0.001839\n",
       "ENSG00000267209.4    0.001656\n",
       "dtype: float32"
      ]
     },
     "execution_count": 37,
     "metadata": {},
     "output_type": "execute_result"
    },
    {
     "data": {
      "text/plain": [
       "ENSG00000260516.2     0.007146\n",
       "ENSG00000202095.1     0.001479\n",
       "ENSG00000187730.7     0.001151\n",
       "ENSG00000178773.13    0.000676\n",
       "ENSG00000233542.1     0.000667\n",
       "ENSG00000263252.1     0.000611\n",
       "ENSG00000253266.1     0.000554\n",
       "ENSG00000157916.17    0.000553\n",
       "ENSG00000153060.6     0.000490\n",
       "ENSG00000251039.2     0.000474\n",
       "dtype: float32"
      ]
     },
     "execution_count": 37,
     "metadata": {},
     "output_type": "execute_result"
    },
    {
     "data": {
      "text/plain": [
       "ENSG00000213355.3     0.001252\n",
       "ENSG00000198125.11    0.001155\n",
       "ENSG00000136457.8     0.001148\n",
       "ENSG00000200213.1     0.000848\n",
       "ENSG00000213130.3     0.000735\n",
       "ENSG00000228191.1     0.000715\n",
       "ENSG00000179913.9     0.000709\n",
       "ENSG00000132821.10    0.000675\n",
       "ENSG00000234481.1     0.000657\n",
       "ENSG00000206549.11    0.000649\n",
       "dtype: float32"
      ]
     },
     "execution_count": 37,
     "metadata": {},
     "output_type": "execute_result"
    },
    {
     "data": {
      "text/plain": [
       "ENSG00000211626.2     0.013054\n",
       "ENSG00000268997.1     0.001548\n",
       "ENSG00000253818.1     0.001114\n",
       "ENSG00000270008.1     0.000880\n",
       "ENSG00000266837.1     0.000837\n",
       "ENSG00000266553.2     0.000646\n",
       "ENSG00000150551.10    0.000634\n",
       "ENSG00000273047.1     0.000629\n",
       "ENSG00000222998.1     0.000587\n",
       "ENSG00000254240.1     0.000550\n",
       "dtype: float32"
      ]
     },
     "execution_count": 37,
     "metadata": {},
     "output_type": "execute_result"
    },
    {
     "data": {
      "text/plain": [
       "ENSG00000251113.2    0.003688\n",
       "ENSG00000205495.1    0.002793\n",
       "ENSG00000277907.1    0.002152\n",
       "ENSG00000230275.2    0.001658\n",
       "ENSG00000226619.1    0.001416\n",
       "ENSG00000189052.6    0.001353\n",
       "ENSG00000230261.1    0.000759\n",
       "ENSG00000270826.1    0.000730\n",
       "ENSG00000236414.1    0.000728\n",
       "ENSG00000266984.1    0.000697\n",
       "dtype: float32"
      ]
     },
     "execution_count": 37,
     "metadata": {},
     "output_type": "execute_result"
    },
    {
     "data": {
      "text/plain": [
       "ENSG00000205922.4     0.004986\n",
       "ENSG00000169903.6     0.002681\n",
       "ENSG00000144852.15    0.001923\n",
       "ENSG00000094755.15    0.001629\n",
       "ENSG00000228847.1     0.001602\n",
       "ENSG00000236160.1     0.001474\n",
       "ENSG00000140279.11    0.001347\n",
       "ENSG00000140274.12    0.001283\n",
       "ENSG00000278566.1     0.001217\n",
       "ENSG00000138100.12    0.001021\n",
       "dtype: float32"
      ]
     },
     "execution_count": 37,
     "metadata": {},
     "output_type": "execute_result"
    },
    {
     "data": {
      "text/plain": [
       "ENSG00000260516.2     0.006655\n",
       "ENSG00000223485.1     0.001284\n",
       "ENSG00000271693.1     0.000880\n",
       "ENSG00000259822.2     0.000873\n",
       "ENSG00000230668.1     0.000824\n",
       "ENSG00000260765.2     0.000686\n",
       "ENSG00000184163.3     0.000634\n",
       "ENSG00000183034.11    0.000620\n",
       "ENSG00000258955.1     0.000558\n",
       "ENSG00000138131.3     0.000505\n",
       "dtype: float32"
      ]
     },
     "execution_count": 37,
     "metadata": {},
     "output_type": "execute_result"
    },
    {
     "data": {
      "text/plain": [
       "ENSG00000198176.11    0.002433\n",
       "ENSG00000186115.11    0.002105\n",
       "ENSG00000150403.16    0.001837\n",
       "ENSG00000235689.1     0.001198\n",
       "ENSG00000226947.1     0.001109\n",
       "ENSG00000212560.1     0.001080\n",
       "ENSG00000273330.1     0.000827\n",
       "ENSG00000264067.1     0.000822\n",
       "ENSG00000185974.6     0.000764\n",
       "ENSG00000215881.3     0.000754\n",
       "dtype: float32"
      ]
     },
     "execution_count": 37,
     "metadata": {},
     "output_type": "execute_result"
    },
    {
     "data": {
      "text/plain": [
       "ENSG00000223591.4     0.002749\n",
       "ENSG00000261398.1     0.002491\n",
       "ENSG00000278052.1     0.002422\n",
       "ENSG00000263692.1     0.002205\n",
       "ENSG00000278933.1     0.001864\n",
       "ENSG00000214880.3     0.001553\n",
       "ENSG00000226433.1     0.001259\n",
       "ENSG00000101180.14    0.001175\n",
       "ENSG00000275475.1     0.001046\n",
       "ENSG00000265865.1     0.001045\n",
       "dtype: float32"
      ]
     },
     "execution_count": 37,
     "metadata": {},
     "output_type": "execute_result"
    },
    {
     "data": {
      "text/plain": [
       "ENSG00000241088.2     0.009608\n",
       "ENSG00000267487.1     0.004753\n",
       "ENSG00000169605.5     0.003931\n",
       "ENSG00000172016.14    0.003767\n",
       "ENSG00000144852.15    0.003345\n",
       "ENSG00000277096.1     0.003197\n",
       "ENSG00000213851.3     0.002146\n",
       "ENSG00000207577.1     0.001817\n",
       "ENSG00000266920.1     0.001703\n",
       "ENSG00000235142.6     0.001524\n",
       "dtype: float32"
      ]
     },
     "execution_count": 37,
     "metadata": {},
     "output_type": "execute_result"
    },
    {
     "data": {
      "text/plain": [
       "ENSG00000276661.1    0.012795\n",
       "ENSG00000232299.1    0.008715\n",
       "ENSG00000094796.4    0.002606\n",
       "ENSG00000238957.1    0.002341\n",
       "ENSG00000226397.6    0.002213\n",
       "ENSG00000242837.1    0.001753\n",
       "ENSG00000204705.3    0.001482\n",
       "ENSG00000252296.2    0.001281\n",
       "ENSG00000127530.2    0.001245\n",
       "ENSG00000230975.1    0.000980\n",
       "dtype: float32"
      ]
     },
     "execution_count": 37,
     "metadata": {},
     "output_type": "execute_result"
    },
    {
     "data": {
      "text/plain": [
       "ENSG00000260516.2     0.007146\n",
       "ENSG00000202095.1     0.001479\n",
       "ENSG00000187730.7     0.001151\n",
       "ENSG00000178773.13    0.000676\n",
       "ENSG00000233542.1     0.000667\n",
       "ENSG00000263252.1     0.000611\n",
       "ENSG00000253266.1     0.000554\n",
       "ENSG00000157916.17    0.000553\n",
       "ENSG00000153060.6     0.000490\n",
       "ENSG00000251039.2     0.000474\n",
       "dtype: float32"
      ]
     },
     "execution_count": 37,
     "metadata": {},
     "output_type": "execute_result"
    },
    {
     "data": {
      "text/plain": [
       "ENSG00000241088.2     0.009608\n",
       "ENSG00000267487.1     0.004753\n",
       "ENSG00000169605.5     0.003931\n",
       "ENSG00000172016.14    0.003767\n",
       "ENSG00000144852.15    0.003345\n",
       "ENSG00000277096.1     0.003197\n",
       "ENSG00000213851.3     0.002146\n",
       "ENSG00000207577.1     0.001817\n",
       "ENSG00000266920.1     0.001703\n",
       "ENSG00000235142.6     0.001524\n",
       "dtype: float32"
      ]
     },
     "execution_count": 37,
     "metadata": {},
     "output_type": "execute_result"
    },
    {
     "data": {
      "text/plain": [
       "ENSG00000223591.4     0.002749\n",
       "ENSG00000261398.1     0.002491\n",
       "ENSG00000278052.1     0.002422\n",
       "ENSG00000263692.1     0.002205\n",
       "ENSG00000278933.1     0.001864\n",
       "ENSG00000214880.3     0.001553\n",
       "ENSG00000226433.1     0.001259\n",
       "ENSG00000101180.14    0.001175\n",
       "ENSG00000275475.1     0.001046\n",
       "ENSG00000265865.1     0.001045\n",
       "dtype: float32"
      ]
     },
     "execution_count": 37,
     "metadata": {},
     "output_type": "execute_result"
    },
    {
     "data": {
      "text/plain": [
       "ENSG00000232390.3     0.001324\n",
       "ENSG00000275395.3     0.000887\n",
       "ENSG00000228460.1     0.000832\n",
       "ENSG00000248346.1     0.000592\n",
       "ENSG00000233539.4     0.000518\n",
       "ENSG00000229859.7     0.000508\n",
       "ENSG00000279585.1     0.000481\n",
       "ENSG00000279376.1     0.000452\n",
       "ENSG00000130695.12    0.000400\n",
       "ENSG00000260997.1     0.000356\n",
       "dtype: float32"
      ]
     },
     "execution_count": 37,
     "metadata": {},
     "output_type": "execute_result"
    },
    {
     "data": {
      "text/plain": [
       "ENSG00000134207.13    0.001741\n",
       "ENSG00000184388.5     0.000827\n",
       "ENSG00000006756.14    0.000809\n",
       "ENSG00000272558.1     0.000764\n",
       "ENSG00000143320.7     0.000730\n",
       "ENSG00000150594.6     0.000724\n",
       "ENSG00000116774.10    0.000660\n",
       "ENSG00000103316.9     0.000634\n",
       "ENSG00000125571.8     0.000620\n",
       "ENSG00000183715.12    0.000612\n",
       "dtype: float32"
      ]
     },
     "execution_count": 37,
     "metadata": {},
     "output_type": "execute_result"
    },
    {
     "data": {
      "text/plain": [
       "ENSG00000214978.7     0.002878\n",
       "ENSG00000228105.1     0.001061\n",
       "ENSG00000222805.1     0.000939\n",
       "ENSG00000101470.8     0.000925\n",
       "ENSG00000173227.12    0.000860\n",
       "ENSG00000104879.4     0.000643\n",
       "ENSG00000183631.4     0.000621\n",
       "ENSG00000131142.12    0.000616\n",
       "ENSG00000137270.10    0.000597\n",
       "ENSG00000170369.3     0.000570\n",
       "dtype: float32"
      ]
     },
     "execution_count": 37,
     "metadata": {},
     "output_type": "execute_result"
    },
    {
     "data": {
      "text/plain": [
       "ENSG00000275664.1    0.051543\n",
       "ENSG00000227982.1    0.040452\n",
       "ENSG00000255454.1    0.026151\n",
       "ENSG00000232610.1    0.013763\n",
       "ENSG00000230066.4    0.013523\n",
       "ENSG00000255086.1    0.011438\n",
       "ENSG00000240298.3    0.009642\n",
       "ENSG00000241457.1    0.008269\n",
       "ENSG00000206661.1    0.006160\n",
       "ENSG00000182348.6    0.006150\n",
       "dtype: float32"
      ]
     },
     "execution_count": 37,
     "metadata": {},
     "output_type": "execute_result"
    },
    {
     "data": {
      "text/plain": [
       "ENSG00000267670.1     0.001282\n",
       "ENSG00000133710.14    0.001115\n",
       "ENSG00000143320.7     0.000928\n",
       "ENSG00000099937.9     0.000900\n",
       "ENSG00000187642.8     0.000835\n",
       "ENSG00000251470.1     0.000790\n",
       "ENSG00000160678.10    0.000770\n",
       "ENSG00000144119.3     0.000699\n",
       "ENSG00000275773.1     0.000676\n",
       "ENSG00000101470.8     0.000549\n",
       "dtype: float32"
      ]
     },
     "execution_count": 37,
     "metadata": {},
     "output_type": "execute_result"
    },
    {
     "data": {
      "text/plain": [
       "ENSG00000204362.5    0.002278\n",
       "ENSG00000257017.7    0.001570\n",
       "ENSG00000271111.1    0.001535\n",
       "ENSG00000258421.2    0.001234\n",
       "ENSG00000252395.2    0.000888\n",
       "ENSG00000266890.1    0.000805\n",
       "ENSG00000234587.1    0.000664\n",
       "ENSG00000168032.7    0.000636\n",
       "ENSG00000261742.4    0.000565\n",
       "ENSG00000267073.1    0.000506\n",
       "dtype: float32"
      ]
     },
     "execution_count": 37,
     "metadata": {},
     "output_type": "execute_result"
    },
    {
     "data": {
      "text/plain": [
       "ENSG00000214266.2     0.059223\n",
       "ENSG00000270359.1     0.001600\n",
       "ENSG00000258401.1     0.000926\n",
       "ENSG00000137270.10    0.000604\n",
       "ENSG00000166391.13    0.000587\n",
       "ENSG00000253318.1     0.000577\n",
       "ENSG00000250258.1     0.000418\n",
       "ENSG00000258750.2     0.000414\n",
       "ENSG00000212518.1     0.000405\n",
       "ENSG00000281390.1     0.000399\n",
       "dtype: float32"
      ]
     },
     "execution_count": 37,
     "metadata": {},
     "output_type": "execute_result"
    },
    {
     "data": {
      "text/plain": [
       "ENSG00000228771.1    0.001043\n",
       "ENSG00000227058.1    0.000901\n",
       "ENSG00000230628.1    0.000775\n",
       "ENSG00000224589.1    0.000768\n",
       "ENSG00000182489.8    0.000701\n",
       "ENSG00000266584.1    0.000562\n",
       "ENSG00000108849.6    0.000545\n",
       "ENSG00000179031.8    0.000478\n",
       "ENSG00000235014.1    0.000460\n",
       "ENSG00000236039.1    0.000453\n",
       "dtype: float32"
      ]
     },
     "execution_count": 37,
     "metadata": {},
     "output_type": "execute_result"
    },
    {
     "data": {
      "text/plain": [
       "ENSG00000223591.4     0.002749\n",
       "ENSG00000261398.1     0.002491\n",
       "ENSG00000278052.1     0.002422\n",
       "ENSG00000263692.1     0.002205\n",
       "ENSG00000278933.1     0.001864\n",
       "ENSG00000214880.3     0.001553\n",
       "ENSG00000226433.1     0.001259\n",
       "ENSG00000101180.14    0.001175\n",
       "ENSG00000275475.1     0.001046\n",
       "ENSG00000265865.1     0.001045\n",
       "dtype: float32"
      ]
     },
     "execution_count": 37,
     "metadata": {},
     "output_type": "execute_result"
    },
    {
     "data": {
      "text/plain": [
       "ENSG00000226785.1     0.004271\n",
       "ENSG00000253417.4     0.003754\n",
       "ENSG00000253593.2     0.001119\n",
       "ENSG00000266530.1     0.000817\n",
       "ENSG00000114455.12    0.000807\n",
       "ENSG00000278465.1     0.000795\n",
       "ENSG00000224437.2     0.000792\n",
       "ENSG00000148702.13    0.000647\n",
       "ENSG00000133710.14    0.000607\n",
       "ENSG00000118322.11    0.000571\n",
       "dtype: float32"
      ]
     },
     "execution_count": 37,
     "metadata": {},
     "output_type": "execute_result"
    },
    {
     "data": {
      "text/plain": [
       "ENSG00000253920.1    0.001016\n",
       "ENSG00000273330.1    0.001007\n",
       "ENSG00000223128.1    0.000954\n",
       "ENSG00000226442.2    0.000784\n",
       "ENSG00000253338.1    0.000764\n",
       "ENSG00000250585.1    0.000763\n",
       "ENSG00000230502.1    0.000570\n",
       "ENSG00000204548.3    0.000529\n",
       "ENSG00000256338.2    0.000463\n",
       "ENSG00000253860.1    0.000437\n",
       "dtype: float32"
      ]
     },
     "execution_count": 37,
     "metadata": {},
     "output_type": "execute_result"
    },
    {
     "data": {
      "text/plain": [
       "ENSG00000260516.2     0.007146\n",
       "ENSG00000202095.1     0.001479\n",
       "ENSG00000187730.7     0.001151\n",
       "ENSG00000178773.13    0.000676\n",
       "ENSG00000233542.1     0.000667\n",
       "ENSG00000263252.1     0.000611\n",
       "ENSG00000253266.1     0.000554\n",
       "ENSG00000157916.17    0.000553\n",
       "ENSG00000153060.6     0.000490\n",
       "ENSG00000251039.2     0.000474\n",
       "dtype: float32"
      ]
     },
     "execution_count": 37,
     "metadata": {},
     "output_type": "execute_result"
    },
    {
     "data": {
      "text/plain": [
       "ENSG00000261122.5    0.033730\n",
       "ENSG00000253692.3    0.016796\n",
       "ENSG00000230066.4    0.009802\n",
       "ENSG00000234859.4    0.008527\n",
       "ENSG00000236473.1    0.008471\n",
       "ENSG00000254490.1    0.007398\n",
       "ENSG00000214897.3    0.007339\n",
       "ENSG00000233601.1    0.006953\n",
       "ENSG00000237480.1    0.006706\n",
       "ENSG00000203972.8    0.006140\n",
       "dtype: float32"
      ]
     },
     "execution_count": 37,
     "metadata": {},
     "output_type": "execute_result"
    },
    {
     "data": {
      "text/plain": [
       "ENSG00000234089.1     0.001642\n",
       "ENSG00000165269.11    0.000812\n",
       "ENSG00000233206.1     0.000784\n",
       "ENSG00000148386.8     0.000780\n",
       "ENSG00000270865.1     0.000770\n",
       "ENSG00000137825.9     0.000761\n",
       "ENSG00000116711.9     0.000745\n",
       "ENSG00000249253.1     0.000681\n",
       "ENSG00000249896.1     0.000679\n",
       "ENSG00000231017.1     0.000617\n",
       "dtype: float32"
      ]
     },
     "execution_count": 37,
     "metadata": {},
     "output_type": "execute_result"
    },
    {
     "data": {
      "text/plain": [
       "ENSG00000223591.4     0.002749\n",
       "ENSG00000261398.1     0.002491\n",
       "ENSG00000278052.1     0.002422\n",
       "ENSG00000263692.1     0.002205\n",
       "ENSG00000278933.1     0.001864\n",
       "ENSG00000214880.3     0.001553\n",
       "ENSG00000226433.1     0.001259\n",
       "ENSG00000101180.14    0.001175\n",
       "ENSG00000275475.1     0.001046\n",
       "ENSG00000265865.1     0.001045\n",
       "dtype: float32"
      ]
     },
     "execution_count": 37,
     "metadata": {},
     "output_type": "execute_result"
    },
    {
     "data": {
      "text/plain": [
       "ENSG00000254490.1    0.035294\n",
       "ENSG00000230275.2    0.004957\n",
       "ENSG00000205495.1    0.003733\n",
       "ENSG00000266319.1    0.001615\n",
       "ENSG00000231216.1    0.001547\n",
       "ENSG00000263692.1    0.001547\n",
       "ENSG00000230261.1    0.001397\n",
       "ENSG00000186965.4    0.001368\n",
       "ENSG00000274116.1    0.001360\n",
       "ENSG00000240895.1    0.001026\n",
       "dtype: float32"
      ]
     },
     "execution_count": 37,
     "metadata": {},
     "output_type": "execute_result"
    },
    {
     "data": {
      "text/plain": [
       "ENSG00000214978.7     0.002878\n",
       "ENSG00000228105.1     0.001061\n",
       "ENSG00000222805.1     0.000939\n",
       "ENSG00000101470.8     0.000925\n",
       "ENSG00000173227.12    0.000860\n",
       "ENSG00000104879.4     0.000643\n",
       "ENSG00000183631.4     0.000621\n",
       "ENSG00000131142.12    0.000616\n",
       "ENSG00000137270.10    0.000597\n",
       "ENSG00000170369.3     0.000570\n",
       "dtype: float32"
      ]
     },
     "execution_count": 37,
     "metadata": {},
     "output_type": "execute_result"
    },
    {
     "data": {
      "text/plain": [
       "ENSG00000263967.1     0.001462\n",
       "ENSG00000276118.1     0.000848\n",
       "ENSG00000251132.1     0.000772\n",
       "ENSG00000176893.4     0.000758\n",
       "ENSG00000251973.1     0.000721\n",
       "ENSG00000176925.6     0.000590\n",
       "ENSG00000225532.1     0.000451\n",
       "ENSG00000100883.10    0.000446\n",
       "ENSG00000251757.1     0.000445\n",
       "ENSG00000226981.2     0.000438\n",
       "dtype: float32"
      ]
     },
     "execution_count": 37,
     "metadata": {},
     "output_type": "execute_result"
    },
    {
     "data": {
      "text/plain": [
       "ENSG00000269466.2    0.005977\n",
       "ENSG00000101470.8    0.004519\n",
       "ENSG00000150594.6    0.002174\n",
       "ENSG00000136327.6    0.001527\n",
       "ENSG00000213247.3    0.001245\n",
       "ENSG00000242080.1    0.001221\n",
       "ENSG00000236081.1    0.001205\n",
       "ENSG00000111424.9    0.001145\n",
       "ENSG00000260997.1    0.001140\n",
       "ENSG00000229542.3    0.001083\n",
       "dtype: float32"
      ]
     },
     "execution_count": 37,
     "metadata": {},
     "output_type": "execute_result"
    },
    {
     "data": {
      "text/plain": [
       "ENSG00000235719.3    0.003113\n",
       "ENSG00000231743.1    0.002207\n",
       "ENSG00000226376.1    0.002155\n",
       "ENSG00000232286.1    0.002003\n",
       "ENSG00000214185.3    0.001658\n",
       "ENSG00000144962.6    0.001406\n",
       "ENSG00000275773.1    0.001181\n",
       "ENSG00000129873.6    0.001109\n",
       "ENSG00000260611.1    0.001037\n",
       "ENSG00000164363.9    0.000874\n",
       "dtype: float32"
      ]
     },
     "execution_count": 37,
     "metadata": {},
     "output_type": "execute_result"
    },
    {
     "data": {
      "text/plain": [
       "ENSG00000274527.3     0.001016\n",
       "ENSG00000221764.1     0.000932\n",
       "ENSG00000118596.10    0.000776\n",
       "ENSG00000234380.1     0.000699\n",
       "ENSG00000215601.3     0.000688\n",
       "ENSG00000257139.1     0.000641\n",
       "ENSG00000118600.10    0.000604\n",
       "ENSG00000224294.1     0.000585\n",
       "ENSG00000214896.4     0.000559\n",
       "ENSG00000139263.10    0.000516\n",
       "dtype: float32"
      ]
     },
     "execution_count": 37,
     "metadata": {},
     "output_type": "execute_result"
    },
    {
     "data": {
      "text/plain": [
       "ENSG00000213355.3     0.001252\n",
       "ENSG00000198125.11    0.001155\n",
       "ENSG00000136457.8     0.001148\n",
       "ENSG00000200213.1     0.000848\n",
       "ENSG00000213130.3     0.000735\n",
       "ENSG00000228191.1     0.000715\n",
       "ENSG00000179913.9     0.000709\n",
       "ENSG00000132821.10    0.000675\n",
       "ENSG00000234481.1     0.000657\n",
       "ENSG00000206549.11    0.000649\n",
       "dtype: float32"
      ]
     },
     "execution_count": 37,
     "metadata": {},
     "output_type": "execute_result"
    },
    {
     "data": {
      "text/plain": [
       "ENSG00000102837.6    0.005685\n",
       "ENSG00000243945.1    0.001518\n",
       "ENSG00000211657.3    0.001512\n",
       "ENSG00000231743.1    0.001282\n",
       "ENSG00000239001.1    0.000951\n",
       "ENSG00000237235.2    0.000931\n",
       "ENSG00000230158.1    0.000916\n",
       "ENSG00000206983.1    0.000798\n",
       "ENSG00000200171.1    0.000732\n",
       "ENSG00000189052.6    0.000647\n",
       "dtype: float32"
      ]
     },
     "execution_count": 37,
     "metadata": {},
     "output_type": "execute_result"
    },
    {
     "data": {
      "text/plain": [
       "ENSG00000148702.13    0.000776\n",
       "ENSG00000161055.3     0.000767\n",
       "ENSG00000255406.1     0.000756\n",
       "ENSG00000130766.4     0.000713\n",
       "ENSG00000179023.8     0.000693\n",
       "ENSG00000130513.6     0.000616\n",
       "ENSG00000275395.3     0.000587\n",
       "ENSG00000279797.1     0.000583\n",
       "ENSG00000259156.6     0.000574\n",
       "ENSG00000006756.14    0.000547\n",
       "dtype: float32"
      ]
     },
     "execution_count": 37,
     "metadata": {},
     "output_type": "execute_result"
    },
    {
     "data": {
      "text/plain": [
       "ENSG00000257522.4     0.003080\n",
       "ENSG00000207728.1     0.000679\n",
       "ENSG00000164509.12    0.000640\n",
       "ENSG00000215124.2     0.000551\n",
       "ENSG00000224004.2     0.000548\n",
       "ENSG00000221527.1     0.000530\n",
       "ENSG00000180574.3     0.000455\n",
       "ENSG00000229172.1     0.000410\n",
       "ENSG00000251173.1     0.000348\n",
       "ENSG00000234427.1     0.000345\n",
       "dtype: float32"
      ]
     },
     "execution_count": 37,
     "metadata": {},
     "output_type": "execute_result"
    },
    {
     "data": {
      "text/plain": [
       "ENSG00000223591.4     0.002749\n",
       "ENSG00000261398.1     0.002491\n",
       "ENSG00000278052.1     0.002422\n",
       "ENSG00000263692.1     0.002205\n",
       "ENSG00000278933.1     0.001864\n",
       "ENSG00000214880.3     0.001553\n",
       "ENSG00000226433.1     0.001259\n",
       "ENSG00000101180.14    0.001175\n",
       "ENSG00000275475.1     0.001046\n",
       "ENSG00000265865.1     0.001045\n",
       "dtype: float32"
      ]
     },
     "execution_count": 37,
     "metadata": {},
     "output_type": "execute_result"
    },
    {
     "data": {
      "text/plain": [
       "ENSG00000262526.2     0.001050\n",
       "ENSG00000234476.1     0.000692\n",
       "ENSG00000260458.3     0.000541\n",
       "ENSG00000189052.6     0.000520\n",
       "ENSG00000112273.6     0.000504\n",
       "ENSG00000064300.7     0.000381\n",
       "ENSG00000087494.14    0.000360\n",
       "ENSG00000226629.1     0.000312\n",
       "ENSG00000150394.12    0.000305\n",
       "ENSG00000142619.4     0.000302\n",
       "dtype: float32"
      ]
     },
     "execution_count": 37,
     "metadata": {},
     "output_type": "execute_result"
    },
    {
     "data": {
      "text/plain": [
       "ENSG00000184148.3    0.004726\n",
       "ENSG00000260402.1    0.003545\n",
       "ENSG00000224784.2    0.003475\n",
       "ENSG00000224308.1    0.003380\n",
       "ENSG00000234089.1    0.002396\n",
       "ENSG00000188508.9    0.002323\n",
       "ENSG00000163202.4    0.002145\n",
       "ENSG00000215853.3    0.001874\n",
       "ENSG00000167769.4    0.001839\n",
       "ENSG00000267209.4    0.001656\n",
       "dtype: float32"
      ]
     },
     "execution_count": 37,
     "metadata": {},
     "output_type": "execute_result"
    },
    {
     "data": {
      "text/plain": [
       "ENSG00000253920.1    0.001016\n",
       "ENSG00000273330.1    0.001007\n",
       "ENSG00000223128.1    0.000954\n",
       "ENSG00000226442.2    0.000784\n",
       "ENSG00000253338.1    0.000764\n",
       "ENSG00000250585.1    0.000763\n",
       "ENSG00000230502.1    0.000570\n",
       "ENSG00000204548.3    0.000529\n",
       "ENSG00000256338.2    0.000463\n",
       "ENSG00000253860.1    0.000437\n",
       "dtype: float32"
      ]
     },
     "execution_count": 37,
     "metadata": {},
     "output_type": "execute_result"
    },
    {
     "data": {
      "text/plain": [
       "ENSG00000213355.3     0.001252\n",
       "ENSG00000198125.11    0.001155\n",
       "ENSG00000136457.8     0.001148\n",
       "ENSG00000200213.1     0.000848\n",
       "ENSG00000213130.3     0.000735\n",
       "ENSG00000228191.1     0.000715\n",
       "ENSG00000179913.9     0.000709\n",
       "ENSG00000132821.10    0.000675\n",
       "ENSG00000234481.1     0.000657\n",
       "ENSG00000206549.11    0.000649\n",
       "dtype: float32"
      ]
     },
     "execution_count": 37,
     "metadata": {},
     "output_type": "execute_result"
    }
   ],
   "source": [
    "for i in range(len(attr)):\n",
    "    attr_samp = pd.Series(attr[i], index=train_dataset.data.columns)\n",
    "    attr_samp.nlargest(10)"
   ]
  },
  {
   "cell_type": "code",
   "execution_count": null,
   "metadata": {},
   "outputs": [],
   "source": []
  }
 ],
 "metadata": {
  "kernelspec": {
   "display_name": "torch",
   "language": "python",
   "name": "torch"
  },
  "language_info": {
   "codemirror_mode": {
    "name": "ipython",
    "version": 3
   },
   "file_extension": ".py",
   "mimetype": "text/x-python",
   "name": "python",
   "nbconvert_exporter": "python",
   "pygments_lexer": "ipython3",
   "version": "3.7.3"
  }
 },
 "nbformat": 4,
 "nbformat_minor": 2
}
