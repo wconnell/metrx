{
 "cells": [
  {
   "cell_type": "code",
   "execution_count": 1,
   "metadata": {},
   "outputs": [],
   "source": [
    "%load_ext autoreload\n",
    "%autoreload 2"
   ]
  },
  {
   "cell_type": "code",
   "execution_count": 212,
   "metadata": {},
   "outputs": [],
   "source": [
    "import numpy as np\n",
    "import pandas as pd\n",
    "#np.random.seed(123)\n",
    "\n",
    "# viz\n",
    "import matplotlib.pyplot as plt\n",
    "\n",
    "# notebook settings\n",
    "from IPython.core.interactiveshell import InteractiveShell\n",
    "InteractiveShell.ast_node_interactivity = \"all\"\n",
    "\n",
    "pd.set_option('display.max_columns', 1000)"
   ]
  },
  {
   "cell_type": "markdown",
   "metadata": {},
   "source": [
    "## Sample Prep"
   ]
  },
  {
   "cell_type": "code",
   "execution_count": 213,
   "metadata": {},
   "outputs": [
    {
     "data": {
      "text/plain": [
       "TCGA-LUSC    301\n",
       "TCGA-LUAD    287\n",
       "CPTAC-3      209\n",
       "Name: Project ID, dtype: int64"
      ]
     },
     "execution_count": 213,
     "metadata": {},
     "output_type": "execute_result"
    }
   ],
   "source": [
    "samples = pd.read_csv('../data/TCGA/rna-seq_adeno/meta/gdc_sample_sheet.2020-01-27.tsv', sep=\"\\t\")\n",
    "# get file type\n",
    "samples['data'] = [val[1] for i,val in samples['File Name'].str.split(\".\").items()]\n",
    "samples['Project ID'].value_counts()"
   ]
  },
  {
   "cell_type": "markdown",
   "metadata": {},
   "source": [
    "Samples with RNAseq adjacent normal tissue"
   ]
  },
  {
   "cell_type": "code",
   "execution_count": 214,
   "metadata": {},
   "outputs": [
    {
     "data": {
      "text/plain": [
       "Primary Tumor                               558\n",
       "Solid Tissue Normal                         206\n",
       "Primary Tumor, Primary Tumor                 29\n",
       "Solid Tissue Normal, Solid Tissue Normal      4\n",
       "Name: Sample Type, dtype: int64"
      ]
     },
     "execution_count": 214,
     "metadata": {},
     "output_type": "execute_result"
    }
   ],
   "source": [
    "samples['Sample Type'].value_counts()"
   ]
  },
  {
   "cell_type": "code",
   "execution_count": 215,
   "metadata": {},
   "outputs": [],
   "source": [
    "samples.loc[samples['Sample Type']=='Primary Tumor, Primary Tumor', 'Sample Type'] = 'Primary Tumor'\n",
    "samples.loc[samples['Sample Type']=='Solid Tissue Normal, Solid Tissue Normal', 'Sample Type'] = 'Solid Tissue Normal'"
   ]
  },
  {
   "cell_type": "code",
   "execution_count": 216,
   "metadata": {},
   "outputs": [
    {
     "data": {
      "text/plain": [
       "Primary Tumor          587\n",
       "Solid Tissue Normal    210\n",
       "Name: Sample Type, dtype: int64"
      ]
     },
     "execution_count": 216,
     "metadata": {},
     "output_type": "execute_result"
    }
   ],
   "source": [
    "samples['Sample Type'].value_counts()"
   ]
  },
  {
   "cell_type": "code",
   "execution_count": 217,
   "metadata": {},
   "outputs": [],
   "source": [
    "# all cases with adjacent normal tissue\n",
    "cases = samples[samples['Sample Type']=='Solid Tissue Normal']['Case ID']"
   ]
  },
  {
   "cell_type": "code",
   "execution_count": 218,
   "metadata": {},
   "outputs": [
    {
     "data": {
      "text/plain": [
       "176"
      ]
     },
     "execution_count": 218,
     "metadata": {},
     "output_type": "execute_result"
    },
    {
     "data": {
      "text/plain": [
       "210"
      ]
     },
     "execution_count": 218,
     "metadata": {},
     "output_type": "execute_result"
    }
   ],
   "source": [
    "# disparity in cases\n",
    "samples[(samples['Case ID'].isin(cases)) & (samples['Sample Type']=='Primary Tumor') \n",
    "        & (samples['data']=='FPKM')]['Case ID'].nunique()\n",
    "samples[(samples['Case ID'].isin(cases)) & (samples['Sample Type']=='Solid Tissue Normal') \n",
    "        & (samples['data']=='FPKM')]['Case ID'].nunique()"
   ]
  },
  {
   "cell_type": "code",
   "execution_count": 219,
   "metadata": {},
   "outputs": [
    {
     "data": {
      "text/plain": [
       "(187,)"
      ]
     },
     "execution_count": 219,
     "metadata": {},
     "output_type": "execute_result"
    }
   ],
   "source": [
    "# divide, join, subset\n",
    "case_tumor = samples[(samples['Case ID'].isin(cases)) & (samples['Sample Type']=='Primary Tumor') & \n",
    "                     (samples['data']=='FPKM')]\n",
    "case_norm = samples[(samples['Case ID'].isin(cases)) & (samples['Sample Type']=='Solid Tissue Normal') & \n",
    "                    (samples['data']=='FPKM')]\n",
    "cases = pd.merge(case_tumor['Case ID'], case_norm['Case ID'])['Case ID']\n",
    "cases.shape"
   ]
  },
  {
   "cell_type": "code",
   "execution_count": 220,
   "metadata": {},
   "outputs": [],
   "source": [
    "case_tumor = case_tumor[case_tumor['Case ID'].isin(cases)]\n",
    "case_norm = case_norm[case_norm['Case ID'].isin(cases)]\n",
    "# random shuffle so test dataset loader has random order\n",
    "cases = pd.concat([case_tumor, case_norm]).sample(frac=1)"
   ]
  },
  {
   "cell_type": "code",
   "execution_count": 221,
   "metadata": {},
   "outputs": [
    {
     "data": {
      "text/plain": [
       "(187, 9)"
      ]
     },
     "execution_count": 221,
     "metadata": {},
     "output_type": "execute_result"
    },
    {
     "data": {
      "text/plain": [
       "(176, 9)"
      ]
     },
     "execution_count": 221,
     "metadata": {},
     "output_type": "execute_result"
    },
    {
     "data": {
      "text/plain": [
       "(363, 9)"
      ]
     },
     "execution_count": 221,
     "metadata": {},
     "output_type": "execute_result"
    }
   ],
   "source": [
    "case_tumor.shape\n",
    "case_norm.shape\n",
    "cases.shape"
   ]
  },
  {
   "cell_type": "markdown",
   "metadata": {},
   "source": [
    "## Map Ensembl genes to Proteins"
   ]
  },
  {
   "cell_type": "code",
   "execution_count": 222,
   "metadata": {},
   "outputs": [
    {
     "data": {
      "text/plain": [
       "(18842, 22)"
      ]
     },
     "execution_count": 222,
     "metadata": {},
     "output_type": "execute_result"
    }
   ],
   "source": [
    "id_map = pd.read_csv(\"/srv/home/wconnell/keiser/data/uniprot_mapping_ids/map_ensembl_uniprot.csv\")\n",
    "reviewed_proteins = pd.read_csv(\"/srv/home/wconnell/keiser/data/uniprot_mapping_ids/TCGA_rnaseq_uniprot_features.tab.gz\", sep=\"\\t\")\n",
    "proteins = pd.merge(id_map, reviewed_proteins, left_on='UNIPROT_ID', right_on='Entry name')\n",
    "proteins['hgnc'] = [gene.split(\";\")[0] for gene in proteins['Gene names  (primary )']]\n",
    "proteins.shape"
   ]
  },
  {
   "cell_type": "markdown",
   "metadata": {},
   "source": [
    "## Dataset Prep"
   ]
  },
  {
   "cell_type": "markdown",
   "metadata": {},
   "source": [
    "Need to ensure test set has health/diseased samples matched for each case"
   ]
  },
  {
   "cell_type": "code",
   "execution_count": 223,
   "metadata": {},
   "outputs": [
    {
     "data": {
      "text/html": [
       "<div>\n",
       "<style scoped>\n",
       "    .dataframe tbody tr th:only-of-type {\n",
       "        vertical-align: middle;\n",
       "    }\n",
       "\n",
       "    .dataframe tbody tr th {\n",
       "        vertical-align: top;\n",
       "    }\n",
       "\n",
       "    .dataframe thead th {\n",
       "        text-align: right;\n",
       "    }\n",
       "</style>\n",
       "<table border=\"1\" class=\"dataframe\">\n",
       "  <thead>\n",
       "    <tr style=\"text-align: right;\">\n",
       "      <th></th>\n",
       "      <th>File ID</th>\n",
       "      <th>File Name</th>\n",
       "      <th>Data Category</th>\n",
       "      <th>Data Type</th>\n",
       "      <th>Project ID</th>\n",
       "      <th>Case ID</th>\n",
       "      <th>Sample ID</th>\n",
       "      <th>Sample Type</th>\n",
       "      <th>data</th>\n",
       "    </tr>\n",
       "  </thead>\n",
       "  <tbody>\n",
       "    <tr>\n",
       "      <th>713</th>\n",
       "      <td>ba496841-1f89-43fd-9a10-b5dab80aa8b5</td>\n",
       "      <td>027ec9be-7e41-44df-8f61-1e5698303eac.FPKM.txt.gz</td>\n",
       "      <td>Transcriptome Profiling</td>\n",
       "      <td>Gene Expression Quantification</td>\n",
       "      <td>TCGA-LUAD</td>\n",
       "      <td>TCGA-44-2665</td>\n",
       "      <td>TCGA-44-2665-11A</td>\n",
       "      <td>Solid Tissue Normal</td>\n",
       "      <td>FPKM</td>\n",
       "    </tr>\n",
       "    <tr>\n",
       "      <th>119</th>\n",
       "      <td>ab99271a-8aa7-4416-8254-b841ad350140</td>\n",
       "      <td>3ac24084-dcf1-4aff-83ed-b20c5845c9ff.FPKM.txt.gz</td>\n",
       "      <td>Transcriptome Profiling</td>\n",
       "      <td>Gene Expression Quantification</td>\n",
       "      <td>CPTAC-3</td>\n",
       "      <td>C3N-01072</td>\n",
       "      <td>C3N-01072-02</td>\n",
       "      <td>Primary Tumor</td>\n",
       "      <td>FPKM</td>\n",
       "    </tr>\n",
       "    <tr>\n",
       "      <th>135</th>\n",
       "      <td>fed1eb8c-de07-49bd-a5ca-4fa1de47e0e5</td>\n",
       "      <td>20f18495-7bd3-44e7-ba71-48a46296a85f.FPKM.txt.gz</td>\n",
       "      <td>Transcriptome Profiling</td>\n",
       "      <td>Gene Expression Quantification</td>\n",
       "      <td>CPTAC-3</td>\n",
       "      <td>C3L-02508</td>\n",
       "      <td>C3L-02508-02</td>\n",
       "      <td>Primary Tumor</td>\n",
       "      <td>FPKM</td>\n",
       "    </tr>\n",
       "    <tr>\n",
       "      <th>38</th>\n",
       "      <td>1aafde58-9b8e-4fa6-9acb-8b6090cf06db</td>\n",
       "      <td>ef9244df-399a-4646-b777-a25766835c8d.FPKM.txt.gz</td>\n",
       "      <td>Transcriptome Profiling</td>\n",
       "      <td>Gene Expression Quantification</td>\n",
       "      <td>TCGA-LUAD</td>\n",
       "      <td>TCGA-91-6836</td>\n",
       "      <td>TCGA-91-6836-11A</td>\n",
       "      <td>Solid Tissue Normal</td>\n",
       "      <td>FPKM</td>\n",
       "    </tr>\n",
       "    <tr>\n",
       "      <th>90</th>\n",
       "      <td>59122622-f44f-4b02-ba1a-6848eff4b49c</td>\n",
       "      <td>6d0cf353-e818-4173-a200-2c8dd85d49f1.FPKM.txt.gz</td>\n",
       "      <td>Transcriptome Profiling</td>\n",
       "      <td>Gene Expression Quantification</td>\n",
       "      <td>TCGA-LUAD</td>\n",
       "      <td>TCGA-49-6743</td>\n",
       "      <td>TCGA-49-6743-11A</td>\n",
       "      <td>Solid Tissue Normal</td>\n",
       "      <td>FPKM</td>\n",
       "    </tr>\n",
       "  </tbody>\n",
       "</table>\n",
       "</div>"
      ],
      "text/plain": [
       "                                  File ID  \\\n",
       "713  ba496841-1f89-43fd-9a10-b5dab80aa8b5   \n",
       "119  ab99271a-8aa7-4416-8254-b841ad350140   \n",
       "135  fed1eb8c-de07-49bd-a5ca-4fa1de47e0e5   \n",
       "38   1aafde58-9b8e-4fa6-9acb-8b6090cf06db   \n",
       "90   59122622-f44f-4b02-ba1a-6848eff4b49c   \n",
       "\n",
       "                                            File Name  \\\n",
       "713  027ec9be-7e41-44df-8f61-1e5698303eac.FPKM.txt.gz   \n",
       "119  3ac24084-dcf1-4aff-83ed-b20c5845c9ff.FPKM.txt.gz   \n",
       "135  20f18495-7bd3-44e7-ba71-48a46296a85f.FPKM.txt.gz   \n",
       "38   ef9244df-399a-4646-b777-a25766835c8d.FPKM.txt.gz   \n",
       "90   6d0cf353-e818-4173-a200-2c8dd85d49f1.FPKM.txt.gz   \n",
       "\n",
       "               Data Category                       Data Type Project ID  \\\n",
       "713  Transcriptome Profiling  Gene Expression Quantification  TCGA-LUAD   \n",
       "119  Transcriptome Profiling  Gene Expression Quantification    CPTAC-3   \n",
       "135  Transcriptome Profiling  Gene Expression Quantification    CPTAC-3   \n",
       "38   Transcriptome Profiling  Gene Expression Quantification  TCGA-LUAD   \n",
       "90   Transcriptome Profiling  Gene Expression Quantification  TCGA-LUAD   \n",
       "\n",
       "          Case ID         Sample ID          Sample Type  data  \n",
       "713  TCGA-44-2665  TCGA-44-2665-11A  Solid Tissue Normal  FPKM  \n",
       "119     C3N-01072      C3N-01072-02        Primary Tumor  FPKM  \n",
       "135     C3L-02508      C3L-02508-02        Primary Tumor  FPKM  \n",
       "38   TCGA-91-6836  TCGA-91-6836-11A  Solid Tissue Normal  FPKM  \n",
       "90   TCGA-49-6743  TCGA-49-6743-11A  Solid Tissue Normal  FPKM  "
      ]
     },
     "execution_count": 223,
     "metadata": {},
     "output_type": "execute_result"
    }
   ],
   "source": [
    "cases.head()"
   ]
  },
  {
   "cell_type": "code",
   "execution_count": 227,
   "metadata": {},
   "outputs": [],
   "source": [
    "def train_test_split_case(samples, cases, test_size=0.25):\n",
    "    \"\"\"\n",
    "    Splits dataframe into random train and test sets for Siamese network evaluation.\n",
    "    \n",
    "    The test set will only contain cases with a single pair of matched samples.\n",
    "    The train set will contain all others, even cases that have > 2 samples, irrespective if they are exactly matched.\n",
    "    \n",
    "    \"\"\"\n",
    "    # total test size, round to even number for subsetting test\n",
    "    n_test = int(len(samples) * test_size)\n",
    "    if n_test % 2 != 0: n_test = n_test - 1\n",
    "    # subset samples with a single matched pair\n",
    "    ids = samples.groupby([cases]).size()\n",
    "    assert (ids > 1).all(), \"Some samples do not have at least a single matched pair.\"\n",
    "    ids = ids[ids == 2].index.values\n",
    "    test_ids = np.random.choice(ids, size=int(n_test/2), replace=False)\n",
    "    return samples[~samples[cases].isin(test_ids)].reset_index(drop=True), samples[samples[cases].isin(test_ids)].reset_index(drop=True)"
   ]
  },
  {
   "cell_type": "code",
   "execution_count": 228,
   "metadata": {},
   "outputs": [
    {
     "data": {
      "text/plain": [
       "Primary Tumor          142\n",
       "Solid Tissue Normal    131\n",
       "Name: Sample Type, dtype: int64"
      ]
     },
     "execution_count": 228,
     "metadata": {},
     "output_type": "execute_result"
    },
    {
     "data": {
      "text/plain": [
       "Primary Tumor          45\n",
       "Solid Tissue Normal    45\n",
       "Name: Sample Type, dtype: int64"
      ]
     },
     "execution_count": 228,
     "metadata": {},
     "output_type": "execute_result"
    }
   ],
   "source": [
    "from sklearn.model_selection import train_test_split\n",
    "from sklearn.preprocessing import StandardScaler\n",
    "\n",
    "target = 'Sample Type'\n",
    "cases[target] = cases[target].astype('category').cat.reorder_categories(['Solid Tissue Normal', 'Primary Tumor'])\n",
    "\n",
    "train, test = train_test_split_case(samples=cases, cases='Case ID', test_size=0.25)\n",
    "train[target].value_counts()\n",
    "test[target].value_counts()"
   ]
  },
  {
   "cell_type": "code",
   "execution_count": 229,
   "metadata": {},
   "outputs": [
    {
     "data": {
      "text/html": [
       "<div>\n",
       "<style scoped>\n",
       "    .dataframe tbody tr th:only-of-type {\n",
       "        vertical-align: middle;\n",
       "    }\n",
       "\n",
       "    .dataframe tbody tr th {\n",
       "        vertical-align: top;\n",
       "    }\n",
       "\n",
       "    .dataframe thead th {\n",
       "        text-align: right;\n",
       "    }\n",
       "</style>\n",
       "<table border=\"1\" class=\"dataframe\">\n",
       "  <thead>\n",
       "    <tr style=\"text-align: right;\">\n",
       "      <th></th>\n",
       "      <th>File ID</th>\n",
       "      <th>File Name</th>\n",
       "      <th>Data Category</th>\n",
       "      <th>Data Type</th>\n",
       "      <th>Project ID</th>\n",
       "      <th>Case ID</th>\n",
       "      <th>Sample ID</th>\n",
       "      <th>Sample Type</th>\n",
       "      <th>data</th>\n",
       "    </tr>\n",
       "  </thead>\n",
       "  <tbody>\n",
       "    <tr>\n",
       "      <th>0</th>\n",
       "      <td>fed1eb8c-de07-49bd-a5ca-4fa1de47e0e5</td>\n",
       "      <td>20f18495-7bd3-44e7-ba71-48a46296a85f.FPKM.txt.gz</td>\n",
       "      <td>Transcriptome Profiling</td>\n",
       "      <td>Gene Expression Quantification</td>\n",
       "      <td>CPTAC-3</td>\n",
       "      <td>C3L-02508</td>\n",
       "      <td>C3L-02508-02</td>\n",
       "      <td>Primary Tumor</td>\n",
       "      <td>FPKM</td>\n",
       "    </tr>\n",
       "    <tr>\n",
       "      <th>1</th>\n",
       "      <td>1ce56fba-de33-4059-b235-3e11ac0d589c</td>\n",
       "      <td>ba92f745-0592-4aca-9924-533486427c1b.FPKM.txt.gz</td>\n",
       "      <td>Transcriptome Profiling</td>\n",
       "      <td>Gene Expression Quantification</td>\n",
       "      <td>TCGA-LUSC</td>\n",
       "      <td>TCGA-90-6837</td>\n",
       "      <td>TCGA-90-6837-11A</td>\n",
       "      <td>Solid Tissue Normal</td>\n",
       "      <td>FPKM</td>\n",
       "    </tr>\n",
       "    <tr>\n",
       "      <th>2</th>\n",
       "      <td>efa2a23c-6364-4b00-8237-e1c22ff4a510</td>\n",
       "      <td>f4c641f3-a4d9-49cd-a005-4d689f5ea7e1.FPKM.txt.gz</td>\n",
       "      <td>Transcriptome Profiling</td>\n",
       "      <td>Gene Expression Quantification</td>\n",
       "      <td>CPTAC-3</td>\n",
       "      <td>C3N-00552</td>\n",
       "      <td>C3N-00552-02</td>\n",
       "      <td>Primary Tumor</td>\n",
       "      <td>FPKM</td>\n",
       "    </tr>\n",
       "    <tr>\n",
       "      <th>3</th>\n",
       "      <td>15967af5-cca9-4cae-a975-9f07206f5864</td>\n",
       "      <td>fde67178-6278-4872-a2c4-cfa32f71fdbe.FPKM.txt.gz</td>\n",
       "      <td>Transcriptome Profiling</td>\n",
       "      <td>Gene Expression Quantification</td>\n",
       "      <td>TCGA-LUAD</td>\n",
       "      <td>TCGA-49-6744</td>\n",
       "      <td>TCGA-49-6744-11A</td>\n",
       "      <td>Solid Tissue Normal</td>\n",
       "      <td>FPKM</td>\n",
       "    </tr>\n",
       "    <tr>\n",
       "      <th>4</th>\n",
       "      <td>3571cbe6-e37e-44ce-9b70-a0f3335da569</td>\n",
       "      <td>b2ca49c5-527d-43e0-8280-6fe8ff7b3738.FPKM.txt.gz</td>\n",
       "      <td>Transcriptome Profiling</td>\n",
       "      <td>Gene Expression Quantification</td>\n",
       "      <td>TCGA-LUAD</td>\n",
       "      <td>TCGA-91-6828</td>\n",
       "      <td>TCGA-91-6828-11A</td>\n",
       "      <td>Solid Tissue Normal</td>\n",
       "      <td>FPKM</td>\n",
       "    </tr>\n",
       "    <tr>\n",
       "      <th>...</th>\n",
       "      <td>...</td>\n",
       "      <td>...</td>\n",
       "      <td>...</td>\n",
       "      <td>...</td>\n",
       "      <td>...</td>\n",
       "      <td>...</td>\n",
       "      <td>...</td>\n",
       "      <td>...</td>\n",
       "      <td>...</td>\n",
       "    </tr>\n",
       "    <tr>\n",
       "      <th>85</th>\n",
       "      <td>4d1acdc8-0cb9-4108-952b-c0e79fa4ff8e</td>\n",
       "      <td>8c128f46-da86-490c-88ac-7f66db8ffa78.FPKM.txt.gz</td>\n",
       "      <td>Transcriptome Profiling</td>\n",
       "      <td>Gene Expression Quantification</td>\n",
       "      <td>CPTAC-3</td>\n",
       "      <td>C3L-02348</td>\n",
       "      <td>C3L-02348-06</td>\n",
       "      <td>Solid Tissue Normal</td>\n",
       "      <td>FPKM</td>\n",
       "    </tr>\n",
       "    <tr>\n",
       "      <th>86</th>\n",
       "      <td>06dbc523-8c42-4cac-9e51-b956657ad143</td>\n",
       "      <td>3107533c-054e-463c-b2bc-73ba71ed133a.FPKM.txt.gz</td>\n",
       "      <td>Transcriptome Profiling</td>\n",
       "      <td>Gene Expression Quantification</td>\n",
       "      <td>TCGA-LUAD</td>\n",
       "      <td>TCGA-55-6985</td>\n",
       "      <td>TCGA-55-6985-01A</td>\n",
       "      <td>Primary Tumor</td>\n",
       "      <td>FPKM</td>\n",
       "    </tr>\n",
       "    <tr>\n",
       "      <th>87</th>\n",
       "      <td>b1bd2d52-b8a2-4bd7-84c0-2998bd7e8943</td>\n",
       "      <td>f8c28915-b6b9-4999-8b3e-4a0d1498d486.FPKM.txt.gz</td>\n",
       "      <td>Transcriptome Profiling</td>\n",
       "      <td>Gene Expression Quantification</td>\n",
       "      <td>CPTAC-3</td>\n",
       "      <td>C3L-00604</td>\n",
       "      <td>C3L-00604-01</td>\n",
       "      <td>Primary Tumor</td>\n",
       "      <td>FPKM</td>\n",
       "    </tr>\n",
       "    <tr>\n",
       "      <th>88</th>\n",
       "      <td>b50f55e2-12b8-462b-ad8d-80a3cdd1db10</td>\n",
       "      <td>a73ebb4b-dc1a-4148-9f5d-fc0cd1f63f2c.FPKM.txt.gz</td>\n",
       "      <td>Transcriptome Profiling</td>\n",
       "      <td>Gene Expression Quantification</td>\n",
       "      <td>CPTAC-3</td>\n",
       "      <td>C3N-01415</td>\n",
       "      <td>C3N-01415-01</td>\n",
       "      <td>Primary Tumor</td>\n",
       "      <td>FPKM</td>\n",
       "    </tr>\n",
       "    <tr>\n",
       "      <th>89</th>\n",
       "      <td>b9a629be-afa8-4936-904b-5d1b7a41dd58</td>\n",
       "      <td>dfbd7fa2-381f-4d52-a997-8e9ec71f760f.FPKM.txt.gz</td>\n",
       "      <td>Transcriptome Profiling</td>\n",
       "      <td>Gene Expression Quantification</td>\n",
       "      <td>TCGA-LUAD</td>\n",
       "      <td>TCGA-50-5931</td>\n",
       "      <td>TCGA-50-5931-11A</td>\n",
       "      <td>Solid Tissue Normal</td>\n",
       "      <td>FPKM</td>\n",
       "    </tr>\n",
       "  </tbody>\n",
       "</table>\n",
       "<p>90 rows × 9 columns</p>\n",
       "</div>"
      ],
      "text/plain": [
       "                                 File ID  \\\n",
       "0   fed1eb8c-de07-49bd-a5ca-4fa1de47e0e5   \n",
       "1   1ce56fba-de33-4059-b235-3e11ac0d589c   \n",
       "2   efa2a23c-6364-4b00-8237-e1c22ff4a510   \n",
       "3   15967af5-cca9-4cae-a975-9f07206f5864   \n",
       "4   3571cbe6-e37e-44ce-9b70-a0f3335da569   \n",
       "..                                   ...   \n",
       "85  4d1acdc8-0cb9-4108-952b-c0e79fa4ff8e   \n",
       "86  06dbc523-8c42-4cac-9e51-b956657ad143   \n",
       "87  b1bd2d52-b8a2-4bd7-84c0-2998bd7e8943   \n",
       "88  b50f55e2-12b8-462b-ad8d-80a3cdd1db10   \n",
       "89  b9a629be-afa8-4936-904b-5d1b7a41dd58   \n",
       "\n",
       "                                           File Name            Data Category  \\\n",
       "0   20f18495-7bd3-44e7-ba71-48a46296a85f.FPKM.txt.gz  Transcriptome Profiling   \n",
       "1   ba92f745-0592-4aca-9924-533486427c1b.FPKM.txt.gz  Transcriptome Profiling   \n",
       "2   f4c641f3-a4d9-49cd-a005-4d689f5ea7e1.FPKM.txt.gz  Transcriptome Profiling   \n",
       "3   fde67178-6278-4872-a2c4-cfa32f71fdbe.FPKM.txt.gz  Transcriptome Profiling   \n",
       "4   b2ca49c5-527d-43e0-8280-6fe8ff7b3738.FPKM.txt.gz  Transcriptome Profiling   \n",
       "..                                               ...                      ...   \n",
       "85  8c128f46-da86-490c-88ac-7f66db8ffa78.FPKM.txt.gz  Transcriptome Profiling   \n",
       "86  3107533c-054e-463c-b2bc-73ba71ed133a.FPKM.txt.gz  Transcriptome Profiling   \n",
       "87  f8c28915-b6b9-4999-8b3e-4a0d1498d486.FPKM.txt.gz  Transcriptome Profiling   \n",
       "88  a73ebb4b-dc1a-4148-9f5d-fc0cd1f63f2c.FPKM.txt.gz  Transcriptome Profiling   \n",
       "89  dfbd7fa2-381f-4d52-a997-8e9ec71f760f.FPKM.txt.gz  Transcriptome Profiling   \n",
       "\n",
       "                         Data Type Project ID       Case ID         Sample ID  \\\n",
       "0   Gene Expression Quantification    CPTAC-3     C3L-02508      C3L-02508-02   \n",
       "1   Gene Expression Quantification  TCGA-LUSC  TCGA-90-6837  TCGA-90-6837-11A   \n",
       "2   Gene Expression Quantification    CPTAC-3     C3N-00552      C3N-00552-02   \n",
       "3   Gene Expression Quantification  TCGA-LUAD  TCGA-49-6744  TCGA-49-6744-11A   \n",
       "4   Gene Expression Quantification  TCGA-LUAD  TCGA-91-6828  TCGA-91-6828-11A   \n",
       "..                             ...        ...           ...               ...   \n",
       "85  Gene Expression Quantification    CPTAC-3     C3L-02348      C3L-02348-06   \n",
       "86  Gene Expression Quantification  TCGA-LUAD  TCGA-55-6985  TCGA-55-6985-01A   \n",
       "87  Gene Expression Quantification    CPTAC-3     C3L-00604      C3L-00604-01   \n",
       "88  Gene Expression Quantification    CPTAC-3     C3N-01415      C3N-01415-01   \n",
       "89  Gene Expression Quantification  TCGA-LUAD  TCGA-50-5931  TCGA-50-5931-11A   \n",
       "\n",
       "            Sample Type  data  \n",
       "0         Primary Tumor  FPKM  \n",
       "1   Solid Tissue Normal  FPKM  \n",
       "2         Primary Tumor  FPKM  \n",
       "3   Solid Tissue Normal  FPKM  \n",
       "4   Solid Tissue Normal  FPKM  \n",
       "..                  ...   ...  \n",
       "85  Solid Tissue Normal  FPKM  \n",
       "86        Primary Tumor  FPKM  \n",
       "87        Primary Tumor  FPKM  \n",
       "88        Primary Tumor  FPKM  \n",
       "89  Solid Tissue Normal  FPKM  \n",
       "\n",
       "[90 rows x 9 columns]"
      ]
     },
     "execution_count": 229,
     "metadata": {},
     "output_type": "execute_result"
    }
   ],
   "source": [
    "test"
   ]
  },
  {
   "cell_type": "code",
   "execution_count": 230,
   "metadata": {},
   "outputs": [
    {
     "name": "stdout",
     "output_type": "stream",
     "text": [
      "Cuda is available: True\n"
     ]
    },
    {
     "data": {
      "text/plain": [
       "{'Solid Tissue Normal': 0, 'Primary Tumor': 1}"
      ]
     },
     "execution_count": 230,
     "metadata": {},
     "output_type": "execute_result"
    }
   ],
   "source": [
    "import torch\n",
    "from torch.optim import lr_scheduler\n",
    "import torch.optim as optim\n",
    "from torch.autograd import Variable\n",
    "#torch.manual_seed(123)\n",
    "\n",
    "from trainer import fit\n",
    "import visualization as vis\n",
    "import numpy as np\n",
    "cuda = torch.cuda.is_available()\n",
    "print(\"Cuda is available: {}\".format(cuda))\n",
    "\n",
    "classes = {key:val for val,key in enumerate(train[target].cat.categories.values)}\n",
    "classes"
   ]
  },
  {
   "cell_type": "code",
   "execution_count": 231,
   "metadata": {},
   "outputs": [],
   "source": [
    "from tcga_datasets import TCGA, SiameseTCGA\n",
    "root_dir = \"../data/TCGA/rna-seq_adeno/\"\n",
    "batch_size = 1\n",
    "\n",
    "train_dataset = TCGA(root_dir, samples=train, train=True, target=target, log=True)\n",
    "test_dataset = TCGA(root_dir, samples=test, train=False, target=target, log=True)\n",
    "\n",
    "scaler = StandardScaler()\n",
    "train_dataset.data = pd.DataFrame(scaler.fit_transform(train_dataset.data),\n",
    "                                  index=train_dataset.data.index,\n",
    "                                  columns=train_dataset.data.columns)\n",
    "test_dataset.data = pd.DataFrame(scaler.transform(test_dataset.data),\n",
    "                                 index=test_dataset.data.index,\n",
    "                                 columns=test_dataset.data.columns)\n",
    "\n",
    "kwargs = {'num_workers': 10, 'pin_memory': True} if cuda else {'num_workers': 10}\n",
    "train_loader = torch.utils.data.DataLoader(train_dataset, batch_size=batch_size, shuffle=True, **kwargs)\n",
    "test_loader = torch.utils.data.DataLoader(test_dataset, batch_size=batch_size, shuffle=False, **kwargs)"
   ]
  },
  {
   "cell_type": "markdown",
   "metadata": {},
   "source": [
    "#### Subset gene data to annotated proteins"
   ]
  },
  {
   "cell_type": "code",
   "execution_count": 232,
   "metadata": {},
   "outputs": [],
   "source": [
    "assert np.array_equal(train_dataset.data.columns, test_dataset.data.columns)\n",
    "parsed_cols = [ens[0] for ens in train_dataset.data.columns.str.split(\".\")]\n",
    "\n",
    "train_dataset.data.columns, test_dataset.data.columns = parsed_cols, parsed_cols\n",
    "protein_overlap_idx = np.isin(train_dataset.data.columns, proteins['ENSEMBL_ID'].values)\n",
    "\n",
    "train_dataset.data = train_dataset.data.loc[:,protein_overlap_idx]\n",
    "test_dataset.data = test_dataset.data.loc[:,protein_overlap_idx]"
   ]
  },
  {
   "cell_type": "markdown",
   "metadata": {},
   "source": [
    "#### Write out test set for DE analysis"
   ]
  },
  {
   "cell_type": "code",
   "execution_count": 233,
   "metadata": {},
   "outputs": [],
   "source": [
    "pd.to_pickle(test_dataset.data, \"../data/tmp/test_dataset.pkl.gz\")"
   ]
  },
  {
   "cell_type": "code",
   "execution_count": 234,
   "metadata": {},
   "outputs": [],
   "source": [
    "map_cond = []\n",
    "for label in test_dataset.labels:\n",
    "    if label == test_dataset.labels_dict['Primary Tumor']:\n",
    "        map_cond.append('Primary Tumor')\n",
    "    elif label == test_dataset.labels_dict['Solid Tissue Normal']:\n",
    "        map_cond.append('Solid Tissue Normal')"
   ]
  },
  {
   "cell_type": "code",
   "execution_count": 235,
   "metadata": {},
   "outputs": [],
   "source": [
    "meta = pd.DataFrame({'label':test_dataset.labels,\n",
    "                    'condition':map_cond},\n",
    "                    index=test_dataset.data.index)\n",
    "meta.to_pickle(\"../data/tmp/test_dataset_meta.pkl.gz\")"
   ]
  },
  {
   "cell_type": "markdown",
   "metadata": {},
   "source": [
    "## Siamese Network"
   ]
  },
  {
   "cell_type": "code",
   "execution_count": 236,
   "metadata": {},
   "outputs": [
    {
     "data": {
      "text/plain": [
       "SiameseNet(\n",
       "  (embedding_net): EmbeddingNet(\n",
       "    (fc): Sequential(\n",
       "      (linear1): Linear(in_features=18812, out_features=2000, bias=True)\n",
       "      (relu1): PReLU(num_parameters=1)\n",
       "      (linear2): Linear(in_features=2000, out_features=500, bias=True)\n",
       "      (relu2): PReLU(num_parameters=1)\n",
       "      (linear3): Linear(in_features=500, out_features=250, bias=True)\n",
       "      (relu3): PReLU(num_parameters=1)\n",
       "      (linear4): Linear(in_features=250, out_features=100, bias=True)\n",
       "      (relu4): PReLU(num_parameters=1)\n",
       "      (linear5): Linear(in_features=100, out_features=50, bias=True)\n",
       "      (relu5): PReLU(num_parameters=1)\n",
       "      (linear6): Linear(in_features=50, out_features=10, bias=True)\n",
       "      (relu6): PReLU(num_parameters=1)\n",
       "      (linear7): Linear(in_features=10, out_features=2, bias=True)\n",
       "    )\n",
       "  )\n",
       ")"
      ]
     },
     "execution_count": 236,
     "metadata": {},
     "output_type": "execute_result"
    }
   ],
   "source": [
    "# Step 1 set up dataloader\n",
    "root_dir = \"../data/TCGA\"\n",
    "siamese_train_dataset = SiameseTCGA(train_dataset) # Returns pairs of images and target same/different\n",
    "siamese_test_dataset = SiameseTCGA(test_dataset)\n",
    "batch_size = 8\n",
    "kwargs = {'num_workers': 10, 'pin_memory': True} if cuda else {}\n",
    "siamese_train_loader = torch.utils.data.DataLoader(siamese_train_dataset, batch_size=batch_size, shuffle=True, **kwargs)\n",
    "siamese_test_loader = torch.utils.data.DataLoader(siamese_test_dataset, batch_size=batch_size, shuffle=False, **kwargs)\n",
    "\n",
    "# Set up the network and training parameters\n",
    "from tcga_networks import EmbeddingNet, SiameseNet\n",
    "from losses import ContrastiveLoss\n",
    "from metrics import AccumulatedAccuracyMetric\n",
    "\n",
    "# Step 2\n",
    "n_samples, n_features = siamese_train_dataset.data.shape\n",
    "embedding_net = EmbeddingNet(n_features)\n",
    "# Step 3\n",
    "model = SiameseNet(embedding_net)\n",
    "if cuda:\n",
    "    model.cuda()\n",
    "    \n",
    "# Step 4\n",
    "margin = 1.\n",
    "loss_fn = ContrastiveLoss(margin)\n",
    "lr = 1e-3\n",
    "optimizer = optim.Adam(model.parameters(), lr=lr)\n",
    "scheduler = lr_scheduler.StepLR(optimizer, 8, gamma=0.1, last_epoch=-1)\n",
    "n_epochs = 10\n",
    "# print training metrics every log_interval * batch_size\n",
    "log_interval = 30"
   ]
  },
  {
   "cell_type": "code",
   "execution_count": 237,
   "metadata": {},
   "outputs": [
    {
     "name": "stdout",
     "output_type": "stream",
     "text": [
      "Train: [0/273 (0%)]\tLoss: 0.124072\n",
      "Train: [240/273 (86%)]\tLoss: 0.164893\n",
      "Epoch: 1/10. Train set: Average loss: 0.1552\n",
      "Epoch: 1/10. Validation set: Average loss: 0.0543\n",
      "Train: [0/273 (0%)]\tLoss: 0.059736\n",
      "Train: [240/273 (86%)]\tLoss: 0.025961\n",
      "Epoch: 2/10. Train set: Average loss: 0.0252\n",
      "Epoch: 2/10. Validation set: Average loss: 0.0034\n",
      "Train: [0/273 (0%)]\tLoss: 0.005643\n",
      "Train: [240/273 (86%)]\tLoss: 0.009119\n",
      "Epoch: 3/10. Train set: Average loss: 0.0080\n",
      "Epoch: 3/10. Validation set: Average loss: 0.0032\n",
      "Train: [0/273 (0%)]\tLoss: 0.006599\n",
      "Train: [240/273 (86%)]\tLoss: 0.007449\n",
      "Epoch: 4/10. Train set: Average loss: 0.0067\n",
      "Epoch: 4/10. Validation set: Average loss: 0.0038\n",
      "Train: [0/273 (0%)]\tLoss: 0.011155\n",
      "Train: [240/273 (86%)]\tLoss: 0.004572\n",
      "Epoch: 5/10. Train set: Average loss: 0.0044\n",
      "Epoch: 5/10. Validation set: Average loss: 0.0023\n",
      "Train: [0/273 (0%)]\tLoss: 0.001108\n",
      "Train: [240/273 (86%)]\tLoss: 0.004435\n",
      "Epoch: 6/10. Train set: Average loss: 0.0041\n",
      "Epoch: 6/10. Validation set: Average loss: 0.0076\n",
      "Train: [0/273 (0%)]\tLoss: 0.007477\n",
      "Train: [240/273 (86%)]\tLoss: 0.004520\n",
      "Epoch: 7/10. Train set: Average loss: 0.0042\n",
      "Epoch: 7/10. Validation set: Average loss: 0.0025\n",
      "Train: [0/273 (0%)]\tLoss: 0.005824\n",
      "Train: [240/273 (86%)]\tLoss: 0.009393\n",
      "Epoch: 8/10. Train set: Average loss: 0.0088\n",
      "Epoch: 8/10. Validation set: Average loss: 0.0040\n",
      "Train: [0/273 (0%)]\tLoss: 0.011640\n",
      "Train: [240/273 (86%)]\tLoss: 0.002496\n",
      "Epoch: 9/10. Train set: Average loss: 0.0036\n",
      "Epoch: 9/10. Validation set: Average loss: 0.0030\n",
      "Train: [0/273 (0%)]\tLoss: 0.001851\n",
      "Train: [240/273 (86%)]\tLoss: 0.002361\n",
      "Epoch: 10/10. Train set: Average loss: 0.0021\n",
      "Epoch: 10/10. Validation set: Average loss: 0.0022\n"
     ]
    }
   ],
   "source": [
    "train_loss, val_loss = fit(siamese_train_loader, siamese_test_loader, model, loss_fn, optimizer, scheduler, \n",
    "    n_epochs, cuda, log_interval)"
   ]
  },
  {
   "cell_type": "code",
   "execution_count": 238,
   "metadata": {},
   "outputs": [
    {
     "data": {
      "text/plain": [
       "[<matplotlib.lines.Line2D at 0x7f1af01d6278>]"
      ]
     },
     "execution_count": 238,
     "metadata": {},
     "output_type": "execute_result"
    },
    {
     "data": {
      "text/plain": [
       "[<matplotlib.lines.Line2D at 0x7f1a827cf2b0>]"
      ]
     },
     "execution_count": 238,
     "metadata": {},
     "output_type": "execute_result"
    },
    {
     "data": {
      "image/png": "[encoded data removed]",
      "text/plain": [
       "<Figure size 432x288 with 1 Axes>"
      ]
     },
     "metadata": {
      "needs_background": "light"
     },
     "output_type": "display_data"
    }
   ],
   "source": [
    "plt.plot(range(0, n_epochs), train_loss, 'rx-')\n",
    "plt.plot(range(0, n_epochs), val_loss, 'bx-')"
   ]
  },
  {
   "cell_type": "code",
   "execution_count": 239,
   "metadata": {},
   "outputs": [
    {
     "data": {
      "image/png": "[encoded data removed]",
      "text/plain": [
       "<Figure size 720x720 with 1 Axes>"
      ]
     },
     "metadata": {
      "needs_background": "light"
     },
     "output_type": "display_data"
    }
   ],
   "source": [
    "train_embeddings_cl, train_labels_cl = vis.extract_embeddings(train_loader, model)\n",
    "vis.plot_embeddings(train_embeddings_cl, train_labels_cl, siamese_train_dataset.labels_dict)"
   ]
  },
  {
   "cell_type": "markdown",
   "metadata": {},
   "source": [
    "Frusturatingly the test_loader(shuffl=False) only works to load here because it has been specified for 1 sample at a time. The data order is the same as siamese_test_loader(shuffle=False)."
   ]
  },
  {
   "cell_type": "code",
   "execution_count": 240,
   "metadata": {},
   "outputs": [
    {
     "data": {
      "image/png": "[encoded data removed]",
      "text/plain": [
       "<Figure size 720x720 with 1 Axes>"
      ]
     },
     "metadata": {
      "needs_background": "light"
     },
     "output_type": "display_data"
    }
   ],
   "source": [
    "val_embeddings_baseline, val_labels_baseline = vis.extract_embeddings(test_loader, model)\n",
    "vis.plot_embeddings(val_embeddings_baseline, val_labels_baseline, siamese_test_dataset.labels_dict)"
   ]
  },
  {
   "cell_type": "markdown",
   "metadata": {},
   "source": [
    "## Integrated Gradients\n",
    "Test completeness axiom through comparison of different baselines\n",
    "\n",
    "\"Integrated gradients satisfy an\n",
    "axiom called completeness that the attributions add up to\n",
    "the difference between the output of F at the input x and\n",
    "the baseline x'.\""
   ]
  },
  {
   "cell_type": "code",
   "execution_count": 241,
   "metadata": {},
   "outputs": [],
   "source": [
    "import copy\n",
    "from captum.attr import LayerActivation\n",
    "from captum.attr import IntegratedGradients"
   ]
  },
  {
   "cell_type": "markdown",
   "metadata": {},
   "source": [
    "The model tested on random pairs but now\n",
    "\n",
    "Need to match raw data sample pairs of the same individual."
   ]
  },
  {
   "cell_type": "code",
   "execution_count": 242,
   "metadata": {},
   "outputs": [],
   "source": [
    "def matched_pairs(SiameseTCGA, exp, ctrl):\n",
    "    \"\"\"\n",
    "    Returns raw data from pairs of samples by case in test set.\n",
    "    \"\"\"\n",
    "    gb = SiameseTCGA.samples.groupby('Sample Type')\n",
    "    gb_splits = [gb.get_group(sample_type).sort_values(by='Case ID') for sample_type in gb.groups]\n",
    "\n",
    "    assert np.array_equal(gb_splits[0]['Case ID'].values, gb_splits[1]['Case ID'].values), \"Order of matched sample pairs not in sync.\"\n",
    "    \n",
    "    ctrl_data = Variable(SiameseTCGA.test_data[gb.groups[ctrl]], requires_grad=True)\n",
    "    exp_data = Variable(SiameseTCGA.test_data[gb.groups[exp]], requires_grad=True)\n",
    "    \n",
    "    return ctrl_data, exp_data"
   ]
  },
  {
   "cell_type": "markdown",
   "metadata": {},
   "source": [
    "# IG with Control vector"
   ]
  },
  {
   "cell_type": "code",
   "execution_count": 243,
   "metadata": {},
   "outputs": [],
   "source": [
    "ctrl_data, exp_data = matched_pairs(siamese_test_dataset, exp='Primary Tumor', ctrl='Solid Tissue Normal')"
   ]
  },
  {
   "cell_type": "code",
   "execution_count": 245,
   "metadata": {},
   "outputs": [
    {
     "data": {
      "text/plain": [
       "PairwiseDistance()"
      ]
     },
     "execution_count": 245,
     "metadata": {},
     "output_type": "execute_result"
    }
   ],
   "source": [
    "from torch.nn import PairwiseDistance\n",
    "pdist = PairwiseDistance(p=2)\n",
    "pdist"
   ]
  },
  {
   "cell_type": "code",
   "execution_count": 246,
   "metadata": {},
   "outputs": [],
   "source": [
    "ig = IntegratedGradients(model.get_dist)"
   ]
  },
  {
   "cell_type": "code",
   "execution_count": 247,
   "metadata": {},
   "outputs": [],
   "source": [
    "torch.cuda.empty_cache()"
   ]
  },
  {
   "cell_type": "markdown",
   "metadata": {},
   "source": [
    "## Healthy as baseline"
   ]
  },
  {
   "cell_type": "code",
   "execution_count": 248,
   "metadata": {},
   "outputs": [
    {
     "data": {
      "text/plain": [
       "tensor([ 0.0017, -0.0068,  0.0047,  0.0018, -0.0030,  0.0018,  0.0128,  0.0022,\n",
       "        -0.0069, -0.0025, -0.0140, -0.0011,  0.0010, -0.0012,  0.0070,  0.0025,\n",
       "         0.0034,  0.0001,  0.0017, -0.0022,  0.0083,  0.0039, -0.0016,  0.0161,\n",
       "        -0.0099,  0.0206,  0.0169,  0.0066, -0.0074, -0.0039, -0.0078,  0.0013,\n",
       "         0.0075,  0.0014,  0.0055,  0.0059, -0.0011, -0.0114, -0.0016, -0.0010,\n",
       "         0.0036, -0.0070, -0.0006,  0.0107, -0.0155], device='cuda:0')"
      ]
     },
     "execution_count": 248,
     "metadata": {},
     "output_type": "execute_result"
    }
   ],
   "source": [
    "attr, delta = ig.attribute(exp_data.cuda(), ctrl_data.cuda(), target=None, n_steps=50, return_convergence_delta=True,\n",
    "                          additional_forward_args=(ctrl_data.cuda(), pdist))\n",
    "attr = attr.cpu().detach().numpy()\n",
    "delta"
   ]
  },
  {
   "cell_type": "code",
   "execution_count": 249,
   "metadata": {},
   "outputs": [
    {
     "data": {
      "text/plain": [
       "(45, 18812)"
      ]
     },
     "execution_count": 249,
     "metadata": {},
     "output_type": "execute_result"
    }
   ],
   "source": [
    "attr.shape"
   ]
  },
  {
   "cell_type": "code",
   "execution_count": 250,
   "metadata": {},
   "outputs": [
    {
     "data": {
      "text/plain": [
       "(18812, 1)"
      ]
     },
     "execution_count": 250,
     "metadata": {},
     "output_type": "execute_result"
    },
    {
     "data": {
      "text/html": [
       "<div>\n",
       "<style scoped>\n",
       "    .dataframe tbody tr th:only-of-type {\n",
       "        vertical-align: middle;\n",
       "    }\n",
       "\n",
       "    .dataframe tbody tr th {\n",
       "        vertical-align: top;\n",
       "    }\n",
       "\n",
       "    .dataframe thead th {\n",
       "        text-align: right;\n",
       "    }\n",
       "</style>\n",
       "<table border=\"1\" class=\"dataframe\">\n",
       "  <thead>\n",
       "    <tr style=\"text-align: right;\">\n",
       "      <th></th>\n",
       "      <th>Attribution</th>\n",
       "    </tr>\n",
       "  </thead>\n",
       "  <tbody>\n",
       "    <tr>\n",
       "      <th>count</th>\n",
       "      <td>18812.000000</td>\n",
       "    </tr>\n",
       "    <tr>\n",
       "      <th>mean</th>\n",
       "      <td>0.000053</td>\n",
       "    </tr>\n",
       "    <tr>\n",
       "      <th>std</th>\n",
       "      <td>0.000080</td>\n",
       "    </tr>\n",
       "    <tr>\n",
       "      <th>min</th>\n",
       "      <td>-0.000616</td>\n",
       "    </tr>\n",
       "    <tr>\n",
       "      <th>25%</th>\n",
       "      <td>0.000005</td>\n",
       "    </tr>\n",
       "    <tr>\n",
       "      <th>50%</th>\n",
       "      <td>0.000025</td>\n",
       "    </tr>\n",
       "    <tr>\n",
       "      <th>75%</th>\n",
       "      <td>0.000080</td>\n",
       "    </tr>\n",
       "    <tr>\n",
       "      <th>max</th>\n",
       "      <td>0.000811</td>\n",
       "    </tr>\n",
       "  </tbody>\n",
       "</table>\n",
       "</div>"
      ],
      "text/plain": [
       "        Attribution\n",
       "count  18812.000000\n",
       "mean       0.000053\n",
       "std        0.000080\n",
       "min       -0.000616\n",
       "25%        0.000005\n",
       "50%        0.000025\n",
       "75%        0.000080\n",
       "max        0.000811"
      ]
     },
     "execution_count": 250,
     "metadata": {},
     "output_type": "execute_result"
    },
    {
     "data": {
      "text/html": [
       "<div>\n",
       "<style scoped>\n",
       "    .dataframe tbody tr th:only-of-type {\n",
       "        vertical-align: middle;\n",
       "    }\n",
       "\n",
       "    .dataframe tbody tr th {\n",
       "        vertical-align: top;\n",
       "    }\n",
       "\n",
       "    .dataframe thead th {\n",
       "        text-align: right;\n",
       "    }\n",
       "</style>\n",
       "<table border=\"1\" class=\"dataframe\">\n",
       "  <thead>\n",
       "    <tr style=\"text-align: right;\">\n",
       "      <th></th>\n",
       "      <th>Attribution</th>\n",
       "    </tr>\n",
       "  </thead>\n",
       "  <tbody>\n",
       "    <tr>\n",
       "      <th>ENSG00000118785</th>\n",
       "      <td>0.000811</td>\n",
       "    </tr>\n",
       "    <tr>\n",
       "      <th>ENSG00000170091</th>\n",
       "      <td>0.000709</td>\n",
       "    </tr>\n",
       "    <tr>\n",
       "      <th>ENSG00000140297</th>\n",
       "      <td>0.000642</td>\n",
       "    </tr>\n",
       "    <tr>\n",
       "      <th>ENSG00000249751</th>\n",
       "      <td>0.000605</td>\n",
       "    </tr>\n",
       "    <tr>\n",
       "      <th>ENSG00000154721</th>\n",
       "      <td>0.000594</td>\n",
       "    </tr>\n",
       "    <tr>\n",
       "      <th>ENSG00000101331</th>\n",
       "      <td>0.000588</td>\n",
       "    </tr>\n",
       "    <tr>\n",
       "      <th>ENSG00000173269</th>\n",
       "      <td>0.000588</td>\n",
       "    </tr>\n",
       "    <tr>\n",
       "      <th>ENSG00000168930</th>\n",
       "      <td>0.000576</td>\n",
       "    </tr>\n",
       "    <tr>\n",
       "      <th>ENSG00000170323</th>\n",
       "      <td>0.000575</td>\n",
       "    </tr>\n",
       "    <tr>\n",
       "      <th>ENSG00000213853</th>\n",
       "      <td>0.000568</td>\n",
       "    </tr>\n",
       "  </tbody>\n",
       "</table>\n",
       "</div>"
      ],
      "text/plain": [
       "                 Attribution\n",
       "ENSG00000118785     0.000811\n",
       "ENSG00000170091     0.000709\n",
       "ENSG00000140297     0.000642\n",
       "ENSG00000249751     0.000605\n",
       "ENSG00000154721     0.000594\n",
       "ENSG00000101331     0.000588\n",
       "ENSG00000173269     0.000588\n",
       "ENSG00000168930     0.000576\n",
       "ENSG00000170323     0.000575\n",
       "ENSG00000213853     0.000568"
      ]
     },
     "execution_count": 250,
     "metadata": {},
     "output_type": "execute_result"
    }
   ],
   "source": [
    "feat_imp = pd.DataFrame(data=attr.mean(axis=0), index=train_dataset.data.columns, columns=['Attribution'])\n",
    "feat_imp.shape\n",
    "feat_imp.describe()\n",
    "feat_imp.nlargest(10, columns='Attribution')"
   ]
  },
  {
   "cell_type": "markdown",
   "metadata": {},
   "source": [
    "## Protein Feature Attributions"
   ]
  },
  {
   "cell_type": "code",
   "execution_count": 251,
   "metadata": {},
   "outputs": [
    {
     "data": {
      "text/plain": [
       "(18842,)"
      ]
     },
     "execution_count": 251,
     "metadata": {},
     "output_type": "execute_result"
    },
    {
     "data": {
      "text/plain": [
       "18812"
      ]
     },
     "execution_count": 251,
     "metadata": {},
     "output_type": "execute_result"
    }
   ],
   "source": [
    "proteins['ENSEMBL_ID'].values.shape\n",
    "attr.shape[1]"
   ]
  },
  {
   "cell_type": "code",
   "execution_count": 252,
   "metadata": {},
   "outputs": [
    {
     "data": {
      "text/plain": [
       "(18812, 1)"
      ]
     },
     "execution_count": 252,
     "metadata": {},
     "output_type": "execute_result"
    },
    {
     "data": {
      "text/plain": [
       "(18812, 23)"
      ]
     },
     "execution_count": 252,
     "metadata": {},
     "output_type": "execute_result"
    }
   ],
   "source": [
    "feat_imp = pd.DataFrame(data=attr.mean(axis=0), index=train_dataset.data.columns, columns=['Attribution'])\n",
    "feat_imp.shape\n",
    "feat_imp = pd.merge(feat_imp, proteins.drop_duplicates(subset='ENSEMBL_ID'), left_index=True, right_on='ENSEMBL_ID', how='left').sort_values(by='Attribution', ascending=False).reset_index(drop=True)\n",
    "feat_imp.shape"
   ]
  },
  {
   "cell_type": "code",
   "execution_count": 253,
   "metadata": {},
   "outputs": [],
   "source": [
    "feat_imp.to_pickle(\"../data/tmp/attr_avg.pkl.gz\")"
   ]
  },
  {
   "cell_type": "markdown",
   "metadata": {},
   "source": [
    "### Now go to /srv/home/wconnell/github/diffxpy/notebook/2020.02.05_test_DE_analysis and run"
   ]
  },
  {
   "cell_type": "code",
   "execution_count": 254,
   "metadata": {},
   "outputs": [
    {
     "data": {
      "text/html": [
       "<div>\n",
       "<style scoped>\n",
       "    .dataframe tbody tr th:only-of-type {\n",
       "        vertical-align: middle;\n",
       "    }\n",
       "\n",
       "    .dataframe tbody tr th {\n",
       "        vertical-align: top;\n",
       "    }\n",
       "\n",
       "    .dataframe thead th {\n",
       "        text-align: right;\n",
       "    }\n",
       "</style>\n",
       "<table border=\"1\" class=\"dataframe\">\n",
       "  <thead>\n",
       "    <tr style=\"text-align: right;\">\n",
       "      <th></th>\n",
       "      <th>Attribution</th>\n",
       "      <th>hgnc</th>\n",
       "      <th>Protein names</th>\n",
       "      <th>Gene ontology (biological process)</th>\n",
       "      <th>Gene ontology (molecular function)</th>\n",
       "    </tr>\n",
       "  </thead>\n",
       "  <tbody>\n",
       "    <tr>\n",
       "      <th>0</th>\n",
       "      <td>0.000811</td>\n",
       "      <td>SPP1</td>\n",
       "      <td>Osteopontin (Bone sialoprotein 1) (Nephroponti...</td>\n",
       "      <td>androgen catabolic process [GO:0006710]; biomi...</td>\n",
       "      <td>cytokine activity [GO:0005125]; extracellular ...</td>\n",
       "    </tr>\n",
       "    <tr>\n",
       "      <th>1</th>\n",
       "      <td>0.000709</td>\n",
       "      <td>NSG2</td>\n",
       "      <td>Neuronal vesicle trafficking-associated protei...</td>\n",
       "      <td>clathrin coat assembly [GO:0048268]; dopamine ...</td>\n",
       "      <td>clathrin light chain binding [GO:0032051]</td>\n",
       "    </tr>\n",
       "    <tr>\n",
       "      <th>2</th>\n",
       "      <td>0.000642</td>\n",
       "      <td>GCNT3</td>\n",
       "      <td>Beta-1,3-galactosyl-O-glycosyl-glycoprotein be...</td>\n",
       "      <td>carbohydrate metabolic process [GO:0005975]; i...</td>\n",
       "      <td>acetylgalactosaminyl-O-glycosyl-glycoprotein b...</td>\n",
       "    </tr>\n",
       "    <tr>\n",
       "      <th>3</th>\n",
       "      <td>0.000605</td>\n",
       "      <td>ECSCR</td>\n",
       "      <td>Endothelial cell-specific chemotaxis regulator...</td>\n",
       "      <td>angiogenesis [GO:0001525]; apoptotic process [...</td>\n",
       "      <td>NaN</td>\n",
       "    </tr>\n",
       "    <tr>\n",
       "      <th>4</th>\n",
       "      <td>0.000594</td>\n",
       "      <td>JAM2</td>\n",
       "      <td>Junctional adhesion molecule B (JAM-B) (Juncti...</td>\n",
       "      <td>cell-cell adhesion [GO:0098609]; extracellular...</td>\n",
       "      <td>protein heterodimerization activity [GO:0046982]</td>\n",
       "    </tr>\n",
       "    <tr>\n",
       "      <th>...</th>\n",
       "      <td>...</td>\n",
       "      <td>...</td>\n",
       "      <td>...</td>\n",
       "      <td>...</td>\n",
       "      <td>...</td>\n",
       "    </tr>\n",
       "    <tr>\n",
       "      <th>18807</th>\n",
       "      <td>-0.000232</td>\n",
       "      <td>C1QTNF9B</td>\n",
       "      <td>Complement C1q and tumor necrosis factor-relat...</td>\n",
       "      <td>NaN</td>\n",
       "      <td>NaN</td>\n",
       "    </tr>\n",
       "    <tr>\n",
       "      <th>18808</th>\n",
       "      <td>-0.000248</td>\n",
       "      <td>KANK4</td>\n",
       "      <td>KN motif and ankyrin repeat domain-containing ...</td>\n",
       "      <td>negative regulation of actin filament polymeri...</td>\n",
       "      <td>NaN</td>\n",
       "    </tr>\n",
       "    <tr>\n",
       "      <th>18809</th>\n",
       "      <td>-0.000248</td>\n",
       "      <td>KRTAP6-2</td>\n",
       "      <td>Keratin-associated protein 6-2</td>\n",
       "      <td>keratinization [GO:0031424]</td>\n",
       "      <td>NaN</td>\n",
       "    </tr>\n",
       "    <tr>\n",
       "      <th>18810</th>\n",
       "      <td>-0.000251</td>\n",
       "      <td>SCGB2A2</td>\n",
       "      <td>Mammaglobin-A (Mammaglobin-1) (Secretoglobin f...</td>\n",
       "      <td>androgen receptor signaling pathway [GO:0030521]</td>\n",
       "      <td>NaN</td>\n",
       "    </tr>\n",
       "    <tr>\n",
       "      <th>18811</th>\n",
       "      <td>-0.000616</td>\n",
       "      <td>POTED</td>\n",
       "      <td>POTE ankyrin domain family member D (ANKRD26-l...</td>\n",
       "      <td>NaN</td>\n",
       "      <td>NaN</td>\n",
       "    </tr>\n",
       "  </tbody>\n",
       "</table>\n",
       "<p>18812 rows × 5 columns</p>\n",
       "</div>"
      ],
      "text/plain": [
       "       Attribution      hgnc  \\\n",
       "0         0.000811      SPP1   \n",
       "1         0.000709      NSG2   \n",
       "2         0.000642     GCNT3   \n",
       "3         0.000605     ECSCR   \n",
       "4         0.000594      JAM2   \n",
       "...            ...       ...   \n",
       "18807    -0.000232  C1QTNF9B   \n",
       "18808    -0.000248     KANK4   \n",
       "18809    -0.000248  KRTAP6-2   \n",
       "18810    -0.000251   SCGB2A2   \n",
       "18811    -0.000616     POTED   \n",
       "\n",
       "                                           Protein names  \\\n",
       "0      Osteopontin (Bone sialoprotein 1) (Nephroponti...   \n",
       "1      Neuronal vesicle trafficking-associated protei...   \n",
       "2      Beta-1,3-galactosyl-O-glycosyl-glycoprotein be...   \n",
       "3      Endothelial cell-specific chemotaxis regulator...   \n",
       "4      Junctional adhesion molecule B (JAM-B) (Juncti...   \n",
       "...                                                  ...   \n",
       "18807  Complement C1q and tumor necrosis factor-relat...   \n",
       "18808  KN motif and ankyrin repeat domain-containing ...   \n",
       "18809                     Keratin-associated protein 6-2   \n",
       "18810  Mammaglobin-A (Mammaglobin-1) (Secretoglobin f...   \n",
       "18811  POTE ankyrin domain family member D (ANKRD26-l...   \n",
       "\n",
       "                      Gene ontology (biological process)  \\\n",
       "0      androgen catabolic process [GO:0006710]; biomi...   \n",
       "1      clathrin coat assembly [GO:0048268]; dopamine ...   \n",
       "2      carbohydrate metabolic process [GO:0005975]; i...   \n",
       "3      angiogenesis [GO:0001525]; apoptotic process [...   \n",
       "4      cell-cell adhesion [GO:0098609]; extracellular...   \n",
       "...                                                  ...   \n",
       "18807                                                NaN   \n",
       "18808  negative regulation of actin filament polymeri...   \n",
       "18809                        keratinization [GO:0031424]   \n",
       "18810   androgen receptor signaling pathway [GO:0030521]   \n",
       "18811                                                NaN   \n",
       "\n",
       "                      Gene ontology (molecular function)  \n",
       "0      cytokine activity [GO:0005125]; extracellular ...  \n",
       "1              clathrin light chain binding [GO:0032051]  \n",
       "2      acetylgalactosaminyl-O-glycosyl-glycoprotein b...  \n",
       "3                                                    NaN  \n",
       "4       protein heterodimerization activity [GO:0046982]  \n",
       "...                                                  ...  \n",
       "18807                                                NaN  \n",
       "18808                                                NaN  \n",
       "18809                                                NaN  \n",
       "18810                                                NaN  \n",
       "18811                                                NaN  \n",
       "\n",
       "[18812 rows x 5 columns]"
      ]
     },
     "execution_count": 254,
     "metadata": {},
     "output_type": "execute_result"
    }
   ],
   "source": [
    "feat_imp[['Attribution', 'hgnc', 'Protein names', 'Gene ontology (biological process)', 'Gene ontology (molecular function)']]"
   ]
  }
 ],
 "metadata": {
  "kernelspec": {
   "display_name": "torch",
   "language": "python",
   "name": "torch"
  },
  "language_info": {
   "codemirror_mode": {
    "name": "ipython",
    "version": 3
   },
   "file_extension": ".py",
   "mimetype": "text/x-python",
   "name": "python",
   "nbconvert_exporter": "python",
   "pygments_lexer": "ipython3",
   "version": "3.7.3"
  }
 },
 "nbformat": 4,
 "nbformat_minor": 2
}
