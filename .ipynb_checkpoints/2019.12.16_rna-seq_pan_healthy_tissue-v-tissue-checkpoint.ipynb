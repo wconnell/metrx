{
 "cells": [
  {
   "cell_type": "code",
   "execution_count": 1,
   "metadata": {},
   "outputs": [],
   "source": [
    "import numpy as np\n",
    "import pandas as pd\n",
    "\n",
    "# viz\n",
    "import matplotlib.pyplot as plt\n",
    "\n",
    "# notebook settings\n",
    "from IPython.core.interactiveshell import InteractiveShell\n",
    "InteractiveShell.ast_node_interactivity = \"all\"\n",
    "\n",
    "pd.set_option('display.max_columns', 1000)"
   ]
  },
  {
   "cell_type": "markdown",
   "metadata": {},
   "source": [
    "## Sample Prep"
   ]
  },
  {
   "cell_type": "code",
   "execution_count": 2,
   "metadata": {},
   "outputs": [
    {
     "data": {
      "text/plain": [
       "BRCA    1206\n",
       "LUAD     588\n",
       "UCEC     567\n",
       "KIRC     554\n",
       "LUSC     543\n",
       "LGG      524\n",
       "PRAD     517\n",
       "COAD     506\n",
       "THCA     505\n",
       "SKCM     469\n",
       "BLCA     431\n",
       "LIHC     421\n",
       "STAD     402\n",
       "OV       379\n",
       "KIRP     308\n",
       "CESC     306\n",
       "ESCA     171\n",
       "PAAD     171\n",
       "GBM      166\n",
       "TGCT     150\n",
       "PCPG     133\n",
       "LAML     123\n",
       "KICH      81\n",
       "ACC       75\n",
       "CHOL      41\n",
       "SARC      10\n",
       "DLBC       9\n",
       "READ       7\n",
       "MESO       1\n",
       "Name: project, dtype: int64"
      ]
     },
     "execution_count": 2,
     "metadata": {},
     "output_type": "execute_result"
    }
   ],
   "source": [
    "samples = pd.read_csv('../data/TCGA/rna-seq_pan/meta/gdc_sample_sheet.2019-12-12.tsv', sep=\"\\t\")\n",
    "# get file type\n",
    "samples['data'] = [val[1] for i,val in samples['File Name'].str.split(\".\").items()]\n",
    "samples['project'] = [val[1] for i,val in samples['Project ID'].str.split(\"-\").items()]\n",
    "samples['project'].value_counts()"
   ]
  },
  {
   "cell_type": "code",
   "execution_count": 3,
   "metadata": {},
   "outputs": [
    {
     "data": {
      "text/plain": [
       "Primary Tumor                                      8166\n",
       "Solid Tissue Normal                                 636\n",
       "Metastatic                                          385\n",
       "Primary Blood Derived Cancer - Peripheral Blood     123\n",
       "Recurrent Tumor                                      43\n",
       "Additional - New Primary                             10\n",
       "Additional Metastatic                                 1\n",
       "Name: Sample Type, dtype: int64"
      ]
     },
     "execution_count": 3,
     "metadata": {},
     "output_type": "execute_result"
    }
   ],
   "source": [
    "samples['Sample Type'].value_counts()"
   ]
  },
  {
   "cell_type": "code",
   "execution_count": 4,
   "metadata": {},
   "outputs": [
    {
     "data": {
      "text/html": [
       "<div>\n",
       "<style scoped>\n",
       "    .dataframe tbody tr th:only-of-type {\n",
       "        vertical-align: middle;\n",
       "    }\n",
       "\n",
       "    .dataframe tbody tr th {\n",
       "        vertical-align: top;\n",
       "    }\n",
       "\n",
       "    .dataframe thead th {\n",
       "        text-align: right;\n",
       "    }\n",
       "</style>\n",
       "<table border=\"1\" class=\"dataframe\">\n",
       "  <thead>\n",
       "    <tr style=\"text-align: right;\">\n",
       "      <th></th>\n",
       "      <th>project_x</th>\n",
       "      <th>project_y</th>\n",
       "    </tr>\n",
       "  </thead>\n",
       "  <tbody>\n",
       "    <tr>\n",
       "      <th>BRCA</th>\n",
       "      <td>1087</td>\n",
       "      <td>112</td>\n",
       "    </tr>\n",
       "    <tr>\n",
       "      <th>KIRC</th>\n",
       "      <td>483</td>\n",
       "      <td>70</td>\n",
       "    </tr>\n",
       "    <tr>\n",
       "      <th>LUAD</th>\n",
       "      <td>528</td>\n",
       "      <td>58</td>\n",
       "    </tr>\n",
       "    <tr>\n",
       "      <th>THCA</th>\n",
       "      <td>445</td>\n",
       "      <td>53</td>\n",
       "    </tr>\n",
       "    <tr>\n",
       "      <th>PRAD</th>\n",
       "      <td>466</td>\n",
       "      <td>50</td>\n",
       "    </tr>\n",
       "    <tr>\n",
       "      <th>LIHC</th>\n",
       "      <td>369</td>\n",
       "      <td>49</td>\n",
       "    </tr>\n",
       "    <tr>\n",
       "      <th>LUSC</th>\n",
       "      <td>496</td>\n",
       "      <td>47</td>\n",
       "    </tr>\n",
       "    <tr>\n",
       "      <th>COAD</th>\n",
       "      <td>465</td>\n",
       "      <td>39</td>\n",
       "    </tr>\n",
       "    <tr>\n",
       "      <th>STAD</th>\n",
       "      <td>370</td>\n",
       "      <td>32</td>\n",
       "    </tr>\n",
       "    <tr>\n",
       "      <th>KIRP</th>\n",
       "      <td>276</td>\n",
       "      <td>31</td>\n",
       "    </tr>\n",
       "    <tr>\n",
       "      <th>KICH</th>\n",
       "      <td>58</td>\n",
       "      <td>23</td>\n",
       "    </tr>\n",
       "    <tr>\n",
       "      <th>UCEC</th>\n",
       "      <td>544</td>\n",
       "      <td>22</td>\n",
       "    </tr>\n",
       "    <tr>\n",
       "      <th>BLCA</th>\n",
       "      <td>412</td>\n",
       "      <td>19</td>\n",
       "    </tr>\n",
       "    <tr>\n",
       "      <th>ESCA</th>\n",
       "      <td>159</td>\n",
       "      <td>11</td>\n",
       "    </tr>\n",
       "    <tr>\n",
       "      <th>CHOL</th>\n",
       "      <td>33</td>\n",
       "      <td>8</td>\n",
       "    </tr>\n",
       "    <tr>\n",
       "      <th>PAAD</th>\n",
       "      <td>166</td>\n",
       "      <td>4</td>\n",
       "    </tr>\n",
       "    <tr>\n",
       "      <th>CESC</th>\n",
       "      <td>301</td>\n",
       "      <td>3</td>\n",
       "    </tr>\n",
       "    <tr>\n",
       "      <th>PCPG</th>\n",
       "      <td>127</td>\n",
       "      <td>3</td>\n",
       "    </tr>\n",
       "    <tr>\n",
       "      <th>SKCM</th>\n",
       "      <td>103</td>\n",
       "      <td>1</td>\n",
       "    </tr>\n",
       "    <tr>\n",
       "      <th>READ</th>\n",
       "      <td>6</td>\n",
       "      <td>1</td>\n",
       "    </tr>\n",
       "  </tbody>\n",
       "</table>\n",
       "</div>"
      ],
      "text/plain": [
       "      project_x  project_y\n",
       "BRCA       1087        112\n",
       "KIRC        483         70\n",
       "LUAD        528         58\n",
       "THCA        445         53\n",
       "PRAD        466         50\n",
       "LIHC        369         49\n",
       "LUSC        496         47\n",
       "COAD        465         39\n",
       "STAD        370         32\n",
       "KIRP        276         31\n",
       "KICH         58         23\n",
       "UCEC        544         22\n",
       "BLCA        412         19\n",
       "ESCA        159         11\n",
       "CHOL         33          8\n",
       "PAAD        166          4\n",
       "CESC        301          3\n",
       "PCPG        127          3\n",
       "SKCM        103          1\n",
       "READ          6          1"
      ]
     },
     "execution_count": 4,
     "metadata": {},
     "output_type": "execute_result"
    }
   ],
   "source": [
    "disease = samples[samples['Sample Type']=='Primary Tumor']['project'].value_counts()\n",
    "healthy = samples[samples['Sample Type']=='Solid Tissue Normal']['project'].value_counts()\n",
    "overlap = pd.merge(disease, healthy, left_index=True, right_index=True)\n",
    "overlap.sort_values(by=['project_y'], ascending=False)\n",
    "proj = overlap.sort_values(by=['project_y'], ascending=False).head(10).index"
   ]
  },
  {
   "cell_type": "markdown",
   "metadata": {},
   "source": [
    "Subset healthy samples"
   ]
  },
  {
   "cell_type": "code",
   "execution_count": 5,
   "metadata": {},
   "outputs": [
    {
     "data": {
      "text/plain": [
       "(636, 10)"
      ]
     },
     "execution_count": 5,
     "metadata": {},
     "output_type": "execute_result"
    },
    {
     "data": {
      "text/plain": [
       "BRCA    112\n",
       "KIRC     70\n",
       "LUAD     58\n",
       "THCA     53\n",
       "PRAD     50\n",
       "LIHC     49\n",
       "LUSC     47\n",
       "COAD     39\n",
       "STAD     32\n",
       "KIRP     31\n",
       "Name: project, dtype: int64"
      ]
     },
     "execution_count": 5,
     "metadata": {},
     "output_type": "execute_result"
    },
    {
     "data": {
      "text/plain": [
       "(541, 10)"
      ]
     },
     "execution_count": 5,
     "metadata": {},
     "output_type": "execute_result"
    }
   ],
   "source": [
    "cases = samples[samples['Sample Type']=='Solid Tissue Normal'].sample(frac=1).copy()\n",
    "cases.shape\n",
    "cases = cases[cases['project'].isin(proj)]\n",
    "cases['project'].value_counts()\n",
    "cases.shape"
   ]
  },
  {
   "cell_type": "markdown",
   "metadata": {},
   "source": [
    "## Dataset Prep"
   ]
  },
  {
   "cell_type": "code",
   "execution_count": 6,
   "metadata": {},
   "outputs": [],
   "source": [
    "from sklearn.model_selection import train_test_split\n",
    "\n",
    "target = 'project'\n",
    "cases[target] = cases[target].astype('category')\n",
    "train, test = train_test_split(cases)"
   ]
  },
  {
   "cell_type": "code",
   "execution_count": 7,
   "metadata": {},
   "outputs": [
    {
     "name": "stdout",
     "output_type": "stream",
     "text": [
      "8 GPUs available\n"
     ]
    }
   ],
   "source": [
    "import torch\n",
    "import torch.nn as nn\n",
    "from torch.optim import lr_scheduler\n",
    "import torch.optim as optim\n",
    "from torch.autograd import Variable\n",
    "\n",
    "from trainer import fit\n",
    "import visualization as vis\n",
    "import numpy as np\n",
    "\n",
    "if torch.cuda.is_available():\n",
    "    cuda = torch.cuda.is_available()\n",
    "    print(\"{} GPUs available\".format(torch.cuda.device_count()))\n",
    "\n",
    "colors = ['#1f77b4', '#ff7f0e', '#2ca02c', '#d62728',\n",
    "              '#9467bd', '#8c564b', '#e377c2', '#7f7f7f',\n",
    "              '#bcbd22', '#17becf']\n",
    "classes = train[target].cat.categories.values\n"
   ]
  },
  {
   "cell_type": "code",
   "execution_count": 8,
   "metadata": {},
   "outputs": [
    {
     "name": "stdout",
     "output_type": "stream",
     "text": [
      "Loaded\n"
     ]
    }
   ],
   "source": [
    "from tcga_datasets import TCGA, SiameseTCGA\n",
    "root_dir = \"../data/TCGA/rna-seq_pan/\"\n",
    "batch_size = 1\n",
    "\n",
    "train_dataset = TCGA(root_dir, samples=train, train=True, target=target)\n",
    "test_dataset = TCGA(root_dir, samples=test, train=False, target=target)\n",
    "print('Loaded')\n",
    "kwargs = {'num_workers': 1, 'pin_memory': True} if cuda else {}\n",
    "train_loader = torch.utils.data.DataLoader(train_dataset, batch_size=batch_size, shuffle=False, **kwargs)\n",
    "test_loader = torch.utils.data.DataLoader(test_dataset, batch_size=batch_size, shuffle=False, **kwargs)"
   ]
  },
  {
   "cell_type": "markdown",
   "metadata": {},
   "source": [
    "## Siamese Network"
   ]
  },
  {
   "cell_type": "code",
   "execution_count": 15,
   "metadata": {},
   "outputs": [
    {
     "data": {
      "text/plain": [
       "DataParallel(\n",
       "  (module): SiameseNet(\n",
       "    (embedding_net): EmbeddingNet(\n",
       "      (fc): Sequential(\n",
       "        (0): Linear(in_features=60483, out_features=2000, bias=True)\n",
       "        (1): PReLU(num_parameters=1)\n",
       "        (2): Linear(in_features=2000, out_features=500, bias=True)\n",
       "        (3): PReLU(num_parameters=1)\n",
       "        (4): Linear(in_features=500, out_features=250, bias=True)\n",
       "        (5): PReLU(num_parameters=1)\n",
       "        (6): Linear(in_features=250, out_features=100, bias=True)\n",
       "        (7): PReLU(num_parameters=1)\n",
       "        (8): Linear(in_features=100, out_features=50, bias=True)\n",
       "        (9): PReLU(num_parameters=1)\n",
       "        (10): Linear(in_features=50, out_features=10, bias=True)\n",
       "        (11): PReLU(num_parameters=1)\n",
       "        (12): Linear(in_features=10, out_features=2, bias=True)\n",
       "      )\n",
       "    )\n",
       "  )\n",
       ")"
      ]
     },
     "execution_count": 15,
     "metadata": {},
     "output_type": "execute_result"
    }
   ],
   "source": [
    "# Step 1 set up dataloader\n",
    "siamese_train_dataset = SiameseTCGA(train_dataset) # Returns pairs of images and target same/different\n",
    "siamese_test_dataset = SiameseTCGA(test_dataset)\n",
    "batch_size = 32\n",
    "kwargs = {'num_workers': 10, 'pin_memory': True} if cuda else {}\n",
    "siamese_train_loader = torch.utils.data.DataLoader(siamese_train_dataset, batch_size=batch_size, shuffle=True, **kwargs)\n",
    "siamese_test_loader = torch.utils.data.DataLoader(siamese_test_dataset, batch_size=batch_size, shuffle=False, **kwargs)\n",
    "\n",
    "# Set up the network and training parameters\n",
    "from tcga_networks import EmbeddingNet, SiameseNet\n",
    "from losses import ContrastiveLoss\n",
    "from metrics import AccumulatedAccuracyMetric\n",
    "\n",
    "# Step 2\n",
    "embedding_net = EmbeddingNet()\n",
    "# Step 3\n",
    "model = SiameseNet(embedding_net)\n",
    "if cuda:\n",
    "    model = nn.DataParallel(model)\n",
    "    model.cuda()\n",
    "    \n",
    "# Step 4\n",
    "margin = 1.\n",
    "loss_fn = ContrastiveLoss(margin)\n",
    "lr = 1e-3\n",
    "optimizer = optim.Adam(model.parameters(), lr=lr)\n",
    "scheduler = lr_scheduler.StepLR(optimizer, 8, gamma=0.1, last_epoch=-1)\n",
    "n_epochs = 10\n",
    "# print training metrics every log_interval * batch_size\n",
    "log_interval = 4"
   ]
  },
  {
   "cell_type": "code",
   "execution_count": 16,
   "metadata": {},
   "outputs": [
    {
     "name": "stdout",
     "output_type": "stream",
     "text": [
      "Train: [0/405 (0%)]\tLoss: 0.100113\n",
      "Train: [128/405 (31%)]\tLoss: 7.094982\n",
      "Train: [256/405 (62%)]\tLoss: 3.947205\n",
      "Train: [252/405 (92%)]\tLoss: 1.471676\n",
      "Epoch: 1/10. Train set: Average loss: 3.8581\n",
      "Epoch: 1/10. Validation set: Average loss: 0.2675\n",
      "Train: [0/405 (0%)]\tLoss: 0.578806\n",
      "Train: [128/405 (31%)]\tLoss: 4.010768\n",
      "Train: [256/405 (62%)]\tLoss: 4.271042\n",
      "Train: [252/405 (92%)]\tLoss: 6.397662\n",
      "Epoch: 2/10. Train set: Average loss: 4.5613\n",
      "Epoch: 2/10. Validation set: Average loss: 1.8899\n",
      "Train: [0/405 (0%)]\tLoss: 4.517138\n",
      "Train: [128/405 (31%)]\tLoss: 4.985921\n",
      "Train: [256/405 (62%)]\tLoss: 2.442819\n",
      "Train: [252/405 (92%)]\tLoss: 1.830957\n",
      "Epoch: 3/10. Train set: Average loss: 3.1966\n",
      "Epoch: 3/10. Validation set: Average loss: 0.7960\n",
      "Train: [0/405 (0%)]\tLoss: 5.706565\n",
      "Train: [128/405 (31%)]\tLoss: 0.942708\n",
      "Train: [256/405 (62%)]\tLoss: 0.946204\n",
      "Train: [252/405 (92%)]\tLoss: 3.987485\n",
      "Epoch: 4/10. Train set: Average loss: 2.2471\n",
      "Epoch: 4/10. Validation set: Average loss: 0.8626\n",
      "Train: [0/405 (0%)]\tLoss: 1.623564\n",
      "Train: [128/405 (31%)]\tLoss: 2.541475\n",
      "Train: [256/405 (62%)]\tLoss: 0.682002\n",
      "Train: [252/405 (92%)]\tLoss: 0.469940\n",
      "Epoch: 5/10. Train set: Average loss: 1.2613\n",
      "Epoch: 5/10. Validation set: Average loss: 0.1807\n",
      "Train: [0/405 (0%)]\tLoss: 0.583960\n",
      "Train: [128/405 (31%)]\tLoss: 0.378300\n",
      "Train: [256/405 (62%)]\tLoss: 0.425284\n",
      "Train: [252/405 (92%)]\tLoss: 9.343965\n",
      "Epoch: 6/10. Train set: Average loss: 3.1672\n",
      "Epoch: 6/10. Validation set: Average loss: 0.6741\n",
      "Train: [0/405 (0%)]\tLoss: 0.619800\n",
      "Train: [128/405 (31%)]\tLoss: 2.145505\n",
      "Train: [256/405 (62%)]\tLoss: 2.538352\n",
      "Train: [252/405 (92%)]\tLoss: 160.887949\n",
      "Epoch: 7/10. Train set: Average loss: 50.9928\n",
      "Epoch: 7/10. Validation set: Average loss: 2.5701\n",
      "Train: [0/405 (0%)]\tLoss: 14.737431\n",
      "Train: [128/405 (31%)]\tLoss: 16.962971\n",
      "Train: [256/405 (62%)]\tLoss: 10.671760\n",
      "Train: [252/405 (92%)]\tLoss: 4.291771\n",
      "Epoch: 8/10. Train set: Average loss: 10.9572\n",
      "Epoch: 8/10. Validation set: Average loss: 3.0519\n",
      "Train: [0/405 (0%)]\tLoss: 1.513091\n",
      "Train: [128/405 (31%)]\tLoss: 2.880839\n",
      "Train: [256/405 (62%)]\tLoss: 2.421922\n",
      "Train: [252/405 (92%)]\tLoss: 2.931195\n",
      "Epoch: 9/10. Train set: Average loss: 2.6499\n",
      "Epoch: 9/10. Validation set: Average loss: 0.9149\n",
      "Train: [0/405 (0%)]\tLoss: 0.719815\n",
      "Train: [128/405 (31%)]\tLoss: 0.560786\n",
      "Train: [256/405 (62%)]\tLoss: 0.379381\n",
      "Train: [252/405 (92%)]\tLoss: 0.645230\n",
      "Epoch: 10/10. Train set: Average loss: 0.5432\n",
      "Epoch: 10/10. Validation set: Average loss: 0.5653\n"
     ]
    }
   ],
   "source": [
    "train_loss, val_loss = fit(siamese_train_loader, siamese_test_loader, model, loss_fn, optimizer, scheduler, \n",
    "    n_epochs, cuda, log_interval)"
   ]
  },
  {
   "cell_type": "code",
   "execution_count": 17,
   "metadata": {},
   "outputs": [
    {
     "data": {
      "text/plain": [
       "[<matplotlib.lines.Line2D at 0x7fa813a21fd0>]"
      ]
     },
     "execution_count": 17,
     "metadata": {},
     "output_type": "execute_result"
    },
    {
     "data": {
      "text/plain": [
       "[<matplotlib.lines.Line2D at 0x7fa814acf978>]"
      ]
     },
     "execution_count": 17,
     "metadata": {},
     "output_type": "execute_result"
    },
    {
     "data": {
      "image/png": "[encoded data removed]",
      "text/plain": [
       "<Figure size 432x288 with 1 Axes>"
      ]
     },
     "metadata": {
      "needs_background": "light"
     },
     "output_type": "display_data"
    }
   ],
   "source": [
    "plt.plot(range(0, n_epochs), train_loss, 'rx-')\n",
    "plt.plot(range(0, n_epochs), val_loss, 'bx-')"
   ]
  },
  {
   "cell_type": "code",
   "execution_count": 18,
   "metadata": {},
   "outputs": [
    {
     "data": {
      "image/png": "[encoded data removed]",
      "text/plain": [
       "<Figure size 720x720 with 1 Axes>"
      ]
     },
     "metadata": {
      "needs_background": "light"
     },
     "output_type": "display_data"
    }
   ],
   "source": [
    "train_embeddings_cl, train_labels_cl = vis.extract_embeddings(train_loader, model)\n",
    "vis.plot_embeddings(train_embeddings_cl, train_labels_cl, classes)"
   ]
  },
  {
   "cell_type": "code",
   "execution_count": 19,
   "metadata": {},
   "outputs": [
    {
     "data": {
      "image/png": "[encoded data removed]",
      "text/plain": [
       "<Figure size 720x720 with 1 Axes>"
      ]
     },
     "metadata": {
      "needs_background": "light"
     },
     "output_type": "display_data"
    }
   ],
   "source": [
    "val_embeddings_baseline, val_labels_baseline = vis.extract_embeddings(test_loader, model)\n",
    "vis.plot_embeddings(val_embeddings_baseline, val_labels_baseline, classes)"
   ]
  }
 ],
 "metadata": {
  "kernelspec": {
   "display_name": "torch",
   "language": "python",
   "name": "torch"
  },
  "language_info": {
   "codemirror_mode": {
    "name": "ipython",
    "version": 3
   },
   "file_extension": ".py",
   "mimetype": "text/x-python",
   "name": "python",
   "nbconvert_exporter": "python",
   "pygments_lexer": "ipython3",
   "version": "3.7.3"
  }
 },
 "nbformat": 4,
 "nbformat_minor": 2
}
