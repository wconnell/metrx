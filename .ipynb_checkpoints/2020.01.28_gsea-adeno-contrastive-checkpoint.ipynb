{
 "cells": [
  {
   "cell_type": "code",
   "execution_count": 1,
   "metadata": {},
   "outputs": [],
   "source": [
    "import numpy as np\n",
    "import pandas as pd\n",
    "np.random.seed(123)\n",
    "\n",
    "# viz\n",
    "import matplotlib.pyplot as plt\n",
    "\n",
    "# notebook settings\n",
    "from IPython.core.interactiveshell import InteractiveShell\n",
    "InteractiveShell.ast_node_interactivity = \"all\"\n",
    "\n",
    "pd.set_option('display.max_columns', 1000)"
   ]
  },
  {
   "cell_type": "markdown",
   "metadata": {},
   "source": [
    "## Sample Prep"
   ]
  },
  {
   "cell_type": "code",
   "execution_count": 2,
   "metadata": {},
   "outputs": [
    {
     "data": {
      "text/plain": [
       "TCGA-LUSC    301\n",
       "TCGA-LUAD    287\n",
       "CPTAC-3      209\n",
       "Name: Project ID, dtype: int64"
      ]
     },
     "execution_count": 2,
     "metadata": {},
     "output_type": "execute_result"
    }
   ],
   "source": [
    "samples = pd.read_csv('../data/TCGA/rna-seq_adeno/meta/gdc_sample_sheet.2020-01-27.tsv', sep=\"\\t\")\n",
    "# get file type\n",
    "samples['data'] = [val[1] for i,val in samples['File Name'].str.split(\".\").items()]\n",
    "samples['Project ID'].value_counts()"
   ]
  },
  {
   "cell_type": "markdown",
   "metadata": {},
   "source": [
    "Samples with RNAseq adjacent normal tissue"
   ]
  },
  {
   "cell_type": "code",
   "execution_count": 3,
   "metadata": {},
   "outputs": [
    {
     "data": {
      "text/plain": [
       "Primary Tumor                               558\n",
       "Solid Tissue Normal                         206\n",
       "Primary Tumor, Primary Tumor                 29\n",
       "Solid Tissue Normal, Solid Tissue Normal      4\n",
       "Name: Sample Type, dtype: int64"
      ]
     },
     "execution_count": 3,
     "metadata": {},
     "output_type": "execute_result"
    }
   ],
   "source": [
    "samples['Sample Type'].value_counts()"
   ]
  },
  {
   "cell_type": "code",
   "execution_count": 4,
   "metadata": {},
   "outputs": [],
   "source": [
    "samples.loc[samples['Sample Type']=='Primary Tumor, Primary Tumor', 'Sample Type'] = 'Primary Tumor'\n",
    "samples.loc[samples['Sample Type']=='Solid Tissue Normal, Solid Tissue Normal', 'Sample Type'] = 'Solid Tissue Normal'"
   ]
  },
  {
   "cell_type": "code",
   "execution_count": 5,
   "metadata": {},
   "outputs": [
    {
     "data": {
      "text/plain": [
       "Primary Tumor          587\n",
       "Solid Tissue Normal    210\n",
       "Name: Sample Type, dtype: int64"
      ]
     },
     "execution_count": 5,
     "metadata": {},
     "output_type": "execute_result"
    }
   ],
   "source": [
    "samples['Sample Type'].value_counts()"
   ]
  },
  {
   "cell_type": "code",
   "execution_count": 6,
   "metadata": {},
   "outputs": [],
   "source": [
    "# all cases with adjacent normal tissue\n",
    "cases = samples[samples['Sample Type']=='Solid Tissue Normal']['Case ID']"
   ]
  },
  {
   "cell_type": "code",
   "execution_count": 7,
   "metadata": {},
   "outputs": [
    {
     "data": {
      "text/plain": [
       "176"
      ]
     },
     "execution_count": 7,
     "metadata": {},
     "output_type": "execute_result"
    },
    {
     "data": {
      "text/plain": [
       "210"
      ]
     },
     "execution_count": 7,
     "metadata": {},
     "output_type": "execute_result"
    }
   ],
   "source": [
    "# disparity in cases\n",
    "samples[(samples['Case ID'].isin(cases)) & (samples['Sample Type']=='Primary Tumor') \n",
    "        & (samples['data']=='FPKM')]['Case ID'].nunique()\n",
    "samples[(samples['Case ID'].isin(cases)) & (samples['Sample Type']=='Solid Tissue Normal') \n",
    "        & (samples['data']=='FPKM')]['Case ID'].nunique()"
   ]
  },
  {
   "cell_type": "code",
   "execution_count": 8,
   "metadata": {},
   "outputs": [
    {
     "data": {
      "text/plain": [
       "(187,)"
      ]
     },
     "execution_count": 8,
     "metadata": {},
     "output_type": "execute_result"
    }
   ],
   "source": [
    "# divide, join, subset\n",
    "case_tumor = samples[(samples['Case ID'].isin(cases)) & (samples['Sample Type']=='Primary Tumor') & \n",
    "                     (samples['data']=='FPKM')]\n",
    "case_norm = samples[(samples['Case ID'].isin(cases)) & (samples['Sample Type']=='Solid Tissue Normal') & \n",
    "                    (samples['data']=='FPKM')]\n",
    "cases = pd.merge(case_tumor['Case ID'], case_norm['Case ID'])['Case ID']\n",
    "cases.shape"
   ]
  },
  {
   "cell_type": "code",
   "execution_count": 9,
   "metadata": {},
   "outputs": [],
   "source": [
    "case_tumor = case_tumor[case_tumor['Case ID'].isin(cases)]\n",
    "case_norm = case_norm[case_norm['Case ID'].isin(cases)]\n",
    "cases = pd.concat([case_tumor, case_norm])"
   ]
  },
  {
   "cell_type": "code",
   "execution_count": 10,
   "metadata": {},
   "outputs": [
    {
     "data": {
      "text/plain": [
       "(187, 9)"
      ]
     },
     "execution_count": 10,
     "metadata": {},
     "output_type": "execute_result"
    },
    {
     "data": {
      "text/plain": [
       "(176, 9)"
      ]
     },
     "execution_count": 10,
     "metadata": {},
     "output_type": "execute_result"
    },
    {
     "data": {
      "text/plain": [
       "(363, 9)"
      ]
     },
     "execution_count": 10,
     "metadata": {},
     "output_type": "execute_result"
    }
   ],
   "source": [
    "case_tumor.shape\n",
    "case_norm.shape\n",
    "cases.shape"
   ]
  },
  {
   "cell_type": "markdown",
   "metadata": {},
   "source": [
    "## Dataset Prep"
   ]
  },
  {
   "cell_type": "code",
   "execution_count": 11,
   "metadata": {},
   "outputs": [
    {
     "data": {
      "text/plain": [
       "Primary Tumor          140\n",
       "Solid Tissue Normal    132\n",
       "Name: Sample Type, dtype: int64"
      ]
     },
     "execution_count": 11,
     "metadata": {},
     "output_type": "execute_result"
    },
    {
     "data": {
      "text/plain": [
       "Primary Tumor          47\n",
       "Solid Tissue Normal    44\n",
       "Name: Sample Type, dtype: int64"
      ]
     },
     "execution_count": 11,
     "metadata": {},
     "output_type": "execute_result"
    }
   ],
   "source": [
    "from sklearn.model_selection import train_test_split\n",
    "from sklearn.preprocessing import StandardScaler\n",
    "\n",
    "target = 'Sample Type'\n",
    "cases[target] = cases[target].astype('category')\n",
    "\n",
    "train, test = train_test_split(cases)\n",
    "train[target].value_counts()\n",
    "test[target].value_counts()"
   ]
  },
  {
   "cell_type": "code",
   "execution_count": 12,
   "metadata": {},
   "outputs": [
    {
     "data": {
      "text/plain": [
       "<torch._C.Generator at 0x7effbbc606f0>"
      ]
     },
     "execution_count": 12,
     "metadata": {},
     "output_type": "execute_result"
    },
    {
     "name": "stdout",
     "output_type": "stream",
     "text": [
      "Cuda is available: True\n"
     ]
    },
    {
     "data": {
      "text/plain": [
       "{'Primary Tumor': 0, 'Solid Tissue Normal': 1}"
      ]
     },
     "execution_count": 12,
     "metadata": {},
     "output_type": "execute_result"
    }
   ],
   "source": [
    "import torch\n",
    "from torch.optim import lr_scheduler\n",
    "import torch.optim as optim\n",
    "from torch.autograd import Variable\n",
    "torch.manual_seed(123)\n",
    "\n",
    "from trainer import fit\n",
    "import visualization as vis\n",
    "import numpy as np\n",
    "cuda = torch.cuda.is_available()\n",
    "print(\"Cuda is available: {}\".format(cuda))\n",
    "\n",
    "classes = {key:val for val,key in enumerate(train[target].cat.categories.values)}\n",
    "classes"
   ]
  },
  {
   "cell_type": "code",
   "execution_count": 13,
   "metadata": {},
   "outputs": [
    {
     "name": "stderr",
     "output_type": "stream",
     "text": [
      "/srv/home/wconnell/github/siamese-triplet/tcga_datasets.py:49: FutureWarning: Sorting because non-concatenation axis is not aligned. A future version\n",
      "of pandas will change to not sort by default.\n",
      "\n",
      "To accept the future behavior, pass 'sort=False'.\n",
      "\n",
      "To retain the current behavior and silence the warning, pass 'sort=True'.\n",
      "\n",
      "  df = pd.concat(df_list)\n"
     ]
    }
   ],
   "source": [
    "from tcga_datasets import TCGA, SiameseTCGA\n",
    "root_dir = \"../data/TCGA/rna-seq_adeno/\"\n",
    "batch_size = 1\n",
    "\n",
    "train_dataset = TCGA(root_dir, samples=train, train=True, target=target, norm=False)\n",
    "test_dataset = TCGA(root_dir, samples=test, train=False, target=target, norm=False)\n",
    "\n",
    "scaler = StandardScaler()\n",
    "train_dataset.data = pd.DataFrame(scaler.fit_transform(train_dataset.data),\n",
    "                                  index=train_dataset.data.index,\n",
    "                                  columns=train_dataset.data.columns)\n",
    "test_dataset.data = pd.DataFrame(scaler.transform(test_dataset.data),\n",
    "                                 index=test_dataset.data.index,\n",
    "                                 columns=test_dataset.data.columns)\n",
    "\n",
    "kwargs = {'num_workers': 10, 'pin_memory': True} if cuda else {'num_workers': 10}\n",
    "train_loader = torch.utils.data.DataLoader(train_dataset, batch_size=batch_size, shuffle=True, **kwargs)\n",
    "test_loader = torch.utils.data.DataLoader(test_dataset, batch_size=batch_size, shuffle=False, **kwargs)"
   ]
  },
  {
   "cell_type": "markdown",
   "metadata": {},
   "source": [
    "## Siamese Network"
   ]
  },
  {
   "cell_type": "code",
   "execution_count": 14,
   "metadata": {},
   "outputs": [
    {
     "data": {
      "text/plain": [
       "SiameseNet(\n",
       "  (embedding_net): EmbeddingNet(\n",
       "    (fc): Sequential(\n",
       "      (linear1): Linear(in_features=60483, out_features=2000, bias=True)\n",
       "      (relu1): PReLU(num_parameters=1)\n",
       "      (linear2): Linear(in_features=2000, out_features=500, bias=True)\n",
       "      (relu2): PReLU(num_parameters=1)\n",
       "      (linear3): Linear(in_features=500, out_features=250, bias=True)\n",
       "      (relu3): PReLU(num_parameters=1)\n",
       "      (linear4): Linear(in_features=250, out_features=100, bias=True)\n",
       "      (relu4): PReLU(num_parameters=1)\n",
       "      (linear5): Linear(in_features=100, out_features=50, bias=True)\n",
       "      (relu5): PReLU(num_parameters=1)\n",
       "      (linear6): Linear(in_features=50, out_features=10, bias=True)\n",
       "      (relu6): PReLU(num_parameters=1)\n",
       "      (linear7): Linear(in_features=10, out_features=2, bias=True)\n",
       "    )\n",
       "  )\n",
       ")"
      ]
     },
     "execution_count": 14,
     "metadata": {},
     "output_type": "execute_result"
    }
   ],
   "source": [
    "# Step 1 set up dataloader\n",
    "root_dir = \"../data/TCGA\"\n",
    "siamese_train_dataset = SiameseTCGA(train_dataset) # Returns pairs of images and target same/different\n",
    "siamese_test_dataset = SiameseTCGA(test_dataset)\n",
    "batch_size = 8\n",
    "kwargs = {'num_workers': 10, 'pin_memory': True} if cuda else {}\n",
    "siamese_train_loader = torch.utils.data.DataLoader(siamese_train_dataset, batch_size=batch_size, shuffle=True, **kwargs)\n",
    "siamese_test_loader = torch.utils.data.DataLoader(siamese_test_dataset, batch_size=batch_size, shuffle=False, **kwargs)\n",
    "\n",
    "# Set up the network and training parameters\n",
    "from tcga_networks import EmbeddingNet, SiameseNet\n",
    "from losses import ContrastiveLoss\n",
    "from metrics import AccumulatedAccuracyMetric\n",
    "\n",
    "# Step 2\n",
    "embedding_net = EmbeddingNet()\n",
    "# Step 3\n",
    "model = SiameseNet(embedding_net)\n",
    "if cuda:\n",
    "    model.cuda()\n",
    "    \n",
    "# Step 4\n",
    "margin = 1.\n",
    "loss_fn = ContrastiveLoss(margin)\n",
    "lr = 1e-3\n",
    "optimizer = optim.Adam(model.parameters(), lr=lr)\n",
    "scheduler = lr_scheduler.StepLR(optimizer, 8, gamma=0.1, last_epoch=-1)\n",
    "n_epochs = 20\n",
    "# print training metrics every log_interval * batch_size\n",
    "log_interval = 30"
   ]
  },
  {
   "cell_type": "code",
   "execution_count": 15,
   "metadata": {},
   "outputs": [
    {
     "name": "stdout",
     "output_type": "stream",
     "text": [
      "Train: [0/272 (0%)]\tLoss: 0.186468\n",
      "Train: [240/272 (88%)]\tLoss: 0.573355\n",
      "Epoch: 1/20. Train set: Average loss: 0.5241\n",
      "Epoch: 1/20. Validation set: Average loss: 1.0224\n",
      "Train: [0/272 (0%)]\tLoss: 0.225592\n",
      "Train: [240/272 (88%)]\tLoss: 0.144387\n",
      "Epoch: 2/20. Train set: Average loss: 0.1403\n",
      "Epoch: 2/20. Validation set: Average loss: 0.1574\n",
      "Train: [0/272 (0%)]\tLoss: 0.048625\n",
      "Train: [240/272 (88%)]\tLoss: 0.056677\n",
      "Epoch: 3/20. Train set: Average loss: 0.0552\n",
      "Epoch: 3/20. Validation set: Average loss: 0.0598\n",
      "Train: [0/272 (0%)]\tLoss: 0.051783\n",
      "Train: [240/272 (88%)]\tLoss: 0.021570\n",
      "Epoch: 4/20. Train set: Average loss: 0.0218\n",
      "Epoch: 4/20. Validation set: Average loss: 0.0240\n",
      "Train: [0/272 (0%)]\tLoss: 0.008680\n",
      "Train: [240/272 (88%)]\tLoss: 0.010830\n",
      "Epoch: 5/20. Train set: Average loss: 0.0102\n",
      "Epoch: 5/20. Validation set: Average loss: 0.0387\n",
      "Train: [0/272 (0%)]\tLoss: 0.010867\n",
      "Train: [240/272 (88%)]\tLoss: 0.022442\n",
      "Epoch: 6/20. Train set: Average loss: 0.0212\n",
      "Epoch: 6/20. Validation set: Average loss: 0.0342\n",
      "Train: [0/272 (0%)]\tLoss: 0.015760\n",
      "Train: [240/272 (88%)]\tLoss: 0.018710\n",
      "Epoch: 7/20. Train set: Average loss: 0.0173\n",
      "Epoch: 7/20. Validation set: Average loss: 0.0870\n",
      "Train: [0/272 (0%)]\tLoss: 0.008174\n",
      "Train: [240/272 (88%)]\tLoss: 0.016862\n",
      "Epoch: 8/20. Train set: Average loss: 0.0154\n",
      "Epoch: 8/20. Validation set: Average loss: 0.0987\n",
      "Train: [0/272 (0%)]\tLoss: 0.003375\n",
      "Train: [240/272 (88%)]\tLoss: 0.040779\n",
      "Epoch: 9/20. Train set: Average loss: 0.0376\n",
      "Epoch: 9/20. Validation set: Average loss: 0.2532\n",
      "Train: [0/272 (0%)]\tLoss: 0.007864\n",
      "Train: [240/272 (88%)]\tLoss: 0.083151\n",
      "Epoch: 10/20. Train set: Average loss: 0.0749\n",
      "Epoch: 10/20. Validation set: Average loss: 0.0842\n",
      "Train: [0/272 (0%)]\tLoss: 0.016922\n",
      "Train: [240/272 (88%)]\tLoss: 0.010879\n",
      "Epoch: 11/20. Train set: Average loss: 0.0662\n",
      "Epoch: 11/20. Validation set: Average loss: 0.0263\n",
      "Train: [0/272 (0%)]\tLoss: 0.058007\n",
      "Train: [240/272 (88%)]\tLoss: 0.072536\n",
      "Epoch: 12/20. Train set: Average loss: 0.0660\n",
      "Epoch: 12/20. Validation set: Average loss: 0.0507\n",
      "Train: [0/272 (0%)]\tLoss: 0.002567\n",
      "Train: [240/272 (88%)]\tLoss: 0.007117\n",
      "Epoch: 13/20. Train set: Average loss: 0.0069\n",
      "Epoch: 13/20. Validation set: Average loss: 0.0478\n",
      "Train: [0/272 (0%)]\tLoss: 0.003302\n",
      "Train: [240/272 (88%)]\tLoss: 0.005742\n",
      "Epoch: 14/20. Train set: Average loss: 0.0054\n",
      "Epoch: 14/20. Validation set: Average loss: 0.0385\n",
      "Train: [0/272 (0%)]\tLoss: 0.002223\n",
      "Train: [240/272 (88%)]\tLoss: 0.003623\n",
      "Epoch: 15/20. Train set: Average loss: 0.0034\n",
      "Epoch: 15/20. Validation set: Average loss: 0.0323\n",
      "Train: [0/272 (0%)]\tLoss: 0.001307\n",
      "Train: [240/272 (88%)]\tLoss: 0.002845\n",
      "Epoch: 16/20. Train set: Average loss: 0.0028\n",
      "Epoch: 16/20. Validation set: Average loss: 0.0293\n",
      "Train: [0/272 (0%)]\tLoss: 0.001408\n",
      "Train: [240/272 (88%)]\tLoss: 0.002128\n",
      "Epoch: 17/20. Train set: Average loss: 0.0023\n",
      "Epoch: 17/20. Validation set: Average loss: 0.0291\n",
      "Train: [0/272 (0%)]\tLoss: 0.000903\n",
      "Train: [240/272 (88%)]\tLoss: 0.002984\n",
      "Epoch: 18/20. Train set: Average loss: 0.0028\n",
      "Epoch: 18/20. Validation set: Average loss: 0.0288\n",
      "Train: [0/272 (0%)]\tLoss: 0.001422\n",
      "Train: [240/272 (88%)]\tLoss: 0.002883\n",
      "Epoch: 19/20. Train set: Average loss: 0.0027\n",
      "Epoch: 19/20. Validation set: Average loss: 0.0285\n",
      "Train: [0/272 (0%)]\tLoss: 0.002006\n",
      "Train: [240/272 (88%)]\tLoss: 0.002295\n",
      "Epoch: 20/20. Train set: Average loss: 0.0023\n",
      "Epoch: 20/20. Validation set: Average loss: 0.0281\n"
     ]
    }
   ],
   "source": [
    "train_loss, val_loss = fit(siamese_train_loader, siamese_test_loader, model, loss_fn, optimizer, scheduler, \n",
    "    n_epochs, cuda, log_interval)"
   ]
  },
  {
   "cell_type": "code",
   "execution_count": 16,
   "metadata": {},
   "outputs": [
    {
     "data": {
      "text/plain": [
       "[<matplotlib.lines.Line2D at 0x7eff7f1ff390>]"
      ]
     },
     "execution_count": 16,
     "metadata": {},
     "output_type": "execute_result"
    },
    {
     "data": {
      "text/plain": [
       "[<matplotlib.lines.Line2D at 0x7f0011547470>]"
      ]
     },
     "execution_count": 16,
     "metadata": {},
     "output_type": "execute_result"
    },
    {
     "data": {
      "image/png": "[encoded data removed]",
      "text/plain": [
       "<Figure size 432x288 with 1 Axes>"
      ]
     },
     "metadata": {
      "needs_background": "light"
     },
     "output_type": "display_data"
    }
   ],
   "source": [
    "plt.plot(range(0, n_epochs), train_loss, 'rx-')\n",
    "plt.plot(range(0, n_epochs), val_loss, 'bx-')"
   ]
  },
  {
   "cell_type": "code",
   "execution_count": 17,
   "metadata": {},
   "outputs": [
    {
     "data": {
      "image/png": "[encoded data removed]",
      "text/plain": [
       "<Figure size 720x720 with 1 Axes>"
      ]
     },
     "metadata": {
      "needs_background": "light"
     },
     "output_type": "display_data"
    }
   ],
   "source": [
    "train_embeddings_cl, train_labels_cl = vis.extract_embeddings(train_loader, model)\n",
    "vis.plot_embeddings(train_embeddings_cl, train_labels_cl, siamese_train_dataset.labels_dict)"
   ]
  },
  {
   "cell_type": "code",
   "execution_count": 18,
   "metadata": {},
   "outputs": [
    {
     "data": {
      "image/png": "[encoded data removed]",
      "text/plain": [
       "<Figure size 720x720 with 1 Axes>"
      ]
     },
     "metadata": {
      "needs_background": "light"
     },
     "output_type": "display_data"
    }
   ],
   "source": [
    "val_embeddings_baseline, val_labels_baseline = vis.extract_embeddings(test_loader, model)\n",
    "vis.plot_embeddings(val_embeddings_baseline, val_labels_baseline, siamese_test_dataset.labels_dict)"
   ]
  },
  {
   "cell_type": "markdown",
   "metadata": {},
   "source": [
    "## Integrated Gradients\n",
    "Test completeness axiom through comparison of different baselines\n",
    "\n",
    "\"Integrated gradients satisfy an\n",
    "axiom called completeness that the attributions add up to\n",
    "the difference between the output of F at the input x and\n",
    "the baseline x'.\""
   ]
  },
  {
   "cell_type": "code",
   "execution_count": 19,
   "metadata": {},
   "outputs": [],
   "source": [
    "import copy\n",
    "from captum.attr import LayerActivation\n",
    "from captum.attr import IntegratedGradients"
   ]
  },
  {
   "cell_type": "code",
   "execution_count": 20,
   "metadata": {},
   "outputs": [],
   "source": [
    "tmp_model = copy.deepcopy(model)"
   ]
  },
  {
   "cell_type": "code",
   "execution_count": 21,
   "metadata": {},
   "outputs": [],
   "source": [
    "def attribution_pairs(SiameseTCGA, exp, ctrl):\n",
    "    # subset different samples\n",
    "    negative_pairs = np.array(SiameseTCGA.test_pairs)\n",
    "    negative_pairs = negative_pairs[negative_pairs[:,2] == 0]\n",
    "    # map labels to integers\n",
    "    ctrl = siamese_test_dataset.labels_dict[ctrl]\n",
    "    exp = siamese_test_dataset.labels_dict[exp]\n",
    "    # ordered indices of samples\n",
    "    ctrl_data = [idx for pair in negative_pairs[:, :2] for idx in pair if np.isin(idx, SiameseTCGA.label_to_indices[ctrl])]\n",
    "    exp_data = [idx for pair in negative_pairs[:, :2] for idx in pair if np.isin(idx, SiameseTCGA.label_to_indices[exp])]\n",
    "    # data\n",
    "    ctrl_data = Variable(SiameseTCGA.test_data[ctrl_data], requires_grad=True)\n",
    "    exp_data = Variable(SiameseTCGA.test_data[exp_data], requires_grad=True)\n",
    "    return ctrl_data, exp_data"
   ]
  },
  {
   "cell_type": "markdown",
   "metadata": {},
   "source": [
    "### IG with Control vector"
   ]
  },
  {
   "cell_type": "code",
   "execution_count": 22,
   "metadata": {},
   "outputs": [],
   "source": [
    "ctrl_data, exp_data = attribution_pairs(siamese_test_dataset, exp='Primary Tumor', ctrl='Solid Tissue Normal')"
   ]
  },
  {
   "cell_type": "code",
   "execution_count": 23,
   "metadata": {},
   "outputs": [],
   "source": [
    "ig = IntegratedGradients(tmp_model.get_embedding)"
   ]
  },
  {
   "cell_type": "code",
   "execution_count": 24,
   "metadata": {},
   "outputs": [],
   "source": [
    "torch.cuda.empty_cache()"
   ]
  },
  {
   "cell_type": "code",
   "execution_count": 25,
   "metadata": {},
   "outputs": [],
   "source": [
    "attr, delta = ig.attribute(exp_data.cuda(), ctrl_data.cuda(), target=0, n_steps=50, return_convergence_delta=True)\n",
    "attr = attr.cpu().detach().numpy()"
   ]
  },
  {
   "cell_type": "code",
   "execution_count": 26,
   "metadata": {},
   "outputs": [
    {
     "data": {
      "text/plain": [
       "(45, 60483)"
      ]
     },
     "execution_count": 26,
     "metadata": {},
     "output_type": "execute_result"
    },
    {
     "data": {
      "text/plain": [
       "array([[<matplotlib.axes._subplots.AxesSubplot object at 0x7eff8ac35fd0>]],\n",
       "      dtype=object)"
      ]
     },
     "execution_count": 26,
     "metadata": {},
     "output_type": "execute_result"
    },
    {
     "data": {
      "text/html": [
       "<div>\n",
       "<style scoped>\n",
       "    .dataframe tbody tr th:only-of-type {\n",
       "        vertical-align: middle;\n",
       "    }\n",
       "\n",
       "    .dataframe tbody tr th {\n",
       "        vertical-align: top;\n",
       "    }\n",
       "\n",
       "    .dataframe thead th {\n",
       "        text-align: right;\n",
       "    }\n",
       "</style>\n",
       "<table border=\"1\" class=\"dataframe\">\n",
       "  <thead>\n",
       "    <tr style=\"text-align: right;\">\n",
       "      <th></th>\n",
       "      <th>Attribution</th>\n",
       "    </tr>\n",
       "  </thead>\n",
       "  <tbody>\n",
       "    <tr>\n",
       "      <th>count</th>\n",
       "      <td>60483.000000</td>\n",
       "    </tr>\n",
       "    <tr>\n",
       "      <th>mean</th>\n",
       "      <td>0.000014</td>\n",
       "    </tr>\n",
       "    <tr>\n",
       "      <th>std</th>\n",
       "      <td>0.000040</td>\n",
       "    </tr>\n",
       "    <tr>\n",
       "      <th>min</th>\n",
       "      <td>-0.002897</td>\n",
       "    </tr>\n",
       "    <tr>\n",
       "      <th>25%</th>\n",
       "      <td>0.000000</td>\n",
       "    </tr>\n",
       "    <tr>\n",
       "      <th>50%</th>\n",
       "      <td>0.000004</td>\n",
       "    </tr>\n",
       "    <tr>\n",
       "      <th>75%</th>\n",
       "      <td>0.000017</td>\n",
       "    </tr>\n",
       "    <tr>\n",
       "      <th>max</th>\n",
       "      <td>0.003428</td>\n",
       "    </tr>\n",
       "  </tbody>\n",
       "</table>\n",
       "</div>"
      ],
      "text/plain": [
       "        Attribution\n",
       "count  60483.000000\n",
       "mean       0.000014\n",
       "std        0.000040\n",
       "min       -0.002897\n",
       "25%        0.000000\n",
       "50%        0.000004\n",
       "75%        0.000017\n",
       "max        0.003428"
      ]
     },
     "execution_count": 26,
     "metadata": {},
     "output_type": "execute_result"
    },
    {
     "data": {
      "text/html": [
       "<div>\n",
       "<style scoped>\n",
       "    .dataframe tbody tr th:only-of-type {\n",
       "        vertical-align: middle;\n",
       "    }\n",
       "\n",
       "    .dataframe tbody tr th {\n",
       "        vertical-align: top;\n",
       "    }\n",
       "\n",
       "    .dataframe thead th {\n",
       "        text-align: right;\n",
       "    }\n",
       "</style>\n",
       "<table border=\"1\" class=\"dataframe\">\n",
       "  <thead>\n",
       "    <tr style=\"text-align: right;\">\n",
       "      <th></th>\n",
       "      <th>Attribution</th>\n",
       "    </tr>\n",
       "  </thead>\n",
       "  <tbody>\n",
       "    <tr>\n",
       "      <th>ENSG00000214266.2</th>\n",
       "      <td>0.003428</td>\n",
       "    </tr>\n",
       "    <tr>\n",
       "      <th>ENSG00000254490.1</th>\n",
       "      <td>0.002394</td>\n",
       "    </tr>\n",
       "    <tr>\n",
       "      <th>ENSG00000261122.5</th>\n",
       "      <td>0.001553</td>\n",
       "    </tr>\n",
       "    <tr>\n",
       "      <th>ENSG00000227982.1</th>\n",
       "      <td>0.001545</td>\n",
       "    </tr>\n",
       "    <tr>\n",
       "      <th>ENSG00000275664.1</th>\n",
       "      <td>0.001203</td>\n",
       "    </tr>\n",
       "    <tr>\n",
       "      <th>ENSG00000261398.1</th>\n",
       "      <td>0.001046</td>\n",
       "    </tr>\n",
       "    <tr>\n",
       "      <th>ENSG00000260516.2</th>\n",
       "      <td>0.000992</td>\n",
       "    </tr>\n",
       "    <tr>\n",
       "      <th>ENSG00000269466.2</th>\n",
       "      <td>0.000907</td>\n",
       "    </tr>\n",
       "    <tr>\n",
       "      <th>ENSG00000211626.2</th>\n",
       "      <td>0.000766</td>\n",
       "    </tr>\n",
       "    <tr>\n",
       "      <th>ENSG00000278052.1</th>\n",
       "      <td>0.000758</td>\n",
       "    </tr>\n",
       "  </tbody>\n",
       "</table>\n",
       "</div>"
      ],
      "text/plain": [
       "                   Attribution\n",
       "ENSG00000214266.2     0.003428\n",
       "ENSG00000254490.1     0.002394\n",
       "ENSG00000261122.5     0.001553\n",
       "ENSG00000227982.1     0.001545\n",
       "ENSG00000275664.1     0.001203\n",
       "ENSG00000261398.1     0.001046\n",
       "ENSG00000260516.2     0.000992\n",
       "ENSG00000269466.2     0.000907\n",
       "ENSG00000211626.2     0.000766\n",
       "ENSG00000278052.1     0.000758"
      ]
     },
     "execution_count": 26,
     "metadata": {},
     "output_type": "execute_result"
    },
    {
     "data": {
      "image/png": "[encoded data removed]",
      "text/plain": [
       "<Figure size 432x288 with 1 Axes>"
      ]
     },
     "metadata": {
      "needs_background": "light"
     },
     "output_type": "display_data"
    }
   ],
   "source": [
    "attr.shape\n",
    "feat_imp = pd.DataFrame(data=attr.mean(axis=0), index=train_dataset.data.columns, columns=['Attribution'])\n",
    "feat_imp.hist(bins=100)\n",
    "feat_imp.describe()\n",
    "feat_imp.nlargest(10, columns='Attribution')"
   ]
  },
  {
   "cell_type": "markdown",
   "metadata": {},
   "source": [
    "### GSEA"
   ]
  },
  {
   "cell_type": "code",
   "execution_count": 30,
   "metadata": {},
   "outputs": [],
   "source": [
    "import gseapy as gp\n"
   ]
  },
  {
   "cell_type": "code",
   "execution_count": 29,
   "metadata": {},
   "outputs": [
    {
     "data": {
      "text/plain": [
       "'0.9.16'"
      ]
     },
     "execution_count": 29,
     "metadata": {},
     "output_type": "execute_result"
    }
   ],
   "source": [
    "gp.__version__"
   ]
  },
  {
   "cell_type": "code",
   "execution_count": 35,
   "metadata": {},
   "outputs": [],
   "source": [
    "from gseapy.parser import Biomart"
   ]
  },
  {
   "cell_type": "code",
   "execution_count": 68,
   "metadata": {},
   "outputs": [],
   "source": [
    "bm = Biomart()"
   ]
  },
  {
   "cell_type": "code",
   "execution_count": 37,
   "metadata": {},
   "outputs": [
    {
     "data": {
      "text/html": [
       "<div>\n",
       "<style scoped>\n",
       "    .dataframe tbody tr th:only-of-type {\n",
       "        vertical-align: middle;\n",
       "    }\n",
       "\n",
       "    .dataframe tbody tr th {\n",
       "        vertical-align: top;\n",
       "    }\n",
       "\n",
       "    .dataframe thead th {\n",
       "        text-align: right;\n",
       "    }\n",
       "</style>\n",
       "<table border=\"1\" class=\"dataframe\">\n",
       "  <thead>\n",
       "    <tr style=\"text-align: right;\">\n",
       "      <th></th>\n",
       "      <th>Filter</th>\n",
       "      <th>Description</th>\n",
       "    </tr>\n",
       "  </thead>\n",
       "  <tbody>\n",
       "    <tr>\n",
       "      <th>0</th>\n",
       "      <td>chromosome_name</td>\n",
       "      <td>Chromosome/scaffold name</td>\n",
       "    </tr>\n",
       "    <tr>\n",
       "      <th>1</th>\n",
       "      <td>start</td>\n",
       "      <td>Start</td>\n",
       "    </tr>\n",
       "    <tr>\n",
       "      <th>2</th>\n",
       "      <td>end</td>\n",
       "      <td>End</td>\n",
       "    </tr>\n",
       "    <tr>\n",
       "      <th>3</th>\n",
       "      <td>band_start</td>\n",
       "      <td>Band Start</td>\n",
       "    </tr>\n",
       "    <tr>\n",
       "      <th>4</th>\n",
       "      <td>band_end</td>\n",
       "      <td>Band End</td>\n",
       "    </tr>\n",
       "    <tr>\n",
       "      <th>...</th>\n",
       "      <td>...</td>\n",
       "      <td>...</td>\n",
       "    </tr>\n",
       "    <tr>\n",
       "      <th>429</th>\n",
       "      <td>tmhmm</td>\n",
       "      <td>Transmembrane helices ID(s) [e.g. TMhelix]</td>\n",
       "    </tr>\n",
       "    <tr>\n",
       "      <th>430</th>\n",
       "      <td>germ_line_variation_source</td>\n",
       "      <td>limit to genes with germline variant data sources</td>\n",
       "    </tr>\n",
       "    <tr>\n",
       "      <th>431</th>\n",
       "      <td>somatic_variation_source</td>\n",
       "      <td>limit to genes with somatic variant sources</td>\n",
       "    </tr>\n",
       "    <tr>\n",
       "      <th>432</th>\n",
       "      <td>with_validated_snp</td>\n",
       "      <td>Variant supporting evidence</td>\n",
       "    </tr>\n",
       "    <tr>\n",
       "      <th>433</th>\n",
       "      <td>so_mini_parent_name</td>\n",
       "      <td>Parent term name</td>\n",
       "    </tr>\n",
       "  </tbody>\n",
       "</table>\n",
       "<p>434 rows × 2 columns</p>\n",
       "</div>"
      ],
      "text/plain": [
       "                         Filter  \\\n",
       "0               chromosome_name   \n",
       "1                         start   \n",
       "2                           end   \n",
       "3                    band_start   \n",
       "4                      band_end   \n",
       "..                          ...   \n",
       "429                       tmhmm   \n",
       "430  germ_line_variation_source   \n",
       "431    somatic_variation_source   \n",
       "432          with_validated_snp   \n",
       "433         so_mini_parent_name   \n",
       "\n",
       "                                           Description  \n",
       "0                             Chromosome/scaffold name  \n",
       "1                                                Start  \n",
       "2                                                  End  \n",
       "3                                           Band Start  \n",
       "4                                             Band End  \n",
       "..                                                 ...  \n",
       "429         Transmembrane helices ID(s) [e.g. TMhelix]  \n",
       "430  limit to genes with germline variant data sources  \n",
       "431        limit to genes with somatic variant sources  \n",
       "432                        Variant supporting evidence  \n",
       "433                                   Parent term name  \n",
       "\n",
       "[434 rows x 2 columns]"
      ]
     },
     "execution_count": 37,
     "metadata": {},
     "output_type": "execute_result"
    }
   ],
   "source": [
    "## view validated filters\n",
    "filters = bm.get_filters(dataset='hsapiens_gene_ensembl')\n",
    "filters"
   ]
  },
  {
   "cell_type": "code",
   "execution_count": 61,
   "metadata": {},
   "outputs": [
    {
     "data": {
      "text/html": [
       "<div>\n",
       "<style scoped>\n",
       "    .dataframe tbody tr th:only-of-type {\n",
       "        vertical-align: middle;\n",
       "    }\n",
       "\n",
       "    .dataframe tbody tr th {\n",
       "        vertical-align: top;\n",
       "    }\n",
       "\n",
       "    .dataframe thead th {\n",
       "        text-align: right;\n",
       "    }\n",
       "</style>\n",
       "<table border=\"1\" class=\"dataframe\">\n",
       "  <thead>\n",
       "    <tr style=\"text-align: right;\">\n",
       "      <th></th>\n",
       "      <th>Filter</th>\n",
       "      <th>Description</th>\n",
       "    </tr>\n",
       "  </thead>\n",
       "  <tbody>\n",
       "    <tr>\n",
       "      <th>54</th>\n",
       "      <td>ensembl_gene_id</td>\n",
       "      <td>Gene stable ID(s) [e.g. ENSG00000000003]</td>\n",
       "    </tr>\n",
       "  </tbody>\n",
       "</table>\n",
       "</div>"
      ],
      "text/plain": [
       "             Filter                               Description\n",
       "54  ensembl_gene_id  Gene stable ID(s) [e.g. ENSG00000000003]"
      ]
     },
     "execution_count": 61,
     "metadata": {},
     "output_type": "execute_result"
    },
    {
     "data": {
      "text/html": [
       "<div>\n",
       "<style scoped>\n",
       "    .dataframe tbody tr th:only-of-type {\n",
       "        vertical-align: middle;\n",
       "    }\n",
       "\n",
       "    .dataframe tbody tr th {\n",
       "        vertical-align: top;\n",
       "    }\n",
       "\n",
       "    .dataframe thead th {\n",
       "        text-align: right;\n",
       "    }\n",
       "</style>\n",
       "<table border=\"1\" class=\"dataframe\">\n",
       "  <thead>\n",
       "    <tr style=\"text-align: right;\">\n",
       "      <th></th>\n",
       "      <th>Attribute</th>\n",
       "      <th>Description</th>\n",
       "    </tr>\n",
       "  </thead>\n",
       "  <tbody>\n",
       "    <tr>\n",
       "      <th>0</th>\n",
       "      <td>ensembl_gene_id</td>\n",
       "      <td>Gene stable ID</td>\n",
       "    </tr>\n",
       "    <tr>\n",
       "      <th>1</th>\n",
       "      <td>ensembl_gene_id_version</td>\n",
       "      <td>Gene stable ID version</td>\n",
       "    </tr>\n",
       "    <tr>\n",
       "      <th>2</th>\n",
       "      <td>ensembl_transcript_id</td>\n",
       "      <td>Transcript stable ID</td>\n",
       "    </tr>\n",
       "    <tr>\n",
       "      <th>3</th>\n",
       "      <td>ensembl_transcript_id_version</td>\n",
       "      <td>Transcript stable ID version</td>\n",
       "    </tr>\n",
       "    <tr>\n",
       "      <th>4</th>\n",
       "      <td>ensembl_peptide_id</td>\n",
       "      <td>Protein stable ID</td>\n",
       "    </tr>\n",
       "    <tr>\n",
       "      <th>...</th>\n",
       "      <td>...</td>\n",
       "      <td>...</td>\n",
       "    </tr>\n",
       "    <tr>\n",
       "      <th>3314</th>\n",
       "      <td>cdna</td>\n",
       "      <td>cDNA sequences</td>\n",
       "    </tr>\n",
       "    <tr>\n",
       "      <th>3315</th>\n",
       "      <td>coding</td>\n",
       "      <td>Coding sequence</td>\n",
       "    </tr>\n",
       "    <tr>\n",
       "      <th>3316</th>\n",
       "      <td>peptide</td>\n",
       "      <td>Peptide</td>\n",
       "    </tr>\n",
       "    <tr>\n",
       "      <th>3317</th>\n",
       "      <td>upstream_flank</td>\n",
       "      <td>upstream_flank</td>\n",
       "    </tr>\n",
       "    <tr>\n",
       "      <th>3318</th>\n",
       "      <td>downstream_flank</td>\n",
       "      <td>downstream_flank</td>\n",
       "    </tr>\n",
       "  </tbody>\n",
       "</table>\n",
       "<p>3319 rows × 2 columns</p>\n",
       "</div>"
      ],
      "text/plain": [
       "                          Attribute                   Description\n",
       "0                   ensembl_gene_id                Gene stable ID\n",
       "1           ensembl_gene_id_version        Gene stable ID version\n",
       "2             ensembl_transcript_id          Transcript stable ID\n",
       "3     ensembl_transcript_id_version  Transcript stable ID version\n",
       "4                ensembl_peptide_id             Protein stable ID\n",
       "...                             ...                           ...\n",
       "3314                           cdna                cDNA sequences\n",
       "3315                         coding               Coding sequence\n",
       "3316                        peptide                       Peptide\n",
       "3317                 upstream_flank                upstream_flank\n",
       "3318               downstream_flank              downstream_flank\n",
       "\n",
       "[3319 rows x 2 columns]"
      ]
     },
     "execution_count": 61,
     "metadata": {},
     "output_type": "execute_result"
    }
   ],
   "source": [
    "filters[filters['Filter']=='ensembl_gene_id']\n",
    "attrs = bm.get_attributes(dataset='hsapiens_gene_ensembl')\n",
    "attrs"
   ]
  },
  {
   "cell_type": "code",
   "execution_count": 65,
   "metadata": {},
   "outputs": [
    {
     "data": {
      "text/html": [
       "<div>\n",
       "<style scoped>\n",
       "    .dataframe tbody tr th:only-of-type {\n",
       "        vertical-align: middle;\n",
       "    }\n",
       "\n",
       "    .dataframe tbody tr th {\n",
       "        vertical-align: top;\n",
       "    }\n",
       "\n",
       "    .dataframe thead th {\n",
       "        text-align: right;\n",
       "    }\n",
       "</style>\n",
       "<table border=\"1\" class=\"dataframe\">\n",
       "  <thead>\n",
       "    <tr style=\"text-align: right;\">\n",
       "      <th></th>\n",
       "      <th>Attribute</th>\n",
       "      <th>Description</th>\n",
       "    </tr>\n",
       "  </thead>\n",
       "  <tbody>\n",
       "    <tr>\n",
       "      <th>67</th>\n",
       "      <td>kegg_enzyme</td>\n",
       "      <td>KEGG Pathway and Enzyme ID</td>\n",
       "    </tr>\n",
       "  </tbody>\n",
       "</table>\n",
       "</div>"
      ],
      "text/plain": [
       "      Attribute                 Description\n",
       "67  kegg_enzyme  KEGG Pathway and Enzyme ID"
      ]
     },
     "execution_count": 65,
     "metadata": {},
     "output_type": "execute_result"
    }
   ],
   "source": [
    "attrs[attrs['Attribute'].str.startswith('k')]"
   ]
  },
  {
   "cell_type": "code",
   "execution_count": 66,
   "metadata": {},
   "outputs": [
    {
     "data": {
      "text/html": [
       "<div>\n",
       "<style scoped>\n",
       "    .dataframe tbody tr th:only-of-type {\n",
       "        vertical-align: middle;\n",
       "    }\n",
       "\n",
       "    .dataframe tbody tr th {\n",
       "        vertical-align: top;\n",
       "    }\n",
       "\n",
       "    .dataframe thead th {\n",
       "        text-align: right;\n",
       "    }\n",
       "</style>\n",
       "<table border=\"1\" class=\"dataframe\">\n",
       "  <thead>\n",
       "    <tr style=\"text-align: right;\">\n",
       "      <th></th>\n",
       "      <th>Name</th>\n",
       "      <th>Description</th>\n",
       "    </tr>\n",
       "  </thead>\n",
       "  <tbody>\n",
       "    <tr>\n",
       "      <th>0</th>\n",
       "      <td>ssmeishan_gene_ensembl</td>\n",
       "      <td>Pig - Meishan genes (Meishan_pig_v1)</td>\n",
       "    </tr>\n",
       "    <tr>\n",
       "      <th>1</th>\n",
       "      <td>sbboliviensis_gene_ensembl</td>\n",
       "      <td>Bolivian squirrel monkey genes (SaiBol1.0)</td>\n",
       "    </tr>\n",
       "    <tr>\n",
       "      <th>2</th>\n",
       "      <td>pcoquereli_gene_ensembl</td>\n",
       "      <td>Coquerel's sifaka genes (Pcoq_1.0)</td>\n",
       "    </tr>\n",
       "    <tr>\n",
       "      <th>3</th>\n",
       "      <td>malbus_gene_ensembl</td>\n",
       "      <td>Swamp eel genes (M_albus_1.0)</td>\n",
       "    </tr>\n",
       "    <tr>\n",
       "      <th>4</th>\n",
       "      <td>ssjinhua_gene_ensembl</td>\n",
       "      <td>Pig - Jinhua genes (Jinhua_pig_v1)</td>\n",
       "    </tr>\n",
       "    <tr>\n",
       "      <th>...</th>\n",
       "      <td>...</td>\n",
       "      <td>...</td>\n",
       "    </tr>\n",
       "    <tr>\n",
       "      <th>197</th>\n",
       "      <td>rferrumequinum_gene_ensembl</td>\n",
       "      <td>Greater horseshoe bat genes (mRhiFer1_v1.p)</td>\n",
       "    </tr>\n",
       "    <tr>\n",
       "      <th>198</th>\n",
       "      <td>mleucophaeus_gene_ensembl</td>\n",
       "      <td>Drill genes (Mleu.le_1.0)</td>\n",
       "    </tr>\n",
       "    <tr>\n",
       "      <th>199</th>\n",
       "      <td>pmbairdii_gene_ensembl</td>\n",
       "      <td>Northern American deer mouse genes (HU_Pman_2.1)</td>\n",
       "    </tr>\n",
       "    <tr>\n",
       "      <th>200</th>\n",
       "      <td>ogarnettii_gene_ensembl</td>\n",
       "      <td>Bushbaby genes (OtoGar3)</td>\n",
       "    </tr>\n",
       "    <tr>\n",
       "      <th>201</th>\n",
       "      <td>cgobio_gene_ensembl</td>\n",
       "      <td>Channel bull blenny genes (fCotGob3.1)</td>\n",
       "    </tr>\n",
       "  </tbody>\n",
       "</table>\n",
       "<p>202 rows × 2 columns</p>\n",
       "</div>"
      ],
      "text/plain": [
       "                            Name  \\\n",
       "0         ssmeishan_gene_ensembl   \n",
       "1     sbboliviensis_gene_ensembl   \n",
       "2        pcoquereli_gene_ensembl   \n",
       "3            malbus_gene_ensembl   \n",
       "4          ssjinhua_gene_ensembl   \n",
       "..                           ...   \n",
       "197  rferrumequinum_gene_ensembl   \n",
       "198    mleucophaeus_gene_ensembl   \n",
       "199       pmbairdii_gene_ensembl   \n",
       "200      ogarnettii_gene_ensembl   \n",
       "201          cgobio_gene_ensembl   \n",
       "\n",
       "                                          Description  \n",
       "0                Pig - Meishan genes (Meishan_pig_v1)  \n",
       "1          Bolivian squirrel monkey genes (SaiBol1.0)  \n",
       "2                  Coquerel's sifaka genes (Pcoq_1.0)  \n",
       "3                       Swamp eel genes (M_albus_1.0)  \n",
       "4                  Pig - Jinhua genes (Jinhua_pig_v1)  \n",
       "..                                                ...  \n",
       "197       Greater horseshoe bat genes (mRhiFer1_v1.p)  \n",
       "198                         Drill genes (Mleu.le_1.0)  \n",
       "199  Northern American deer mouse genes (HU_Pman_2.1)  \n",
       "200                          Bushbaby genes (OtoGar3)  \n",
       "201            Channel bull blenny genes (fCotGob3.1)  \n",
       "\n",
       "[202 rows x 2 columns]"
      ]
     },
     "execution_count": 66,
     "metadata": {},
     "output_type": "execute_result"
    }
   ],
   "source": [
    "datasets = bm.get_datasets(mart='ENSEMBL_MART_ENSEMBL')\n",
    "datasets"
   ]
  },
  {
   "cell_type": "code",
   "execution_count": 67,
   "metadata": {},
   "outputs": [
    {
     "data": {
      "text/html": [
       "<div>\n",
       "<style scoped>\n",
       "    .dataframe tbody tr th:only-of-type {\n",
       "        vertical-align: middle;\n",
       "    }\n",
       "\n",
       "    .dataframe tbody tr th {\n",
       "        vertical-align: top;\n",
       "    }\n",
       "\n",
       "    .dataframe thead th {\n",
       "        text-align: right;\n",
       "    }\n",
       "</style>\n",
       "<table border=\"1\" class=\"dataframe\">\n",
       "  <thead>\n",
       "    <tr style=\"text-align: right;\">\n",
       "      <th></th>\n",
       "      <th>Name</th>\n",
       "      <th>Description</th>\n",
       "    </tr>\n",
       "  </thead>\n",
       "  <tbody>\n",
       "    <tr>\n",
       "      <th>0</th>\n",
       "      <td>ENSEMBL_MART_ENSEMBL</td>\n",
       "      <td>Ensembl Genes 99</td>\n",
       "    </tr>\n",
       "    <tr>\n",
       "      <th>1</th>\n",
       "      <td>ENSEMBL_MART_MOUSE</td>\n",
       "      <td>Mouse strains 99</td>\n",
       "    </tr>\n",
       "    <tr>\n",
       "      <th>2</th>\n",
       "      <td>ENSEMBL_MART_SEQUENCE</td>\n",
       "      <td>Sequence</td>\n",
       "    </tr>\n",
       "    <tr>\n",
       "      <th>3</th>\n",
       "      <td>ENSEMBL_MART_ONTOLOGY</td>\n",
       "      <td>Ontology</td>\n",
       "    </tr>\n",
       "    <tr>\n",
       "      <th>4</th>\n",
       "      <td>ENSEMBL_MART_GENOMIC</td>\n",
       "      <td>Genomic features 99</td>\n",
       "    </tr>\n",
       "    <tr>\n",
       "      <th>5</th>\n",
       "      <td>ENSEMBL_MART_SNP</td>\n",
       "      <td>Ensembl Variation 99</td>\n",
       "    </tr>\n",
       "    <tr>\n",
       "      <th>6</th>\n",
       "      <td>ENSEMBL_MART_FUNCGEN</td>\n",
       "      <td>Ensembl Regulation 99</td>\n",
       "    </tr>\n",
       "  </tbody>\n",
       "</table>\n",
       "</div>"
      ],
      "text/plain": [
       "                    Name            Description\n",
       "0   ENSEMBL_MART_ENSEMBL       Ensembl Genes 99\n",
       "1     ENSEMBL_MART_MOUSE       Mouse strains 99\n",
       "2  ENSEMBL_MART_SEQUENCE               Sequence\n",
       "3  ENSEMBL_MART_ONTOLOGY               Ontology\n",
       "4   ENSEMBL_MART_GENOMIC    Genomic features 99\n",
       "5       ENSEMBL_MART_SNP   Ensembl Variation 99\n",
       "6   ENSEMBL_MART_FUNCGEN  Ensembl Regulation 99"
      ]
     },
     "execution_count": 67,
     "metadata": {},
     "output_type": "execute_result"
    }
   ],
   "source": [
    "marts = bm.get_marts()\n",
    "marts"
   ]
  },
  {
   "cell_type": "code",
   "execution_count": 71,
   "metadata": {},
   "outputs": [],
   "source": [
    "## BioMart is slow. Be patient\n",
    "results = bm.query(dataset='hsapiens_gene_ensembl',\n",
    "                   attributes=['external_gene_name','entrezgene', 'go_id'],\n",
    "                   filters={'ensembl_gene_id': ensmbl_ids[:5]},\n",
    "                   # save output file\n",
    "                   filename=\"query.results.txt\")"
   ]
  },
  {
   "cell_type": "code",
   "execution_count": 72,
   "metadata": {},
   "outputs": [
    {
     "data": {
      "text/html": [
       "<div>\n",
       "<style scoped>\n",
       "    .dataframe tbody tr th:only-of-type {\n",
       "        vertical-align: middle;\n",
       "    }\n",
       "\n",
       "    .dataframe tbody tr th {\n",
       "        vertical-align: top;\n",
       "    }\n",
       "\n",
       "    .dataframe thead th {\n",
       "        text-align: right;\n",
       "    }\n",
       "</style>\n",
       "<table border=\"1\" class=\"dataframe\">\n",
       "  <thead>\n",
       "    <tr style=\"text-align: right;\">\n",
       "      <th></th>\n",
       "      <th>external_gene_name</th>\n",
       "      <th>entrezgene</th>\n",
       "      <th>go_id</th>\n",
       "    </tr>\n",
       "  </thead>\n",
       "  <tbody>\n",
       "    <tr>\n",
       "      <th>0</th>\n",
       "      <td>Query ERROR: caught BioMart::Exception::Usage:...</td>\n",
       "      <td>NaN</td>\n",
       "      <td>NaN</td>\n",
       "    </tr>\n",
       "  </tbody>\n",
       "</table>\n",
       "</div>"
      ],
      "text/plain": [
       "                                  external_gene_name  entrezgene  go_id\n",
       "0  Query ERROR: caught BioMart::Exception::Usage:...         NaN    NaN"
      ]
     },
     "execution_count": 72,
     "metadata": {},
     "output_type": "execute_result"
    }
   ],
   "source": [
    "results"
   ]
  },
  {
   "cell_type": "code",
   "execution_count": 56,
   "metadata": {},
   "outputs": [
    {
     "data": {
      "text/plain": [
       "ENSG00000100721    0.004661\n",
       "ENSG00000170054    0.002761\n",
       "ENSG00000268804    0.002568\n",
       "ENSG00000170412    0.002566\n",
       "ENSG00000257275    0.002529\n",
       "dtype: float32"
      ]
     },
     "execution_count": 56,
     "metadata": {},
     "output_type": "execute_result"
    }
   ],
   "source": [
    "ensmbl_ids = [ensmbl.split(\".\")[0] for ensmbl in train_dataset.data.columns]\n",
    "rnk = pd.Series(attr[0], index=ensmbl_ids).sort_values(ascending=False)\n",
    "rnk.head()"
   ]
  },
  {
   "cell_type": "code",
   "execution_count": 79,
   "metadata": {},
   "outputs": [],
   "source": [
    "glist = ['IGKV4-1', 'CD55', 'IGKC', 'PPFIBP1', 'ABHD4']"
   ]
  },
  {
   "cell_type": "code",
   "execution_count": 80,
   "metadata": {},
   "outputs": [],
   "source": [
    "results = bm.query(dataset='hsapiens_gene_ensembl',\n",
    "                   attributes=['external_gene_name','entrezgene', 'go_id'],\n",
    "                   filters={'hgnc_symbol': glist},\n",
    "                   # save output file\n",
    "                   filename=\"query.results.txt\")"
   ]
  },
  {
   "cell_type": "code",
   "execution_count": 81,
   "metadata": {},
   "outputs": [
    {
     "data": {
      "text/html": [
       "<div>\n",
       "<style scoped>\n",
       "    .dataframe tbody tr th:only-of-type {\n",
       "        vertical-align: middle;\n",
       "    }\n",
       "\n",
       "    .dataframe tbody tr th {\n",
       "        vertical-align: top;\n",
       "    }\n",
       "\n",
       "    .dataframe thead th {\n",
       "        text-align: right;\n",
       "    }\n",
       "</style>\n",
       "<table border=\"1\" class=\"dataframe\">\n",
       "  <thead>\n",
       "    <tr style=\"text-align: right;\">\n",
       "      <th></th>\n",
       "      <th>external_gene_name</th>\n",
       "      <th>entrezgene</th>\n",
       "      <th>go_id</th>\n",
       "    </tr>\n",
       "  </thead>\n",
       "  <tbody>\n",
       "    <tr>\n",
       "      <th>0</th>\n",
       "      <td>Query ERROR: caught BioMart::Exception::Usage:...</td>\n",
       "      <td>NaN</td>\n",
       "      <td>NaN</td>\n",
       "    </tr>\n",
       "  </tbody>\n",
       "</table>\n",
       "</div>"
      ],
      "text/plain": [
       "                                  external_gene_name  entrezgene  go_id\n",
       "0  Query ERROR: caught BioMart::Exception::Usage:...         NaN    NaN"
      ]
     },
     "execution_count": 81,
     "metadata": {},
     "output_type": "execute_result"
    }
   ],
   "source": [
    "results"
   ]
  },
  {
   "cell_type": "code",
   "execution_count": 85,
   "metadata": {},
   "outputs": [],
   "source": [
    "glist = pd.Series([5,4,3,2,1], index=glist)"
   ]
  },
  {
   "cell_type": "code",
   "execution_count": 86,
   "metadata": {},
   "outputs": [
    {
     "name": "stderr",
     "output_type": "stream",
     "text": [
      "2020-01-28 18:22:21,404 No gene sets passed through filtering condition!!!, try new parameters again!\n",
      "Note: check gene name, gmt file format, or filtering size.\n"
     ]
    },
    {
     "ename": "SystemExit",
     "evalue": "0",
     "output_type": "error",
     "traceback": [
      "An exception has occurred, use %tb to see the full traceback.\n",
      "\u001b[0;31mSystemExit\u001b[0m\u001b[0;31m:\u001b[0m 0\n"
     ]
    },
    {
     "name": "stderr",
     "output_type": "stream",
     "text": [
      "/srv/home/wconnell/anaconda3/envs/torch/lib/python3.7/site-packages/IPython/core/interactiveshell.py:3327: UserWarning: To exit: use 'exit', 'quit', or Ctrl-D.\n",
      "  warn(\"To exit: use 'exit', 'quit', or Ctrl-D.\", stacklevel=1)\n"
     ]
    }
   ],
   "source": [
    "pre_res = gp.prerank(rnk=glist, gene_sets='KEGG_2016',\n",
    "                     processes=4,\n",
    "                     permutation_num=100, # reduce number to speed up testing\n",
    "                     outdir='test/prerank_report_kegg', format='png')"
   ]
  },
  {
   "cell_type": "code",
   "execution_count": null,
   "metadata": {},
   "outputs": [],
   "source": []
  }
 ],
 "metadata": {
  "kernelspec": {
   "display_name": "torch",
   "language": "python",
   "name": "torch"
  },
  "language_info": {
   "codemirror_mode": {
    "name": "ipython",
    "version": 3
   },
   "file_extension": ".py",
   "mimetype": "text/x-python",
   "name": "python",
   "nbconvert_exporter": "python",
   "pygments_lexer": "ipython3",
   "version": "3.7.3"
  }
 },
 "nbformat": 4,
 "nbformat_minor": 2
}
