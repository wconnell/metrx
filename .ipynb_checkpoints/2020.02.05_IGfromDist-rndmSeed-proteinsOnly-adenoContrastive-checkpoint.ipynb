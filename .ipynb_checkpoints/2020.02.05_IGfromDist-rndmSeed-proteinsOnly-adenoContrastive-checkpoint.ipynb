{
 "cells": [
  {
   "cell_type": "code",
   "execution_count": 73,
   "metadata": {},
   "outputs": [
    {
     "name": "stdout",
     "output_type": "stream",
     "text": [
      "The autoreload extension is already loaded. To reload it, use:\n",
      "  %reload_ext autoreload\n"
     ]
    }
   ],
   "source": [
    "%load_ext autoreload\n",
    "%autoreload 2"
   ]
  },
  {
   "cell_type": "code",
   "execution_count": 74,
   "metadata": {},
   "outputs": [],
   "source": [
    "import numpy as np\n",
    "import pandas as pd\n",
    "#np.random.seed(123)\n",
    "\n",
    "# viz\n",
    "import matplotlib.pyplot as plt\n",
    "\n",
    "# notebook settings\n",
    "from IPython.core.interactiveshell import InteractiveShell\n",
    "InteractiveShell.ast_node_interactivity = \"all\"\n",
    "\n",
    "pd.set_option('display.max_columns', 1000)"
   ]
  },
  {
   "cell_type": "markdown",
   "metadata": {},
   "source": [
    "## Sample Prep"
   ]
  },
  {
   "cell_type": "code",
   "execution_count": 75,
   "metadata": {},
   "outputs": [
    {
     "data": {
      "text/plain": [
       "TCGA-LUSC    301\n",
       "TCGA-LUAD    287\n",
       "CPTAC-3      209\n",
       "Name: Project ID, dtype: int64"
      ]
     },
     "execution_count": 75,
     "metadata": {},
     "output_type": "execute_result"
    }
   ],
   "source": [
    "samples = pd.read_csv('../data/TCGA/rna-seq_adeno/meta/gdc_sample_sheet.2020-01-27.tsv', sep=\"\\t\")\n",
    "# get file type\n",
    "samples['data'] = [val[1] for i,val in samples['File Name'].str.split(\".\").items()]\n",
    "samples['Project ID'].value_counts()"
   ]
  },
  {
   "cell_type": "markdown",
   "metadata": {},
   "source": [
    "Samples with RNAseq adjacent normal tissue"
   ]
  },
  {
   "cell_type": "code",
   "execution_count": 76,
   "metadata": {},
   "outputs": [
    {
     "data": {
      "text/plain": [
       "Primary Tumor                               558\n",
       "Solid Tissue Normal                         206\n",
       "Primary Tumor, Primary Tumor                 29\n",
       "Solid Tissue Normal, Solid Tissue Normal      4\n",
       "Name: Sample Type, dtype: int64"
      ]
     },
     "execution_count": 76,
     "metadata": {},
     "output_type": "execute_result"
    }
   ],
   "source": [
    "samples['Sample Type'].value_counts()"
   ]
  },
  {
   "cell_type": "code",
   "execution_count": 77,
   "metadata": {},
   "outputs": [],
   "source": [
    "samples.loc[samples['Sample Type']=='Primary Tumor, Primary Tumor', 'Sample Type'] = 'Primary Tumor'\n",
    "samples.loc[samples['Sample Type']=='Solid Tissue Normal, Solid Tissue Normal', 'Sample Type'] = 'Solid Tissue Normal'"
   ]
  },
  {
   "cell_type": "code",
   "execution_count": 78,
   "metadata": {},
   "outputs": [
    {
     "data": {
      "text/plain": [
       "Primary Tumor          587\n",
       "Solid Tissue Normal    210\n",
       "Name: Sample Type, dtype: int64"
      ]
     },
     "execution_count": 78,
     "metadata": {},
     "output_type": "execute_result"
    }
   ],
   "source": [
    "samples['Sample Type'].value_counts()"
   ]
  },
  {
   "cell_type": "code",
   "execution_count": 79,
   "metadata": {},
   "outputs": [],
   "source": [
    "# all cases with adjacent normal tissue\n",
    "cases = samples[samples['Sample Type']=='Solid Tissue Normal']['Case ID']"
   ]
  },
  {
   "cell_type": "code",
   "execution_count": 80,
   "metadata": {},
   "outputs": [
    {
     "data": {
      "text/plain": [
       "176"
      ]
     },
     "execution_count": 80,
     "metadata": {},
     "output_type": "execute_result"
    },
    {
     "data": {
      "text/plain": [
       "210"
      ]
     },
     "execution_count": 80,
     "metadata": {},
     "output_type": "execute_result"
    }
   ],
   "source": [
    "# disparity in cases\n",
    "samples[(samples['Case ID'].isin(cases)) & (samples['Sample Type']=='Primary Tumor') \n",
    "        & (samples['data']=='FPKM')]['Case ID'].nunique()\n",
    "samples[(samples['Case ID'].isin(cases)) & (samples['Sample Type']=='Solid Tissue Normal') \n",
    "        & (samples['data']=='FPKM')]['Case ID'].nunique()"
   ]
  },
  {
   "cell_type": "code",
   "execution_count": 81,
   "metadata": {},
   "outputs": [
    {
     "data": {
      "text/plain": [
       "(187,)"
      ]
     },
     "execution_count": 81,
     "metadata": {},
     "output_type": "execute_result"
    }
   ],
   "source": [
    "# divide, join, subset\n",
    "case_tumor = samples[(samples['Case ID'].isin(cases)) & (samples['Sample Type']=='Primary Tumor') & \n",
    "                     (samples['data']=='FPKM')]\n",
    "case_norm = samples[(samples['Case ID'].isin(cases)) & (samples['Sample Type']=='Solid Tissue Normal') & \n",
    "                    (samples['data']=='FPKM')]\n",
    "cases = pd.merge(case_tumor['Case ID'], case_norm['Case ID'])['Case ID']\n",
    "cases.shape"
   ]
  },
  {
   "cell_type": "code",
   "execution_count": 82,
   "metadata": {},
   "outputs": [],
   "source": [
    "case_tumor = case_tumor[case_tumor['Case ID'].isin(cases)]\n",
    "case_norm = case_norm[case_norm['Case ID'].isin(cases)]\n",
    "cases = pd.concat([case_tumor, case_norm])"
   ]
  },
  {
   "cell_type": "code",
   "execution_count": 83,
   "metadata": {},
   "outputs": [
    {
     "data": {
      "text/plain": [
       "(187, 9)"
      ]
     },
     "execution_count": 83,
     "metadata": {},
     "output_type": "execute_result"
    },
    {
     "data": {
      "text/plain": [
       "(176, 9)"
      ]
     },
     "execution_count": 83,
     "metadata": {},
     "output_type": "execute_result"
    },
    {
     "data": {
      "text/plain": [
       "(363, 9)"
      ]
     },
     "execution_count": 83,
     "metadata": {},
     "output_type": "execute_result"
    }
   ],
   "source": [
    "case_tumor.shape\n",
    "case_norm.shape\n",
    "cases.shape"
   ]
  },
  {
   "cell_type": "markdown",
   "metadata": {},
   "source": [
    "## Map Ensembl genes to Proteins"
   ]
  },
  {
   "cell_type": "code",
   "execution_count": 84,
   "metadata": {},
   "outputs": [
    {
     "data": {
      "text/plain": [
       "(18842, 21)"
      ]
     },
     "execution_count": 84,
     "metadata": {},
     "output_type": "execute_result"
    }
   ],
   "source": [
    "id_map = pd.read_csv(\"/srv/home/wconnell/keiser/data/uniprot_mapping_ids/map_ensembl_uniprot.csv\")\n",
    "reviewed_proteins = pd.read_csv(\"/srv/home/wconnell/keiser/data/uniprot_mapping_ids/TCGA_rnaseq_uniprot_features.tab.gz\", sep=\"\\t\")\n",
    "proteins = pd.merge(id_map, reviewed_proteins, left_on='UNIPROT_ID', right_on='Entry name')\n",
    "proteins['hgnc'] = [gene.split(\";\")[0] for gene in proteins['Gene names  (primary )']]\n",
    "proteins.shape"
   ]
  },
  {
   "cell_type": "markdown",
   "metadata": {},
   "source": [
    "## Dataset Prep"
   ]
  },
  {
   "cell_type": "code",
   "execution_count": 85,
   "metadata": {},
   "outputs": [
    {
     "data": {
      "text/plain": [
       "Primary Tumor          143\n",
       "Solid Tissue Normal    129\n",
       "Name: Sample Type, dtype: int64"
      ]
     },
     "execution_count": 85,
     "metadata": {},
     "output_type": "execute_result"
    },
    {
     "data": {
      "text/plain": [
       "Solid Tissue Normal    47\n",
       "Primary Tumor          44\n",
       "Name: Sample Type, dtype: int64"
      ]
     },
     "execution_count": 85,
     "metadata": {},
     "output_type": "execute_result"
    }
   ],
   "source": [
    "from sklearn.model_selection import train_test_split\n",
    "from sklearn.preprocessing import StandardScaler\n",
    "\n",
    "target = 'Sample Type'\n",
    "cases[target] = cases[target].astype('category')\n",
    "\n",
    "train, test = train_test_split(cases)\n",
    "train[target].value_counts()\n",
    "test[target].value_counts()"
   ]
  },
  {
   "cell_type": "code",
   "execution_count": 86,
   "metadata": {},
   "outputs": [
    {
     "name": "stdout",
     "output_type": "stream",
     "text": [
      "Cuda is available: True\n"
     ]
    },
    {
     "data": {
      "text/plain": [
       "{'Primary Tumor': 0, 'Solid Tissue Normal': 1}"
      ]
     },
     "execution_count": 86,
     "metadata": {},
     "output_type": "execute_result"
    }
   ],
   "source": [
    "import torch\n",
    "from torch.optim import lr_scheduler\n",
    "import torch.optim as optim\n",
    "from torch.autograd import Variable\n",
    "#torch.manual_seed(123)\n",
    "\n",
    "from trainer import fit\n",
    "import visualization as vis\n",
    "import numpy as np\n",
    "cuda = torch.cuda.is_available()\n",
    "print(\"Cuda is available: {}\".format(cuda))\n",
    "\n",
    "classes = {key:val for val,key in enumerate(train[target].cat.categories.values)}\n",
    "classes"
   ]
  },
  {
   "cell_type": "code",
   "execution_count": 87,
   "metadata": {},
   "outputs": [],
   "source": [
    "from tcga_datasets import TCGA, SiameseTCGA\n",
    "root_dir = \"../data/TCGA/rna-seq_adeno/\"\n",
    "batch_size = 1\n",
    "\n",
    "train_dataset = TCGA(root_dir, samples=train, train=True, target=target, norm=False)\n",
    "test_dataset = TCGA(root_dir, samples=test, train=False, target=target, norm=False)\n",
    "\n",
    "scaler = StandardScaler()\n",
    "train_dataset.data = pd.DataFrame(scaler.fit_transform(train_dataset.data),\n",
    "                                  index=train_dataset.data.index,\n",
    "                                  columns=train_dataset.data.columns)\n",
    "test_dataset.data = pd.DataFrame(scaler.transform(test_dataset.data),\n",
    "                                 index=test_dataset.data.index,\n",
    "                                 columns=test_dataset.data.columns)\n",
    "\n",
    "kwargs = {'num_workers': 10, 'pin_memory': True} if cuda else {'num_workers': 10}\n",
    "train_loader = torch.utils.data.DataLoader(train_dataset, batch_size=batch_size, shuffle=True, **kwargs)\n",
    "test_loader = torch.utils.data.DataLoader(test_dataset, batch_size=batch_size, shuffle=False, **kwargs)"
   ]
  },
  {
   "cell_type": "markdown",
   "metadata": {},
   "source": [
    "#### Subset gene data to annotated proteins"
   ]
  },
  {
   "cell_type": "code",
   "execution_count": 88,
   "metadata": {},
   "outputs": [],
   "source": [
    "assert np.array_equal(train_dataset.data.columns, test_dataset.data.columns)\n",
    "parsed_cols = [ens[0] for ens in train_dataset.data.columns.str.split(\".\")]\n",
    "\n",
    "train_dataset.data.columns, test_dataset.data.columns = parsed_cols, parsed_cols\n",
    "protein_overlap_idx = np.isin(train_dataset.data.columns, proteins['ENSEMBL_ID'].values)\n",
    "\n",
    "train_dataset.data = train_dataset.data.loc[:,protein_overlap_idx]\n",
    "test_dataset.data = test_dataset.data.loc[:,protein_overlap_idx]"
   ]
  },
  {
   "cell_type": "markdown",
   "metadata": {},
   "source": [
    "#### Write out test set for DE analysis"
   ]
  },
  {
   "cell_type": "code",
   "execution_count": 89,
   "metadata": {},
   "outputs": [],
   "source": [
    "pd.to_pickle(test_dataset.data, \"../data/tmp/test_dataset.pkl.gz\")"
   ]
  },
  {
   "cell_type": "code",
   "execution_count": 90,
   "metadata": {},
   "outputs": [],
   "source": [
    "map_cond = []\n",
    "for label in test_dataset.labels:\n",
    "    if label == test_dataset.labels_dict['Primary Tumor']:\n",
    "        map_cond.append('Primary Tumor')\n",
    "    elif label == test_dataset.labels_dict['Solid Tissue Normal']:\n",
    "        map_cond.append('Solid Tissue Normal')"
   ]
  },
  {
   "cell_type": "code",
   "execution_count": 91,
   "metadata": {},
   "outputs": [],
   "source": [
    "meta = pd.DataFrame({'label':test_dataset.labels,\n",
    "                    'condition':map_cond},\n",
    "                    index=test_dataset.data.index)\n",
    "meta.to_pickle(\"../data/tmp/test_dataset_meta.pkl.gz\")"
   ]
  },
  {
   "cell_type": "markdown",
   "metadata": {},
   "source": [
    "## Siamese Network"
   ]
  },
  {
   "cell_type": "code",
   "execution_count": 92,
   "metadata": {},
   "outputs": [
    {
     "data": {
      "text/plain": [
       "SiameseNet(\n",
       "  (embedding_net): EmbeddingNet(\n",
       "    (fc): Sequential(\n",
       "      (linear1): Linear(in_features=18812, out_features=2000, bias=True)\n",
       "      (relu1): PReLU(num_parameters=1)\n",
       "      (linear2): Linear(in_features=2000, out_features=500, bias=True)\n",
       "      (relu2): PReLU(num_parameters=1)\n",
       "      (linear3): Linear(in_features=500, out_features=250, bias=True)\n",
       "      (relu3): PReLU(num_parameters=1)\n",
       "      (linear4): Linear(in_features=250, out_features=100, bias=True)\n",
       "      (relu4): PReLU(num_parameters=1)\n",
       "      (linear5): Linear(in_features=100, out_features=50, bias=True)\n",
       "      (relu5): PReLU(num_parameters=1)\n",
       "      (linear6): Linear(in_features=50, out_features=10, bias=True)\n",
       "      (relu6): PReLU(num_parameters=1)\n",
       "      (linear7): Linear(in_features=10, out_features=2, bias=True)\n",
       "    )\n",
       "  )\n",
       ")"
      ]
     },
     "execution_count": 92,
     "metadata": {},
     "output_type": "execute_result"
    }
   ],
   "source": [
    "# Step 1 set up dataloader\n",
    "root_dir = \"../data/TCGA\"\n",
    "siamese_train_dataset = SiameseTCGA(train_dataset) # Returns pairs of images and target same/different\n",
    "siamese_test_dataset = SiameseTCGA(test_dataset)\n",
    "batch_size = 8\n",
    "kwargs = {'num_workers': 10, 'pin_memory': True} if cuda else {}\n",
    "siamese_train_loader = torch.utils.data.DataLoader(siamese_train_dataset, batch_size=batch_size, shuffle=True, **kwargs)\n",
    "siamese_test_loader = torch.utils.data.DataLoader(siamese_test_dataset, batch_size=batch_size, shuffle=False, **kwargs)\n",
    "\n",
    "# Set up the network and training parameters\n",
    "from tcga_networks import EmbeddingNet, SiameseNet\n",
    "from losses import ContrastiveLoss\n",
    "from metrics import AccumulatedAccuracyMetric\n",
    "\n",
    "# Step 2\n",
    "n_samples, n_features = siamese_train_dataset.data.shape\n",
    "embedding_net = EmbeddingNet(n_features)\n",
    "# Step 3\n",
    "model = SiameseNet(embedding_net)\n",
    "if cuda:\n",
    "    model.cuda()\n",
    "    \n",
    "# Step 4\n",
    "margin = 1.\n",
    "loss_fn = ContrastiveLoss(margin)\n",
    "lr = 1e-3\n",
    "optimizer = optim.Adam(model.parameters(), lr=lr)\n",
    "scheduler = lr_scheduler.StepLR(optimizer, 8, gamma=0.1, last_epoch=-1)\n",
    "n_epochs = 20\n",
    "# print training metrics every log_interval * batch_size\n",
    "log_interval = 30"
   ]
  },
  {
   "cell_type": "code",
   "execution_count": 93,
   "metadata": {},
   "outputs": [
    {
     "name": "stdout",
     "output_type": "stream",
     "text": [
      "Train: [0/272 (0%)]\tLoss: 0.246952\n",
      "Train: [240/272 (88%)]\tLoss: 0.234978\n",
      "Epoch: 1/20. Train set: Average loss: 0.2175\n",
      "Epoch: 1/20. Validation set: Average loss: 0.0608\n",
      "Train: [0/272 (0%)]\tLoss: 0.065459\n",
      "Train: [240/272 (88%)]\tLoss: 0.123096\n",
      "Epoch: 2/20. Train set: Average loss: 0.1136\n",
      "Epoch: 2/20. Validation set: Average loss: 0.0233\n",
      "Train: [0/272 (0%)]\tLoss: 0.057622\n",
      "Train: [240/272 (88%)]\tLoss: 0.033076\n",
      "Epoch: 3/20. Train set: Average loss: 0.0316\n",
      "Epoch: 3/20. Validation set: Average loss: 0.0093\n",
      "Train: [0/272 (0%)]\tLoss: 0.010620\n",
      "Train: [240/272 (88%)]\tLoss: 0.027444\n",
      "Epoch: 4/20. Train set: Average loss: 0.0265\n",
      "Epoch: 4/20. Validation set: Average loss: 0.0090\n",
      "Train: [0/272 (0%)]\tLoss: 0.023802\n",
      "Train: [240/272 (88%)]\tLoss: 0.007332\n",
      "Epoch: 5/20. Train set: Average loss: 0.0075\n",
      "Epoch: 5/20. Validation set: Average loss: 0.0059\n",
      "Train: [0/272 (0%)]\tLoss: 0.005285\n",
      "Train: [240/272 (88%)]\tLoss: 0.004676\n",
      "Epoch: 6/20. Train set: Average loss: 0.0049\n",
      "Epoch: 6/20. Validation set: Average loss: 0.0056\n",
      "Train: [0/272 (0%)]\tLoss: 0.002713\n",
      "Train: [240/272 (88%)]\tLoss: 0.005125\n",
      "Epoch: 7/20. Train set: Average loss: 0.0047\n",
      "Epoch: 7/20. Validation set: Average loss: 0.0052\n",
      "Train: [0/272 (0%)]\tLoss: 0.000728\n",
      "Train: [240/272 (88%)]\tLoss: 0.004605\n",
      "Epoch: 8/20. Train set: Average loss: 0.0042\n",
      "Epoch: 8/20. Validation set: Average loss: 0.0056\n",
      "Train: [0/272 (0%)]\tLoss: 0.013883\n",
      "Train: [240/272 (88%)]\tLoss: 0.002551\n",
      "Epoch: 9/20. Train set: Average loss: 0.0027\n",
      "Epoch: 9/20. Validation set: Average loss: 0.0027\n",
      "Train: [0/272 (0%)]\tLoss: 0.001368\n",
      "Train: [240/272 (88%)]\tLoss: 0.002260\n",
      "Epoch: 10/20. Train set: Average loss: 0.0021\n",
      "Epoch: 10/20. Validation set: Average loss: 0.0031\n",
      "Train: [0/272 (0%)]\tLoss: 0.001084\n",
      "Train: [240/272 (88%)]\tLoss: 0.001318\n",
      "Epoch: 11/20. Train set: Average loss: 0.0013\n",
      "Epoch: 11/20. Validation set: Average loss: 0.0029\n",
      "Train: [0/272 (0%)]\tLoss: 0.002147\n",
      "Train: [240/272 (88%)]\tLoss: 0.001224\n",
      "Epoch: 12/20. Train set: Average loss: 0.0012\n",
      "Epoch: 12/20. Validation set: Average loss: 0.0028\n",
      "Train: [0/272 (0%)]\tLoss: 0.000259\n",
      "Train: [240/272 (88%)]\tLoss: 0.001313\n",
      "Epoch: 13/20. Train set: Average loss: 0.0012\n",
      "Epoch: 13/20. Validation set: Average loss: 0.0027\n",
      "Train: [0/272 (0%)]\tLoss: 0.001224\n",
      "Train: [240/272 (88%)]\tLoss: 0.001608\n",
      "Epoch: 14/20. Train set: Average loss: 0.0015\n",
      "Epoch: 14/20. Validation set: Average loss: 0.0030\n",
      "Train: [0/272 (0%)]\tLoss: 0.000072\n",
      "Train: [240/272 (88%)]\tLoss: 0.001113\n",
      "Epoch: 15/20. Train set: Average loss: 0.0015\n",
      "Epoch: 15/20. Validation set: Average loss: 0.0028\n",
      "Train: [0/272 (0%)]\tLoss: 0.000381\n",
      "Train: [240/272 (88%)]\tLoss: 0.000904\n",
      "Epoch: 16/20. Train set: Average loss: 0.0009\n",
      "Epoch: 16/20. Validation set: Average loss: 0.0027\n",
      "Train: [0/272 (0%)]\tLoss: 0.000376\n",
      "Train: [240/272 (88%)]\tLoss: 0.001284\n",
      "Epoch: 17/20. Train set: Average loss: 0.0012\n",
      "Epoch: 17/20. Validation set: Average loss: 0.0027\n",
      "Train: [0/272 (0%)]\tLoss: 0.000084\n",
      "Train: [240/272 (88%)]\tLoss: 0.001291\n",
      "Epoch: 18/20. Train set: Average loss: 0.0012\n",
      "Epoch: 18/20. Validation set: Average loss: 0.0027\n",
      "Train: [0/272 (0%)]\tLoss: 0.006987\n",
      "Train: [240/272 (88%)]\tLoss: 0.000567\n",
      "Epoch: 19/20. Train set: Average loss: 0.0007\n",
      "Epoch: 19/20. Validation set: Average loss: 0.0027\n",
      "Train: [0/272 (0%)]\tLoss: 0.000148\n",
      "Train: [240/272 (88%)]\tLoss: 0.000873\n",
      "Epoch: 20/20. Train set: Average loss: 0.0012\n",
      "Epoch: 20/20. Validation set: Average loss: 0.0027\n"
     ]
    }
   ],
   "source": [
    "train_loss, val_loss = fit(siamese_train_loader, siamese_test_loader, model, loss_fn, optimizer, scheduler, \n",
    "    n_epochs, cuda, log_interval)"
   ]
  },
  {
   "cell_type": "code",
   "execution_count": 94,
   "metadata": {},
   "outputs": [
    {
     "data": {
      "text/plain": [
       "[<matplotlib.lines.Line2D at 0x7f55864c7978>]"
      ]
     },
     "execution_count": 94,
     "metadata": {},
     "output_type": "execute_result"
    },
    {
     "data": {
      "text/plain": [
       "[<matplotlib.lines.Line2D at 0x7f539b3362e8>]"
      ]
     },
     "execution_count": 94,
     "metadata": {},
     "output_type": "execute_result"
    },
    {
     "data": {
      "image/png": "[encoded data removed]",
      "text/plain": [
       "<Figure size 432x288 with 1 Axes>"
      ]
     },
     "metadata": {
      "needs_background": "light"
     },
     "output_type": "display_data"
    }
   ],
   "source": [
    "plt.plot(range(0, n_epochs), train_loss, 'rx-')\n",
    "plt.plot(range(0, n_epochs), val_loss, 'bx-')"
   ]
  },
  {
   "cell_type": "code",
   "execution_count": 95,
   "metadata": {},
   "outputs": [
    {
     "data": {
      "image/png": "[encoded data removed]",
      "text/plain": [
       "<Figure size 720x720 with 1 Axes>"
      ]
     },
     "metadata": {
      "needs_background": "light"
     },
     "output_type": "display_data"
    }
   ],
   "source": [
    "train_embeddings_cl, train_labels_cl = vis.extract_embeddings(train_loader, model)\n",
    "vis.plot_embeddings(train_embeddings_cl, train_labels_cl, siamese_train_dataset.labels_dict)"
   ]
  },
  {
   "cell_type": "code",
   "execution_count": 96,
   "metadata": {},
   "outputs": [
    {
     "data": {
      "image/png": "[encoded data removed]",
      "text/plain": [
       "<Figure size 720x720 with 1 Axes>"
      ]
     },
     "metadata": {
      "needs_background": "light"
     },
     "output_type": "display_data"
    }
   ],
   "source": [
    "val_embeddings_baseline, val_labels_baseline = vis.extract_embeddings(test_loader, model)\n",
    "vis.plot_embeddings(val_embeddings_baseline, val_labels_baseline, siamese_test_dataset.labels_dict)"
   ]
  },
  {
   "cell_type": "markdown",
   "metadata": {},
   "source": [
    "## Integrated Gradients\n",
    "Test completeness axiom through comparison of different baselines\n",
    "\n",
    "\"Integrated gradients satisfy an\n",
    "axiom called completeness that the attributions add up to\n",
    "the difference between the output of F at the input x and\n",
    "the baseline x'.\""
   ]
  },
  {
   "cell_type": "code",
   "execution_count": 97,
   "metadata": {},
   "outputs": [],
   "source": [
    "import copy\n",
    "from captum.attr import LayerActivation\n",
    "from captum.attr import IntegratedGradients"
   ]
  },
  {
   "cell_type": "code",
   "execution_count": 98,
   "metadata": {},
   "outputs": [],
   "source": [
    "def attribution_pairs(SiameseTCGA, exp, ctrl):\n",
    "    # subset different samples\n",
    "    negative_pairs = np.array(SiameseTCGA.test_pairs)\n",
    "    negative_pairs = negative_pairs[negative_pairs[:,2] == 0]\n",
    "    # map labels to integers\n",
    "    ctrl = siamese_test_dataset.labels_dict[ctrl]\n",
    "    exp = siamese_test_dataset.labels_dict[exp]\n",
    "    # ordered indices of samples\n",
    "    ctrl_data = [idx for pair in negative_pairs[:, :2] for idx in pair if np.isin(idx, SiameseTCGA.label_to_indices[ctrl])]\n",
    "    exp_data = [idx for pair in negative_pairs[:, :2] for idx in pair if np.isin(idx, SiameseTCGA.label_to_indices[exp])]\n",
    "    # data\n",
    "    ctrl_data = Variable(SiameseTCGA.test_data[ctrl_data], requires_grad=True)\n",
    "    exp_data = Variable(SiameseTCGA.test_data[exp_data], requires_grad=True)\n",
    "    return ctrl_data, exp_data"
   ]
  },
  {
   "cell_type": "markdown",
   "metadata": {},
   "source": [
    "# IG with Control vector"
   ]
  },
  {
   "cell_type": "code",
   "execution_count": 99,
   "metadata": {},
   "outputs": [],
   "source": [
    "ctrl_data, exp_data = attribution_pairs(siamese_test_dataset, exp='Primary Tumor', ctrl='Solid Tissue Normal')"
   ]
  },
  {
   "cell_type": "code",
   "execution_count": 100,
   "metadata": {},
   "outputs": [
    {
     "data": {
      "text/plain": [
       "PairwiseDistance()"
      ]
     },
     "execution_count": 100,
     "metadata": {},
     "output_type": "execute_result"
    }
   ],
   "source": [
    "from torch.nn import PairwiseDistance\n",
    "pdist = PairwiseDistance(p=2)\n",
    "pdist"
   ]
  },
  {
   "cell_type": "code",
   "execution_count": 101,
   "metadata": {},
   "outputs": [],
   "source": [
    "ig = IntegratedGradients(model.get_dist)"
   ]
  },
  {
   "cell_type": "code",
   "execution_count": 102,
   "metadata": {},
   "outputs": [],
   "source": [
    "torch.cuda.empty_cache()"
   ]
  },
  {
   "cell_type": "markdown",
   "metadata": {},
   "source": [
    "## Healthy as baseline"
   ]
  },
  {
   "cell_type": "code",
   "execution_count": 103,
   "metadata": {},
   "outputs": [
    {
     "data": {
      "text/plain": [
       "tensor([ 0.0012,  0.0041, -0.0130,  0.0009, -0.0151,  0.0134, -0.0012,  0.0043,\n",
       "        -0.0079,  0.0319, -0.0008, -0.0233, -0.0045,  0.0040, -0.0057,  0.0066,\n",
       "        -0.0166,  0.0069, -0.0024,  0.0096, -0.0194, -0.0204, -0.0092, -0.0011,\n",
       "        -0.0050, -0.0157,  0.0116, -0.0044, -0.0024, -0.0068, -0.0003, -0.0147,\n",
       "        -0.0437,  0.0112, -0.0026,  0.0449, -0.0053, -0.0058, -0.0133, -0.0138,\n",
       "         0.0002, -0.0013, -0.0049,  0.0038, -0.0298], device='cuda:0')"
      ]
     },
     "execution_count": 103,
     "metadata": {},
     "output_type": "execute_result"
    }
   ],
   "source": [
    "attr, delta = ig.attribute(exp_data.cuda(), ctrl_data.cuda(), target=None, n_steps=50, return_convergence_delta=True,\n",
    "                          additional_forward_args=(ctrl_data.cuda(), pdist))\n",
    "attr = attr.cpu().detach().numpy()\n",
    "delta"
   ]
  },
  {
   "cell_type": "code",
   "execution_count": 104,
   "metadata": {},
   "outputs": [
    {
     "data": {
      "text/plain": [
       "(18812, 1)"
      ]
     },
     "execution_count": 104,
     "metadata": {},
     "output_type": "execute_result"
    },
    {
     "data": {
      "text/html": [
       "<div>\n",
       "<style scoped>\n",
       "    .dataframe tbody tr th:only-of-type {\n",
       "        vertical-align: middle;\n",
       "    }\n",
       "\n",
       "    .dataframe tbody tr th {\n",
       "        vertical-align: top;\n",
       "    }\n",
       "\n",
       "    .dataframe thead th {\n",
       "        text-align: right;\n",
       "    }\n",
       "</style>\n",
       "<table border=\"1\" class=\"dataframe\">\n",
       "  <thead>\n",
       "    <tr style=\"text-align: right;\">\n",
       "      <th></th>\n",
       "      <th>Attribution</th>\n",
       "    </tr>\n",
       "  </thead>\n",
       "  <tbody>\n",
       "    <tr>\n",
       "      <th>count</th>\n",
       "      <td>18812.000000</td>\n",
       "    </tr>\n",
       "    <tr>\n",
       "      <th>mean</th>\n",
       "      <td>0.000060</td>\n",
       "    </tr>\n",
       "    <tr>\n",
       "      <th>std</th>\n",
       "      <td>0.000105</td>\n",
       "    </tr>\n",
       "    <tr>\n",
       "      <th>min</th>\n",
       "      <td>-0.000684</td>\n",
       "    </tr>\n",
       "    <tr>\n",
       "      <th>25%</th>\n",
       "      <td>0.000002</td>\n",
       "    </tr>\n",
       "    <tr>\n",
       "      <th>50%</th>\n",
       "      <td>0.000026</td>\n",
       "    </tr>\n",
       "    <tr>\n",
       "      <th>75%</th>\n",
       "      <td>0.000090</td>\n",
       "    </tr>\n",
       "    <tr>\n",
       "      <th>max</th>\n",
       "      <td>0.002004</td>\n",
       "    </tr>\n",
       "  </tbody>\n",
       "</table>\n",
       "</div>"
      ],
      "text/plain": [
       "        Attribution\n",
       "count  18812.000000\n",
       "mean       0.000060\n",
       "std        0.000105\n",
       "min       -0.000684\n",
       "25%        0.000002\n",
       "50%        0.000026\n",
       "75%        0.000090\n",
       "max        0.002004"
      ]
     },
     "execution_count": 104,
     "metadata": {},
     "output_type": "execute_result"
    },
    {
     "data": {
      "text/html": [
       "<div>\n",
       "<style scoped>\n",
       "    .dataframe tbody tr th:only-of-type {\n",
       "        vertical-align: middle;\n",
       "    }\n",
       "\n",
       "    .dataframe tbody tr th {\n",
       "        vertical-align: top;\n",
       "    }\n",
       "\n",
       "    .dataframe thead th {\n",
       "        text-align: right;\n",
       "    }\n",
       "</style>\n",
       "<table border=\"1\" class=\"dataframe\">\n",
       "  <thead>\n",
       "    <tr style=\"text-align: right;\">\n",
       "      <th></th>\n",
       "      <th>Attribution</th>\n",
       "    </tr>\n",
       "  </thead>\n",
       "  <tbody>\n",
       "    <tr>\n",
       "      <th>ENSG00000205442</th>\n",
       "      <td>0.002004</td>\n",
       "    </tr>\n",
       "    <tr>\n",
       "      <th>ENSG00000185960</th>\n",
       "      <td>0.001744</td>\n",
       "    </tr>\n",
       "    <tr>\n",
       "      <th>ENSG00000136110</th>\n",
       "      <td>0.001054</td>\n",
       "    </tr>\n",
       "    <tr>\n",
       "      <th>ENSG00000185448</th>\n",
       "      <td>0.001047</td>\n",
       "    </tr>\n",
       "    <tr>\n",
       "      <th>ENSG00000211672</th>\n",
       "      <td>0.001043</td>\n",
       "    </tr>\n",
       "    <tr>\n",
       "      <th>ENSG00000186723</th>\n",
       "      <td>0.000973</td>\n",
       "    </tr>\n",
       "    <tr>\n",
       "      <th>ENSG00000137857</th>\n",
       "      <td>0.000958</td>\n",
       "    </tr>\n",
       "    <tr>\n",
       "      <th>ENSG00000118113</th>\n",
       "      <td>0.000928</td>\n",
       "    </tr>\n",
       "    <tr>\n",
       "      <th>ENSG00000168477</th>\n",
       "      <td>0.000915</td>\n",
       "    </tr>\n",
       "    <tr>\n",
       "      <th>ENSG00000102104</th>\n",
       "      <td>0.000912</td>\n",
       "    </tr>\n",
       "  </tbody>\n",
       "</table>\n",
       "</div>"
      ],
      "text/plain": [
       "                 Attribution\n",
       "ENSG00000205442     0.002004\n",
       "ENSG00000185960     0.001744\n",
       "ENSG00000136110     0.001054\n",
       "ENSG00000185448     0.001047\n",
       "ENSG00000211672     0.001043\n",
       "ENSG00000186723     0.000973\n",
       "ENSG00000137857     0.000958\n",
       "ENSG00000118113     0.000928\n",
       "ENSG00000168477     0.000915\n",
       "ENSG00000102104     0.000912"
      ]
     },
     "execution_count": 104,
     "metadata": {},
     "output_type": "execute_result"
    }
   ],
   "source": [
    "feat_imp = pd.DataFrame(data=attr.mean(axis=0), index=train_dataset.data.columns, columns=['Attribution'])\n",
    "feat_imp.shape\n",
    "feat_imp.describe()\n",
    "feat_imp.nlargest(10, columns='Attribution')"
   ]
  },
  {
   "cell_type": "markdown",
   "metadata": {},
   "source": [
    "## Protein Feature Attributions only"
   ]
  },
  {
   "cell_type": "code",
   "execution_count": 111,
   "metadata": {},
   "outputs": [
    {
     "data": {
      "text/plain": [
       "(18842,)"
      ]
     },
     "execution_count": 111,
     "metadata": {},
     "output_type": "execute_result"
    },
    {
     "data": {
      "text/plain": [
       "18812"
      ]
     },
     "execution_count": 111,
     "metadata": {},
     "output_type": "execute_result"
    }
   ],
   "source": [
    "proteins['ENSEMBL_ID'].values.shape\n",
    "attr.shape[1]"
   ]
  },
  {
   "cell_type": "code",
   "execution_count": 113,
   "metadata": {},
   "outputs": [
    {
     "data": {
      "text/plain": [
       "(18812, 1)"
      ]
     },
     "execution_count": 113,
     "metadata": {},
     "output_type": "execute_result"
    },
    {
     "data": {
      "text/plain": [
       "(18812, 23)"
      ]
     },
     "execution_count": 113,
     "metadata": {},
     "output_type": "execute_result"
    }
   ],
   "source": [
    "feat_imp = pd.DataFrame(data=attr.mean(axis=0), index=train_dataset.data.columns, columns=['Attribution'])\n",
    "feat_imp.shape\n",
    "feat_imp = pd.merge(feat_imp, proteins.drop_duplicates(subset='ENSEMBL_ID'), left_index=True, right_on='ENSEMBL_ID', how='left').sort_values(by='Attribution', ascending=False).reset_index(drop=True)\n",
    "feat_imp.shape"
   ]
  },
  {
   "cell_type": "code",
   "execution_count": 129,
   "metadata": {},
   "outputs": [],
   "source": [
    "feat_imp.to_pickle(\"../data/tmp/attr_avg.pkl.gz\")"
   ]
  },
  {
   "cell_type": "markdown",
   "metadata": {},
   "source": [
    "### Now go to /srv/home/wconnell/github/diffxpy/notebook/2020.02.05_test_DE_analysis and run"
   ]
  },
  {
   "cell_type": "code",
   "execution_count": null,
   "metadata": {},
   "outputs": [],
   "source": []
  }
 ],
 "metadata": {
  "kernelspec": {
   "display_name": "torch",
   "language": "python",
   "name": "torch"
  },
  "language_info": {
   "codemirror_mode": {
    "name": "ipython",
    "version": 3
   },
   "file_extension": ".py",
   "mimetype": "text/x-python",
   "name": "python",
   "nbconvert_exporter": "python",
   "pygments_lexer": "ipython3",
   "version": "3.7.3"
  }
 },
 "nbformat": 4,
 "nbformat_minor": 2
}
