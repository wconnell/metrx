{
 "cells": [
  {
   "cell_type": "code",
   "execution_count": 1,
   "metadata": {},
   "outputs": [],
   "source": [
    "%load_ext autoreload\n",
    "%autoreload 2"
   ]
  },
  {
   "cell_type": "code",
   "execution_count": 2,
   "metadata": {},
   "outputs": [],
   "source": [
    "import numpy as np\n",
    "import pandas as pd\n",
    "#np.random.seed(123)\n",
    "\n",
    "# viz\n",
    "import matplotlib.pyplot as plt\n",
    "\n",
    "# notebook settings\n",
    "from IPython.core.interactiveshell import InteractiveShell\n",
    "InteractiveShell.ast_node_interactivity = \"all\"\n",
    "\n",
    "pd.set_option('display.max_columns', 1000)"
   ]
  },
  {
   "cell_type": "markdown",
   "metadata": {},
   "source": [
    "## Sample Prep"
   ]
  },
  {
   "cell_type": "code",
   "execution_count": 3,
   "metadata": {},
   "outputs": [
    {
     "data": {
      "text/plain": [
       "TCGA-LUSC    301\n",
       "TCGA-LUAD    287\n",
       "CPTAC-3      209\n",
       "Name: Project ID, dtype: int64"
      ]
     },
     "execution_count": 3,
     "metadata": {},
     "output_type": "execute_result"
    }
   ],
   "source": [
    "samples = pd.read_csv('../data/TCGA/rna-seq_adeno/meta/gdc_sample_sheet.2020-01-27.tsv', sep=\"\\t\")\n",
    "# get file type\n",
    "samples['data'] = [val[1] for i,val in samples['File Name'].str.split(\".\").items()]\n",
    "samples['Project ID'].value_counts()"
   ]
  },
  {
   "cell_type": "markdown",
   "metadata": {},
   "source": [
    "Samples with RNAseq adjacent normal tissue"
   ]
  },
  {
   "cell_type": "code",
   "execution_count": 4,
   "metadata": {},
   "outputs": [
    {
     "data": {
      "text/plain": [
       "Primary Tumor                               558\n",
       "Solid Tissue Normal                         206\n",
       "Primary Tumor, Primary Tumor                 29\n",
       "Solid Tissue Normal, Solid Tissue Normal      4\n",
       "Name: Sample Type, dtype: int64"
      ]
     },
     "execution_count": 4,
     "metadata": {},
     "output_type": "execute_result"
    }
   ],
   "source": [
    "samples['Sample Type'].value_counts()"
   ]
  },
  {
   "cell_type": "code",
   "execution_count": 5,
   "metadata": {},
   "outputs": [],
   "source": [
    "samples.loc[samples['Sample Type']=='Primary Tumor, Primary Tumor', 'Sample Type'] = 'Primary Tumor'\n",
    "samples.loc[samples['Sample Type']=='Solid Tissue Normal, Solid Tissue Normal', 'Sample Type'] = 'Solid Tissue Normal'"
   ]
  },
  {
   "cell_type": "code",
   "execution_count": 6,
   "metadata": {},
   "outputs": [
    {
     "data": {
      "text/plain": [
       "Primary Tumor          587\n",
       "Solid Tissue Normal    210\n",
       "Name: Sample Type, dtype: int64"
      ]
     },
     "execution_count": 6,
     "metadata": {},
     "output_type": "execute_result"
    }
   ],
   "source": [
    "samples['Sample Type'].value_counts()"
   ]
  },
  {
   "cell_type": "code",
   "execution_count": 7,
   "metadata": {},
   "outputs": [],
   "source": [
    "# all cases with adjacent normal tissue\n",
    "cases = samples[samples['Sample Type']=='Solid Tissue Normal']['Case ID']"
   ]
  },
  {
   "cell_type": "code",
   "execution_count": 8,
   "metadata": {},
   "outputs": [
    {
     "data": {
      "text/plain": [
       "176"
      ]
     },
     "execution_count": 8,
     "metadata": {},
     "output_type": "execute_result"
    },
    {
     "data": {
      "text/plain": [
       "210"
      ]
     },
     "execution_count": 8,
     "metadata": {},
     "output_type": "execute_result"
    }
   ],
   "source": [
    "# disparity in cases\n",
    "samples[(samples['Case ID'].isin(cases)) & (samples['Sample Type']=='Primary Tumor') \n",
    "        & (samples['data']=='FPKM')]['Case ID'].nunique()\n",
    "samples[(samples['Case ID'].isin(cases)) & (samples['Sample Type']=='Solid Tissue Normal') \n",
    "        & (samples['data']=='FPKM')]['Case ID'].nunique()"
   ]
  },
  {
   "cell_type": "code",
   "execution_count": 9,
   "metadata": {},
   "outputs": [
    {
     "data": {
      "text/plain": [
       "(187,)"
      ]
     },
     "execution_count": 9,
     "metadata": {},
     "output_type": "execute_result"
    }
   ],
   "source": [
    "# divide, join, subset\n",
    "case_tumor = samples[(samples['Case ID'].isin(cases)) & (samples['Sample Type']=='Primary Tumor') & \n",
    "                     (samples['data']=='FPKM')]\n",
    "case_norm = samples[(samples['Case ID'].isin(cases)) & (samples['Sample Type']=='Solid Tissue Normal') & \n",
    "                    (samples['data']=='FPKM')]\n",
    "cases = pd.merge(case_tumor['Case ID'], case_norm['Case ID'])['Case ID']\n",
    "cases.shape"
   ]
  },
  {
   "cell_type": "code",
   "execution_count": 10,
   "metadata": {},
   "outputs": [],
   "source": [
    "case_tumor = case_tumor[case_tumor['Case ID'].isin(cases)]\n",
    "case_norm = case_norm[case_norm['Case ID'].isin(cases)]\n",
    "cases = pd.concat([case_tumor, case_norm])"
   ]
  },
  {
   "cell_type": "code",
   "execution_count": 11,
   "metadata": {},
   "outputs": [
    {
     "data": {
      "text/plain": [
       "(187, 9)"
      ]
     },
     "execution_count": 11,
     "metadata": {},
     "output_type": "execute_result"
    },
    {
     "data": {
      "text/plain": [
       "(176, 9)"
      ]
     },
     "execution_count": 11,
     "metadata": {},
     "output_type": "execute_result"
    },
    {
     "data": {
      "text/plain": [
       "(363, 9)"
      ]
     },
     "execution_count": 11,
     "metadata": {},
     "output_type": "execute_result"
    }
   ],
   "source": [
    "case_tumor.shape\n",
    "case_norm.shape\n",
    "cases.shape"
   ]
  },
  {
   "cell_type": "markdown",
   "metadata": {},
   "source": [
    "## Map Ensembl genes to Proteins"
   ]
  },
  {
   "cell_type": "code",
   "execution_count": 12,
   "metadata": {},
   "outputs": [
    {
     "data": {
      "text/plain": [
       "(18842, 22)"
      ]
     },
     "execution_count": 12,
     "metadata": {},
     "output_type": "execute_result"
    }
   ],
   "source": [
    "id_map = pd.read_csv(\"/srv/home/wconnell/keiser/data/uniprot_mapping_ids/map_ensembl_uniprot.csv\")\n",
    "reviewed_proteins = pd.read_csv(\"/srv/home/wconnell/keiser/data/uniprot_mapping_ids/TCGA_rnaseq_uniprot_features.tab.gz\", sep=\"\\t\")\n",
    "proteins = pd.merge(id_map, reviewed_proteins, left_on='UNIPROT_ID', right_on='Entry name')\n",
    "proteins['hgnc'] = [gene.split(\";\")[0] for gene in proteins['Gene names  (primary )']]\n",
    "proteins.shape"
   ]
  },
  {
   "cell_type": "markdown",
   "metadata": {},
   "source": [
    "## Dataset Prep"
   ]
  },
  {
   "cell_type": "code",
   "execution_count": 13,
   "metadata": {},
   "outputs": [
    {
     "data": {
      "text/plain": [
       "Primary Tumor          140\n",
       "Solid Tissue Normal    132\n",
       "Name: Sample Type, dtype: int64"
      ]
     },
     "execution_count": 13,
     "metadata": {},
     "output_type": "execute_result"
    },
    {
     "data": {
      "text/plain": [
       "Primary Tumor          47\n",
       "Solid Tissue Normal    44\n",
       "Name: Sample Type, dtype: int64"
      ]
     },
     "execution_count": 13,
     "metadata": {},
     "output_type": "execute_result"
    }
   ],
   "source": [
    "from sklearn.model_selection import train_test_split\n",
    "from sklearn.preprocessing import StandardScaler\n",
    "\n",
    "target = 'Sample Type'\n",
    "cases[target] = cases[target].astype('category')\n",
    "\n",
    "train, test = train_test_split(cases)\n",
    "train[target].value_counts()\n",
    "test[target].value_counts()"
   ]
  },
  {
   "cell_type": "code",
   "execution_count": 14,
   "metadata": {},
   "outputs": [
    {
     "name": "stdout",
     "output_type": "stream",
     "text": [
      "Cuda is available: True\n"
     ]
    },
    {
     "data": {
      "text/plain": [
       "{'Primary Tumor': 0, 'Solid Tissue Normal': 1}"
      ]
     },
     "execution_count": 14,
     "metadata": {},
     "output_type": "execute_result"
    }
   ],
   "source": [
    "import torch\n",
    "from torch.optim import lr_scheduler\n",
    "import torch.optim as optim\n",
    "from torch.autograd import Variable\n",
    "#torch.manual_seed(123)\n",
    "\n",
    "from trainer import fit\n",
    "import visualization as vis\n",
    "import numpy as np\n",
    "cuda = torch.cuda.is_available()\n",
    "print(\"Cuda is available: {}\".format(cuda))\n",
    "\n",
    "classes = {key:val for val,key in enumerate(train[target].cat.categories.values)}\n",
    "classes"
   ]
  },
  {
   "cell_type": "code",
   "execution_count": 15,
   "metadata": {},
   "outputs": [],
   "source": [
    "from tcga_datasets import TCGA, SiameseTCGA\n",
    "root_dir = \"../data/TCGA/rna-seq_adeno/\"\n",
    "batch_size = 1\n",
    "\n",
    "train_dataset = TCGA(root_dir, samples=train, train=True, target=target, norm=False)\n",
    "test_dataset = TCGA(root_dir, samples=test, train=False, target=target, norm=False)\n",
    "\n",
    "scaler = StandardScaler()\n",
    "train_dataset.data = pd.DataFrame(scaler.fit_transform(train_dataset.data),\n",
    "                                  index=train_dataset.data.index,\n",
    "                                  columns=train_dataset.data.columns)\n",
    "test_dataset.data = pd.DataFrame(scaler.transform(test_dataset.data),\n",
    "                                 index=test_dataset.data.index,\n",
    "                                 columns=test_dataset.data.columns)\n",
    "\n",
    "kwargs = {'num_workers': 10, 'pin_memory': True} if cuda else {'num_workers': 10}\n",
    "train_loader = torch.utils.data.DataLoader(train_dataset, batch_size=batch_size, shuffle=True, **kwargs)\n",
    "test_loader = torch.utils.data.DataLoader(test_dataset, batch_size=batch_size, shuffle=False, **kwargs)"
   ]
  },
  {
   "cell_type": "markdown",
   "metadata": {},
   "source": [
    "#### Subset gene data to annotated proteins"
   ]
  },
  {
   "cell_type": "code",
   "execution_count": 16,
   "metadata": {},
   "outputs": [],
   "source": [
    "assert np.array_equal(train_dataset.data.columns, test_dataset.data.columns)\n",
    "parsed_cols = [ens[0] for ens in train_dataset.data.columns.str.split(\".\")]\n",
    "\n",
    "train_dataset.data.columns, test_dataset.data.columns = parsed_cols, parsed_cols\n",
    "protein_overlap_idx = np.isin(train_dataset.data.columns, proteins['ENSEMBL_ID'].values)\n",
    "\n",
    "train_dataset.data = train_dataset.data.loc[:,protein_overlap_idx]\n",
    "test_dataset.data = test_dataset.data.loc[:,protein_overlap_idx]"
   ]
  },
  {
   "cell_type": "markdown",
   "metadata": {},
   "source": [
    "#### Write out test set for DE analysis"
   ]
  },
  {
   "cell_type": "code",
   "execution_count": 17,
   "metadata": {},
   "outputs": [],
   "source": [
    "pd.to_pickle(test_dataset.data, \"../data/tmp/test_dataset.pkl.gz\")"
   ]
  },
  {
   "cell_type": "code",
   "execution_count": 18,
   "metadata": {},
   "outputs": [],
   "source": [
    "map_cond = []\n",
    "for label in test_dataset.labels:\n",
    "    if label == test_dataset.labels_dict['Primary Tumor']:\n",
    "        map_cond.append('Primary Tumor')\n",
    "    elif label == test_dataset.labels_dict['Solid Tissue Normal']:\n",
    "        map_cond.append('Solid Tissue Normal')"
   ]
  },
  {
   "cell_type": "code",
   "execution_count": 19,
   "metadata": {},
   "outputs": [],
   "source": [
    "meta = pd.DataFrame({'label':test_dataset.labels,\n",
    "                    'condition':map_cond},\n",
    "                    index=test_dataset.data.index)\n",
    "meta.to_pickle(\"../data/tmp/test_dataset_meta.pkl.gz\")"
   ]
  },
  {
   "cell_type": "markdown",
   "metadata": {},
   "source": [
    "## Siamese Network"
   ]
  },
  {
   "cell_type": "code",
   "execution_count": 20,
   "metadata": {},
   "outputs": [
    {
     "data": {
      "text/plain": [
       "SiameseNet(\n",
       "  (embedding_net): EmbeddingNet(\n",
       "    (fc): Sequential(\n",
       "      (linear1): Linear(in_features=18812, out_features=2000, bias=True)\n",
       "      (relu1): PReLU(num_parameters=1)\n",
       "      (linear2): Linear(in_features=2000, out_features=500, bias=True)\n",
       "      (relu2): PReLU(num_parameters=1)\n",
       "      (linear3): Linear(in_features=500, out_features=250, bias=True)\n",
       "      (relu3): PReLU(num_parameters=1)\n",
       "      (linear4): Linear(in_features=250, out_features=100, bias=True)\n",
       "      (relu4): PReLU(num_parameters=1)\n",
       "      (linear5): Linear(in_features=100, out_features=50, bias=True)\n",
       "      (relu5): PReLU(num_parameters=1)\n",
       "      (linear6): Linear(in_features=50, out_features=10, bias=True)\n",
       "      (relu6): PReLU(num_parameters=1)\n",
       "      (linear7): Linear(in_features=10, out_features=2, bias=True)\n",
       "    )\n",
       "  )\n",
       ")"
      ]
     },
     "execution_count": 20,
     "metadata": {},
     "output_type": "execute_result"
    }
   ],
   "source": [
    "# Step 1 set up dataloader\n",
    "root_dir = \"../data/TCGA\"\n",
    "siamese_train_dataset = SiameseTCGA(train_dataset) # Returns pairs of images and target same/different\n",
    "siamese_test_dataset = SiameseTCGA(test_dataset)\n",
    "batch_size = 8\n",
    "kwargs = {'num_workers': 10, 'pin_memory': True} if cuda else {}\n",
    "siamese_train_loader = torch.utils.data.DataLoader(siamese_train_dataset, batch_size=batch_size, shuffle=True, **kwargs)\n",
    "siamese_test_loader = torch.utils.data.DataLoader(siamese_test_dataset, batch_size=batch_size, shuffle=False, **kwargs)\n",
    "\n",
    "# Set up the network and training parameters\n",
    "from tcga_networks import EmbeddingNet, SiameseNet\n",
    "from losses import ContrastiveLoss\n",
    "from metrics import AccumulatedAccuracyMetric\n",
    "\n",
    "# Step 2\n",
    "n_samples, n_features = siamese_train_dataset.data.shape\n",
    "embedding_net = EmbeddingNet(n_features)\n",
    "# Step 3\n",
    "model = SiameseNet(embedding_net)\n",
    "if cuda:\n",
    "    model.cuda()\n",
    "    \n",
    "# Step 4\n",
    "margin = 1.\n",
    "loss_fn = ContrastiveLoss(margin)\n",
    "lr = 1e-3\n",
    "optimizer = optim.Adam(model.parameters(), lr=lr)\n",
    "scheduler = lr_scheduler.StepLR(optimizer, 8, gamma=0.1, last_epoch=-1)\n",
    "n_epochs = 20\n",
    "# print training metrics every log_interval * batch_size\n",
    "log_interval = 30"
   ]
  },
  {
   "cell_type": "code",
   "execution_count": 21,
   "metadata": {},
   "outputs": [
    {
     "name": "stdout",
     "output_type": "stream",
     "text": [
      "Train: [0/272 (0%)]\tLoss: 0.308882\n",
      "Train: [240/272 (88%)]\tLoss: 0.217741\n",
      "Epoch: 1/20. Train set: Average loss: 0.2034\n",
      "Epoch: 1/20. Validation set: Average loss: 0.0282\n",
      "Train: [0/272 (0%)]\tLoss: 0.067913\n",
      "Train: [240/272 (88%)]\tLoss: 0.021193\n",
      "Epoch: 2/20. Train set: Average loss: 0.0210\n",
      "Epoch: 2/20. Validation set: Average loss: 0.0192\n",
      "Train: [0/272 (0%)]\tLoss: 0.015358\n",
      "Train: [240/272 (88%)]\tLoss: 0.009151\n",
      "Epoch: 3/20. Train set: Average loss: 0.0088\n",
      "Epoch: 3/20. Validation set: Average loss: 0.0149\n",
      "Train: [0/272 (0%)]\tLoss: 0.001816\n",
      "Train: [240/272 (88%)]\tLoss: 0.006521\n",
      "Epoch: 4/20. Train set: Average loss: 0.0059\n",
      "Epoch: 4/20. Validation set: Average loss: 0.0144\n",
      "Train: [0/272 (0%)]\tLoss: 0.001226\n",
      "Train: [240/272 (88%)]\tLoss: 0.003991\n",
      "Epoch: 5/20. Train set: Average loss: 0.0036\n",
      "Epoch: 5/20. Validation set: Average loss: 0.0144\n",
      "Train: [0/272 (0%)]\tLoss: 0.000202\n",
      "Train: [240/272 (88%)]\tLoss: 0.002916\n",
      "Epoch: 6/20. Train set: Average loss: 0.0027\n",
      "Epoch: 6/20. Validation set: Average loss: 0.0152\n",
      "Train: [0/272 (0%)]\tLoss: 0.000214\n",
      "Train: [240/272 (88%)]\tLoss: 0.008279\n",
      "Epoch: 7/20. Train set: Average loss: 0.0100\n",
      "Epoch: 7/20. Validation set: Average loss: 0.0192\n",
      "Train: [0/272 (0%)]\tLoss: 0.000961\n",
      "Train: [240/272 (88%)]\tLoss: 0.014352\n",
      "Epoch: 8/20. Train set: Average loss: 0.0128\n",
      "Epoch: 8/20. Validation set: Average loss: 0.0156\n",
      "Train: [0/272 (0%)]\tLoss: 0.002278\n",
      "Train: [240/272 (88%)]\tLoss: 0.004833\n",
      "Epoch: 9/20. Train set: Average loss: 0.0046\n",
      "Epoch: 9/20. Validation set: Average loss: 0.0139\n",
      "Train: [0/272 (0%)]\tLoss: 0.000341\n",
      "Train: [240/272 (88%)]\tLoss: 0.003710\n",
      "Epoch: 10/20. Train set: Average loss: 0.0033\n",
      "Epoch: 10/20. Validation set: Average loss: 0.0134\n",
      "Train: [0/272 (0%)]\tLoss: 0.000173\n",
      "Train: [240/272 (88%)]\tLoss: 0.002264\n",
      "Epoch: 11/20. Train set: Average loss: 0.0021\n",
      "Epoch: 11/20. Validation set: Average loss: 0.0133\n",
      "Train: [0/272 (0%)]\tLoss: 0.000767\n",
      "Train: [240/272 (88%)]\tLoss: 0.005875\n",
      "Epoch: 12/20. Train set: Average loss: 0.0054\n",
      "Epoch: 12/20. Validation set: Average loss: 0.0133\n",
      "Train: [0/272 (0%)]\tLoss: 0.000979\n",
      "Train: [240/272 (88%)]\tLoss: 0.005422\n",
      "Epoch: 13/20. Train set: Average loss: 0.0050\n",
      "Epoch: 13/20. Validation set: Average loss: 0.0139\n",
      "Train: [0/272 (0%)]\tLoss: 0.001996\n",
      "Train: [240/272 (88%)]\tLoss: 0.002137\n",
      "Epoch: 14/20. Train set: Average loss: 0.0020\n",
      "Epoch: 14/20. Validation set: Average loss: 0.0123\n",
      "Train: [0/272 (0%)]\tLoss: 0.000321\n",
      "Train: [240/272 (88%)]\tLoss: 0.004664\n",
      "Epoch: 15/20. Train set: Average loss: 0.0042\n",
      "Epoch: 15/20. Validation set: Average loss: 0.0125\n",
      "Train: [0/272 (0%)]\tLoss: 0.000833\n",
      "Train: [240/272 (88%)]\tLoss: 0.002381\n",
      "Epoch: 16/20. Train set: Average loss: 0.0022\n",
      "Epoch: 16/20. Validation set: Average loss: 0.0118\n",
      "Train: [0/272 (0%)]\tLoss: 0.000151\n",
      "Train: [240/272 (88%)]\tLoss: 0.004041\n",
      "Epoch: 17/20. Train set: Average loss: 0.0036\n",
      "Epoch: 17/20. Validation set: Average loss: 0.0119\n",
      "Train: [0/272 (0%)]\tLoss: 0.000707\n",
      "Train: [240/272 (88%)]\tLoss: 0.004233\n",
      "Epoch: 18/20. Train set: Average loss: 0.0038\n",
      "Epoch: 18/20. Validation set: Average loss: 0.0120\n",
      "Train: [0/272 (0%)]\tLoss: 0.000331\n",
      "Train: [240/272 (88%)]\tLoss: 0.002352\n",
      "Epoch: 19/20. Train set: Average loss: 0.0022\n",
      "Epoch: 19/20. Validation set: Average loss: 0.0119\n",
      "Train: [0/272 (0%)]\tLoss: 0.000844\n",
      "Train: [240/272 (88%)]\tLoss: 0.001952\n",
      "Epoch: 20/20. Train set: Average loss: 0.0018\n",
      "Epoch: 20/20. Validation set: Average loss: 0.0118\n"
     ]
    }
   ],
   "source": [
    "train_loss, val_loss = fit(siamese_train_loader, siamese_test_loader, model, loss_fn, optimizer, scheduler, \n",
    "    n_epochs, cuda, log_interval)"
   ]
  },
  {
   "cell_type": "code",
   "execution_count": 22,
   "metadata": {},
   "outputs": [
    {
     "data": {
      "text/plain": [
       "[<matplotlib.lines.Line2D at 0x7f26cfe0a358>]"
      ]
     },
     "execution_count": 22,
     "metadata": {},
     "output_type": "execute_result"
    },
    {
     "data": {
      "text/plain": [
       "[<matplotlib.lines.Line2D at 0x7f26e7f53dd8>]"
      ]
     },
     "execution_count": 22,
     "metadata": {},
     "output_type": "execute_result"
    },
    {
     "data": {
      "image/png": "[encoded data removed]",
      "text/plain": [
       "<Figure size 432x288 with 1 Axes>"
      ]
     },
     "metadata": {
      "needs_background": "light"
     },
     "output_type": "display_data"
    }
   ],
   "source": [
    "plt.plot(range(0, n_epochs), train_loss, 'rx-')\n",
    "plt.plot(range(0, n_epochs), val_loss, 'bx-')"
   ]
  },
  {
   "cell_type": "code",
   "execution_count": 23,
   "metadata": {},
   "outputs": [
    {
     "data": {
      "image/png": "[encoded data removed]",
      "text/plain": [
       "<Figure size 720x720 with 1 Axes>"
      ]
     },
     "metadata": {
      "needs_background": "light"
     },
     "output_type": "display_data"
    }
   ],
   "source": [
    "train_embeddings_cl, train_labels_cl = vis.extract_embeddings(train_loader, model)\n",
    "vis.plot_embeddings(train_embeddings_cl, train_labels_cl, siamese_train_dataset.labels_dict)"
   ]
  },
  {
   "cell_type": "code",
   "execution_count": 24,
   "metadata": {},
   "outputs": [
    {
     "data": {
      "image/png": "[encoded data removed]",
      "text/plain": [
       "<Figure size 720x720 with 1 Axes>"
      ]
     },
     "metadata": {
      "needs_background": "light"
     },
     "output_type": "display_data"
    }
   ],
   "source": [
    "val_embeddings_baseline, val_labels_baseline = vis.extract_embeddings(test_loader, model)\n",
    "vis.plot_embeddings(val_embeddings_baseline, val_labels_baseline, siamese_test_dataset.labels_dict)"
   ]
  },
  {
   "cell_type": "markdown",
   "metadata": {},
   "source": [
    "## Integrated Gradients\n",
    "Test completeness axiom through comparison of different baselines\n",
    "\n",
    "\"Integrated gradients satisfy an\n",
    "axiom called completeness that the attributions add up to\n",
    "the difference between the output of F at the input x and\n",
    "the baseline x'.\""
   ]
  },
  {
   "cell_type": "code",
   "execution_count": 25,
   "metadata": {},
   "outputs": [],
   "source": [
    "import copy\n",
    "from captum.attr import LayerActivation\n",
    "from captum.attr import IntegratedGradients"
   ]
  },
  {
   "cell_type": "code",
   "execution_count": 26,
   "metadata": {},
   "outputs": [],
   "source": [
    "def attribution_pairs(SiameseTCGA, exp, ctrl):\n",
    "    # subset different samples\n",
    "    negative_pairs = np.array(SiameseTCGA.test_pairs)\n",
    "    negative_pairs = negative_pairs[negative_pairs[:,2] == 0]\n",
    "    # map labels to integers\n",
    "    ctrl = siamese_test_dataset.labels_dict[ctrl]\n",
    "    exp = siamese_test_dataset.labels_dict[exp]\n",
    "    # ordered indices of samples\n",
    "    ctrl_data = [idx for pair in negative_pairs[:, :2] for idx in pair if np.isin(idx, SiameseTCGA.label_to_indices[ctrl])]\n",
    "    exp_data = [idx for pair in negative_pairs[:, :2] for idx in pair if np.isin(idx, SiameseTCGA.label_to_indices[exp])]\n",
    "    # data\n",
    "    ctrl_data = Variable(SiameseTCGA.test_data[ctrl_data], requires_grad=True)\n",
    "    exp_data = Variable(SiameseTCGA.test_data[exp_data], requires_grad=True)\n",
    "    return ctrl_data, exp_data"
   ]
  },
  {
   "cell_type": "markdown",
   "metadata": {},
   "source": [
    "# IG with Control vector"
   ]
  },
  {
   "cell_type": "code",
   "execution_count": 27,
   "metadata": {},
   "outputs": [],
   "source": [
    "ctrl_data, exp_data = attribution_pairs(siamese_test_dataset, exp='Primary Tumor', ctrl='Solid Tissue Normal')"
   ]
  },
  {
   "cell_type": "code",
   "execution_count": 28,
   "metadata": {},
   "outputs": [
    {
     "data": {
      "text/plain": [
       "PairwiseDistance()"
      ]
     },
     "execution_count": 28,
     "metadata": {},
     "output_type": "execute_result"
    }
   ],
   "source": [
    "from torch.nn import PairwiseDistance\n",
    "pdist = PairwiseDistance(p=2)\n",
    "pdist"
   ]
  },
  {
   "cell_type": "code",
   "execution_count": 29,
   "metadata": {},
   "outputs": [],
   "source": [
    "ig = IntegratedGradients(model.get_dist)"
   ]
  },
  {
   "cell_type": "code",
   "execution_count": 30,
   "metadata": {},
   "outputs": [],
   "source": [
    "torch.cuda.empty_cache()"
   ]
  },
  {
   "cell_type": "markdown",
   "metadata": {},
   "source": [
    "## Healthy as baseline"
   ]
  },
  {
   "cell_type": "code",
   "execution_count": 31,
   "metadata": {},
   "outputs": [
    {
     "data": {
      "text/plain": [
       "tensor([ 1.4275e-02,  2.8425e-02, -3.4584e-02,  1.8457e-02, -9.7862e-03,\n",
       "        -2.1530e-02,  1.5030e-02, -6.0983e-03,  1.8446e-02,  5.8156e-04,\n",
       "        -6.2594e-02,  8.1544e-04, -8.3923e-05, -2.4348e-02, -4.6727e-02,\n",
       "        -1.6891e-02, -9.1973e-03, -6.8343e-03, -8.1412e-03, -1.1079e-02,\n",
       "         2.8501e-02, -1.2636e-02,  2.8101e-02,  1.4697e-02, -2.1231e-02,\n",
       "         7.6068e-03, -6.8688e-03, -2.1772e-02, -2.7317e-02, -1.8692e-04,\n",
       "         3.6330e-02, -3.8389e-02, -3.4085e-02, -1.6496e-02, -5.1535e-02,\n",
       "         1.9007e-03,  1.2166e-02,  5.5834e-02, -4.3237e-03, -2.7686e-02,\n",
       "        -2.9637e-02, -7.5039e-03, -6.1695e-03,  2.4840e-03,  5.4613e-02],\n",
       "       device='cuda:0')"
      ]
     },
     "execution_count": 31,
     "metadata": {},
     "output_type": "execute_result"
    }
   ],
   "source": [
    "attr, delta = ig.attribute(exp_data.cuda(), ctrl_data.cuda(), target=None, n_steps=50, return_convergence_delta=True,\n",
    "                          additional_forward_args=(ctrl_data.cuda(), pdist))\n",
    "attr = attr.cpu().detach().numpy()\n",
    "delta"
   ]
  },
  {
   "cell_type": "code",
   "execution_count": 32,
   "metadata": {},
   "outputs": [
    {
     "data": {
      "text/plain": [
       "(18812, 1)"
      ]
     },
     "execution_count": 32,
     "metadata": {},
     "output_type": "execute_result"
    },
    {
     "data": {
      "text/html": [
       "<div>\n",
       "<style scoped>\n",
       "    .dataframe tbody tr th:only-of-type {\n",
       "        vertical-align: middle;\n",
       "    }\n",
       "\n",
       "    .dataframe tbody tr th {\n",
       "        vertical-align: top;\n",
       "    }\n",
       "\n",
       "    .dataframe thead th {\n",
       "        text-align: right;\n",
       "    }\n",
       "</style>\n",
       "<table border=\"1\" class=\"dataframe\">\n",
       "  <thead>\n",
       "    <tr style=\"text-align: right;\">\n",
       "      <th></th>\n",
       "      <th>Attribution</th>\n",
       "    </tr>\n",
       "  </thead>\n",
       "  <tbody>\n",
       "    <tr>\n",
       "      <th>count</th>\n",
       "      <td>18812.000000</td>\n",
       "    </tr>\n",
       "    <tr>\n",
       "      <th>mean</th>\n",
       "      <td>0.000054</td>\n",
       "    </tr>\n",
       "    <tr>\n",
       "      <th>std</th>\n",
       "      <td>0.000101</td>\n",
       "    </tr>\n",
       "    <tr>\n",
       "      <th>min</th>\n",
       "      <td>-0.003390</td>\n",
       "    </tr>\n",
       "    <tr>\n",
       "      <th>25%</th>\n",
       "      <td>0.000004</td>\n",
       "    </tr>\n",
       "    <tr>\n",
       "      <th>50%</th>\n",
       "      <td>0.000024</td>\n",
       "    </tr>\n",
       "    <tr>\n",
       "      <th>75%</th>\n",
       "      <td>0.000080</td>\n",
       "    </tr>\n",
       "    <tr>\n",
       "      <th>max</th>\n",
       "      <td>0.002542</td>\n",
       "    </tr>\n",
       "  </tbody>\n",
       "</table>\n",
       "</div>"
      ],
      "text/plain": [
       "        Attribution\n",
       "count  18812.000000\n",
       "mean       0.000054\n",
       "std        0.000101\n",
       "min       -0.003390\n",
       "25%        0.000004\n",
       "50%        0.000024\n",
       "75%        0.000080\n",
       "max        0.002542"
      ]
     },
     "execution_count": 32,
     "metadata": {},
     "output_type": "execute_result"
    },
    {
     "data": {
      "text/html": [
       "<div>\n",
       "<style scoped>\n",
       "    .dataframe tbody tr th:only-of-type {\n",
       "        vertical-align: middle;\n",
       "    }\n",
       "\n",
       "    .dataframe tbody tr th {\n",
       "        vertical-align: top;\n",
       "    }\n",
       "\n",
       "    .dataframe thead th {\n",
       "        text-align: right;\n",
       "    }\n",
       "</style>\n",
       "<table border=\"1\" class=\"dataframe\">\n",
       "  <thead>\n",
       "    <tr style=\"text-align: right;\">\n",
       "      <th></th>\n",
       "      <th>Attribution</th>\n",
       "    </tr>\n",
       "  </thead>\n",
       "  <tbody>\n",
       "    <tr>\n",
       "      <th>ENSG00000126337</th>\n",
       "      <td>0.002542</td>\n",
       "    </tr>\n",
       "    <tr>\n",
       "      <th>ENSG00000153303</th>\n",
       "      <td>0.002314</td>\n",
       "    </tr>\n",
       "    <tr>\n",
       "      <th>ENSG00000169006</th>\n",
       "      <td>0.002108</td>\n",
       "    </tr>\n",
       "    <tr>\n",
       "      <th>ENSG00000075891</th>\n",
       "      <td>0.001629</td>\n",
       "    </tr>\n",
       "    <tr>\n",
       "      <th>ENSG00000181961</th>\n",
       "      <td>0.001371</td>\n",
       "    </tr>\n",
       "    <tr>\n",
       "      <th>ENSG00000179008</th>\n",
       "      <td>0.001044</td>\n",
       "    </tr>\n",
       "    <tr>\n",
       "      <th>ENSG00000132692</th>\n",
       "      <td>0.000933</td>\n",
       "    </tr>\n",
       "    <tr>\n",
       "      <th>ENSG00000104848</th>\n",
       "      <td>0.000890</td>\n",
       "    </tr>\n",
       "    <tr>\n",
       "      <th>ENSG00000142025</th>\n",
       "      <td>0.000881</td>\n",
       "    </tr>\n",
       "    <tr>\n",
       "      <th>ENSG00000175202</th>\n",
       "      <td>0.000720</td>\n",
       "    </tr>\n",
       "  </tbody>\n",
       "</table>\n",
       "</div>"
      ],
      "text/plain": [
       "                 Attribution\n",
       "ENSG00000126337     0.002542\n",
       "ENSG00000153303     0.002314\n",
       "ENSG00000169006     0.002108\n",
       "ENSG00000075891     0.001629\n",
       "ENSG00000181961     0.001371\n",
       "ENSG00000179008     0.001044\n",
       "ENSG00000132692     0.000933\n",
       "ENSG00000104848     0.000890\n",
       "ENSG00000142025     0.000881\n",
       "ENSG00000175202     0.000720"
      ]
     },
     "execution_count": 32,
     "metadata": {},
     "output_type": "execute_result"
    }
   ],
   "source": [
    "feat_imp = pd.DataFrame(data=attr.mean(axis=0), index=train_dataset.data.columns, columns=['Attribution'])\n",
    "feat_imp.shape\n",
    "feat_imp.describe()\n",
    "feat_imp.nlargest(10, columns='Attribution')"
   ]
  },
  {
   "cell_type": "markdown",
   "metadata": {},
   "source": [
    "## Protein Feature Attributions only"
   ]
  },
  {
   "cell_type": "code",
   "execution_count": 33,
   "metadata": {},
   "outputs": [
    {
     "data": {
      "text/plain": [
       "(18842,)"
      ]
     },
     "execution_count": 33,
     "metadata": {},
     "output_type": "execute_result"
    },
    {
     "data": {
      "text/plain": [
       "18812"
      ]
     },
     "execution_count": 33,
     "metadata": {},
     "output_type": "execute_result"
    }
   ],
   "source": [
    "proteins['ENSEMBL_ID'].values.shape\n",
    "attr.shape[1]"
   ]
  },
  {
   "cell_type": "code",
   "execution_count": 34,
   "metadata": {},
   "outputs": [
    {
     "data": {
      "text/plain": [
       "(18812, 1)"
      ]
     },
     "execution_count": 34,
     "metadata": {},
     "output_type": "execute_result"
    },
    {
     "data": {
      "text/plain": [
       "(18812, 23)"
      ]
     },
     "execution_count": 34,
     "metadata": {},
     "output_type": "execute_result"
    }
   ],
   "source": [
    "feat_imp = pd.DataFrame(data=attr.mean(axis=0), index=train_dataset.data.columns, columns=['Attribution'])\n",
    "feat_imp.shape\n",
    "feat_imp = pd.merge(feat_imp, proteins.drop_duplicates(subset='ENSEMBL_ID'), left_index=True, right_on='ENSEMBL_ID', how='left').sort_values(by='Attribution', ascending=False).reset_index(drop=True)\n",
    "feat_imp.shape"
   ]
  },
  {
   "cell_type": "code",
   "execution_count": 35,
   "metadata": {},
   "outputs": [],
   "source": [
    "feat_imp.to_pickle(\"../data/tmp/attr_avg.pkl.gz\")"
   ]
  },
  {
   "cell_type": "markdown",
   "metadata": {},
   "source": [
    "### Now go to /srv/home/wconnell/github/diffxpy/notebook/2020.02.05_test_DE_analysis and run"
   ]
  },
  {
   "cell_type": "code",
   "execution_count": 38,
   "metadata": {},
   "outputs": [
    {
     "data": {
      "text/plain": [
       "Index(['Attribution', 'ENSEMBL_ID', 'UNIPROT_ID', 'Entry', 'Entry name',\n",
       "       'Status', 'Protein names', 'Gene names', 'Organism', 'Length',\n",
       "       'Features', 'Cross-reference (GeneID)', 'Cross-reference (KEGG)',\n",
       "       'Cross-reference (ExpressionAtlas)', 'Tissue specificity',\n",
       "       'Gene names  (primary )', 'Gene ontology (biological process)',\n",
       "       'Gene ontology (cellular component)', 'Gene ontology (GO)',\n",
       "       'Gene ontology (molecular function)', 'Gene ontology IDs',\n",
       "       'Ensembl transcript', 'hgnc'],\n",
       "      dtype='object')"
      ]
     },
     "execution_count": 38,
     "metadata": {},
     "output_type": "execute_result"
    }
   ],
   "source": [
    "feat_imp.columns"
   ]
  },
  {
   "cell_type": "code",
   "execution_count": 39,
   "metadata": {},
   "outputs": [
    {
     "data": {
      "text/html": [
       "<div>\n",
       "<style scoped>\n",
       "    .dataframe tbody tr th:only-of-type {\n",
       "        vertical-align: middle;\n",
       "    }\n",
       "\n",
       "    .dataframe tbody tr th {\n",
       "        vertical-align: top;\n",
       "    }\n",
       "\n",
       "    .dataframe thead th {\n",
       "        text-align: right;\n",
       "    }\n",
       "</style>\n",
       "<table border=\"1\" class=\"dataframe\">\n",
       "  <thead>\n",
       "    <tr style=\"text-align: right;\">\n",
       "      <th></th>\n",
       "      <th>Attribution</th>\n",
       "      <th>ENSEMBL_ID</th>\n",
       "      <th>UNIPROT_ID</th>\n",
       "      <th>Entry</th>\n",
       "      <th>Entry name</th>\n",
       "      <th>Status</th>\n",
       "      <th>Protein names</th>\n",
       "      <th>Gene names</th>\n",
       "      <th>Organism</th>\n",
       "      <th>Length</th>\n",
       "      <th>Features</th>\n",
       "      <th>Cross-reference (GeneID)</th>\n",
       "      <th>Cross-reference (KEGG)</th>\n",
       "      <th>Cross-reference (ExpressionAtlas)</th>\n",
       "      <th>Tissue specificity</th>\n",
       "      <th>Gene names  (primary )</th>\n",
       "      <th>Gene ontology (biological process)</th>\n",
       "      <th>Gene ontology (cellular component)</th>\n",
       "      <th>Gene ontology (GO)</th>\n",
       "      <th>Gene ontology (molecular function)</th>\n",
       "      <th>Gene ontology IDs</th>\n",
       "      <th>Ensembl transcript</th>\n",
       "      <th>hgnc</th>\n",
       "    </tr>\n",
       "  </thead>\n",
       "  <tbody>\n",
       "    <tr>\n",
       "      <th>0</th>\n",
       "      <td>0.002542</td>\n",
       "      <td>ENSG00000126337</td>\n",
       "      <td>KRT36_HUMAN</td>\n",
       "      <td>O76013</td>\n",
       "      <td>KRT36_HUMAN</td>\n",
       "      <td>reviewed</td>\n",
       "      <td>Keratin, type I cuticular Ha6 (Hair keratin, t...</td>\n",
       "      <td>KRT36 HHA6 HKA6 KRTHA6</td>\n",
       "      <td>Homo sapiens (Human)</td>\n",
       "      <td>467</td>\n",
       "      <td>Alternative sequence (1); Chain (1); Domain (1...</td>\n",
       "      <td>8689;</td>\n",
       "      <td>hsa:8689;</td>\n",
       "      <td>NaN</td>\n",
       "      <td>TISSUE SPECIFICITY: Expressed in the hair foll...</td>\n",
       "      <td>KRT36</td>\n",
       "      <td>cornification [GO:0070268]; keratinization [GO...</td>\n",
       "      <td>cytosol [GO:0005829]; extracellular exosome [G...</td>\n",
       "      <td>cytosol [GO:0005829]; extracellular exosome [G...</td>\n",
       "      <td>structural constituent of epidermis [GO:0030280]</td>\n",
       "      <td>GO:0005829; GO:0005882; GO:0030280; GO:0031424...</td>\n",
       "      <td>ENST00000328119 [O76013-1];ENST00000393986 [O7...</td>\n",
       "      <td>KRT36</td>\n",
       "    </tr>\n",
       "    <tr>\n",
       "      <th>1</th>\n",
       "      <td>0.002314</td>\n",
       "      <td>ENSG00000153303</td>\n",
       "      <td>FRMD1_HUMAN</td>\n",
       "      <td>Q8N878</td>\n",
       "      <td>FRMD1_HUMAN</td>\n",
       "      <td>reviewed</td>\n",
       "      <td>FERM domain-containing protein 1</td>\n",
       "      <td>FRMD1</td>\n",
       "      <td>Homo sapiens (Human)</td>\n",
       "      <td>549</td>\n",
       "      <td>Alternative sequence (1); Chain (1); Domain (1...</td>\n",
       "      <td>79981;</td>\n",
       "      <td>hsa:79981;</td>\n",
       "      <td>Q8N878;</td>\n",
       "      <td>NaN</td>\n",
       "      <td>FRMD1</td>\n",
       "      <td>NaN</td>\n",
       "      <td>cytoskeleton [GO:0005856]</td>\n",
       "      <td>cytoskeleton [GO:0005856]</td>\n",
       "      <td>NaN</td>\n",
       "      <td>GO:0005856</td>\n",
       "      <td>ENST00000283309 [Q8N878-1];ENST00000440994 [Q8...</td>\n",
       "      <td>FRMD1</td>\n",
       "    </tr>\n",
       "    <tr>\n",
       "      <th>2</th>\n",
       "      <td>0.002108</td>\n",
       "      <td>ENSG00000169006</td>\n",
       "      <td>NTR2_HUMAN</td>\n",
       "      <td>O95665</td>\n",
       "      <td>NTR2_HUMAN</td>\n",
       "      <td>reviewed</td>\n",
       "      <td>Neurotensin receptor type 2 (NT-R-2) (NTR2) (L...</td>\n",
       "      <td>NTSR2</td>\n",
       "      <td>Homo sapiens (Human)</td>\n",
       "      <td>410</td>\n",
       "      <td>Chain (1); Disulfide bond (1); Erroneous gene ...</td>\n",
       "      <td>23620;</td>\n",
       "      <td>hsa:23620;</td>\n",
       "      <td>NaN</td>\n",
       "      <td>TISSUE SPECIFICITY: Expressed in prostate (at ...</td>\n",
       "      <td>NTSR2</td>\n",
       "      <td>cell surface receptor signaling pathway [GO:00...</td>\n",
       "      <td>integral component of plasma membrane [GO:0005...</td>\n",
       "      <td>integral component of plasma membrane [GO:0005...</td>\n",
       "      <td>G protein-coupled neurotensin receptor activit...</td>\n",
       "      <td>GO:0004930; GO:0005886; GO:0005887; GO:0007166...</td>\n",
       "      <td>ENST00000306928;</td>\n",
       "      <td>NTSR2</td>\n",
       "    </tr>\n",
       "    <tr>\n",
       "      <th>3</th>\n",
       "      <td>0.001629</td>\n",
       "      <td>ENSG00000075891</td>\n",
       "      <td>PAX2_HUMAN</td>\n",
       "      <td>Q02962</td>\n",
       "      <td>PAX2_HUMAN</td>\n",
       "      <td>reviewed</td>\n",
       "      <td>Paired box protein Pax-2</td>\n",
       "      <td>PAX2</td>\n",
       "      <td>Homo sapiens (Human)</td>\n",
       "      <td>417</td>\n",
       "      <td>Alternative sequence (2); Chain (1); DNA bindi...</td>\n",
       "      <td>5076;</td>\n",
       "      <td>hsa:5076;</td>\n",
       "      <td>Q02962;</td>\n",
       "      <td>TISSUE SPECIFICITY: Expressed in primitive cel...</td>\n",
       "      <td>PAX2</td>\n",
       "      <td>aging [GO:0007568]; axonogenesis [GO:0007409];...</td>\n",
       "      <td>cell [GO:0005623]; centriolar satellite [GO:00...</td>\n",
       "      <td>cell [GO:0005623]; centriolar satellite [GO:00...</td>\n",
       "      <td>DNA binding [GO:0003677]; DNA-binding transcri...</td>\n",
       "      <td>GO:0000790; GO:0000981; GO:0000987; GO:0001655...</td>\n",
       "      <td>ENST00000355243 [Q02962-3];ENST00000370296 [Q0...</td>\n",
       "      <td>PAX2</td>\n",
       "    </tr>\n",
       "    <tr>\n",
       "      <th>4</th>\n",
       "      <td>0.001371</td>\n",
       "      <td>ENSG00000181961</td>\n",
       "      <td>O4A16_HUMAN</td>\n",
       "      <td>Q8NH70</td>\n",
       "      <td>O4A16_HUMAN</td>\n",
       "      <td>reviewed</td>\n",
       "      <td>Olfactory receptor 4A16 (Olfactory receptor OR...</td>\n",
       "      <td>OR4A16</td>\n",
       "      <td>Homo sapiens (Human)</td>\n",
       "      <td>328</td>\n",
       "      <td>Chain (1); Disulfide bond (1); Glycosylation (...</td>\n",
       "      <td>81327;</td>\n",
       "      <td>hsa:81327;</td>\n",
       "      <td>Q8NH70;</td>\n",
       "      <td>NaN</td>\n",
       "      <td>OR4A16</td>\n",
       "      <td>G protein-coupled receptor signaling pathway [...</td>\n",
       "      <td>integral component of membrane [GO:0016021]; p...</td>\n",
       "      <td>integral component of membrane [GO:0016021]; p...</td>\n",
       "      <td>G protein-coupled receptor activity [GO:000493...</td>\n",
       "      <td>GO:0004930; GO:0004984; GO:0005886; GO:0007186...</td>\n",
       "      <td>ENST00000314721;</td>\n",
       "      <td>OR4A16</td>\n",
       "    </tr>\n",
       "  </tbody>\n",
       "</table>\n",
       "</div>"
      ],
      "text/plain": [
       "   Attribution       ENSEMBL_ID   UNIPROT_ID   Entry   Entry name    Status  \\\n",
       "0     0.002542  ENSG00000126337  KRT36_HUMAN  O76013  KRT36_HUMAN  reviewed   \n",
       "1     0.002314  ENSG00000153303  FRMD1_HUMAN  Q8N878  FRMD1_HUMAN  reviewed   \n",
       "2     0.002108  ENSG00000169006   NTR2_HUMAN  O95665   NTR2_HUMAN  reviewed   \n",
       "3     0.001629  ENSG00000075891   PAX2_HUMAN  Q02962   PAX2_HUMAN  reviewed   \n",
       "4     0.001371  ENSG00000181961  O4A16_HUMAN  Q8NH70  O4A16_HUMAN  reviewed   \n",
       "\n",
       "                                       Protein names              Gene names  \\\n",
       "0  Keratin, type I cuticular Ha6 (Hair keratin, t...  KRT36 HHA6 HKA6 KRTHA6   \n",
       "1                   FERM domain-containing protein 1                   FRMD1   \n",
       "2  Neurotensin receptor type 2 (NT-R-2) (NTR2) (L...                   NTSR2   \n",
       "3                           Paired box protein Pax-2                    PAX2   \n",
       "4  Olfactory receptor 4A16 (Olfactory receptor OR...                  OR4A16   \n",
       "\n",
       "               Organism  Length  \\\n",
       "0  Homo sapiens (Human)     467   \n",
       "1  Homo sapiens (Human)     549   \n",
       "2  Homo sapiens (Human)     410   \n",
       "3  Homo sapiens (Human)     417   \n",
       "4  Homo sapiens (Human)     328   \n",
       "\n",
       "                                            Features Cross-reference (GeneID)  \\\n",
       "0  Alternative sequence (1); Chain (1); Domain (1...                    8689;   \n",
       "1  Alternative sequence (1); Chain (1); Domain (1...                   79981;   \n",
       "2  Chain (1); Disulfide bond (1); Erroneous gene ...                   23620;   \n",
       "3  Alternative sequence (2); Chain (1); DNA bindi...                    5076;   \n",
       "4  Chain (1); Disulfide bond (1); Glycosylation (...                   81327;   \n",
       "\n",
       "  Cross-reference (KEGG) Cross-reference (ExpressionAtlas)  \\\n",
       "0              hsa:8689;                               NaN   \n",
       "1             hsa:79981;                           Q8N878;   \n",
       "2             hsa:23620;                               NaN   \n",
       "3              hsa:5076;                           Q02962;   \n",
       "4             hsa:81327;                           Q8NH70;   \n",
       "\n",
       "                                  Tissue specificity Gene names  (primary )  \\\n",
       "0  TISSUE SPECIFICITY: Expressed in the hair foll...                  KRT36   \n",
       "1                                                NaN                  FRMD1   \n",
       "2  TISSUE SPECIFICITY: Expressed in prostate (at ...                  NTSR2   \n",
       "3  TISSUE SPECIFICITY: Expressed in primitive cel...                   PAX2   \n",
       "4                                                NaN                 OR4A16   \n",
       "\n",
       "                  Gene ontology (biological process)  \\\n",
       "0  cornification [GO:0070268]; keratinization [GO...   \n",
       "1                                                NaN   \n",
       "2  cell surface receptor signaling pathway [GO:00...   \n",
       "3  aging [GO:0007568]; axonogenesis [GO:0007409];...   \n",
       "4  G protein-coupled receptor signaling pathway [...   \n",
       "\n",
       "                  Gene ontology (cellular component)  \\\n",
       "0  cytosol [GO:0005829]; extracellular exosome [G...   \n",
       "1                          cytoskeleton [GO:0005856]   \n",
       "2  integral component of plasma membrane [GO:0005...   \n",
       "3  cell [GO:0005623]; centriolar satellite [GO:00...   \n",
       "4  integral component of membrane [GO:0016021]; p...   \n",
       "\n",
       "                                  Gene ontology (GO)  \\\n",
       "0  cytosol [GO:0005829]; extracellular exosome [G...   \n",
       "1                          cytoskeleton [GO:0005856]   \n",
       "2  integral component of plasma membrane [GO:0005...   \n",
       "3  cell [GO:0005623]; centriolar satellite [GO:00...   \n",
       "4  integral component of membrane [GO:0016021]; p...   \n",
       "\n",
       "                  Gene ontology (molecular function)  \\\n",
       "0   structural constituent of epidermis [GO:0030280]   \n",
       "1                                                NaN   \n",
       "2  G protein-coupled neurotensin receptor activit...   \n",
       "3  DNA binding [GO:0003677]; DNA-binding transcri...   \n",
       "4  G protein-coupled receptor activity [GO:000493...   \n",
       "\n",
       "                                   Gene ontology IDs  \\\n",
       "0  GO:0005829; GO:0005882; GO:0030280; GO:0031424...   \n",
       "1                                         GO:0005856   \n",
       "2  GO:0004930; GO:0005886; GO:0005887; GO:0007166...   \n",
       "3  GO:0000790; GO:0000981; GO:0000987; GO:0001655...   \n",
       "4  GO:0004930; GO:0004984; GO:0005886; GO:0007186...   \n",
       "\n",
       "                                  Ensembl transcript    hgnc  \n",
       "0  ENST00000328119 [O76013-1];ENST00000393986 [O7...   KRT36  \n",
       "1  ENST00000283309 [Q8N878-1];ENST00000440994 [Q8...   FRMD1  \n",
       "2                                   ENST00000306928;   NTSR2  \n",
       "3  ENST00000355243 [Q02962-3];ENST00000370296 [Q0...    PAX2  \n",
       "4                                   ENST00000314721;  OR4A16  "
      ]
     },
     "execution_count": 39,
     "metadata": {},
     "output_type": "execute_result"
    }
   ],
   "source": [
    "feat_imp.head()"
   ]
  },
  {
   "cell_type": "code",
   "execution_count": 40,
   "metadata": {},
   "outputs": [
    {
     "data": {
      "text/html": [
       "<div>\n",
       "<style scoped>\n",
       "    .dataframe tbody tr th:only-of-type {\n",
       "        vertical-align: middle;\n",
       "    }\n",
       "\n",
       "    .dataframe tbody tr th {\n",
       "        vertical-align: top;\n",
       "    }\n",
       "\n",
       "    .dataframe thead th {\n",
       "        text-align: right;\n",
       "    }\n",
       "</style>\n",
       "<table border=\"1\" class=\"dataframe\">\n",
       "  <thead>\n",
       "    <tr style=\"text-align: right;\">\n",
       "      <th></th>\n",
       "      <th>Attribution</th>\n",
       "      <th>hgnc</th>\n",
       "      <th>Protein names</th>\n",
       "      <th>Gene ontology (biological process)</th>\n",
       "      <th>Gene ontology (molecular function)</th>\n",
       "    </tr>\n",
       "  </thead>\n",
       "  <tbody>\n",
       "    <tr>\n",
       "      <th>0</th>\n",
       "      <td>0.002542</td>\n",
       "      <td>KRT36</td>\n",
       "      <td>Keratin, type I cuticular Ha6 (Hair keratin, t...</td>\n",
       "      <td>cornification [GO:0070268]; keratinization [GO...</td>\n",
       "      <td>structural constituent of epidermis [GO:0030280]</td>\n",
       "    </tr>\n",
       "    <tr>\n",
       "      <th>1</th>\n",
       "      <td>0.002314</td>\n",
       "      <td>FRMD1</td>\n",
       "      <td>FERM domain-containing protein 1</td>\n",
       "      <td>NaN</td>\n",
       "      <td>NaN</td>\n",
       "    </tr>\n",
       "    <tr>\n",
       "      <th>2</th>\n",
       "      <td>0.002108</td>\n",
       "      <td>NTSR2</td>\n",
       "      <td>Neurotensin receptor type 2 (NT-R-2) (NTR2) (L...</td>\n",
       "      <td>cell surface receptor signaling pathway [GO:00...</td>\n",
       "      <td>G protein-coupled neurotensin receptor activit...</td>\n",
       "    </tr>\n",
       "    <tr>\n",
       "      <th>3</th>\n",
       "      <td>0.001629</td>\n",
       "      <td>PAX2</td>\n",
       "      <td>Paired box protein Pax-2</td>\n",
       "      <td>aging [GO:0007568]; axonogenesis [GO:0007409];...</td>\n",
       "      <td>DNA binding [GO:0003677]; DNA-binding transcri...</td>\n",
       "    </tr>\n",
       "    <tr>\n",
       "      <th>4</th>\n",
       "      <td>0.001371</td>\n",
       "      <td>OR4A16</td>\n",
       "      <td>Olfactory receptor 4A16 (Olfactory receptor OR...</td>\n",
       "      <td>G protein-coupled receptor signaling pathway [...</td>\n",
       "      <td>G protein-coupled receptor activity [GO:000493...</td>\n",
       "    </tr>\n",
       "    <tr>\n",
       "      <th>...</th>\n",
       "      <td>...</td>\n",
       "      <td>...</td>\n",
       "      <td>...</td>\n",
       "      <td>...</td>\n",
       "      <td>...</td>\n",
       "    </tr>\n",
       "    <tr>\n",
       "      <th>18807</th>\n",
       "      <td>-0.001265</td>\n",
       "      <td>OR7C2</td>\n",
       "      <td>Olfactory receptor 7C2 (Olfactory receptor 19-...</td>\n",
       "      <td>G protein-coupled receptor signaling pathway [...</td>\n",
       "      <td>G protein-coupled receptor activity [GO:000493...</td>\n",
       "    </tr>\n",
       "    <tr>\n",
       "      <th>18808</th>\n",
       "      <td>-0.001484</td>\n",
       "      <td>MUCL1</td>\n",
       "      <td>Mucin-like protein 1 (Protein BS106) (Small br...</td>\n",
       "      <td>O-glycan processing [GO:0016266]; stimulatory ...</td>\n",
       "      <td>NaN</td>\n",
       "    </tr>\n",
       "    <tr>\n",
       "      <th>18809</th>\n",
       "      <td>-0.002256</td>\n",
       "      <td>LRRC55</td>\n",
       "      <td>Leucine-rich repeat-containing protein 55 (BK ...</td>\n",
       "      <td>positive regulation of voltage-gated potassium...</td>\n",
       "      <td>ion channel binding [GO:0044325]; potassium ch...</td>\n",
       "    </tr>\n",
       "    <tr>\n",
       "      <th>18810</th>\n",
       "      <td>-0.002318</td>\n",
       "      <td>CABP2</td>\n",
       "      <td>Calcium-binding protein 2 (CaBP2)</td>\n",
       "      <td>sensory perception of sound [GO:0007605]; sign...</td>\n",
       "      <td>calcium channel regulator activity [GO:0005246...</td>\n",
       "    </tr>\n",
       "    <tr>\n",
       "      <th>18811</th>\n",
       "      <td>-0.003390</td>\n",
       "      <td>OR6P1</td>\n",
       "      <td>Olfactory receptor 6P1 (Olfactory receptor OR1...</td>\n",
       "      <td>NaN</td>\n",
       "      <td>G protein-coupled receptor activity [GO:000493...</td>\n",
       "    </tr>\n",
       "  </tbody>\n",
       "</table>\n",
       "<p>18812 rows × 5 columns</p>\n",
       "</div>"
      ],
      "text/plain": [
       "       Attribution    hgnc                                      Protein names  \\\n",
       "0         0.002542   KRT36  Keratin, type I cuticular Ha6 (Hair keratin, t...   \n",
       "1         0.002314   FRMD1                   FERM domain-containing protein 1   \n",
       "2         0.002108   NTSR2  Neurotensin receptor type 2 (NT-R-2) (NTR2) (L...   \n",
       "3         0.001629    PAX2                           Paired box protein Pax-2   \n",
       "4         0.001371  OR4A16  Olfactory receptor 4A16 (Olfactory receptor OR...   \n",
       "...            ...     ...                                                ...   \n",
       "18807    -0.001265   OR7C2  Olfactory receptor 7C2 (Olfactory receptor 19-...   \n",
       "18808    -0.001484   MUCL1  Mucin-like protein 1 (Protein BS106) (Small br...   \n",
       "18809    -0.002256  LRRC55  Leucine-rich repeat-containing protein 55 (BK ...   \n",
       "18810    -0.002318   CABP2                  Calcium-binding protein 2 (CaBP2)   \n",
       "18811    -0.003390   OR6P1  Olfactory receptor 6P1 (Olfactory receptor OR1...   \n",
       "\n",
       "                      Gene ontology (biological process)  \\\n",
       "0      cornification [GO:0070268]; keratinization [GO...   \n",
       "1                                                    NaN   \n",
       "2      cell surface receptor signaling pathway [GO:00...   \n",
       "3      aging [GO:0007568]; axonogenesis [GO:0007409];...   \n",
       "4      G protein-coupled receptor signaling pathway [...   \n",
       "...                                                  ...   \n",
       "18807  G protein-coupled receptor signaling pathway [...   \n",
       "18808  O-glycan processing [GO:0016266]; stimulatory ...   \n",
       "18809  positive regulation of voltage-gated potassium...   \n",
       "18810  sensory perception of sound [GO:0007605]; sign...   \n",
       "18811                                                NaN   \n",
       "\n",
       "                      Gene ontology (molecular function)  \n",
       "0       structural constituent of epidermis [GO:0030280]  \n",
       "1                                                    NaN  \n",
       "2      G protein-coupled neurotensin receptor activit...  \n",
       "3      DNA binding [GO:0003677]; DNA-binding transcri...  \n",
       "4      G protein-coupled receptor activity [GO:000493...  \n",
       "...                                                  ...  \n",
       "18807  G protein-coupled receptor activity [GO:000493...  \n",
       "18808                                                NaN  \n",
       "18809  ion channel binding [GO:0044325]; potassium ch...  \n",
       "18810  calcium channel regulator activity [GO:0005246...  \n",
       "18811  G protein-coupled receptor activity [GO:000493...  \n",
       "\n",
       "[18812 rows x 5 columns]"
      ]
     },
     "execution_count": 40,
     "metadata": {},
     "output_type": "execute_result"
    }
   ],
   "source": [
    "feat_imp[['Attribution', 'hgnc', 'Protein names', 'Gene ontology (biological process)', 'Gene ontology (molecular function)']]"
   ]
  },
  {
   "cell_type": "code",
   "execution_count": null,
   "metadata": {},
   "outputs": [],
   "source": []
  }
 ],
 "metadata": {
  "kernelspec": {
   "display_name": "torch",
   "language": "python",
   "name": "torch"
  },
  "language_info": {
   "codemirror_mode": {
    "name": "ipython",
    "version": 3
   },
   "file_extension": ".py",
   "mimetype": "text/x-python",
   "name": "python",
   "nbconvert_exporter": "python",
   "pygments_lexer": "ipython3",
   "version": "3.7.3"
  }
 },
 "nbformat": 4,
 "nbformat_minor": 2
}
