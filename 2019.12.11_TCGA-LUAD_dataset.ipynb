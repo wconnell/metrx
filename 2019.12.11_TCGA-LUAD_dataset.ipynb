{
 "cells": [
  {
   "cell_type": "code",
   "execution_count": 1,
   "metadata": {},
   "outputs": [],
   "source": [
    "import numpy as np\n",
    "import pandas as pd\n",
    "\n",
    "# viz\n",
    "import matplotlib.pyplot as plt\n",
    "\n",
    "# notebook settings\n",
    "from IPython.core.interactiveshell import InteractiveShell\n",
    "InteractiveShell.ast_node_interactivity = \"all\"\n",
    "\n",
    "pd.set_option('display.max_columns', 1000)"
   ]
  },
  {
   "cell_type": "markdown",
   "metadata": {},
   "source": [
    "## Sample Prep"
   ]
  },
  {
   "cell_type": "code",
   "execution_count": 2,
   "metadata": {},
   "outputs": [
    {
     "data": {
      "text/html": [
       "<div>\n",
       "<style scoped>\n",
       "    .dataframe tbody tr th:only-of-type {\n",
       "        vertical-align: middle;\n",
       "    }\n",
       "\n",
       "    .dataframe tbody tr th {\n",
       "        vertical-align: top;\n",
       "    }\n",
       "\n",
       "    .dataframe thead th {\n",
       "        text-align: right;\n",
       "    }\n",
       "</style>\n",
       "<table border=\"1\" class=\"dataframe\">\n",
       "  <thead>\n",
       "    <tr style=\"text-align: right;\">\n",
       "      <th></th>\n",
       "      <th>File ID</th>\n",
       "      <th>File Name</th>\n",
       "      <th>Data Category</th>\n",
       "      <th>Data Type</th>\n",
       "      <th>Project ID</th>\n",
       "      <th>Case ID</th>\n",
       "      <th>Sample ID</th>\n",
       "      <th>Sample Type</th>\n",
       "      <th>data</th>\n",
       "    </tr>\n",
       "  </thead>\n",
       "  <tbody>\n",
       "    <tr>\n",
       "      <th>0</th>\n",
       "      <td>c5b283b8-a6ab-4652-b824-18fe1cebe0e3</td>\n",
       "      <td>0bf53fc6-b8fb-4e6d-9297-4129c708f3da.FPKM.txt.gz</td>\n",
       "      <td>Transcriptome Profiling</td>\n",
       "      <td>Gene Expression Quantification</td>\n",
       "      <td>TCGA-LUAD</td>\n",
       "      <td>TCGA-50-5935</td>\n",
       "      <td>TCGA-50-5935-01A</td>\n",
       "      <td>Primary Tumor</td>\n",
       "      <td>FPKM</td>\n",
       "    </tr>\n",
       "    <tr>\n",
       "      <th>1</th>\n",
       "      <td>27079945-f3da-42b4-8c17-c82d66b7d321</td>\n",
       "      <td>f4a1e772-2a5e-4c0a-803a-1bdb2b376a47.FPKM-UQ.t...</td>\n",
       "      <td>Transcriptome Profiling</td>\n",
       "      <td>Gene Expression Quantification</td>\n",
       "      <td>TCGA-LUAD</td>\n",
       "      <td>TCGA-55-6971</td>\n",
       "      <td>TCGA-55-6971-11A</td>\n",
       "      <td>Solid Tissue Normal</td>\n",
       "      <td>FPKM-UQ</td>\n",
       "    </tr>\n",
       "    <tr>\n",
       "      <th>2</th>\n",
       "      <td>da368838-dad0-434d-a2a8-084b362e358e</td>\n",
       "      <td>12d2b9fa-1921-4033-bdb9-7e114c0d7812.FPKM.txt.gz</td>\n",
       "      <td>Transcriptome Profiling</td>\n",
       "      <td>Gene Expression Quantification</td>\n",
       "      <td>TCGA-LUAD</td>\n",
       "      <td>TCGA-99-8025</td>\n",
       "      <td>TCGA-99-8025-01A</td>\n",
       "      <td>Primary Tumor</td>\n",
       "      <td>FPKM</td>\n",
       "    </tr>\n",
       "    <tr>\n",
       "      <th>3</th>\n",
       "      <td>be46ee72-8958-483f-bd54-38d21ebf7ff6</td>\n",
       "      <td>4d36e127-5fad-4b97-afff-28f4bdbf5f5d.FPKM.txt.gz</td>\n",
       "      <td>Transcriptome Profiling</td>\n",
       "      <td>Gene Expression Quantification</td>\n",
       "      <td>TCGA-LUAD</td>\n",
       "      <td>TCGA-55-8301</td>\n",
       "      <td>TCGA-55-8301-01A</td>\n",
       "      <td>Primary Tumor</td>\n",
       "      <td>FPKM</td>\n",
       "    </tr>\n",
       "    <tr>\n",
       "      <th>4</th>\n",
       "      <td>c5f764bd-a9d4-4188-a4dc-a5e6ca1183f8</td>\n",
       "      <td>c57c5f57-5426-4662-832d-6f342ebeff04.FPKM-UQ.t...</td>\n",
       "      <td>Transcriptome Profiling</td>\n",
       "      <td>Gene Expression Quantification</td>\n",
       "      <td>TCGA-LUAD</td>\n",
       "      <td>TCGA-73-4677</td>\n",
       "      <td>TCGA-73-4677-01A</td>\n",
       "      <td>Primary Tumor</td>\n",
       "      <td>FPKM-UQ</td>\n",
       "    </tr>\n",
       "  </tbody>\n",
       "</table>\n",
       "</div>"
      ],
      "text/plain": [
       "                                File ID  \\\n",
       "0  c5b283b8-a6ab-4652-b824-18fe1cebe0e3   \n",
       "1  27079945-f3da-42b4-8c17-c82d66b7d321   \n",
       "2  da368838-dad0-434d-a2a8-084b362e358e   \n",
       "3  be46ee72-8958-483f-bd54-38d21ebf7ff6   \n",
       "4  c5f764bd-a9d4-4188-a4dc-a5e6ca1183f8   \n",
       "\n",
       "                                           File Name            Data Category  \\\n",
       "0   0bf53fc6-b8fb-4e6d-9297-4129c708f3da.FPKM.txt.gz  Transcriptome Profiling   \n",
       "1  f4a1e772-2a5e-4c0a-803a-1bdb2b376a47.FPKM-UQ.t...  Transcriptome Profiling   \n",
       "2   12d2b9fa-1921-4033-bdb9-7e114c0d7812.FPKM.txt.gz  Transcriptome Profiling   \n",
       "3   4d36e127-5fad-4b97-afff-28f4bdbf5f5d.FPKM.txt.gz  Transcriptome Profiling   \n",
       "4  c57c5f57-5426-4662-832d-6f342ebeff04.FPKM-UQ.t...  Transcriptome Profiling   \n",
       "\n",
       "                        Data Type Project ID       Case ID         Sample ID  \\\n",
       "0  Gene Expression Quantification  TCGA-LUAD  TCGA-50-5935  TCGA-50-5935-01A   \n",
       "1  Gene Expression Quantification  TCGA-LUAD  TCGA-55-6971  TCGA-55-6971-11A   \n",
       "2  Gene Expression Quantification  TCGA-LUAD  TCGA-99-8025  TCGA-99-8025-01A   \n",
       "3  Gene Expression Quantification  TCGA-LUAD  TCGA-55-8301  TCGA-55-8301-01A   \n",
       "4  Gene Expression Quantification  TCGA-LUAD  TCGA-73-4677  TCGA-73-4677-01A   \n",
       "\n",
       "           Sample Type     data  \n",
       "0        Primary Tumor     FPKM  \n",
       "1  Solid Tissue Normal  FPKM-UQ  \n",
       "2        Primary Tumor     FPKM  \n",
       "3        Primary Tumor     FPKM  \n",
       "4        Primary Tumor  FPKM-UQ  "
      ]
     },
     "execution_count": 2,
     "metadata": {},
     "output_type": "execute_result"
    }
   ],
   "source": [
    "samples = pd.read_csv('../data/TCGA/gdc_sample_sheet.2019-12-09.tsv', sep=\"\\t\")\n",
    "# get file type\n",
    "samples['data'] = [val[1] for i,val in samples['File Name'].str.split(\".\").items()]\n",
    "samples.head()"
   ]
  },
  {
   "cell_type": "markdown",
   "metadata": {},
   "source": [
    "Samples with RNAseq adjacent normal tissue"
   ]
  },
  {
   "cell_type": "code",
   "execution_count": 3,
   "metadata": {},
   "outputs": [
    {
     "data": {
      "text/plain": [
       "FPKM-UQ    59\n",
       "FPKM       59\n",
       "htseq      59\n",
       "Name: data, dtype: int64"
      ]
     },
     "execution_count": 3,
     "metadata": {},
     "output_type": "execute_result"
    }
   ],
   "source": [
    "samples[samples['Sample Type']=='Solid Tissue Normal']['data'].value_counts()"
   ]
  },
  {
   "cell_type": "code",
   "execution_count": 4,
   "metadata": {},
   "outputs": [],
   "source": [
    "# all cases with adjacent normal tissue\n",
    "cases = samples[samples['Sample Type']=='Solid Tissue Normal']['Case ID']"
   ]
  },
  {
   "cell_type": "code",
   "execution_count": 5,
   "metadata": {},
   "outputs": [
    {
     "data": {
      "text/plain": [
       "57"
      ]
     },
     "execution_count": 5,
     "metadata": {},
     "output_type": "execute_result"
    },
    {
     "data": {
      "text/plain": [
       "59"
      ]
     },
     "execution_count": 5,
     "metadata": {},
     "output_type": "execute_result"
    }
   ],
   "source": [
    "# disparity in cases\n",
    "samples[(samples['Case ID'].isin(cases)) & (samples['Sample Type']=='Primary Tumor') & (samples['data']=='FPKM')]['Case ID'].nunique()\n",
    "samples[(samples['Case ID'].isin(cases)) & (samples['Sample Type']=='Solid Tissue Normal') & (samples['data']=='FPKM')]['Case ID'].nunique()"
   ]
  },
  {
   "cell_type": "code",
   "execution_count": 6,
   "metadata": {},
   "outputs": [
    {
     "data": {
      "text/plain": [
       "(57,)"
      ]
     },
     "execution_count": 6,
     "metadata": {},
     "output_type": "execute_result"
    }
   ],
   "source": [
    "# divide, join, subset\n",
    "case_tumor = samples[(samples['Case ID'].isin(cases)) & (samples['Sample Type']=='Primary Tumor') & (samples['data']=='FPKM')]\n",
    "case_norm = samples[(samples['Case ID'].isin(cases)) & (samples['Sample Type']=='Solid Tissue Normal') & (samples['data']=='FPKM')]\n",
    "cases = case_norm[case_norm['Case ID'].isin(case_tumor['Case ID'])]['Case ID']\n",
    "cases.shape"
   ]
  },
  {
   "cell_type": "code",
   "execution_count": 7,
   "metadata": {},
   "outputs": [],
   "source": [
    "case_tumor = case_tumor[case_tumor['Case ID'].isin(cases)]\n",
    "case_norm = case_norm[case_norm['Case ID'].isin(cases)]\n",
    "cases = pd.concat([case_tumor, case_norm])\n",
    "cases['Sample Type'] = cases['Sample Type'].astype('category')"
   ]
  },
  {
   "cell_type": "code",
   "execution_count": 8,
   "metadata": {},
   "outputs": [
    {
     "data": {
      "text/plain": [
       "(67, 9)"
      ]
     },
     "execution_count": 8,
     "metadata": {},
     "output_type": "execute_result"
    },
    {
     "data": {
      "text/plain": [
       "(57, 9)"
      ]
     },
     "execution_count": 8,
     "metadata": {},
     "output_type": "execute_result"
    },
    {
     "data": {
      "text/plain": [
       "(124, 9)"
      ]
     },
     "execution_count": 8,
     "metadata": {},
     "output_type": "execute_result"
    }
   ],
   "source": [
    "case_tumor.shape\n",
    "case_norm.shape\n",
    "cases.shape"
   ]
  },
  {
   "cell_type": "markdown",
   "metadata": {},
   "source": [
    "## Dataset Prep"
   ]
  },
  {
   "cell_type": "code",
   "execution_count": 9,
   "metadata": {},
   "outputs": [
    {
     "data": {
      "text/plain": [
       "Primary Tumor          67\n",
       "Solid Tissue Normal    57\n",
       "Name: Sample Type, dtype: int64"
      ]
     },
     "execution_count": 9,
     "metadata": {},
     "output_type": "execute_result"
    },
    {
     "data": {
      "text/plain": [
       "Primary Tumor          14\n",
       "Solid Tissue Normal     6\n",
       "Name: Sample Type, dtype: int64"
      ]
     },
     "execution_count": 9,
     "metadata": {},
     "output_type": "execute_result"
    }
   ],
   "source": [
    "from sklearn.model_selection import train_test_split\n",
    "train, test = train_test_split(cases)\n",
    "train, test = cases.copy(), cases.sample(n=20).copy()\n",
    "train['Sample Type'].value_counts()\n",
    "test['Sample Type'].value_counts()"
   ]
  },
  {
   "cell_type": "code",
   "execution_count": 10,
   "metadata": {},
   "outputs": [
    {
     "name": "stdout",
     "output_type": "stream",
     "text": [
      "Cuda is available: False\n"
     ]
    }
   ],
   "source": [
    "import torch\n",
    "from torch.optim import lr_scheduler\n",
    "import torch.optim as optim\n",
    "from torch.autograd import Variable\n",
    "\n",
    "from trainer import fit\n",
    "import numpy as np\n",
    "cuda = torch.cuda.is_available()\n",
    "print(\"Cuda is available: {}\".format(cuda))\n",
    "\n",
    "%matplotlib inline\n",
    "import matplotlib\n",
    "import matplotlib.pyplot as plt\n",
    "\n",
    "colors = ['#1f77b4', '#ff7f0e', '#2ca02c', '#d62728',\n",
    "              '#9467bd', '#8c564b', '#e377c2', '#7f7f7f',\n",
    "              '#bcbd22', '#17becf']\n",
    "classes = train['Sample Type'].cat.categories.values\n",
    "\n",
    "def plot_embeddings(embeddings, targets, xlim=None, ylim=None):\n",
    "    plt.figure(figsize=(10,10))\n",
    "    for i in range(10):\n",
    "        inds = np.where(targets==i)[0]\n",
    "        plt.scatter(embeddings[inds,0], embeddings[inds,1], alpha=0.5, color=colors[i])\n",
    "    if xlim:\n",
    "        plt.xlim(xlim[0], xlim[1])\n",
    "    if ylim:\n",
    "        plt.ylim(ylim[0], ylim[1])\n",
    "    plt.legend(classes)\n",
    "\n",
    "def extract_embeddings(dataloader, model):\n",
    "    with torch.no_grad():\n",
    "        model.eval()\n",
    "        embeddings = np.zeros((len(dataloader), 2))\n",
    "        labels = np.zeros(len(dataloader))\n",
    "        k = 0\n",
    "        for images, target in dataloader:\n",
    "            if cuda:\n",
    "                images = images.cuda()\n",
    "            embeddings[k:k+len(images)] = model.get_embedding(images).data.cpu().numpy()\n",
    "            labels[k:k+len(images)] = target.numpy()\n",
    "            k += len(images)\n",
    "    return embeddings, labels"
   ]
  },
  {
   "cell_type": "code",
   "execution_count": 11,
   "metadata": {},
   "outputs": [],
   "source": [
    "from tcga_datasets import TCGA, SiameseTCGA\n",
    "root_dir = \"../data/TCGA\"\n",
    "batch_size = 1\n",
    "\n",
    "train_dataset = TCGA(root_dir, samples=train, train=True)\n",
    "test_dataset = TCGA(root_dir, samples=test, train=False)\n",
    "\n",
    "kwargs = {'num_workers': 1, 'pin_memory': True} if cuda else {}\n",
    "train_loader = torch.utils.data.DataLoader(train_dataset, batch_size=batch_size, shuffle=True, **kwargs)\n",
    "test_loader = torch.utils.data.DataLoader(test_dataset, batch_size=batch_size, shuffle=False, **kwargs)\n"
   ]
  },
  {
   "cell_type": "markdown",
   "metadata": {},
   "source": [
    "## Siamese Network"
   ]
  },
  {
   "cell_type": "code",
   "execution_count": 12,
   "metadata": {},
   "outputs": [],
   "source": [
    "# Step 1 set up dataloader\n",
    "root_dir = \"../data/TCGA\"\n",
    "siamese_train_dataset = SiameseTCGA(train_dataset) # Returns pairs of images and target same/different\n",
    "siamese_test_dataset = SiameseTCGA(test_dataset)\n",
    "batch_size = 10\n",
    "kwargs = {'num_workers': 1, 'pin_memory': True} if cuda else {}\n",
    "siamese_train_loader = torch.utils.data.DataLoader(siamese_train_dataset, batch_size=batch_size, shuffle=True, **kwargs)\n",
    "siamese_test_loader = torch.utils.data.DataLoader(siamese_test_dataset, batch_size=batch_size, shuffle=False, **kwargs)\n",
    "\n",
    "# Set up the network and training parameters\n",
    "from tcga_networks import EmbeddingNet, SiameseNet\n",
    "from losses import ContrastiveLoss\n",
    "from metrics import AccumulatedAccuracyMetric\n",
    "\n",
    "# Step 2\n",
    "embedding_net = EmbeddingNet()\n",
    "# Step 3\n",
    "model = SiameseNet(embedding_net)\n",
    "if cuda:\n",
    "    model.cuda()\n",
    "    \n",
    "# Step 4\n",
    "margin = 1.\n",
    "loss_fn = ContrastiveLoss(margin)\n",
    "lr = 1e-3\n",
    "optimizer = optim.Adam(model.parameters(), lr=lr)\n",
    "scheduler = lr_scheduler.StepLR(optimizer, 8, gamma=0.1, last_epoch=-1)\n",
    "n_epochs = 20\n",
    "# print training metrics every log_interval * batch_size\n",
    "log_interval = 3"
   ]
  },
  {
   "cell_type": "code",
   "execution_count": null,
   "metadata": {},
   "outputs": [
    {
     "name": "stdout",
     "output_type": "stream",
     "text": [
      "Train: [0/124 (0%)]\tLoss: 562.989380\n",
      "Train: [30/124 (23%)]\tLoss: 4664397.208333\n",
      "Train: [60/124 (46%)]\tLoss: 68543649.833333\n",
      "Train: [90/124 (69%)]\tLoss: 1725710.716146\n",
      "Train: [48/124 (92%)]\tLoss: 2423921.520833\n",
      "Epoch: 1/20. Train set: Average loss: 17851815.4481\n",
      "Epoch: 1/20. Validation set: Average loss: 4873234.5000\n",
      "Train: [0/124 (0%)]\tLoss: 7821173.500000\n",
      "Train: [30/124 (23%)]\tLoss: 12385814.645833\n",
      "Train: [60/124 (46%)]\tLoss: 7084009.166667\n",
      "Train: [90/124 (69%)]\tLoss: 7078800.541667\n",
      "Train: [48/124 (92%)]\tLoss: 798880.312500\n",
      "Epoch: 2/20. Train set: Average loss: 6912591.3462\n",
      "Epoch: 2/20. Validation set: Average loss: 2730937.7500\n",
      "Train: [0/124 (0%)]\tLoss: 723869.812500\n",
      "Train: [30/124 (23%)]\tLoss: 3039814.583333\n"
     ]
    }
   ],
   "source": [
    "fit(siamese_train_loader, siamese_test_loader, model, loss_fn, optimizer, scheduler, \n",
    "    n_epochs, cuda, log_interval)"
   ]
  },
  {
   "cell_type": "code",
   "execution_count": 42,
   "metadata": {},
   "outputs": [
    {
     "data": {
      "image/png": "[encoded data removed]",
      "text/plain": [
       "<Figure size 720x720 with 1 Axes>"
      ]
     },
     "metadata": {
      "needs_background": "light"
     },
     "output_type": "display_data"
    }
   ],
   "source": [
    "train_embeddings_cl, train_labels_cl = extract_embeddings(train_loader, model)\n",
    "plot_embeddings(train_embeddings_cl, train_labels_cl)"
   ]
  },
  {
   "cell_type": "code",
   "execution_count": 43,
   "metadata": {},
   "outputs": [
    {
     "data": {
      "image/png": "[encoded data removed]",
      "text/plain": [
       "<Figure size 720x720 with 1 Axes>"
      ]
     },
     "metadata": {
      "needs_background": "light"
     },
     "output_type": "display_data"
    }
   ],
   "source": [
    "val_embeddings_baseline, val_labels_baseline = extract_embeddings(test_loader, model)\n",
    "plot_embeddings(val_embeddings_baseline, val_labels_baseline)"
   ]
  },
  {
   "cell_type": "code",
   "execution_count": 52,
   "metadata": {},
   "outputs": [
    {
     "data": {
      "text/plain": [
       "tensor([[0.0000e+00, 0.0000e+00, 4.9478e+00,  ..., 0.0000e+00, 4.2358e+00,\n",
       "         0.0000e+00],\n",
       "        [0.0000e+00, 6.3250e-03, 1.2249e+00,  ..., 0.0000e+00, 7.3963e-01,\n",
       "         0.0000e+00],\n",
       "        [2.6798e-01, 2.9746e-01, 2.3197e+00,  ..., 0.0000e+00, 2.1039e+00,\n",
       "         2.3825e-01],\n",
       "        ...,\n",
       "        [0.0000e+00, 0.0000e+00, 3.4065e+00,  ..., 0.0000e+00, 8.1920e-01,\n",
       "         0.0000e+00],\n",
       "        [7.5395e-02, 2.6153e-03, 3.3482e+00,  ..., 0.0000e+00, 9.4216e-01,\n",
       "         0.0000e+00],\n",
       "        [6.7487e-02, 0.0000e+00, 3.1826e+00,  ..., 0.0000e+00, 7.6828e-01,\n",
       "         0.0000e+00]])"
      ]
     },
     "execution_count": 52,
     "metadata": {},
     "output_type": "execute_result"
    }
   ],
   "source": [
    "siamese_train_dataset.train_data"
   ]
  },
  {
   "cell_type": "code",
   "execution_count": 21,
   "metadata": {},
   "outputs": [
    {
     "data": {
      "text/plain": [
       "{0, 1}"
      ]
     },
     "execution_count": 21,
     "metadata": {},
     "output_type": "execute_result"
    }
   ],
   "source": [
    "siamese_train_dataset.labels_set"
   ]
  },
  {
   "cell_type": "code",
   "execution_count": 23,
   "metadata": {},
   "outputs": [
    {
     "data": {
      "text/plain": [
       "{0: array([ 0,  2,  3,  5,  7,  9, 10, 11, 12, 13, 15, 18, 19, 20, 21, 23, 25,\n",
       "        26, 27, 28, 29, 33, 34, 40, 42, 45, 47, 49, 52, 55, 59, 60, 61, 65,\n",
       "        66, 68, 71, 73, 74, 76, 78, 79, 83, 86, 87, 88, 89, 90, 91, 92]),\n",
       " 1: array([ 1,  4,  6,  8, 14, 16, 17, 22, 24, 30, 31, 32, 35, 36, 37, 38, 39,\n",
       "        41, 43, 44, 46, 48, 50, 51, 53, 54, 56, 57, 58, 62, 63, 64, 67, 69,\n",
       "        70, 72, 75, 77, 80, 81, 82, 84, 85])}"
      ]
     },
     "execution_count": 23,
     "metadata": {},
     "output_type": "execute_result"
    }
   ],
   "source": [
    "foo = {label: np.where(siamese_train_dataset.train_labels == label)[0]\n",
    "                                     for label in siamese_train_dataset.labels_set}\n",
    "foo"
   ]
  },
  {
   "cell_type": "code",
   "execution_count": null,
   "metadata": {},
   "outputs": [],
   "source": [
    "[[i, random_state.choice(self.label_to_indices[self.test_labels[i].item()]), 1] for i in range(0, len(self.test_data), 2)]\n"
   ]
  },
  {
   "cell_type": "code",
   "execution_count": 27,
   "metadata": {},
   "outputs": [
    {
     "data": {
      "text/plain": [
       "31"
      ]
     },
     "execution_count": 27,
     "metadata": {},
     "output_type": "execute_result"
    },
    {
     "data": {
      "text/plain": [
       "{0: array([ 1,  4,  5,  6,  7, 10, 11, 13, 14, 15, 17, 18, 22, 23, 24, 28, 30]),\n",
       " 1: array([ 0,  2,  3,  8,  9, 12, 16, 19, 20, 21, 25, 26, 27, 29])}"
      ]
     },
     "execution_count": 27,
     "metadata": {},
     "output_type": "execute_result"
    },
    {
     "data": {
      "text/plain": [
       "array([1, 0, 1, 1, 0, 0, 0, 0, 1, 1, 0, 0, 1, 0, 0, 0, 1, 0, 0, 1, 1, 1,\n",
       "       0, 0, 0, 1, 1, 1, 0, 1, 0])"
      ]
     },
     "execution_count": 27,
     "metadata": {},
     "output_type": "execute_result"
    }
   ],
   "source": [
    "len(siamese_test_dataset.test_data)\n",
    "siamese_test_dataset.label_to_indices\n",
    "siamese_test_dataset.test_labels"
   ]
  },
  {
   "cell_type": "code",
   "execution_count": 24,
   "metadata": {},
   "outputs": [
    {
     "data": {
      "text/plain": [
       "[[0, 12, 1],\n",
       " [2, 8, 1],\n",
       " [4, 22, 1],\n",
       " [6, 5, 1],\n",
       " [8, 20, 1],\n",
       " [10, 1, 1],\n",
       " [12, 21, 1],\n",
       " [14, 4, 1],\n",
       " [16, 20, 1],\n",
       " [18, 18, 1],\n",
       " [20, 26, 1],\n",
       " [22, 10, 1],\n",
       " [24, 24, 1],\n",
       " [26, 19, 1],\n",
       " [28, 1, 1],\n",
       " [30, 7, 1],\n",
       " [1, 3, 0],\n",
       " [3, 28, 0],\n",
       " [5, 16, 0],\n",
       " [7, 19, 0],\n",
       " [9, 6, 0],\n",
       " [11, 0, 0],\n",
       " [13, 25, 0],\n",
       " [15, 26, 0],\n",
       " [17, 20, 0],\n",
       " [19, 6, 0],\n",
       " [21, 24, 0],\n",
       " [23, 27, 0],\n",
       " [25, 24, 0],\n",
       " [27, 23, 0],\n",
       " [29, 23, 0]]"
      ]
     },
     "execution_count": 24,
     "metadata": {},
     "output_type": "execute_result"
    }
   ],
   "source": [
    "siamese_test_dataset.test_pairs"
   ]
  }
 ],
 "metadata": {
  "kernelspec": {
   "display_name": "torch",
   "language": "python",
   "name": "torch"
  },
  "language_info": {
   "codemirror_mode": {
    "name": "ipython",
    "version": 3
   },
   "file_extension": ".py",
   "mimetype": "text/x-python",
   "name": "python",
   "nbconvert_exporter": "python",
   "pygments_lexer": "ipython3",
   "version": "3.7.3"
  }
 },
 "nbformat": 4,
 "nbformat_minor": 2
}
