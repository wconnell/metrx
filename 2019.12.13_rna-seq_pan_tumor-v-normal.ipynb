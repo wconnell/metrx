{
 "cells": [
  {
   "cell_type": "code",
   "execution_count": 1,
   "metadata": {},
   "outputs": [],
   "source": [
    "import numpy as np\n",
    "import pandas as pd\n",
    "\n",
    "# viz\n",
    "import matplotlib.pyplot as plt\n",
    "\n",
    "# notebook settings\n",
    "from IPython.core.interactiveshell import InteractiveShell\n",
    "InteractiveShell.ast_node_interactivity = \"all\"\n",
    "\n",
    "pd.set_option('display.max_columns', 1000)"
   ]
  },
  {
   "cell_type": "markdown",
   "metadata": {},
   "source": [
    "## Sample Prep"
   ]
  },
  {
   "cell_type": "code",
   "execution_count": 2,
   "metadata": {},
   "outputs": [
    {
     "data": {
      "text/html": [
       "<div>\n",
       "<style scoped>\n",
       "    .dataframe tbody tr th:only-of-type {\n",
       "        vertical-align: middle;\n",
       "    }\n",
       "\n",
       "    .dataframe tbody tr th {\n",
       "        vertical-align: top;\n",
       "    }\n",
       "\n",
       "    .dataframe thead th {\n",
       "        text-align: right;\n",
       "    }\n",
       "</style>\n",
       "<table border=\"1\" class=\"dataframe\">\n",
       "  <thead>\n",
       "    <tr style=\"text-align: right;\">\n",
       "      <th></th>\n",
       "      <th>File ID</th>\n",
       "      <th>File Name</th>\n",
       "      <th>Data Category</th>\n",
       "      <th>Data Type</th>\n",
       "      <th>Project ID</th>\n",
       "      <th>Case ID</th>\n",
       "      <th>Sample ID</th>\n",
       "      <th>Sample Type</th>\n",
       "      <th>data</th>\n",
       "    </tr>\n",
       "  </thead>\n",
       "  <tbody>\n",
       "    <tr>\n",
       "      <th>0</th>\n",
       "      <td>754774dd-77e1-4cf5-b9b5-3afad9f41410</td>\n",
       "      <td>999edb9e-8a45-4115-84d5-fca75dcfa639.FPKM.txt.gz</td>\n",
       "      <td>Transcriptome Profiling</td>\n",
       "      <td>Gene Expression Quantification</td>\n",
       "      <td>TCGA-BRCA</td>\n",
       "      <td>TCGA-E2-A1IG</td>\n",
       "      <td>TCGA-E2-A1IG-01A</td>\n",
       "      <td>Primary Tumor</td>\n",
       "      <td>FPKM</td>\n",
       "    </tr>\n",
       "    <tr>\n",
       "      <th>1</th>\n",
       "      <td>8bf102b9-baf7-4749-bcd0-eca25f600722</td>\n",
       "      <td>23393a6a-bfbc-4dec-9ab5-e78a487a095f.FPKM.txt.gz</td>\n",
       "      <td>Transcriptome Profiling</td>\n",
       "      <td>Gene Expression Quantification</td>\n",
       "      <td>TCGA-BRCA</td>\n",
       "      <td>TCGA-EW-A1J5</td>\n",
       "      <td>TCGA-EW-A1J5-01A</td>\n",
       "      <td>Primary Tumor</td>\n",
       "      <td>FPKM</td>\n",
       "    </tr>\n",
       "    <tr>\n",
       "      <th>2</th>\n",
       "      <td>5bf7609e-68cb-4ddb-8f05-ee1d4f92cf9b</td>\n",
       "      <td>4a9bb3fd-4e75-4585-82f7-7254889b9838.FPKM.txt.gz</td>\n",
       "      <td>Transcriptome Profiling</td>\n",
       "      <td>Gene Expression Quantification</td>\n",
       "      <td>TCGA-BRCA</td>\n",
       "      <td>TCGA-AR-A1AU</td>\n",
       "      <td>TCGA-AR-A1AU-01A</td>\n",
       "      <td>Primary Tumor</td>\n",
       "      <td>FPKM</td>\n",
       "    </tr>\n",
       "    <tr>\n",
       "      <th>3</th>\n",
       "      <td>10a40ceb-080c-4758-97f9-1a262e2639ed</td>\n",
       "      <td>9858d286-1b96-4414-bd09-d73dc6f1c79e.FPKM.txt.gz</td>\n",
       "      <td>Transcriptome Profiling</td>\n",
       "      <td>Gene Expression Quantification</td>\n",
       "      <td>TCGA-LGG</td>\n",
       "      <td>TCGA-DB-A64R</td>\n",
       "      <td>TCGA-DB-A64R-01A</td>\n",
       "      <td>Primary Tumor</td>\n",
       "      <td>FPKM</td>\n",
       "    </tr>\n",
       "    <tr>\n",
       "      <th>4</th>\n",
       "      <td>2600ef39-0bdf-4e10-9fdf-e3dbed7b5383</td>\n",
       "      <td>f7182de7-067e-467b-af88-790ad3e63eec.FPKM.txt.gz</td>\n",
       "      <td>Transcriptome Profiling</td>\n",
       "      <td>Gene Expression Quantification</td>\n",
       "      <td>TCGA-LGG</td>\n",
       "      <td>TCGA-P5-A77X</td>\n",
       "      <td>TCGA-P5-A77X-01A</td>\n",
       "      <td>Primary Tumor</td>\n",
       "      <td>FPKM</td>\n",
       "    </tr>\n",
       "  </tbody>\n",
       "</table>\n",
       "</div>"
      ],
      "text/plain": [
       "                                File ID  \\\n",
       "0  754774dd-77e1-4cf5-b9b5-3afad9f41410   \n",
       "1  8bf102b9-baf7-4749-bcd0-eca25f600722   \n",
       "2  5bf7609e-68cb-4ddb-8f05-ee1d4f92cf9b   \n",
       "3  10a40ceb-080c-4758-97f9-1a262e2639ed   \n",
       "4  2600ef39-0bdf-4e10-9fdf-e3dbed7b5383   \n",
       "\n",
       "                                          File Name            Data Category  \\\n",
       "0  999edb9e-8a45-4115-84d5-fca75dcfa639.FPKM.txt.gz  Transcriptome Profiling   \n",
       "1  23393a6a-bfbc-4dec-9ab5-e78a487a095f.FPKM.txt.gz  Transcriptome Profiling   \n",
       "2  4a9bb3fd-4e75-4585-82f7-7254889b9838.FPKM.txt.gz  Transcriptome Profiling   \n",
       "3  9858d286-1b96-4414-bd09-d73dc6f1c79e.FPKM.txt.gz  Transcriptome Profiling   \n",
       "4  f7182de7-067e-467b-af88-790ad3e63eec.FPKM.txt.gz  Transcriptome Profiling   \n",
       "\n",
       "                        Data Type Project ID       Case ID         Sample ID  \\\n",
       "0  Gene Expression Quantification  TCGA-BRCA  TCGA-E2-A1IG  TCGA-E2-A1IG-01A   \n",
       "1  Gene Expression Quantification  TCGA-BRCA  TCGA-EW-A1J5  TCGA-EW-A1J5-01A   \n",
       "2  Gene Expression Quantification  TCGA-BRCA  TCGA-AR-A1AU  TCGA-AR-A1AU-01A   \n",
       "3  Gene Expression Quantification   TCGA-LGG  TCGA-DB-A64R  TCGA-DB-A64R-01A   \n",
       "4  Gene Expression Quantification   TCGA-LGG  TCGA-P5-A77X  TCGA-P5-A77X-01A   \n",
       "\n",
       "     Sample Type  data  \n",
       "0  Primary Tumor  FPKM  \n",
       "1  Primary Tumor  FPKM  \n",
       "2  Primary Tumor  FPKM  \n",
       "3  Primary Tumor  FPKM  \n",
       "4  Primary Tumor  FPKM  "
      ]
     },
     "execution_count": 2,
     "metadata": {},
     "output_type": "execute_result"
    }
   ],
   "source": [
    "samples = pd.read_csv('../data/TCGA/rna-seq_pan/meta/gdc_sample_sheet.2019-12-12.tsv', sep=\"\\t\")\n",
    "# get file type\n",
    "samples['data'] = [val[1] for i,val in samples['File Name'].str.split(\".\").items()]\n",
    "samples.head()"
   ]
  },
  {
   "cell_type": "markdown",
   "metadata": {},
   "source": [
    "Samples with RNAseq adjacent normal tissue"
   ]
  },
  {
   "cell_type": "code",
   "execution_count": 3,
   "metadata": {},
   "outputs": [
    {
     "data": {
      "text/plain": [
       "FPKM    636\n",
       "Name: data, dtype: int64"
      ]
     },
     "execution_count": 3,
     "metadata": {},
     "output_type": "execute_result"
    }
   ],
   "source": [
    "samples[samples['Sample Type']=='Solid Tissue Normal']['data'].value_counts()"
   ]
  },
  {
   "cell_type": "code",
   "execution_count": 4,
   "metadata": {},
   "outputs": [
    {
     "data": {
      "text/plain": [
       "BRCA    1206\n",
       "LUAD     588\n",
       "UCEC     567\n",
       "KIRC     554\n",
       "LUSC     543\n",
       "LGG      524\n",
       "PRAD     517\n",
       "COAD     506\n",
       "THCA     505\n",
       "SKCM     469\n",
       "BLCA     431\n",
       "LIHC     421\n",
       "STAD     402\n",
       "OV       379\n",
       "KIRP     308\n",
       "CESC     306\n",
       "ESCA     171\n",
       "PAAD     171\n",
       "GBM      166\n",
       "TGCT     150\n",
       "PCPG     133\n",
       "LAML     123\n",
       "KICH      81\n",
       "ACC       75\n",
       "CHOL      41\n",
       "SARC      10\n",
       "DLBC       9\n",
       "READ       7\n",
       "MESO       1\n",
       "Name: project, dtype: int64"
      ]
     },
     "execution_count": 4,
     "metadata": {},
     "output_type": "execute_result"
    }
   ],
   "source": [
    "samples['project'] = [val[1] for i,val in samples['Project ID'].str.split(\"-\").items()]\n",
    "samples['project'].value_counts()"
   ]
  },
  {
   "cell_type": "code",
   "execution_count": 5,
   "metadata": {},
   "outputs": [],
   "source": [
    "# all cases with adjacent normal tissue\n",
    "cases = samples[samples['Sample Type']=='Solid Tissue Normal']['Case ID']"
   ]
  },
  {
   "cell_type": "code",
   "execution_count": 6,
   "metadata": {},
   "outputs": [
    {
     "data": {
      "text/plain": [
       "622"
      ]
     },
     "execution_count": 6,
     "metadata": {},
     "output_type": "execute_result"
    },
    {
     "data": {
      "text/plain": [
       "636"
      ]
     },
     "execution_count": 6,
     "metadata": {},
     "output_type": "execute_result"
    }
   ],
   "source": [
    "# disparity in cases\n",
    "samples[(samples['Case ID'].isin(cases)) & (samples['Sample Type']=='Primary Tumor') & (samples['data']=='FPKM')]['Case ID'].nunique()\n",
    "samples[(samples['Case ID'].isin(cases)) & (samples['Sample Type']=='Solid Tissue Normal') & (samples['data']=='FPKM')]['Case ID'].nunique()"
   ]
  },
  {
   "cell_type": "code",
   "execution_count": 7,
   "metadata": {},
   "outputs": [
    {
     "data": {
      "text/plain": [
       "(622,)"
      ]
     },
     "execution_count": 7,
     "metadata": {},
     "output_type": "execute_result"
    }
   ],
   "source": [
    "# divide, join, subset\n",
    "case_tumor = samples[(samples['Case ID'].isin(cases)) & (samples['Sample Type']=='Primary Tumor') & (samples['data']=='FPKM')]\n",
    "case_norm = samples[(samples['Case ID'].isin(cases)) & (samples['Sample Type']=='Solid Tissue Normal') & (samples['data']=='FPKM')]\n",
    "cases = case_norm[case_norm['Case ID'].isin(case_tumor['Case ID'])]['Case ID']\n",
    "cases.shape"
   ]
  },
  {
   "cell_type": "code",
   "execution_count": 8,
   "metadata": {},
   "outputs": [],
   "source": [
    "case_tumor = case_tumor[case_tumor['Case ID'].isin(cases)]\n",
    "case_norm = case_norm[case_norm['Case ID'].isin(cases)]\n",
    "cases = pd.concat([case_tumor, case_norm])\n",
    "cases['Sample Type'] = cases['Sample Type'].astype('category')"
   ]
  },
  {
   "cell_type": "code",
   "execution_count": 9,
   "metadata": {},
   "outputs": [
    {
     "data": {
      "text/plain": [
       "(646, 10)"
      ]
     },
     "execution_count": 9,
     "metadata": {},
     "output_type": "execute_result"
    },
    {
     "data": {
      "text/plain": [
       "(622, 10)"
      ]
     },
     "execution_count": 9,
     "metadata": {},
     "output_type": "execute_result"
    },
    {
     "data": {
      "text/plain": [
       "(1268, 10)"
      ]
     },
     "execution_count": 9,
     "metadata": {},
     "output_type": "execute_result"
    }
   ],
   "source": [
    "case_tumor.shape\n",
    "case_norm.shape\n",
    "cases.shape"
   ]
  },
  {
   "cell_type": "markdown",
   "metadata": {},
   "source": [
    "## Dataset Prep"
   ]
  },
  {
   "cell_type": "code",
   "execution_count": 10,
   "metadata": {},
   "outputs": [
    {
     "data": {
      "text/plain": [
       "Primary Tumor          509\n",
       "Solid Tissue Normal    442\n",
       "Name: Sample Type, dtype: int64"
      ]
     },
     "execution_count": 10,
     "metadata": {},
     "output_type": "execute_result"
    },
    {
     "data": {
      "text/plain": [
       "Solid Tissue Normal    180\n",
       "Primary Tumor          137\n",
       "Name: Sample Type, dtype: int64"
      ]
     },
     "execution_count": 10,
     "metadata": {},
     "output_type": "execute_result"
    }
   ],
   "source": [
    "from sklearn.model_selection import train_test_split\n",
    "train, test = train_test_split(cases)\n",
    "train['Sample Type'].value_counts()\n",
    "test['Sample Type'].value_counts()"
   ]
  },
  {
   "cell_type": "code",
   "execution_count": 11,
   "metadata": {},
   "outputs": [
    {
     "name": "stdout",
     "output_type": "stream",
     "text": [
      "Cuda is available: True\n"
     ]
    }
   ],
   "source": [
    "import torch\n",
    "from torch.optim import lr_scheduler\n",
    "import torch.optim as optim\n",
    "from torch.autograd import Variable\n",
    "\n",
    "from trainer import fit\n",
    "import visualization as vis\n",
    "import numpy as np\n",
    "cuda = torch.cuda.is_available()\n",
    "print(\"Cuda is available: {}\".format(cuda))\n",
    "\n",
    "colors = ['#1f77b4', '#ff7f0e', '#2ca02c', '#d62728',\n",
    "              '#9467bd', '#8c564b', '#e377c2', '#7f7f7f',\n",
    "              '#bcbd22', '#17becf']\n",
    "classes = train['Sample Type'].cat.categories.values\n"
   ]
  },
  {
   "cell_type": "code",
   "execution_count": 12,
   "metadata": {},
   "outputs": [],
   "source": [
    "from tcga_datasets import TCGA, SiameseTCGA\n",
    "root_dir = \"../data/TCGA/rna-seq_pan/\"\n",
    "batch_size = 1\n",
    "\n",
    "train_dataset = TCGA(root_dir, samples=train, train=True)\n",
    "test_dataset = TCGA(root_dir, samples=test, train=False)\n",
    "\n",
    "kwargs = {'num_workers': 1, 'pin_memory': True} if cuda else {}\n",
    "train_loader = torch.utils.data.DataLoader(train_dataset, batch_size=batch_size, shuffle=True, **kwargs)\n",
    "test_loader = torch.utils.data.DataLoader(test_dataset, batch_size=batch_size, shuffle=False, **kwargs)"
   ]
  },
  {
   "cell_type": "markdown",
   "metadata": {},
   "source": [
    "## Siamese Network"
   ]
  },
  {
   "cell_type": "code",
   "execution_count": 18,
   "metadata": {},
   "outputs": [
    {
     "data": {
      "text/plain": [
       "SiameseNet(\n",
       "  (embedding_net): EmbeddingNet(\n",
       "    (fc): Sequential(\n",
       "      (0): Linear(in_features=60483, out_features=2000, bias=True)\n",
       "      (1): PReLU(num_parameters=1)\n",
       "      (2): Linear(in_features=2000, out_features=500, bias=True)\n",
       "      (3): PReLU(num_parameters=1)\n",
       "      (4): Linear(in_features=500, out_features=250, bias=True)\n",
       "      (5): PReLU(num_parameters=1)\n",
       "      (6): Linear(in_features=250, out_features=100, bias=True)\n",
       "      (7): PReLU(num_parameters=1)\n",
       "      (8): Linear(in_features=100, out_features=50, bias=True)\n",
       "      (9): PReLU(num_parameters=1)\n",
       "      (10): Linear(in_features=50, out_features=10, bias=True)\n",
       "      (11): PReLU(num_parameters=1)\n",
       "      (12): Linear(in_features=10, out_features=2, bias=True)\n",
       "    )\n",
       "  )\n",
       ")"
      ]
     },
     "execution_count": 18,
     "metadata": {},
     "output_type": "execute_result"
    }
   ],
   "source": [
    "# Step 1 set up dataloader\n",
    "root_dir = \"../data/TCGA\"\n",
    "siamese_train_dataset = SiameseTCGA(train_dataset) # Returns pairs of images and target same/different\n",
    "siamese_test_dataset = SiameseTCGA(test_dataset)\n",
    "batch_size = 128\n",
    "kwargs = {'num_workers': 1, 'pin_memory': True} if cuda else {}\n",
    "siamese_train_loader = torch.utils.data.DataLoader(siamese_train_dataset, batch_size=batch_size, shuffle=True, **kwargs)\n",
    "siamese_test_loader = torch.utils.data.DataLoader(siamese_test_dataset, batch_size=batch_size, shuffle=False, **kwargs)\n",
    "\n",
    "# Set up the network and training parameters\n",
    "from tcga_networks import EmbeddingNet, SiameseNet\n",
    "from losses import ContrastiveLoss\n",
    "from metrics import AccumulatedAccuracyMetric\n",
    "\n",
    "# Step 2\n",
    "embedding_net = EmbeddingNet()\n",
    "# Step 3\n",
    "model = SiameseNet(embedding_net)\n",
    "if cuda:\n",
    "    model.cuda()\n",
    "    \n",
    "# Step 4\n",
    "margin = 1.\n",
    "loss_fn = ContrastiveLoss(margin)\n",
    "lr = 1e-3\n",
    "optimizer = optim.Adam(model.parameters(), lr=lr)\n",
    "scheduler = lr_scheduler.StepLR(optimizer, 8, gamma=0.1, last_epoch=-1)\n",
    "n_epochs = 40\n",
    "# print training metrics every log_interval * batch_size\n",
    "log_interval = 4"
   ]
  },
  {
   "cell_type": "code",
   "execution_count": 19,
   "metadata": {},
   "outputs": [
    {
     "name": "stdout",
     "output_type": "stream",
     "text": [
      "Train: [0/951 (0%)]\tLoss: 0.185656\tAccuracy: 47.65625\n",
      "Train: [512/951 (50%)]\tLoss: 3.113949\tAccuracy: 52.03125\n",
      "Epoch: 1/40. Train set: Average loss: 2.5020\tAccuracy: 52.47108307045215\n",
      "Epoch: 1/40. Validation set: Average loss: 0.8891\tAccuracy: 50.1577287066246\n",
      "Train: [0/951 (0%)]\tLoss: 0.963482\tAccuracy: 47.65625\n",
      "Train: [512/951 (50%)]\tLoss: 1.613140\tAccuracy: 51.40625\n",
      "Epoch: 2/40. Train set: Average loss: 1.4253\tAccuracy: 52.05047318611987\n",
      "Epoch: 2/40. Validation set: Average loss: 0.4415\tAccuracy: 50.1577287066246\n",
      "Train: [0/951 (0%)]\tLoss: 0.352740\tAccuracy: 50.78125\n",
      "Train: [512/951 (50%)]\tLoss: 4.416417\tAccuracy: 53.75\n",
      "Epoch: 3/40. Train set: Average loss: 5.1003\tAccuracy: 52.6813880126183\n",
      "Epoch: 3/40. Validation set: Average loss: 0.6771\tAccuracy: 50.78864353312303\n",
      "Train: [0/951 (0%)]\tLoss: 0.566928\tAccuracy: 51.5625\n",
      "Train: [512/951 (50%)]\tLoss: 0.952139\tAccuracy: 46.5625\n",
      "Epoch: 4/40. Train set: Average loss: 0.8183\tAccuracy: 48.58044164037855\n",
      "Epoch: 4/40. Validation set: Average loss: 0.3920\tAccuracy: 49.8422712933754\n",
      "Train: [0/951 (0%)]\tLoss: 0.343928\tAccuracy: 50.0\n",
      "Train: [512/951 (50%)]\tLoss: 3.317303\tAccuracy: 50.46875\n",
      "Epoch: 5/40. Train set: Average loss: 2.2709\tAccuracy: 51.41955835962145\n",
      "Epoch: 5/40. Validation set: Average loss: 0.3059\tAccuracy: 49.8422712933754\n",
      "Train: [0/951 (0%)]\tLoss: 0.235452\tAccuracy: 53.125\n",
      "Train: [512/951 (50%)]\tLoss: 1.100793\tAccuracy: 47.1875\n",
      "Epoch: 6/40. Train set: Average loss: 1.0011\tAccuracy: 47.52891692954785\n",
      "Epoch: 6/40. Validation set: Average loss: 0.7877\tAccuracy: 49.8422712933754\n",
      "Train: [0/951 (0%)]\tLoss: 0.899436\tAccuracy: 50.78125\n",
      "Train: [512/951 (50%)]\tLoss: 1.382999\tAccuracy: 49.0625\n",
      "Epoch: 7/40. Train set: Average loss: 1.0200\tAccuracy: 50.8937960042061\n",
      "Epoch: 7/40. Validation set: Average loss: 0.4748\tAccuracy: 50.1577287066246\n",
      "Train: [0/951 (0%)]\tLoss: 0.545585\tAccuracy: 51.5625\n",
      "Train: [512/951 (50%)]\tLoss: 1.034009\tAccuracy: 52.1875\n",
      "Epoch: 8/40. Train set: Average loss: 0.7072\tAccuracy: 52.786540483701366\n",
      "Epoch: 8/40. Validation set: Average loss: 0.2542\tAccuracy: 49.8422712933754\n",
      "Train: [0/951 (0%)]\tLoss: 0.204727\tAccuracy: 52.34375\n",
      "Train: [512/951 (50%)]\tLoss: 0.394094\tAccuracy: 45.625\n",
      "Epoch: 9/40. Train set: Average loss: 0.4143\tAccuracy: 46.056782334384856\n",
      "Epoch: 9/40. Validation set: Average loss: 0.1991\tAccuracy: 50.1577287066246\n",
      "Train: [0/951 (0%)]\tLoss: 0.264317\tAccuracy: 51.5625\n",
      "Train: [512/951 (50%)]\tLoss: 0.214400\tAccuracy: 54.0625\n",
      "Epoch: 10/40. Train set: Average loss: 0.2162\tAccuracy: 53.52260778128286\n",
      "Epoch: 10/40. Validation set: Average loss: 0.1698\tAccuracy: 50.1577287066246\n",
      "Train: [0/951 (0%)]\tLoss: 0.160785\tAccuracy: 45.3125\n",
      "Train: [512/951 (50%)]\tLoss: 0.162031\tAccuracy: 52.1875\n",
      "Epoch: 11/40. Train set: Average loss: 0.1594\tAccuracy: 52.15562565720295\n",
      "Epoch: 11/40. Validation set: Average loss: 0.1762\tAccuracy: 50.1577287066246\n",
      "Train: [0/951 (0%)]\tLoss: 0.186131\tAccuracy: 46.09375\n",
      "Train: [512/951 (50%)]\tLoss: 0.139904\tAccuracy: 51.25\n",
      "Epoch: 12/40. Train set: Average loss: 0.1515\tAccuracy: 51.20925341745531\n",
      "Epoch: 12/40. Validation set: Average loss: 0.1770\tAccuracy: 50.1577287066246\n",
      "Train: [0/951 (0%)]\tLoss: 0.163818\tAccuracy: 45.3125\n",
      "Train: [512/951 (50%)]\tLoss: 0.140214\tAccuracy: 50.9375\n",
      "Epoch: 13/40. Train set: Average loss: 0.1444\tAccuracy: 51.629863301787594\n",
      "Epoch: 13/40. Validation set: Average loss: 0.1700\tAccuracy: 50.1577287066246\n",
      "Train: [0/951 (0%)]\tLoss: 0.133504\tAccuracy: 50.0\n",
      "Train: [512/951 (50%)]\tLoss: 0.127649\tAccuracy: 53.125\n",
      "Epoch: 14/40. Train set: Average loss: 0.1279\tAccuracy: 53.20715036803365\n",
      "Epoch: 14/40. Validation set: Average loss: 0.1600\tAccuracy: 50.1577287066246\n",
      "Train: [0/951 (0%)]\tLoss: 0.150133\tAccuracy: 46.875\n",
      "Train: [512/951 (50%)]\tLoss: 0.118795\tAccuracy: 53.28125\n",
      "Epoch: 15/40. Train set: Average loss: 0.1291\tAccuracy: 52.576235541535226\n",
      "Epoch: 15/40. Validation set: Average loss: 0.1519\tAccuracy: 50.1577287066246\n",
      "Train: [0/951 (0%)]\tLoss: 0.125545\tAccuracy: 48.4375\n",
      "Train: [512/951 (50%)]\tLoss: 0.131719\tAccuracy: 54.0625\n",
      "Epoch: 16/40. Train set: Average loss: 0.1294\tAccuracy: 53.52260778128286\n",
      "Epoch: 16/40. Validation set: Average loss: 0.1499\tAccuracy: 50.1577287066246\n",
      "Train: [0/951 (0%)]\tLoss: 0.108180\tAccuracy: 47.65625\n",
      "Train: [512/951 (50%)]\tLoss: 0.119073\tAccuracy: 50.625\n",
      "Epoch: 17/40. Train set: Average loss: 0.1191\tAccuracy: 51.20925341745531\n",
      "Epoch: 17/40. Validation set: Average loss: 0.1494\tAccuracy: 50.1577287066246\n",
      "Train: [0/951 (0%)]\tLoss: 0.124956\tAccuracy: 49.21875\n",
      "Train: [512/951 (50%)]\tLoss: 0.116804\tAccuracy: 53.4375\n",
      "Epoch: 18/40. Train set: Average loss: 0.1176\tAccuracy: 52.47108307045215\n",
      "Epoch: 18/40. Validation set: Average loss: 0.1487\tAccuracy: 50.1577287066246\n",
      "Train: [0/951 (0%)]\tLoss: 0.123001\tAccuracy: 43.75\n",
      "Train: [512/951 (50%)]\tLoss: 0.123267\tAccuracy: 52.34375\n",
      "Epoch: 19/40. Train set: Average loss: 0.1239\tAccuracy: 52.786540483701366\n",
      "Epoch: 19/40. Validation set: Average loss: 0.1481\tAccuracy: 50.1577287066246\n",
      "Train: [0/951 (0%)]\tLoss: 0.121851\tAccuracy: 46.875\n",
      "Train: [512/951 (50%)]\tLoss: 0.113679\tAccuracy: 52.8125\n",
      "Epoch: 20/40. Train set: Average loss: 0.1187\tAccuracy: 52.6813880126183\n",
      "Epoch: 20/40. Validation set: Average loss: 0.1475\tAccuracy: 50.1577287066246\n",
      "Train: [0/951 (0%)]\tLoss: 0.116491\tAccuracy: 45.3125\n",
      "Train: [512/951 (50%)]\tLoss: 0.111996\tAccuracy: 50.0\n",
      "Epoch: 21/40. Train set: Average loss: 0.1159\tAccuracy: 50.8937960042061\n",
      "Epoch: 21/40. Validation set: Average loss: 0.1469\tAccuracy: 50.1577287066246\n",
      "Train: [0/951 (0%)]\tLoss: 0.119806\tAccuracy: 46.09375\n",
      "Train: [512/951 (50%)]\tLoss: 0.116970\tAccuracy: 52.5\n",
      "Epoch: 22/40. Train set: Average loss: 0.1188\tAccuracy: 52.576235541535226\n",
      "Epoch: 22/40. Validation set: Average loss: 0.1462\tAccuracy: 50.1577287066246\n",
      "Train: [0/951 (0%)]\tLoss: 0.119350\tAccuracy: 42.96875\n",
      "Train: [512/951 (50%)]\tLoss: 0.117193\tAccuracy: 51.875\n",
      "Epoch: 23/40. Train set: Average loss: 0.1201\tAccuracy: 52.15562565720295\n",
      "Epoch: 23/40. Validation set: Average loss: 0.1456\tAccuracy: 50.1577287066246\n",
      "Train: [0/951 (0%)]\tLoss: 0.114740\tAccuracy: 50.0\n",
      "Train: [512/951 (50%)]\tLoss: 0.112244\tAccuracy: 55.46875\n",
      "Epoch: 24/40. Train set: Average loss: 0.1148\tAccuracy: 55.62565720294427\n",
      "Epoch: 24/40. Validation set: Average loss: 0.1451\tAccuracy: 50.1577287066246\n",
      "Train: [0/951 (0%)]\tLoss: 0.115863\tAccuracy: 50.0\n",
      "Train: [512/951 (50%)]\tLoss: 0.117785\tAccuracy: 52.5\n",
      "Epoch: 25/40. Train set: Average loss: 0.1236\tAccuracy: 52.47108307045215\n",
      "Epoch: 25/40. Validation set: Average loss: 0.1451\tAccuracy: 50.1577287066246\n",
      "Train: [0/951 (0%)]\tLoss: 0.123296\tAccuracy: 48.4375\n",
      "Train: [512/951 (50%)]\tLoss: 0.120948\tAccuracy: 52.1875\n",
      "Epoch: 26/40. Train set: Average loss: 0.1177\tAccuracy: 52.15562565720295\n",
      "Epoch: 26/40. Validation set: Average loss: 0.1450\tAccuracy: 50.1577287066246\n",
      "Train: [0/951 (0%)]\tLoss: 0.108393\tAccuracy: 50.78125\n",
      "Train: [512/951 (50%)]\tLoss: 0.115677\tAccuracy: 52.34375\n",
      "Epoch: 27/40. Train set: Average loss: 0.1155\tAccuracy: 52.26077812828601\n",
      "Epoch: 27/40. Validation set: Average loss: 0.1450\tAccuracy: 50.1577287066246\n",
      "Train: [0/951 (0%)]\tLoss: 0.131620\tAccuracy: 48.4375\n",
      "Train: [512/951 (50%)]\tLoss: 0.113361\tAccuracy: 52.03125\n",
      "Epoch: 28/40. Train set: Average loss: 0.1174\tAccuracy: 52.26077812828601\n",
      "Epoch: 28/40. Validation set: Average loss: 0.1449\tAccuracy: 50.1577287066246\n",
      "Train: [0/951 (0%)]\tLoss: 0.101366\tAccuracy: 47.65625\n",
      "Train: [512/951 (50%)]\tLoss: 0.111993\tAccuracy: 53.90625\n",
      "Epoch: 29/40. Train set: Average loss: 0.1140\tAccuracy: 53.31230283911672\n",
      "Epoch: 29/40. Validation set: Average loss: 0.1449\tAccuracy: 50.1577287066246\n",
      "Train: [0/951 (0%)]\tLoss: 0.122505\tAccuracy: 50.78125\n",
      "Train: [512/951 (50%)]\tLoss: 0.111538\tAccuracy: 52.8125\n",
      "Epoch: 30/40. Train set: Average loss: 0.1142\tAccuracy: 52.47108307045215\n",
      "Epoch: 30/40. Validation set: Average loss: 0.1448\tAccuracy: 50.1577287066246\n",
      "Train: [0/951 (0%)]\tLoss: 0.133361\tAccuracy: 42.96875\n",
      "Train: [512/951 (50%)]\tLoss: 0.117886\tAccuracy: 55.3125\n",
      "Epoch: 31/40. Train set: Average loss: 0.1207\tAccuracy: 54.36382754994742\n",
      "Epoch: 31/40. Validation set: Average loss: 0.1447\tAccuracy: 50.1577287066246\n",
      "Train: [0/951 (0%)]\tLoss: 0.111133\tAccuracy: 48.4375\n",
      "Train: [512/951 (50%)]\tLoss: 0.113981\tAccuracy: 51.875\n",
      "Epoch: 32/40. Train set: Average loss: 0.1146\tAccuracy: 51.840168243953734\n",
      "Epoch: 32/40. Validation set: Average loss: 0.1447\tAccuracy: 50.1577287066246\n",
      "Train: [0/951 (0%)]\tLoss: 0.119881\tAccuracy: 46.875\n",
      "Train: [512/951 (50%)]\tLoss: 0.115508\tAccuracy: 52.34375\n",
      "Epoch: 33/40. Train set: Average loss: 0.1196\tAccuracy: 52.576235541535226\n",
      "Epoch: 33/40. Validation set: Average loss: 0.1447\tAccuracy: 50.1577287066246\n",
      "Train: [0/951 (0%)]\tLoss: 0.118446\tAccuracy: 48.4375\n",
      "Train: [512/951 (50%)]\tLoss: 0.114839\tAccuracy: 51.71875\n",
      "Epoch: 34/40. Train set: Average loss: 0.1164\tAccuracy: 52.05047318611987\n",
      "Epoch: 34/40. Validation set: Average loss: 0.1447\tAccuracy: 50.1577287066246\n",
      "Train: [0/951 (0%)]\tLoss: 0.121500\tAccuracy: 49.21875\n",
      "Train: [512/951 (50%)]\tLoss: 0.112786\tAccuracy: 53.4375\n",
      "Epoch: 35/40. Train set: Average loss: 0.1198\tAccuracy: 53.732912723449004\n",
      "Epoch: 35/40. Validation set: Average loss: 0.1447\tAccuracy: 50.1577287066246\n",
      "Train: [0/951 (0%)]\tLoss: 0.126291\tAccuracy: 50.0\n",
      "Train: [512/951 (50%)]\tLoss: 0.111477\tAccuracy: 51.875\n",
      "Epoch: 36/40. Train set: Average loss: 0.1159\tAccuracy: 52.47108307045215\n",
      "Epoch: 36/40. Validation set: Average loss: 0.1447\tAccuracy: 50.1577287066246\n",
      "Train: [0/951 (0%)]\tLoss: 0.115212\tAccuracy: 47.65625\n",
      "Train: [512/951 (50%)]\tLoss: 0.115111\tAccuracy: 53.4375\n",
      "Epoch: 37/40. Train set: Average loss: 0.1136\tAccuracy: 52.576235541535226\n",
      "Epoch: 37/40. Validation set: Average loss: 0.1447\tAccuracy: 50.1577287066246\n",
      "Train: [0/951 (0%)]\tLoss: 0.116418\tAccuracy: 51.5625\n",
      "Train: [512/951 (50%)]\tLoss: 0.117088\tAccuracy: 54.84375\n",
      "Epoch: 38/40. Train set: Average loss: 0.1174\tAccuracy: 54.679284963196636\n",
      "Epoch: 38/40. Validation set: Average loss: 0.1446\tAccuracy: 50.1577287066246\n",
      "Train: [0/951 (0%)]\tLoss: 0.134701\tAccuracy: 46.875\n",
      "Train: [512/951 (50%)]\tLoss: 0.114711\tAccuracy: 51.25\n",
      "Epoch: 39/40. Train set: Average loss: 0.1197\tAccuracy: 51.73501577287066\n",
      "Epoch: 39/40. Validation set: Average loss: 0.1446\tAccuracy: 50.1577287066246\n",
      "Train: [0/951 (0%)]\tLoss: 0.122734\tAccuracy: 46.09375\n",
      "Train: [512/951 (50%)]\tLoss: 0.107395\tAccuracy: 51.40625\n",
      "Epoch: 40/40. Train set: Average loss: 0.1127\tAccuracy: 51.629863301787594\n",
      "Epoch: 40/40. Validation set: Average loss: 0.1446\tAccuracy: 50.1577287066246\n"
     ]
    }
   ],
   "source": [
    "train_loss, val_loss = fit(siamese_train_loader, siamese_test_loader, model, loss_fn, optimizer, scheduler, \n",
    "    n_epochs, cuda, log_interval, metrics=[AccumulatedAccuracyMetric()])"
   ]
  },
  {
   "cell_type": "code",
   "execution_count": 20,
   "metadata": {},
   "outputs": [
    {
     "data": {
      "text/plain": [
       "[<matplotlib.lines.Line2D at 0x7fd22fa8ec50>]"
      ]
     },
     "execution_count": 20,
     "metadata": {},
     "output_type": "execute_result"
    },
    {
     "data": {
      "text/plain": [
       "[<matplotlib.lines.Line2D at 0x7fd2132e92e8>]"
      ]
     },
     "execution_count": 20,
     "metadata": {},
     "output_type": "execute_result"
    },
    {
     "data": {
      "image/png": "[encoded data removed]",
      "text/plain": [
       "<Figure size 432x288 with 1 Axes>"
      ]
     },
     "metadata": {
      "needs_background": "light"
     },
     "output_type": "display_data"
    }
   ],
   "source": [
    "plt.plot(range(0, n_epochs), train_loss, 'rx-')\n",
    "plt.plot(range(0, n_epochs), val_loss, 'bx-')"
   ]
  },
  {
   "cell_type": "code",
   "execution_count": 21,
   "metadata": {},
   "outputs": [
    {
     "data": {
      "image/png": "[encoded data removed]",
      "text/plain": [
       "<Figure size 720x720 with 1 Axes>"
      ]
     },
     "metadata": {
      "needs_background": "light"
     },
     "output_type": "display_data"
    }
   ],
   "source": [
    "train_embeddings_cl, train_labels_cl = vis.extract_embeddings(train_loader, model)\n",
    "vis.plot_embeddings(train_embeddings_cl, train_labels_cl, classes)"
   ]
  },
  {
   "cell_type": "code",
   "execution_count": 22,
   "metadata": {},
   "outputs": [
    {
     "data": {
      "image/png": "[encoded data removed]",
      "text/plain": [
       "<Figure size 720x720 with 1 Axes>"
      ]
     },
     "metadata": {
      "needs_background": "light"
     },
     "output_type": "display_data"
    }
   ],
   "source": [
    "val_embeddings_baseline, val_labels_baseline = vis.extract_embeddings(test_loader, model)\n",
    "vis.plot_embeddings(val_embeddings_baseline, val_labels_baseline, classes)"
   ]
  },
  {
   "cell_type": "code",
   "execution_count": null,
   "metadata": {},
   "outputs": [],
   "source": []
  }
 ],
 "metadata": {
  "kernelspec": {
   "display_name": "torch",
   "language": "python",
   "name": "torch"
  },
  "language_info": {
   "codemirror_mode": {
    "name": "ipython",
    "version": 3
   },
   "file_extension": ".py",
   "mimetype": "text/x-python",
   "name": "python",
   "nbconvert_exporter": "python",
   "pygments_lexer": "ipython3",
   "version": "3.7.3"
  }
 },
 "nbformat": 4,
 "nbformat_minor": 2
}
