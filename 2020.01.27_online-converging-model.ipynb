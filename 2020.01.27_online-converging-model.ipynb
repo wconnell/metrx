{
 "cells": [
  {
   "cell_type": "code",
   "execution_count": 1,
   "metadata": {},
   "outputs": [],
   "source": [
    "import numpy as np\n",
    "import pandas as pd\n",
    "np.random.seed(123)\n",
    "\n",
    "# viz\n",
    "import matplotlib.pyplot as plt\n",
    "\n",
    "# notebook settings\n",
    "from IPython.core.interactiveshell import InteractiveShell\n",
    "InteractiveShell.ast_node_interactivity = \"all\"\n",
    "\n",
    "pd.set_option('display.max_columns', 1000)"
   ]
  },
  {
   "cell_type": "markdown",
   "metadata": {},
   "source": [
    "## Sample Prep"
   ]
  },
  {
   "cell_type": "code",
   "execution_count": 2,
   "metadata": {},
   "outputs": [
    {
     "data": {
      "text/html": [
       "<div>\n",
       "<style scoped>\n",
       "    .dataframe tbody tr th:only-of-type {\n",
       "        vertical-align: middle;\n",
       "    }\n",
       "\n",
       "    .dataframe tbody tr th {\n",
       "        vertical-align: top;\n",
       "    }\n",
       "\n",
       "    .dataframe thead th {\n",
       "        text-align: right;\n",
       "    }\n",
       "</style>\n",
       "<table border=\"1\" class=\"dataframe\">\n",
       "  <thead>\n",
       "    <tr style=\"text-align: right;\">\n",
       "      <th></th>\n",
       "      <th>File ID</th>\n",
       "      <th>File Name</th>\n",
       "      <th>Data Category</th>\n",
       "      <th>Data Type</th>\n",
       "      <th>Project ID</th>\n",
       "      <th>Case ID</th>\n",
       "      <th>Sample ID</th>\n",
       "      <th>Sample Type</th>\n",
       "      <th>data</th>\n",
       "    </tr>\n",
       "  </thead>\n",
       "  <tbody>\n",
       "    <tr>\n",
       "      <th>0</th>\n",
       "      <td>754774dd-77e1-4cf5-b9b5-3afad9f41410</td>\n",
       "      <td>999edb9e-8a45-4115-84d5-fca75dcfa639.FPKM.txt.gz</td>\n",
       "      <td>Transcriptome Profiling</td>\n",
       "      <td>Gene Expression Quantification</td>\n",
       "      <td>TCGA-BRCA</td>\n",
       "      <td>TCGA-E2-A1IG</td>\n",
       "      <td>TCGA-E2-A1IG-01A</td>\n",
       "      <td>Primary Tumor</td>\n",
       "      <td>FPKM</td>\n",
       "    </tr>\n",
       "    <tr>\n",
       "      <th>1</th>\n",
       "      <td>8bf102b9-baf7-4749-bcd0-eca25f600722</td>\n",
       "      <td>23393a6a-bfbc-4dec-9ab5-e78a487a095f.FPKM.txt.gz</td>\n",
       "      <td>Transcriptome Profiling</td>\n",
       "      <td>Gene Expression Quantification</td>\n",
       "      <td>TCGA-BRCA</td>\n",
       "      <td>TCGA-EW-A1J5</td>\n",
       "      <td>TCGA-EW-A1J5-01A</td>\n",
       "      <td>Primary Tumor</td>\n",
       "      <td>FPKM</td>\n",
       "    </tr>\n",
       "    <tr>\n",
       "      <th>2</th>\n",
       "      <td>5bf7609e-68cb-4ddb-8f05-ee1d4f92cf9b</td>\n",
       "      <td>4a9bb3fd-4e75-4585-82f7-7254889b9838.FPKM.txt.gz</td>\n",
       "      <td>Transcriptome Profiling</td>\n",
       "      <td>Gene Expression Quantification</td>\n",
       "      <td>TCGA-BRCA</td>\n",
       "      <td>TCGA-AR-A1AU</td>\n",
       "      <td>TCGA-AR-A1AU-01A</td>\n",
       "      <td>Primary Tumor</td>\n",
       "      <td>FPKM</td>\n",
       "    </tr>\n",
       "    <tr>\n",
       "      <th>3</th>\n",
       "      <td>10a40ceb-080c-4758-97f9-1a262e2639ed</td>\n",
       "      <td>9858d286-1b96-4414-bd09-d73dc6f1c79e.FPKM.txt.gz</td>\n",
       "      <td>Transcriptome Profiling</td>\n",
       "      <td>Gene Expression Quantification</td>\n",
       "      <td>TCGA-LGG</td>\n",
       "      <td>TCGA-DB-A64R</td>\n",
       "      <td>TCGA-DB-A64R-01A</td>\n",
       "      <td>Primary Tumor</td>\n",
       "      <td>FPKM</td>\n",
       "    </tr>\n",
       "    <tr>\n",
       "      <th>4</th>\n",
       "      <td>2600ef39-0bdf-4e10-9fdf-e3dbed7b5383</td>\n",
       "      <td>f7182de7-067e-467b-af88-790ad3e63eec.FPKM.txt.gz</td>\n",
       "      <td>Transcriptome Profiling</td>\n",
       "      <td>Gene Expression Quantification</td>\n",
       "      <td>TCGA-LGG</td>\n",
       "      <td>TCGA-P5-A77X</td>\n",
       "      <td>TCGA-P5-A77X-01A</td>\n",
       "      <td>Primary Tumor</td>\n",
       "      <td>FPKM</td>\n",
       "    </tr>\n",
       "  </tbody>\n",
       "</table>\n",
       "</div>"
      ],
      "text/plain": [
       "                                File ID  \\\n",
       "0  754774dd-77e1-4cf5-b9b5-3afad9f41410   \n",
       "1  8bf102b9-baf7-4749-bcd0-eca25f600722   \n",
       "2  5bf7609e-68cb-4ddb-8f05-ee1d4f92cf9b   \n",
       "3  10a40ceb-080c-4758-97f9-1a262e2639ed   \n",
       "4  2600ef39-0bdf-4e10-9fdf-e3dbed7b5383   \n",
       "\n",
       "                                          File Name            Data Category  \\\n",
       "0  999edb9e-8a45-4115-84d5-fca75dcfa639.FPKM.txt.gz  Transcriptome Profiling   \n",
       "1  23393a6a-bfbc-4dec-9ab5-e78a487a095f.FPKM.txt.gz  Transcriptome Profiling   \n",
       "2  4a9bb3fd-4e75-4585-82f7-7254889b9838.FPKM.txt.gz  Transcriptome Profiling   \n",
       "3  9858d286-1b96-4414-bd09-d73dc6f1c79e.FPKM.txt.gz  Transcriptome Profiling   \n",
       "4  f7182de7-067e-467b-af88-790ad3e63eec.FPKM.txt.gz  Transcriptome Profiling   \n",
       "\n",
       "                        Data Type Project ID       Case ID         Sample ID  \\\n",
       "0  Gene Expression Quantification  TCGA-BRCA  TCGA-E2-A1IG  TCGA-E2-A1IG-01A   \n",
       "1  Gene Expression Quantification  TCGA-BRCA  TCGA-EW-A1J5  TCGA-EW-A1J5-01A   \n",
       "2  Gene Expression Quantification  TCGA-BRCA  TCGA-AR-A1AU  TCGA-AR-A1AU-01A   \n",
       "3  Gene Expression Quantification   TCGA-LGG  TCGA-DB-A64R  TCGA-DB-A64R-01A   \n",
       "4  Gene Expression Quantification   TCGA-LGG  TCGA-P5-A77X  TCGA-P5-A77X-01A   \n",
       "\n",
       "     Sample Type  data  \n",
       "0  Primary Tumor  FPKM  \n",
       "1  Primary Tumor  FPKM  \n",
       "2  Primary Tumor  FPKM  \n",
       "3  Primary Tumor  FPKM  \n",
       "4  Primary Tumor  FPKM  "
      ]
     },
     "execution_count": 2,
     "metadata": {},
     "output_type": "execute_result"
    }
   ],
   "source": [
    "samples = pd.read_csv('../data/TCGA/rna-seq_pan/meta/gdc_sample_sheet.2019-12-12.tsv', sep=\"\\t\")\n",
    "# get file type\n",
    "samples['data'] = [val[1] for i,val in samples['File Name'].str.split(\".\").items()]\n",
    "samples.head()"
   ]
  },
  {
   "cell_type": "markdown",
   "metadata": {},
   "source": [
    "Samples with RNAseq adjacent normal tissue"
   ]
  },
  {
   "cell_type": "code",
   "execution_count": 3,
   "metadata": {},
   "outputs": [
    {
     "data": {
      "text/plain": [
       "FPKM    636\n",
       "Name: data, dtype: int64"
      ]
     },
     "execution_count": 3,
     "metadata": {},
     "output_type": "execute_result"
    }
   ],
   "source": [
    "samples[samples['Sample Type']=='Solid Tissue Normal']['data'].value_counts()"
   ]
  },
  {
   "cell_type": "code",
   "execution_count": 4,
   "metadata": {},
   "outputs": [
    {
     "data": {
      "text/plain": [
       "BRCA    1206\n",
       "LUAD     588\n",
       "UCEC     567\n",
       "KIRC     554\n",
       "LUSC     543\n",
       "LGG      524\n",
       "PRAD     517\n",
       "COAD     506\n",
       "THCA     505\n",
       "SKCM     469\n",
       "BLCA     431\n",
       "LIHC     421\n",
       "STAD     402\n",
       "OV       379\n",
       "KIRP     308\n",
       "CESC     306\n",
       "ESCA     171\n",
       "PAAD     171\n",
       "GBM      166\n",
       "TGCT     150\n",
       "PCPG     133\n",
       "LAML     123\n",
       "KICH      81\n",
       "ACC       75\n",
       "CHOL      41\n",
       "SARC      10\n",
       "DLBC       9\n",
       "READ       7\n",
       "MESO       1\n",
       "Name: project, dtype: int64"
      ]
     },
     "execution_count": 4,
     "metadata": {},
     "output_type": "execute_result"
    }
   ],
   "source": [
    "samples['project'] = [val[1] for i,val in samples['Project ID'].str.split(\"-\").items()]\n",
    "samples['project'].value_counts()"
   ]
  },
  {
   "cell_type": "code",
   "execution_count": 5,
   "metadata": {},
   "outputs": [],
   "source": [
    "# all cases with adjacent normal tissue\n",
    "cases = samples[samples['Sample Type']=='Solid Tissue Normal']['Case ID']"
   ]
  },
  {
   "cell_type": "code",
   "execution_count": 6,
   "metadata": {},
   "outputs": [
    {
     "data": {
      "text/plain": [
       "111"
      ]
     },
     "execution_count": 6,
     "metadata": {},
     "output_type": "execute_result"
    },
    {
     "data": {
      "text/plain": [
       "112"
      ]
     },
     "execution_count": 6,
     "metadata": {},
     "output_type": "execute_result"
    }
   ],
   "source": [
    "# disparity in cases\n",
    "samples[(samples['Case ID'].isin(cases)) & (samples['Sample Type']=='Primary Tumor') \n",
    "        & (samples['data']=='FPKM') & (samples['project']=='BRCA')]['Case ID'].nunique()\n",
    "samples[(samples['Case ID'].isin(cases)) & (samples['Sample Type']=='Solid Tissue Normal') \n",
    "        & (samples['data']=='FPKM') & (samples['project']=='BRCA')]['Case ID'].nunique()"
   ]
  },
  {
   "cell_type": "code",
   "execution_count": 7,
   "metadata": {},
   "outputs": [
    {
     "data": {
      "text/plain": [
       "(111,)"
      ]
     },
     "execution_count": 7,
     "metadata": {},
     "output_type": "execute_result"
    }
   ],
   "source": [
    "# divide, join, subset\n",
    "case_tumor = samples[(samples['Case ID'].isin(cases)) & (samples['Sample Type']=='Primary Tumor') & \n",
    "                     (samples['data']=='FPKM') & (samples['project']=='BRCA')]\n",
    "case_norm = samples[(samples['Case ID'].isin(cases)) & (samples['Sample Type']=='Solid Tissue Normal') & \n",
    "                    (samples['data']=='FPKM') & (samples['project']=='BRCA')]\n",
    "cases = case_norm[case_norm['Case ID'].isin(case_tumor['Case ID'])]['Case ID']\n",
    "cases.shape"
   ]
  },
  {
   "cell_type": "code",
   "execution_count": 8,
   "metadata": {},
   "outputs": [],
   "source": [
    "case_tumor = case_tumor[case_tumor['Case ID'].isin(cases)]\n",
    "case_norm = case_norm[case_norm['Case ID'].isin(cases)]\n",
    "cases = pd.concat([case_tumor, case_norm])"
   ]
  },
  {
   "cell_type": "code",
   "execution_count": 9,
   "metadata": {},
   "outputs": [
    {
     "data": {
      "text/plain": [
       "(116, 10)"
      ]
     },
     "execution_count": 9,
     "metadata": {},
     "output_type": "execute_result"
    },
    {
     "data": {
      "text/plain": [
       "(111, 10)"
      ]
     },
     "execution_count": 9,
     "metadata": {},
     "output_type": "execute_result"
    },
    {
     "data": {
      "text/plain": [
       "(227, 10)"
      ]
     },
     "execution_count": 9,
     "metadata": {},
     "output_type": "execute_result"
    }
   ],
   "source": [
    "case_tumor.shape\n",
    "case_norm.shape\n",
    "cases.shape"
   ]
  },
  {
   "cell_type": "markdown",
   "metadata": {},
   "source": [
    "## Dataset Prep"
   ]
  },
  {
   "cell_type": "code",
   "execution_count": 10,
   "metadata": {},
   "outputs": [
    {
     "data": {
      "text/plain": [
       "Primary Tumor          90\n",
       "Solid Tissue Normal    80\n",
       "Name: Sample Type, dtype: int64"
      ]
     },
     "execution_count": 10,
     "metadata": {},
     "output_type": "execute_result"
    },
    {
     "data": {
      "text/plain": [
       "Solid Tissue Normal    31\n",
       "Primary Tumor          26\n",
       "Name: Sample Type, dtype: int64"
      ]
     },
     "execution_count": 10,
     "metadata": {},
     "output_type": "execute_result"
    }
   ],
   "source": [
    "from sklearn.model_selection import train_test_split\n",
    "from sklearn.preprocessing import StandardScaler\n",
    "\n",
    "target = 'Sample Type'\n",
    "cases[target] = cases[target].astype('category')\n",
    "\n",
    "train, test = train_test_split(cases)\n",
    "train[target].value_counts()\n",
    "test[target].value_counts()"
   ]
  },
  {
   "cell_type": "code",
   "execution_count": 11,
   "metadata": {},
   "outputs": [
    {
     "data": {
      "text/plain": [
       "<torch._C.Generator at 0x7fa262751830>"
      ]
     },
     "execution_count": 11,
     "metadata": {},
     "output_type": "execute_result"
    },
    {
     "name": "stdout",
     "output_type": "stream",
     "text": [
      "Cuda is available: True\n"
     ]
    },
    {
     "data": {
      "text/plain": [
       "{'Primary Tumor': 0, 'Solid Tissue Normal': 1}"
      ]
     },
     "execution_count": 11,
     "metadata": {},
     "output_type": "execute_result"
    }
   ],
   "source": [
    "import torch\n",
    "from torch.optim import lr_scheduler\n",
    "import torch.optim as optim\n",
    "from torch.autograd import Variable\n",
    "torch.manual_seed(123)\n",
    "\n",
    "from trainer import fit\n",
    "import visualization as vis\n",
    "import numpy as np\n",
    "cuda = torch.cuda.is_available()\n",
    "print(\"Cuda is available: {}\".format(cuda))\n",
    "\n",
    "classes = {key:val for val,key in enumerate(train[target].cat.categories.values)}\n",
    "classes"
   ]
  },
  {
   "cell_type": "code",
   "execution_count": 19,
   "metadata": {},
   "outputs": [],
   "source": [
    "from tcga_datasets import TCGA, SiameseTCGA\n",
    "root_dir = \"../data/TCGA/rna-seq_pan/\"\n",
    "batch_size = 1\n",
    "\n",
    "train_dataset = TCGA(root_dir, samples=train, train=True, target=target, norm=False)\n",
    "test_dataset = TCGA(root_dir, samples=test, train=False, target=target, norm=False)\n",
    "\n",
    "scaler = StandardScaler()\n",
    "train_dataset.data = pd.DataFrame(scaler.fit_transform(train_dataset.data),\n",
    "                                  index=train_dataset.data.index,\n",
    "                                  columns=train_dataset.data.columns)\n",
    "test_dataset.data = pd.DataFrame(scaler.transform(test_dataset.data),\n",
    "                                 index=test_dataset.data.index,\n",
    "                                 columns=test_dataset.data.columns)\n",
    "\n",
    "kwargs = {'num_workers': 10, 'pin_memory': True} if cuda else {'num_workers': 10}\n",
    "train_loader = torch.utils.data.DataLoader(train_dataset, batch_size=batch_size, shuffle=True, **kwargs)\n",
    "test_loader = torch.utils.data.DataLoader(test_dataset, batch_size=batch_size, shuffle=False, **kwargs)"
   ]
  },
  {
   "cell_type": "markdown",
   "metadata": {},
   "source": [
    "## Siamese Network - Online Pair Selection"
   ]
  },
  {
   "cell_type": "code",
   "execution_count": 13,
   "metadata": {},
   "outputs": [
    {
     "data": {
      "text/plain": [
       "EmbeddingNet(\n",
       "  (fc): Sequential(\n",
       "    (linear1): Linear(in_features=60483, out_features=2000, bias=True)\n",
       "    (relu1): PReLU(num_parameters=1)\n",
       "    (linear2): Linear(in_features=2000, out_features=500, bias=True)\n",
       "    (relu2): PReLU(num_parameters=1)\n",
       "    (linear3): Linear(in_features=500, out_features=250, bias=True)\n",
       "    (relu3): PReLU(num_parameters=1)\n",
       "    (linear4): Linear(in_features=250, out_features=100, bias=True)\n",
       "    (relu4): PReLU(num_parameters=1)\n",
       "    (linear5): Linear(in_features=100, out_features=50, bias=True)\n",
       "    (relu5): PReLU(num_parameters=1)\n",
       "    (linear6): Linear(in_features=50, out_features=10, bias=True)\n",
       "    (relu6): PReLU(num_parameters=1)\n",
       "    (linear7): Linear(in_features=10, out_features=2, bias=True)\n",
       "  )\n",
       ")"
      ]
     },
     "execution_count": 13,
     "metadata": {},
     "output_type": "execute_result"
    }
   ],
   "source": [
    "from datasets import BalancedBatchSampler\n",
    "\n",
    "# We'll create mini batches by sampling labels that will be present in the mini batch and number of examples from each class\n",
    "train_batch_sampler = BalancedBatchSampler(train_dataset.labels, n_classes=2, n_samples=5)\n",
    "test_batch_sampler = BalancedBatchSampler(test_dataset.labels, n_classes=2, n_samples=5)\n",
    "\n",
    "kwargs = {'num_workers': 1, 'pin_memory': True} if cuda else {}\n",
    "online_train_loader = torch.utils.data.DataLoader(train_dataset, batch_sampler=train_batch_sampler, **kwargs)\n",
    "online_test_loader = torch.utils.data.DataLoader(test_dataset, batch_sampler=test_batch_sampler, **kwargs)\n",
    "\n",
    "# Set up the network and training parameters\n",
    "from tcga_networks import EmbeddingNet\n",
    "from losses import OnlineContrastiveLoss\n",
    "from utils import AllPositivePairSelector, HardNegativePairSelector # Strategies for selecting pairs within a minibatch\n",
    "\n",
    "margin = 1.\n",
    "embedding_net = EmbeddingNet()\n",
    "model = embedding_net\n",
    "if cuda:\n",
    "    model.cuda()\n",
    "loss_fn = OnlineContrastiveLoss(margin, HardNegativePairSelector())\n",
    "lr = 1e-3\n",
    "optimizer = optim.Adam(model.parameters(), lr=lr)\n",
    "scheduler = lr_scheduler.StepLR(optimizer, 8, gamma=0.1, last_epoch=-1)\n",
    "n_epochs = 30\n",
    "log_interval = 5"
   ]
  },
  {
   "cell_type": "code",
   "execution_count": 14,
   "metadata": {},
   "outputs": [
    {
     "name": "stdout",
     "output_type": "stream",
     "text": [
      "Train: [0/170 (0%)]\tLoss: 0.497473\n",
      "Train: [50/170 (29%)]\tLoss: 0.467005\n",
      "Train: [100/170 (59%)]\tLoss: 1.767569\n",
      "Train: [150/170 (88%)]\tLoss: 0.292368\n",
      "Epoch: 1/30. Train set: Average loss: 0.8208\n",
      "Epoch: 1/30. Validation set: Average loss: 2.8440\n",
      "Train: [0/170 (0%)]\tLoss: 0.805073\n",
      "Train: [50/170 (29%)]\tLoss: 17.410845\n",
      "Train: [100/170 (59%)]\tLoss: 0.365374\n",
      "Train: [150/170 (88%)]\tLoss: 0.399632\n",
      "Epoch: 2/30. Train set: Average loss: 5.7303\n",
      "Epoch: 2/30. Validation set: Average loss: 6.9472\n",
      "Train: [0/170 (0%)]\tLoss: 3.696668\n",
      "Train: [50/170 (29%)]\tLoss: 0.669761\n",
      "Train: [100/170 (59%)]\tLoss: 0.553520\n",
      "Train: [150/170 (88%)]\tLoss: 87.283487\n",
      "Epoch: 3/30. Train set: Average loss: 27.8894\n",
      "Epoch: 3/30. Validation set: Average loss: 66.2803\n",
      "Train: [0/170 (0%)]\tLoss: 627.737427\n",
      "Train: [50/170 (29%)]\tLoss: 171.791961\n",
      "Train: [100/170 (59%)]\tLoss: 10.897951\n",
      "Train: [150/170 (88%)]\tLoss: 15.480213\n",
      "Epoch: 4/30. Train set: Average loss: 101.1618\n",
      "Epoch: 4/30. Validation set: Average loss: 19.8289\n",
      "Train: [0/170 (0%)]\tLoss: 127.974075\n",
      "Train: [50/170 (29%)]\tLoss: 19.801814\n",
      "Train: [100/170 (59%)]\tLoss: 4.226472\n",
      "Train: [150/170 (88%)]\tLoss: 246.707526\n",
      "Epoch: 5/30. Train set: Average loss: 92.6033\n",
      "Epoch: 5/30. Validation set: Average loss: 2.5440\n",
      "Train: [0/170 (0%)]\tLoss: 3.224722\n",
      "Train: [50/170 (29%)]\tLoss: 10.647858\n",
      "Train: [100/170 (59%)]\tLoss: 104.098357\n",
      "Train: [150/170 (88%)]\tLoss: 816.194553\n",
      "Epoch: 6/30. Train set: Average loss: 291.1205\n",
      "Epoch: 6/30. Validation set: Average loss: 606.7674\n",
      "Train: [0/170 (0%)]\tLoss: 1.882017\n",
      "Train: [50/170 (29%)]\tLoss: 9701.168912\n",
      "Train: [100/170 (59%)]\tLoss: 7.539517\n",
      "Train: [150/170 (88%)]\tLoss: 16.883308\n",
      "Epoch: 7/30. Train set: Average loss: 3039.3650\n",
      "Epoch: 7/30. Validation set: Average loss: 16.7565\n",
      "Train: [0/170 (0%)]\tLoss: 1.040515\n",
      "Train: [50/170 (29%)]\tLoss: 26.490172\n",
      "Train: [100/170 (59%)]\tLoss: 17.423697\n",
      "Train: [150/170 (88%)]\tLoss: 448.791511\n",
      "Epoch: 8/30. Train set: Average loss: 154.0355\n",
      "Epoch: 8/30. Validation set: Average loss: 204.6042\n",
      "Train: [0/170 (0%)]\tLoss: 5.988177\n",
      "Train: [50/170 (29%)]\tLoss: 681.968295\n",
      "Train: [100/170 (59%)]\tLoss: 2468.466626\n",
      "Train: [150/170 (88%)]\tLoss: 8.263971\n",
      "Epoch: 9/30. Train set: Average loss: 987.4677\n",
      "Epoch: 9/30. Validation set: Average loss: 13.9941\n",
      "Train: [0/170 (0%)]\tLoss: 6.864572\n",
      "Train: [50/170 (29%)]\tLoss: 11.704458\n",
      "Train: [100/170 (59%)]\tLoss: 224.491085\n",
      "Train: [150/170 (88%)]\tLoss: 6.370188\n",
      "Epoch: 10/30. Train set: Average loss: 76.2308\n",
      "Epoch: 10/30. Validation set: Average loss: 22.8929\n",
      "Train: [0/170 (0%)]\tLoss: 59.295544\n",
      "Train: [50/170 (29%)]\tLoss: 6.108388\n",
      "Train: [100/170 (59%)]\tLoss: 57.895190\n",
      "Train: [150/170 (88%)]\tLoss: 4.668511\n",
      "Epoch: 11/30. Train set: Average loss: 25.1660\n",
      "Epoch: 11/30. Validation set: Average loss: 12.3759\n",
      "Train: [0/170 (0%)]\tLoss: 118.897354\n",
      "Train: [50/170 (29%)]\tLoss: 16.481422\n",
      "Train: [100/170 (59%)]\tLoss: 12.387700\n",
      "Train: [150/170 (88%)]\tLoss: 11.463659\n",
      "Epoch: 12/30. Train set: Average loss: 20.0351\n",
      "Epoch: 12/30. Validation set: Average loss: 7.2413\n",
      "Train: [0/170 (0%)]\tLoss: 1.948412\n",
      "Train: [50/170 (29%)]\tLoss: 4.003430\n",
      "Train: [100/170 (59%)]\tLoss: 5.715799\n",
      "Train: [150/170 (88%)]\tLoss: 8.645243\n",
      "Epoch: 13/30. Train set: Average loss: 5.8607\n",
      "Epoch: 13/30. Validation set: Average loss: 5.2863\n",
      "Train: [0/170 (0%)]\tLoss: 4.071321\n",
      "Train: [50/170 (29%)]\tLoss: 2.284898\n",
      "Train: [100/170 (59%)]\tLoss: 2.612668\n",
      "Train: [150/170 (88%)]\tLoss: 2.660590\n",
      "Epoch: 14/30. Train set: Average loss: 2.6164\n",
      "Epoch: 14/30. Validation set: Average loss: 5.7649\n",
      "Train: [0/170 (0%)]\tLoss: 1.233306\n",
      "Train: [50/170 (29%)]\tLoss: 2.277602\n",
      "Train: [100/170 (59%)]\tLoss: 6.781360\n",
      "Train: [150/170 (88%)]\tLoss: 5.607831\n",
      "Epoch: 15/30. Train set: Average loss: 4.6605\n",
      "Epoch: 15/30. Validation set: Average loss: 6.6904\n",
      "Train: [0/170 (0%)]\tLoss: 1.816434\n",
      "Train: [50/170 (29%)]\tLoss: 1.850613\n",
      "Train: [100/170 (59%)]\tLoss: 3.584090\n",
      "Train: [150/170 (88%)]\tLoss: 1.723673\n",
      "Epoch: 16/30. Train set: Average loss: 2.3505\n",
      "Epoch: 16/30. Validation set: Average loss: 5.8521\n",
      "Train: [0/170 (0%)]\tLoss: 18.998266\n",
      "Train: [50/170 (29%)]\tLoss: 0.870536\n",
      "Train: [100/170 (59%)]\tLoss: 1.309133\n",
      "Train: [150/170 (88%)]\tLoss: 3.105199\n",
      "Epoch: 17/30. Train set: Average loss: 2.8389\n",
      "Epoch: 17/30. Validation set: Average loss: 6.1075\n",
      "Train: [0/170 (0%)]\tLoss: 15.764529\n",
      "Train: [50/170 (29%)]\tLoss: 2.488753\n",
      "Train: [100/170 (59%)]\tLoss: 1.348165\n",
      "Train: [150/170 (88%)]\tLoss: 1.799540\n",
      "Epoch: 18/30. Train set: Average loss: 2.7467\n",
      "Epoch: 18/30. Validation set: Average loss: 6.1911\n",
      "Train: [0/170 (0%)]\tLoss: 4.451760\n",
      "Train: [50/170 (29%)]\tLoss: 1.871522\n",
      "Train: [100/170 (59%)]\tLoss: 1.595365\n",
      "Train: [150/170 (88%)]\tLoss: 1.367503\n",
      "Epoch: 19/30. Train set: Average loss: 1.7890\n",
      "Epoch: 19/30. Validation set: Average loss: 6.1456\n",
      "Train: [0/170 (0%)]\tLoss: 13.257934\n",
      "Train: [50/170 (29%)]\tLoss: 1.289428\n",
      "Train: [100/170 (59%)]\tLoss: 5.298282\n",
      "Train: [150/170 (88%)]\tLoss: 1.795835\n",
      "Epoch: 20/30. Train set: Average loss: 3.4485\n",
      "Epoch: 20/30. Validation set: Average loss: 6.0027\n",
      "Train: [0/170 (0%)]\tLoss: 2.666874\n",
      "Train: [50/170 (29%)]\tLoss: 0.964808\n",
      "Train: [100/170 (59%)]\tLoss: 1.725837\n",
      "Train: [150/170 (88%)]\tLoss: 3.722636\n",
      "Epoch: 21/30. Train set: Average loss: 2.1708\n",
      "Epoch: 21/30. Validation set: Average loss: 5.9032\n",
      "Train: [0/170 (0%)]\tLoss: 1.694927\n",
      "Train: [50/170 (29%)]\tLoss: 2.739780\n",
      "Train: [100/170 (59%)]\tLoss: 1.128878\n",
      "Train: [150/170 (88%)]\tLoss: 1.468572\n",
      "Epoch: 22/30. Train set: Average loss: 1.7738\n",
      "Epoch: 22/30. Validation set: Average loss: 6.1426\n",
      "Train: [0/170 (0%)]\tLoss: 1.663629\n",
      "Train: [50/170 (29%)]\tLoss: 3.507690\n",
      "Train: [100/170 (59%)]\tLoss: 2.961932\n",
      "Train: [150/170 (88%)]\tLoss: 1.364692\n",
      "Epoch: 23/30. Train set: Average loss: 2.5522\n",
      "Epoch: 23/30. Validation set: Average loss: 5.0699\n",
      "Train: [0/170 (0%)]\tLoss: 2.785501\n",
      "Train: [50/170 (29%)]\tLoss: 3.805814\n",
      "Train: [100/170 (59%)]\tLoss: 2.004454\n",
      "Train: [150/170 (88%)]\tLoss: 1.877505\n",
      "Epoch: 24/30. Train set: Average loss: 2.5765\n",
      "Epoch: 24/30. Validation set: Average loss: 5.3506\n",
      "Train: [0/170 (0%)]\tLoss: 1.131461\n",
      "Train: [50/170 (29%)]\tLoss: 3.740006\n",
      "Train: [100/170 (59%)]\tLoss: 1.038885\n",
      "Train: [150/170 (88%)]\tLoss: 1.331525\n",
      "Epoch: 25/30. Train set: Average loss: 1.9802\n",
      "Epoch: 25/30. Validation set: Average loss: 6.3879\n",
      "Train: [0/170 (0%)]\tLoss: 2.152468\n",
      "Train: [50/170 (29%)]\tLoss: 3.002426\n",
      "Train: [100/170 (59%)]\tLoss: 1.423993\n",
      "Train: [150/170 (88%)]\tLoss: 2.337689\n",
      "Epoch: 26/30. Train set: Average loss: 2.2483\n",
      "Epoch: 26/30. Validation set: Average loss: 6.0429\n",
      "Train: [0/170 (0%)]\tLoss: 2.489092\n",
      "Train: [50/170 (29%)]\tLoss: 1.574175\n",
      "Train: [100/170 (59%)]\tLoss: 3.489422\n",
      "Train: [150/170 (88%)]\tLoss: 1.649866\n",
      "Epoch: 27/30. Train set: Average loss: 2.2535\n",
      "Epoch: 27/30. Validation set: Average loss: 5.9351\n",
      "Train: [0/170 (0%)]\tLoss: 2.428899\n",
      "Train: [50/170 (29%)]\tLoss: 1.420248\n",
      "Train: [100/170 (59%)]\tLoss: 1.811173\n",
      "Train: [150/170 (88%)]\tLoss: 2.416995\n",
      "Epoch: 28/30. Train set: Average loss: 1.9169\n",
      "Epoch: 28/30. Validation set: Average loss: 6.2864\n",
      "Train: [0/170 (0%)]\tLoss: 3.734677\n",
      "Train: [50/170 (29%)]\tLoss: 2.639903\n",
      "Train: [100/170 (59%)]\tLoss: 0.843573\n",
      "Train: [150/170 (88%)]\tLoss: 1.931641\n",
      "Epoch: 29/30. Train set: Average loss: 1.9256\n",
      "Epoch: 29/30. Validation set: Average loss: 6.4464\n",
      "Train: [0/170 (0%)]\tLoss: 10.123807\n",
      "Train: [50/170 (29%)]\tLoss: 2.287514\n",
      "Train: [100/170 (59%)]\tLoss: 1.701614\n",
      "Train: [150/170 (88%)]\tLoss: 1.857802\n",
      "Epoch: 30/30. Train set: Average loss: 2.4599\n",
      "Epoch: 30/30. Validation set: Average loss: 6.2355\n"
     ]
    }
   ],
   "source": [
    "train_loss, val_loss = fit(online_train_loader, online_test_loader, model, loss_fn, optimizer, scheduler, n_epochs, cuda, log_interval)"
   ]
  },
  {
   "cell_type": "code",
   "execution_count": 15,
   "metadata": {},
   "outputs": [
    {
     "data": {
      "text/plain": [
       "[<matplotlib.lines.Line2D at 0x7fa228f93ef0>]"
      ]
     },
     "execution_count": 15,
     "metadata": {},
     "output_type": "execute_result"
    },
    {
     "data": {
      "text/plain": [
       "[<matplotlib.lines.Line2D at 0x7fa23bdcc390>]"
      ]
     },
     "execution_count": 15,
     "metadata": {},
     "output_type": "execute_result"
    },
    {
     "data": {
      "image/png": "[encoded data removed]",
      "text/plain": [
       "<Figure size 432x288 with 1 Axes>"
      ]
     },
     "metadata": {
      "needs_background": "light"
     },
     "output_type": "display_data"
    }
   ],
   "source": [
    "plt.plot(range(0, n_epochs), train_loss, 'rx-')\n",
    "plt.plot(range(0, n_epochs), val_loss, 'bx-')"
   ]
  },
  {
   "cell_type": "code",
   "execution_count": 20,
   "metadata": {},
   "outputs": [
    {
     "data": {
      "image/png": "[encoded data removed]",
      "text/plain": [
       "<Figure size 720x720 with 1 Axes>"
      ]
     },
     "metadata": {
      "needs_background": "light"
     },
     "output_type": "display_data"
    },
    {
     "data": {
      "image/png": "[encoded data removed]",
      "text/plain": [
       "<Figure size 720x720 with 1 Axes>"
      ]
     },
     "metadata": {
      "needs_background": "light"
     },
     "output_type": "display_data"
    }
   ],
   "source": [
    "train_embeddings_ocl, train_labels_ocl = vis.extract_embeddings(train_loader, model)\n",
    "vis.plot_embeddings(train_embeddings_ocl, train_labels_ocl, train_dataset.labels_dict)\n",
    "val_embeddings_ocl, val_labels_ocl = vis.extract_embeddings(test_loader, model)\n",
    "vis.plot_embeddings(val_embeddings_ocl, val_labels_ocl, test_dataset.labels_dict)"
   ]
  },
  {
   "cell_type": "markdown",
   "metadata": {},
   "source": [
    "## Integrated Gradients\n",
    "Test completeness axiom through comparison of different baselines\n",
    "\n",
    "\"Integrated gradients satisfy an\n",
    "axiom called completeness that the attributions add up to\n",
    "the difference between the output of F at the input x and\n",
    "the baseline x'.\""
   ]
  },
  {
   "cell_type": "code",
   "execution_count": 34,
   "metadata": {},
   "outputs": [],
   "source": [
    "import copy\n",
    "from captum.attr import LayerActivation\n",
    "from captum.attr import IntegratedGradients"
   ]
  },
  {
   "cell_type": "code",
   "execution_count": 35,
   "metadata": {},
   "outputs": [],
   "source": [
    "tmp_model = copy.deepcopy(model)"
   ]
  },
  {
   "cell_type": "code",
   "execution_count": 36,
   "metadata": {},
   "outputs": [
    {
     "data": {
      "text/plain": [
       "EmbeddingNet(\n",
       "  (fc): Sequential(\n",
       "    (linear1): Linear(in_features=60483, out_features=2000, bias=True)\n",
       "    (relu1): PReLU(num_parameters=1)\n",
       "    (linear2): Linear(in_features=2000, out_features=500, bias=True)\n",
       "    (relu2): PReLU(num_parameters=1)\n",
       "    (linear3): Linear(in_features=500, out_features=250, bias=True)\n",
       "    (relu3): PReLU(num_parameters=1)\n",
       "    (linear4): Linear(in_features=250, out_features=100, bias=True)\n",
       "    (relu4): PReLU(num_parameters=1)\n",
       "    (linear5): Linear(in_features=100, out_features=50, bias=True)\n",
       "    (relu5): PReLU(num_parameters=1)\n",
       "    (linear6): Linear(in_features=50, out_features=10, bias=True)\n",
       "    (relu6): PReLU(num_parameters=1)\n",
       "    (linear7): Linear(in_features=10, out_features=2, bias=True)\n",
       "  )\n",
       ")"
      ]
     },
     "execution_count": 36,
     "metadata": {},
     "output_type": "execute_result"
    }
   ],
   "source": [
    "tmp_model"
   ]
  },
  {
   "cell_type": "code",
   "execution_count": 37,
   "metadata": {},
   "outputs": [],
   "source": [
    "def attribution_pairs(SiameseTCGA, exp, ctrl):\n",
    "    # subset different samples\n",
    "    negative_pairs = np.array(SiameseTCGA.test_pairs)\n",
    "    negative_pairs = negative_pairs[negative_pairs[:,2] == 0]\n",
    "    # map labels to integers\n",
    "    ctrl = siamese_test_dataset.labels_dict[ctrl]\n",
    "    exp = siamese_test_dataset.labels_dict[exp]\n",
    "    # ordered indices of samples\n",
    "    ctrl_data = [idx for pair in negative_pairs[:, :2] for idx in pair if np.isin(idx, SiameseTCGA.label_to_indices[ctrl])]\n",
    "    exp_data = [idx for pair in negative_pairs[:, :2] for idx in pair if np.isin(idx, SiameseTCGA.label_to_indices[exp])]\n",
    "    # data\n",
    "    ctrl_data = Variable(SiameseTCGA.test_data[ctrl_data], requires_grad=True)\n",
    "    exp_data = Variable(SiameseTCGA.test_data[exp_data], requires_grad=True)\n",
    "    return ctrl_data, exp_data"
   ]
  },
  {
   "cell_type": "markdown",
   "metadata": {},
   "source": [
    "### IG with Control vector"
   ]
  },
  {
   "cell_type": "code",
   "execution_count": 39,
   "metadata": {},
   "outputs": [],
   "source": [
    "siamese_train_dataset = SiameseTCGA(train_dataset) # Returns pairs of images and target same/different\n",
    "siamese_test_dataset = SiameseTCGA(test_dataset)"
   ]
  },
  {
   "cell_type": "code",
   "execution_count": 40,
   "metadata": {},
   "outputs": [],
   "source": [
    "ctrl_data, exp_data = attribution_pairs(siamese_test_dataset, exp='Primary Tumor', ctrl='Solid Tissue Normal')"
   ]
  },
  {
   "cell_type": "code",
   "execution_count": 41,
   "metadata": {},
   "outputs": [],
   "source": [
    "ig = IntegratedGradients(tmp_model.get_embedding)"
   ]
  },
  {
   "cell_type": "code",
   "execution_count": 42,
   "metadata": {},
   "outputs": [],
   "source": [
    "attr, delta = ig.attribute(exp_data.cuda(), ctrl_data.cuda(), target=0, n_steps=50, return_convergence_delta=True)\n",
    "attr = attr.cpu().detach().numpy()"
   ]
  },
  {
   "cell_type": "code",
   "execution_count": 43,
   "metadata": {},
   "outputs": [
    {
     "data": {
      "text/plain": [
       "(28, 60483)"
      ]
     },
     "execution_count": 43,
     "metadata": {},
     "output_type": "execute_result"
    },
    {
     "data": {
      "text/plain": [
       "array([[<matplotlib.axes._subplots.AxesSubplot object at 0x7ff00c6a3898>]],\n",
       "      dtype=object)"
      ]
     },
     "execution_count": 43,
     "metadata": {},
     "output_type": "execute_result"
    },
    {
     "data": {
      "text/html": [
       "<div>\n",
       "<style scoped>\n",
       "    .dataframe tbody tr th:only-of-type {\n",
       "        vertical-align: middle;\n",
       "    }\n",
       "\n",
       "    .dataframe tbody tr th {\n",
       "        vertical-align: top;\n",
       "    }\n",
       "\n",
       "    .dataframe thead th {\n",
       "        text-align: right;\n",
       "    }\n",
       "</style>\n",
       "<table border=\"1\" class=\"dataframe\">\n",
       "  <thead>\n",
       "    <tr style=\"text-align: right;\">\n",
       "      <th></th>\n",
       "      <th>Attribution</th>\n",
       "    </tr>\n",
       "  </thead>\n",
       "  <tbody>\n",
       "    <tr>\n",
       "      <th>count</th>\n",
       "      <td>60483.000000</td>\n",
       "    </tr>\n",
       "    <tr>\n",
       "      <th>mean</th>\n",
       "      <td>-0.000004</td>\n",
       "    </tr>\n",
       "    <tr>\n",
       "      <th>std</th>\n",
       "      <td>0.000308</td>\n",
       "    </tr>\n",
       "    <tr>\n",
       "      <th>min</th>\n",
       "      <td>-0.008740</td>\n",
       "    </tr>\n",
       "    <tr>\n",
       "      <th>25%</th>\n",
       "      <td>-0.000012</td>\n",
       "    </tr>\n",
       "    <tr>\n",
       "      <th>50%</th>\n",
       "      <td>0.000000</td>\n",
       "    </tr>\n",
       "    <tr>\n",
       "      <th>75%</th>\n",
       "      <td>0.000008</td>\n",
       "    </tr>\n",
       "    <tr>\n",
       "      <th>max</th>\n",
       "      <td>0.067780</td>\n",
       "    </tr>\n",
       "  </tbody>\n",
       "</table>\n",
       "</div>"
      ],
      "text/plain": [
       "        Attribution\n",
       "count  60483.000000\n",
       "mean      -0.000004\n",
       "std        0.000308\n",
       "min       -0.008740\n",
       "25%       -0.000012\n",
       "50%        0.000000\n",
       "75%        0.000008\n",
       "max        0.067780"
      ]
     },
     "execution_count": 43,
     "metadata": {},
     "output_type": "execute_result"
    },
    {
     "data": {
      "text/html": [
       "<div>\n",
       "<style scoped>\n",
       "    .dataframe tbody tr th:only-of-type {\n",
       "        vertical-align: middle;\n",
       "    }\n",
       "\n",
       "    .dataframe tbody tr th {\n",
       "        vertical-align: top;\n",
       "    }\n",
       "\n",
       "    .dataframe thead th {\n",
       "        text-align: right;\n",
       "    }\n",
       "</style>\n",
       "<table border=\"1\" class=\"dataframe\">\n",
       "  <thead>\n",
       "    <tr style=\"text-align: right;\">\n",
       "      <th></th>\n",
       "      <th>Attribution</th>\n",
       "    </tr>\n",
       "    <tr>\n",
       "      <th>0</th>\n",
       "      <th></th>\n",
       "    </tr>\n",
       "  </thead>\n",
       "  <tbody>\n",
       "    <tr>\n",
       "      <th>ENSG00000249557.2</th>\n",
       "      <td>0.067780</td>\n",
       "    </tr>\n",
       "    <tr>\n",
       "      <th>ENSG00000230014.1</th>\n",
       "      <td>0.021713</td>\n",
       "    </tr>\n",
       "    <tr>\n",
       "      <th>ENSG00000273906.1</th>\n",
       "      <td>0.011280</td>\n",
       "    </tr>\n",
       "    <tr>\n",
       "      <th>ENSG00000259094.1</th>\n",
       "      <td>0.007718</td>\n",
       "    </tr>\n",
       "    <tr>\n",
       "      <th>ENSG00000233070.1</th>\n",
       "      <td>0.005054</td>\n",
       "    </tr>\n",
       "    <tr>\n",
       "      <th>ENSG00000092377.12</th>\n",
       "      <td>0.004455</td>\n",
       "    </tr>\n",
       "    <tr>\n",
       "      <th>ENSG00000006611.14</th>\n",
       "      <td>0.003599</td>\n",
       "    </tr>\n",
       "    <tr>\n",
       "      <th>ENSG00000259154.1</th>\n",
       "      <td>0.003443</td>\n",
       "    </tr>\n",
       "    <tr>\n",
       "      <th>ENSG00000255079.1</th>\n",
       "      <td>0.002817</td>\n",
       "    </tr>\n",
       "    <tr>\n",
       "      <th>ENSG00000223716.2</th>\n",
       "      <td>0.002497</td>\n",
       "    </tr>\n",
       "  </tbody>\n",
       "</table>\n",
       "</div>"
      ],
      "text/plain": [
       "                    Attribution\n",
       "0                              \n",
       "ENSG00000249557.2      0.067780\n",
       "ENSG00000230014.1      0.021713\n",
       "ENSG00000273906.1      0.011280\n",
       "ENSG00000259094.1      0.007718\n",
       "ENSG00000233070.1      0.005054\n",
       "ENSG00000092377.12     0.004455\n",
       "ENSG00000006611.14     0.003599\n",
       "ENSG00000259154.1      0.003443\n",
       "ENSG00000255079.1      0.002817\n",
       "ENSG00000223716.2      0.002497"
      ]
     },
     "execution_count": 43,
     "metadata": {},
     "output_type": "execute_result"
    },
    {
     "data": {
      "image/png": "[encoded data removed]",
      "text/plain": [
       "<Figure size 432x288 with 1 Axes>"
      ]
     },
     "metadata": {
      "needs_background": "light"
     },
     "output_type": "display_data"
    }
   ],
   "source": [
    "attr.shape\n",
    "feat_imp = pd.DataFrame(data=attr.mean(axis=0), index=train_dataset.data.columns, columns=['Attribution'])\n",
    "feat_imp.hist(bins=100)\n",
    "feat_imp.describe()\n",
    "feat_imp.nlargest(10, columns='Attribution')"
   ]
  },
  {
   "cell_type": "markdown",
   "metadata": {},
   "source": [
    "### Test completeness axiom\n",
    "- Euclidean Distance between samples\n",
    "- feature attribution sum\n",
    "- difference between"
   ]
  },
  {
   "cell_type": "code",
   "execution_count": 44,
   "metadata": {},
   "outputs": [
    {
     "data": {
      "text/plain": [
       "1543.0095"
      ]
     },
     "execution_count": 44,
     "metadata": {},
     "output_type": "execute_result"
    },
    {
     "data": {
      "text/plain": [
       "625.2615"
      ]
     },
     "execution_count": 44,
     "metadata": {},
     "output_type": "execute_result"
    },
    {
     "data": {
      "text/plain": [
       "9738813.0"
      ]
     },
     "execution_count": 44,
     "metadata": {},
     "output_type": "execute_result"
    }
   ],
   "source": [
    "pdist = torch.nn.PairwiseDistance(p=2)\n",
    "outdist = pdist(exp_data, ctrl_data)\n",
    "\n",
    "diff = np.round(outdist.detach().numpy() - attr.sum(axis=1), 3)\n",
    "diff.mean(); np.median(diff); diff.var()"
   ]
  },
  {
   "cell_type": "markdown",
   "metadata": {},
   "source": [
    "#### Inspect individual sample attributions"
   ]
  },
  {
   "cell_type": "code",
   "execution_count": 45,
   "metadata": {},
   "outputs": [
    {
     "data": {
      "text/plain": [
       "0\n",
       "ENSG00000229028.2    0.008716\n",
       "ENSG00000233304.4    0.006057\n",
       "ENSG00000187242.4    0.003135\n",
       "ENSG00000274244.1    0.002256\n",
       "ENSG00000269621.1    0.002137\n",
       "ENSG00000225036.1    0.001909\n",
       "ENSG00000243766.6    0.001559\n",
       "ENSG00000249343.1    0.001385\n",
       "ENSG00000253488.1    0.001342\n",
       "ENSG00000207798.1    0.001222\n",
       "dtype: float32"
      ]
     },
     "execution_count": 45,
     "metadata": {},
     "output_type": "execute_result"
    },
    {
     "data": {
      "text/plain": [
       "0\n",
       "ENSG00000171004.16    0.005980\n",
       "ENSG00000264295.1     0.004522\n",
       "ENSG00000232715.1     0.004191\n",
       "ENSG00000173898.10    0.003840\n",
       "ENSG00000223976.1     0.003152\n",
       "ENSG00000253160.1     0.003100\n",
       "ENSG00000101977.18    0.002898\n",
       "ENSG00000223414.2     0.002724\n",
       "ENSG00000161055.3     0.002675\n",
       "ENSG00000120211.4     0.002231\n",
       "dtype: float32"
      ]
     },
     "execution_count": 45,
     "metadata": {},
     "output_type": "execute_result"
    },
    {
     "data": {
      "text/plain": [
       "0\n",
       "ENSG00000232188.1     0.044022\n",
       "ENSG00000213549.3     0.002822\n",
       "ENSG00000225538.1     0.002591\n",
       "ENSG00000216072.2     0.002534\n",
       "ENSG00000224814.1     0.002459\n",
       "ENSG00000224718.1     0.002431\n",
       "ENSG00000107672.13    0.002248\n",
       "ENSG00000243135.4     0.001776\n",
       "ENSG00000187840.4     0.001681\n",
       "ENSG00000253484.1     0.001661\n",
       "dtype: float32"
      ]
     },
     "execution_count": 45,
     "metadata": {},
     "output_type": "execute_result"
    },
    {
     "data": {
      "text/plain": [
       "0\n",
       "ENSG00000277876.1     0.010136\n",
       "ENSG00000215943.1     0.009612\n",
       "ENSG00000229755.1     0.007661\n",
       "ENSG00000226975.1     0.006939\n",
       "ENSG00000227537.1     0.005917\n",
       "ENSG00000254320.1     0.005215\n",
       "ENSG00000168703.5     0.004891\n",
       "ENSG00000175121.10    0.004112\n",
       "ENSG00000257842.4     0.003818\n",
       "ENSG00000236990.1     0.003707\n",
       "dtype: float32"
      ]
     },
     "execution_count": 45,
     "metadata": {},
     "output_type": "execute_result"
    },
    {
     "data": {
      "text/plain": [
       "0\n",
       "ENSG00000223716.2     0.036732\n",
       "ENSG00000131737.5     0.025385\n",
       "ENSG00000122585.6     0.024183\n",
       "ENSG00000229310.1     0.020679\n",
       "ENSG00000054938.14    0.012676\n",
       "ENSG00000254083.4     0.012120\n",
       "ENSG00000222236.1     0.009890\n",
       "ENSG00000169344.14    0.009695\n",
       "ENSG00000224162.1     0.009417\n",
       "ENSG00000137673.7     0.009070\n",
       "dtype: float32"
      ]
     },
     "execution_count": 45,
     "metadata": {},
     "output_type": "execute_result"
    },
    {
     "data": {
      "text/plain": [
       "0\n",
       "ENSG00000273906.1     0.114782\n",
       "ENSG00000233070.1     0.038237\n",
       "ENSG00000092377.12    0.030685\n",
       "ENSG00000143512.11    0.010215\n",
       "ENSG00000171004.16    0.009698\n",
       "ENSG00000232715.1     0.009402\n",
       "ENSG00000260068.1     0.007868\n",
       "ENSG00000253160.1     0.006790\n",
       "ENSG00000173898.10    0.006670\n",
       "ENSG00000244619.2     0.006483\n",
       "dtype: float32"
      ]
     },
     "execution_count": 45,
     "metadata": {},
     "output_type": "execute_result"
    },
    {
     "data": {
      "text/plain": [
       "0\n",
       "ENSG00000230014.1     0.609203\n",
       "ENSG00000271307.1     0.031987\n",
       "ENSG00000251297.1     0.019879\n",
       "ENSG00000205745.2     0.008078\n",
       "ENSG00000157087.15    0.007092\n",
       "ENSG00000255433.4     0.005520\n",
       "ENSG00000147570.8     0.005107\n",
       "ENSG00000228695.8     0.004333\n",
       "ENSG00000264451.1     0.004298\n",
       "ENSG00000182459.4     0.003870\n",
       "dtype: float32"
      ]
     },
     "execution_count": 45,
     "metadata": {},
     "output_type": "execute_result"
    },
    {
     "data": {
      "text/plain": [
       "0\n",
       "ENSG00000249557.2    0.891380\n",
       "ENSG00000256321.4    0.011253\n",
       "ENSG00000233258.1    0.007737\n",
       "ENSG00000164089.7    0.007125\n",
       "ENSG00000261277.2    0.006436\n",
       "ENSG00000177243.3    0.004771\n",
       "ENSG00000254926.1    0.004761\n",
       "ENSG00000236960.1    0.004738\n",
       "ENSG00000254842.5    0.004567\n",
       "ENSG00000273857.1    0.004545\n",
       "dtype: float32"
      ]
     },
     "execution_count": 45,
     "metadata": {},
     "output_type": "execute_result"
    },
    {
     "data": {
      "text/plain": [
       "0\n",
       "ENSG00000231593.1     0.003391\n",
       "ENSG00000165084.14    0.002447\n",
       "ENSG00000279359.1     0.001919\n",
       "ENSG00000216058.1     0.001853\n",
       "ENSG00000227120.1     0.001459\n",
       "ENSG00000260568.1     0.001288\n",
       "ENSG00000270008.1     0.001287\n",
       "ENSG00000275319.1     0.001199\n",
       "ENSG00000277212.1     0.001032\n",
       "ENSG00000253479.4     0.001029\n",
       "dtype: float32"
      ]
     },
     "execution_count": 45,
     "metadata": {},
     "output_type": "execute_result"
    },
    {
     "data": {
      "text/plain": [
       "0\n",
       "ENSG00000268089.2     0.007629\n",
       "ENSG00000241244.1     0.005728\n",
       "ENSG00000276348.1     0.005407\n",
       "ENSG00000215644.8     0.003938\n",
       "ENSG00000277683.1     0.003515\n",
       "ENSG00000227386.1     0.003454\n",
       "ENSG00000156395.11    0.002781\n",
       "ENSG00000260573.1     0.002698\n",
       "ENSG00000280412.1     0.002490\n",
       "ENSG00000236387.1     0.002372\n",
       "dtype: float32"
      ]
     },
     "execution_count": 45,
     "metadata": {},
     "output_type": "execute_result"
    },
    {
     "data": {
      "text/plain": [
       "0\n",
       "ENSG00000201923.1    0.005699\n",
       "ENSG00000249764.1    0.005023\n",
       "ENSG00000230051.1    0.003092\n",
       "ENSG00000233944.1    0.002884\n",
       "ENSG00000278139.1    0.002194\n",
       "ENSG00000253900.1    0.002158\n",
       "ENSG00000269791.4    0.002067\n",
       "ENSG00000162685.6    0.001762\n",
       "ENSG00000214660.6    0.001692\n",
       "ENSG00000248611.1    0.001623\n",
       "dtype: float32"
      ]
     },
     "execution_count": 45,
     "metadata": {},
     "output_type": "execute_result"
    },
    {
     "data": {
      "text/plain": [
       "0\n",
       "ENSG00000006611.14    0.100101\n",
       "ENSG00000242207.1     0.034194\n",
       "ENSG00000171551.10    0.020785\n",
       "ENSG00000229310.1     0.019379\n",
       "ENSG00000188162.9     0.016471\n",
       "ENSG00000158764.6     0.016291\n",
       "ENSG00000112499.11    0.014350\n",
       "ENSG00000231419.5     0.013426\n",
       "ENSG00000095713.12    0.013049\n",
       "ENSG00000141639.10    0.012761\n",
       "dtype: float32"
      ]
     },
     "execution_count": 45,
     "metadata": {},
     "output_type": "execute_result"
    },
    {
     "data": {
      "text/plain": [
       "0\n",
       "ENSG00000259154.1    0.094665\n",
       "ENSG00000258991.1    0.050977\n",
       "ENSG00000274773.1    0.022549\n",
       "ENSG00000258567.1    0.018802\n",
       "ENSG00000221747.1    0.017946\n",
       "ENSG00000215545.1    0.015876\n",
       "ENSG00000252151.1    0.009471\n",
       "ENSG00000244302.1    0.009288\n",
       "ENSG00000277716.1    0.008470\n",
       "ENSG00000276079.1    0.008468\n",
       "dtype: float32"
      ]
     },
     "execution_count": 45,
     "metadata": {},
     "output_type": "execute_result"
    },
    {
     "data": {
      "text/plain": [
       "0\n",
       "ENSG00000251454.1     0.011816\n",
       "ENSG00000255406.1     0.007801\n",
       "ENSG00000226321.5     0.004232\n",
       "ENSG00000249343.1     0.003837\n",
       "ENSG00000184672.10    0.003626\n",
       "ENSG00000221741.1     0.002984\n",
       "ENSG00000276899.1     0.002748\n",
       "ENSG00000272681.2     0.002275\n",
       "ENSG00000233730.1     0.002137\n",
       "ENSG00000186710.10    0.001900\n",
       "dtype: float32"
      ]
     },
     "execution_count": 45,
     "metadata": {},
     "output_type": "execute_result"
    },
    {
     "data": {
      "text/plain": [
       "0\n",
       "ENSG00000273906.1     0.105931\n",
       "ENSG00000092377.12    0.036787\n",
       "ENSG00000233070.1     0.023211\n",
       "ENSG00000253968.1     0.018647\n",
       "ENSG00000229755.1     0.017405\n",
       "ENSG00000215943.1     0.016454\n",
       "ENSG00000226975.1     0.010902\n",
       "ENSG00000168703.5     0.008761\n",
       "ENSG00000260068.1     0.007514\n",
       "ENSG00000229236.1     0.006718\n",
       "dtype: float32"
      ]
     },
     "execution_count": 45,
     "metadata": {},
     "output_type": "execute_result"
    },
    {
     "data": {
      "text/plain": [
       "0\n",
       "ENSG00000201923.1    0.004316\n",
       "ENSG00000217089.1    0.003908\n",
       "ENSG00000249764.1    0.003491\n",
       "ENSG00000278139.1    0.002746\n",
       "ENSG00000235845.1    0.002003\n",
       "ENSG00000224634.1    0.001675\n",
       "ENSG00000229188.2    0.001657\n",
       "ENSG00000267168.1    0.001613\n",
       "ENSG00000244246.1    0.001575\n",
       "ENSG00000254801.1    0.001374\n",
       "dtype: float32"
      ]
     },
     "execution_count": 45,
     "metadata": {},
     "output_type": "execute_result"
    },
    {
     "data": {
      "text/plain": [
       "0\n",
       "ENSG00000223648.3    0.034116\n",
       "ENSG00000268751.1    0.020663\n",
       "ENSG00000224041.3    0.008186\n",
       "ENSG00000211664.2    0.007278\n",
       "ENSG00000211904.2    0.006929\n",
       "ENSG00000242207.1    0.006820\n",
       "ENSG00000221793.1    0.005685\n",
       "ENSG00000252272.1    0.004734\n",
       "ENSG00000275773.1    0.004435\n",
       "ENSG00000253555.1    0.004365\n",
       "dtype: float32"
      ]
     },
     "execution_count": 45,
     "metadata": {},
     "output_type": "execute_result"
    },
    {
     "data": {
      "text/plain": [
       "0\n",
       "ENSG00000253338.1     0.015901\n",
       "ENSG00000258381.1     0.010146\n",
       "ENSG00000156222.10    0.006857\n",
       "ENSG00000280411.1     0.006629\n",
       "ENSG00000211662.2     0.006481\n",
       "ENSG00000254645.1     0.004924\n",
       "ENSG00000226336.2     0.004343\n",
       "ENSG00000227275.1     0.004214\n",
       "ENSG00000228131.1     0.003577\n",
       "ENSG00000260332.1     0.003394\n",
       "dtype: float32"
      ]
     },
     "execution_count": 45,
     "metadata": {},
     "output_type": "execute_result"
    },
    {
     "data": {
      "text/plain": [
       "0\n",
       "ENSG00000259094.1     0.086896\n",
       "ENSG00000255079.1     0.031702\n",
       "ENSG00000235142.6     0.008960\n",
       "ENSG00000211668.2     0.007889\n",
       "ENSG00000109208.4     0.007495\n",
       "ENSG00000211917.1     0.006481\n",
       "ENSG00000244661.1     0.006017\n",
       "ENSG00000204889.9     0.005952\n",
       "ENSG00000223976.1     0.005841\n",
       "ENSG00000122733.12    0.005743\n",
       "dtype: float32"
      ]
     },
     "execution_count": 45,
     "metadata": {},
     "output_type": "execute_result"
    },
    {
     "data": {
      "text/plain": [
       "0\n",
       "ENSG00000223716.2     0.037742\n",
       "ENSG00000122585.6     0.021705\n",
       "ENSG00000131737.5     0.020752\n",
       "ENSG00000054938.14    0.012554\n",
       "ENSG00000254083.4     0.012124\n",
       "ENSG00000169344.14    0.010142\n",
       "ENSG00000274167.3     0.008277\n",
       "ENSG00000137673.7     0.008228\n",
       "ENSG00000254626.1     0.008177\n",
       "ENSG00000232480.1     0.008116\n",
       "dtype: float32"
      ]
     },
     "execution_count": 45,
     "metadata": {},
     "output_type": "execute_result"
    },
    {
     "data": {
      "text/plain": [
       "0\n",
       "ENSG00000242262.1    0.005723\n",
       "ENSG00000201923.1    0.005472\n",
       "ENSG00000249764.1    0.004781\n",
       "ENSG00000253900.1    0.002088\n",
       "ENSG00000229142.1    0.001996\n",
       "ENSG00000278139.1    0.001985\n",
       "ENSG00000229188.2    0.001531\n",
       "ENSG00000214660.6    0.001369\n",
       "ENSG00000177243.3    0.001276\n",
       "ENSG00000200839.1    0.001225\n",
       "dtype: float32"
      ]
     },
     "execution_count": 45,
     "metadata": {},
     "output_type": "execute_result"
    },
    {
     "data": {
      "text/plain": [
       "0\n",
       "ENSG00000230628.1     0.015542\n",
       "ENSG00000180424.6     0.010183\n",
       "ENSG00000223976.1     0.009610\n",
       "ENSG00000163536.11    0.006114\n",
       "ENSG00000231674.1     0.003564\n",
       "ENSG00000221072.1     0.003472\n",
       "ENSG00000004939.12    0.003446\n",
       "ENSG00000228044.2     0.003066\n",
       "ENSG00000264592.2     0.002804\n",
       "ENSG00000230834.1     0.002738\n",
       "dtype: float32"
      ]
     },
     "execution_count": 45,
     "metadata": {},
     "output_type": "execute_result"
    },
    {
     "data": {
      "text/plain": [
       "0\n",
       "ENSG00000259094.1     0.128463\n",
       "ENSG00000255079.1     0.046115\n",
       "ENSG00000235142.6     0.016159\n",
       "ENSG00000276899.1     0.014872\n",
       "ENSG00000211917.1     0.012703\n",
       "ENSG00000211668.2     0.012064\n",
       "ENSG00000204889.9     0.009965\n",
       "ENSG00000215398.10    0.009717\n",
       "ENSG00000211819.3     0.009702\n",
       "ENSG00000109208.4     0.009014\n",
       "dtype: float32"
      ]
     },
     "execution_count": 45,
     "metadata": {},
     "output_type": "execute_result"
    },
    {
     "data": {
      "text/plain": [
       "0\n",
       "ENSG00000249557.2     1.004761\n",
       "ENSG00000273906.1     0.095513\n",
       "ENSG00000233070.1     0.080059\n",
       "ENSG00000092377.12    0.057355\n",
       "ENSG00000233258.1     0.015442\n",
       "ENSG00000225537.1     0.013528\n",
       "ENSG00000256321.4     0.012636\n",
       "ENSG00000254842.5     0.012610\n",
       "ENSG00000229236.1     0.012021\n",
       "ENSG00000260068.1     0.009479\n",
       "dtype: float32"
      ]
     },
     "execution_count": 45,
     "metadata": {},
     "output_type": "execute_result"
    },
    {
     "data": {
      "text/plain": [
       "0\n",
       "ENSG00000230628.1     0.020873\n",
       "ENSG00000180424.6     0.013390\n",
       "ENSG00000163536.11    0.007696\n",
       "ENSG00000231674.1     0.004645\n",
       "ENSG00000213417.3     0.004501\n",
       "ENSG00000228044.2     0.003803\n",
       "ENSG00000230834.1     0.003480\n",
       "ENSG00000255259.2     0.003322\n",
       "ENSG00000264592.2     0.003254\n",
       "ENSG00000275682.1     0.003235\n",
       "dtype: float32"
      ]
     },
     "execution_count": 45,
     "metadata": {},
     "output_type": "execute_result"
    },
    {
     "data": {
      "text/plain": [
       "0\n",
       "ENSG00000229755.1     0.011039\n",
       "ENSG00000215943.1     0.010551\n",
       "ENSG00000226975.1     0.007517\n",
       "ENSG00000253968.1     0.006391\n",
       "ENSG00000168703.5     0.005322\n",
       "ENSG00000254320.1     0.004538\n",
       "ENSG00000175121.10    0.004130\n",
       "ENSG00000236990.1     0.003845\n",
       "ENSG00000257842.4     0.003656\n",
       "ENSG00000239810.3     0.003246\n",
       "dtype: float32"
      ]
     },
     "execution_count": 45,
     "metadata": {},
     "output_type": "execute_result"
    },
    {
     "data": {
      "text/plain": [
       "0\n",
       "ENSG00000251454.1     0.008952\n",
       "ENSG00000255406.1     0.006716\n",
       "ENSG00000221741.1     0.005488\n",
       "ENSG00000226321.5     0.003531\n",
       "ENSG00000241634.1     0.002388\n",
       "ENSG00000215560.2     0.002211\n",
       "ENSG00000184672.10    0.001858\n",
       "ENSG00000233730.1     0.001824\n",
       "ENSG00000239189.1     0.001566\n",
       "ENSG00000248322.1     0.001565\n",
       "dtype: float32"
      ]
     },
     "execution_count": 45,
     "metadata": {},
     "output_type": "execute_result"
    },
    {
     "data": {
      "text/plain": [
       "0\n",
       "ENSG00000253497.1     0.010679\n",
       "ENSG00000232216.1     0.009016\n",
       "ENSG00000259680.5     0.008338\n",
       "ENSG00000049247.12    0.008050\n",
       "ENSG00000270685.1     0.007581\n",
       "ENSG00000211924.1     0.007556\n",
       "ENSG00000211668.2     0.006342\n",
       "ENSG00000221287.1     0.006249\n",
       "ENSG00000253386.1     0.006211\n",
       "ENSG00000253278.1     0.005606\n",
       "dtype: float32"
      ]
     },
     "execution_count": 45,
     "metadata": {},
     "output_type": "execute_result"
    }
   ],
   "source": [
    "for i in range(len(attr)):\n",
    "    attr_samp = pd.Series(attr[i], index=train_dataset.data.columns)\n",
    "    attr_samp.nlargest(10)"
   ]
  },
  {
   "cell_type": "code",
   "execution_count": 65,
   "metadata": {},
   "outputs": [
    {
     "data": {
      "text/plain": [
       "0\n",
       "ENSG00000258115.1   -0.020153\n",
       "ENSG00000226374.1   -0.013078\n",
       "ENSG00000233494.1   -0.010390\n",
       "ENSG00000227425.1   -0.009856\n",
       "ENSG00000231894.1   -0.009350\n",
       "ENSG00000275138.1   -0.006200\n",
       "ENSG00000225036.1   -0.006060\n",
       "ENSG00000202398.1   -0.005658\n",
       "ENSG00000234723.1   -0.005407\n",
       "ENSG00000261595.1   -0.005391\n",
       "dtype: float32"
      ]
     },
     "execution_count": 65,
     "metadata": {},
     "output_type": "execute_result"
    },
    {
     "data": {
      "text/plain": [
       "0\n",
       "ENSG00000096006.10   -0.051280\n",
       "ENSG00000226707.1    -0.005662\n",
       "ENSG00000244619.2    -0.004841\n",
       "ENSG00000143512.11   -0.004517\n",
       "ENSG00000221287.1    -0.004366\n",
       "ENSG00000264295.1    -0.002291\n",
       "ENSG00000161055.3    -0.002115\n",
       "ENSG00000182256.11   -0.002097\n",
       "ENSG00000174080.9    -0.002042\n",
       "ENSG00000232756.1    -0.001683\n",
       "dtype: float32"
      ]
     },
     "execution_count": 65,
     "metadata": {},
     "output_type": "execute_result"
    },
    {
     "data": {
      "text/plain": [
       "0\n",
       "ENSG00000232188.1    -0.092254\n",
       "ENSG00000241635.6    -0.024769\n",
       "ENSG00000224814.1    -0.022001\n",
       "ENSG00000172296.11   -0.010962\n",
       "ENSG00000243135.4    -0.009937\n",
       "ENSG00000249425.1    -0.009781\n",
       "ENSG00000224711.1    -0.008233\n",
       "ENSG00000240584.3    -0.007786\n",
       "ENSG00000198452.6    -0.006907\n",
       "ENSG00000224625.2    -0.006817\n",
       "dtype: float32"
      ]
     },
     "execution_count": 65,
     "metadata": {},
     "output_type": "execute_result"
    },
    {
     "data": {
      "text/plain": [
       "0\n",
       "ENSG00000253968.1   -0.033750\n",
       "ENSG00000277876.1   -0.005581\n",
       "ENSG00000234670.1   -0.003152\n",
       "ENSG00000158480.9   -0.002954\n",
       "ENSG00000123584.7   -0.002924\n",
       "ENSG00000275958.1   -0.002655\n",
       "ENSG00000274028.1   -0.002271\n",
       "ENSG00000277950.1   -0.002268\n",
       "ENSG00000156575.2   -0.002252\n",
       "ENSG00000249513.2   -0.002225\n",
       "dtype: float32"
      ]
     },
     "execution_count": 65,
     "metadata": {},
     "output_type": "execute_result"
    },
    {
     "data": {
      "text/plain": [
       "0\n",
       "ENSG00000105550.7    -0.056318\n",
       "ENSG00000111700.11   -0.029090\n",
       "ENSG00000131737.5    -0.028118\n",
       "ENSG00000237153.1    -0.014026\n",
       "ENSG00000255271.1    -0.013234\n",
       "ENSG00000222236.1    -0.011507\n",
       "ENSG00000254925.1    -0.010706\n",
       "ENSG00000240611.1    -0.009435\n",
       "ENSG00000126550.7    -0.009384\n",
       "ENSG00000253275.1    -0.009023\n",
       "dtype: float32"
      ]
     },
     "execution_count": 65,
     "metadata": {},
     "output_type": "execute_result"
    },
    {
     "data": {
      "text/plain": [
       "0\n",
       "ENSG00000233070.1    -0.266600\n",
       "ENSG00000229308.1    -0.148068\n",
       "ENSG00000092377.12   -0.133492\n",
       "ENSG00000229236.1    -0.047350\n",
       "ENSG00000235343.1    -0.044474\n",
       "ENSG00000231535.4    -0.032928\n",
       "ENSG00000226863.1    -0.029697\n",
       "ENSG00000176728.6    -0.029500\n",
       "ENSG00000237659.1    -0.028955\n",
       "ENSG00000227447.1    -0.025504\n",
       "dtype: float32"
      ]
     },
     "execution_count": 65,
     "metadata": {},
     "output_type": "execute_result"
    },
    {
     "data": {
      "text/plain": [
       "0\n",
       "ENSG00000162621.6    -0.032625\n",
       "ENSG00000251297.1    -0.026464\n",
       "ENSG00000125895.5    -0.017651\n",
       "ENSG00000205745.2    -0.013172\n",
       "ENSG00000261078.1    -0.012770\n",
       "ENSG00000142609.16   -0.012247\n",
       "ENSG00000201095.1    -0.012151\n",
       "ENSG00000151458.10   -0.011269\n",
       "ENSG00000164125.14   -0.010430\n",
       "ENSG00000279139.1    -0.009406\n",
       "dtype: float32"
      ]
     },
     "execution_count": 65,
     "metadata": {},
     "output_type": "execute_result"
    },
    {
     "data": {
      "text/plain": [
       "0\n",
       "ENSG00000230720.1    -0.029059\n",
       "ENSG00000256321.4    -0.026554\n",
       "ENSG00000115934.11   -0.026180\n",
       "ENSG00000263734.1    -0.023048\n",
       "ENSG00000238819.1    -0.021945\n",
       "ENSG00000219784.2    -0.017871\n",
       "ENSG00000186925.6    -0.017144\n",
       "ENSG00000213747.2    -0.015925\n",
       "ENSG00000181325.7    -0.015565\n",
       "ENSG00000223360.1    -0.015178\n",
       "dtype: float32"
      ]
     },
     "execution_count": 65,
     "metadata": {},
     "output_type": "execute_result"
    },
    {
     "data": {
      "text/plain": [
       "0\n",
       "ENSG00000230418.2   -0.003982\n",
       "ENSG00000253501.1   -0.002726\n",
       "ENSG00000232749.2   -0.002087\n",
       "ENSG00000235976.2   -0.001952\n",
       "ENSG00000223629.1   -0.001886\n",
       "ENSG00000278757.1   -0.001576\n",
       "ENSG00000201095.1   -0.001335\n",
       "ENSG00000241392.3   -0.001320\n",
       "ENSG00000270912.1   -0.001293\n",
       "ENSG00000267251.2   -0.001274\n",
       "dtype: float32"
      ]
     },
     "execution_count": 65,
     "metadata": {},
     "output_type": "execute_result"
    },
    {
     "data": {
      "text/plain": [
       "0\n",
       "ENSG00000280614.1   -0.200490\n",
       "ENSG00000258417.3   -0.172212\n",
       "ENSG00000272558.1   -0.047141\n",
       "ENSG00000202144.1   -0.027055\n",
       "ENSG00000241457.1   -0.022308\n",
       "ENSG00000271220.1   -0.015240\n",
       "ENSG00000223691.1   -0.012740\n",
       "ENSG00000186925.6   -0.012453\n",
       "ENSG00000186970.4   -0.012291\n",
       "ENSG00000234270.1   -0.010622\n",
       "dtype: float32"
      ]
     },
     "execution_count": 65,
     "metadata": {},
     "output_type": "execute_result"
    },
    {
     "data": {
      "text/plain": [
       "0\n",
       "ENSG00000203972.8    -0.009966\n",
       "ENSG00000258567.1    -0.005098\n",
       "ENSG00000231583.1    -0.004437\n",
       "ENSG00000236190.1    -0.004403\n",
       "ENSG00000182070.4    -0.004093\n",
       "ENSG00000258383.1    -0.003919\n",
       "ENSG00000171487.13   -0.003812\n",
       "ENSG00000079156.15   -0.003803\n",
       "ENSG00000237850.6    -0.003775\n",
       "ENSG00000207758.1    -0.003648\n",
       "dtype: float32"
      ]
     },
     "execution_count": 65,
     "metadata": {},
     "output_type": "execute_result"
    },
    {
     "data": {
      "text/plain": [
       "0\n",
       "ENSG00000163283.6    -0.059504\n",
       "ENSG00000110680.11   -0.050913\n",
       "ENSG00000242207.1    -0.040723\n",
       "ENSG00000158764.6    -0.035041\n",
       "ENSG00000222236.1    -0.021002\n",
       "ENSG00000150201.13   -0.019247\n",
       "ENSG00000188162.9    -0.016482\n",
       "ENSG00000254925.1    -0.015446\n",
       "ENSG00000253275.1    -0.013005\n",
       "ENSG00000142549.9    -0.012827\n",
       "dtype: float32"
      ]
     },
     "execution_count": 65,
     "metadata": {},
     "output_type": "execute_result"
    },
    {
     "data": {
      "text/plain": [
       "0\n",
       "ENSG00000259154.1   -0.088255\n",
       "ENSG00000221134.1   -0.053648\n",
       "ENSG00000223291.1   -0.032669\n",
       "ENSG00000243715.1   -0.032111\n",
       "ENSG00000276695.1   -0.028238\n",
       "ENSG00000243799.1   -0.020042\n",
       "ENSG00000238051.1   -0.017854\n",
       "ENSG00000202498.1   -0.017320\n",
       "ENSG00000198982.3   -0.016304\n",
       "ENSG00000231411.1   -0.016038\n",
       "dtype: float32"
      ]
     },
     "execution_count": 65,
     "metadata": {},
     "output_type": "execute_result"
    },
    {
     "data": {
      "text/plain": [
       "0\n",
       "ENSG00000224920.1   -0.011113\n",
       "ENSG00000241634.1   -0.010374\n",
       "ENSG00000265015.1   -0.008740\n",
       "ENSG00000236012.2   -0.002961\n",
       "ENSG00000277515.1   -0.002750\n",
       "ENSG00000203685.8   -0.002603\n",
       "ENSG00000238764.1   -0.002569\n",
       "ENSG00000200572.1   -0.002302\n",
       "ENSG00000162685.6   -0.002178\n",
       "ENSG00000275411.1   -0.002175\n",
       "dtype: float32"
      ]
     },
     "execution_count": 65,
     "metadata": {},
     "output_type": "execute_result"
    },
    {
     "data": {
      "text/plain": [
       "0\n",
       "ENSG00000233070.1    -0.171068\n",
       "ENSG00000253968.1    -0.109962\n",
       "ENSG00000229308.1    -0.108614\n",
       "ENSG00000092377.12   -0.085090\n",
       "ENSG00000229236.1    -0.036187\n",
       "ENSG00000231535.4    -0.026883\n",
       "ENSG00000226863.1    -0.026653\n",
       "ENSG00000227447.1    -0.020328\n",
       "ENSG00000237659.1    -0.019410\n",
       "ENSG00000176728.6    -0.019255\n",
       "dtype: float32"
      ]
     },
     "execution_count": 65,
     "metadata": {},
     "output_type": "execute_result"
    },
    {
     "data": {
      "text/plain": [
       "0\n",
       "ENSG00000263566.1   -0.011253\n",
       "ENSG00000268711.1   -0.008998\n",
       "ENSG00000201923.1   -0.005751\n",
       "ENSG00000264030.2   -0.005312\n",
       "ENSG00000207101.1   -0.005304\n",
       "ENSG00000229142.1   -0.003694\n",
       "ENSG00000243669.2   -0.003564\n",
       "ENSG00000260289.1   -0.003535\n",
       "ENSG00000270242.1   -0.003142\n",
       "ENSG00000258970.1   -0.002992\n",
       "dtype: float32"
      ]
     },
     "execution_count": 65,
     "metadata": {},
     "output_type": "execute_result"
    },
    {
     "data": {
      "text/plain": [
       "0\n",
       "ENSG00000256709.2   -0.014481\n",
       "ENSG00000233970.1   -0.010687\n",
       "ENSG00000223648.3   -0.009072\n",
       "ENSG00000253555.1   -0.005365\n",
       "ENSG00000253901.1   -0.005109\n",
       "ENSG00000267012.1   -0.005061\n",
       "ENSG00000267489.2   -0.004894\n",
       "ENSG00000267664.1   -0.004335\n",
       "ENSG00000229769.2   -0.004297\n",
       "ENSG00000217707.2   -0.004172\n",
       "dtype: float32"
      ]
     },
     "execution_count": 65,
     "metadata": {},
     "output_type": "execute_result"
    },
    {
     "data": {
      "text/plain": [
       "0\n",
       "ENSG00000254407.1   -0.033035\n",
       "ENSG00000225036.1   -0.019394\n",
       "ENSG00000237197.1   -0.011764\n",
       "ENSG00000276366.1   -0.011574\n",
       "ENSG00000257691.2   -0.010197\n",
       "ENSG00000257935.2   -0.009377\n",
       "ENSG00000227244.2   -0.008596\n",
       "ENSG00000239320.1   -0.008568\n",
       "ENSG00000211911.1   -0.008223\n",
       "ENSG00000205835.7   -0.006802\n",
       "dtype: float32"
      ]
     },
     "execution_count": 65,
     "metadata": {},
     "output_type": "execute_result"
    },
    {
     "data": {
      "text/plain": [
       "0\n",
       "ENSG00000259094.1    -0.103273\n",
       "ENSG00000254220.1    -0.011670\n",
       "ENSG00000225036.1    -0.008860\n",
       "ENSG00000231586.2    -0.008588\n",
       "ENSG00000197273.3    -0.008558\n",
       "ENSG00000264108.1    -0.008401\n",
       "ENSG00000230973.1    -0.008185\n",
       "ENSG00000260476.1    -0.007725\n",
       "ENSG00000275138.1    -0.007546\n",
       "ENSG00000177504.10   -0.007539\n",
       "dtype: float32"
      ]
     },
     "execution_count": 65,
     "metadata": {},
     "output_type": "execute_result"
    },
    {
     "data": {
      "text/plain": [
       "0\n",
       "ENSG00000105550.7    -0.020872\n",
       "ENSG00000223716.2    -0.008421\n",
       "ENSG00000255271.1    -0.007215\n",
       "ENSG00000237153.1    -0.006637\n",
       "ENSG00000111700.11   -0.006185\n",
       "ENSG00000274694.1    -0.003645\n",
       "ENSG00000188581.8    -0.003498\n",
       "ENSG00000263590.2    -0.003149\n",
       "ENSG00000233085.4    -0.003117\n",
       "ENSG00000272456.1    -0.002722\n",
       "dtype: float32"
      ]
     },
     "execution_count": 65,
     "metadata": {},
     "output_type": "execute_result"
    },
    {
     "data": {
      "text/plain": [
       "0\n",
       "ENSG00000230720.1   -0.005916\n",
       "ENSG00000181325.7   -0.002325\n",
       "ENSG00000263734.1   -0.002252\n",
       "ENSG00000201923.1   -0.002179\n",
       "ENSG00000258071.1   -0.002072\n",
       "ENSG00000213747.2   -0.002022\n",
       "ENSG00000233031.1   -0.001954\n",
       "ENSG00000186925.6   -0.001917\n",
       "ENSG00000265470.1   -0.001779\n",
       "ENSG00000232735.2   -0.001748\n",
       "dtype: float32"
      ]
     },
     "execution_count": 65,
     "metadata": {},
     "output_type": "execute_result"
    },
    {
     "data": {
      "text/plain": [
       "0\n",
       "ENSG00000255808.1   -0.006321\n",
       "ENSG00000261595.1   -0.003954\n",
       "ENSG00000162747.8   -0.003912\n",
       "ENSG00000225487.2   -0.003196\n",
       "ENSG00000163736.3   -0.002973\n",
       "ENSG00000248601.1   -0.002787\n",
       "ENSG00000137509.9   -0.002443\n",
       "ENSG00000233208.4   -0.002324\n",
       "ENSG00000230395.1   -0.002282\n",
       "ENSG00000244734.2   -0.002263\n",
       "dtype: float32"
      ]
     },
     "execution_count": 65,
     "metadata": {},
     "output_type": "execute_result"
    },
    {
     "data": {
      "text/plain": [
       "0\n",
       "ENSG00000259094.1    -0.171955\n",
       "ENSG00000254220.1    -0.014480\n",
       "ENSG00000231586.2    -0.012123\n",
       "ENSG00000177504.10   -0.010345\n",
       "ENSG00000260476.1    -0.009727\n",
       "ENSG00000255451.1    -0.009244\n",
       "ENSG00000105550.7    -0.009006\n",
       "ENSG00000206532.2    -0.008273\n",
       "ENSG00000261730.1    -0.007937\n",
       "ENSG00000207130.1    -0.007663\n",
       "dtype: float32"
      ]
     },
     "execution_count": 65,
     "metadata": {},
     "output_type": "execute_result"
    },
    {
     "data": {
      "text/plain": [
       "0\n",
       "ENSG00000233070.1    -0.366013\n",
       "ENSG00000229308.1    -0.219602\n",
       "ENSG00000092377.12   -0.158247\n",
       "ENSG00000229236.1    -0.067629\n",
       "ENSG00000231535.4    -0.052304\n",
       "ENSG00000226863.1    -0.049059\n",
       "ENSG00000176728.6    -0.042152\n",
       "ENSG00000227447.1    -0.040918\n",
       "ENSG00000237659.1    -0.040180\n",
       "ENSG00000236656.1    -0.025795\n",
       "dtype: float32"
      ]
     },
     "execution_count": 65,
     "metadata": {},
     "output_type": "execute_result"
    },
    {
     "data": {
      "text/plain": [
       "0\n",
       "ENSG00000255808.1   -0.008290\n",
       "ENSG00000263590.2   -0.005007\n",
       "ENSG00000261595.1   -0.003753\n",
       "ENSG00000225487.2   -0.003371\n",
       "ENSG00000229063.2   -0.003300\n",
       "ENSG00000248601.1   -0.002922\n",
       "ENSG00000233208.4   -0.002368\n",
       "ENSG00000230395.1   -0.002258\n",
       "ENSG00000137509.9   -0.002142\n",
       "ENSG00000232090.2   -0.002137\n",
       "dtype: float32"
      ]
     },
     "execution_count": 65,
     "metadata": {},
     "output_type": "execute_result"
    },
    {
     "data": {
      "text/plain": [
       "0\n",
       "ENSG00000253968.1   -0.042701\n",
       "ENSG00000256338.2   -0.009732\n",
       "ENSG00000199219.1   -0.007270\n",
       "ENSG00000253359.1   -0.003922\n",
       "ENSG00000275958.1   -0.003597\n",
       "ENSG00000158480.9   -0.003054\n",
       "ENSG00000241392.3   -0.003042\n",
       "ENSG00000107447.6   -0.002844\n",
       "ENSG00000273956.1   -0.002778\n",
       "ENSG00000200443.1   -0.002758\n",
       "dtype: float32"
      ]
     },
     "execution_count": 65,
     "metadata": {},
     "output_type": "execute_result"
    },
    {
     "data": {
      "text/plain": [
       "0\n",
       "ENSG00000224920.1   -0.011929\n",
       "ENSG00000241634.1   -0.008382\n",
       "ENSG00000265015.1   -0.007199\n",
       "ENSG00000272664.1   -0.005561\n",
       "ENSG00000275067.1   -0.002492\n",
       "ENSG00000203685.8   -0.002416\n",
       "ENSG00000236012.2   -0.002389\n",
       "ENSG00000238764.1   -0.002380\n",
       "ENSG00000239189.1   -0.001986\n",
       "ENSG00000237400.1   -0.001841\n",
       "dtype: float32"
      ]
     },
     "execution_count": 65,
     "metadata": {},
     "output_type": "execute_result"
    },
    {
     "data": {
      "text/plain": [
       "0\n",
       "ENSG00000279847.2   -0.108686\n",
       "ENSG00000249818.1   -0.029505\n",
       "ENSG00000253386.1   -0.025451\n",
       "ENSG00000224634.1   -0.019634\n",
       "ENSG00000224638.1   -0.014485\n",
       "ENSG00000276431.1   -0.013547\n",
       "ENSG00000235951.1   -0.012901\n",
       "ENSG00000237197.1   -0.012301\n",
       "ENSG00000175841.8   -0.010741\n",
       "ENSG00000276953.1   -0.010610\n",
       "dtype: float32"
      ]
     },
     "execution_count": 65,
     "metadata": {},
     "output_type": "execute_result"
    }
   ],
   "source": [
    "for i in range(len(attr)):\n",
    "    attr_samp = pd.Series(attr[i], index=train_dataset.data.columns)\n",
    "    attr_samp.nsmallest(10)"
   ]
  },
  {
   "cell_type": "markdown",
   "metadata": {},
   "source": [
    "#### Check embedding of zero-feature vector"
   ]
  },
  {
   "cell_type": "code",
   "execution_count": 46,
   "metadata": {},
   "outputs": [
    {
     "data": {
      "text/plain": [
       "tensor([-0.1310, -0.1545], device='cuda:0', grad_fn=<AddBackward0>)"
      ]
     },
     "execution_count": 46,
     "metadata": {},
     "output_type": "execute_result"
    }
   ],
   "source": [
    "base_zero = torch.zeros(siamese_test_dataset.test_data.shape[1]).cuda()\n",
    "base_emb = model.get_embedding(base_zero)\n",
    "base_emb"
   ]
  },
  {
   "cell_type": "markdown",
   "metadata": {},
   "source": [
    "#### Check loss of baseline vectors\n",
    "- control data\n",
    "- zero vector\n",
    "- random values"
   ]
  },
  {
   "cell_type": "code",
   "execution_count": 47,
   "metadata": {},
   "outputs": [
    {
     "ename": "AttributeError",
     "evalue": "'EmbeddingNet' object has no attribute 'get_loss'",
     "output_type": "error",
     "traceback": [
      "\u001b[0;31m---------------------------------------------------------------------------\u001b[0m",
      "\u001b[0;31mAttributeError\u001b[0m                            Traceback (most recent call last)",
      "\u001b[0;32m<ipython-input-47-1e1f49ca5ff7>\u001b[0m in \u001b[0;36m<module>\u001b[0;34m\u001b[0m\n\u001b[1;32m      1\u001b[0m \u001b[0mtarget\u001b[0m \u001b[0;34m=\u001b[0m \u001b[0mtorch\u001b[0m\u001b[0;34m.\u001b[0m\u001b[0mtensor\u001b[0m\u001b[0;34m(\u001b[0m\u001b[0;36m0\u001b[0m\u001b[0;34m,\u001b[0m \u001b[0mdtype\u001b[0m\u001b[0;34m=\u001b[0m\u001b[0mfloat\u001b[0m\u001b[0;34m)\u001b[0m\u001b[0;34m\u001b[0m\u001b[0;34m\u001b[0m\u001b[0m\n\u001b[0;32m----> 2\u001b[0;31m \u001b[0mmodel\u001b[0m\u001b[0;34m.\u001b[0m\u001b[0mget_loss\u001b[0m\u001b[0;34m(\u001b[0m\u001b[0mctrl_data\u001b[0m\u001b[0;34m.\u001b[0m\u001b[0mcuda\u001b[0m\u001b[0;34m(\u001b[0m\u001b[0;34m)\u001b[0m\u001b[0;34m,\u001b[0m \u001b[0mexp_data\u001b[0m\u001b[0;34m.\u001b[0m\u001b[0mcuda\u001b[0m\u001b[0;34m(\u001b[0m\u001b[0;34m)\u001b[0m\u001b[0;34m,\u001b[0m \u001b[0mtarget\u001b[0m\u001b[0;34m,\u001b[0m \u001b[0mContrastiveLoss\u001b[0m\u001b[0;34m(\u001b[0m\u001b[0mmargin\u001b[0m\u001b[0;34m)\u001b[0m\u001b[0;34m)\u001b[0m\u001b[0;34m\u001b[0m\u001b[0;34m\u001b[0m\u001b[0m\n\u001b[0m",
      "\u001b[0;32m~/anaconda3/envs/torch/lib/python3.7/site-packages/torch/nn/modules/module.py\u001b[0m in \u001b[0;36m__getattr__\u001b[0;34m(self, name)\u001b[0m\n\u001b[1;32m    583\u001b[0m                 \u001b[0;32mreturn\u001b[0m \u001b[0mmodules\u001b[0m\u001b[0;34m[\u001b[0m\u001b[0mname\u001b[0m\u001b[0;34m]\u001b[0m\u001b[0;34m\u001b[0m\u001b[0;34m\u001b[0m\u001b[0m\n\u001b[1;32m    584\u001b[0m         raise AttributeError(\"'{}' object has no attribute '{}'\".format(\n\u001b[0;32m--> 585\u001b[0;31m             type(self).__name__, name))\n\u001b[0m\u001b[1;32m    586\u001b[0m \u001b[0;34m\u001b[0m\u001b[0m\n\u001b[1;32m    587\u001b[0m     \u001b[0;32mdef\u001b[0m \u001b[0m__setattr__\u001b[0m\u001b[0;34m(\u001b[0m\u001b[0mself\u001b[0m\u001b[0;34m,\u001b[0m \u001b[0mname\u001b[0m\u001b[0;34m,\u001b[0m \u001b[0mvalue\u001b[0m\u001b[0;34m)\u001b[0m\u001b[0;34m:\u001b[0m\u001b[0;34m\u001b[0m\u001b[0;34m\u001b[0m\u001b[0m\n",
      "\u001b[0;31mAttributeError\u001b[0m: 'EmbeddingNet' object has no attribute 'get_loss'"
     ]
    }
   ],
   "source": [
    "target = torch.tensor(0, dtype=float)\n",
    "model.get_loss(ctrl_data.cuda(), exp_data.cuda(), target, ContrastiveLoss(margin))"
   ]
  },
  {
   "cell_type": "code",
   "execution_count": 57,
   "metadata": {},
   "outputs": [
    {
     "data": {
      "text/plain": [
       "tensor(0.1132, device='cuda:0', grad_fn=<MeanBackward0>)"
      ]
     },
     "execution_count": 57,
     "metadata": {},
     "output_type": "execute_result"
    }
   ],
   "source": [
    "base_zero = torch.zeros(exp_data.shape).cuda()\n",
    "model.get_loss(base_zero, exp_data.cuda(), target, ContrastiveLoss(margin))"
   ]
  },
  {
   "cell_type": "code",
   "execution_count": 58,
   "metadata": {},
   "outputs": [
    {
     "data": {
      "text/plain": [
       "tensor(0.1832, device='cuda:0', grad_fn=<MeanBackward0>)"
      ]
     },
     "execution_count": 58,
     "metadata": {},
     "output_type": "execute_result"
    }
   ],
   "source": [
    "rand_base = torch.rand_like(exp_data).cuda()\n",
    "model.get_loss(rand_base, exp_data.cuda(), target, ContrastiveLoss(margin))"
   ]
  },
  {
   "cell_type": "markdown",
   "metadata": {},
   "source": [
    "### IG with zero-feature vector"
   ]
  },
  {
   "cell_type": "code",
   "execution_count": 48,
   "metadata": {},
   "outputs": [],
   "source": [
    "attr, delta = ig.attribute(exp_data.cuda(), target=0, n_steps=50, return_convergence_delta=True)\n",
    "attr = attr.cpu().detach().numpy()"
   ]
  },
  {
   "cell_type": "code",
   "execution_count": 49,
   "metadata": {},
   "outputs": [
    {
     "data": {
      "text/plain": [
       "(28, 60483)"
      ]
     },
     "execution_count": 49,
     "metadata": {},
     "output_type": "execute_result"
    },
    {
     "data": {
      "text/plain": [
       "array([[<matplotlib.axes._subplots.AxesSubplot object at 0x7ff19c8c3240>]],\n",
       "      dtype=object)"
      ]
     },
     "execution_count": 49,
     "metadata": {},
     "output_type": "execute_result"
    },
    {
     "data": {
      "text/html": [
       "<div>\n",
       "<style scoped>\n",
       "    .dataframe tbody tr th:only-of-type {\n",
       "        vertical-align: middle;\n",
       "    }\n",
       "\n",
       "    .dataframe tbody tr th {\n",
       "        vertical-align: top;\n",
       "    }\n",
       "\n",
       "    .dataframe thead th {\n",
       "        text-align: right;\n",
       "    }\n",
       "</style>\n",
       "<table border=\"1\" class=\"dataframe\">\n",
       "  <thead>\n",
       "    <tr style=\"text-align: right;\">\n",
       "      <th></th>\n",
       "      <th>Attribution</th>\n",
       "    </tr>\n",
       "  </thead>\n",
       "  <tbody>\n",
       "    <tr>\n",
       "      <th>count</th>\n",
       "      <td>60483.000000</td>\n",
       "    </tr>\n",
       "    <tr>\n",
       "      <th>mean</th>\n",
       "      <td>-0.000002</td>\n",
       "    </tr>\n",
       "    <tr>\n",
       "      <th>std</th>\n",
       "      <td>0.000261</td>\n",
       "    </tr>\n",
       "    <tr>\n",
       "      <th>min</th>\n",
       "      <td>-0.006819</td>\n",
       "    </tr>\n",
       "    <tr>\n",
       "      <th>25%</th>\n",
       "      <td>-0.000011</td>\n",
       "    </tr>\n",
       "    <tr>\n",
       "      <th>50%</th>\n",
       "      <td>-0.000002</td>\n",
       "    </tr>\n",
       "    <tr>\n",
       "      <th>75%</th>\n",
       "      <td>0.000005</td>\n",
       "    </tr>\n",
       "    <tr>\n",
       "      <th>max</th>\n",
       "      <td>0.059499</td>\n",
       "    </tr>\n",
       "  </tbody>\n",
       "</table>\n",
       "</div>"
      ],
      "text/plain": [
       "        Attribution\n",
       "count  60483.000000\n",
       "mean      -0.000002\n",
       "std        0.000261\n",
       "min       -0.006819\n",
       "25%       -0.000011\n",
       "50%       -0.000002\n",
       "75%        0.000005\n",
       "max        0.059499"
      ]
     },
     "execution_count": 49,
     "metadata": {},
     "output_type": "execute_result"
    },
    {
     "data": {
      "text/html": [
       "<div>\n",
       "<style scoped>\n",
       "    .dataframe tbody tr th:only-of-type {\n",
       "        vertical-align: middle;\n",
       "    }\n",
       "\n",
       "    .dataframe tbody tr th {\n",
       "        vertical-align: top;\n",
       "    }\n",
       "\n",
       "    .dataframe thead th {\n",
       "        text-align: right;\n",
       "    }\n",
       "</style>\n",
       "<table border=\"1\" class=\"dataframe\">\n",
       "  <thead>\n",
       "    <tr style=\"text-align: right;\">\n",
       "      <th></th>\n",
       "      <th>Attribution</th>\n",
       "    </tr>\n",
       "    <tr>\n",
       "      <th>0</th>\n",
       "      <th></th>\n",
       "    </tr>\n",
       "  </thead>\n",
       "  <tbody>\n",
       "    <tr>\n",
       "      <th>ENSG00000249557.2</th>\n",
       "      <td>0.059499</td>\n",
       "    </tr>\n",
       "    <tr>\n",
       "      <th>ENSG00000230014.1</th>\n",
       "      <td>0.017374</td>\n",
       "    </tr>\n",
       "    <tr>\n",
       "      <th>ENSG00000259094.1</th>\n",
       "      <td>0.006563</td>\n",
       "    </tr>\n",
       "    <tr>\n",
       "      <th>ENSG00000232188.1</th>\n",
       "      <td>0.002411</td>\n",
       "    </tr>\n",
       "    <tr>\n",
       "      <th>ENSG00000255079.1</th>\n",
       "      <td>0.002313</td>\n",
       "    </tr>\n",
       "    <tr>\n",
       "      <th>ENSG00000259154.1</th>\n",
       "      <td>0.002009</td>\n",
       "    </tr>\n",
       "    <tr>\n",
       "      <th>ENSG00000235142.6</th>\n",
       "      <td>0.001847</td>\n",
       "    </tr>\n",
       "    <tr>\n",
       "      <th>ENSG00000229755.1</th>\n",
       "      <td>0.001445</td>\n",
       "    </tr>\n",
       "    <tr>\n",
       "      <th>ENSG00000230628.1</th>\n",
       "      <td>0.001371</td>\n",
       "    </tr>\n",
       "    <tr>\n",
       "      <th>ENSG00000258991.1</th>\n",
       "      <td>0.001293</td>\n",
       "    </tr>\n",
       "  </tbody>\n",
       "</table>\n",
       "</div>"
      ],
      "text/plain": [
       "                   Attribution\n",
       "0                             \n",
       "ENSG00000249557.2     0.059499\n",
       "ENSG00000230014.1     0.017374\n",
       "ENSG00000259094.1     0.006563\n",
       "ENSG00000232188.1     0.002411\n",
       "ENSG00000255079.1     0.002313\n",
       "ENSG00000259154.1     0.002009\n",
       "ENSG00000235142.6     0.001847\n",
       "ENSG00000229755.1     0.001445\n",
       "ENSG00000230628.1     0.001371\n",
       "ENSG00000258991.1     0.001293"
      ]
     },
     "execution_count": 49,
     "metadata": {},
     "output_type": "execute_result"
    },
    {
     "data": {
      "image/png": "[encoded data removed]",
      "text/plain": [
       "<Figure size 432x288 with 1 Axes>"
      ]
     },
     "metadata": {
      "needs_background": "light"
     },
     "output_type": "display_data"
    }
   ],
   "source": [
    "attr.shape\n",
    "feat_imp = pd.DataFrame(data=attr.mean(axis=0), index=train_dataset.data.columns, columns=['Attribution'])\n",
    "feat_imp.hist(bins=100)\n",
    "feat_imp.describe()\n",
    "feat_imp.nlargest(10, columns='Attribution')"
   ]
  },
  {
   "cell_type": "code",
   "execution_count": 50,
   "metadata": {},
   "outputs": [
    {
     "data": {
      "text/plain": [
       "1542.9065"
      ]
     },
     "execution_count": 50,
     "metadata": {},
     "output_type": "execute_result"
    },
    {
     "data": {
      "text/plain": [
       "625.08496"
      ]
     },
     "execution_count": 50,
     "metadata": {},
     "output_type": "execute_result"
    },
    {
     "data": {
      "text/plain": [
       "9738775.0"
      ]
     },
     "execution_count": 50,
     "metadata": {},
     "output_type": "execute_result"
    }
   ],
   "source": [
    "pdist = torch.nn.PairwiseDistance(p=2)\n",
    "outdist = pdist(exp_data, ctrl_data)\n",
    "\n",
    "diff = np.round(outdist.detach().numpy() - attr.sum(axis=1), 3)\n",
    "diff.mean(); np.median(diff); diff.var()"
   ]
  },
  {
   "cell_type": "code",
   "execution_count": 51,
   "metadata": {},
   "outputs": [
    {
     "data": {
      "text/plain": [
       "0\n",
       "ENSG00000229028.2    0.007742\n",
       "ENSG00000233304.4    0.005459\n",
       "ENSG00000187242.4    0.004715\n",
       "ENSG00000226374.1    0.002481\n",
       "ENSG00000269621.1    0.002021\n",
       "ENSG00000253488.1    0.001940\n",
       "ENSG00000243766.6    0.001859\n",
       "ENSG00000274244.1    0.001540\n",
       "ENSG00000248738.5    0.001518\n",
       "ENSG00000229943.1    0.001292\n",
       "dtype: float32"
      ]
     },
     "execution_count": 51,
     "metadata": {},
     "output_type": "execute_result"
    },
    {
     "data": {
      "text/plain": [
       "0\n",
       "ENSG00000171004.16    0.007936\n",
       "ENSG00000232715.1     0.006842\n",
       "ENSG00000143512.11    0.006603\n",
       "ENSG00000253160.1     0.004672\n",
       "ENSG00000244619.2     0.004284\n",
       "ENSG00000101977.18    0.004160\n",
       "ENSG00000223414.2     0.004148\n",
       "ENSG00000188997.6     0.004082\n",
       "ENSG00000161055.3     0.003237\n",
       "ENSG00000120211.4     0.003002\n",
       "dtype: float32"
      ]
     },
     "execution_count": 51,
     "metadata": {},
     "output_type": "execute_result"
    },
    {
     "data": {
      "text/plain": [
       "0\n",
       "ENSG00000232188.1     0.069396\n",
       "ENSG00000224814.1     0.004946\n",
       "ENSG00000227802.1     0.003053\n",
       "ENSG00000178836.6     0.002312\n",
       "ENSG00000274246.1     0.002022\n",
       "ENSG00000243135.4     0.001989\n",
       "ENSG00000167165.17    0.001695\n",
       "ENSG00000228445.1     0.001604\n",
       "ENSG00000250997.1     0.001597\n",
       "ENSG00000224718.1     0.001521\n",
       "dtype: float32"
      ]
     },
     "execution_count": 51,
     "metadata": {},
     "output_type": "execute_result"
    },
    {
     "data": {
      "text/plain": [
       "0\n",
       "ENSG00000229755.1     0.013539\n",
       "ENSG00000215943.1     0.010787\n",
       "ENSG00000253968.1     0.008197\n",
       "ENSG00000226975.1     0.008053\n",
       "ENSG00000254320.1     0.005056\n",
       "ENSG00000168703.5     0.004809\n",
       "ENSG00000257842.4     0.003833\n",
       "ENSG00000244067.2     0.003657\n",
       "ENSG00000239810.3     0.003391\n",
       "ENSG00000175121.10    0.003220\n",
       "dtype: float32"
      ]
     },
     "execution_count": 51,
     "metadata": {},
     "output_type": "execute_result"
    },
    {
     "data": {
      "text/plain": [
       "0\n",
       "ENSG00000131737.5     0.011485\n",
       "ENSG00000223716.2     0.011147\n",
       "ENSG00000122585.6     0.011040\n",
       "ENSG00000254083.4     0.003580\n",
       "ENSG00000054938.14    0.003525\n",
       "ENSG00000274167.3     0.003213\n",
       "ENSG00000137673.7     0.002694\n",
       "ENSG00000205293.3     0.002487\n",
       "ENSG00000116031.8     0.002450\n",
       "ENSG00000224865.6     0.002449\n",
       "dtype: float32"
      ]
     },
     "execution_count": 51,
     "metadata": {},
     "output_type": "execute_result"
    },
    {
     "data": {
      "text/plain": [
       "0\n",
       "ENSG00000171004.16    0.007936\n",
       "ENSG00000232715.1     0.006842\n",
       "ENSG00000143512.11    0.006603\n",
       "ENSG00000253160.1     0.004672\n",
       "ENSG00000244619.2     0.004284\n",
       "ENSG00000101977.18    0.004160\n",
       "ENSG00000223414.2     0.004148\n",
       "ENSG00000188997.6     0.004082\n",
       "ENSG00000161055.3     0.003237\n",
       "ENSG00000120211.4     0.003002\n",
       "dtype: float32"
      ]
     },
     "execution_count": 51,
     "metadata": {},
     "output_type": "execute_result"
    },
    {
     "data": {
      "text/plain": [
       "0\n",
       "ENSG00000230014.1     0.486664\n",
       "ENSG00000271307.1     0.035579\n",
       "ENSG00000251297.1     0.015898\n",
       "ENSG00000205745.2     0.007241\n",
       "ENSG00000157087.15    0.006582\n",
       "ENSG00000147570.8     0.006054\n",
       "ENSG00000264451.1     0.004236\n",
       "ENSG00000228695.8     0.003613\n",
       "ENSG00000255433.4     0.003605\n",
       "ENSG00000142609.16    0.003100\n",
       "dtype: float32"
      ]
     },
     "execution_count": 51,
     "metadata": {},
     "output_type": "execute_result"
    },
    {
     "data": {
      "text/plain": [
       "0\n",
       "ENSG00000249557.2    0.833154\n",
       "ENSG00000256321.4    0.012358\n",
       "ENSG00000233258.1    0.008863\n",
       "ENSG00000164089.7    0.007000\n",
       "ENSG00000261277.2    0.005485\n",
       "ENSG00000254926.1    0.005451\n",
       "ENSG00000212899.2    0.005109\n",
       "ENSG00000254842.5    0.004706\n",
       "ENSG00000236960.1    0.004549\n",
       "ENSG00000258712.2    0.003662\n",
       "dtype: float32"
      ]
     },
     "execution_count": 51,
     "metadata": {},
     "output_type": "execute_result"
    },
    {
     "data": {
      "text/plain": [
       "0\n",
       "ENSG00000236303.2    0.002190\n",
       "ENSG00000275508.1    0.002016\n",
       "ENSG00000116031.8    0.001513\n",
       "ENSG00000253479.4    0.001503\n",
       "ENSG00000255361.1    0.001259\n",
       "ENSG00000273561.1    0.001061\n",
       "ENSG00000239389.6    0.001047\n",
       "ENSG00000253130.1    0.001014\n",
       "ENSG00000271894.1    0.000979\n",
       "ENSG00000279359.1    0.000965\n",
       "dtype: float32"
      ]
     },
     "execution_count": 51,
     "metadata": {},
     "output_type": "execute_result"
    },
    {
     "data": {
      "text/plain": [
       "0\n",
       "ENSG00000258417.3    0.007781\n",
       "ENSG00000241244.1    0.003457\n",
       "ENSG00000276348.1    0.002602\n",
       "ENSG00000280412.1    0.001684\n",
       "ENSG00000225724.1    0.001639\n",
       "ENSG00000227386.1    0.001532\n",
       "ENSG00000234270.1    0.001490\n",
       "ENSG00000271220.1    0.001351\n",
       "ENSG00000260573.1    0.001349\n",
       "ENSG00000277683.1    0.001083\n",
       "dtype: float32"
      ]
     },
     "execution_count": 51,
     "metadata": {},
     "output_type": "execute_result"
    },
    {
     "data": {
      "text/plain": [
       "0\n",
       "ENSG00000201923.1    0.004846\n",
       "ENSG00000249764.1    0.003406\n",
       "ENSG00000278139.1    0.001968\n",
       "ENSG00000229142.1    0.001525\n",
       "ENSG00000253900.1    0.001361\n",
       "ENSG00000200839.1    0.001283\n",
       "ENSG00000280493.1    0.001189\n",
       "ENSG00000229188.2    0.001185\n",
       "ENSG00000214660.6    0.000910\n",
       "ENSG00000225870.1    0.000847\n",
       "dtype: float32"
      ]
     },
     "execution_count": 51,
     "metadata": {},
     "output_type": "execute_result"
    },
    {
     "data": {
      "text/plain": [
       "0\n",
       "ENSG00000006611.14    0.022653\n",
       "ENSG00000242207.1     0.012059\n",
       "ENSG00000112499.11    0.005503\n",
       "ENSG00000188162.9     0.005194\n",
       "ENSG00000123838.9     0.004579\n",
       "ENSG00000163283.6     0.004113\n",
       "ENSG00000163295.4     0.004029\n",
       "ENSG00000187533.12    0.003965\n",
       "ENSG00000158764.6     0.003920\n",
       "ENSG00000141639.10    0.003799\n",
       "dtype: float32"
      ]
     },
     "execution_count": 51,
     "metadata": {},
     "output_type": "execute_result"
    },
    {
     "data": {
      "text/plain": [
       "0\n",
       "ENSG00000259154.1    0.055387\n",
       "ENSG00000258991.1    0.033489\n",
       "ENSG00000215545.1    0.015089\n",
       "ENSG00000277716.1    0.014008\n",
       "ENSG00000276079.1    0.012068\n",
       "ENSG00000258567.1    0.011903\n",
       "ENSG00000273534.1    0.010026\n",
       "ENSG00000244302.1    0.009605\n",
       "ENSG00000252151.1    0.008103\n",
       "ENSG00000233040.2    0.006155\n",
       "dtype: float32"
      ]
     },
     "execution_count": 51,
     "metadata": {},
     "output_type": "execute_result"
    },
    {
     "data": {
      "text/plain": [
       "0\n",
       "ENSG00000224920.1     0.004801\n",
       "ENSG00000184672.10    0.004348\n",
       "ENSG00000255406.1     0.003629\n",
       "ENSG00000221741.1     0.002252\n",
       "ENSG00000226321.5     0.001560\n",
       "ENSG00000241634.1     0.001375\n",
       "ENSG00000258271.1     0.001239\n",
       "ENSG00000267324.1     0.001201\n",
       "ENSG00000186710.10    0.000952\n",
       "ENSG00000232480.1     0.000947\n",
       "dtype: float32"
      ]
     },
     "execution_count": 51,
     "metadata": {},
     "output_type": "execute_result"
    },
    {
     "data": {
      "text/plain": [
       "0\n",
       "ENSG00000229755.1     0.013539\n",
       "ENSG00000215943.1     0.010787\n",
       "ENSG00000253968.1     0.008197\n",
       "ENSG00000226975.1     0.008053\n",
       "ENSG00000254320.1     0.005056\n",
       "ENSG00000168703.5     0.004809\n",
       "ENSG00000257842.4     0.003833\n",
       "ENSG00000244067.2     0.003657\n",
       "ENSG00000239810.3     0.003391\n",
       "ENSG00000175121.10    0.003220\n",
       "dtype: float32"
      ]
     },
     "execution_count": 51,
     "metadata": {},
     "output_type": "execute_result"
    },
    {
     "data": {
      "text/plain": [
       "0\n",
       "ENSG00000201923.1    0.004846\n",
       "ENSG00000249764.1    0.003406\n",
       "ENSG00000278139.1    0.001968\n",
       "ENSG00000229142.1    0.001525\n",
       "ENSG00000253900.1    0.001361\n",
       "ENSG00000200839.1    0.001283\n",
       "ENSG00000280493.1    0.001189\n",
       "ENSG00000229188.2    0.001185\n",
       "ENSG00000214660.6    0.000910\n",
       "ENSG00000225870.1    0.000847\n",
       "dtype: float32"
      ]
     },
     "execution_count": 51,
     "metadata": {},
     "output_type": "execute_result"
    },
    {
     "data": {
      "text/plain": [
       "0\n",
       "ENSG00000268751.1    0.021256\n",
       "ENSG00000223648.3    0.019481\n",
       "ENSG00000242207.1    0.010176\n",
       "ENSG00000224041.3    0.009564\n",
       "ENSG00000278982.1    0.008941\n",
       "ENSG00000211904.2    0.007553\n",
       "ENSG00000211662.2    0.006675\n",
       "ENSG00000256709.2    0.005783\n",
       "ENSG00000221793.1    0.005571\n",
       "ENSG00000210741.1    0.005556\n",
       "dtype: float32"
      ]
     },
     "execution_count": 51,
     "metadata": {},
     "output_type": "execute_result"
    },
    {
     "data": {
      "text/plain": [
       "0\n",
       "ENSG00000253338.1     0.005197\n",
       "ENSG00000258381.1     0.004658\n",
       "ENSG00000227244.2     0.003724\n",
       "ENSG00000156222.10    0.003146\n",
       "ENSG00000254645.1     0.002793\n",
       "ENSG00000226336.2     0.002279\n",
       "ENSG00000255344.1     0.001816\n",
       "ENSG00000117148.7     0.001796\n",
       "ENSG00000227275.1     0.001736\n",
       "ENSG00000228131.1     0.001600\n",
       "dtype: float32"
      ]
     },
     "execution_count": 51,
     "metadata": {},
     "output_type": "execute_result"
    },
    {
     "data": {
      "text/plain": [
       "0\n",
       "ENSG00000259094.1     0.091820\n",
       "ENSG00000255079.1     0.032552\n",
       "ENSG00000235142.6     0.025864\n",
       "ENSG00000211917.1     0.015383\n",
       "ENSG00000231586.2     0.012370\n",
       "ENSG00000204889.9     0.011177\n",
       "ENSG00000211819.3     0.010977\n",
       "ENSG00000215398.10    0.010558\n",
       "ENSG00000248538.5     0.009916\n",
       "ENSG00000253862.1     0.009511\n",
       "dtype: float32"
      ]
     },
     "execution_count": 51,
     "metadata": {},
     "output_type": "execute_result"
    },
    {
     "data": {
      "text/plain": [
       "0\n",
       "ENSG00000131737.5     0.011485\n",
       "ENSG00000223716.2     0.011147\n",
       "ENSG00000122585.6     0.011040\n",
       "ENSG00000254083.4     0.003580\n",
       "ENSG00000054938.14    0.003525\n",
       "ENSG00000274167.3     0.003213\n",
       "ENSG00000137673.7     0.002694\n",
       "ENSG00000205293.3     0.002487\n",
       "ENSG00000116031.8     0.002450\n",
       "ENSG00000224865.6     0.002449\n",
       "dtype: float32"
      ]
     },
     "execution_count": 51,
     "metadata": {},
     "output_type": "execute_result"
    },
    {
     "data": {
      "text/plain": [
       "0\n",
       "ENSG00000201923.1    0.004846\n",
       "ENSG00000249764.1    0.003406\n",
       "ENSG00000278139.1    0.001968\n",
       "ENSG00000229142.1    0.001525\n",
       "ENSG00000253900.1    0.001361\n",
       "ENSG00000200839.1    0.001283\n",
       "ENSG00000280493.1    0.001189\n",
       "ENSG00000229188.2    0.001185\n",
       "ENSG00000214660.6    0.000910\n",
       "ENSG00000225870.1    0.000847\n",
       "dtype: float32"
      ]
     },
     "execution_count": 51,
     "metadata": {},
     "output_type": "execute_result"
    },
    {
     "data": {
      "text/plain": [
       "0\n",
       "ENSG00000230628.1     0.019291\n",
       "ENSG00000180424.6     0.011041\n",
       "ENSG00000163536.11    0.006732\n",
       "ENSG00000231674.1     0.004746\n",
       "ENSG00000255259.2     0.003437\n",
       "ENSG00000165490.11    0.003157\n",
       "ENSG00000230834.1     0.002975\n",
       "ENSG00000228044.2     0.002661\n",
       "ENSG00000275293.1     0.002388\n",
       "ENSG00000274306.1     0.002291\n",
       "dtype: float32"
      ]
     },
     "execution_count": 51,
     "metadata": {},
     "output_type": "execute_result"
    },
    {
     "data": {
      "text/plain": [
       "0\n",
       "ENSG00000259094.1     0.091820\n",
       "ENSG00000255079.1     0.032552\n",
       "ENSG00000235142.6     0.025864\n",
       "ENSG00000211917.1     0.015383\n",
       "ENSG00000231586.2     0.012370\n",
       "ENSG00000204889.9     0.011177\n",
       "ENSG00000211819.3     0.010977\n",
       "ENSG00000215398.10    0.010558\n",
       "ENSG00000248538.5     0.009916\n",
       "ENSG00000253862.1     0.009511\n",
       "dtype: float32"
      ]
     },
     "execution_count": 51,
     "metadata": {},
     "output_type": "execute_result"
    },
    {
     "data": {
      "text/plain": [
       "0\n",
       "ENSG00000249557.2    0.833154\n",
       "ENSG00000256321.4    0.012358\n",
       "ENSG00000233258.1    0.008863\n",
       "ENSG00000164089.7    0.007000\n",
       "ENSG00000261277.2    0.005485\n",
       "ENSG00000254926.1    0.005451\n",
       "ENSG00000212899.2    0.005109\n",
       "ENSG00000254842.5    0.004706\n",
       "ENSG00000236960.1    0.004549\n",
       "ENSG00000258712.2    0.003662\n",
       "dtype: float32"
      ]
     },
     "execution_count": 51,
     "metadata": {},
     "output_type": "execute_result"
    },
    {
     "data": {
      "text/plain": [
       "0\n",
       "ENSG00000230628.1     0.019291\n",
       "ENSG00000180424.6     0.011041\n",
       "ENSG00000163536.11    0.006732\n",
       "ENSG00000231674.1     0.004746\n",
       "ENSG00000255259.2     0.003437\n",
       "ENSG00000165490.11    0.003157\n",
       "ENSG00000230834.1     0.002975\n",
       "ENSG00000228044.2     0.002661\n",
       "ENSG00000275293.1     0.002388\n",
       "ENSG00000274306.1     0.002291\n",
       "dtype: float32"
      ]
     },
     "execution_count": 51,
     "metadata": {},
     "output_type": "execute_result"
    },
    {
     "data": {
      "text/plain": [
       "0\n",
       "ENSG00000229755.1     0.013539\n",
       "ENSG00000215943.1     0.010787\n",
       "ENSG00000253968.1     0.008197\n",
       "ENSG00000226975.1     0.008053\n",
       "ENSG00000254320.1     0.005056\n",
       "ENSG00000168703.5     0.004809\n",
       "ENSG00000257842.4     0.003833\n",
       "ENSG00000244067.2     0.003657\n",
       "ENSG00000239810.3     0.003391\n",
       "ENSG00000175121.10    0.003220\n",
       "dtype: float32"
      ]
     },
     "execution_count": 51,
     "metadata": {},
     "output_type": "execute_result"
    },
    {
     "data": {
      "text/plain": [
       "0\n",
       "ENSG00000224920.1     0.004801\n",
       "ENSG00000184672.10    0.004348\n",
       "ENSG00000255406.1     0.003629\n",
       "ENSG00000221741.1     0.002252\n",
       "ENSG00000226321.5     0.001560\n",
       "ENSG00000241634.1     0.001375\n",
       "ENSG00000258271.1     0.001239\n",
       "ENSG00000267324.1     0.001201\n",
       "ENSG00000186710.10    0.000952\n",
       "ENSG00000232480.1     0.000947\n",
       "dtype: float32"
      ]
     },
     "execution_count": 51,
     "metadata": {},
     "output_type": "execute_result"
    },
    {
     "data": {
      "text/plain": [
       "0\n",
       "ENSG00000253497.1     0.012719\n",
       "ENSG00000049247.12    0.010849\n",
       "ENSG00000211924.1     0.009958\n",
       "ENSG00000259680.5     0.009766\n",
       "ENSG00000270685.1     0.009671\n",
       "ENSG00000232216.1     0.009518\n",
       "ENSG00000211668.2     0.007633\n",
       "ENSG00000253386.1     0.007263\n",
       "ENSG00000253278.1     0.006681\n",
       "ENSG00000211951.2     0.006658\n",
       "dtype: float32"
      ]
     },
     "execution_count": 51,
     "metadata": {},
     "output_type": "execute_result"
    }
   ],
   "source": [
    "for i in range(len(attr)):\n",
    "    attr_samp = pd.Series(attr[i], index=train_dataset.data.columns)\n",
    "    attr_samp.nlargest(10)"
   ]
  },
  {
   "cell_type": "code",
   "execution_count": null,
   "metadata": {},
   "outputs": [],
   "source": []
  }
 ],
 "metadata": {
  "kernelspec": {
   "display_name": "torch",
   "language": "python",
   "name": "torch"
  },
  "language_info": {
   "codemirror_mode": {
    "name": "ipython",
    "version": 3
   },
   "file_extension": ".py",
   "mimetype": "text/x-python",
   "name": "python",
   "nbconvert_exporter": "python",
   "pygments_lexer": "ipython3",
   "version": "3.7.3"
  }
 },
 "nbformat": 4,
 "nbformat_minor": 2
}
